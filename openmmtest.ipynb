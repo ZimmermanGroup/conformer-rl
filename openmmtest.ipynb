{
 "cells": [
  {
   "cell_type": "code",
   "execution_count": null,
   "metadata": {},
   "outputs": [],
   "source": [
    "import openforcefield as off\n",
    "from rdkit import Chem\n",
    "from rdkit.Chem import AllChem\n",
    "from simtk import openmm, unit\n",
    "from simtk.openmm import app\n",
    "from openforcefield.topology import Topology\n",
    "from openforcefield.topology import Molecule\n",
    "from openforcefield.typing.engines.smirnoff import ForceField\n",
    "from rdkit.Chem.Draw import IPythonConsole\n",
    "\n",
    "from simtk.openmm.openmm import Platform\n"
   ]
  },
  {
   "cell_type": "code",
   "execution_count": null,
   "metadata": {},
   "outputs": [],
   "source": [
    "import openmmtools\n",
    "pts = openmmtools.utils.get_available_platforms()\n",
    "\n",
    "for plat in pts:\n",
    "    print(plat.getName())\n",
    "    \n",
    "openmmtools.utils.get_fastest_platform().getName()"
   ]
  },
  {
   "cell_type": "code",
   "execution_count": null,
   "metadata": {},
   "outputs": [],
   "source": [
    "ff = ForceField('test_forcefields/smirnoff99Frosst.offxml')"
   ]
  },
  {
   "cell_type": "code",
   "execution_count": null,
   "metadata": {},
   "outputs": [],
   "source": [
    "%time rdmol = Chem.MolFromSmiles('CCCCCCCCCCCCCCCCCCCCCCCCCCCCCCCCCCCCCCCCCCCC')\n",
    "%time rdmol = Chem.AddHs(rdmol)\n",
    "%time AllChem.EmbedMolecule(rdmol)\n",
    "# Chem.rdmolops.AssignAtomChiralTagsFromStructure(rdmol)\n",
    "%time ofmol = Molecule.from_rdkit(rdmol)\n",
    "\n",
    "# ofmol.generate_conformers(n_conformers=10)\n",
    "%time topology = ofmol.to_topology()\n",
    "\n",
    "%time org_system = ff.create_openmm_system(topology)\n",
    "# pos = ofmol.conformers[0]\n",
    "\n"
   ]
  },
  {
   "cell_type": "code",
   "execution_count": null,
   "metadata": {},
   "outputs": [],
   "source": [
    "pos = ofmol.conformers[0]"
   ]
  },
  {
   "cell_type": "code",
   "execution_count": null,
   "metadata": {},
   "outputs": [],
   "source": [
    "def get_energy(system, positions, platform):\n",
    "    integrator = openmm.VerletIntegrator(1.0 * unit.femtoseconds)\n",
    "    context = openmm.Context(system, integrator, platform)\n",
    "    context.setPositions(positions)\n",
    "    state = context.getState(getEnergy=True)\n",
    "    energy = state.getPotentialEnergy().in_units_of(unit.kilocalories_per_mole)\n",
    "    return energy\n",
    "\n",
    "rdmol = Chem.MolFromSmiles('CCCCCCCCCCCCCCCC')\n",
    "rdmol = Chem.AddHs(rdmol)\n",
    "AllChem.EmbedMolecule(rdmol)\n",
    "# Chem.rdmolops.AssignAtomChiralTagsFromStructure(rdmol)\n",
    "ofmol = Molecule.from_rdkit(rdmol)\n",
    "\n",
    "# ofmol.generate_conformers(n_conformers=10)\n",
    "topology = ofmol.to_topology()\n",
    "\n",
    "org_system = ff.create_openmm_system(topology)\n",
    "pos = ofmol.conformers[0]"
   ]
  },
  {
   "cell_type": "code",
   "execution_count": null,
   "metadata": {},
   "outputs": [],
   "source": [
    "for plat in openmmtools.utils.get_available_platforms():\n",
    "    print(plat.getName())\n",
    "    %timeit get_energy(org_system, pos, plat)"
   ]
  },
  {
   "cell_type": "code",
   "execution_count": null,
   "metadata": {},
   "outputs": [],
   "source": [
    "from simtk.openmm.openmm import Platform\n",
    "\n",
    "new_system = ff.create_openmm_system(topology)\n",
    "# new_energy = get_energy(new_system, pos)\n",
    "from sys import stdout\n",
    "def minimizeOpenMM(Topology, System, Positions, platform):\n",
    "    \n",
    "    platform = Platform.getPlatformByName('CPU')\n",
    "#     properties = {'DeviceIndex': '0', 'Precision': 'double'}\n",
    "    integrator = openmm.LangevinIntegrator(\n",
    "                                        300.0 * unit.kelvin,\n",
    "                                        1.0 / unit.picosecond,\n",
    "                                        2.0 * unit.femtosecond)\n",
    "                                        #.002 * unit.picoseconds)\n",
    "    simulation = app.Simulation(Topology, System, integrator, platform)\n",
    "    simulation.context.setPositions(Positions)\n",
    "    simulation.minimizeEnergy(tolerance=5.0E-9, maxIterations=2000)\n",
    "#     state =  simulation.context.getState(getPositions=True, getEnergy=True)\n",
    "#     positions =state.getPositions(asNumpy=True)\n",
    "#     energy = state.getPotentialEnergy().in_units_of(unit.kilocalories_per_mole)\n",
    "     \n",
    "#     simulation.reporters.append(app.StateDataReporter(stdout, 1000, step=True, potentialEnergy=True, temperature=True))\n",
    "#     simulation.step(30000)\n",
    "#     print(energy)\n",
    "#     positions = positions / unit.angstroms\n",
    "#     coordlist = list()\n",
    "#     for atom_coords in positions:\n",
    "#         coordlist += [i for i in atom_coords]\n",
    "#     return coordlist, positions\n",
    "    return None, None\n",
    "\n",
    "for plat in openmmtools.utils.get_available_platforms():\n",
    "    print(plat.getName())\n",
    "    ofmol.generate_conformers(n_conformers=1)\n",
    "    topology = ofmol.to_topology()\n",
    "\n",
    "    org_system = ff.create_openmm_system(topology)\n",
    "    pos = ofmol.conformers[0]\n",
    "    %time _, _=minimizeOpenMM(topology, org_system, pos, plat)"
   ]
  },
  {
   "cell_type": "code",
   "execution_count": null,
   "metadata": {},
   "outputs": [],
   "source": []
  },
  {
   "cell_type": "code",
   "execution_count": 1,
   "metadata": {},
   "outputs": [
    {
     "name": "stderr",
     "output_type": "stream",
     "text": [
      "Warning: Unable to load toolkit 'OpenEye Toolkit'. The Open Force Field Toolkit does not require the OpenEye Toolkits, and can use RDKit/AmberTools instead. However, if you have a valid license for the OpenEye Toolkits, consider installing them for faster performance and additional file format support: https://docs.eyesopen.com/toolkits/python/quickstart-python/linuxosx.html OpenEye offers free Toolkit licenses for academics: https://www.eyesopen.com/academic-licensing\n"
     ]
    }
   ],
   "source": [
    "from rdkit import Chem\n",
    "from rdkit.Chem import AllChem\n",
    "from rdkit.Chem import Draw\n",
    "from rdkit.Chem.Draw import IPythonConsole\n",
    "import py3Dmol\n",
    "from simtk.openmm import openmm\n",
    "\n",
    "from openforcefield.topology import Molecule\n",
    "\n",
    "# Define the keyword arguments to feed to ForceField\n",
    "from simtk import unit\n",
    "from simtk.openmm import app"
   ]
  },
  {
   "cell_type": "code",
   "execution_count": 2,
   "metadata": {},
   "outputs": [
    {
     "data": {
      "text/plain": [
       "0"
      ]
     },
     "execution_count": 2,
     "metadata": {},
     "output_type": "execute_result"
    }
   ],
   "source": [
    "from rdkit import Chem\n",
    "from rdkit.Chem.rdmolfiles import SDWriter\n",
    "# molOrig = Chem.MolFromSmiles(\"COc1cc(C2Oc3c(OC)cc(C=CCO)cc3C2CO)ccc1[O]\")\n",
    "molOrig = Chem.MolFromSmiles('COc1cc(C(O)C(CO)Oc2c(OC)cc(C(O)C(CO)Oc3ccc(C4Oc5c(OC)cc(C6Oc7c(OC)cc(C8Oc9c(OC)cc(C=CCO)cc9C8CO)cc7C6CO)cc5C4CO)cc3OC)cc2-c2cc(C3OCC4C(c5ccc(O)c(OC)c5)OCC34)cc(OC)c2O)ccc1O')\n",
    "molOrig = Chem.AddHs(molOrig)\n",
    "res = Chem.AllChem.EmbedMolecule(molOrig)\n",
    "Chem.AllChem.MMFFOptimizeMoleculeConfs(molOrig)\n",
    "\n",
    "\n",
    "Chem.rdmolops.GetFormalCharge(molOrig)\n",
    "\n",
    "# writer = SDWriter('out.sdf')\n",
    "# for mol in [molOrig]:\n",
    "#     writer.write(mol)"
   ]
  },
  {
   "cell_type": "code",
   "execution_count": null,
   "metadata": {},
   "outputs": [
    {
     "name": "stderr",
     "output_type": "stream",
     "text": [
      "Warning (not error because allow_undefined_stereo=True): \n",
      "Warning (not error because allow_undefined_stereo=True): \n"
     ]
    },
    {
     "name": "stdout",
     "output_type": "stream",
     "text": [
      "Checking against [H][O][C]1=[C]([H])[C]([H])=[C]([C]2([H])[O][C]3=[C]([O][C]([H])([H])[H])[C]([H])=[C]([C]([H])=[C]([H])[C]([H])([H])[O][H])[C]([H])=[C]3[C]2([H])[C]([H])([H])[O][H])[C]([H])=[C]1[O][C]([H])([H])[H]\n"
     ]
    },
    {
     "name": "stderr",
     "output_type": "stream",
     "text": [
      "Warning (not error because allow_undefined_stereo=True): \n",
      "Warning: In AmberToolsToolkitwrapper.compute_partial_charges_am1bcc: Molecule 'molecule' has more than one conformer, but this function will only generate charges for the first one.\n"
     ]
    }
   ],
   "source": [
    "# AllChem.EmbedMolecule(molOrig)\n",
    "# Chem.rdmolops.AssignAtomChiralTagsFromStructure(molOrig)\n",
    "from openforcefield.topology import Molecule\n",
    "ofmol = Molecule.from_rdkit(molOrig, allow_undefined_stereo=True)\n",
    "# ofmol = Molecule.from_smiles('COc1cc(C2Oc3c(OC)cc(C=CCO)cc3C2CO)ccc1[O]', allow_undefined_stereo=True)\n",
    "# ofmol = Molecule.from_smiles(ofmol.to_smiles(), allow_undefined_stereo=True)\n",
    "\n",
    "#generate_unique_atom_names(ofmol)\n",
    "# %time ofmol.generate_conformers(n_conformers=1)\n",
    "pos = ofmol.conformers[0]\n",
    "ofmol.name = 'molecule'\n",
    "\n",
    "from simtk.openmm import app\n",
    "from simtk import unit\n",
    "forcefield_kwargs = { 'constraints' : app.HBonds, 'rigidWater' : True, 'removeCMMotion' : False, 'hydrogenMass' : 4*unit.amu }\n",
    "# Initialize a SystemGenerator using GAFF\n",
    "from openmmforcefields.generators import SystemGenerator\n",
    "system_generator = SystemGenerator(small_molecule_forcefield='gaff-2.11', molecules=[ofmol], forcefield_kwargs=forcefield_kwargs, cache='db10.json')\n",
    "# Create an OpenMM System from an OpenMM Topology object\n",
    "%time system = system_generator.create_system(ofmol.to_topology().to_openmm())\n",
    "# takes nearly 2 minutes wall time on first go, have to ask why"
   ]
  },
  {
   "cell_type": "code",
   "execution_count": 8,
   "metadata": {},
   "outputs": [
    {
     "name": "stdout",
     "output_type": "stream",
     "text": [
      "Reference\n",
      "CPU times: user 2.28 ms, sys: 1.09 ms, total: 3.37 ms\n",
      "Wall time: 2.11 ms\n",
      "CPU\n",
      "CPU times: user 2.86 ms, sys: 6.62 ms, total: 9.48 ms\n",
      "Wall time: 5 ms\n",
      "CUDA\n",
      "CPU times: user 25.5 ms, sys: 145 ms, total: 171 ms\n",
      "Wall time: 208 ms\n",
      "OpenCL\n",
      "CPU times: user 45.1 ms, sys: 131 ms, total: 176 ms\n",
      "Wall time: 256 ms\n"
     ]
    }
   ],
   "source": [
    "def get_energy(system, positions, platform):\n",
    "    integrator = openmm.VerletIntegrator(1.0 * unit.femtoseconds)\n",
    "    context = openmm.Context(system, integrator, platform)\n",
    "    context.setPositions(positions)\n",
    "    state = context.getState(getEnergy=True)\n",
    "    energy = state.getPotentialEnergy().in_units_of(unit.kilocalories_per_mole)\n",
    "    return energy\n",
    "\n",
    "\n",
    "import openmmtools\n",
    "pts = openmmtools.utils.get_available_platforms()\n",
    "\n",
    "for plat in pts:\n",
    "    print(plat.getName())\n",
    "    %time get_energy(system, pos, plat)"
   ]
  },
  {
   "cell_type": "code",
   "execution_count": null,
   "metadata": {},
   "outputs": [],
   "source": []
  }
 ],
 "metadata": {
  "kernelspec": {
   "display_name": "Python 3",
   "language": "python",
   "name": "python3"
  },
  "language_info": {
   "codemirror_mode": {
    "name": "ipython",
    "version": 3
   },
   "file_extension": ".py",
   "mimetype": "text/x-python",
   "name": "python",
   "nbconvert_exporter": "python",
   "pygments_lexer": "ipython3",
   "version": "3.6.9"
  }
 },
 "nbformat": 4,
 "nbformat_minor": 2
}

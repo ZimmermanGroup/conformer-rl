{
 "cells": [
  {
   "cell_type": "code",
   "execution_count": 1,
   "metadata": {},
   "outputs": [
    {
     "name": "stderr",
     "output_type": "stream",
     "text": [
      "/export/zimmerman/tgog/.local/lib/python3.6/site-packages/sklearn/externals/joblib/__init__.py:15: DeprecationWarning: sklearn.externals.joblib is deprecated in 0.21 and will be removed in 0.23. Please import this functionality directly from joblib, which can be installed with: pip install joblib. If this warning is raised when loading pickled models, you may need to re-serialize those models with scikit-learn 0.21+.\n",
      "  warnings.warn(msg, category=DeprecationWarning)\n"
     ]
    },
    {
     "name": "stdout",
     "output_type": "stream",
     "text": [
      "importing alkanes\n",
      "1\n",
      "3\n",
      "5\n",
      "7\n",
      "2\n",
      "4\n",
      "6\n",
      "8\n",
      "9\n",
      "11\n",
      "13\n",
      "15\n",
      "17\n",
      "glug glug\n"
     ]
    }
   ],
   "source": [
    "import alkanes\n",
    "from alkanes import *\n",
    "\n",
    "import nglview as nv\n",
    "from rdkit import Chem, DataStructs, RDConfig, rdBase\n",
    "from rdkit import rdBase\n",
    "from rdkit.Chem import AllChem, TorsionFingerprints\n",
    "from rdkit.Chem import Draw,PyMol,rdFMCS\n",
    "from rdkit.Chem.Draw import IPythonConsole"
   ]
  },
  {
   "cell_type": "code",
   "execution_count": 2,
   "metadata": {},
   "outputs": [],
   "source": [
    "def load_from_sdf(sdf_file):\n",
    "    \"\"\"\n",
    "    \"\"\"\n",
    "    suppl = Chem.SDMolSupplier(sdf_file, removeHs=False) #, strictParsing=False\n",
    "    sdf_mols = [mol for mol in suppl]\n",
    "    return sdf_mols"
   ]
  },
  {
   "cell_type": "code",
   "execution_count": 3,
   "metadata": {},
   "outputs": [],
   "source": [
    "mols = load_from_sdf('./alkanes/alkanes.sdf') \n",
    "\n",
    "x = [\n",
    "    [-60.00000000000001, 180.0, -59.99999999999999, -59.99999999999993, -59.99999999999993, -60.0000000000001, 59.999999999999986],\n",
    "    [-60.00000000000002, 180.0, 180.0, 179.99999999999997, 179.99999999999997, 180.0, -59.99999999999996],\n",
    "    [59.99999999999999, 180.0, 180.0, 180.0, 180.0, 180.0, 179.99999999999997],\n",
    "    [-180.0, 180.0, 180.0, -180.0, 59.99999999999999, 180.0, 180.0],\n",
    "    [180.0, 180.0, -180.0, 180.0, 60.00000000000001, -59.999999999999986, -180.0],\n",
    "    [180.0, 180.0, 60.00000000000001, 180.0, 180.0, 59.99999999999999, 179.99999999999997],\n",
    "    [-59.99999999999999, 180.0, -180.0, 180.0, 59.99999999999996, -180.0, -180.0],\n",
    "    [-60.00000000000002, 180.0, 180.0, 179.99999999999997, -180.0, 59.999999999999986, -180.0],\n",
    "    [-180.0, 180.0, -180.0, 180.0, 180.0, -180.0, 180.0],\n",
    "]\n",
    "\n",
    "m = mols[-1]\n",
    "\n",
    "m = Chem.rdmolops.AddHs(m)\n",
    "AllChem.EmbedMultipleConfs(m, numConfs=10)\n",
    "Chem.AllChem.MMFFOptimizeMoleculeConfs(m)\n",
    "nonring, ring = TorsionFingerprints.CalculateTorsionLists(m)\n",
    "\n",
    "for i, torsions in enumerate(x):\n",
    "    conf = m.GetConformer(id=i)\n",
    "\n",
    "    for idx, tors in enumerate(nonring):\n",
    "        atoms, ang = tors\n",
    "        tup = atoms[0]\n",
    "        deg = Chem.rdMolTransforms.GetDihedralDeg(conf, *tup)\n",
    "        Chem.rdMolTransforms.SetDihedralDeg(conf, *tup, x[i][idx])\n",
    "\n",
    "\n",
    "rmslist = []\n",
    "AllChem.AlignMolConformers(m, RMSlist=rmslist)"
   ]
  },
  {
   "cell_type": "code",
   "execution_count": 4,
   "metadata": {},
   "outputs": [
    {
     "data": {
      "application/vnd.jupyter.widget-view+json": {
       "model_id": "939967ca8e40469f949a2525eccb13da",
       "version_major": 2,
       "version_minor": 0
      },
      "text/plain": [
       "NGLWidget()"
      ]
     },
     "metadata": {},
     "output_type": "display_data"
    }
   ],
   "source": [
    "nv.show_rdkit(m)"
   ]
  },
  {
   "cell_type": "code",
   "execution_count": null,
   "metadata": {},
   "outputs": [],
   "source": [
    "from matplotlib.patches import Patch\n",
    "from matplotlib.lines import Line2D\n",
    "\n",
    "legend_elements = [Line2D([0], [0], color='#bababa', lw=8, label='Memory, All Actions'),\n",
    "                   Line2D([0], [0], color='#ff6e42', lw=8, label='Memoryless, All Actions'),\n",
    "                   Line2D([0], [0], color='#009a87', lw=8, label='Memory, Few Actions'),\n",
    "                   Line2D([0], [0], color='#ee3375', lw=8, label='Memoryless, Few Actions'),\n",
    "]\n",
    "\n",
    "# Create the figure\n",
    "fig, ax = plt.subplots()\n",
    "ax.legend(handles=legend_elements, loc='center', prop={'size': 16})\n",
    "\n",
    "plt.show()"
   ]
  },
  {
   "cell_type": "code",
   "execution_count": 140,
   "metadata": {},
   "outputs": [
    {
     "name": "stdout",
     "output_type": "stream",
     "text": [
      "1\n",
      "3\n",
      "5\n",
      "7\n",
      "2\n",
      "4\n",
      "6\n",
      "8\n",
      "9\n",
      "11\n",
      "13\n",
      "15\n",
      "17\n"
     ]
    }
   ],
   "source": [
    "mols = load_from_sdf('./alkanes/alkanes.sdf') \n",
    "mols += load_from_sdf('./alkanes/pentane.sdf')\n",
    "mols += load_from_sdf('./alkanes/heptane.sdf') \n",
    "mols += load_from_sdf('./alkanes/nonane.sdf') \n",
    "mols += load_from_sdf('./alkanes/11_alkane.sdf') \n",
    "mols += load_from_sdf('./alkanes/12_alkane.sdf') \n",
    "mols += load_from_sdf('./alkanes/14_alkane.sdf') \n",
    "mols += load_from_sdf('./alkanes/16_alkane.sdf') \n",
    "mols += load_from_sdf('./alkanes/18_alkane.sdf') \n",
    "mols += load_from_sdf('./alkanes/20_alkane.sdf') \n",
    "\n",
    "mols_by_rbn = {}\n",
    "\n",
    "for mol in mols:\n",
    "    m = Chem.rdmolops.AddHs(mol)\n",
    "    AllChem.EmbedMolecule(m)\n",
    "    nonring, ring = TorsionFingerprints.CalculateTorsionLists(m)\n",
    "    conf = m.GetConformer(id=0)\n",
    "    for tors in nonring:\n",
    "        atoms, ang = tors\n",
    "        tup = atoms[0]\n",
    "        deg = Chem.rdMolTransforms.GetDihedralDeg(conf, *tup)\n",
    "        Chem.rdMolTransforms.SetDihedralDeg(conf, *tup, 180.0)\n",
    "\n",
    "    Chem.AllChem.MMFFOptimizeMolecule(m)\n",
    "\n",
    "    atoms = m.GetNumAtoms()\n",
    "    rbn = Chem.rdMolDescriptors.CalcNumRotatableBonds(m) - 2 \n",
    "    print(rbn)\n",
    "    mols_by_rbn[rbn] = m\n",
    "  "
   ]
  },
  {
   "cell_type": "code",
   "execution_count": 141,
   "metadata": {},
   "outputs": [
    {
     "name": "stdout",
     "output_type": "stream",
     "text": [
      "1 160.1279753302516\n",
      "2 194.75696548408018\n",
      "3 238.51611413184645\n",
      "4 292.8591987852375\n",
      "5 359.91076597184303\n",
      "6 442.49138485125803\n",
      "7 544.116722375842\n",
      "8 669.1430288297627\n",
      "9 822.9365158123578\n",
      "11 1244.775957296541\n",
      "13 1882.9274492078068\n",
      "15 2848.2820107736475\n",
      "17 4308.517744710433\n"
     ]
    }
   ],
   "source": [
    "confgen = ConformerGeneratorCustom(max_conformers=1, \n",
    "                 rmsd_threshold=None, \n",
    "                 force_field='mmff',\n",
    "                 pool_multiplier=1)  \n",
    "\n",
    "energy_max = {}\n",
    "for num, mol in sorted(mols_by_rbn.items()):\n",
    "    energy = np.exp(-1.0 * confgen.get_conformer_energies(mol)[0])\n",
    "    print(num, energy)\n",
    "    energy_max[num] = energy"
   ]
  },
  {
   "cell_type": "code",
   "execution_count": 142,
   "metadata": {},
   "outputs": [],
   "source": [
    "def get_n(rbn):\n",
    "    if rbn <= 3:\n",
    "        n = 25\n",
    "    elif rbn == 4 or rbn == 5:\n",
    "        n = 50\n",
    "    elif rbn == 6 or rbn == 7:\n",
    "        n = 100\n",
    "    else:\n",
    "        n = 200\n",
    "        \n",
    "    return n"
   ]
  },
  {
   "cell_type": "code",
   "execution_count": 143,
   "metadata": {},
   "outputs": [
    {
     "name": "stdout",
     "output_type": "stream",
     "text": [
      "1 total is 298.2976919525584\n",
      "number of conformations is 3\n",
      "max is 160.1279753302516\n",
      "Z/max ratio is 1.8628705654795326\n",
      "top n conformers is 298.2976919525584\n",
      "mean time 0.005072210001041337\n",
      "2 total is 586.8618761962805\n",
      "number of conformations is 9\n",
      "max is 194.75696548408018\n",
      "Z/max ratio is 3.013303656367822\n",
      "top n conformers is 586.8618761962805\n",
      "mean time 0.006146624777304371\n",
      "3 total is 1165.96340306337\n",
      "number of conformations is 27\n",
      "max is 238.51611413184645\n",
      "Z/max ratio is 4.888405159992046\n",
      "top n conformers is 1165.963395952183\n",
      "mean time 0.008530116333093718\n",
      "4 total is 2335.3407079008293\n",
      "number of conformations is 81\n",
      "max is 292.8591987852375\n",
      "Z/max ratio is 7.97427814317489\n",
      "top n conformers is 2333.1421795264077\n",
      "mean time 0.012622956111078599\n",
      "5 total is 4691.896132512742\n",
      "number of conformations is 243\n",
      "max is 359.91076597184303\n",
      "Z/max ratio is 13.0362761442924\n",
      "top n conformers is 3572.350335700116\n",
      "mean time 0.017424173502097243\n",
      "6 total is 9457.892895270266\n",
      "number of conformations is 729\n",
      "max is 442.49138485125803\n",
      "Z/max ratio is 21.374185394478367\n",
      "top n conformers is 6797.137366295856\n",
      "mean time 0.022963322045381575\n",
      "7 total is 15099.886697178925\n",
      "number of conformations is 2187\n",
      "max is 544.116722375842\n",
      "Z/max ratio is 27.75119027999449\n",
      "top n conformers is 8645.893996411598\n",
      "mean time 0.02330963472618286\n"
     ]
    },
    {
     "ename": "KeyboardInterrupt",
     "evalue": "",
     "output_type": "error",
     "traceback": [
      "\u001b[0;31m---------------------------------------------------------------------------\u001b[0m",
      "\u001b[0;31mKeyboardInterrupt\u001b[0m                         Traceback (most recent call last)",
      "\u001b[0;32m<ipython-input-143-3096d24946e7>\u001b[0m in \u001b[0;36m<module>\u001b[0;34m\u001b[0m\n\u001b[1;32m     38\u001b[0m         \u001b[0mtimes\u001b[0m\u001b[0;34m.\u001b[0m\u001b[0mappend\u001b[0m\u001b[0;34m(\u001b[0m\u001b[0mtime\u001b[0m\u001b[0;34m.\u001b[0m\u001b[0mprocess_time\u001b[0m\u001b[0;34m(\u001b[0m\u001b[0;34m)\u001b[0m \u001b[0;34m-\u001b[0m \u001b[0mstart\u001b[0m\u001b[0;34m)\u001b[0m\u001b[0;34m\u001b[0m\u001b[0;34m\u001b[0m\u001b[0m\n\u001b[1;32m     39\u001b[0m \u001b[0;34m\u001b[0m\u001b[0m\n\u001b[0;32m---> 40\u001b[0;31m         \u001b[0mnonring\u001b[0m\u001b[0;34m,\u001b[0m \u001b[0mring\u001b[0m \u001b[0;34m=\u001b[0m \u001b[0mTorsionFingerprints\u001b[0m\u001b[0;34m.\u001b[0m\u001b[0mCalculateTorsionLists\u001b[0m\u001b[0;34m(\u001b[0m\u001b[0mm\u001b[0m\u001b[0;34m)\u001b[0m\u001b[0;34m\u001b[0m\u001b[0;34m\u001b[0m\u001b[0m\n\u001b[0m\u001b[1;32m     41\u001b[0m         \u001b[0mconf\u001b[0m \u001b[0;34m=\u001b[0m \u001b[0mm\u001b[0m\u001b[0;34m.\u001b[0m\u001b[0mGetConformer\u001b[0m\u001b[0;34m(\u001b[0m\u001b[0mid\u001b[0m\u001b[0;34m=\u001b[0m\u001b[0;36m0\u001b[0m\u001b[0;34m)\u001b[0m\u001b[0;34m\u001b[0m\u001b[0;34m\u001b[0m\u001b[0m\n\u001b[1;32m     42\u001b[0m         \u001b[0mtups\u001b[0m \u001b[0;34m=\u001b[0m \u001b[0;34m[\u001b[0m\u001b[0matoms\u001b[0m\u001b[0;34m[\u001b[0m\u001b[0;36m0\u001b[0m\u001b[0;34m]\u001b[0m \u001b[0;32mfor\u001b[0m \u001b[0matoms\u001b[0m\u001b[0;34m,\u001b[0m \u001b[0mang\u001b[0m \u001b[0;32min\u001b[0m \u001b[0mnonring\u001b[0m\u001b[0;34m]\u001b[0m\u001b[0;34m\u001b[0m\u001b[0;34m\u001b[0m\u001b[0m\n",
      "\u001b[0;32m~/.conda/envs/my-rdkit-env/lib/python3.6/site-packages/rdkit/Chem/TorsionFingerprints.py\u001b[0m in \u001b[0;36mCalculateTorsionLists\u001b[0;34m(mol, maxDev, symmRadius, ignoreColinearBonds)\u001b[0m\n\u001b[1;32m    227\u001b[0m   \u001b[0;31m# get atom invariants\u001b[0m\u001b[0;34m\u001b[0m\u001b[0;34m\u001b[0m\u001b[0;34m\u001b[0m\u001b[0m\n\u001b[1;32m    228\u001b[0m   \u001b[0;32mif\u001b[0m \u001b[0msymmRadius\u001b[0m \u001b[0;34m>\u001b[0m \u001b[0;36m0\u001b[0m\u001b[0;34m:\u001b[0m\u001b[0;34m\u001b[0m\u001b[0;34m\u001b[0m\u001b[0m\n\u001b[0;32m--> 229\u001b[0;31m     \u001b[0minv\u001b[0m \u001b[0;34m=\u001b[0m \u001b[0m_getAtomInvariantsWithRadius\u001b[0m\u001b[0;34m(\u001b[0m\u001b[0mmol\u001b[0m\u001b[0;34m,\u001b[0m \u001b[0msymmRadius\u001b[0m\u001b[0;34m)\u001b[0m\u001b[0;34m\u001b[0m\u001b[0;34m\u001b[0m\u001b[0m\n\u001b[0m\u001b[1;32m    230\u001b[0m   \u001b[0;32melse\u001b[0m\u001b[0;34m:\u001b[0m\u001b[0;34m\u001b[0m\u001b[0;34m\u001b[0m\u001b[0m\n\u001b[1;32m    231\u001b[0m     \u001b[0minv\u001b[0m \u001b[0;34m=\u001b[0m \u001b[0mrdMolDescriptors\u001b[0m\u001b[0;34m.\u001b[0m\u001b[0mGetConnectivityInvariants\u001b[0m\u001b[0;34m(\u001b[0m\u001b[0mmol\u001b[0m\u001b[0;34m)\u001b[0m\u001b[0;34m\u001b[0m\u001b[0;34m\u001b[0m\u001b[0m\n",
      "\u001b[0;32m~/.conda/envs/my-rdkit-env/lib/python3.6/site-packages/rdkit/Chem/TorsionFingerprints.py\u001b[0m in \u001b[0;36m_getAtomInvariantsWithRadius\u001b[0;34m(mol, radius)\u001b[0m\n\u001b[1;32m     93\u001b[0m   \u001b[0;32mfor\u001b[0m \u001b[0mi\u001b[0m \u001b[0;32min\u001b[0m \u001b[0mrange\u001b[0m\u001b[0;34m(\u001b[0m\u001b[0mmol\u001b[0m\u001b[0;34m.\u001b[0m\u001b[0mGetNumAtoms\u001b[0m\u001b[0;34m(\u001b[0m\u001b[0;34m)\u001b[0m\u001b[0;34m)\u001b[0m\u001b[0;34m:\u001b[0m\u001b[0;34m\u001b[0m\u001b[0;34m\u001b[0m\u001b[0m\n\u001b[1;32m     94\u001b[0m     \u001b[0minfo\u001b[0m \u001b[0;34m=\u001b[0m \u001b[0;34m{\u001b[0m\u001b[0;34m}\u001b[0m\u001b[0;34m\u001b[0m\u001b[0;34m\u001b[0m\u001b[0m\n\u001b[0;32m---> 95\u001b[0;31m     \u001b[0mfp\u001b[0m \u001b[0;34m=\u001b[0m \u001b[0mrdMolDescriptors\u001b[0m\u001b[0;34m.\u001b[0m\u001b[0mGetMorganFingerprint\u001b[0m\u001b[0;34m(\u001b[0m\u001b[0mmol\u001b[0m\u001b[0;34m,\u001b[0m \u001b[0mradius\u001b[0m\u001b[0;34m,\u001b[0m \u001b[0mfromAtoms\u001b[0m\u001b[0;34m=\u001b[0m\u001b[0;34m[\u001b[0m\u001b[0mi\u001b[0m\u001b[0;34m]\u001b[0m\u001b[0;34m,\u001b[0m \u001b[0mbitInfo\u001b[0m\u001b[0;34m=\u001b[0m\u001b[0minfo\u001b[0m\u001b[0;34m)\u001b[0m\u001b[0;34m\u001b[0m\u001b[0;34m\u001b[0m\u001b[0m\n\u001b[0m\u001b[1;32m     96\u001b[0m     \u001b[0;32mfor\u001b[0m \u001b[0mk\u001b[0m \u001b[0;32min\u001b[0m \u001b[0minfo\u001b[0m\u001b[0;34m.\u001b[0m\u001b[0mkeys\u001b[0m\u001b[0;34m(\u001b[0m\u001b[0;34m)\u001b[0m\u001b[0;34m:\u001b[0m\u001b[0;34m\u001b[0m\u001b[0;34m\u001b[0m\u001b[0m\n\u001b[1;32m     97\u001b[0m       \u001b[0;32mif\u001b[0m \u001b[0minfo\u001b[0m\u001b[0;34m[\u001b[0m\u001b[0mk\u001b[0m\u001b[0;34m]\u001b[0m\u001b[0;34m[\u001b[0m\u001b[0;36m0\u001b[0m\u001b[0;34m]\u001b[0m\u001b[0;34m[\u001b[0m\u001b[0;36m1\u001b[0m\u001b[0;34m]\u001b[0m \u001b[0;34m==\u001b[0m \u001b[0mradius\u001b[0m\u001b[0;34m:\u001b[0m\u001b[0;34m\u001b[0m\u001b[0;34m\u001b[0m\u001b[0m\n",
      "\u001b[0;31mKeyboardInterrupt\u001b[0m: "
     ]
    }
   ],
   "source": [
    "from itertools import product\n",
    "from sortedcontainers import SortedList\n",
    "import time\n",
    "import numpy as np\n",
    "\n",
    "n_s = []\n",
    "z_max_s = []\n",
    "for num, m in sorted(mols_by_rbn.items()):\n",
    "\n",
    "#     m = mols_by_rbn[3]\n",
    "    nonring, ring = TorsionFingerprints.CalculateTorsionLists(m)\n",
    "    conf = m.GetConformer(id=0)\n",
    "\n",
    "\n",
    "    summ = 0\n",
    "    combs = 0\n",
    "    \n",
    "    n = get_n(num)\n",
    "    sl = SortedList()\n",
    "    \n",
    "    times = []\n",
    "    for comb in product(*[[-1,0,1]] * num):\n",
    "        ff = Chem.rdForceFieldHelpers.MMFFGetMoleculeForceField(m, Chem.rdForceFieldHelpers.MMFFGetMoleculeProperties(m))\n",
    "        desired_torsions = []\n",
    "        for idx, tors in enumerate(nonring):\n",
    "\n",
    "            atoms, ang = tors\n",
    "            tup = atoms[0]\n",
    "            deg = Chem.rdMolTransforms.GetDihedralDeg(conf, *tup)\n",
    "            Chem.rdMolTransforms.SetDihedralDeg(conf, *tup, 180.0 + 120 * comb[idx])\n",
    "            tors = 180.0 + 120 * comb[idx]\n",
    "            desired_torsions.append(tors)\n",
    "            ff.MMFFAddTorsionConstraint(*tup, False, tors, tors,  10000.0)\n",
    "\n",
    "        ff.Initialize()\n",
    "        start = time.process_time()\n",
    "        ff.Minimize()\n",
    "        times.append(time.process_time() - start)\n",
    "\n",
    "        nonring, ring = TorsionFingerprints.CalculateTorsionLists(m)\n",
    "        conf = m.GetConformer(id=0)\n",
    "        tups = [atoms[0] for atoms, ang in nonring]\n",
    "        degs = [Chem.rdMolTransforms.GetDihedralDeg(conf, *tup) for tup in tups]\n",
    "\n",
    "        dist = np.linalg.norm(np.sin(np.array(degs) * np.pi / 180.) - np.sin(np.array(desired_torsions) * np.pi / 180.))\n",
    "        dist += np.linalg.norm(np.cos(np.array(degs)* np.pi / 180.) - np.cos(np.array(desired_torsions) * np.pi / 180.))\n",
    "\n",
    "        if dist > 0.1:\n",
    "            print('desired torsions', desired_torsions)\n",
    "            print('actual torsions', degs)\n",
    "            print(dist)\n",
    "            energy = np.exp(-1.0 * confgen.get_conformer_energies(m)[0])\n",
    "            print(energy)\n",
    "        \n",
    "            raise Exception\n",
    "        \n",
    "        energy = np.exp(-1.0 * confgen.get_conformer_energies(m)[0])\n",
    "        sl.add(energy)\n",
    "        if len(sl) > n:\n",
    "            sl.pop(0)\n",
    "        summ += energy\n",
    "        combs += 1\n",
    "        \n",
    "    print(num, 'total is', summ)\n",
    "    print('number of conformations is', combs)\n",
    "    print('max is', energy_max[num])\n",
    "    print('Z/max ratio is', summ / energy_max[num])\n",
    "    print('top n conformers is', sum(sl))\n",
    "    print('mean time', np.array(times).mean())\n",
    "\n",
    "    \n",
    "    n_s.append(num)\n",
    "    z_max_s.append(summ / energy_max[num])"
   ]
  },
  {
   "cell_type": "code",
   "execution_count": 138,
   "metadata": {},
   "outputs": [
    {
     "name": "stdout",
     "output_type": "stream",
     "text": [
      "27.481601383510405\n"
     ]
    },
    {
     "data": {
      "application/vnd.jupyter.widget-view+json": {
       "model_id": "ff2a7c7b64854fad887b23d49be379bc",
       "version_major": 2,
       "version_minor": 0
      },
      "text/plain": [
       "NGLWidget()"
      ]
     },
     "metadata": {},
     "output_type": "display_data"
    }
   ],
   "source": [
    "AllChem.MMFFOptimizeMoleculeConfs(m)\n",
    "energy = np.exp(-1.0 * confgen.get_conformer_energies(m)[0])\n",
    "print(energy)\n",
    "nv.show_rdkit(m)\n"
   ]
  },
  {
   "cell_type": "code",
   "execution_count": null,
   "metadata": {},
   "outputs": [],
   "source": [
    "nonring, ring = TorsionFingerprints.CalculateTorsionLists(m)\n",
    "conf = m.GetConformer(id=0)\n",
    "ang = Chem.rdMolTransforms.GetDihedralDeg(conf, 3, 2, 1, 0)\n",
    "print(tups, degs)\n",
    "print(ang)\n",
    "nv.show_rdkit(m)"
   ]
  },
  {
   "cell_type": "code",
   "execution_count": null,
   "metadata": {},
   "outputs": [],
   "source": [
    "from rdkit.Geometry.rdGeometry import Point3D\n",
    "def PointRotate3D(p1, p2, p0, theta):\n",
    "    from numpy import cos, sin, sqrt\n",
    "\n",
    "    # Translate so axis is at origin    \n",
    "    p = p0 - p1\n",
    "    # Initialize point q\n",
    "    q = Point3D(0.0,0.0,0.0)\n",
    "    N = (p2-p1)\n",
    "    Nm = sqrt(N.x**2 + N.y**2 + N.z**2)\n",
    "    \n",
    "    # Rotation axis unit vector\n",
    "    n = Point3D(N.x/Nm, N.y/Nm, N.z/Nm)\n",
    "\n",
    "    # Matrix common factors     \n",
    "    c = cos(theta)\n",
    "    t = (1 - cos(theta))\n",
    "    s = sin(theta)\n",
    "    X = n.x\n",
    "    Y = n.y\n",
    "    Z = n.z\n",
    "\n",
    "    # Matrix 'M'\n",
    "    d11 = t*X**2 + c\n",
    "    d12 = t*X*Y - s*Z\n",
    "    d13 = t*X*Z + s*Y\n",
    "    d21 = t*X*Y + s*Z\n",
    "    d22 = t*Y**2 + c\n",
    "    d23 = t*Y*Z - s*X\n",
    "    d31 = t*X*Z - s*Y\n",
    "    d32 = t*Y*Z + s*X\n",
    "    d33 = t*Z**2 + c\n",
    "\n",
    "    #            |p.x|\n",
    "    # Matrix 'M'*|p.y|\n",
    "    #            |p.z|\n",
    "    q.x = d11*p.x + d12*p.y + d13*p.z\n",
    "    q.y = d21*p.x + d22*p.y + d23*p.z\n",
    "    q.z = d31*p.x + d32*p.y + d33*p.z\n",
    "\n",
    "    # Translate axis and rotated point back to original location    \n",
    "    return q + p1"
   ]
  },
  {
   "cell_type": "code",
   "execution_count": null,
   "metadata": {},
   "outputs": [],
   "source": [
    "def setRingDihedralDeg(conf, iAtomId, jAtomId, kAtomId, lAtomId, value):\n",
    "    rIJ = conf.GetAtomPosition(jAtomId) - conf.GetAtomPosition(iAtomId);\n",
    "    rIJSqLength = rIJ.LengthSq();\n",
    "    if (rIJSqLength <= 1.e-16):\n",
    "        raise Exception(\"atoms i and j have identical 3D coordinates\");\n",
    "\n",
    "    rJK = conf.GetAtomPosition(kAtomId) - conf.GetAtomPosition(jAtomId);\n",
    "    rJKSqLength = rJK.LengthSq();\n",
    "\n",
    "    if (rJKSqLength <= 1.e-16):\n",
    "        raise ValueErrorException(\"atoms j and k have identical 3D coordinates\");\n",
    "\n",
    "    rKL = conf.GetAtomPosition(lAtomId) - conf.GetAtomPosition(kAtomId);\n",
    "    rKLSqLength = rKL.LengthSq()\n",
    "    if (rKLSqLength <= 1.e-16):\n",
    "        raise ValueErrorException(\"atoms k and l have identical 3D coordinates\");\n",
    "\n",
    "    nIJK = rIJ.CrossProduct(rJK);\n",
    "    nIJKSqLength = nIJK.LengthSq();\n",
    "    nJKL = rJK.CrossProduct(rKL);\n",
    "    nJKLSqLength = nJKL.LengthSq();\n",
    "    m1 = nIJK.CrossProduct(rJK);\n",
    "    # we only need to rotate by delta with respect to the current dihedral value\n",
    "    value *= (np.pi / 180)\n",
    "    value -= -np.arctan2(m1.DotProduct(nJKL) / np.sqrt(nJKLSqLength * m1.LengthSq()),\n",
    "                  nIJK.DotProduct(nJKL) / np.sqrt(nIJKSqLength * nJKLSqLength));\n",
    "    # our rotation axis is the (j,k) bond\n",
    "    rotAxisBegin = conf.GetAtomPosition(jAtomId);\n",
    "    rotAxisEnd = conf.GetAtomPosition(kAtomId);\n",
    "    rotAxis = rotAxisEnd - rotAxisBegin\n",
    "    rotAxis.Normalize()\n",
    "    # get all atoms bonded to k and loop through them\n",
    "    # std::list<unsigned int> alist;\n",
    "    # _toBeMovedIdxList(mol, jAtomId, kAtomId, alist);\n",
    "    # for (unsigned int &it : alist) {\n",
    "    # translate atom so that it coincides with the origin of rotation\n",
    "    pos = conf.GetAtomPosition(lAtomId)\n",
    "\n",
    "    # rotate around our rotation axis\n",
    "    p = PointRotate3D(rotAxisBegin, rotAxisEnd, pos, value)\n",
    "    conf.SetAtomPosition(lAtomId, p)"
   ]
  },
  {
   "cell_type": "code",
   "execution_count": 63,
   "metadata": {},
   "outputs": [],
   "source": [
    "def print_dihedrals(conf):\n",
    "    m = conf.GetOwningMol()\n",
    "    nonring, ring = TorsionFingerprints.CalculateTorsionLists(m)\n",
    "    print('nonring')\n",
    "    for idx, tors in enumerate(nonring):\n",
    "        atoms, ang = tors\n",
    "        tup = atoms[0]\n",
    "        deg = Chem.rdMolTransforms.GetDihedralDeg(conf, *tup)\n",
    "        print(tup, deg)\n",
    "\n",
    "#     print('ring')        \n",
    "#     for tors in ring:\n",
    "#         deg = Chem.rdMolTransforms.GetDihedralDeg(conf, *tors)\n",
    "#         print(tors, deg)\n",
    "#     print('\\n\\n\\n')"
   ]
  },
  {
   "cell_type": "code",
   "execution_count": null,
   "metadata": {},
   "outputs": [],
   "source": [
    "def add_torsion_constraints(ff, tors_list, rotate=0, minimize=False):\n",
    "    tors_list = tors_list[rotate:] + tors_list[:rotate]\n",
    "    \n",
    "    tors = tors_list[0]\n",
    "    ff.MMFFAddTorsionConstraint(0, 5, 4, 3, False, tors - 0.1, tors + 0.1, 10000.0)\n",
    "    tors = tors_list[1]\n",
    "    ff.MMFFAddTorsionConstraint(5, 4, 3, 2, False, tors - 0.1, tors + 0.1, 10000.0)\n",
    "    tors = tors_list[2]\n",
    "    ff.MMFFAddTorsionConstraint(4, 3, 2, 1, False, tors - 0.1, tors + 0.1,  10000.0)\n",
    "    tors = tors_list[3]\n",
    "    ff.MMFFAddTorsionConstraint(3, 2, 1, 0, False, tors - 0.1, tors + 0.1,  10000.0)\n",
    "    tors = tors_list[4]\n",
    "    ff.MMFFAddTorsionConstraint(2, 1, 0, 5, False, tors - 0.1, tors + 0.1,  10000.0)\n",
    "    tors = tors_list[5]\n",
    "    ff.MMFFAddTorsionConstraint(1, 0, 5, 4, False, tors - 0.1, tors + 0.1,  10000.0)\n"
   ]
  },
  {
   "cell_type": "code",
   "execution_count": 305,
   "metadata": {},
   "outputs": [],
   "source": [
    "def get_radial_hist(series, N, title='decane φ histogram'):\n",
    "    bottom = 2\n",
    "\n",
    "    # create theta for 24 hours\n",
    "    theta = np.linspace(0.0, 2 * np.pi, N, endpoint=False)\n",
    "\n",
    "    # make the histogram that bined on 24 hour\n",
    "    radii, tick = np.histogram(torsions, bins = N)\n",
    "\n",
    "    # width of each bin on the plot\n",
    "    width = (2*np.pi) / N\n",
    "\n",
    "    # make a polar plot\n",
    "    plt.figure(figsize = (12, 8))\n",
    "    ax = plt.subplot(111, polar=True)\n",
    "    bars = ax.bar(theta, radii, width=width, bottom=bottom)\n",
    "\n",
    "    # set the lable go clockwise and start from the top\n",
    "    ax.set_theta_zero_location(\"N\")\n",
    "    # clockwise\n",
    "    ax.set_theta_direction(-1)\n",
    "\n",
    "    # set the label\n",
    "    ticks = ['180/-180', '-135', '-90', '-45', '0', '45', '90', '135']\n",
    "    ax.set_xticklabels(ticks)\n",
    "    plt.title(title)\n",
    "    plt.show()"
   ]
  },
  {
   "cell_type": "code",
   "execution_count": null,
   "metadata": {},
   "outputs": [],
   "source": [
    "m = Chem.MolFromSmiles('C1CCCCC1')\n",
    "m = Chem.AddHs(m)\n",
    "AllChem.EmbedMultipleConfs(m, numConfs=1)\n",
    "res = AllChem.MMFFOptimizeMoleculeConfs(m)\n",
    "nonring, ring = TorsionFingerprints.CalculateTorsionLists(m)\n",
    "ring = ring[0][0]\n",
    "\n",
    "print_dihedrals(conf)\n",
    "    \n",
    "w = nv.show_rdkit(m)\n",
    "w.add_label(labelType=\"atomindex\", color='blue')\n",
    "w"
   ]
  },
  {
   "cell_type": "code",
   "execution_count": null,
   "metadata": {},
   "outputs": [],
   "source": [
    "ff = rdkit.Chem.rdForceFieldHelpers.MMFFGetMoleculeForceField(m, rdkit.Chem.rdForceFieldHelpers.MMFFGetMoleculeProperties(m))\n",
    "\n",
    "# ff.MMFFAddTorsionConstraint(0, 5, 4, 3, False, 180.0, 180.0, 10000.0)\n",
    "# ff.MMFFAddTorsionConstraint(5, 4, 3, 2, False, 180.0, 180.0, 10000.0)\n",
    "# ff.MMFFAddTorsionConstraint(4, 3, 2, 1, False, 180.0, 180.0,  10000.0)\n",
    "# ff.MMFFAddTorsionConstraint(3, 2, 1, 0, False, 180.0, 180.0,  10000.0)\n",
    "# ff.MMFFAddTorsionConstraint(2, 1, 0, 5, False, 180.0, 180.0,  10000.0)\n",
    "# ff.MMFFAddTorsionConstraint(1, 0, 5, 4, False, 180.0, 180.0,  10000.0)\n",
    "\n",
    "# ff.MMFFAddTorsionConstraint(0, 5, 4, 3, False, -29.2, -29.0, 10000.0)\n",
    "# ff.MMFFAddTorsionConstraint(5, 4, 3, 2, False, 60.0, 60.2, 10000.0)\n",
    "# ff.MMFFAddTorsionConstraint(4, 3, 2, 1, False, -29.2, -29.0, 10000.0)\n",
    "# ff.MMFFAddTorsionConstraint(3, 2, 1, 0, False, -29.2, -29.0, 10000.0)\n",
    "# ff.MMFFAddTorsionConstraint(2, 1, 0, 5, False, 60.0, 60.2, 10000.0)\n",
    "# ff.MMFFAddTorsionConstraint(1, 0, 5, 4, False, -29.2, -29.0, 10000.0)\n",
    "\n",
    "add_torsion_constraints(ff, [-29.1675, 60.106, -29.1675, -29.1675, 60.106, -29.1675], rotate=1)\n",
    "\n",
    "\n",
    "# add_torsion_constraints(ff, [-54.2, 54.2, -54.2, 54.2, -54.2, 54.2])\n",
    "\n",
    "\n",
    "# add_torsion_constraints(ff, [-46, -26,  -5,  25, -13, 65])\n",
    "\n",
    "ff.Initialize()\n",
    "ret = ff.Minimize(maxIts=500)\n",
    "print(ret)\n",
    "\n",
    "# AllChem.MMFFOptimizeMolecule(m)\n"
   ]
  },
  {
   "cell_type": "code",
   "execution_count": null,
   "metadata": {},
   "outputs": [],
   "source": [
    "AllChem.MMFFOptimizeMoleculeConfs(m)\n",
    "print_dihedrals(m.GetConformers()[0])\n",
    "w = nv.show_rdkit(m)\n",
    "w.add_label(labelType=\"atomindex\", color='blue')\n",
    "w"
   ]
  },
  {
   "cell_type": "code",
   "execution_count": null,
   "metadata": {},
   "outputs": [],
   "source": [
    "import numpy as np\n",
    "k = np.random.randint(-80, 80, size=(1,5))\n",
    "print(k)\n",
    "print(0 - k.sum())\n",
    "help(np.random.randint)"
   ]
  },
  {
   "cell_type": "code",
   "execution_count": 56,
   "metadata": {},
   "outputs": [
    {
     "data": {
      "text/plain": [
       "<rdkit.rdBase._vecti at 0x7f1d3a49d750>"
      ]
     },
     "execution_count": 56,
     "metadata": {},
     "output_type": "execute_result"
    }
   ],
   "source": [
    "lignin = Chem.MolFromMolFile('lignin_guaiacyl.mol')\n",
    "lignin = Chem.AddHs(lignin)\n",
    "AllChem.EmbedMultipleConfs(lignin, numConfs=100, numThreads=0)\n"
   ]
  },
  {
   "cell_type": "code",
   "execution_count": 6,
   "metadata": {},
   "outputs": [
    {
     "data": {
      "application/vnd.jupyter.widget-view+json": {
       "model_id": "16b100a92c6e480e8f249366124f3a30",
       "version_major": 2,
       "version_minor": 0
      },
      "text/plain": [
       "NGLWidget()"
      ]
     },
     "metadata": {},
     "output_type": "display_data"
    }
   ],
   "source": [
    "w = nv.show_rdkit(lignin)\n",
    "w.add_label(labelType=\"atomindex\", color='blue')\n",
    "w"
   ]
  },
  {
   "cell_type": "code",
   "execution_count": 41,
   "metadata": {},
   "outputs": [
    {
     "name": "stdout",
     "output_type": "stream",
     "text": [
      "[([(2, 1, 4, 5)], 180.0), ([(4, 1, 2, 14)], 180.0), ([(4, 1, 0, 3)], 180.0), ([(6, 5, 4, 1)], 180.0), ([(5, 6, 11, 12)], 180.0), ([(15, 14, 2, 1)], 180.0), ([(22, 20, 18, 19)], 180.0), ([(23, 21, 19, 18)], 180.0)]\n",
      "[([(6, 8, 10, 9), (8, 10, 9, 7), (10, 9, 7, 5), (9, 7, 5, 6), (7, 5, 6, 8), (5, 6, 8, 10)], 36.34137323903797), ([(15, 17, 19, 18), (17, 19, 18, 16), (19, 18, 16, 14), (18, 16, 14, 15), (16, 14, 15, 17), (14, 15, 17, 19)], 36.34137323903797)]\n"
     ]
    }
   ],
   "source": [
    "nonring, ring = TorsionFingerprints.CalculateTorsionLists(lignin)\n",
    "print(nonring)\n",
    "print(ring)"
   ]
  },
  {
   "cell_type": "code",
   "execution_count": 73,
   "metadata": {},
   "outputs": [
    {
     "name": "stdout",
     "output_type": "stream",
     "text": [
      "0 61 15.678602720340649\n",
      "1 73 14.959817083831439\n",
      "2 43 14.486339441007885\n",
      "3 94 11.759163786846756\n",
      "4 8 11.75914972258093\n",
      "5 46 10.832201485299308\n",
      "6 75 9.634986346698554\n",
      "7 18 9.254831424466204\n",
      "8 68 9.246845358997803\n",
      "9 21 9.077778018444505\n",
      "10 5 8.3584115770378\n",
      "11 47 7.573770268861253\n",
      "12 44 7.184979399749523\n",
      "13 32 7.1849592472910615\n",
      "14 31 7.028079899902053\n",
      "15 45 6.903525748857874\n",
      "16 63 6.896023123105465\n",
      "17 99 6.8959995039064665\n",
      "18 41 6.627450785755386\n",
      "19 93 6.551333402629908\n",
      "20 49 6.50886702017371\n",
      "21 20 6.506122385618781\n",
      "22 85 6.336901996506342\n",
      "23 7 6.193961306908463\n",
      "24 95 6.000744555839006\n",
      "25 62 5.925455715485214\n",
      "26 29 5.910316053024502\n",
      "27 82 5.910311140691661\n",
      "28 39 5.851428268064097\n",
      "29 0 5.753209295853708\n",
      "30 55 5.650823565325339\n",
      "31 80 5.6507045776808695\n",
      "32 83 5.42643641041046\n",
      "33 10 5.423806495279777\n",
      "34 6 5.420940131292156\n",
      "35 40 5.408660766359787\n",
      "36 96 5.264802297527979\n",
      "37 33 5.264800317938182\n",
      "38 48 5.264795060378731\n",
      "39 16 5.26479368368507\n",
      "40 57 5.264762889323819\n",
      "41 90 4.986940630413699\n",
      "42 36 4.664542628536012\n",
      "43 9 4.635792892512541\n",
      "44 28 4.603350763820572\n",
      "45 25 4.584600547930322\n",
      "46 79 4.481471625276427\n",
      "47 27 4.480660075406135\n",
      "48 56 4.4150814411437125\n",
      "49 84 4.415077820944305\n",
      "50 3 4.415075832586965\n",
      "51 42 4.415061232275775\n",
      "52 30 4.415041592866217\n",
      "53 77 4.408560113080526\n",
      "54 53 4.3338694737971935\n",
      "55 26 4.333868647697926\n",
      "56 19 4.3294399438238855\n",
      "57 37 4.251370081089846\n",
      "58 92 4.251368408460564\n",
      "59 66 4.251368058300727\n",
      "60 12 4.204188197196515\n",
      "61 38 4.182127997570291\n",
      "62 4 4.182126623201512\n",
      "63 50 4.18208646294039\n",
      "64 13 4.158375609889674\n",
      "65 91 4.138255427370581\n",
      "66 35 4.071923090336156\n",
      "67 14 4.05757068389569\n",
      "68 11 4.057436813082987\n",
      "69 1 4.057148386677497\n",
      "70 52 3.8691047418576545\n",
      "71 76 3.7530938958729365\n",
      "72 97 3.6922187016005097\n",
      "73 59 3.692156227449857\n",
      "74 69 3.63191960527152\n",
      "75 58 3.499039935368259\n",
      "76 70 3.4958838579869678\n",
      "77 78 3.4958303926268\n",
      "78 15 3.4517702362962694\n",
      "79 86 3.368865440154977\n",
      "80 98 3.359703875279749\n",
      "81 24 3.270598692578858\n",
      "82 34 3.270566724851733\n",
      "83 74 3.2705619940795714\n",
      "84 72 3.2426375296712706\n",
      "85 87 3.1892296217431237\n",
      "86 88 3.1111710233655145\n",
      "87 89 3.064175340032776\n",
      "88 2 3.0621711222972436\n",
      "89 17 3.0621707181411466\n",
      "90 67 3.0621694120895597\n",
      "91 22 2.8152073314843875\n",
      "92 64 2.5383899111293573\n",
      "93 51 2.35778977170051\n",
      "94 65 1.8766598257739702\n",
      "95 23 1.1555714059758202\n",
      "96 60 1.1555539274244921\n",
      "97 71 1.155547222244067\n",
      "98 81 0.012421985624669674\n",
      "99 54 0.0\n"
     ]
    }
   ],
   "source": [
    "AllChem.MMFFOptimizeMoleculeConfs(lignin, numThreads=0)\n",
    "energys = confgen.get_conformer_energies(lignin)\n",
    "\n",
    "energys = energys - energys.min()\n",
    "\n",
    "for idx, x in enumerate(np.argsort(np.exp(-1 * energys))):\n",
    "    print(idx, x, energys[x])\n"
   ]
  },
  {
   "cell_type": "code",
   "execution_count": 78,
   "metadata": {},
   "outputs": [
    {
     "name": "stdout",
     "output_type": "stream",
     "text": [
      "nonring\n",
      "(2, 1, 4, 5) 131.33556003401475\n",
      "(4, 1, 2, 14) -172.93090998394737\n",
      "(4, 1, 0, 3) -60.118954214692934\n",
      "(6, 5, 4, 1) -66.27497358987364\n",
      "(5, 6, 11, 12) -175.78672841987728\n",
      "(15, 14, 2, 1) -106.10916015650555\n",
      "(22, 20, 18, 19) 34.33475476090145\n",
      "(23, 21, 19, 18) 172.5437476078905\n"
     ]
    }
   ],
   "source": [
    "print_dihedrals(lignin.GetConformer(id=65))"
   ]
  },
  {
   "cell_type": "code",
   "execution_count": 58,
   "metadata": {},
   "outputs": [
    {
     "data": {
      "text/plain": [
       "3.479420693456205"
      ]
     },
     "execution_count": 58,
     "metadata": {},
     "output_type": "execute_result"
    }
   ],
   "source": [
    "out = np.array(AllChem.GetConformerRMSMatrix(lignin))\n",
    "np.argmin(out)\n",
    "out[2965]"
   ]
  },
  {
   "cell_type": "code",
   "execution_count": 10,
   "metadata": {},
   "outputs": [
    {
     "name": "stderr",
     "output_type": "stream",
     "text": [
      "Calculating RMSDs of conformer 99: 100%|██████████| 100/100 [00:01<00:00, 84.77it/s]\n"
     ]
    }
   ],
   "source": [
    "x = get_conformer_rmsd_fast(lignin)\n",
    "\n"
   ]
  },
  {
   "cell_type": "code",
   "execution_count": 210,
   "metadata": {},
   "outputs": [
    {
     "data": {
      "text/plain": [
       "2"
      ]
     },
     "execution_count": 210,
     "metadata": {},
     "output_type": "execute_result"
    }
   ],
   "source": [
    "np.sum(x>4.05)"
   ]
  },
  {
   "cell_type": "code",
   "execution_count": 211,
   "metadata": {},
   "outputs": [
    {
     "data": {
      "text/plain": [
       "(array([33, 82]), array([82, 33]))"
      ]
     },
     "execution_count": 211,
     "metadata": {},
     "output_type": "execute_result"
    }
   ],
   "source": [
    "np.nonzero(x>4.05)\n"
   ]
  },
  {
   "cell_type": "code",
   "execution_count": 296,
   "metadata": {},
   "outputs": [
    {
     "name": "stdout",
     "output_type": "stream",
     "text": [
      "nonring\n",
      "(0, 1, 2, 3) 6.6596299412528985\n",
      "(1, 2, 3, 4) -38.22045642196896\n",
      "(2, 3, 4, 5) 125.66460396237463\n",
      "(3, 4, 5, 6) 50.901712726735\n",
      "(4, 5, 6, 7) 176.1519685057432\n",
      "(5, 6, 7, 8) 178.11843385661172\n",
      "(6, 7, 8, 9) -179.9652508211595\n",
      "(7, 8, 9, 10) 179.74501434145216\n",
      "(8, 9, 10, 11) -0.27491514680127865\n",
      "nonring\n",
      "(0, 1, 2, 3) 2.348418243440511\n",
      "(1, 2, 3, 4) -40.00360171591846\n",
      "(2, 3, 4, 5) 134.7951135495794\n",
      "(3, 4, 5, 6) 58.96425906944115\n",
      "(4, 5, 6, 7) 175.34495611343283\n",
      "(5, 6, 7, 8) 178.06617206969267\n",
      "(6, 7, 8, 9) 179.9676197643982\n",
      "(7, 8, 9, 10) 179.6992900469096\n",
      "(8, 9, 10, 11) -0.432333595146146\n"
     ]
    }
   ],
   "source": [
    "#39,77 and 45,86 are very similar\n",
    "\n",
    "print_dihedrals(lignin.GetConformer(33))\n",
    "print_dihedrals(lignin.GetConformer(82))"
   ]
  },
  {
   "cell_type": "code",
   "execution_count": 294,
   "metadata": {},
   "outputs": [
    {
     "data": {
      "application/3dmoljs_load.v0": "<div id=\"3dmolviewer_15740447490587692\"  style=\"position: relative; width: 800px; height: 800px\">\n        <p id=\"3dmolwarning_15740447490587692\" style=\"background-color:#ffcccc;color:black\">You appear to be running in JupyterLab (or JavaScript failed to load for some other reason).  You need to install the 3dmol extension: <br>\n        <tt>jupyter labextension install jupyterlab_3dmol</tt></p>\n        </div>\n<script>\n\nvar loadScriptAsync = function(uri){\n  return new Promise((resolve, reject) => {\n    var tag = document.createElement('script');\n    tag.src = uri;\n    tag.async = true;\n    tag.onload = () => {\n      resolve();\n    };\n  var firstScriptTag = document.getElementsByTagName('script')[0];\n  firstScriptTag.parentNode.insertBefore(tag, firstScriptTag);\n});\n};\n\nif(typeof $3Dmolpromise === 'undefined') {\n$3Dmolpromise = null;\n  $3Dmolpromise = loadScriptAsync('https://3dmol.csb.pitt.edu/build/3Dmol.js');\n}\n\nvar viewer_15740447490587692 = null;\nvar warn = document.getElementById(\"3dmolwarning_15740447490587692\");\nif(warn) {\n    warn.parentNode.removeChild(warn);\n}\n$3Dmolpromise.then(function() {\nviewer_15740447490587692 = $3Dmol.createViewer($(\"#3dmolviewer_15740447490587692\"),{backgroundColor:\"white\"});\n\tviewer_15740447490587692.removeAllModels();\n\tviewer_15740447490587692.addModel(\"\\n     RDKit          3D\\n\\n 46 47  0  0  1  0  0  0  0  0999 V2000\\n   -0.9942    1.3326   -0.8965 C   0  0  0  0  0  0  0  0  0  0  0  0\\n   -0.8160   -0.1220   -0.4307 C   0  0  2  0  0  0  0  0  0  0  0  0\\n    0.5496   -0.7077   -0.8635 C   0  0  1  0  0  0  0  0  0  0  0  0\\n   -2.2128    1.8782   -0.3835 O   0  0  0  0  0  0  0  0  0  0  0  0\\n   -1.8433   -0.9079   -1.0951 O   0  0  0  0  0  0  0  0  0  0  0  0\\n   -2.6649   -1.5586   -0.2073 C   0  0  0  0  0  0  0  0  0  0  0  0\\n   -3.9951   -1.1324   -0.0653 C   0  0  0  0  0  0  0  0  0  0  0  0\\n   -2.1947   -2.6828    0.4755 C   0  0  0  0  0  0  0  0  0  0  0  0\\n   -4.8347   -1.8267    0.8096 C   0  0  0  0  0  0  0  0  0  0  0  0\\n   -3.0426   -3.3681    1.3428 C   0  0  0  0  0  0  0  0  0  0  0  0\\n   -4.3577   -2.9384    1.5125 C   0  0  0  0  0  0  0  0  0  0  0  0\\n   -4.3569   -0.0325   -0.8011 O   0  0  0  0  0  0  0  0  0  0  0  0\\n   -5.7269    0.3516   -0.7591 C   0  0  0  0  0  0  0  0  0  0  0  0\\n    0.6880   -0.6272   -2.2888 O   0  0  0  0  0  0  0  0  0  0  0  0\\n    1.7410   -0.0837   -0.1608 C   0  0  0  0  0  0  0  0  0  0  0  0\\n    1.9315   -0.3019    1.2104 C   0  0  0  0  0  0  0  0  0  0  0  0\\n    2.6789    0.7063   -0.8470 C   0  0  0  0  0  0  0  0  0  0  0  0\\n    3.0243    0.2563    1.8812 C   0  0  0  0  0  0  0  0  0  0  0  0\\n    3.7810    1.2671   -0.1859 C   0  0  0  0  0  0  0  0  0  0  0  0\\n    3.9539    1.0413    1.1932 C   0  0  0  0  0  0  0  0  0  0  0  0\\n    4.7377    2.0440   -0.7936 O   0  0  0  0  0  0  0  0  0  0  0  0\\n    5.0574    1.6228    1.7680 O   0  0  0  0  0  0  0  0  0  0  0  0\\n    4.6103    2.2705   -2.1898 C   0  0  0  0  0  0  0  0  0  0  0  0\\n    5.2490    1.4385    3.1627 C   0  0  0  0  0  0  0  0  0  0  0  0\\n   -1.0442    1.4027   -1.9880 H   0  0  0  0  0  0  0  0  0  0  0  0\\n   -0.1820    1.9711   -0.5391 H   0  0  0  0  0  0  0  0  0  0  0  0\\n   -0.9345   -0.1611    0.6611 H   0  0  0  0  0  0  0  0  0  0  0  0\\n    0.5702   -1.7814   -0.6411 H   0  0  0  0  0  0  0  0  0  0  0  0\\n   -2.9240    1.2641   -0.6599 H   0  0  0  0  0  0  0  0  0  0  0  0\\n   -1.1811   -3.0399    0.3276 H   0  0  0  0  0  0  0  0  0  0  0  0\\n   -5.8662   -1.5309    0.9701 H   0  0  0  0  0  0  0  0  0  0  0  0\\n   -2.6820   -4.2419    1.8796 H   0  0  0  0  0  0  0  0  0  0  0  0\\n   -5.0195   -3.4746    2.1891 H   0  0  0  0  0  0  0  0  0  0  0  0\\n   -6.0099    0.6844    0.2448 H   0  0  0  0  0  0  0  0  0  0  0  0\\n   -5.8558    1.1992   -1.4389 H   0  0  0  0  0  0  0  0  0  0  0  0\\n   -6.3768   -0.4577   -1.1081 H   0  0  0  0  0  0  0  0  0  0  0  0\\n   -0.1256   -1.0230   -2.6555 H   0  0  0  0  0  0  0  0  0  0  0  0\\n    1.2317   -0.9157    1.7744 H   0  0  0  0  0  0  0  0  0  0  0  0\\n    2.5312    0.8689   -1.9105 H   0  0  0  0  0  0  0  0  0  0  0  0\\n    3.1234    0.0547    2.9425 H   0  0  0  0  0  0  0  0  0  0  0  0\\n    4.6625    1.3310   -2.7499 H   0  0  0  0  0  0  0  0  0  0  0  0\\n    3.6912    2.8197   -2.4189 H   0  0  0  0  0  0  0  0  0  0  0  0\\n    5.4542    2.8914   -2.5058 H   0  0  0  0  0  0  0  0  0  0  0  0\\n    5.3998    0.3812    3.4041 H   0  0  0  0  0  0  0  0  0  0  0  0\\n    4.4173    1.8614    3.7358 H   0  0  0  0  0  0  0  0  0  0  0  0\\n    6.1573    1.9770    3.4497 H   0  0  0  0  0  0  0  0  0  0  0  0\\n  1  4  1  0\\n  2  5  1  0\\n  2  3  1  0\\n  2  1  1  0\\n  3 14  1  0\\n  6  7  2  0\\n  6  5  1  0\\n  7 12  1  0\\n  8  6  1  0\\n  9  7  1  0\\n 10 11  1  0\\n 10  8  2  0\\n 11  9  2  0\\n 12 13  1  0\\n 15  3  1  0\\n 16 15  2  0\\n 17 15  1  0\\n 18 16  1  0\\n 19 17  2  0\\n 20 18  2  0\\n 20 19  1  0\\n 21 19  1  0\\n 21 23  1  0\\n 22 20  1  0\\n 24 22  1  0\\n  1 25  1  0\\n  1 26  1  0\\n  2 27  1  1\\n  3 28  1  6\\n  4 29  1  0\\n  8 30  1  0\\n  9 31  1  0\\n 10 32  1  0\\n 11 33  1  0\\n 13 34  1  0\\n 13 35  1  0\\n 13 36  1  0\\n 14 37  1  0\\n 16 38  1  0\\n 17 39  1  0\\n 18 40  1  0\\n 23 41  1  0\\n 23 42  1  0\\n 23 43  1  0\\n 24 44  1  0\\n 24 45  1  0\\n 24 46  1  0\\nM  END\\n\",\"sdf\");\n\tviewer_15740447490587692.setStyle({\"stick\": {}});\n\tviewer_15740447490587692.setBackgroundColor(\"0xeeeeee\");\n\tviewer_15740447490587692.zoomTo();\nviewer_15740447490587692.render();\n});\n</script>",
      "text/html": [
       "<div id=\"3dmolviewer_15740447490587692\"  style=\"position: relative; width: 800px; height: 800px\">\n",
       "        <p id=\"3dmolwarning_15740447490587692\" style=\"background-color:#ffcccc;color:black\">You appear to be running in JupyterLab (or JavaScript failed to load for some other reason).  You need to install the 3dmol extension: <br>\n",
       "        <tt>jupyter labextension install jupyterlab_3dmol</tt></p>\n",
       "        </div>\n",
       "<script>\n",
       "\n",
       "var loadScriptAsync = function(uri){\n",
       "  return new Promise((resolve, reject) => {\n",
       "    var tag = document.createElement('script');\n",
       "    tag.src = uri;\n",
       "    tag.async = true;\n",
       "    tag.onload = () => {\n",
       "      resolve();\n",
       "    };\n",
       "  var firstScriptTag = document.getElementsByTagName('script')[0];\n",
       "  firstScriptTag.parentNode.insertBefore(tag, firstScriptTag);\n",
       "});\n",
       "};\n",
       "\n",
       "if(typeof $3Dmolpromise === 'undefined') {\n",
       "$3Dmolpromise = null;\n",
       "  $3Dmolpromise = loadScriptAsync('https://3dmol.csb.pitt.edu/build/3Dmol.js');\n",
       "}\n",
       "\n",
       "var viewer_15740447490587692 = null;\n",
       "var warn = document.getElementById(\"3dmolwarning_15740447490587692\");\n",
       "if(warn) {\n",
       "    warn.parentNode.removeChild(warn);\n",
       "}\n",
       "$3Dmolpromise.then(function() {\n",
       "viewer_15740447490587692 = $3Dmol.createViewer($(\"#3dmolviewer_15740447490587692\"),{backgroundColor:\"white\"});\n",
       "\tviewer_15740447490587692.removeAllModels();\n",
       "\tviewer_15740447490587692.addModel(\"\\n     RDKit          3D\\n\\n 46 47  0  0  1  0  0  0  0  0999 V2000\\n   -0.9942    1.3326   -0.8965 C   0  0  0  0  0  0  0  0  0  0  0  0\\n   -0.8160   -0.1220   -0.4307 C   0  0  2  0  0  0  0  0  0  0  0  0\\n    0.5496   -0.7077   -0.8635 C   0  0  1  0  0  0  0  0  0  0  0  0\\n   -2.2128    1.8782   -0.3835 O   0  0  0  0  0  0  0  0  0  0  0  0\\n   -1.8433   -0.9079   -1.0951 O   0  0  0  0  0  0  0  0  0  0  0  0\\n   -2.6649   -1.5586   -0.2073 C   0  0  0  0  0  0  0  0  0  0  0  0\\n   -3.9951   -1.1324   -0.0653 C   0  0  0  0  0  0  0  0  0  0  0  0\\n   -2.1947   -2.6828    0.4755 C   0  0  0  0  0  0  0  0  0  0  0  0\\n   -4.8347   -1.8267    0.8096 C   0  0  0  0  0  0  0  0  0  0  0  0\\n   -3.0426   -3.3681    1.3428 C   0  0  0  0  0  0  0  0  0  0  0  0\\n   -4.3577   -2.9384    1.5125 C   0  0  0  0  0  0  0  0  0  0  0  0\\n   -4.3569   -0.0325   -0.8011 O   0  0  0  0  0  0  0  0  0  0  0  0\\n   -5.7269    0.3516   -0.7591 C   0  0  0  0  0  0  0  0  0  0  0  0\\n    0.6880   -0.6272   -2.2888 O   0  0  0  0  0  0  0  0  0  0  0  0\\n    1.7410   -0.0837   -0.1608 C   0  0  0  0  0  0  0  0  0  0  0  0\\n    1.9315   -0.3019    1.2104 C   0  0  0  0  0  0  0  0  0  0  0  0\\n    2.6789    0.7063   -0.8470 C   0  0  0  0  0  0  0  0  0  0  0  0\\n    3.0243    0.2563    1.8812 C   0  0  0  0  0  0  0  0  0  0  0  0\\n    3.7810    1.2671   -0.1859 C   0  0  0  0  0  0  0  0  0  0  0  0\\n    3.9539    1.0413    1.1932 C   0  0  0  0  0  0  0  0  0  0  0  0\\n    4.7377    2.0440   -0.7936 O   0  0  0  0  0  0  0  0  0  0  0  0\\n    5.0574    1.6228    1.7680 O   0  0  0  0  0  0  0  0  0  0  0  0\\n    4.6103    2.2705   -2.1898 C   0  0  0  0  0  0  0  0  0  0  0  0\\n    5.2490    1.4385    3.1627 C   0  0  0  0  0  0  0  0  0  0  0  0\\n   -1.0442    1.4027   -1.9880 H   0  0  0  0  0  0  0  0  0  0  0  0\\n   -0.1820    1.9711   -0.5391 H   0  0  0  0  0  0  0  0  0  0  0  0\\n   -0.9345   -0.1611    0.6611 H   0  0  0  0  0  0  0  0  0  0  0  0\\n    0.5702   -1.7814   -0.6411 H   0  0  0  0  0  0  0  0  0  0  0  0\\n   -2.9240    1.2641   -0.6599 H   0  0  0  0  0  0  0  0  0  0  0  0\\n   -1.1811   -3.0399    0.3276 H   0  0  0  0  0  0  0  0  0  0  0  0\\n   -5.8662   -1.5309    0.9701 H   0  0  0  0  0  0  0  0  0  0  0  0\\n   -2.6820   -4.2419    1.8796 H   0  0  0  0  0  0  0  0  0  0  0  0\\n   -5.0195   -3.4746    2.1891 H   0  0  0  0  0  0  0  0  0  0  0  0\\n   -6.0099    0.6844    0.2448 H   0  0  0  0  0  0  0  0  0  0  0  0\\n   -5.8558    1.1992   -1.4389 H   0  0  0  0  0  0  0  0  0  0  0  0\\n   -6.3768   -0.4577   -1.1081 H   0  0  0  0  0  0  0  0  0  0  0  0\\n   -0.1256   -1.0230   -2.6555 H   0  0  0  0  0  0  0  0  0  0  0  0\\n    1.2317   -0.9157    1.7744 H   0  0  0  0  0  0  0  0  0  0  0  0\\n    2.5312    0.8689   -1.9105 H   0  0  0  0  0  0  0  0  0  0  0  0\\n    3.1234    0.0547    2.9425 H   0  0  0  0  0  0  0  0  0  0  0  0\\n    4.6625    1.3310   -2.7499 H   0  0  0  0  0  0  0  0  0  0  0  0\\n    3.6912    2.8197   -2.4189 H   0  0  0  0  0  0  0  0  0  0  0  0\\n    5.4542    2.8914   -2.5058 H   0  0  0  0  0  0  0  0  0  0  0  0\\n    5.3998    0.3812    3.4041 H   0  0  0  0  0  0  0  0  0  0  0  0\\n    4.4173    1.8614    3.7358 H   0  0  0  0  0  0  0  0  0  0  0  0\\n    6.1573    1.9770    3.4497 H   0  0  0  0  0  0  0  0  0  0  0  0\\n  1  4  1  0\\n  2  5  1  0\\n  2  3  1  0\\n  2  1  1  0\\n  3 14  1  0\\n  6  7  2  0\\n  6  5  1  0\\n  7 12  1  0\\n  8  6  1  0\\n  9  7  1  0\\n 10 11  1  0\\n 10  8  2  0\\n 11  9  2  0\\n 12 13  1  0\\n 15  3  1  0\\n 16 15  2  0\\n 17 15  1  0\\n 18 16  1  0\\n 19 17  2  0\\n 20 18  2  0\\n 20 19  1  0\\n 21 19  1  0\\n 21 23  1  0\\n 22 20  1  0\\n 24 22  1  0\\n  1 25  1  0\\n  1 26  1  0\\n  2 27  1  1\\n  3 28  1  6\\n  4 29  1  0\\n  8 30  1  0\\n  9 31  1  0\\n 10 32  1  0\\n 11 33  1  0\\n 13 34  1  0\\n 13 35  1  0\\n 13 36  1  0\\n 14 37  1  0\\n 16 38  1  0\\n 17 39  1  0\\n 18 40  1  0\\n 23 41  1  0\\n 23 42  1  0\\n 23 43  1  0\\n 24 44  1  0\\n 24 45  1  0\\n 24 46  1  0\\nM  END\\n\",\"sdf\");\n",
       "\tviewer_15740447490587692.setStyle({\"stick\": {}});\n",
       "\tviewer_15740447490587692.setBackgroundColor(\"0xeeeeee\");\n",
       "\tviewer_15740447490587692.zoomTo();\n",
       "viewer_15740447490587692.render();\n",
       "});\n",
       "</script>"
      ]
     },
     "metadata": {},
     "output_type": "display_data"
    }
   ],
   "source": [
    "import py3Dmol\n",
    "def drawit(m, p, confId=-1):\n",
    "    mb = Chem.MolToMolBlock(m, confId=confId)\n",
    "    p.removeAllModels()\n",
    "    p.addModel(mb, \"sdf\")\n",
    "    p.setStyle({\"stick\":{}})\n",
    "    p.setBackgroundColor(\"0xeeeeee\")\n",
    "    p.zoomTo()\n",
    "    return p.show()\n",
    "\n",
    "p = py3Dmol.view(width=800,height=800)\n",
    "drawit(lignin, p, confId=46)"
   ]
  },
  {
   "cell_type": "code",
   "execution_count": null,
   "metadata": {},
   "outputs": [],
   "source": []
  },
  {
   "cell_type": "code",
   "execution_count": null,
   "metadata": {},
   "outputs": [],
   "source": [
    "AllChem.MMFFOptimizeMoleculeConfs(lignin)\n"
   ]
  },
  {
   "cell_type": "code",
   "execution_count": 55,
   "metadata": {
    "scrolled": true
   },
   "outputs": [
    {
     "name": "stdout",
     "output_type": "stream",
     "text": [
      "nonring\n",
      "(0, 1, 4, 5) -115.28158091099536\n",
      "(4, 1, 2, 13) 175.10507693683215\n",
      "(4, 1, 0, 3) -68.31483579084289\n",
      "(6, 5, 4, 1) -171.7679652942236\n",
      "(5, 6, 11, 12) 179.49615977710394\n",
      "(16, 14, 2, 13) 63.387069165431285\n",
      "(22, 20, 18, 19) 178.60280237957178\n",
      "(23, 21, 19, 17) 0.23295338798470847\n"
     ]
    }
   ],
   "source": [
    "print_dihedrals(lignin.GetConformer(4))"
   ]
  },
  {
   "cell_type": "code",
   "execution_count": 56,
   "metadata": {},
   "outputs": [],
   "source": [
    "def bag_of_dihedrals(mol):\n",
    "    import pandas as pd\n",
    "    nonring, ring = TorsionFingerprints.CalculateTorsionLists(mol)\n",
    "    torsions = []\n",
    "    for conf in mol.GetConformers():\n",
    "        for idx, tors in enumerate(nonring):\n",
    "            atoms, ang = tors\n",
    "            tup = atoms[0]\n",
    "            deg = Chem.rdMolTransforms.GetDihedralDeg(conf, *tup)\n",
    "            torsions.append(deg)\n",
    "            \n",
    "    return pd.Series(torsions)\n"
   ]
  },
  {
   "cell_type": "code",
   "execution_count": 117,
   "metadata": {},
   "outputs": [],
   "source": [
    "\n",
    "torsions = bag_of_dihedrals(lignin)\n",
    "\n",
    "torsions /= (180)\n"
   ]
  },
  {
   "cell_type": "code",
   "execution_count": 118,
   "metadata": {},
   "outputs": [
    {
     "data": {
      "text/plain": [
       "<matplotlib.axes._subplots.AxesSubplot at 0x7f8e924ac780>"
      ]
     },
     "execution_count": 118,
     "metadata": {},
     "output_type": "execute_result"
    },
    {
     "data": {
      "image/png": "[encoded data removed]",
      "text/plain": [
       "<Figure size 432x288 with 1 Axes>"
      ]
     },
     "metadata": {
      "needs_background": "light"
     },
     "output_type": "display_data"
    }
   ],
   "source": [
    "torsions.hist(bins=100)"
   ]
  },
  {
   "cell_type": "code",
   "execution_count": 120,
   "metadata": {},
   "outputs": [
    {
     "data": {
      "image/png": "[encoded data removed]",
      "text/plain": [
       "<Figure size 864x576 with 1 Axes>"
      ]
     },
     "metadata": {
      "needs_background": "light"
     },
     "output_type": "display_data"
    }
   ],
   "source": [
    "get_radial_hist(torsions * np.pi, 30)"
   ]
  },
  {
   "cell_type": "code",
   "execution_count": 83,
   "metadata": {},
   "outputs": [
    {
     "data": {
      "text/plain": [
       "array([-180. , -118.8,  -59.4,    0. ,   59.4,  118.8,  180. ])"
      ]
     },
     "execution_count": 83,
     "metadata": {},
     "output_type": "execute_result"
    }
   ],
   "source": [
    "np.array([-1.0, -0.66, -.33, 0, .33, .66, 1]) * 180"
   ]
  },
  {
   "cell_type": "code",
   "execution_count": 301,
   "metadata": {},
   "outputs": [
    {
     "data": {
      "application/vnd.jupyter.widget-view+json": {
       "model_id": "3da57650e66b4972b4ff232a2f3ffd2a",
       "version_major": 2,
       "version_minor": 0
      },
      "text/plain": [
       "NGLWidget()"
      ]
     },
     "metadata": {},
     "output_type": "display_data"
    }
   ],
   "source": [
    "m = Chem.MolFromSmiles('CCCCCCCCCCCC')\n",
    "m = Chem.AddHs(m)\n",
    "AllChem.EmbedMultipleConfs(m, numConfs=400, numThreads=0)\n",
    "res = AllChem.MMFFOptimizeMoleculeConfs(m, numThreads=0)\n",
    "nonring, ring = TorsionFingerprints.CalculateTorsionLists(m)\n",
    "    \n",
    "w = nv.show_rdkit(m)\n",
    "w.add_label(labelType=\"atomindex\", color='blue')\n",
    "w"
   ]
  },
  {
   "cell_type": "code",
   "execution_count": 302,
   "metadata": {},
   "outputs": [
    {
     "data": {
      "text/plain": [
       "<matplotlib.axes._subplots.AxesSubplot at 0x7f8e92572cc0>"
      ]
     },
     "execution_count": 302,
     "metadata": {},
     "output_type": "execute_result"
    },
    {
     "data": {
      "image/png": "[encoded data removed]",
      "text/plain": [
       "<Figure size 432x288 with 1 Axes>"
      ]
     },
     "metadata": {
      "needs_background": "light"
     },
     "output_type": "display_data"
    }
   ],
   "source": [
    "torsions = bag_of_dihedrals(m)\n",
    "torsions /= (180)\n",
    "torsions.hist(bins=400)"
   ]
  },
  {
   "cell_type": "code",
   "execution_count": 303,
   "metadata": {},
   "outputs": [],
   "source": [
    "torsions *= 2*np.pi"
   ]
  },
  {
   "cell_type": "code",
   "execution_count": 306,
   "metadata": {},
   "outputs": [
    {
     "data": {
      "image/png": "[encoded data removed]",
      "text/plain": [
       "<Figure size 864x576 with 1 Axes>"
      ]
     },
     "metadata": {
      "needs_background": "light"
     },
     "output_type": "display_data"
    }
   ],
   "source": [
    "get_radial_hist(torsions, 100)"
   ]
  },
  {
   "cell_type": "code",
   "execution_count": 229,
   "metadata": {},
   "outputs": [
    {
     "data": {
      "text/plain": [
       "0    -6.277789\n",
       "1    -6.118320\n",
       "2    -2.304177\n",
       "3    -6.118787\n",
       "4    -6.277370\n",
       "5    -6.281837\n",
       "6    -6.278311\n",
       "7    -6.131964\n",
       "8    -2.291107\n",
       "9    -2.291598\n",
       "10   -6.132715\n",
       "11    6.282305\n",
       "12    6.110878\n",
       "13    2.352200\n",
       "14   -6.271489\n",
       "15   -2.110899\n",
       "16   -2.062938\n",
       "17   -6.111348\n",
       "dtype: float64"
      ]
     },
     "execution_count": 229,
     "metadata": {},
     "output_type": "execute_result"
    }
   ],
   "source": [
    "torsions"
   ]
  },
  {
   "cell_type": "code",
   "execution_count": 230,
   "metadata": {},
   "outputs": [
    {
     "name": "stdout",
     "output_type": "stream",
     "text": [
      "nonring\n",
      "(0, 1, 2, 3) -179.84539870751848\n",
      "(1, 2, 3, 4) -175.27696985984258\n",
      "(2, 3, 4, 5) -66.00980518637824\n",
      "(3, 4, 5, 6) -175.29033538933032\n",
      "(4, 5, 6, 7) -179.8333903303334\n",
      "(5, 6, 7, 8) -179.96138013540428\n",
      "(6, 7, 8, 9) -179.86036008612078\n",
      "(7, 8, 9, 10) -175.66782652516318\n",
      "(8, 9, 10, 11) -65.63537660043566\n"
     ]
    }
   ],
   "source": [
    "conf = m.GetConformer(0)\n",
    "print_dihedrals(conf)"
   ]
  },
  {
   "cell_type": "code",
   "execution_count": 270,
   "metadata": {},
   "outputs": [],
   "source": [
    "nonring, ring = TorsionFingerprints.CalculateTorsionLists(m)\n",
    "\n",
    "\n",
    "x = [\n",
    "    -180,\n",
    "    -180,\n",
    "    -180,\n",
    "    -180,\n",
    "    -180,\n",
    "    -180,\n",
    "    -180,\n",
    "    -180,\n",
    "    -180,\n",
    "]\n",
    "\n",
    "y = [\n",
    "    -180,\n",
    "    -180,\n",
    "    -180,\n",
    "    -180,\n",
    "    -180,\n",
    "    -180,\n",
    "    -180,\n",
    "    -180,\n",
    "    -180,\n",
    "]\n",
    "\n",
    "conf = m.GetConformer(id=0)\n",
    "\n",
    "for idx, tors in enumerate(nonring):\n",
    "    atoms, ang = tors\n",
    "    tup = atoms[0]\n",
    "    deg = Chem.rdMolTransforms.GetDihedralDeg(conf, *tup)\n",
    "    Chem.rdMolTransforms.SetDihedralDeg(conf, *tup, x[idx])\n",
    "\n",
    "conf = m.GetConformer(id=1)\n",
    "\n",
    "for idx, tors in enumerate(nonring):\n",
    "    atoms, ang = tors\n",
    "    tup = atoms[0]\n",
    "    deg = Chem.rdMolTransforms.GetDihedralDeg(conf, *tup)\n",
    "    Chem.rdMolTransforms.SetDihedralDeg(conf, *tup, y[idx])\n",
    "    \n",
    "    \n"
   ]
  },
  {
   "cell_type": "code",
   "execution_count": 271,
   "metadata": {},
   "outputs": [
    {
     "data": {
      "text/plain": [
       "(<rdkit.Chem.rdchem.Conformer at 0x7f8ed4ed3240>,\n",
       " <rdkit.Chem.rdchem.Conformer at 0x7f8ed4ed3818>)"
      ]
     },
     "execution_count": 271,
     "metadata": {},
     "output_type": "execute_result"
    }
   ],
   "source": [
    "m.GetConformers()"
   ]
  },
  {
   "cell_type": "code",
   "execution_count": 272,
   "metadata": {},
   "outputs": [
    {
     "data": {
      "text/plain": [
       "array([-6.02906893, -5.03576563])"
      ]
     },
     "execution_count": 272,
     "metadata": {},
     "output_type": "execute_result"
    }
   ],
   "source": [
    "confgen.get_conformer_energies(m)"
   ]
  },
  {
   "cell_type": "code",
   "execution_count": 273,
   "metadata": {},
   "outputs": [
    {
     "data": {
      "text/plain": [
       "1.1724221596635498"
      ]
     },
     "execution_count": 273,
     "metadata": {},
     "output_type": "execute_result"
    }
   ],
   "source": [
    "AllChem.GetConformerRMS(m, 0, 1)"
   ]
  },
  {
   "cell_type": "code",
   "execution_count": 274,
   "metadata": {},
   "outputs": [
    {
     "data": {
      "text/plain": [
       "[3.8478321840029904e-10]"
      ]
     },
     "execution_count": 274,
     "metadata": {},
     "output_type": "execute_result"
    }
   ],
   "source": [
    "Chem.TorsionFingerprints.GetTFDBetweenConformers(m, [0], [1])"
   ]
  },
  {
   "cell_type": "code",
   "execution_count": 298,
   "metadata": {},
   "outputs": [
    {
     "data": {
      "application/3dmoljs_load.v0": "<div id=\"3dmolviewer_1574044857955614\"  style=\"position: relative; width: 800px; height: 800px\">\n        <p id=\"3dmolwarning_1574044857955614\" style=\"background-color:#ffcccc;color:black\">You appear to be running in JupyterLab (or JavaScript failed to load for some other reason).  You need to install the 3dmol extension: <br>\n        <tt>jupyter labextension install jupyterlab_3dmol</tt></p>\n        </div>\n<script>\n\nvar loadScriptAsync = function(uri){\n  return new Promise((resolve, reject) => {\n    var tag = document.createElement('script');\n    tag.src = uri;\n    tag.async = true;\n    tag.onload = () => {\n      resolve();\n    };\n  var firstScriptTag = document.getElementsByTagName('script')[0];\n  firstScriptTag.parentNode.insertBefore(tag, firstScriptTag);\n});\n};\n\nif(typeof $3Dmolpromise === 'undefined') {\n$3Dmolpromise = null;\n  $3Dmolpromise = loadScriptAsync('https://3dmol.csb.pitt.edu/build/3Dmol.js');\n}\n\nvar viewer_1574044857955614 = null;\nvar warn = document.getElementById(\"3dmolwarning_1574044857955614\");\nif(warn) {\n    warn.parentNode.removeChild(warn);\n}\n$3Dmolpromise.then(function() {\nviewer_1574044857955614 = $3Dmol.createViewer($(\"#3dmolviewer_1574044857955614\"),{backgroundColor:\"white\"});\n\tviewer_1574044857955614.removeAllModels();\n\tviewer_1574044857955614.addModel(\"\\n     RDKit          3D\\n\\n 38 37  0  0  0  0  0  0  0  0999 V2000\\n   -5.9088    0.8075    1.0895 C   0  0  0  0  0  0  0  0  0  0  0  0\\n   -5.2861   -0.0774    0.0215 C   0  0  0  0  0  0  0  0  0  0  0  0\\n   -3.7980   -0.3082    0.2832 C   0  0  0  0  0  0  0  0  0  0  0  0\\n   -3.1753   -1.1987   -0.7933 C   0  0  0  0  0  0  0  0  0  0  0  0\\n   -1.6861   -1.4298   -0.5315 C   0  0  0  0  0  0  0  0  0  0  0  0\\n   -1.0635   -2.3203   -1.6081 C   0  0  0  0  0  0  0  0  0  0  0  0\\n    0.4256   -2.5514   -1.3462 C   0  0  0  0  0  0  0  0  0  0  0  0\\n    1.0482   -3.4419   -2.4228 C   0  0  0  0  0  0  0  0  0  0  0  0\\n    2.5374   -3.6730   -2.1609 C   0  0  0  0  0  0  0  0  0  0  0  0\\n    3.1600   -4.5636   -3.2374 C   0  0  0  0  0  0  0  0  0  0  0  0\\n    4.6481   -4.7944   -2.9757 C   0  0  0  0  0  0  0  0  0  0  0  0\\n    5.2709   -5.6793   -4.0437 C   0  0  0  0  0  0  0  0  0  0  0  0\\n   -6.9728    0.9594    0.8827 H   0  0  0  0  0  0  0  0  0  0  0  0\\n   -5.8171    0.3506    2.0800 H   0  0  0  0  0  0  0  0  0  0  0  0\\n   -5.4246    1.7889    1.1172 H   0  0  0  0  0  0  0  0  0  0  0  0\\n   -5.8136   -1.0381   -0.0020 H   0  0  0  0  0  0  0  0  0  0  0  0\\n   -5.4233    0.3923   -0.9595 H   0  0  0  0  0  0  0  0  0  0  0  0\\n   -3.6660   -0.7743    1.2672 H   0  0  0  0  0  0  0  0  0  0  0  0\\n   -3.2757    0.6560    0.3098 H   0  0  0  0  0  0  0  0  0  0  0  0\\n   -3.6976   -2.1629   -0.8197 H   0  0  0  0  0  0  0  0  0  0  0  0\\n   -3.3073   -0.7324   -1.7773 H   0  0  0  0  0  0  0  0  0  0  0  0\\n   -1.1639   -0.4656   -0.5052 H   0  0  0  0  0  0  0  0  0  0  0  0\\n   -1.5542   -1.8961    0.4524 H   0  0  0  0  0  0  0  0  0  0  0  0\\n   -1.5858   -3.2845   -1.6344 H   0  0  0  0  0  0  0  0  0  0  0  0\\n   -1.1955   -1.8540   -2.5920 H   0  0  0  0  0  0  0  0  0  0  0  0\\n    0.5576   -3.0177   -0.3623 H   0  0  0  0  0  0  0  0  0  0  0  0\\n    0.9479   -1.5872   -1.3199 H   0  0  0  0  0  0  0  0  0  0  0  0\\n    0.9163   -2.9756   -3.4067 H   0  0  0  0  0  0  0  0  0  0  0  0\\n    0.5260   -4.4061   -2.4491 H   0  0  0  0  0  0  0  0  0  0  0  0\\n    2.6693   -4.1393   -1.1770 H   0  0  0  0  0  0  0  0  0  0  0  0\\n    3.0597   -2.7089   -2.1346 H   0  0  0  0  0  0  0  0  0  0  0  0\\n    3.0281   -4.0975   -4.2215 H   0  0  0  0  0  0  0  0  0  0  0  0\\n    2.6378   -5.5277   -3.2640 H   0  0  0  0  0  0  0  0  0  0  0  0\\n    5.1757   -3.8338   -2.9522 H   0  0  0  0  0  0  0  0  0  0  0  0\\n    4.7853   -5.2641   -1.9947 H   0  0  0  0  0  0  0  0  0  0  0  0\\n    5.1791   -5.2225   -5.0342 H   0  0  0  0  0  0  0  0  0  0  0  0\\n    4.7867   -6.6607   -4.0714 H   0  0  0  0  0  0  0  0  0  0  0  0\\n    6.3349   -5.8313   -3.8369 H   0  0  0  0  0  0  0  0  0  0  0  0\\n  1  2  1  0\\n  2  3  1  0\\n  3  4  1  0\\n  4  5  1  0\\n  5  6  1  0\\n  6  7  1  0\\n  7  8  1  0\\n  8  9  1  0\\n  9 10  1  0\\n 10 11  1  0\\n 11 12  1  0\\n  1 13  1  0\\n  1 14  1  0\\n  1 15  1  0\\n  2 16  1  0\\n  2 17  1  0\\n  3 18  1  0\\n  3 19  1  0\\n  4 20  1  0\\n  4 21  1  0\\n  5 22  1  0\\n  5 23  1  0\\n  6 24  1  0\\n  6 25  1  0\\n  7 26  1  0\\n  7 27  1  0\\n  8 28  1  0\\n  8 29  1  0\\n  9 30  1  0\\n  9 31  1  0\\n 10 32  1  0\\n 10 33  1  0\\n 11 34  1  0\\n 11 35  1  0\\n 12 36  1  0\\n 12 37  1  0\\n 12 38  1  0\\nM  END\\n\",\"sdf\");\n\tviewer_1574044857955614.setStyle({\"stick\": {}});\n\tviewer_1574044857955614.setBackgroundColor(\"0xeeeeee\");\n\tviewer_1574044857955614.zoomTo();\nviewer_1574044857955614.render();\n});\n</script>",
      "text/html": [
       "<div id=\"3dmolviewer_1574044857955614\"  style=\"position: relative; width: 800px; height: 800px\">\n",
       "        <p id=\"3dmolwarning_1574044857955614\" style=\"background-color:#ffcccc;color:black\">You appear to be running in JupyterLab (or JavaScript failed to load for some other reason).  You need to install the 3dmol extension: <br>\n",
       "        <tt>jupyter labextension install jupyterlab_3dmol</tt></p>\n",
       "        </div>\n",
       "<script>\n",
       "\n",
       "var loadScriptAsync = function(uri){\n",
       "  return new Promise((resolve, reject) => {\n",
       "    var tag = document.createElement('script');\n",
       "    tag.src = uri;\n",
       "    tag.async = true;\n",
       "    tag.onload = () => {\n",
       "      resolve();\n",
       "    };\n",
       "  var firstScriptTag = document.getElementsByTagName('script')[0];\n",
       "  firstScriptTag.parentNode.insertBefore(tag, firstScriptTag);\n",
       "});\n",
       "};\n",
       "\n",
       "if(typeof $3Dmolpromise === 'undefined') {\n",
       "$3Dmolpromise = null;\n",
       "  $3Dmolpromise = loadScriptAsync('https://3dmol.csb.pitt.edu/build/3Dmol.js');\n",
       "}\n",
       "\n",
       "var viewer_1574044857955614 = null;\n",
       "var warn = document.getElementById(\"3dmolwarning_1574044857955614\");\n",
       "if(warn) {\n",
       "    warn.parentNode.removeChild(warn);\n",
       "}\n",
       "$3Dmolpromise.then(function() {\n",
       "viewer_1574044857955614 = $3Dmol.createViewer($(\"#3dmolviewer_1574044857955614\"),{backgroundColor:\"white\"});\n",
       "\tviewer_1574044857955614.removeAllModels();\n",
       "\tviewer_1574044857955614.addModel(\"\\n     RDKit          3D\\n\\n 38 37  0  0  0  0  0  0  0  0999 V2000\\n   -5.9088    0.8075    1.0895 C   0  0  0  0  0  0  0  0  0  0  0  0\\n   -5.2861   -0.0774    0.0215 C   0  0  0  0  0  0  0  0  0  0  0  0\\n   -3.7980   -0.3082    0.2832 C   0  0  0  0  0  0  0  0  0  0  0  0\\n   -3.1753   -1.1987   -0.7933 C   0  0  0  0  0  0  0  0  0  0  0  0\\n   -1.6861   -1.4298   -0.5315 C   0  0  0  0  0  0  0  0  0  0  0  0\\n   -1.0635   -2.3203   -1.6081 C   0  0  0  0  0  0  0  0  0  0  0  0\\n    0.4256   -2.5514   -1.3462 C   0  0  0  0  0  0  0  0  0  0  0  0\\n    1.0482   -3.4419   -2.4228 C   0  0  0  0  0  0  0  0  0  0  0  0\\n    2.5374   -3.6730   -2.1609 C   0  0  0  0  0  0  0  0  0  0  0  0\\n    3.1600   -4.5636   -3.2374 C   0  0  0  0  0  0  0  0  0  0  0  0\\n    4.6481   -4.7944   -2.9757 C   0  0  0  0  0  0  0  0  0  0  0  0\\n    5.2709   -5.6793   -4.0437 C   0  0  0  0  0  0  0  0  0  0  0  0\\n   -6.9728    0.9594    0.8827 H   0  0  0  0  0  0  0  0  0  0  0  0\\n   -5.8171    0.3506    2.0800 H   0  0  0  0  0  0  0  0  0  0  0  0\\n   -5.4246    1.7889    1.1172 H   0  0  0  0  0  0  0  0  0  0  0  0\\n   -5.8136   -1.0381   -0.0020 H   0  0  0  0  0  0  0  0  0  0  0  0\\n   -5.4233    0.3923   -0.9595 H   0  0  0  0  0  0  0  0  0  0  0  0\\n   -3.6660   -0.7743    1.2672 H   0  0  0  0  0  0  0  0  0  0  0  0\\n   -3.2757    0.6560    0.3098 H   0  0  0  0  0  0  0  0  0  0  0  0\\n   -3.6976   -2.1629   -0.8197 H   0  0  0  0  0  0  0  0  0  0  0  0\\n   -3.3073   -0.7324   -1.7773 H   0  0  0  0  0  0  0  0  0  0  0  0\\n   -1.1639   -0.4656   -0.5052 H   0  0  0  0  0  0  0  0  0  0  0  0\\n   -1.5542   -1.8961    0.4524 H   0  0  0  0  0  0  0  0  0  0  0  0\\n   -1.5858   -3.2845   -1.6344 H   0  0  0  0  0  0  0  0  0  0  0  0\\n   -1.1955   -1.8540   -2.5920 H   0  0  0  0  0  0  0  0  0  0  0  0\\n    0.5576   -3.0177   -0.3623 H   0  0  0  0  0  0  0  0  0  0  0  0\\n    0.9479   -1.5872   -1.3199 H   0  0  0  0  0  0  0  0  0  0  0  0\\n    0.9163   -2.9756   -3.4067 H   0  0  0  0  0  0  0  0  0  0  0  0\\n    0.5260   -4.4061   -2.4491 H   0  0  0  0  0  0  0  0  0  0  0  0\\n    2.6693   -4.1393   -1.1770 H   0  0  0  0  0  0  0  0  0  0  0  0\\n    3.0597   -2.7089   -2.1346 H   0  0  0  0  0  0  0  0  0  0  0  0\\n    3.0281   -4.0975   -4.2215 H   0  0  0  0  0  0  0  0  0  0  0  0\\n    2.6378   -5.5277   -3.2640 H   0  0  0  0  0  0  0  0  0  0  0  0\\n    5.1757   -3.8338   -2.9522 H   0  0  0  0  0  0  0  0  0  0  0  0\\n    4.7853   -5.2641   -1.9947 H   0  0  0  0  0  0  0  0  0  0  0  0\\n    5.1791   -5.2225   -5.0342 H   0  0  0  0  0  0  0  0  0  0  0  0\\n    4.7867   -6.6607   -4.0714 H   0  0  0  0  0  0  0  0  0  0  0  0\\n    6.3349   -5.8313   -3.8369 H   0  0  0  0  0  0  0  0  0  0  0  0\\n  1  2  1  0\\n  2  3  1  0\\n  3  4  1  0\\n  4  5  1  0\\n  5  6  1  0\\n  6  7  1  0\\n  7  8  1  0\\n  8  9  1  0\\n  9 10  1  0\\n 10 11  1  0\\n 11 12  1  0\\n  1 13  1  0\\n  1 14  1  0\\n  1 15  1  0\\n  2 16  1  0\\n  2 17  1  0\\n  3 18  1  0\\n  3 19  1  0\\n  4 20  1  0\\n  4 21  1  0\\n  5 22  1  0\\n  5 23  1  0\\n  6 24  1  0\\n  6 25  1  0\\n  7 26  1  0\\n  7 27  1  0\\n  8 28  1  0\\n  8 29  1  0\\n  9 30  1  0\\n  9 31  1  0\\n 10 32  1  0\\n 10 33  1  0\\n 11 34  1  0\\n 11 35  1  0\\n 12 36  1  0\\n 12 37  1  0\\n 12 38  1  0\\nM  END\\n\",\"sdf\");\n",
       "\tviewer_1574044857955614.setStyle({\"stick\": {}});\n",
       "\tviewer_1574044857955614.setBackgroundColor(\"0xeeeeee\");\n",
       "\tviewer_1574044857955614.zoomTo();\n",
       "viewer_1574044857955614.render();\n",
       "});\n",
       "</script>"
      ]
     },
     "metadata": {},
     "output_type": "display_data"
    }
   ],
   "source": [
    "p = py3Dmol.view(width=800,height=800)\n",
    "drawit(m, p, confId=0)"
   ]
  },
  {
   "cell_type": "code",
   "execution_count": 300,
   "metadata": {},
   "outputs": [
    {
     "name": "stdout",
     "output_type": "stream",
     "text": [
      "[-6.71287903 -6.71287902]\n",
      "1.1794663504444367\n",
      "[1.4362777388374274e-06]\n"
     ]
    }
   ],
   "source": [
    "AllChem.MMFFOptimizeMoleculeConfs(m)\n",
    "print(confgen.get_conformer_energies(m))\n",
    "print(AllChem.GetConformerRMS(m, 0, 1))\n",
    "print(Chem.TorsionFingerprints.GetTFDBetweenConformers(m, [0], [1]))"
   ]
  },
  {
   "cell_type": "code",
   "execution_count": 12,
   "metadata": {},
   "outputs": [],
   "source": [
    "conf = lignin.GetConformer(id=-1)"
   ]
  },
  {
   "cell_type": "code",
   "execution_count": 18,
   "metadata": {},
   "outputs": [
    {
     "data": {
      "text/plain": [
       "torch.Size([46, 3])"
      ]
     },
     "execution_count": 18,
     "metadata": {},
     "output_type": "execute_result"
    }
   ],
   "source": [
    "torch.Tensor(conf.GetPositions())"
   ]
  },
  {
   "cell_type": "code",
   "execution_count": 16,
   "metadata": {},
   "outputs": [],
   "source": [
    "import torch"
   ]
  },
  {
   "cell_type": "code",
   "execution_count": 21,
   "metadata": {},
   "outputs": [],
   "source": [
    "atom = lignin.GetAtomWithIdx(0)"
   ]
  },
  {
   "cell_type": "code",
   "execution_count": 22,
   "metadata": {},
   "outputs": [
    {
     "data": {
      "text/plain": [
       "0"
      ]
     },
     "execution_count": 22,
     "metadata": {},
     "output_type": "execute_result"
    }
   ],
   "source": [
    "atom.GetIdx()"
   ]
  },
  {
   "cell_type": "code",
   "execution_count": 55,
   "metadata": {},
   "outputs": [
    {
     "data": {
      "text/plain": [
       "46"
      ]
     },
     "execution_count": 55,
     "metadata": {},
     "output_type": "execute_result"
    }
   ],
   "source": [
    "conf.GetOwningMol()"
   ]
  },
  {
   "cell_type": "code",
   "execution_count": 28,
   "metadata": {},
   "outputs": [
    {
     "name": "stdout",
     "output_type": "stream",
     "text": [
      "[([(2, 1, 4, 5)], 180.0), ([(4, 1, 2, 14)], 180.0), ([(4, 1, 0, 3)], 180.0), ([(6, 5, 4, 1)], 180.0), ([(5, 6, 11, 12)], 180.0), ([(15, 14, 2, 1)], 180.0), ([(22, 20, 18, 19)], 180.0), ([(23, 21, 19, 18)], 180.0)]\n",
      "\n",
      "\n",
      "[([(6, 8, 10, 9), (8, 10, 9, 7), (10, 9, 7, 5), (9, 7, 5, 6), (7, 5, 6, 8), (5, 6, 8, 10)], 36.34137323903797), ([(15, 17, 19, 18), (17, 19, 18, 16), (19, 18, 16, 14), (18, 16, 14, 15), (16, 14, 15, 17), (14, 15, 17, 19)], 36.34137323903797)]\n"
     ]
    }
   ],
   "source": [
    "nonring, ring = TorsionFingerprints.CalculateTorsionLists(lignin)\n",
    "print(nonring)\n",
    "print('\\n')\n",
    "print(ring)"
   ]
  },
  {
   "cell_type": "code",
   "execution_count": 37,
   "metadata": {},
   "outputs": [
    {
     "name": "stdout",
     "output_type": "stream",
     "text": [
      "[([(0, 1, 2, 3)], 180.0), ([(1, 2, 3, 4)], 180.0), ([(2, 3, 4, 5)], 180.0)] \n",
      " []\n"
     ]
    },
    {
     "data": {
      "application/vnd.jupyter.widget-view+json": {
       "model_id": "b454108fc6544ef585a2dc35e01b9ad7",
       "version_major": 2,
       "version_minor": 0
      },
      "text/plain": [
       "NGLWidget()"
      ]
     },
     "metadata": {},
     "output_type": "display_data"
    }
   ],
   "source": [
    "def bond_features(bond, use_chirality=False):\n",
    "    from rdkit import Chem\n",
    "    bt = bond.GetBondType()\n",
    "    bond_feats = [\n",
    "        bt == Chem.rdchem.BondType.SINGLE, bt == Chem.rdchem.BondType.DOUBLE,\n",
    "        bt == Chem.rdchem.BondType.TRIPLE, bt == Chem.rdchem.BondType.AROMATIC,\n",
    "        bond.GetIsConjugated(),\n",
    "        bond.IsInRing()\n",
    "    ]\n",
    "    if use_chirality:\n",
    "        bond_feats = bond_feats + one_of_k_encoding_unk(\n",
    "            str(bond.GetStereo()),\n",
    "            [\"STEREONONE\", \"STEREOANY\", \"STEREOZ\", \"STEREOE\"])\n",
    "    return np.array(bond_feats)\n",
    " \n",
    "#################\n",
    "# pen added\n",
    "#################\n",
    "def get_bond_pair(mol):\n",
    "    bonds = mol.GetBonds()\n",
    "    res = [[],[]]\n",
    "    for bond in bonds:\n",
    "        res[0] += [bond.GetBeginAtomIdx(), bond.GetEndAtomIdx()]\n",
    "        res[1] += [bond.GetEndAtomIdx(), bond.GetBeginAtomIdx()]\n",
    "    return res\n",
    "\n",
    "def atom_features_simple(atom, conf):\n",
    "    p = conf.GetAtomPosition(atom.GetIdx())\n",
    "    return np.array([p.x, p.y, p.z])\n",
    "\n",
    "\n",
    "def mol2vecsimple(mol):\n",
    "    conf = mol.GetConformer(id=-1)\n",
    "    atoms = mol.GetAtoms()\n",
    "    bonds = mol.GetBonds()\n",
    "    node_f= [atom_features_simple(atom, conf) for atom in atoms]\n",
    "    edge_index = get_bond_pair(mol)\n",
    "    edge_attr = [bond_features(bond, use_chirality=False) for bond in bonds]\n",
    "    for bond in bonds:\n",
    "        edge_attr.append(bond_features(bond))\n",
    "    data = Data(\n",
    "                x=torch.tensor(node_f, dtype=torch.float),\n",
    "                edge_index=torch.tensor(edge_index, dtype=torch.long),\n",
    "                edge_attr=torch.tensor(edge_attr,dtype=torch.float),\n",
    "                pos=torch.Tensor(conf.GetPositions())\n",
    "            )\n",
    "    data = Distance()(data)\n",
    "    return data    \n",
    "\n"
   ]
  }
 ],
 "metadata": {
  "kernelspec": {
   "display_name": "Python 3",
   "language": "python",
   "name": "python3"
  },
  "language_info": {
   "codemirror_mode": {
    "name": "ipython",
    "version": 3
   },
   "file_extension": ".py",
   "mimetype": "text/x-python",
   "name": "python",
   "nbconvert_exporter": "python",
   "pygments_lexer": "ipython3",
   "version": "3.6.9"
  }
 },
 "nbformat": 4,
 "nbformat_minor": 2
}

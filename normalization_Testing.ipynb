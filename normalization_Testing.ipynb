{
 "cells": [
  {
   "cell_type": "code",
   "execution_count": 71,
   "metadata": {},
   "outputs": [],
   "source": [
    "import rdkit\n",
    "from rdkit import Chem\n",
    "\n",
    "from utils import *\n",
    "\n",
    "from graphenvironments import mol2vecstupidsimple"
   ]
  },
  {
   "cell_type": "code",
   "execution_count": 72,
   "metadata": {},
   "outputs": [
    {
     "data": {
      "text/plain": [
       "<rdkit.rdBase._vecti at 0x2b81a7dcabd0>"
      ]
     },
     "execution_count": 72,
     "metadata": {},
     "output_type": "execute_result"
    }
   ],
   "source": [
    "m = Chem.MolFromSmiles('[H]C([H])([H])C([H])([H])C([H])([H])C([H])([H])C([H])([H])C([H])([H])C([H])(C([H])([H])C([H])([H])[H])C([H])([H])C([H])([H])C([H])([H])C([H])([H])C([H])([H])[H]')\n",
    "m = Chem.AddHs(m)\n",
    "Chem.AllChem.EmbedMultipleConfs(m, numConfs=1)"
   ]
  },
  {
   "cell_type": "code",
   "execution_count": 73,
   "metadata": {},
   "outputs": [
    {
     "data": {
      "application/3dmoljs_load.v0": "<div id=\"3dmolviewer_15794090197650762\"  style=\"position: relative; width: 800px; height: 800px\">\n        <p id=\"3dmolwarning_15794090197650762\" style=\"background-color:#ffcccc;color:black\">You appear to be running in JupyterLab (or JavaScript failed to load for some other reason).  You need to install the 3dmol extension: <br>\n        <tt>jupyter labextension install jupyterlab_3dmol</tt></p>\n        </div>\n<script>\n\nvar loadScriptAsync = function(uri){\n  return new Promise((resolve, reject) => {\n    var tag = document.createElement('script');\n    tag.src = uri;\n    tag.async = true;\n    tag.onload = () => {\n      resolve();\n    };\n  var firstScriptTag = document.getElementsByTagName('script')[0];\n  firstScriptTag.parentNode.insertBefore(tag, firstScriptTag);\n});\n};\n\nif(typeof $3Dmolpromise === 'undefined') {\n$3Dmolpromise = null;\n  $3Dmolpromise = loadScriptAsync('https://3dmol.csb.pitt.edu/build/3Dmol.js');\n}\n\nvar viewer_15794090197650762 = null;\nvar warn = document.getElementById(\"3dmolwarning_15794090197650762\");\nif(warn) {\n    warn.parentNode.removeChild(warn);\n}\n$3Dmolpromise.then(function() {\nviewer_15794090197650762 = $3Dmol.createViewer($(\"#3dmolviewer_15794090197650762\"),{backgroundColor:\"white\"});\n\tviewer_15794090197650762.removeAllModels();\n\tviewer_15794090197650762.addModel(\"\\n     RDKit          3D\\n\\n 44 43  0  0  0  0  0  0  0  0999 V2000\\n   -5.7483    0.7006    0.5329 C   0  0  0  0  0  0  0  0  0  0  0  0\\n   -5.2032    0.6787   -0.8729 C   0  0  0  0  0  0  0  0  0  0  0  0\\n   -3.8862   -0.0479   -0.9677 C   0  0  0  0  0  0  0  0  0  0  0  0\\n   -2.8223    0.5987   -0.0958 C   0  0  0  0  0  0  0  0  0  0  0  0\\n   -1.5638   -0.2437   -0.3002 C   0  0  0  0  0  0  0  0  0  0  0  0\\n   -0.4103    0.2641    0.4966 C   0  0  0  0  0  0  0  0  0  0  0  0\\n    0.8053   -0.5745    0.2776 C   0  0  0  0  0  0  0  0  0  0  0  0\\n    0.5621   -2.0190    0.6871 C   0  0  0  0  0  0  0  0  0  0  0  0\\n    1.7946   -2.8663    0.4654 C   0  0  0  0  0  0  0  0  0  0  0  0\\n    2.0166   -0.0935    1.0044 C   0  0  0  0  0  0  0  0  0  0  0  0\\n    2.4407    1.2975    0.6226 C   0  0  0  0  0  0  0  0  0  0  0  0\\n    2.7745    1.4172   -0.8441 C   0  0  0  0  0  0  0  0  0  0  0  0\\n    3.8880    0.5180   -1.2657 C   0  0  0  0  0  0  0  0  0  0  0  0\\n    5.1882    0.7710   -0.5460 C   0  0  0  0  0  0  0  0  0  0  0  0\\n   -6.8151    1.0013    0.4675 H   0  0  0  0  0  0  0  0  0  0  0  0\\n   -5.1797    1.3667    1.2066 H   0  0  0  0  0  0  0  0  0  0  0  0\\n   -5.7664   -0.3568    0.9181 H   0  0  0  0  0  0  0  0  0  0  0  0\\n   -5.9236    0.1266   -1.5059 H   0  0  0  0  0  0  0  0  0  0  0  0\\n   -5.1136    1.6943   -1.2514 H   0  0  0  0  0  0  0  0  0  0  0  0\\n   -3.9606   -1.1169   -0.7742 H   0  0  0  0  0  0  0  0  0  0  0  0\\n   -3.5321    0.0789   -2.0222 H   0  0  0  0  0  0  0  0  0  0  0  0\\n   -3.1099    0.6869    0.9496 H   0  0  0  0  0  0  0  0  0  0  0  0\\n   -2.6327    1.6118   -0.5385 H   0  0  0  0  0  0  0  0  0  0  0  0\\n   -1.3495   -0.2144   -1.3811 H   0  0  0  0  0  0  0  0  0  0  0  0\\n   -1.8644   -1.2736    0.0489 H   0  0  0  0  0  0  0  0  0  0  0  0\\n   -0.1970    1.2980    0.1765 H   0  0  0  0  0  0  0  0  0  0  0  0\\n   -0.6918    0.2562    1.5871 H   0  0  0  0  0  0  0  0  0  0  0  0\\n    0.9876   -0.6178   -0.8364 H   0  0  0  0  0  0  0  0  0  0  0  0\\n    0.3212   -2.0344    1.7491 H   0  0  0  0  0  0  0  0  0  0  0  0\\n   -0.2372   -2.4941    0.0459 H   0  0  0  0  0  0  0  0  0  0  0  0\\n    1.4457   -3.9369    0.5530 H   0  0  0  0  0  0  0  0  0  0  0  0\\n    2.1269   -2.7290   -0.5739 H   0  0  0  0  0  0  0  0  0  0  0  0\\n    2.5672   -2.7319    1.2245 H   0  0  0  0  0  0  0  0  0  0  0  0\\n    1.7986   -0.0962    2.0840 H   0  0  0  0  0  0  0  0  0  0  0  0\\n    2.8601   -0.7724    0.7370 H   0  0  0  0  0  0  0  0  0  0  0  0\\n    1.6863    2.0364    0.9375 H   0  0  0  0  0  0  0  0  0  0  0  0\\n    3.3614    1.5316    1.1960 H   0  0  0  0  0  0  0  0  0  0  0  0\\n    1.8839    1.1657   -1.4271 H   0  0  0  0  0  0  0  0  0  0  0  0\\n    3.1118    2.4666   -1.0070 H   0  0  0  0  0  0  0  0  0  0  0  0\\n    3.6191   -0.5579   -1.2624 H   0  0  0  0  0  0  0  0  0  0  0  0\\n    4.0914    0.7543   -2.3517 H   0  0  0  0  0  0  0  0  0  0  0  0\\n    5.6534    1.7311   -0.8481 H   0  0  0  0  0  0  0  0  0  0  0  0\\n    5.1226    0.7458    0.5413 H   0  0  0  0  0  0  0  0  0  0  0  0\\n    5.9006   -0.0211   -0.9204 H   0  0  0  0  0  0  0  0  0  0  0  0\\n  1  2  1  0\\n  2  3  1  0\\n  3  4  1  0\\n  4  5  1  0\\n  5  6  1  0\\n  6  7  1  0\\n  7  8  1  0\\n  8  9  1  0\\n  7 10  1  0\\n 10 11  1  0\\n 11 12  1  0\\n 12 13  1  0\\n 13 14  1  0\\n  1 15  1  0\\n  1 16  1  0\\n  1 17  1  0\\n  2 18  1  0\\n  2 19  1  0\\n  3 20  1  0\\n  3 21  1  0\\n  4 22  1  0\\n  4 23  1  0\\n  5 24  1  0\\n  5 25  1  0\\n  6 26  1  0\\n  6 27  1  0\\n  7 28  1  0\\n  8 29  1  0\\n  8 30  1  0\\n  9 31  1  0\\n  9 32  1  0\\n  9 33  1  0\\n 10 34  1  0\\n 10 35  1  0\\n 11 36  1  0\\n 11 37  1  0\\n 12 38  1  0\\n 12 39  1  0\\n 13 40  1  0\\n 13 41  1  0\\n 14 42  1  0\\n 14 43  1  0\\n 14 44  1  0\\nM  END\\n\",\"sdf\");\n\tviewer_15794090197650762.setStyle({\"stick\": {}});\n\tviewer_15794090197650762.setBackgroundColor(\"0xeeeeee\");\n\tviewer_15794090197650762.zoomTo();\nviewer_15794090197650762.render();\n});\n</script>",
      "text/html": [
       "<div id=\"3dmolviewer_15794090197650762\"  style=\"position: relative; width: 800px; height: 800px\">\n",
       "        <p id=\"3dmolwarning_15794090197650762\" style=\"background-color:#ffcccc;color:black\">You appear to be running in JupyterLab (or JavaScript failed to load for some other reason).  You need to install the 3dmol extension: <br>\n",
       "        <tt>jupyter labextension install jupyterlab_3dmol</tt></p>\n",
       "        </div>\n",
       "<script>\n",
       "\n",
       "var loadScriptAsync = function(uri){\n",
       "  return new Promise((resolve, reject) => {\n",
       "    var tag = document.createElement('script');\n",
       "    tag.src = uri;\n",
       "    tag.async = true;\n",
       "    tag.onload = () => {\n",
       "      resolve();\n",
       "    };\n",
       "  var firstScriptTag = document.getElementsByTagName('script')[0];\n",
       "  firstScriptTag.parentNode.insertBefore(tag, firstScriptTag);\n",
       "});\n",
       "};\n",
       "\n",
       "if(typeof $3Dmolpromise === 'undefined') {\n",
       "$3Dmolpromise = null;\n",
       "  $3Dmolpromise = loadScriptAsync('https://3dmol.csb.pitt.edu/build/3Dmol.js');\n",
       "}\n",
       "\n",
       "var viewer_15794090197650762 = null;\n",
       "var warn = document.getElementById(\"3dmolwarning_15794090197650762\");\n",
       "if(warn) {\n",
       "    warn.parentNode.removeChild(warn);\n",
       "}\n",
       "$3Dmolpromise.then(function() {\n",
       "viewer_15794090197650762 = $3Dmol.createViewer($(\"#3dmolviewer_15794090197650762\"),{backgroundColor:\"white\"});\n",
       "\tviewer_15794090197650762.removeAllModels();\n",
       "\tviewer_15794090197650762.addModel(\"\\n     RDKit          3D\\n\\n 44 43  0  0  0  0  0  0  0  0999 V2000\\n   -5.7483    0.7006    0.5329 C   0  0  0  0  0  0  0  0  0  0  0  0\\n   -5.2032    0.6787   -0.8729 C   0  0  0  0  0  0  0  0  0  0  0  0\\n   -3.8862   -0.0479   -0.9677 C   0  0  0  0  0  0  0  0  0  0  0  0\\n   -2.8223    0.5987   -0.0958 C   0  0  0  0  0  0  0  0  0  0  0  0\\n   -1.5638   -0.2437   -0.3002 C   0  0  0  0  0  0  0  0  0  0  0  0\\n   -0.4103    0.2641    0.4966 C   0  0  0  0  0  0  0  0  0  0  0  0\\n    0.8053   -0.5745    0.2776 C   0  0  0  0  0  0  0  0  0  0  0  0\\n    0.5621   -2.0190    0.6871 C   0  0  0  0  0  0  0  0  0  0  0  0\\n    1.7946   -2.8663    0.4654 C   0  0  0  0  0  0  0  0  0  0  0  0\\n    2.0166   -0.0935    1.0044 C   0  0  0  0  0  0  0  0  0  0  0  0\\n    2.4407    1.2975    0.6226 C   0  0  0  0  0  0  0  0  0  0  0  0\\n    2.7745    1.4172   -0.8441 C   0  0  0  0  0  0  0  0  0  0  0  0\\n    3.8880    0.5180   -1.2657 C   0  0  0  0  0  0  0  0  0  0  0  0\\n    5.1882    0.7710   -0.5460 C   0  0  0  0  0  0  0  0  0  0  0  0\\n   -6.8151    1.0013    0.4675 H   0  0  0  0  0  0  0  0  0  0  0  0\\n   -5.1797    1.3667    1.2066 H   0  0  0  0  0  0  0  0  0  0  0  0\\n   -5.7664   -0.3568    0.9181 H   0  0  0  0  0  0  0  0  0  0  0  0\\n   -5.9236    0.1266   -1.5059 H   0  0  0  0  0  0  0  0  0  0  0  0\\n   -5.1136    1.6943   -1.2514 H   0  0  0  0  0  0  0  0  0  0  0  0\\n   -3.9606   -1.1169   -0.7742 H   0  0  0  0  0  0  0  0  0  0  0  0\\n   -3.5321    0.0789   -2.0222 H   0  0  0  0  0  0  0  0  0  0  0  0\\n   -3.1099    0.6869    0.9496 H   0  0  0  0  0  0  0  0  0  0  0  0\\n   -2.6327    1.6118   -0.5385 H   0  0  0  0  0  0  0  0  0  0  0  0\\n   -1.3495   -0.2144   -1.3811 H   0  0  0  0  0  0  0  0  0  0  0  0\\n   -1.8644   -1.2736    0.0489 H   0  0  0  0  0  0  0  0  0  0  0  0\\n   -0.1970    1.2980    0.1765 H   0  0  0  0  0  0  0  0  0  0  0  0\\n   -0.6918    0.2562    1.5871 H   0  0  0  0  0  0  0  0  0  0  0  0\\n    0.9876   -0.6178   -0.8364 H   0  0  0  0  0  0  0  0  0  0  0  0\\n    0.3212   -2.0344    1.7491 H   0  0  0  0  0  0  0  0  0  0  0  0\\n   -0.2372   -2.4941    0.0459 H   0  0  0  0  0  0  0  0  0  0  0  0\\n    1.4457   -3.9369    0.5530 H   0  0  0  0  0  0  0  0  0  0  0  0\\n    2.1269   -2.7290   -0.5739 H   0  0  0  0  0  0  0  0  0  0  0  0\\n    2.5672   -2.7319    1.2245 H   0  0  0  0  0  0  0  0  0  0  0  0\\n    1.7986   -0.0962    2.0840 H   0  0  0  0  0  0  0  0  0  0  0  0\\n    2.8601   -0.7724    0.7370 H   0  0  0  0  0  0  0  0  0  0  0  0\\n    1.6863    2.0364    0.9375 H   0  0  0  0  0  0  0  0  0  0  0  0\\n    3.3614    1.5316    1.1960 H   0  0  0  0  0  0  0  0  0  0  0  0\\n    1.8839    1.1657   -1.4271 H   0  0  0  0  0  0  0  0  0  0  0  0\\n    3.1118    2.4666   -1.0070 H   0  0  0  0  0  0  0  0  0  0  0  0\\n    3.6191   -0.5579   -1.2624 H   0  0  0  0  0  0  0  0  0  0  0  0\\n    4.0914    0.7543   -2.3517 H   0  0  0  0  0  0  0  0  0  0  0  0\\n    5.6534    1.7311   -0.8481 H   0  0  0  0  0  0  0  0  0  0  0  0\\n    5.1226    0.7458    0.5413 H   0  0  0  0  0  0  0  0  0  0  0  0\\n    5.9006   -0.0211   -0.9204 H   0  0  0  0  0  0  0  0  0  0  0  0\\n  1  2  1  0\\n  2  3  1  0\\n  3  4  1  0\\n  4  5  1  0\\n  5  6  1  0\\n  6  7  1  0\\n  7  8  1  0\\n  8  9  1  0\\n  7 10  1  0\\n 10 11  1  0\\n 11 12  1  0\\n 12 13  1  0\\n 13 14  1  0\\n  1 15  1  0\\n  1 16  1  0\\n  1 17  1  0\\n  2 18  1  0\\n  2 19  1  0\\n  3 20  1  0\\n  3 21  1  0\\n  4 22  1  0\\n  4 23  1  0\\n  5 24  1  0\\n  5 25  1  0\\n  6 26  1  0\\n  6 27  1  0\\n  7 28  1  0\\n  8 29  1  0\\n  8 30  1  0\\n  9 31  1  0\\n  9 32  1  0\\n  9 33  1  0\\n 10 34  1  0\\n 10 35  1  0\\n 11 36  1  0\\n 11 37  1  0\\n 12 38  1  0\\n 12 39  1  0\\n 13 40  1  0\\n 13 41  1  0\\n 14 42  1  0\\n 14 43  1  0\\n 14 44  1  0\\nM  END\\n\",\"sdf\");\n",
       "\tviewer_15794090197650762.setStyle({\"stick\": {}});\n",
       "\tviewer_15794090197650762.setBackgroundColor(\"0xeeeeee\");\n",
       "\tviewer_15794090197650762.zoomTo();\n",
       "viewer_15794090197650762.render();\n",
       "});\n",
       "</script>"
      ]
     },
     "metadata": {},
     "output_type": "display_data"
    }
   ],
   "source": [
    "import py3Dmol\n",
    "p = py3Dmol.view(width=800,height=800)\n",
    "drawit(m, p)"
   ]
  },
  {
   "cell_type": "code",
   "execution_count": 130,
   "metadata": {},
   "outputs": [],
   "source": [
    "from torch_geometric.data import Data, Batch\n",
    "from torch_geometric.transforms import Distance, NormalizeScale, RadiusGraph\n",
    "\n",
    "import glob\n",
    "import json\n",
    "\n",
    "def bond_features(bond, use_chirality=False, use_basic_feats=True, connectivity=False):\n",
    "    bt = bond.GetBondType()\n",
    "    bond_feats = []\n",
    "    if use_basic_feats:\n",
    "        bond_feats = bond_feats + [\n",
    "            bt == Chem.rdchem.BondType.SINGLE, bt == Chem.rdchem.BondType.DOUBLE,\n",
    "            bt == Chem.rdchem.BondType.TRIPLE, bt == Chem.rdchem.BondType.AROMATIC,\n",
    "            bond.GetIsConjugated(),\n",
    "            bond.IsInRing()\n",
    "        ]\n",
    "    if use_chirality:\n",
    "        bond_feats = bond_feats + one_of_k_encoding_unk(\n",
    "            str(bond.GetStereo()),\n",
    "            [\"STEREONONE\", \"STEREOANY\", \"STEREOZ\", \"STEREOE\"])\n",
    "    if connectivity:\n",
    "        bond_feats = bond_feats + [1]\n",
    "    return np.array(bond_feats)\n",
    "\n",
    "def get_bond_pair(mol):\n",
    "    bonds = mol.GetBonds()\n",
    "    res = [[],[]]\n",
    "    for bond in bonds:\n",
    "        res[0] += [bond.GetBeginAtomIdx(), bond.GetEndAtomIdx()]\n",
    "        res[1] += [bond.GetEndAtomIdx(), bond.GetBeginAtomIdx()]\n",
    "    return res\n",
    "\n",
    "def atom_features_simple(atom, conf):\n",
    "    p = conf.GetAtomPosition(atom.GetIdx())\n",
    "    return np.array([p.x, p.y, p.z])\n",
    "\n",
    "def mol2vecsimple(mol):\n",
    "    conf = mol.GetConformer(id=-1)\n",
    "    atoms = mol.GetAtoms()\n",
    "    bonds = mol.GetBonds()\n",
    "    node_f= [atom_features_simple(atom, conf) for atom in atoms]\n",
    "    edge_index = get_bond_pair(mol)\n",
    "    edge_attr = [bond_features(bond, use_chirality=False) for bond in bonds]\n",
    "    for bond in bonds:\n",
    "        edge_attr.append(bond_features(bond))\n",
    "    data = Data(\n",
    "                x=torch.tensor(node_f, dtype=torch.float),\n",
    "                edge_index=torch.tensor(edge_index, dtype=torch.long),\n",
    "                edge_attr=torch.tensor(edge_attr,dtype=torch.float),\n",
    "                pos=torch.Tensor(conf.GetPositions())\n",
    "            )\n",
    "    data = Distance()(data)\n",
    "    return data\n",
    "\n",
    "def mol2vecstupidsimple(mol):\n",
    "    conf = mol.GetConformer(id=-1)\n",
    "    atoms = mol.GetAtoms()\n",
    "    bonds = mol.GetBonds()\n",
    "    node_f= [[] for atom in atoms]\n",
    "    edge_index = get_bond_pair(mol)\n",
    "    edge_attr = [bond_features(bond, use_chirality=False, use_basic_feats=False) for bond in bonds]\n",
    "    for bond in bonds:\n",
    "        edge_attr.append(bond_features(bond, use_chirality=False, use_basic_feats=False))\n",
    "    \n",
    "    data = Data(\n",
    "                x=torch.tensor(node_f, dtype=torch.float),\n",
    "                edge_index=torch.tensor(edge_index, dtype=torch.long),\n",
    "                edge_attr=torch.tensor(edge_attr,dtype=torch.float),\n",
    "                pos=torch.Tensor(conf.GetPositions())\n",
    "            )\n",
    "    \n",
    "    data = NormalizeScale()(data)\n",
    "    data = Distance(norm=False)(data)\n",
    "    data.x = data.pos\n",
    "    \n",
    "    e = data.edge_attr\n",
    "    new_e = -1 + ((e - e.min())*2)/(e.max() - e.min())\n",
    "    data.edge_attr = new_e\n",
    "    \n",
    "    return data\n",
    "\n",
    "import time\n",
    "def mol2vecdense(mol):\n",
    "    conf = mol.GetConformer(id=-1)\n",
    "    atoms = mol.GetAtoms()\n",
    "    bonds = mol.GetBonds()\n",
    "\n",
    "    adj = Chem.rdmolops.GetAdjacencyMatrix(mol)\n",
    "    n = len(atoms)\n",
    "    \n",
    "    edge_index = []\n",
    "    edge_attr = []\n",
    "    \n",
    "    \n",
    "    for i in range(n):\n",
    "        for j in range(n):\n",
    "            if i == j:\n",
    "                continue\n",
    "            edge_index.append([i, j])\n",
    "            edge_attr.append(adj[i][j])            \n",
    "            \n",
    "            \n",
    "    node_f= [[] for atom in atoms]\n",
    "    \n",
    "    data = Data(\n",
    "                x=torch.tensor(node_f, dtype=torch.float),\n",
    "                edge_index=torch.tensor(edge_index, dtype=torch.long).T,\n",
    "                edge_attr=torch.tensor(edge_attr,dtype=torch.float),\n",
    "                pos=torch.Tensor(conf.GetPositions())\n",
    "            )\n",
    "    \n",
    "    data = NormalizeScale()(data)\n",
    "    data = Distance(norm=False)(data)\n",
    "    \n",
    "    return data\n"
   ]
  },
  {
   "cell_type": "code",
   "execution_count": 141,
   "metadata": {},
   "outputs": [
    {
     "name": "stdout",
     "output_type": "stream",
     "text": [
      "44 1892\n",
      "0.003658294677734375\n",
      "0.0020020008087158203\n"
     ]
    }
   ],
   "source": [
    "import time\n",
    "\n",
    "s = time.time()\n",
    "data = mol2vecdense(m)\n",
    "dt = time.time() - s \n",
    "print(dt)\n",
    "s = time.time()\n",
    "data = mol2vecstupidsimple(m)\n",
    "dt = time.time() - s \n",
    "print(dt)\n"
   ]
  },
  {
   "cell_type": "code",
   "execution_count": null,
   "metadata": {},
   "outputs": [],
   "source": []
  }
 ],
 "metadata": {
  "kernelspec": {
   "display_name": "Python 3",
   "language": "python",
   "name": "python3"
  },
  "language_info": {
   "codemirror_mode": {
    "name": "ipython",
    "version": 3
   },
   "file_extension": ".py",
   "mimetype": "text/x-python",
   "name": "python",
   "nbconvert_exporter": "python",
   "pygments_lexer": "ipython3",
   "version": "3.6.9"
  }
 },
 "nbformat": 4,
 "nbformat_minor": 2
}

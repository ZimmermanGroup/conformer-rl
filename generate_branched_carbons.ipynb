{
 "cells": [
  {
   "cell_type": "code",
   "execution_count": 2,
   "metadata": {},
   "outputs": [
    {
     "name": "stderr",
     "output_type": "stream",
     "text": [
      "/home/tgog/.conda/envs/my-rdkit-env/lib/python3.6/site-packages/sklearn/externals/joblib/__init__.py:15: FutureWarning: sklearn.externals.joblib is deprecated in 0.21 and will be removed in 0.23. Please import this functionality directly from joblib, which can be installed with: pip install joblib. If this warning is raised when loading pickled models, you may need to re-serialize those models with scikit-learn 0.21+.\n",
      "  warnings.warn(msg, category=FutureWarning)\n"
     ]
    },
    {
     "data": {
      "application/vnd.jupyter.widget-view+json": {
       "model_id": "f64b69f64e714289bfcf08a5fe827777",
       "version_major": 2,
       "version_minor": 0
      },
      "text/plain": [
       "_ColormakerRegistry()"
      ]
     },
     "metadata": {},
     "output_type": "display_data"
    }
   ],
   "source": [
    "import time\n",
    "from rdkit import Chem\n",
    "from rdkit.Chem import AllChem, TorsionFingerprints\n",
    "import json\n",
    "import tqdm\n",
    "import numpy as np\n",
    "\n",
    "from utils import *"
   ]
  },
  {
   "cell_type": "code",
   "execution_count": 3,
   "metadata": {},
   "outputs": [
    {
     "name": "stdout",
     "output_type": "stream",
     "text": [
      "[24.50173324 21.53951493 45.00012822 24.66197821 19.4671464  27.24193726\n",
      " 22.937188   22.30578244 20.33464216 29.93119333 24.26033289 21.3118421\n",
      " 25.48492927 28.06689404 24.83766412 22.93359404 30.06865847 23.38647059\n",
      " 17.98076529 25.79136803 22.16846669 28.84020455 17.4318376  26.3424884\n",
      " 22.31627544 19.02735872 20.48509577 27.08829426 24.86054411 40.67944524\n",
      " 25.6135028  26.92456698 21.90074337 21.62547777 24.77743314 20.86851396\n",
      " 23.91857596 24.73205104 28.22031783 20.98784371 19.83938484 28.3679565\n",
      " 33.48323447 25.18049611 29.40965825 26.29743189 34.58418151 40.88191884\n",
      " 27.32617738 19.59213937 27.23384237 17.82321542 19.00747813 16.90759096\n",
      " 22.14263516 20.8397445  21.41964402 21.96768566 22.84256095 24.3897546\n",
      " 24.14308675 21.52139243 24.92503876 21.80797106 26.58411568 22.96638481\n",
      " 22.54612258 23.16182613 23.10011204 22.46926238 22.07731508 31.42067205\n",
      " 27.53650609 26.25878283 23.32215673 22.83480157 21.8702033  91.49514667\n",
      " 23.43109497 27.02136037 23.8054258  24.2976175  26.14261685 25.91627304\n",
      " 22.32352755 25.59834473 21.31031584 28.20369826 18.12218437 21.95482139\n",
      " 25.99426752 26.26872389 25.87001446 25.78304345 18.82641522 20.0645167\n",
      " 30.09256025 22.3067044  19.7476201  20.4880248  19.97329093 19.88570781\n",
      " 21.66900209 22.33621163 26.29817206 21.73587223 31.13088054 22.51977043\n",
      " 22.58569586 19.7865824  20.74820672 28.92744501 17.32046177 21.69672681\n",
      " 26.16532469 23.4746791  23.80509979 22.16192677 23.77952184 24.49313365\n",
      " 20.13736921 19.22367928 24.28176033 24.2514685  24.54197131 20.94530507\n",
      " 35.42925028 31.16408283 33.70880126 23.5076774  25.29334866 19.01080041\n",
      " 26.30192162 19.86340952 31.19342481 20.60807102 28.32011791 20.14131851\n",
      " 21.44190521 26.30629312 22.47692547 26.44039209 28.90989162 24.92481877\n",
      " 22.23474745 26.53744115 26.99023252 24.69733867 21.34835761 24.54382736\n",
      " 25.13112781 24.49160625 23.28309741 21.37450569 20.74422777 21.27974518\n",
      " 19.2988005  20.6060178  22.81104562 20.7914311  21.74058227 21.97261984\n",
      " 24.41290641 22.74885556 28.71209013 23.35277878 25.99363612 20.06082445\n",
      " 17.61912108 28.81242604 21.59602541 32.51632365 20.64104801 19.96115168\n",
      " 17.1549517  25.53304493 24.85492679 22.54348191 18.6035235  23.76445373\n",
      " 14.99882995 22.0969593  24.7482735  21.62835373 28.09523231 24.05725389\n",
      " 21.47558895 21.38810557 21.03703846 19.7408354  25.08375874 23.67972557\n",
      " 22.19323244 27.91435709 27.39975421 25.46597202 22.90802754 23.56858708\n",
      " 24.0391212  21.85058875]\n"
     ]
    }
   ],
   "source": [
    "import pickle\n",
    "with open('test_mol.pickle', 'rb') as fp:\n",
    "    mol = pickle.load(fp)\n",
    "    \n",
    "confgen = ConformerGeneratorCustom(max_conformers=1, \n",
    "                 rmsd_threshold=None, \n",
    "                 force_field='mmff',\n",
    "                 pool_multiplier=1)\n",
    "\n",
    "energys = confgen.get_conformer_energies(mol)\n",
    "print(energys)"
   ]
  },
  {
   "cell_type": "code",
   "execution_count": 9,
   "metadata": {},
   "outputs": [
    {
     "data": {
      "text/plain": [
       "([<matplotlib.patches.Wedge at 0x2b1a9c09fda0>,\n",
       "  <matplotlib.patches.Wedge at 0x2b1a9c0ad1d0>,\n",
       "  <matplotlib.patches.Wedge at 0x2b1a9c0ad668>,\n",
       "  <matplotlib.patches.Wedge at 0x2b1a9c0adb00>,\n",
       "  <matplotlib.patches.Wedge at 0x2b1a9c0adf98>,\n",
       "  <matplotlib.patches.Wedge at 0x2b1a9c0c2470>,\n",
       "  <matplotlib.patches.Wedge at 0x2b1a9c0c2908>,\n",
       "  <matplotlib.patches.Wedge at 0x2b1a9c0c2da0>,\n",
       "  <matplotlib.patches.Wedge at 0x2b1a9c0ce278>,\n",
       "  <matplotlib.patches.Wedge at 0x2b1a9c0ce710>,\n",
       "  <matplotlib.patches.Wedge at 0x2b1a9c0bb7f0>,\n",
       "  <matplotlib.patches.Wedge at 0x2b1a9c0df048>,\n",
       "  <matplotlib.patches.Wedge at 0x2b1a9c0df4e0>,\n",
       "  <matplotlib.patches.Wedge at 0x2b1a9c0df978>,\n",
       "  <matplotlib.patches.Wedge at 0x2b1a9c0dfe10>,\n",
       "  <matplotlib.patches.Wedge at 0x2b1a9c0ea2e8>,\n",
       "  <matplotlib.patches.Wedge at 0x2b1a9c0ea780>,\n",
       "  <matplotlib.patches.Wedge at 0x2b1a9c0eac18>,\n",
       "  <matplotlib.patches.Wedge at 0x2b1a9c0f70f0>,\n",
       "  <matplotlib.patches.Wedge at 0x2b1a9c0f7588>,\n",
       "  <matplotlib.patches.Wedge at 0x2b1a9c0f7a20>,\n",
       "  <matplotlib.patches.Wedge at 0x2b1a9c0f7eb8>,\n",
       "  <matplotlib.patches.Wedge at 0x2b1a9c103390>,\n",
       "  <matplotlib.patches.Wedge at 0x2b1a9c103828>,\n",
       "  <matplotlib.patches.Wedge at 0x2b1a9c103cc0>,\n",
       "  <matplotlib.patches.Wedge at 0x2b1a9c110198>,\n",
       "  <matplotlib.patches.Wedge at 0x2b1a9c110630>,\n",
       "  <matplotlib.patches.Wedge at 0x2b1a9c110ac8>,\n",
       "  <matplotlib.patches.Wedge at 0x2b1a9c110f60>,\n",
       "  <matplotlib.patches.Wedge at 0x2b1a9c11e438>,\n",
       "  <matplotlib.patches.Wedge at 0x2b1a9c11e8d0>,\n",
       "  <matplotlib.patches.Wedge at 0x2b1a9c11ed68>,\n",
       "  <matplotlib.patches.Wedge at 0x2b1a9c12b240>,\n",
       "  <matplotlib.patches.Wedge at 0x2b1a9c12b6d8>,\n",
       "  <matplotlib.patches.Wedge at 0x2b1a9c12bb70>,\n",
       "  <matplotlib.patches.Wedge at 0x2b1a9c138048>,\n",
       "  <matplotlib.patches.Wedge at 0x2b1a9c1384e0>,\n",
       "  <matplotlib.patches.Wedge at 0x2b1a9c138978>,\n",
       "  <matplotlib.patches.Wedge at 0x2b1a9c138e10>,\n",
       "  <matplotlib.patches.Wedge at 0x2b1a9c1442e8>,\n",
       "  <matplotlib.patches.Wedge at 0x2b1a9c144780>,\n",
       "  <matplotlib.patches.Wedge at 0x2b1a9c144c18>,\n",
       "  <matplotlib.patches.Wedge at 0x2b1a9c1520f0>,\n",
       "  <matplotlib.patches.Wedge at 0x2b1a9c152588>,\n",
       "  <matplotlib.patches.Wedge at 0x2b1a9c152a20>,\n",
       "  <matplotlib.patches.Wedge at 0x2b1a9c152eb8>,\n",
       "  <matplotlib.patches.Wedge at 0x2b1a9c15e390>,\n",
       "  <matplotlib.patches.Wedge at 0x2b1a9c15e828>,\n",
       "  <matplotlib.patches.Wedge at 0x2b1a9c15ecc0>,\n",
       "  <matplotlib.patches.Wedge at 0x2b1a9c16c198>,\n",
       "  <matplotlib.patches.Wedge at 0x2b1a9c16c630>,\n",
       "  <matplotlib.patches.Wedge at 0x2b1a9c16cac8>,\n",
       "  <matplotlib.patches.Wedge at 0x2b1a9c16cf60>,\n",
       "  <matplotlib.patches.Wedge at 0x2b1a9c179438>,\n",
       "  <matplotlib.patches.Wedge at 0x2b1a9c1798d0>,\n",
       "  <matplotlib.patches.Wedge at 0x2b1a9c179d68>,\n",
       "  <matplotlib.patches.Wedge at 0x2b1a9c186240>,\n",
       "  <matplotlib.patches.Wedge at 0x2b1a9c1866d8>,\n",
       "  <matplotlib.patches.Wedge at 0x2b1a9c186b70>,\n",
       "  <matplotlib.patches.Wedge at 0x2b1a9c193048>,\n",
       "  <matplotlib.patches.Wedge at 0x2b1a9c1934e0>,\n",
       "  <matplotlib.patches.Wedge at 0x2b1a9c193978>,\n",
       "  <matplotlib.patches.Wedge at 0x2b1a9c193e10>,\n",
       "  <matplotlib.patches.Wedge at 0x2b1a9c19e2e8>,\n",
       "  <matplotlib.patches.Wedge at 0x2b1a9c19e780>,\n",
       "  <matplotlib.patches.Wedge at 0x2b1a9c19ec18>,\n",
       "  <matplotlib.patches.Wedge at 0x2b1a9c1ac0f0>,\n",
       "  <matplotlib.patches.Wedge at 0x2b1a9c1ac588>,\n",
       "  <matplotlib.patches.Wedge at 0x2b1a9c1aca20>,\n",
       "  <matplotlib.patches.Wedge at 0x2b1a9c1aceb8>,\n",
       "  <matplotlib.patches.Wedge at 0x2b1a9c1b9390>,\n",
       "  <matplotlib.patches.Wedge at 0x2b1a9c1b9828>,\n",
       "  <matplotlib.patches.Wedge at 0x2b1a9c1b9cc0>,\n",
       "  <matplotlib.patches.Wedge at 0x2b1a9c1c7198>,\n",
       "  <matplotlib.patches.Wedge at 0x2b1a9c1c7630>,\n",
       "  <matplotlib.patches.Wedge at 0x2b1a9c1c7ac8>,\n",
       "  <matplotlib.patches.Wedge at 0x2b1a9c1c7f60>,\n",
       "  <matplotlib.patches.Wedge at 0x2b1a9c1d2438>,\n",
       "  <matplotlib.patches.Wedge at 0x2b1a9c1d28d0>,\n",
       "  <matplotlib.patches.Wedge at 0x2b1a9c1d2d68>,\n",
       "  <matplotlib.patches.Wedge at 0x2b1a9c1df240>,\n",
       "  <matplotlib.patches.Wedge at 0x2b1a9c1df6d8>,\n",
       "  <matplotlib.patches.Wedge at 0x2b1a9c1dfb70>,\n",
       "  <matplotlib.patches.Wedge at 0x2b1a9c1ed048>,\n",
       "  <matplotlib.patches.Wedge at 0x2b1a9c1ed4e0>,\n",
       "  <matplotlib.patches.Wedge at 0x2b1a9c1ed978>,\n",
       "  <matplotlib.patches.Wedge at 0x2b1a9c1ede10>,\n",
       "  <matplotlib.patches.Wedge at 0x2b1a9c1f92e8>,\n",
       "  <matplotlib.patches.Wedge at 0x2b1a9c1f9780>,\n",
       "  <matplotlib.patches.Wedge at 0x2b1a9c1f9c18>,\n",
       "  <matplotlib.patches.Wedge at 0x2b1a9c2070f0>,\n",
       "  <matplotlib.patches.Wedge at 0x2b1a9c207588>,\n",
       "  <matplotlib.patches.Wedge at 0x2b1a9c207a20>,\n",
       "  <matplotlib.patches.Wedge at 0x2b1a9c207eb8>,\n",
       "  <matplotlib.patches.Wedge at 0x2b1a9c213390>,\n",
       "  <matplotlib.patches.Wedge at 0x2b1a9c213828>,\n",
       "  <matplotlib.patches.Wedge at 0x2b1a9c213cc0>,\n",
       "  <matplotlib.patches.Wedge at 0x2b1a9c221198>,\n",
       "  <matplotlib.patches.Wedge at 0x2b1a9c221630>,\n",
       "  <matplotlib.patches.Wedge at 0x2b1a9c221ac8>,\n",
       "  <matplotlib.patches.Wedge at 0x2b1a9c221f60>,\n",
       "  <matplotlib.patches.Wedge at 0x2b1a9c230438>,\n",
       "  <matplotlib.patches.Wedge at 0x2b1a9c2308d0>,\n",
       "  <matplotlib.patches.Wedge at 0x2b1a9c230d68>,\n",
       "  <matplotlib.patches.Wedge at 0x2b1a9c23a240>,\n",
       "  <matplotlib.patches.Wedge at 0x2b1a9c23a6d8>,\n",
       "  <matplotlib.patches.Wedge at 0x2b1a9c23ab70>,\n",
       "  <matplotlib.patches.Wedge at 0x2b1a9c247048>,\n",
       "  <matplotlib.patches.Wedge at 0x2b1a9c2474e0>,\n",
       "  <matplotlib.patches.Wedge at 0x2b1a9c247978>,\n",
       "  <matplotlib.patches.Wedge at 0x2b1a9c247e10>,\n",
       "  <matplotlib.patches.Wedge at 0x2b1a9c2552e8>,\n",
       "  <matplotlib.patches.Wedge at 0x2b1a9c255780>,\n",
       "  <matplotlib.patches.Wedge at 0x2b1a9c255c18>,\n",
       "  <matplotlib.patches.Wedge at 0x2b1a9c2610f0>,\n",
       "  <matplotlib.patches.Wedge at 0x2b1a9c261588>,\n",
       "  <matplotlib.patches.Wedge at 0x2b1a9c261a20>,\n",
       "  <matplotlib.patches.Wedge at 0x2b1a9c261eb8>,\n",
       "  <matplotlib.patches.Wedge at 0x2b1a9c26e390>,\n",
       "  <matplotlib.patches.Wedge at 0x2b1a9c26e828>,\n",
       "  <matplotlib.patches.Wedge at 0x2b1a9c26ecc0>,\n",
       "  <matplotlib.patches.Wedge at 0x2b1a9c27b198>,\n",
       "  <matplotlib.patches.Wedge at 0x2b1a9c27b630>,\n",
       "  <matplotlib.patches.Wedge at 0x2b1a9c27bac8>,\n",
       "  <matplotlib.patches.Wedge at 0x2b1a9c27bf60>,\n",
       "  <matplotlib.patches.Wedge at 0x2b1a9c288438>,\n",
       "  <matplotlib.patches.Wedge at 0x2b1a9c2888d0>,\n",
       "  <matplotlib.patches.Wedge at 0x2b1a9c288d68>,\n",
       "  <matplotlib.patches.Wedge at 0x2b1a9c295240>,\n",
       "  <matplotlib.patches.Wedge at 0x2b1a9c2956d8>,\n",
       "  <matplotlib.patches.Wedge at 0x2b1a9c295b70>,\n",
       "  <matplotlib.patches.Wedge at 0x2b1a9c2a4048>,\n",
       "  <matplotlib.patches.Wedge at 0x2b1a9c2a44e0>,\n",
       "  <matplotlib.patches.Wedge at 0x2b1a9c2a4978>,\n",
       "  <matplotlib.patches.Wedge at 0x2b1a9c2a4e10>,\n",
       "  <matplotlib.patches.Wedge at 0x2b1a9c2b02e8>,\n",
       "  <matplotlib.patches.Wedge at 0x2b1a9c2b0780>,\n",
       "  <matplotlib.patches.Wedge at 0x2b1a9c2b0c18>,\n",
       "  <matplotlib.patches.Wedge at 0x2b1a9c2be0f0>,\n",
       "  <matplotlib.patches.Wedge at 0x2b1a9c2be588>,\n",
       "  <matplotlib.patches.Wedge at 0x2b1a9c2bea20>,\n",
       "  <matplotlib.patches.Wedge at 0x2b1a9c2beeb8>,\n",
       "  <matplotlib.patches.Wedge at 0x2b1a9c2ca390>,\n",
       "  <matplotlib.patches.Wedge at 0x2b1a9c2ca828>,\n",
       "  <matplotlib.patches.Wedge at 0x2b1a9c2cacc0>,\n",
       "  <matplotlib.patches.Wedge at 0x2b1a9c2d6198>,\n",
       "  <matplotlib.patches.Wedge at 0x2b1a9c2d6630>,\n",
       "  <matplotlib.patches.Wedge at 0x2b1a9c2d6ac8>,\n",
       "  <matplotlib.patches.Wedge at 0x2b1a9c2d6f60>,\n",
       "  <matplotlib.patches.Wedge at 0x2b1a9c2e4438>,\n",
       "  <matplotlib.patches.Wedge at 0x2b1a9c2e48d0>,\n",
       "  <matplotlib.patches.Wedge at 0x2b1a9c2e4d68>,\n",
       "  <matplotlib.patches.Wedge at 0x2b1a9c2f0240>,\n",
       "  <matplotlib.patches.Wedge at 0x2b1a9c2f06d8>,\n",
       "  <matplotlib.patches.Wedge at 0x2b1a9c2f0b70>,\n",
       "  <matplotlib.patches.Wedge at 0x2b1a9c2fd048>,\n",
       "  <matplotlib.patches.Wedge at 0x2b1a9c2fd4e0>,\n",
       "  <matplotlib.patches.Wedge at 0x2b1a9c2fd978>,\n",
       "  <matplotlib.patches.Wedge at 0x2b1a9c2fde10>,\n",
       "  <matplotlib.patches.Wedge at 0x2b1a9c3092e8>,\n",
       "  <matplotlib.patches.Wedge at 0x2b1a9c309780>,\n",
       "  <matplotlib.patches.Wedge at 0x2b1a9c309c18>,\n",
       "  <matplotlib.patches.Wedge at 0x2b1a9c3160f0>,\n",
       "  <matplotlib.patches.Wedge at 0x2b1a9c316588>,\n",
       "  <matplotlib.patches.Wedge at 0x2b1a9c316a20>,\n",
       "  <matplotlib.patches.Wedge at 0x2b1a9c316eb8>,\n",
       "  <matplotlib.patches.Wedge at 0x2b1a9c323390>,\n",
       "  <matplotlib.patches.Wedge at 0x2b1a9c323828>,\n",
       "  <matplotlib.patches.Wedge at 0x2b1a9c323cc0>,\n",
       "  <matplotlib.patches.Wedge at 0x2b1a9c333198>,\n",
       "  <matplotlib.patches.Wedge at 0x2b1a9c333630>,\n",
       "  <matplotlib.patches.Wedge at 0x2b1a9c333ac8>,\n",
       "  <matplotlib.patches.Wedge at 0x2b1a9c333f60>,\n",
       "  <matplotlib.patches.Wedge at 0x2b1a9c340438>,\n",
       "  <matplotlib.patches.Wedge at 0x2b1a9c3408d0>,\n",
       "  <matplotlib.patches.Wedge at 0x2b1a9c340d68>,\n",
       "  <matplotlib.patches.Wedge at 0x2b1a9c34b240>,\n",
       "  <matplotlib.patches.Wedge at 0x2b1a9c34b6d8>,\n",
       "  <matplotlib.patches.Wedge at 0x2b1a9c34bb70>,\n",
       "  <matplotlib.patches.Wedge at 0x2b1a9c359048>,\n",
       "  <matplotlib.patches.Wedge at 0x2b1a9c3594e0>,\n",
       "  <matplotlib.patches.Wedge at 0x2b1a9c359978>,\n",
       "  <matplotlib.patches.Wedge at 0x2b1a9c359e10>,\n",
       "  <matplotlib.patches.Wedge at 0x2b1a9c3642e8>,\n",
       "  <matplotlib.patches.Wedge at 0x2b1a9c364780>,\n",
       "  <matplotlib.patches.Wedge at 0x2b1a9c364c18>,\n",
       "  <matplotlib.patches.Wedge at 0x2b1a9c3730f0>,\n",
       "  <matplotlib.patches.Wedge at 0x2b1a9c373588>,\n",
       "  <matplotlib.patches.Wedge at 0x2b1a9c373a20>,\n",
       "  <matplotlib.patches.Wedge at 0x2b1a9c373eb8>,\n",
       "  <matplotlib.patches.Wedge at 0x2b1a9c37f390>,\n",
       "  <matplotlib.patches.Wedge at 0x2b1a9c37f828>,\n",
       "  <matplotlib.patches.Wedge at 0x2b1a9c37fcc0>,\n",
       "  <matplotlib.patches.Wedge at 0x2b1a9c38b198>,\n",
       "  <matplotlib.patches.Wedge at 0x2b1a9c38b630>,\n",
       "  <matplotlib.patches.Wedge at 0x2b1a9c38bac8>,\n",
       "  <matplotlib.patches.Wedge at 0x2b1a9c38bf60>,\n",
       "  <matplotlib.patches.Wedge at 0x2b1a9c398438>,\n",
       "  <matplotlib.patches.Wedge at 0x2b1a9c3988d0>,\n",
       "  <matplotlib.patches.Wedge at 0x2b1a9c398d68>],\n",
       " [Text(1.1, 1.0271308186272508e-33, ''),\n",
       "  Text(1.1, 1.6001317448652686e-13, ''),\n",
       "  Text(1.1, 1.015269359856195e-11, ''),\n",
       "  Text(1.1, 3.202475085962666e-11, ''),\n",
       "  Text(1.1, 2.338813168761833e-09, ''),\n",
       "  Text(1.1, 9.976054891957763e-09, ''),\n",
       "  Text(1.0999999999999996, 2.8139394406012493e-08, ''),\n",
       "  Text(1.0999999999999985, 5.702518118082468e-08, ''),\n",
       "  Text(1.0999999999999939, 1.1533783209550193e-07, ''),\n",
       "  Text(1.0999999999999635, 2.839539820300424e-07, ''),\n",
       "  Text(1.0999999999998529, 5.689325154762438e-07, ''),\n",
       "  Text(1.0999999999996393, 8.908755841793753e-07, ''),\n",
       "  Text(1.0999999999993202, 1.2230556105428008e-06, ''),\n",
       "  Text(1.0999999999984127, 1.868805871355712e-06, ''),\n",
       "  Text(1.099999999996349, 2.834148429960121e-06, ''),\n",
       "  Text(1.0999999999931467, 3.883004355621648e-06, ''),\n",
       "  Text(1.0999999999868069, 5.387505300897184e-06, ''),\n",
       "  Text(1.0999999999719137, 7.860680764965566e-06, ''),\n",
       "  Text(1.0999999999455394, 1.0945940483660198e-05, ''),\n",
       "  Text(1.0999999999087249, 1.417059064235717e-05, ''),\n",
       "  Text(1.0999999998599264, 1.755455140112393e-05, ''),\n",
       "  Text(1.099999999796353, 2.116656540901601e-05, ''),\n",
       "  Text(1.0999999996988732, 2.5738668961581415e-05, ''),\n",
       "  Text(1.099999999556934, 3.122091310292635e-05, ''),\n",
       "  Text(1.0999999993733867, 3.7128824295425964e-05, ''),\n",
       "  Text(1.0999999991444964, 4.338326759961208e-05, ''),\n",
       "  Text(1.09999999886132, 5.0050936043028634e-05, ''),\n",
       "  Text(1.0999999985137943, 5.718087634660813e-05, ''),\n",
       "  Text(1.0999999980790955, 6.500761356382709e-05, ''),\n",
       "  Text(1.0999999974183234, 7.53637093085227e-05, ''),\n",
       "  Text(1.099999996435551, 8.855387233792438e-05, ''),\n",
       "  Text(1.099999995160629, 0.00010318244190661688, ''),\n",
       "  Text(1.0999999935615135, 0.00011901542254721049, ''),\n",
       "  Text(1.0999999916443344, 0.00013558194671263845, ''),\n",
       "  Text(1.099999989287299, 0.00015351854176018606, ''),\n",
       "  Text(1.09999998632913, 0.00017342408597164616, ''),\n",
       "  Text(1.099999982836109, 0.00019432076668146053, ''),\n",
       "  Text(1.0999999787410886, 0.00021626281455906977, ''),\n",
       "  Text(1.099999973044392, 0.0002435207118639471, ''),\n",
       "  Text(1.0999999653405899, 0.0002761352953383998, ''),\n",
       "  Text(1.0999999559760618, 0.0003112116034416541, ''),\n",
       "  Text(1.0999999443563506, 0.000349880016388507, ''),\n",
       "  Text(1.0999999304420456, 0.00039118728937067817, ''),\n",
       "  Text(1.099999914646133, 0.0004333341669948344, ''),\n",
       "  Text(1.0999998971612206, 0.0004756525033944913, ''),\n",
       "  Text(1.0999998780035156, 0.0005180658751811202, ''),\n",
       "  Text(1.0999998568874585, 0.0005611127970765816, ''),\n",
       "  Text(1.099999833627358, 0.0006049956899509151, ''),\n",
       "  Text(1.0999998072111141, 0.0006512568710838342, ''),\n",
       "  Text(1.0999997771235912, 0.0007002342820871933, ''),\n",
       "  Text(1.0999997417697418, 0.0007537284002160362, ''),\n",
       "  Text(1.0999997008874316, 0.0008112013073612208, ''),\n",
       "  Text(1.0999996551595783, 0.0008710044826285118, ''),\n",
       "  Text(1.099999602973172, 0.0009345902118060546, ''),\n",
       "  Text(1.0999995433539644, 0.0010023078716927477, ''),\n",
       "  Text(1.0999994766868577, 0.00107298119235111, ''),\n",
       "  Text(1.0999993983357539, 0.0011505046630495236, ''),\n",
       "  Text(1.099999306461691, 0.0012352262136366826, ''),\n",
       "  Text(1.0999992038302608, 0.0013234699816402065, ''),\n",
       "  Text(1.0999990875292764, 0.001416839708407083, ''),\n",
       "  Text(1.099998958958872, 0.0015133702119259538, ''),\n",
       "  Text(1.0999988070962845, 0.0016199959108455914, ''),\n",
       "  Text(1.0999986195124676, 0.0017427193307778632, ''),\n",
       "  Text(1.0999984008953594, 0.0018756405979136182, ''),\n",
       "  Text(1.099998154174702, 0.0020151457140380837, ''),\n",
       "  Text(1.0999978591222261, 0.0021702365122717054, ''),\n",
       "  Text(1.0999975161316335, 0.0023376279081062557, ''),\n",
       "  Text(1.0999971349578923, 0.0025105944372632717, ''),\n",
       "  Text(1.0999967117867262, 0.0026896204918218296, ''),\n",
       "  Text(1.099996254089422, 0.00287071232273028, ''),\n",
       "  Text(1.0999957464887768, 0.0030590368743513025, ''),\n",
       "  Text(1.0999951814020574, 0.0032559011432877773, ''),\n",
       "  Text(1.099994566938155, 0.0034572686533084237, ''),\n",
       "  Text(1.099993898242142, 0.0036638545353644167, ''),\n",
       "  Text(1.0999931647999224, 0.0038778078151012227, ''),\n",
       "  Text(1.0999923247466867, 0.004109196804696299, ''),\n",
       "  Text(1.0999913811568869, 0.0043544667371113515, ''),\n",
       "  Text(1.0999903608389396, 0.004605003954341424, ''),\n",
       "  Text(1.099989256322124, 0.004861684471516476, ''),\n",
       "  Text(1.0999880858563977, 0.005119665416633005, ''),\n",
       "  Text(1.0999868021967891, 0.005388412835133854, ''),\n",
       "  Text(1.099985381607887, 0.005671000701032959, ''),\n",
       "  Text(1.0999837959215042, 0.005970654077988673, ''),\n",
       "  Text(1.0999820355690602, 0.006286606823025443, ''),\n",
       "  Text(1.099980148711635, 0.006608512716902129, ''),\n",
       "  Text(1.0999781367843593, 0.0069353151629624014, ''),\n",
       "  Text(1.099975893976716, 0.007282353336981223, ''),\n",
       "  Text(1.0999732971012555, 0.007664572016320421, ''),\n",
       "  Text(1.0999704206266907, 0.008066830005722453, ''),\n",
       "  Text(1.099967168380582, 0.008498734306018788, ''),\n",
       "  Text(1.0999633114593514, 0.00898406608268655, ''),\n",
       "  Text(1.099959003208257, 0.009496907975647756, ''),\n",
       "  Text(1.0999543946061563, 0.010016475757702299, ''),\n",
       "  Text(1.0999494386280577, 0.010546680132679231, ''),\n",
       "  Text(1.0999439486723932, 0.011104493639230353, ''),\n",
       "  Text(1.0999375615850684, 0.011720094466082428, ''),\n",
       "  Text(1.099930216537719, 0.01239026824919824, ''),\n",
       "  Text(1.0999220828825498, 0.013092424806486883, ''),\n",
       "  Text(1.0999131559935207, 0.013822057458044391, ''),\n",
       "  Text(1.0999033092336175, 0.014584592450169525, ''),\n",
       "  Text(1.0998925097013763, 0.015377486882069467, ''),\n",
       "  Text(1.099880757640151, 0.016196264165772054, ''),\n",
       "  Text(1.0998679456388216, 0.017044123803772925, ''),\n",
       "  Text(1.0998533018552341, 0.01796425334211377, ''),\n",
       "  Text(1.0998363948061387, 0.018971153360700196, ''),\n",
       "  Text(1.0998166479048455, 0.02008335109859391, ''),\n",
       "  Text(1.0997940027409665, 0.02128735622390151, ''),\n",
       "  Text(1.0997696349429997, 0.022511109642600603, ''),\n",
       "  Text(1.0997435152756556, 0.02375290738297607, ''),\n",
       "  Text(1.099714664185509, 0.025053091133706476, ''),\n",
       "  Text(1.0996831300814833, 0.026401011613041057, ''),\n",
       "  Text(1.0996494012455056, 0.02777038603263054, ''),\n",
       "  Text(1.0996123565515263, 0.029200433544707437, ''),\n",
       "  Text(1.0995685604221423, 0.0308055340998572, ''),\n",
       "  Text(1.0995175251912468, 0.03257624590581471, ''),\n",
       "  Text(1.099462468946358, 0.03438428970298967, ''),\n",
       "  Text(1.0994036457344252, 0.03621634639019814, ''),\n",
       "  Text(1.0993396121147456, 0.03811059216806512, ''),\n",
       "  Text(1.099270566504755, 0.04005273544110485, ''),\n",
       "  Text(1.0991924965399438, 0.042140901156549636, ''),\n",
       "  Text(1.0991042961835693, 0.04438182185108234, ''),\n",
       "  Text(1.0990105761050877, 0.046644974104008134, ''),\n",
       "  Text(1.098911344643766, 0.04892705400113978, ''),\n",
       "  Text(1.098806816256162, 0.05122089953326723, ''),\n",
       "  Text(1.0986933310316036, 0.05360004054736782, ''),\n",
       "  Text(1.0985677224250723, 0.056115588260212776, ''),\n",
       "  Text(1.098431846726857, 0.0587152288271687, ''),\n",
       "  Text(1.0982875398831724, 0.061355356223960135, ''),\n",
       "  Text(1.0981348807756768, 0.06402955273770355, ''),\n",
       "  Text(1.0979703079590644, 0.06679223637727412, ''),\n",
       "  Text(1.097793009653303, 0.06964558820444601, ''),\n",
       "  Text(1.0975959293275341, 0.07268545881829865, ''),\n",
       "  Text(1.0973789053329945, 0.07589162094828782, ''),\n",
       "  Text(1.097150445893444, 0.07912584328661203, ''),\n",
       "  Text(1.0969040994337786, 0.08247058048401974, ''),\n",
       "  Text(1.0966363075891008, 0.08595818097972369, ''),\n",
       "  Text(1.0963502206104336, 0.08953319924728258, ''),\n",
       "  Text(1.0960428228761883, 0.0932208690240367, ''),\n",
       "  Text(1.09570445050058, 0.09711723406904677, ''),\n",
       "  Text(1.0953392447650367, 0.10115304680314569, ''),\n",
       "  Text(1.0949505045832695, 0.10527769237993344, ''),\n",
       "  Text(1.0945322549518468, 0.1095405991859883, ''),\n",
       "  Text(1.094081936692374, 0.11395049716198827, ''),\n",
       "  Text(1.0936034532446501, 0.1184545780093641, ''),\n",
       "  Text(1.0930981195577376, 0.1230304881699566, ''),\n",
       "  Text(1.0925500037103482, 0.12780645285946485, ''),\n",
       "  Text(1.091959191220476, 0.13275965015442048, ''),\n",
       "  Text(1.091325485307781, 0.13787198815472473, ''),\n",
       "  Text(1.0906407605316522, 0.14318774901135856, ''),\n",
       "  Text(1.089909666885555, 0.14865032132295747, ''),\n",
       "  Text(1.089130102005904, 0.15425829282281456, ''),\n",
       "  Text(1.0883029781086713, 0.15998946165231326, ''),\n",
       "  Text(1.0874281240029051, 0.16583146603561966, ''),\n",
       "  Text(1.0864924754841787, 0.1718548827245286, ''),\n",
       "  Text(1.0855046956915297, 0.17798751538138702, ''),\n",
       "  Text(1.0844653532207973, 0.18421427106413849, ''),\n",
       "  Text(1.083220759099525, 0.19139693585804507, ''),\n",
       "  Text(1.0817319673800116, 0.19963955206363665, ''),\n",
       "  Text(1.0801062228029212, 0.20825596621083048, ''),\n",
       "  Text(1.0783044978657317, 0.21739229490148027, ''),\n",
       "  Text(1.0763227321853768, 0.2270008285910112, ''),\n",
       "  Text(1.0741719539564605, 0.23696964643886342, ''),\n",
       "  Text(1.0718216769290205, 0.24738288717100518, ''),\n",
       "  Text(1.0693112745654325, 0.25801821270455005, ''),\n",
       "  Text(1.0665445524543458, 0.26922614588846955, ''),\n",
       "  Text(1.063456518099972, 0.2811765177085099, ''),\n",
       "  Text(1.060176909641638, 0.29330005159001615, ''),\n",
       "  Text(1.056536678225098, 0.3061539605575536, ''),\n",
       "  Text(1.0525060317057462, 0.31973591168810345, ''),\n",
       "  Text(1.0479449507938718, 0.3343820869987353, ''),\n",
       "  Text(1.0422531061096187, 0.35172213863339885, ''),\n",
       "  Text(1.0356698049042445, 0.37065894729468507, ''),\n",
       "  Text(1.0284594256946558, 0.39021943788055863, ''),\n",
       "  Text(1.020581824505247, 0.4103812123983521, ''),\n",
       "  Text(1.0119048396642307, 0.43133350839473117, ''),\n",
       "  Text(1.0023301363795645, 0.45313827658378625, ''),\n",
       "  Text(0.9918176378082316, 0.47570765532257275, ''),\n",
       "  Text(0.980239496257976, 0.4991297726803218, ''),\n",
       "  Text(0.9678173722897122, 0.5228092710484741, ''),\n",
       "  Text(0.9542991246451473, 0.5470952208724783, ''),\n",
       "  Text(0.9394958551739159, 0.5721429350354966, ''),\n",
       "  Text(0.9236728752473021, 0.597351169357173, ''),\n",
       "  Text(0.9057603157784155, 0.624178059820261, ''),\n",
       "  Text(0.8842810198219748, 0.6542530687605586, ''),\n",
       "  Text(0.8581205787454239, 0.6882071434776152, ''),\n",
       "  Text(0.8270991512027384, 0.7251944525985495, ''),\n",
       "  Text(0.7894566098859135, 0.7660014759172731, ''),\n",
       "  Text(0.7454448057541092, 0.8088955690163092, ''),\n",
       "  Text(0.6986335458612175, 0.8496535579854781, ''),\n",
       "  Text(0.6445240712819501, 0.8913970616611544, ''),\n",
       "  Text(0.5747902756660497, 0.9378785310474629, ''),\n",
       "  Text(0.4675275289477663, 0.9956997588008123, ''),\n",
       "  Text(0.31621114776410497, 1.0535703631128335, ''),\n",
       "  Text(0.1320078324228835, 1.0920503340867636, ''),\n",
       "  Text(-0.09378647071078822, 1.0959945702017024, ''),\n",
       "  Text(-0.361930266482779, 1.0387523680857265, ''),\n",
       "  Text(-0.6432616744522182, 0.8923084770307457, ''),\n",
       "  Text(-0.8995540255848956, 0.6330896895811912, ''),\n",
       "  Text(-1.0775734846695701, 0.22098729632510533, ''),\n",
       "  Text(0.015677419752217335, -1.0998882754670645, '')])"
      ]
     },
     "execution_count": 9,
     "metadata": {},
     "output_type": "execute_result"
    },
    {
     "data": {
      "image/png": "[encoded data removed]",
      "text/plain": [
       "<Figure size 432x288 with 1 Axes>"
      ]
     },
     "metadata": {},
     "output_type": "display_data"
    }
   ],
   "source": [
    "import matplotlib.pyplot as plt\n",
    "%matplotlib inline\n",
    "plt.title('ML model set')\n",
    "plt.pie(np.sort(np.exp(-(energys - energys.max()))))"
   ]
  },
  {
   "cell_type": "code",
   "execution_count": 11,
   "metadata": {},
   "outputs": [
    {
     "data": {
      "text/plain": [
       "([<matplotlib.patches.Wedge at 0x2b1a9ed23a90>,\n",
       "  <matplotlib.patches.Wedge at 0x2b1a9ed23ef0>,\n",
       "  <matplotlib.patches.Wedge at 0x2b1a9ed333c8>,\n",
       "  <matplotlib.patches.Wedge at 0x2b1a9ed33860>,\n",
       "  <matplotlib.patches.Wedge at 0x2b1a9ed33cf8>,\n",
       "  <matplotlib.patches.Wedge at 0x2b1a9ed461d0>,\n",
       "  <matplotlib.patches.Wedge at 0x2b1a9ed46668>,\n",
       "  <matplotlib.patches.Wedge at 0x2b1a9ed46b00>,\n",
       "  <matplotlib.patches.Wedge at 0x2b1a9ed46f98>,\n",
       "  <matplotlib.patches.Wedge at 0x2b1a9ed54470>,\n",
       "  <matplotlib.patches.Wedge at 0x2b1a9ed354a8>,\n",
       "  <matplotlib.patches.Wedge at 0x2b1a9ed54d68>,\n",
       "  <matplotlib.patches.Wedge at 0x2b1a9ed61240>,\n",
       "  <matplotlib.patches.Wedge at 0x2b1a9ed616d8>,\n",
       "  <matplotlib.patches.Wedge at 0x2b1a9ed61b70>,\n",
       "  <matplotlib.patches.Wedge at 0x2b1a9c61a048>,\n",
       "  <matplotlib.patches.Wedge at 0x2b1a9c61a4e0>,\n",
       "  <matplotlib.patches.Wedge at 0x2b1a9c61a978>,\n",
       "  <matplotlib.patches.Wedge at 0x2b1a9c61ae10>,\n",
       "  <matplotlib.patches.Wedge at 0x2b1a9c6262e8>,\n",
       "  <matplotlib.patches.Wedge at 0x2b1a9c626780>,\n",
       "  <matplotlib.patches.Wedge at 0x2b1a9c626c18>,\n",
       "  <matplotlib.patches.Wedge at 0x2b1a9c6330f0>,\n",
       "  <matplotlib.patches.Wedge at 0x2b1a9c633588>,\n",
       "  <matplotlib.patches.Wedge at 0x2b1a9c633a20>,\n",
       "  <matplotlib.patches.Wedge at 0x2b1a9c633eb8>,\n",
       "  <matplotlib.patches.Wedge at 0x2b1a9c641390>,\n",
       "  <matplotlib.patches.Wedge at 0x2b1a9c641828>,\n",
       "  <matplotlib.patches.Wedge at 0x2b1a9c641cc0>,\n",
       "  <matplotlib.patches.Wedge at 0x2b1a9c64e198>,\n",
       "  <matplotlib.patches.Wedge at 0x2b1a9c64e630>,\n",
       "  <matplotlib.patches.Wedge at 0x2b1a9c64eac8>,\n",
       "  <matplotlib.patches.Wedge at 0x2b1a9c64ef60>,\n",
       "  <matplotlib.patches.Wedge at 0x2b1a9c65b438>,\n",
       "  <matplotlib.patches.Wedge at 0x2b1a9c65b8d0>,\n",
       "  <matplotlib.patches.Wedge at 0x2b1a9c65bd68>,\n",
       "  <matplotlib.patches.Wedge at 0x2b1a9c66a240>,\n",
       "  <matplotlib.patches.Wedge at 0x2b1a9c66a6d8>,\n",
       "  <matplotlib.patches.Wedge at 0x2b1a9c66ab70>,\n",
       "  <matplotlib.patches.Wedge at 0x2b1a9c677048>,\n",
       "  <matplotlib.patches.Wedge at 0x2b1a9c6774e0>,\n",
       "  <matplotlib.patches.Wedge at 0x2b1a9c677978>,\n",
       "  <matplotlib.patches.Wedge at 0x2b1a9c677e10>,\n",
       "  <matplotlib.patches.Wedge at 0x2b1a9c6812e8>,\n",
       "  <matplotlib.patches.Wedge at 0x2b1a9c681780>,\n",
       "  <matplotlib.patches.Wedge at 0x2b1a9c681c18>,\n",
       "  <matplotlib.patches.Wedge at 0x2b1a9c6900f0>,\n",
       "  <matplotlib.patches.Wedge at 0x2b1a9c690588>,\n",
       "  <matplotlib.patches.Wedge at 0x2b1a9c690a20>,\n",
       "  <matplotlib.patches.Wedge at 0x2b1a9c690eb8>,\n",
       "  <matplotlib.patches.Wedge at 0x2b1a9c69d390>,\n",
       "  <matplotlib.patches.Wedge at 0x2b1a9c69d828>,\n",
       "  <matplotlib.patches.Wedge at 0x2b1a9c69dcc0>,\n",
       "  <matplotlib.patches.Wedge at 0x2b1a9c6aa198>,\n",
       "  <matplotlib.patches.Wedge at 0x2b1a9c6aa630>,\n",
       "  <matplotlib.patches.Wedge at 0x2b1a9c6aaac8>,\n",
       "  <matplotlib.patches.Wedge at 0x2b1a9c6aaf60>,\n",
       "  <matplotlib.patches.Wedge at 0x2b1a9c6b6438>,\n",
       "  <matplotlib.patches.Wedge at 0x2b1a9c6b68d0>,\n",
       "  <matplotlib.patches.Wedge at 0x2b1a9c6b6d68>,\n",
       "  <matplotlib.patches.Wedge at 0x2b1a9c6c2240>,\n",
       "  <matplotlib.patches.Wedge at 0x2b1a9c6c26d8>,\n",
       "  <matplotlib.patches.Wedge at 0x2b1a9c6c2b70>,\n",
       "  <matplotlib.patches.Wedge at 0x2b1a9c6d0048>,\n",
       "  <matplotlib.patches.Wedge at 0x2b1a9c6d04e0>,\n",
       "  <matplotlib.patches.Wedge at 0x2b1a9c6d0978>,\n",
       "  <matplotlib.patches.Wedge at 0x2b1a9c6d0e10>,\n",
       "  <matplotlib.patches.Wedge at 0x2b1a9c6dc2e8>,\n",
       "  <matplotlib.patches.Wedge at 0x2b1a9c6dc780>,\n",
       "  <matplotlib.patches.Wedge at 0x2b1a9c6dcc18>,\n",
       "  <matplotlib.patches.Wedge at 0x2b1a9c6ea0f0>,\n",
       "  <matplotlib.patches.Wedge at 0x2b1a9c6ea588>,\n",
       "  <matplotlib.patches.Wedge at 0x2b1a9c6eaa20>,\n",
       "  <matplotlib.patches.Wedge at 0x2b1a9c6eaeb8>,\n",
       "  <matplotlib.patches.Wedge at 0x2b1a9c6f4390>,\n",
       "  <matplotlib.patches.Wedge at 0x2b1a9c6f4828>,\n",
       "  <matplotlib.patches.Wedge at 0x2b1a9c6f4cc0>,\n",
       "  <matplotlib.patches.Wedge at 0x2b1a9c704198>,\n",
       "  <matplotlib.patches.Wedge at 0x2b1a9c704630>,\n",
       "  <matplotlib.patches.Wedge at 0x2b1a9c704ac8>,\n",
       "  <matplotlib.patches.Wedge at 0x2b1a9c704f60>,\n",
       "  <matplotlib.patches.Wedge at 0x2b1a9c711438>,\n",
       "  <matplotlib.patches.Wedge at 0x2b1a9c7118d0>,\n",
       "  <matplotlib.patches.Wedge at 0x2b1a9c711d68>,\n",
       "  <matplotlib.patches.Wedge at 0x2b1a9c71e240>,\n",
       "  <matplotlib.patches.Wedge at 0x2b1a9c71e6d8>,\n",
       "  <matplotlib.patches.Wedge at 0x2b1a9c71eb70>,\n",
       "  <matplotlib.patches.Wedge at 0x2b1a9c72a048>,\n",
       "  <matplotlib.patches.Wedge at 0x2b1a9c72a4e0>,\n",
       "  <matplotlib.patches.Wedge at 0x2b1a9c72a978>,\n",
       "  <matplotlib.patches.Wedge at 0x2b1a9c72ae10>,\n",
       "  <matplotlib.patches.Wedge at 0x2b1a9c7372e8>,\n",
       "  <matplotlib.patches.Wedge at 0x2b1a9c737780>,\n",
       "  <matplotlib.patches.Wedge at 0x2b1a9c737c18>,\n",
       "  <matplotlib.patches.Wedge at 0x2b1a9c7440f0>,\n",
       "  <matplotlib.patches.Wedge at 0x2b1a9c744588>,\n",
       "  <matplotlib.patches.Wedge at 0x2b1a9c744a20>,\n",
       "  <matplotlib.patches.Wedge at 0x2b1a9c744eb8>,\n",
       "  <matplotlib.patches.Wedge at 0x2b1a9c751390>,\n",
       "  <matplotlib.patches.Wedge at 0x2b1a9c751828>,\n",
       "  <matplotlib.patches.Wedge at 0x2b1a9c751cc0>,\n",
       "  <matplotlib.patches.Wedge at 0x2b1a9c75f198>,\n",
       "  <matplotlib.patches.Wedge at 0x2b1a9c75f630>,\n",
       "  <matplotlib.patches.Wedge at 0x2b1a9c75fac8>,\n",
       "  <matplotlib.patches.Wedge at 0x2b1a9c75ff60>,\n",
       "  <matplotlib.patches.Wedge at 0x2b1a9c76a438>,\n",
       "  <matplotlib.patches.Wedge at 0x2b1a9c76a8d0>,\n",
       "  <matplotlib.patches.Wedge at 0x2b1a9c76ad68>,\n",
       "  <matplotlib.patches.Wedge at 0x2b1a9c778240>,\n",
       "  <matplotlib.patches.Wedge at 0x2b1a9c7786d8>,\n",
       "  <matplotlib.patches.Wedge at 0x2b1a9c778b70>,\n",
       "  <matplotlib.patches.Wedge at 0x2b1a9c785048>,\n",
       "  <matplotlib.patches.Wedge at 0x2b1a9c7854e0>,\n",
       "  <matplotlib.patches.Wedge at 0x2b1a9c785978>,\n",
       "  <matplotlib.patches.Wedge at 0x2b1a9c785e10>,\n",
       "  <matplotlib.patches.Wedge at 0x2b1a9c7912e8>,\n",
       "  <matplotlib.patches.Wedge at 0x2b1a9c791780>,\n",
       "  <matplotlib.patches.Wedge at 0x2b1a9c791c18>,\n",
       "  <matplotlib.patches.Wedge at 0x2b1a9c7a00f0>,\n",
       "  <matplotlib.patches.Wedge at 0x2b1a9c7a0588>,\n",
       "  <matplotlib.patches.Wedge at 0x2b1a9c7a0a20>,\n",
       "  <matplotlib.patches.Wedge at 0x2b1a9c7a0eb8>,\n",
       "  <matplotlib.patches.Wedge at 0x2b1a9c7ab390>,\n",
       "  <matplotlib.patches.Wedge at 0x2b1a9c7ab828>,\n",
       "  <matplotlib.patches.Wedge at 0x2b1a9c7abcc0>,\n",
       "  <matplotlib.patches.Wedge at 0x2b1a9c7b9198>,\n",
       "  <matplotlib.patches.Wedge at 0x2b1a9c7b9630>,\n",
       "  <matplotlib.patches.Wedge at 0x2b1a9c7b9ac8>,\n",
       "  <matplotlib.patches.Wedge at 0x2b1a9c7b9f60>,\n",
       "  <matplotlib.patches.Wedge at 0x2b1a9c7c6438>,\n",
       "  <matplotlib.patches.Wedge at 0x2b1a9c7c68d0>,\n",
       "  <matplotlib.patches.Wedge at 0x2b1a9c7c6d68>,\n",
       "  <matplotlib.patches.Wedge at 0x2b1a9c7d4240>,\n",
       "  <matplotlib.patches.Wedge at 0x2b1a9c7d46d8>,\n",
       "  <matplotlib.patches.Wedge at 0x2b1a9c7d4b70>,\n",
       "  <matplotlib.patches.Wedge at 0x2b1a9c7e0048>,\n",
       "  <matplotlib.patches.Wedge at 0x2b1a9c7e04e0>,\n",
       "  <matplotlib.patches.Wedge at 0x2b1a9c7e0978>,\n",
       "  <matplotlib.patches.Wedge at 0x2b1a9c7e0e10>,\n",
       "  <matplotlib.patches.Wedge at 0x2b1a9c7ed2e8>,\n",
       "  <matplotlib.patches.Wedge at 0x2b1a9c7ed780>,\n",
       "  <matplotlib.patches.Wedge at 0x2b1a9c7edc18>,\n",
       "  <matplotlib.patches.Wedge at 0x2b1a9c7fa0f0>,\n",
       "  <matplotlib.patches.Wedge at 0x2b1a9c7fa588>,\n",
       "  <matplotlib.patches.Wedge at 0x2b1a9c7faa20>,\n",
       "  <matplotlib.patches.Wedge at 0x2b1a9c7faeb8>,\n",
       "  <matplotlib.patches.Wedge at 0x2b1a9c805390>,\n",
       "  <matplotlib.patches.Wedge at 0x2b1a9c805828>,\n",
       "  <matplotlib.patches.Wedge at 0x2b1a9c805cc0>,\n",
       "  <matplotlib.patches.Wedge at 0x2b1a9ef69198>,\n",
       "  <matplotlib.patches.Wedge at 0x2b1a9ef69630>,\n",
       "  <matplotlib.patches.Wedge at 0x2b1a9ef69ac8>,\n",
       "  <matplotlib.patches.Wedge at 0x2b1a9ef69f60>,\n",
       "  <matplotlib.patches.Wedge at 0x2b1a9ef74438>,\n",
       "  <matplotlib.patches.Wedge at 0x2b1a9ef748d0>,\n",
       "  <matplotlib.patches.Wedge at 0x2b1a9ef74d68>,\n",
       "  <matplotlib.patches.Wedge at 0x2b1a9ef84240>,\n",
       "  <matplotlib.patches.Wedge at 0x2b1a9ef846d8>,\n",
       "  <matplotlib.patches.Wedge at 0x2b1a9ef84b70>,\n",
       "  <matplotlib.patches.Wedge at 0x2b1a9ef90048>,\n",
       "  <matplotlib.patches.Wedge at 0x2b1a9ef904e0>,\n",
       "  <matplotlib.patches.Wedge at 0x2b1a9ef90978>,\n",
       "  <matplotlib.patches.Wedge at 0x2b1a9ef90e10>,\n",
       "  <matplotlib.patches.Wedge at 0x2b1a9ef9c2e8>,\n",
       "  <matplotlib.patches.Wedge at 0x2b1a9ef9c780>,\n",
       "  <matplotlib.patches.Wedge at 0x2b1a9ef9cc18>,\n",
       "  <matplotlib.patches.Wedge at 0x2b1a9efaa0f0>,\n",
       "  <matplotlib.patches.Wedge at 0x2b1a9efaa588>,\n",
       "  <matplotlib.patches.Wedge at 0x2b1a9efaaa20>,\n",
       "  <matplotlib.patches.Wedge at 0x2b1a9efaaeb8>,\n",
       "  <matplotlib.patches.Wedge at 0x2b1a9efb7390>,\n",
       "  <matplotlib.patches.Wedge at 0x2b1a9efb7828>,\n",
       "  <matplotlib.patches.Wedge at 0x2b1a9efb7cc0>,\n",
       "  <matplotlib.patches.Wedge at 0x2b1a9efc3198>,\n",
       "  <matplotlib.patches.Wedge at 0x2b1a9efc3630>,\n",
       "  <matplotlib.patches.Wedge at 0x2b1a9efc3ac8>,\n",
       "  <matplotlib.patches.Wedge at 0x2b1a9efc3f60>,\n",
       "  <matplotlib.patches.Wedge at 0x2b1a9efd0438>,\n",
       "  <matplotlib.patches.Wedge at 0x2b1a9efd08d0>,\n",
       "  <matplotlib.patches.Wedge at 0x2b1a9efd0d68>,\n",
       "  <matplotlib.patches.Wedge at 0x2b1a9efde240>,\n",
       "  <matplotlib.patches.Wedge at 0x2b1a9efde6d8>,\n",
       "  <matplotlib.patches.Wedge at 0x2b1a9efdeb70>,\n",
       "  <matplotlib.patches.Wedge at 0x2b1a9efec048>,\n",
       "  <matplotlib.patches.Wedge at 0x2b1a9efec4e0>,\n",
       "  <matplotlib.patches.Wedge at 0x2b1a9efec978>,\n",
       "  <matplotlib.patches.Wedge at 0x2b1a9efece10>,\n",
       "  <matplotlib.patches.Wedge at 0x2b1a9eff72e8>,\n",
       "  <matplotlib.patches.Wedge at 0x2b1a9eff7780>,\n",
       "  <matplotlib.patches.Wedge at 0x2b1a9eff7c18>,\n",
       "  <matplotlib.patches.Wedge at 0x2b1a9f0040f0>,\n",
       "  <matplotlib.patches.Wedge at 0x2b1a9f004588>,\n",
       "  <matplotlib.patches.Wedge at 0x2b1a9f004a20>,\n",
       "  <matplotlib.patches.Wedge at 0x2b1a9f004eb8>,\n",
       "  <matplotlib.patches.Wedge at 0x2b1a9f011390>,\n",
       "  <matplotlib.patches.Wedge at 0x2b1a9f011828>,\n",
       "  <matplotlib.patches.Wedge at 0x2b1a9f011cc0>,\n",
       "  <matplotlib.patches.Wedge at 0x2b1a9f01f198>,\n",
       "  <matplotlib.patches.Wedge at 0x2b1a9f01f630>,\n",
       "  <matplotlib.patches.Wedge at 0x2b1a9f01fac8>],\n",
       " [Text(1.1, 3.082454706632751e-12, ''),\n",
       "  Text(1.1, 1.6951676939029087e-10, ''),\n",
       "  Text(1.1, 1.0315254865310992e-09, ''),\n",
       "  Text(1.1, 5.257684223898772e-09, ''),\n",
       "  Text(1.0999999999999999, 1.3283795713022188e-08, ''),\n",
       "  Text(1.0999999999999999, 2.584008826425672e-08, ''),\n",
       "  Text(1.099999999999999, 5.013431708303122e-08, ''),\n",
       "  Text(1.0999999999999936, 1.18328132657075e-07, ''),\n",
       "  Text(1.0999999999999546, 3.1610211125051827e-07, ''),\n",
       "  Text(1.0999999999998313, 6.093755794997589e-07, ''),\n",
       "  Text(1.099999999999582, 9.589960466133248e-07, ''),\n",
       "  Text(1.099999999999115, 1.3954430690173407e-06, ''),\n",
       "  Text(1.0999999999983587, 1.900285354420775e-06, ''),\n",
       "  Text(1.0999999999971963, 2.4835671928601342e-06, ''),\n",
       "  Text(1.0999999999953853, 3.1862859170382973e-06, ''),\n",
       "  Text(1.0999999999926036, 4.03388536581008e-06, ''),\n",
       "  Text(1.0999999999881311, 5.109944442444771e-06, ''),\n",
       "  Text(1.0999999999815182, 6.376519963774674e-06, ''),\n",
       "  Text(1.0999999999726442, 7.757775753058217e-06, ''),\n",
       "  Text(1.0999999999595935, 9.42839589461312e-06, ''),\n",
       "  Text(1.0999999999413927, 1.1355004752661927e-05, ''),\n",
       "  Text(1.0999999999138261, 1.3768895604318576e-05, ''),\n",
       "  Text(1.099999999874362, 1.6625404526607545e-05, ''),\n",
       "  Text(1.0999999998261127, 1.9558936496377084e-05, ''),\n",
       "  Text(1.0999999997662435, 2.26773984458302e-05, ''),\n",
       "  Text(1.0999999996930494, 2.598636888406297e-05, ''),\n",
       "  Text(1.0999999996074885, 2.9385805126006552e-05, ''),\n",
       "  Text(1.0999999995065024, 3.2949884832800026e-05, ''),\n",
       "  Text(1.099999999378114, 3.698850466262651e-05, ''),\n",
       "  Text(1.0999999992142366, 4.1577394323228e-05, ''),\n",
       "  Text(1.0999999990179974, 4.648016732518585e-05, ''),\n",
       "  Text(1.0999999987931992, 5.152632481646017e-05, ''),\n",
       "  Text(1.0999999985355673, 5.676048072657522e-05, ''),\n",
       "  Text(1.099999998226096, 6.24707042504846e-05, ''),\n",
       "  Text(1.0999999978577155, 6.865148121152564e-05, ''),\n",
       "  Text(1.099999997425095, 7.526480836541581e-05, ''),\n",
       "  Text(1.0999999969254342, 8.224381451542321e-05, ''),\n",
       "  Text(1.0999999963544806, 8.955524861512391e-05, ''),\n",
       "  Text(1.0999999957087192, 9.716387266029516e-05, ''),\n",
       "  Text(1.0999999949424821, 0.00010548241323273455, ''),\n",
       "  Text(1.0999999938742357, 0.00011608910999039608, ''),\n",
       "  Text(1.0999999925099404, 0.00012836717352373824, ''),\n",
       "  Text(1.099999990994207, 0.00014075775129826607, ''),\n",
       "  Text(1.0999999893012549, 0.00015341851052073948, ''),\n",
       "  Text(1.0999999873053072, 0.0001671176956798745, ''),\n",
       "  Text(1.0999999848398718, 0.000182626070755569, ''),\n",
       "  Text(1.0999999819566395, 0.00019923702720391946, ''),\n",
       "  Text(1.0999999785845787, 0.00021705742739018208, ''),\n",
       "  Text(1.099999974672456, 0.00023605210519166798, ''),\n",
       "  Text(1.0999999702967962, 0.00025563068644324845, ''),\n",
       "  Text(1.0999999653414587, 0.0002761318343706282, ''),\n",
       "  Text(1.0999999598661165, 0.00029714397546840243, ''),\n",
       "  Text(1.0999999537540652, 0.00031896873598682876, ''),\n",
       "  Text(1.09999994682452, 0.0003420322398472377, ''),\n",
       "  Text(1.0999999391219546, 0.000365966796720628, ''),\n",
       "  Text(1.0999999300328873, 0.0003923361357567383, ''),\n",
       "  Text(1.0999999191319916, 0.00042179332889214524, ''),\n",
       "  Text(1.0999999069494233, 0.000452450285027384, ''),\n",
       "  Text(1.0999998937285267, 0.00048352583177820784, ''),\n",
       "  Text(1.0999998792722674, 0.0005153649167210509, ''),\n",
       "  Text(1.09999986315164, 0.0005486951555882619, ''),\n",
       "  Text(1.0999998455025481, 0.0005830046058882399, ''),\n",
       "  Text(1.0999998264054731, 0.0006179869975456997, ''),\n",
       "  Text(1.0999998050338207, 0.0006549240847965347, ''),\n",
       "  Text(1.0999997799715122, 0.0006957460923587362, ''),\n",
       "  Text(1.0999997504701504, 0.0007409221327724396, ''),\n",
       "  Text(1.0999997178181515, 0.0007879086158853605, ''),\n",
       "  Text(1.0999996831288166, 0.000834935029212498, ''),\n",
       "  Text(1.0999996444026374, 0.0008844852014677596, ''),\n",
       "  Text(1.0999996007028476, 0.0009372585427346569, ''),\n",
       "  Text(1.0999995528758741, 0.0009918028417504811, ''),\n",
       "  Text(1.09999950070391, 0.0010480702021765913, ''),\n",
       "  Text(1.0999994414175094, 0.0011085491271586214, ''),\n",
       "  Text(1.0999993742362857, 0.0011733199819904529, ''),\n",
       "  Text(1.099999301327947, 0.0012397895098620792, ''),\n",
       "  Text(1.0999992205611286, 0.001309490324376227, ''),\n",
       "  Text(1.0999991316026791, 0.0013821987382566959, ''),\n",
       "  Text(1.099999036680713, 0.0014557820934919207, ''),\n",
       "  Text(1.099998927452075, 0.0015361003499252106, ''),\n",
       "  Text(1.0999988002147634, 0.00162466183601629, ''),\n",
       "  Text(1.0999986615449513, 0.001715983483481375, ''),\n",
       "  Text(1.0999985116076323, 0.0018095471791946872, ''),\n",
       "  Text(1.099998351548846, 0.0019043607382925043, ''),\n",
       "  Text(1.0999981766938545, 0.0020028155671773648, ''),\n",
       "  Text(1.0999979792564656, 0.002108466668597578, ''),\n",
       "  Text(1.0999977504897591, 0.0022246162522187776, ''),\n",
       "  Text(1.09999748720518, 0.002351200180798071, ''),\n",
       "  Text(1.0999971929475278, 0.002485056852391697, ''),\n",
       "  Text(1.0999968510065248, 0.00263206681703912, ''),\n",
       "  Text(1.099996457292866, 0.0027917634470261965, ''),\n",
       "  Text(1.0999960272528635, 0.002956353821516197, ''),\n",
       "  Text(1.0999955474005798, 0.003129808124975941, ''),\n",
       "  Text(1.099995006745285, 0.003314383116099334, ''),\n",
       "  Text(1.0999944166607054, 0.003504756093466351, ''),\n",
       "  Text(1.0999937859439295, 0.0036974159544949513, ''),\n",
       "  Text(1.0999931115302606, 0.0038928891554015524, ''),\n",
       "  Text(1.0999923488568475, 0.004102737670819989, ''),\n",
       "  Text(1.099991492034697, 0.004326366984136754, ''),\n",
       "  Text(1.0999905505858414, 0.004559454118383514, ''),\n",
       "  Text(1.099989492495965, 0.004807951587657709, ''),\n",
       "  Text(1.099988263062438, 0.005081449092630862, ''),\n",
       "  Text(1.099986862059817, 0.005376178549581227, ''),\n",
       "  Text(1.099985277539485, 0.005691150708096173, ''),\n",
       "  Text(1.0999834644341937, 0.006031415368641889, ''),\n",
       "  Text(1.099981387620579, 0.006398975566875445, ''),\n",
       "  Text(1.0999790752663015, 0.006784834286276408, ''),\n",
       "  Text(1.0999764742529645, 0.007194170557990652, ''),\n",
       "  Text(1.09997329029553, 0.007665548670895604, ''),\n",
       "  Text(1.0999695557202642, 0.008183916456364447, ''),\n",
       "  Text(1.099965313193097, 0.00873554646326961, ''),\n",
       "  Text(1.0999605687799905, 0.009313813891208585, ''),\n",
       "  Text(1.099955293238682, 0.009917301861146538, ''),\n",
       "  Text(1.099949417914277, 0.010548840222665735, ''),\n",
       "  Text(1.0999430292336314, 0.0111951971998045, ''),\n",
       "  Text(1.0999354751449253, 0.011914298876042121, ''),\n",
       "  Text(1.0999267239793051, 0.012696530083193996, ''),\n",
       "  Text(1.099916540101813, 0.013550085256457496, ''),\n",
       "  Text(1.0999040370990139, 0.014529596460028014, ''),\n",
       "  Text(1.099889606812227, 0.015583735959151494, ''),\n",
       "  Text(1.0998737377882548, 0.016666161036466474, ''),\n",
       "  Text(1.0998565903875672, 0.01776177302622826, ''),\n",
       "  Text(1.099837919533376, 0.01888255164153977, ''),\n",
       "  Text(1.0998164298873747, 0.020095286755598074, ''),\n",
       "  Text(1.0997921207356665, 0.021384367368367595, ''),\n",
       "  Text(1.099766127317392, 0.0226818254403394, ''),\n",
       "  Text(1.0997380678752782, 0.024003792740945197, ''),\n",
       "  Text(1.099707740380453, 0.02535519172316553, ''),\n",
       "  Text(1.0996745184560348, 0.026757306637403357, ''),\n",
       "  Text(1.0996375671972862, 0.028235098874165806, ''),\n",
       "  Text(1.0995956481165865, 0.029822988499881672, ''),\n",
       "  Text(1.0995492108698226, 0.03148861501480595, ''),\n",
       "  Text(1.0994987710891855, 0.03320319824009763, ''),\n",
       "  Text(1.0994426332198453, 0.035012801353405454, ''),\n",
       "  Text(1.0993818997404319, 0.03687056445349343, ''),\n",
       "  Text(1.099316371607316, 0.03877518686126197, ''),\n",
       "  Text(1.0992413487525285, 0.040846752535812714, ''),\n",
       "  Text(1.099156772943563, 0.043062611303694986, ''),\n",
       "  Text(1.09906590195209, 0.04532265621341038, ''),\n",
       "  Text(1.0989693538623297, 0.047606294451614274, ''),\n",
       "  Text(1.0988667400688215, 0.04991880978670973, ''),\n",
       "  Text(1.0987536377443439, 0.052349245873948846, ''),\n",
       "  Text(1.0986282608905296, 0.05491761441150154, ''),\n",
       "  Text(1.098493023202665, 0.05755934307364415, ''),\n",
       "  Text(1.0983427208027403, 0.06035948690664961, ''),\n",
       "  Text(1.0981767826766744, 0.06330682419698833, ''),\n",
       "  Text(1.098000087605951, 0.06630088700254526, ''),\n",
       "  Text(1.0978055624032828, 0.06944744168371025, ''),\n",
       "  Text(1.0975915797401894, 0.07275111053059861, ''),\n",
       "  Text(1.0973631035042553, 0.07611976791549782, ''),\n",
       "  Text(1.0971174172530451, 0.0795824902852885, ''),\n",
       "  Text(1.096850246590673, 0.08318375174263015, ''),\n",
       "  Text(1.0965560741538538, 0.08697572210845933, ''),\n",
       "  Text(1.0962269975431247, 0.09102949993044128, ''),\n",
       "  Text(1.0958637133386475, 0.09530331467284116, ''),\n",
       "  Text(1.0954734161472883, 0.0996894904921802, ''),\n",
       "  Text(1.0950559455423332, 0.10417521841775337, ''),\n",
       "  Text(1.0946000453169495, 0.10886110780316442, ''),\n",
       "  Text(1.0940946134719913, 0.1138287168142283, ''),\n",
       "  Text(1.0935362280540308, 0.11907358201281577, ''),\n",
       "  Text(1.0929367222559954, 0.12445610127398918, ''),\n",
       "  Text(1.092278174338614, 0.13010914596408843, ''),\n",
       "  Text(1.091547746593777, 0.13610112749734152, ''),\n",
       "  Text(1.0907515060593262, 0.14234167355104352, ''),\n",
       "  Text(1.089865139091155, 0.14897643637105065, ''),\n",
       "  Text(1.0888882868823424, 0.15595607936351183, ''),\n",
       "  Text(1.0877891782452507, 0.16344633275947953, ''),\n",
       "  Text(1.086489830970139, 0.17187160090741813, ''),\n",
       "  Text(1.084993762217093, 0.1810760501833367, ''),\n",
       "  Text(1.0832490217308004, 0.19123691306665733, ''),\n",
       "  Text(1.0812490455805837, 0.20223872386631847, ''),\n",
       "  Text(1.0790370043833344, 0.21372679563274274, ''),\n",
       "  Text(1.0765968412570701, 0.22569723391149316, ''),\n",
       "  Text(1.0739924221203363, 0.23778199517224544, ''),\n",
       "  Text(1.0711131040790676, 0.2504330614557608, ''),\n",
       "  Text(1.0674927635194131, 0.2654415186697182, ''),\n",
       "  Text(1.063176744661202, 0.2822325452735906, ''),\n",
       "  Text(1.0584649690334687, 0.2994192868353315, ''),\n",
       "  Text(1.0530222503057831, 0.318031665657596, ''),\n",
       "  Text(1.045882032878274, 0.34077965505940766, ''),\n",
       "  Text(1.0357817006997265, 0.3703461468620706, ''),\n",
       "  Text(1.022944128009185, 0.40445680977272247, ''),\n",
       "  Text(1.008465508803663, 0.43931459974984866, ''),\n",
       "  Text(0.992603881922787, 0.4740649044084724, ''),\n",
       "  Text(0.9743555485085544, 0.5105205824358058, ''),\n",
       "  Text(0.9535128282796703, 0.5484644804416273, ''),\n",
       "  Text(0.9280082215784463, 0.5905935494761261, ''),\n",
       "  Text(0.8864922278179346, 0.6512538138225338, ''),\n",
       "  Text(0.821732423155532, 0.7312700080920438, ''),\n",
       "  Text(0.7374164857395537, 0.8162211260188791, ''),\n",
       "  Text(0.628770480231371, 0.9025783529365254, ''),\n",
       "  Text(0.480871068351917, 0.9893245249270263, ''),\n",
       "  Text(0.2828009061911509, 1.0630257040436342, ''),\n",
       "  Text(0.043974010797661243, 1.09912068781111, ''),\n",
       "  Text(-0.24163410369392938, 1.073132312407017, ''),\n",
       "  Text(-0.5456208641107914, 0.9551428545756877, ''),\n",
       "  Text(-0.8411571338977406, 0.7088403741978435, ''),\n",
       "  Text(-1.0817320263869177, 0.19963923233886954, ''),\n",
       "  Text(-0.9443712335673068, -0.56405937028877, ''),\n",
       "  Text(-0.21738376189634437, -1.0783062181327685, ''),\n",
       "  Text(0.8620468223842223, -0.683282720414665, '')])"
      ]
     },
     "execution_count": 11,
     "metadata": {},
     "output_type": "execute_result"
    },
    {
     "data": {
      "image/png": "[encoded data removed]",
      "text/plain": [
       "<Figure size 432x288 with 1 Axes>"
      ]
     },
     "metadata": {},
     "output_type": "display_data"
    }
   ],
   "source": [
    "mol = Chem.MolFromMolFile('258-trihexyl-decane.mol')\n",
    "standard = 14.88278294332602\n",
    "mol = Chem.AddHs(mol)\n",
    "res = AllChem.EmbedMultipleConfs(mol, numConfs=200, numThreads=-1)\n",
    "res = AllChem.MMFFOptimizeMoleculeConfs(mol, numThreads=-1)\n",
    "\n",
    "energys = confgen.get_conformer_energies(mol)\n",
    "plt.title('RDKit set')\n",
    "plt.pie(np.sort(np.exp(-(energys - energys.max()))))"
   ]
  },
  {
   "cell_type": "code",
   "execution_count": 3,
   "metadata": {},
   "outputs": [],
   "source": [
    "def create_branched():\n",
    "    m = Chem.MolFromSmiles('CCCC')\n",
    "    e = Chem.RWMol(m)\n",
    "\n",
    "    numatoms = len(e.GetAtoms())\n",
    "    tot = np.random.choice([15,16,17,18,19,20])\n",
    "    while numatoms < tot:\n",
    "        x = Chem.rdchem.Atom(6)\n",
    "        randidx = np.random.randint(len(e.GetAtoms()))\n",
    "        atom = e.GetAtomWithIdx(randidx)\n",
    "        if atom.GetDegree() > 2:\n",
    "            continue\n",
    "        idx = e.AddAtom(x)\n",
    "        e.AddBond(idx, randidx, Chem.rdchem.BondType.SINGLE)\n",
    "        numatoms = len(e.GetAtoms())\n",
    "\n",
    "\n",
    "    Chem.SanitizeMol(e)\n",
    "    m = Chem.rdmolops.AddHs(e.GetMol())\n",
    "    AllChem.EmbedMultipleConfs(m, numConfs=200, numThreads=-1)\n",
    "    Chem.AllChem.MMFFOptimizeMoleculeConfs(m, numThreads=-1)\n",
    "\n",
    "\n",
    "    confgen = ConformerGeneratorCustom(max_conformers=1, \n",
    "                     rmsd_threshold=None, \n",
    "                     force_field='mmff',\n",
    "                     pool_multiplier=1)  \n",
    "\n",
    "    energys = confgen.get_conformer_energies(m)\n",
    "    print(len(TorsionFingerprints.CalculateTorsionLists(m)[0]))\n",
    "    standard = energys.min()\n",
    "    total = np.sum(np.exp(-(energys-standard)))\n",
    "    \n",
    "    out = {\n",
    "        'mol': Chem.MolToSmiles(m, isomericSmiles=False),\n",
    "        'standard': standard,\n",
    "        'total': total\n",
    "    }\n",
    "    return out"
   ]
  },
  {
   "cell_type": "code",
   "execution_count": null,
   "metadata": {},
   "outputs": [
    {
     "name": "stderr",
     "output_type": "stream",
     "text": [
      "\n",
      "\n",
      "  0%|          | 0/500 [00:00<?, ?it/s]\u001b[A\u001b[A\n",
      "\n",
      "  0%|          | 1/500 [00:07<1:03:41,  7.66s/it]\u001b[A\u001b[A"
     ]
    },
    {
     "name": "stdout",
     "output_type": "stream",
     "text": [
      "8\n"
     ]
    },
    {
     "name": "stderr",
     "output_type": "stream",
     "text": [
      "\n",
      "\n",
      "  0%|          | 2/500 [00:17<1:09:22,  8.36s/it]\u001b[A\u001b[A"
     ]
    },
    {
     "name": "stdout",
     "output_type": "stream",
     "text": [
      "11\n"
     ]
    },
    {
     "name": "stderr",
     "output_type": "stream",
     "text": [
      "\n",
      "\n",
      "  1%|          | 3/500 [00:26<1:09:30,  8.39s/it]\u001b[A\u001b[A"
     ]
    },
    {
     "name": "stdout",
     "output_type": "stream",
     "text": [
      "10\n"
     ]
    },
    {
     "name": "stderr",
     "output_type": "stream",
     "text": [
      "\n",
      "\n",
      "  1%|          | 4/500 [00:31<1:02:21,  7.54s/it]\u001b[A\u001b[A"
     ]
    },
    {
     "name": "stdout",
     "output_type": "stream",
     "text": [
      "9\n"
     ]
    },
    {
     "name": "stderr",
     "output_type": "stream",
     "text": [
      "\n",
      "\n",
      "  1%|          | 5/500 [00:41<1:08:57,  8.36s/it]\u001b[A\u001b[A"
     ]
    },
    {
     "name": "stdout",
     "output_type": "stream",
     "text": [
      "10\n"
     ]
    },
    {
     "name": "stderr",
     "output_type": "stream",
     "text": [
      "\n",
      "\n",
      "  1%|          | 6/500 [00:50<1:08:07,  8.28s/it]\u001b[A\u001b[A"
     ]
    },
    {
     "name": "stdout",
     "output_type": "stream",
     "text": [
      "7\n"
     ]
    },
    {
     "name": "stderr",
     "output_type": "stream",
     "text": [
      "\n",
      "\n",
      "  1%|▏         | 7/500 [00:57<1:05:49,  8.01s/it]\u001b[A\u001b[A"
     ]
    },
    {
     "name": "stdout",
     "output_type": "stream",
     "text": [
      "9\n"
     ]
    },
    {
     "name": "stderr",
     "output_type": "stream",
     "text": [
      "\n",
      "\n",
      "  2%|▏         | 8/500 [01:06<1:08:12,  8.32s/it]\u001b[A\u001b[A"
     ]
    },
    {
     "name": "stdout",
     "output_type": "stream",
     "text": [
      "9\n"
     ]
    },
    {
     "name": "stderr",
     "output_type": "stream",
     "text": [
      "\n",
      "\n",
      "  2%|▏         | 9/500 [01:17<1:15:35,  9.24s/it]\u001b[A\u001b[A"
     ]
    },
    {
     "name": "stdout",
     "output_type": "stream",
     "text": [
      "9\n"
     ]
    },
    {
     "name": "stderr",
     "output_type": "stream",
     "text": [
      "\n",
      "\n",
      "  2%|▏         | 10/500 [01:23<1:06:46,  8.18s/it]\u001b[A\u001b[A"
     ]
    },
    {
     "name": "stdout",
     "output_type": "stream",
     "text": [
      "7\n"
     ]
    },
    {
     "name": "stderr",
     "output_type": "stream",
     "text": [
      "\n",
      "\n",
      "  2%|▏         | 11/500 [01:34<1:13:06,  8.97s/it]\u001b[A\u001b[A"
     ]
    },
    {
     "name": "stdout",
     "output_type": "stream",
     "text": [
      "11\n"
     ]
    },
    {
     "name": "stderr",
     "output_type": "stream",
     "text": [
      "\n",
      "\n",
      "  2%|▏         | 12/500 [01:42<1:11:03,  8.74s/it]\u001b[A\u001b[A"
     ]
    },
    {
     "name": "stdout",
     "output_type": "stream",
     "text": [
      "7\n"
     ]
    },
    {
     "name": "stderr",
     "output_type": "stream",
     "text": [
      "\n",
      "\n",
      "  3%|▎         | 13/500 [01:52<1:13:30,  9.06s/it]\u001b[A\u001b[A"
     ]
    },
    {
     "name": "stdout",
     "output_type": "stream",
     "text": [
      "11\n"
     ]
    },
    {
     "name": "stderr",
     "output_type": "stream",
     "text": [
      "\n",
      "\n",
      "  3%|▎         | 14/500 [01:59<1:09:40,  8.60s/it]\u001b[A\u001b[A"
     ]
    },
    {
     "name": "stdout",
     "output_type": "stream",
     "text": [
      "9\n"
     ]
    },
    {
     "name": "stderr",
     "output_type": "stream",
     "text": [
      "\n",
      "\n",
      "  3%|▎         | 15/500 [02:05<1:02:06,  7.68s/it]\u001b[A\u001b[A"
     ]
    },
    {
     "name": "stdout",
     "output_type": "stream",
     "text": [
      "7\n"
     ]
    },
    {
     "name": "stderr",
     "output_type": "stream",
     "text": [
      "\n",
      "\n",
      "  3%|▎         | 16/500 [02:12<59:44,  7.41s/it]  \u001b[A\u001b[A"
     ]
    },
    {
     "name": "stdout",
     "output_type": "stream",
     "text": [
      "8\n"
     ]
    },
    {
     "name": "stderr",
     "output_type": "stream",
     "text": [
      "\n",
      "\n",
      "  3%|▎         | 17/500 [02:20<1:01:35,  7.65s/it]\u001b[A\u001b[A"
     ]
    },
    {
     "name": "stdout",
     "output_type": "stream",
     "text": [
      "7\n"
     ]
    },
    {
     "name": "stderr",
     "output_type": "stream",
     "text": [
      "\n",
      "\n",
      "  4%|▎         | 18/500 [02:25<56:04,  6.98s/it]  \u001b[A\u001b[A"
     ]
    },
    {
     "name": "stdout",
     "output_type": "stream",
     "text": [
      "8\n"
     ]
    },
    {
     "name": "stderr",
     "output_type": "stream",
     "text": [
      "\n",
      "\n",
      "  4%|▍         | 19/500 [02:32<55:00,  6.86s/it]\u001b[A\u001b[A"
     ]
    },
    {
     "name": "stdout",
     "output_type": "stream",
     "text": [
      "9\n"
     ]
    },
    {
     "name": "stderr",
     "output_type": "stream",
     "text": [
      "\n",
      "\n",
      "  4%|▍         | 20/500 [02:40<57:19,  7.17s/it]\u001b[A\u001b[A"
     ]
    },
    {
     "name": "stdout",
     "output_type": "stream",
     "text": [
      "8\n"
     ]
    },
    {
     "name": "stderr",
     "output_type": "stream",
     "text": [
      "\n",
      "\n",
      "  4%|▍         | 21/500 [02:46<55:32,  6.96s/it]\u001b[A\u001b[A"
     ]
    },
    {
     "name": "stdout",
     "output_type": "stream",
     "text": [
      "9\n"
     ]
    },
    {
     "name": "stderr",
     "output_type": "stream",
     "text": [
      "\n",
      "\n",
      "  4%|▍         | 22/500 [02:53<55:10,  6.93s/it]\u001b[A\u001b[A"
     ]
    },
    {
     "name": "stdout",
     "output_type": "stream",
     "text": [
      "7\n"
     ]
    },
    {
     "name": "stderr",
     "output_type": "stream",
     "text": [
      "\n",
      "\n",
      "  5%|▍         | 23/500 [03:04<1:03:59,  8.05s/it]\u001b[A\u001b[A"
     ]
    },
    {
     "name": "stdout",
     "output_type": "stream",
     "text": [
      "12\n"
     ]
    },
    {
     "name": "stderr",
     "output_type": "stream",
     "text": [
      "\n",
      "\n",
      "  5%|▍         | 24/500 [03:13<1:07:43,  8.54s/it]\u001b[A\u001b[A"
     ]
    },
    {
     "name": "stdout",
     "output_type": "stream",
     "text": [
      "10\n"
     ]
    },
    {
     "name": "stderr",
     "output_type": "stream",
     "text": [
      "\n",
      "\n",
      "  5%|▌         | 25/500 [03:25<1:13:58,  9.34s/it]\u001b[A\u001b[A"
     ]
    },
    {
     "name": "stdout",
     "output_type": "stream",
     "text": [
      "10\n"
     ]
    },
    {
     "name": "stderr",
     "output_type": "stream",
     "text": [
      "\n",
      "\n",
      "  5%|▌         | 26/500 [03:35<1:16:01,  9.62s/it]\u001b[A\u001b[A"
     ]
    },
    {
     "name": "stdout",
     "output_type": "stream",
     "text": [
      "11\n"
     ]
    },
    {
     "name": "stderr",
     "output_type": "stream",
     "text": [
      "\n",
      "\n",
      "  5%|▌         | 27/500 [03:46<1:19:51, 10.13s/it]\u001b[A\u001b[A"
     ]
    },
    {
     "name": "stdout",
     "output_type": "stream",
     "text": [
      "10\n"
     ]
    },
    {
     "name": "stderr",
     "output_type": "stream",
     "text": [
      "\n",
      "\n",
      "  6%|▌         | 28/500 [03:56<1:19:16, 10.08s/it]\u001b[A\u001b[A"
     ]
    },
    {
     "name": "stdout",
     "output_type": "stream",
     "text": [
      "10\n"
     ]
    },
    {
     "name": "stderr",
     "output_type": "stream",
     "text": [
      "\n",
      "\n",
      "  6%|▌         | 29/500 [04:03<1:11:15,  9.08s/it]\u001b[A\u001b[A"
     ]
    },
    {
     "name": "stdout",
     "output_type": "stream",
     "text": [
      "7\n"
     ]
    },
    {
     "name": "stderr",
     "output_type": "stream",
     "text": [
      "\n",
      "\n",
      "  6%|▌         | 30/500 [04:14<1:15:14,  9.61s/it]\u001b[A\u001b[A"
     ]
    },
    {
     "name": "stdout",
     "output_type": "stream",
     "text": [
      "10\n"
     ]
    },
    {
     "name": "stderr",
     "output_type": "stream",
     "text": [
      "\n",
      "\n",
      "  6%|▌         | 31/500 [04:19<1:05:37,  8.39s/it]\u001b[A\u001b[A"
     ]
    },
    {
     "name": "stdout",
     "output_type": "stream",
     "text": [
      "7\n"
     ]
    },
    {
     "name": "stderr",
     "output_type": "stream",
     "text": [
      "\n",
      "\n",
      "  6%|▋         | 32/500 [04:30<1:10:50,  9.08s/it]\u001b[A\u001b[A"
     ]
    },
    {
     "name": "stdout",
     "output_type": "stream",
     "text": [
      "13\n"
     ]
    },
    {
     "name": "stderr",
     "output_type": "stream",
     "text": [
      "\n",
      "\n",
      "  7%|▋         | 33/500 [04:37<1:06:46,  8.58s/it]\u001b[A\u001b[A"
     ]
    },
    {
     "name": "stdout",
     "output_type": "stream",
     "text": [
      "9\n"
     ]
    },
    {
     "name": "stderr",
     "output_type": "stream",
     "text": [
      "\n",
      "\n",
      "  7%|▋         | 34/500 [04:44<1:01:39,  7.94s/it]\u001b[A\u001b[A"
     ]
    },
    {
     "name": "stdout",
     "output_type": "stream",
     "text": [
      "9\n"
     ]
    },
    {
     "name": "stderr",
     "output_type": "stream",
     "text": [
      "\n",
      "\n",
      "  7%|▋         | 35/500 [04:50<56:11,  7.25s/it]  \u001b[A\u001b[A"
     ]
    },
    {
     "name": "stdout",
     "output_type": "stream",
     "text": [
      "7\n"
     ]
    },
    {
     "name": "stderr",
     "output_type": "stream",
     "text": [
      "\n",
      "\n",
      "  7%|▋         | 36/500 [04:58<59:06,  7.64s/it]\u001b[A\u001b[A"
     ]
    },
    {
     "name": "stdout",
     "output_type": "stream",
     "text": [
      "8\n"
     ]
    },
    {
     "name": "stderr",
     "output_type": "stream",
     "text": [
      "\n",
      "\n",
      "  7%|▋         | 37/500 [05:04<54:44,  7.09s/it]\u001b[A\u001b[A"
     ]
    },
    {
     "name": "stdout",
     "output_type": "stream",
     "text": [
      "7\n"
     ]
    },
    {
     "name": "stderr",
     "output_type": "stream",
     "text": [
      "\n",
      "\n",
      "  8%|▊         | 38/500 [05:13<58:38,  7.62s/it]\u001b[A\u001b[A"
     ]
    },
    {
     "name": "stdout",
     "output_type": "stream",
     "text": [
      "9\n"
     ]
    },
    {
     "name": "stderr",
     "output_type": "stream",
     "text": [
      "\n",
      "\n",
      "  8%|▊         | 39/500 [05:20<58:45,  7.65s/it]\u001b[A\u001b[A"
     ]
    },
    {
     "name": "stdout",
     "output_type": "stream",
     "text": [
      "9\n"
     ]
    },
    {
     "name": "stderr",
     "output_type": "stream",
     "text": [
      "\n",
      "\n",
      "  8%|▊         | 40/500 [05:33<1:08:46,  8.97s/it]\u001b[A\u001b[A"
     ]
    },
    {
     "name": "stdout",
     "output_type": "stream",
     "text": [
      "9\n"
     ]
    },
    {
     "name": "stderr",
     "output_type": "stream",
     "text": [
      "\n",
      "\n",
      "  8%|▊         | 41/500 [05:42<1:09:57,  9.14s/it]\u001b[A\u001b[A"
     ]
    },
    {
     "name": "stdout",
     "output_type": "stream",
     "text": [
      "12\n"
     ]
    },
    {
     "name": "stderr",
     "output_type": "stream",
     "text": [
      "\n",
      "\n",
      "  8%|▊         | 42/500 [05:49<1:04:35,  8.46s/it]\u001b[A\u001b[A"
     ]
    },
    {
     "name": "stdout",
     "output_type": "stream",
     "text": [
      "9\n"
     ]
    },
    {
     "name": "stderr",
     "output_type": "stream",
     "text": [
      "\n",
      "\n",
      "  9%|▊         | 43/500 [05:57<1:02:48,  8.25s/it]\u001b[A\u001b[A"
     ]
    },
    {
     "name": "stdout",
     "output_type": "stream",
     "text": [
      "9\n"
     ]
    },
    {
     "name": "stderr",
     "output_type": "stream",
     "text": [
      "\n",
      "\n",
      "  9%|▉         | 44/500 [06:03<58:41,  7.72s/it]  \u001b[A\u001b[A"
     ]
    },
    {
     "name": "stdout",
     "output_type": "stream",
     "text": [
      "9\n"
     ]
    },
    {
     "name": "stderr",
     "output_type": "stream",
     "text": [
      "\n",
      "\n",
      "  9%|▉         | 45/500 [06:12<1:00:28,  7.98s/it]\u001b[A\u001b[A"
     ]
    },
    {
     "name": "stdout",
     "output_type": "stream",
     "text": [
      "10\n"
     ]
    },
    {
     "name": "stderr",
     "output_type": "stream",
     "text": [
      "\n",
      "\n",
      "  9%|▉         | 46/500 [06:23<1:07:50,  8.97s/it]\u001b[A\u001b[A"
     ]
    },
    {
     "name": "stdout",
     "output_type": "stream",
     "text": [
      "10\n"
     ]
    },
    {
     "name": "stderr",
     "output_type": "stream",
     "text": [
      "\n",
      "\n",
      "  9%|▉         | 47/500 [06:31<1:04:42,  8.57s/it]\u001b[A\u001b[A"
     ]
    },
    {
     "name": "stdout",
     "output_type": "stream",
     "text": [
      "9\n"
     ]
    },
    {
     "name": "stderr",
     "output_type": "stream",
     "text": [
      "\n",
      "\n",
      " 10%|▉         | 48/500 [06:42<1:11:25,  9.48s/it]\u001b[A\u001b[A"
     ]
    },
    {
     "name": "stdout",
     "output_type": "stream",
     "text": [
      "12\n"
     ]
    },
    {
     "name": "stderr",
     "output_type": "stream",
     "text": [
      "\n",
      "\n",
      " 10%|▉         | 49/500 [06:52<1:11:46,  9.55s/it]\u001b[A\u001b[A"
     ]
    },
    {
     "name": "stdout",
     "output_type": "stream",
     "text": [
      "9\n"
     ]
    },
    {
     "name": "stderr",
     "output_type": "stream",
     "text": [
      "\n",
      "\n",
      " 10%|█         | 50/500 [07:01<1:10:24,  9.39s/it]\u001b[A\u001b[A"
     ]
    },
    {
     "name": "stdout",
     "output_type": "stream",
     "text": [
      "9\n"
     ]
    },
    {
     "name": "stderr",
     "output_type": "stream",
     "text": [
      "\n",
      "\n",
      " 10%|█         | 51/500 [07:13<1:15:09, 10.04s/it]\u001b[A\u001b[A"
     ]
    },
    {
     "name": "stdout",
     "output_type": "stream",
     "text": [
      "10\n"
     ]
    },
    {
     "name": "stderr",
     "output_type": "stream",
     "text": [
      "\n",
      "\n",
      " 10%|█         | 52/500 [07:21<1:11:03,  9.52s/it]\u001b[A\u001b[A"
     ]
    },
    {
     "name": "stdout",
     "output_type": "stream",
     "text": [
      "8\n"
     ]
    },
    {
     "name": "stderr",
     "output_type": "stream",
     "text": [
      "\n",
      "\n",
      " 11%|█         | 53/500 [07:30<1:09:18,  9.30s/it]\u001b[A\u001b[A"
     ]
    },
    {
     "name": "stdout",
     "output_type": "stream",
     "text": [
      "10\n"
     ]
    },
    {
     "name": "stderr",
     "output_type": "stream",
     "text": [
      "\n",
      "\n",
      " 11%|█         | 54/500 [07:39<1:08:30,  9.22s/it]\u001b[A\u001b[A"
     ]
    },
    {
     "name": "stdout",
     "output_type": "stream",
     "text": [
      "11\n"
     ]
    },
    {
     "name": "stderr",
     "output_type": "stream",
     "text": [
      "\n",
      "\n",
      " 11%|█         | 55/500 [07:47<1:05:26,  8.82s/it]\u001b[A\u001b[A"
     ]
    },
    {
     "name": "stdout",
     "output_type": "stream",
     "text": [
      "9\n"
     ]
    },
    {
     "name": "stderr",
     "output_type": "stream",
     "text": [
      "\n",
      "\n",
      " 11%|█         | 56/500 [07:52<57:46,  7.81s/it]  \u001b[A\u001b[A"
     ]
    },
    {
     "name": "stdout",
     "output_type": "stream",
     "text": [
      "7\n"
     ]
    },
    {
     "name": "stderr",
     "output_type": "stream",
     "text": [
      "\n",
      "\n",
      " 11%|█▏        | 57/500 [08:03<1:04:57,  8.80s/it]\u001b[A\u001b[A"
     ]
    },
    {
     "name": "stdout",
     "output_type": "stream",
     "text": [
      "12\n"
     ]
    },
    {
     "name": "stderr",
     "output_type": "stream",
     "text": [
      "\n",
      "\n",
      " 12%|█▏        | 58/500 [08:13<1:07:51,  9.21s/it]\u001b[A\u001b[A"
     ]
    },
    {
     "name": "stdout",
     "output_type": "stream",
     "text": [
      "9\n"
     ]
    },
    {
     "name": "stderr",
     "output_type": "stream",
     "text": [
      "\n",
      "\n",
      " 12%|█▏        | 59/500 [08:22<1:06:15,  9.01s/it]\u001b[A\u001b[A"
     ]
    },
    {
     "name": "stdout",
     "output_type": "stream",
     "text": [
      "10\n"
     ]
    },
    {
     "name": "stderr",
     "output_type": "stream",
     "text": [
      "\n",
      "\n",
      " 12%|█▏        | 60/500 [08:33<1:11:26,  9.74s/it]\u001b[A\u001b[A"
     ]
    },
    {
     "name": "stdout",
     "output_type": "stream",
     "text": [
      "10\n"
     ]
    },
    {
     "name": "stderr",
     "output_type": "stream",
     "text": [
      "\n",
      "\n",
      " 12%|█▏        | 61/500 [08:40<1:04:40,  8.84s/it]\u001b[A\u001b[A"
     ]
    },
    {
     "name": "stdout",
     "output_type": "stream",
     "text": [
      "7\n"
     ]
    },
    {
     "name": "stderr",
     "output_type": "stream",
     "text": [
      "\n",
      "\n",
      " 12%|█▏        | 62/500 [08:46<57:49,  7.92s/it]  \u001b[A\u001b[A"
     ]
    },
    {
     "name": "stdout",
     "output_type": "stream",
     "text": [
      "7\n"
     ]
    },
    {
     "name": "stderr",
     "output_type": "stream",
     "text": [
      "\n",
      "\n",
      " 13%|█▎        | 63/500 [08:55<59:24,  8.16s/it]\u001b[A\u001b[A"
     ]
    },
    {
     "name": "stdout",
     "output_type": "stream",
     "text": [
      "8\n"
     ]
    },
    {
     "name": "stderr",
     "output_type": "stream",
     "text": [
      "\n",
      "\n",
      " 13%|█▎        | 64/500 [09:05<1:03:44,  8.77s/it]\u001b[A\u001b[A"
     ]
    },
    {
     "name": "stdout",
     "output_type": "stream",
     "text": [
      "10\n"
     ]
    },
    {
     "name": "stderr",
     "output_type": "stream",
     "text": [
      "\n",
      "\n",
      " 13%|█▎        | 65/500 [09:15<1:06:32,  9.18s/it]\u001b[A\u001b[A"
     ]
    },
    {
     "name": "stdout",
     "output_type": "stream",
     "text": [
      "9\n"
     ]
    },
    {
     "name": "stderr",
     "output_type": "stream",
     "text": [
      "\n",
      "\n",
      " 13%|█▎        | 66/500 [09:26<1:10:27,  9.74s/it]\u001b[A\u001b[A"
     ]
    },
    {
     "name": "stdout",
     "output_type": "stream",
     "text": [
      "10\n"
     ]
    },
    {
     "name": "stderr",
     "output_type": "stream",
     "text": [
      "\n",
      "\n",
      " 13%|█▎        | 67/500 [09:33<1:05:08,  9.03s/it]\u001b[A\u001b[A"
     ]
    },
    {
     "name": "stdout",
     "output_type": "stream",
     "text": [
      "9\n"
     ]
    },
    {
     "name": "stderr",
     "output_type": "stream",
     "text": [
      "\n",
      "\n",
      " 14%|█▎        | 68/500 [09:39<57:56,  8.05s/it]  \u001b[A\u001b[A"
     ]
    },
    {
     "name": "stdout",
     "output_type": "stream",
     "text": [
      "8\n"
     ]
    },
    {
     "name": "stderr",
     "output_type": "stream",
     "text": [
      "\n",
      "\n",
      " 14%|█▍        | 69/500 [09:45<52:25,  7.30s/it]\u001b[A\u001b[A"
     ]
    },
    {
     "name": "stdout",
     "output_type": "stream",
     "text": [
      "8\n"
     ]
    },
    {
     "name": "stderr",
     "output_type": "stream",
     "text": [
      "\n",
      "\n",
      " 14%|█▍        | 70/500 [09:51<51:11,  7.14s/it]\u001b[A\u001b[A"
     ]
    },
    {
     "name": "stdout",
     "output_type": "stream",
     "text": [
      "8\n"
     ]
    },
    {
     "name": "stderr",
     "output_type": "stream",
     "text": [
      "\n",
      "\n",
      " 14%|█▍        | 71/500 [10:02<59:01,  8.25s/it]\u001b[A\u001b[A"
     ]
    },
    {
     "name": "stdout",
     "output_type": "stream",
     "text": [
      "11\n"
     ]
    },
    {
     "name": "stderr",
     "output_type": "stream",
     "text": [
      "\n",
      "\n",
      " 14%|█▍        | 72/500 [10:14<1:05:29,  9.18s/it]\u001b[A\u001b[A"
     ]
    },
    {
     "name": "stdout",
     "output_type": "stream",
     "text": [
      "10\n"
     ]
    },
    {
     "name": "stderr",
     "output_type": "stream",
     "text": [
      "\n",
      "\n",
      " 15%|█▍        | 73/500 [10:22<1:04:25,  9.05s/it]\u001b[A\u001b[A"
     ]
    },
    {
     "name": "stdout",
     "output_type": "stream",
     "text": [
      "9\n"
     ]
    },
    {
     "name": "stderr",
     "output_type": "stream",
     "text": [
      "\n",
      "\n",
      " 15%|█▍        | 74/500 [10:32<1:05:00,  9.16s/it]\u001b[A\u001b[A"
     ]
    },
    {
     "name": "stdout",
     "output_type": "stream",
     "text": [
      "12\n"
     ]
    },
    {
     "name": "stderr",
     "output_type": "stream",
     "text": [
      "\n",
      "\n",
      " 15%|█▌        | 75/500 [10:37<57:22,  8.10s/it]  \u001b[A\u001b[A"
     ]
    },
    {
     "name": "stdout",
     "output_type": "stream",
     "text": [
      "9\n"
     ]
    },
    {
     "name": "stderr",
     "output_type": "stream",
     "text": [
      "\n",
      "\n",
      " 15%|█▌        | 76/500 [10:49<1:04:26,  9.12s/it]\u001b[A\u001b[A"
     ]
    },
    {
     "name": "stdout",
     "output_type": "stream",
     "text": [
      "10\n"
     ]
    },
    {
     "name": "stderr",
     "output_type": "stream",
     "text": [
      "\n",
      "\n",
      " 15%|█▌        | 77/500 [10:57<1:02:52,  8.92s/it]\u001b[A\u001b[A"
     ]
    },
    {
     "name": "stdout",
     "output_type": "stream",
     "text": [
      "11\n"
     ]
    },
    {
     "name": "stderr",
     "output_type": "stream",
     "text": [
      "\n",
      "\n",
      " 16%|█▌        | 78/500 [11:07<1:04:35,  9.18s/it]\u001b[A\u001b[A"
     ]
    },
    {
     "name": "stdout",
     "output_type": "stream",
     "text": [
      "10\n"
     ]
    },
    {
     "name": "stderr",
     "output_type": "stream",
     "text": [
      "\n",
      "\n",
      " 16%|█▌        | 79/500 [11:13<56:45,  8.09s/it]  \u001b[A\u001b[A"
     ]
    },
    {
     "name": "stdout",
     "output_type": "stream",
     "text": [
      "9\n"
     ]
    },
    {
     "name": "stderr",
     "output_type": "stream",
     "text": [
      "\n",
      "\n",
      " 16%|█▌        | 80/500 [11:24<1:03:01,  9.00s/it]\u001b[A\u001b[A"
     ]
    },
    {
     "name": "stdout",
     "output_type": "stream",
     "text": [
      "12\n"
     ]
    },
    {
     "name": "stderr",
     "output_type": "stream",
     "text": [
      "\n",
      "\n",
      " 16%|█▌        | 81/500 [11:31<1:00:04,  8.60s/it]\u001b[A\u001b[A"
     ]
    },
    {
     "name": "stdout",
     "output_type": "stream",
     "text": [
      "9\n"
     ]
    },
    {
     "name": "stderr",
     "output_type": "stream",
     "text": [
      "\n",
      "\n",
      " 16%|█▋        | 82/500 [11:39<57:53,  8.31s/it]  \u001b[A\u001b[A"
     ]
    },
    {
     "name": "stdout",
     "output_type": "stream",
     "text": [
      "9\n"
     ]
    },
    {
     "name": "stderr",
     "output_type": "stream",
     "text": [
      "\n",
      "\n",
      " 17%|█▋        | 83/500 [11:48<58:11,  8.37s/it]\u001b[A\u001b[A"
     ]
    },
    {
     "name": "stdout",
     "output_type": "stream",
     "text": [
      "9\n"
     ]
    },
    {
     "name": "stderr",
     "output_type": "stream",
     "text": [
      "\n",
      "\n",
      " 17%|█▋        | 84/500 [11:57<1:01:09,  8.82s/it]\u001b[A\u001b[A"
     ]
    },
    {
     "name": "stdout",
     "output_type": "stream",
     "text": [
      "11\n"
     ]
    },
    {
     "name": "stderr",
     "output_type": "stream",
     "text": [
      "\n",
      "\n",
      " 17%|█▋        | 85/500 [12:05<58:10,  8.41s/it]  \u001b[A\u001b[A"
     ]
    },
    {
     "name": "stdout",
     "output_type": "stream",
     "text": [
      "8\n"
     ]
    },
    {
     "name": "stderr",
     "output_type": "stream",
     "text": [
      "\n",
      "\n",
      " 17%|█▋        | 86/500 [12:17<1:04:55,  9.41s/it]\u001b[A\u001b[A"
     ]
    },
    {
     "name": "stdout",
     "output_type": "stream",
     "text": [
      "11\n"
     ]
    },
    {
     "name": "stderr",
     "output_type": "stream",
     "text": [
      "\n",
      "\n",
      " 17%|█▋        | 87/500 [12:24<59:36,  8.66s/it]  \u001b[A\u001b[A"
     ]
    },
    {
     "name": "stdout",
     "output_type": "stream",
     "text": [
      "7\n"
     ]
    },
    {
     "name": "stderr",
     "output_type": "stream",
     "text": [
      "\n",
      "\n",
      " 18%|█▊        | 88/500 [12:30<55:02,  8.01s/it]\u001b[A\u001b[A"
     ]
    },
    {
     "name": "stdout",
     "output_type": "stream",
     "text": [
      "8\n"
     ]
    },
    {
     "name": "stderr",
     "output_type": "stream",
     "text": [
      "\n",
      "\n",
      " 18%|█▊        | 89/500 [12:37<52:07,  7.61s/it]\u001b[A\u001b[A"
     ]
    },
    {
     "name": "stdout",
     "output_type": "stream",
     "text": [
      "9\n"
     ]
    },
    {
     "name": "stderr",
     "output_type": "stream",
     "text": [
      "\n",
      "\n",
      " 18%|█▊        | 90/500 [12:42<47:24,  6.94s/it]\u001b[A\u001b[A"
     ]
    },
    {
     "name": "stdout",
     "output_type": "stream",
     "text": [
      "9\n"
     ]
    },
    {
     "name": "stderr",
     "output_type": "stream",
     "text": [
      "\n",
      "\n",
      " 18%|█▊        | 91/500 [12:48<44:15,  6.49s/it]\u001b[A\u001b[A"
     ]
    },
    {
     "name": "stdout",
     "output_type": "stream",
     "text": [
      "9\n"
     ]
    },
    {
     "name": "stderr",
     "output_type": "stream",
     "text": [
      "\n",
      "\n",
      " 18%|█▊        | 92/500 [12:56<48:03,  7.07s/it]\u001b[A\u001b[A"
     ]
    },
    {
     "name": "stdout",
     "output_type": "stream",
     "text": [
      "10\n"
     ]
    },
    {
     "name": "stderr",
     "output_type": "stream",
     "text": [
      "\n",
      "\n",
      " 19%|█▊        | 93/500 [13:03<47:59,  7.07s/it]\u001b[A\u001b[A"
     ]
    },
    {
     "name": "stdout",
     "output_type": "stream",
     "text": [
      "10\n"
     ]
    },
    {
     "name": "stderr",
     "output_type": "stream",
     "text": [
      "\n",
      "\n",
      " 19%|█▉        | 94/500 [13:09<44:33,  6.59s/it]\u001b[A\u001b[A"
     ]
    },
    {
     "name": "stdout",
     "output_type": "stream",
     "text": [
      "8\n"
     ]
    },
    {
     "name": "stderr",
     "output_type": "stream",
     "text": [
      "\n",
      "\n",
      " 19%|█▉        | 95/500 [13:15<44:20,  6.57s/it]\u001b[A\u001b[A"
     ]
    },
    {
     "name": "stdout",
     "output_type": "stream",
     "text": [
      "8\n"
     ]
    },
    {
     "name": "stderr",
     "output_type": "stream",
     "text": [
      "\n",
      "\n",
      " 19%|█▉        | 96/500 [13:25<50:46,  7.54s/it]\u001b[A\u001b[A"
     ]
    },
    {
     "name": "stdout",
     "output_type": "stream",
     "text": [
      "10\n"
     ]
    },
    {
     "name": "stderr",
     "output_type": "stream",
     "text": [
      "\n",
      "\n",
      " 19%|█▉        | 97/500 [13:36<58:49,  8.76s/it]\u001b[A\u001b[A"
     ]
    },
    {
     "name": "stdout",
     "output_type": "stream",
     "text": [
      "9\n"
     ]
    },
    {
     "name": "stderr",
     "output_type": "stream",
     "text": [
      "\n",
      "\n",
      " 20%|█▉        | 98/500 [13:42<52:37,  7.85s/it]\u001b[A\u001b[A"
     ]
    },
    {
     "name": "stdout",
     "output_type": "stream",
     "text": [
      "7\n"
     ]
    },
    {
     "name": "stderr",
     "output_type": "stream",
     "text": [
      "\n",
      "\n",
      " 20%|█▉        | 99/500 [13:52<56:00,  8.38s/it]\u001b[A\u001b[A"
     ]
    },
    {
     "name": "stdout",
     "output_type": "stream",
     "text": [
      "9\n"
     ]
    },
    {
     "name": "stderr",
     "output_type": "stream",
     "text": [
      "\n",
      "\n",
      " 20%|██        | 100/500 [14:02<58:51,  8.83s/it]\u001b[A\u001b[A"
     ]
    },
    {
     "name": "stdout",
     "output_type": "stream",
     "text": [
      "11\n"
     ]
    },
    {
     "name": "stderr",
     "output_type": "stream",
     "text": [
      "\n",
      "\n",
      " 20%|██        | 101/500 [14:10<58:18,  8.77s/it]\u001b[A\u001b[A"
     ]
    },
    {
     "name": "stdout",
     "output_type": "stream",
     "text": [
      "11\n"
     ]
    },
    {
     "name": "stderr",
     "output_type": "stream",
     "text": [
      "\n",
      "\n",
      " 20%|██        | 102/500 [14:20<1:00:38,  9.14s/it]\u001b[A\u001b[A"
     ]
    },
    {
     "name": "stdout",
     "output_type": "stream",
     "text": [
      "10\n"
     ]
    },
    {
     "name": "stderr",
     "output_type": "stream",
     "text": [
      "\n",
      "\n",
      " 21%|██        | 103/500 [14:26<53:43,  8.12s/it]  \u001b[A\u001b[A"
     ]
    },
    {
     "name": "stdout",
     "output_type": "stream",
     "text": [
      "7\n"
     ]
    },
    {
     "name": "stderr",
     "output_type": "stream",
     "text": [
      "\n",
      "\n",
      " 21%|██        | 104/500 [14:36<57:18,  8.68s/it]\u001b[A\u001b[A"
     ]
    },
    {
     "name": "stdout",
     "output_type": "stream",
     "text": [
      "9\n"
     ]
    },
    {
     "name": "stderr",
     "output_type": "stream",
     "text": [
      "\n",
      "\n",
      " 21%|██        | 105/500 [14:47<1:02:13,  9.45s/it]\u001b[A\u001b[A"
     ]
    },
    {
     "name": "stdout",
     "output_type": "stream",
     "text": [
      "11\n"
     ]
    },
    {
     "name": "stderr",
     "output_type": "stream",
     "text": [
      "\n",
      "\n",
      " 21%|██        | 106/500 [14:53<54:32,  8.31s/it]  \u001b[A\u001b[A"
     ]
    },
    {
     "name": "stdout",
     "output_type": "stream",
     "text": [
      "7\n"
     ]
    },
    {
     "name": "stderr",
     "output_type": "stream",
     "text": [
      "\n",
      "\n",
      " 21%|██▏       | 107/500 [15:04<59:50,  9.14s/it]\u001b[A\u001b[A"
     ]
    },
    {
     "name": "stdout",
     "output_type": "stream",
     "text": [
      "10\n"
     ]
    },
    {
     "name": "stderr",
     "output_type": "stream",
     "text": [
      "\n",
      "\n",
      " 22%|██▏       | 108/500 [15:10<52:53,  8.10s/it]\u001b[A\u001b[A"
     ]
    },
    {
     "name": "stdout",
     "output_type": "stream",
     "text": [
      "7\n"
     ]
    },
    {
     "name": "stderr",
     "output_type": "stream",
     "text": [
      "\n",
      "\n",
      " 22%|██▏       | 109/500 [15:16<49:54,  7.66s/it]\u001b[A\u001b[A"
     ]
    },
    {
     "name": "stdout",
     "output_type": "stream",
     "text": [
      "8\n"
     ]
    },
    {
     "name": "stderr",
     "output_type": "stream",
     "text": [
      "\n",
      "\n",
      " 22%|██▏       | 110/500 [15:24<49:44,  7.65s/it]\u001b[A\u001b[A"
     ]
    },
    {
     "name": "stdout",
     "output_type": "stream",
     "text": [
      "8\n"
     ]
    },
    {
     "name": "stderr",
     "output_type": "stream",
     "text": [
      "\n",
      "\n",
      " 22%|██▏       | 111/500 [15:35<56:53,  8.78s/it]\u001b[A\u001b[A"
     ]
    },
    {
     "name": "stdout",
     "output_type": "stream",
     "text": [
      "9\n"
     ]
    },
    {
     "name": "stderr",
     "output_type": "stream",
     "text": [
      "\n",
      "\n",
      " 22%|██▏       | 112/500 [15:47<1:01:23,  9.49s/it]\u001b[A\u001b[A"
     ]
    },
    {
     "name": "stdout",
     "output_type": "stream",
     "text": [
      "11\n"
     ]
    },
    {
     "name": "stderr",
     "output_type": "stream",
     "text": [
      "\n",
      "\n",
      " 23%|██▎       | 113/500 [15:55<59:57,  9.29s/it]  \u001b[A\u001b[A"
     ]
    },
    {
     "name": "stdout",
     "output_type": "stream",
     "text": [
      "9\n"
     ]
    },
    {
     "name": "stderr",
     "output_type": "stream",
     "text": [
      "\n",
      "\n",
      " 23%|██▎       | 114/500 [16:05<1:01:21,  9.54s/it]\u001b[A\u001b[A"
     ]
    },
    {
     "name": "stdout",
     "output_type": "stream",
     "text": [
      "10\n"
     ]
    },
    {
     "name": "stderr",
     "output_type": "stream",
     "text": [
      "\n",
      "\n",
      " 23%|██▎       | 115/500 [16:12<55:27,  8.64s/it]  \u001b[A\u001b[A"
     ]
    },
    {
     "name": "stdout",
     "output_type": "stream",
     "text": [
      "8\n"
     ]
    },
    {
     "name": "stderr",
     "output_type": "stream",
     "text": [
      "\n",
      "\n",
      " 23%|██▎       | 116/500 [16:19<51:18,  8.02s/it]\u001b[A\u001b[A"
     ]
    },
    {
     "name": "stdout",
     "output_type": "stream",
     "text": [
      "8\n"
     ]
    },
    {
     "name": "stderr",
     "output_type": "stream",
     "text": [
      "\n",
      "\n",
      " 23%|██▎       | 117/500 [16:25<48:13,  7.56s/it]\u001b[A\u001b[A"
     ]
    },
    {
     "name": "stdout",
     "output_type": "stream",
     "text": [
      "8\n"
     ]
    },
    {
     "name": "stderr",
     "output_type": "stream",
     "text": [
      "\n",
      "\n",
      " 24%|██▎       | 118/500 [16:35<52:55,  8.31s/it]\u001b[A\u001b[A"
     ]
    },
    {
     "name": "stdout",
     "output_type": "stream",
     "text": [
      "10\n"
     ]
    },
    {
     "name": "stderr",
     "output_type": "stream",
     "text": [
      "\n",
      "\n",
      " 24%|██▍       | 119/500 [16:41<47:53,  7.54s/it]\u001b[A\u001b[A"
     ]
    },
    {
     "name": "stdout",
     "output_type": "stream",
     "text": [
      "8\n"
     ]
    },
    {
     "name": "stderr",
     "output_type": "stream",
     "text": [
      "\n",
      "\n",
      " 24%|██▍       | 120/500 [16:51<51:53,  8.19s/it]\u001b[A\u001b[A"
     ]
    },
    {
     "name": "stdout",
     "output_type": "stream",
     "text": [
      "11\n"
     ]
    },
    {
     "name": "stderr",
     "output_type": "stream",
     "text": [
      "\n",
      "\n",
      " 24%|██▍       | 121/500 [16:56<46:41,  7.39s/it]\u001b[A\u001b[A"
     ]
    },
    {
     "name": "stdout",
     "output_type": "stream",
     "text": [
      "9\n"
     ]
    },
    {
     "name": "stderr",
     "output_type": "stream",
     "text": [
      "\n",
      "\n",
      " 24%|██▍       | 122/500 [17:05<49:43,  7.89s/it]\u001b[A\u001b[A"
     ]
    },
    {
     "name": "stdout",
     "output_type": "stream",
     "text": [
      "9\n"
     ]
    },
    {
     "name": "stderr",
     "output_type": "stream",
     "text": [
      "\n",
      "\n",
      " 25%|██▍       | 123/500 [17:14<51:07,  8.14s/it]\u001b[A\u001b[A"
     ]
    },
    {
     "name": "stdout",
     "output_type": "stream",
     "text": [
      "11\n"
     ]
    },
    {
     "name": "stderr",
     "output_type": "stream",
     "text": [
      "\n",
      "\n",
      " 25%|██▍       | 124/500 [17:24<54:25,  8.69s/it]\u001b[A\u001b[A"
     ]
    },
    {
     "name": "stdout",
     "output_type": "stream",
     "text": [
      "11\n"
     ]
    },
    {
     "name": "stderr",
     "output_type": "stream",
     "text": [
      "\n",
      "\n",
      " 25%|██▌       | 125/500 [17:34<56:16,  9.00s/it]\u001b[A\u001b[A"
     ]
    },
    {
     "name": "stdout",
     "output_type": "stream",
     "text": [
      "10\n"
     ]
    },
    {
     "name": "stderr",
     "output_type": "stream",
     "text": [
      "\n",
      "\n",
      " 25%|██▌       | 126/500 [17:44<57:53,  9.29s/it]\u001b[A\u001b[A"
     ]
    },
    {
     "name": "stdout",
     "output_type": "stream",
     "text": [
      "10\n"
     ]
    },
    {
     "name": "stderr",
     "output_type": "stream",
     "text": [
      "\n",
      "\n",
      " 25%|██▌       | 127/500 [17:50<52:36,  8.46s/it]\u001b[A\u001b[A"
     ]
    },
    {
     "name": "stdout",
     "output_type": "stream",
     "text": [
      "9\n"
     ]
    },
    {
     "name": "stderr",
     "output_type": "stream",
     "text": [
      "\n",
      "\n",
      " 26%|██▌       | 128/500 [17:59<53:04,  8.56s/it]\u001b[A\u001b[A"
     ]
    },
    {
     "name": "stdout",
     "output_type": "stream",
     "text": [
      "10\n"
     ]
    },
    {
     "name": "stderr",
     "output_type": "stream",
     "text": [
      "\n",
      "\n",
      " 26%|██▌       | 129/500 [18:06<50:58,  8.24s/it]\u001b[A\u001b[A"
     ]
    },
    {
     "name": "stdout",
     "output_type": "stream",
     "text": [
      "9\n"
     ]
    },
    {
     "name": "stderr",
     "output_type": "stream",
     "text": [
      "\n",
      "\n",
      " 26%|██▌       | 130/500 [18:16<53:47,  8.72s/it]\u001b[A\u001b[A"
     ]
    },
    {
     "name": "stdout",
     "output_type": "stream",
     "text": [
      "11\n"
     ]
    },
    {
     "name": "stderr",
     "output_type": "stream",
     "text": [
      "\n",
      "\n",
      " 26%|██▌       | 131/500 [18:22<49:08,  7.99s/it]\u001b[A\u001b[A"
     ]
    },
    {
     "name": "stdout",
     "output_type": "stream",
     "text": [
      "8\n"
     ]
    },
    {
     "name": "stderr",
     "output_type": "stream",
     "text": [
      "\n",
      "\n",
      " 26%|██▋       | 132/500 [18:30<48:08,  7.85s/it]\u001b[A\u001b[A"
     ]
    },
    {
     "name": "stdout",
     "output_type": "stream",
     "text": [
      "10\n"
     ]
    },
    {
     "name": "stderr",
     "output_type": "stream",
     "text": [
      "\n",
      "\n",
      " 27%|██▋       | 133/500 [18:36<45:30,  7.44s/it]\u001b[A\u001b[A"
     ]
    },
    {
     "name": "stdout",
     "output_type": "stream",
     "text": [
      "9\n"
     ]
    },
    {
     "name": "stderr",
     "output_type": "stream",
     "text": [
      "\n",
      "\n",
      " 27%|██▋       | 134/500 [18:47<50:21,  8.26s/it]\u001b[A\u001b[A"
     ]
    },
    {
     "name": "stdout",
     "output_type": "stream",
     "text": [
      "9\n"
     ]
    },
    {
     "name": "stderr",
     "output_type": "stream",
     "text": [
      "\n",
      "\n",
      " 27%|██▋       | 135/500 [18:52<45:39,  7.51s/it]\u001b[A\u001b[A"
     ]
    },
    {
     "name": "stdout",
     "output_type": "stream",
     "text": [
      "8\n"
     ]
    },
    {
     "name": "stderr",
     "output_type": "stream",
     "text": [
      "\n",
      "\n",
      " 27%|██▋       | 136/500 [18:59<44:16,  7.30s/it]\u001b[A\u001b[A"
     ]
    },
    {
     "name": "stdout",
     "output_type": "stream",
     "text": [
      "8\n"
     ]
    },
    {
     "name": "stderr",
     "output_type": "stream",
     "text": [
      "\n",
      "\n",
      " 27%|██▋       | 137/500 [19:05<41:14,  6.82s/it]\u001b[A\u001b[A"
     ]
    },
    {
     "name": "stdout",
     "output_type": "stream",
     "text": [
      "7\n"
     ]
    },
    {
     "name": "stderr",
     "output_type": "stream",
     "text": [
      "\n",
      "\n",
      " 28%|██▊       | 138/500 [19:15<47:23,  7.85s/it]\u001b[A\u001b[A"
     ]
    },
    {
     "name": "stdout",
     "output_type": "stream",
     "text": [
      "9\n"
     ]
    },
    {
     "name": "stderr",
     "output_type": "stream",
     "text": [
      "\n",
      "\n",
      " 28%|██▊       | 139/500 [19:26<51:56,  8.63s/it]\u001b[A\u001b[A"
     ]
    },
    {
     "name": "stdout",
     "output_type": "stream",
     "text": [
      "10\n"
     ]
    },
    {
     "name": "stderr",
     "output_type": "stream",
     "text": [
      "\n",
      "\n",
      " 28%|██▊       | 140/500 [19:37<57:18,  9.55s/it]\u001b[A\u001b[A"
     ]
    },
    {
     "name": "stdout",
     "output_type": "stream",
     "text": [
      "10\n"
     ]
    },
    {
     "name": "stderr",
     "output_type": "stream",
     "text": [
      "\n",
      "\n",
      " 28%|██▊       | 141/500 [19:47<58:07,  9.72s/it]\u001b[A\u001b[A"
     ]
    },
    {
     "name": "stdout",
     "output_type": "stream",
     "text": [
      "11\n"
     ]
    },
    {
     "name": "stderr",
     "output_type": "stream",
     "text": [
      "\n",
      "\n",
      " 28%|██▊       | 142/500 [19:53<51:03,  8.56s/it]\u001b[A\u001b[A"
     ]
    },
    {
     "name": "stdout",
     "output_type": "stream",
     "text": [
      "7\n"
     ]
    },
    {
     "name": "stderr",
     "output_type": "stream",
     "text": [
      "\n",
      "\n",
      " 29%|██▊       | 143/500 [20:04<54:36,  9.18s/it]\u001b[A\u001b[A"
     ]
    },
    {
     "name": "stdout",
     "output_type": "stream",
     "text": [
      "10\n"
     ]
    },
    {
     "name": "stderr",
     "output_type": "stream",
     "text": [
      "\n",
      "\n",
      " 29%|██▉       | 144/500 [20:09<47:54,  8.07s/it]\u001b[A\u001b[A"
     ]
    },
    {
     "name": "stdout",
     "output_type": "stream",
     "text": [
      "8\n"
     ]
    },
    {
     "name": "stderr",
     "output_type": "stream",
     "text": [
      "\n",
      "\n",
      " 29%|██▉       | 145/500 [20:19<50:58,  8.62s/it]\u001b[A\u001b[A"
     ]
    },
    {
     "name": "stdout",
     "output_type": "stream",
     "text": [
      "11\n"
     ]
    },
    {
     "name": "stderr",
     "output_type": "stream",
     "text": [
      "\n",
      "\n",
      " 29%|██▉       | 146/500 [20:30<54:56,  9.31s/it]\u001b[A\u001b[A"
     ]
    },
    {
     "name": "stdout",
     "output_type": "stream",
     "text": [
      "10\n"
     ]
    },
    {
     "name": "stderr",
     "output_type": "stream",
     "text": [
      "\n",
      "\n",
      " 29%|██▉       | 147/500 [20:38<52:36,  8.94s/it]\u001b[A\u001b[A"
     ]
    },
    {
     "name": "stdout",
     "output_type": "stream",
     "text": [
      "9\n"
     ]
    },
    {
     "name": "stderr",
     "output_type": "stream",
     "text": [
      "\n",
      "\n",
      " 30%|██▉       | 148/500 [20:45<48:42,  8.30s/it]\u001b[A\u001b[A"
     ]
    },
    {
     "name": "stdout",
     "output_type": "stream",
     "text": [
      "7\n"
     ]
    },
    {
     "name": "stderr",
     "output_type": "stream",
     "text": [
      "\n",
      "\n",
      " 30%|██▉       | 149/500 [20:51<43:41,  7.47s/it]\u001b[A\u001b[A"
     ]
    },
    {
     "name": "stdout",
     "output_type": "stream",
     "text": [
      "8\n"
     ]
    },
    {
     "name": "stderr",
     "output_type": "stream",
     "text": [
      "\n",
      "\n",
      " 30%|███       | 150/500 [21:02<50:27,  8.65s/it]\u001b[A\u001b[A"
     ]
    },
    {
     "name": "stdout",
     "output_type": "stream",
     "text": [
      "9\n"
     ]
    },
    {
     "name": "stderr",
     "output_type": "stream",
     "text": [
      "\n",
      "\n",
      " 30%|███       | 151/500 [21:12<53:00,  9.11s/it]\u001b[A\u001b[A"
     ]
    },
    {
     "name": "stdout",
     "output_type": "stream",
     "text": [
      "9\n"
     ]
    },
    {
     "name": "stderr",
     "output_type": "stream",
     "text": [
      "\n",
      "\n",
      " 30%|███       | 152/500 [21:19<49:25,  8.52s/it]\u001b[A\u001b[A"
     ]
    },
    {
     "name": "stdout",
     "output_type": "stream",
     "text": [
      "10\n"
     ]
    },
    {
     "name": "stderr",
     "output_type": "stream",
     "text": [
      "\n",
      "\n",
      " 31%|███       | 153/500 [21:28<49:18,  8.53s/it]\u001b[A\u001b[A"
     ]
    },
    {
     "name": "stdout",
     "output_type": "stream",
     "text": [
      "10\n"
     ]
    },
    {
     "name": "stderr",
     "output_type": "stream",
     "text": [
      "\n",
      "\n",
      " 31%|███       | 154/500 [21:33<43:54,  7.61s/it]\u001b[A\u001b[A"
     ]
    },
    {
     "name": "stdout",
     "output_type": "stream",
     "text": [
      "8\n"
     ]
    },
    {
     "name": "stderr",
     "output_type": "stream",
     "text": [
      "\n",
      "\n",
      " 31%|███       | 155/500 [21:40<41:44,  7.26s/it]\u001b[A\u001b[A"
     ]
    },
    {
     "name": "stdout",
     "output_type": "stream",
     "text": [
      "9\n"
     ]
    },
    {
     "name": "stderr",
     "output_type": "stream",
     "text": [
      "\n",
      "\n",
      " 31%|███       | 156/500 [21:49<45:41,  7.97s/it]\u001b[A\u001b[A"
     ]
    },
    {
     "name": "stdout",
     "output_type": "stream",
     "text": [
      "10\n"
     ]
    },
    {
     "name": "stderr",
     "output_type": "stream",
     "text": [
      "\n",
      "\n",
      " 31%|███▏      | 157/500 [21:59<48:37,  8.51s/it]\u001b[A\u001b[A"
     ]
    },
    {
     "name": "stdout",
     "output_type": "stream",
     "text": [
      "12\n"
     ]
    },
    {
     "name": "stderr",
     "output_type": "stream",
     "text": [
      "\n",
      "\n",
      " 32%|███▏      | 158/500 [22:08<49:39,  8.71s/it]\u001b[A\u001b[A"
     ]
    },
    {
     "name": "stdout",
     "output_type": "stream",
     "text": [
      "12\n"
     ]
    },
    {
     "name": "stderr",
     "output_type": "stream",
     "text": [
      "\n",
      "\n",
      " 32%|███▏      | 159/500 [22:15<45:48,  8.06s/it]\u001b[A\u001b[A"
     ]
    },
    {
     "name": "stdout",
     "output_type": "stream",
     "text": [
      "7\n"
     ]
    },
    {
     "name": "stderr",
     "output_type": "stream",
     "text": [
      "\n",
      "\n",
      " 32%|███▏      | 160/500 [22:24<46:34,  8.22s/it]\u001b[A\u001b[A"
     ]
    },
    {
     "name": "stdout",
     "output_type": "stream",
     "text": [
      "10\n"
     ]
    },
    {
     "name": "stderr",
     "output_type": "stream",
     "text": [
      "\n",
      "\n",
      " 32%|███▏      | 161/500 [22:34<49:50,  8.82s/it]\u001b[A\u001b[A"
     ]
    },
    {
     "name": "stdout",
     "output_type": "stream",
     "text": [
      "10\n"
     ]
    },
    {
     "name": "stderr",
     "output_type": "stream",
     "text": [
      "\n",
      "\n",
      " 32%|███▏      | 162/500 [22:44<52:25,  9.31s/it]\u001b[A\u001b[A"
     ]
    },
    {
     "name": "stdout",
     "output_type": "stream",
     "text": [
      "11\n"
     ]
    },
    {
     "name": "stderr",
     "output_type": "stream",
     "text": [
      "\n",
      "\n",
      " 33%|███▎      | 163/500 [22:55<54:11,  9.65s/it]\u001b[A\u001b[A"
     ]
    },
    {
     "name": "stdout",
     "output_type": "stream",
     "text": [
      "10\n"
     ]
    },
    {
     "name": "stderr",
     "output_type": "stream",
     "text": [
      "\n",
      "\n",
      " 33%|███▎      | 164/500 [23:03<52:26,  9.36s/it]\u001b[A\u001b[A"
     ]
    },
    {
     "name": "stdout",
     "output_type": "stream",
     "text": [
      "10\n"
     ]
    },
    {
     "name": "stderr",
     "output_type": "stream",
     "text": [
      "\n",
      "\n",
      " 33%|███▎      | 165/500 [23:13<52:03,  9.32s/it]\u001b[A\u001b[A"
     ]
    },
    {
     "name": "stdout",
     "output_type": "stream",
     "text": [
      "9\n"
     ]
    },
    {
     "name": "stderr",
     "output_type": "stream",
     "text": [
      "\n",
      "\n",
      " 33%|███▎      | 166/500 [23:23<54:12,  9.74s/it]\u001b[A\u001b[A"
     ]
    },
    {
     "name": "stdout",
     "output_type": "stream",
     "text": [
      "9\n"
     ]
    },
    {
     "name": "stderr",
     "output_type": "stream",
     "text": [
      "\n",
      "\n",
      " 33%|███▎      | 167/500 [23:34<56:09, 10.12s/it]\u001b[A\u001b[A"
     ]
    },
    {
     "name": "stdout",
     "output_type": "stream",
     "text": [
      "12\n"
     ]
    },
    {
     "name": "stderr",
     "output_type": "stream",
     "text": [
      "\n",
      "\n",
      " 34%|███▎      | 168/500 [23:41<50:05,  9.05s/it]\u001b[A\u001b[A"
     ]
    },
    {
     "name": "stdout",
     "output_type": "stream",
     "text": [
      "8\n"
     ]
    },
    {
     "name": "stderr",
     "output_type": "stream",
     "text": [
      "\n",
      "\n",
      " 34%|███▍      | 169/500 [23:51<51:35,  9.35s/it]\u001b[A\u001b[A"
     ]
    },
    {
     "name": "stdout",
     "output_type": "stream",
     "text": [
      "10\n"
     ]
    },
    {
     "name": "stderr",
     "output_type": "stream",
     "text": [
      "\n",
      "\n",
      " 34%|███▍      | 170/500 [23:58<48:13,  8.77s/it]\u001b[A\u001b[A"
     ]
    },
    {
     "name": "stdout",
     "output_type": "stream",
     "text": [
      "11\n"
     ]
    },
    {
     "name": "stderr",
     "output_type": "stream",
     "text": [
      "\n",
      "\n",
      " 34%|███▍      | 171/500 [24:04<42:31,  7.76s/it]\u001b[A\u001b[A"
     ]
    },
    {
     "name": "stdout",
     "output_type": "stream",
     "text": [
      "8\n"
     ]
    },
    {
     "name": "stderr",
     "output_type": "stream",
     "text": [
      "\n",
      "\n",
      " 34%|███▍      | 172/500 [24:15<47:52,  8.76s/it]\u001b[A\u001b[A"
     ]
    },
    {
     "name": "stdout",
     "output_type": "stream",
     "text": [
      "11\n"
     ]
    },
    {
     "name": "stderr",
     "output_type": "stream",
     "text": [
      "\n",
      "\n",
      " 35%|███▍      | 173/500 [24:25<49:23,  9.06s/it]\u001b[A\u001b[A"
     ]
    },
    {
     "name": "stdout",
     "output_type": "stream",
     "text": [
      "10\n"
     ]
    },
    {
     "name": "stderr",
     "output_type": "stream",
     "text": [
      "\n",
      "\n",
      " 35%|███▍      | 174/500 [24:33<48:15,  8.88s/it]\u001b[A\u001b[A"
     ]
    },
    {
     "name": "stdout",
     "output_type": "stream",
     "text": [
      "10\n"
     ]
    },
    {
     "name": "stderr",
     "output_type": "stream",
     "text": [
      "\n",
      "\n",
      " 35%|███▌      | 175/500 [24:42<48:27,  8.95s/it]\u001b[A\u001b[A"
     ]
    },
    {
     "name": "stdout",
     "output_type": "stream",
     "text": [
      "9\n"
     ]
    },
    {
     "name": "stderr",
     "output_type": "stream",
     "text": [
      "\n",
      "\n",
      " 35%|███▌      | 176/500 [24:53<51:34,  9.55s/it]\u001b[A\u001b[A"
     ]
    },
    {
     "name": "stdout",
     "output_type": "stream",
     "text": [
      "10\n"
     ]
    },
    {
     "name": "stderr",
     "output_type": "stream",
     "text": [
      "\n",
      "\n",
      " 35%|███▌      | 177/500 [24:59<46:07,  8.57s/it]\u001b[A\u001b[A"
     ]
    },
    {
     "name": "stdout",
     "output_type": "stream",
     "text": [
      "9\n"
     ]
    },
    {
     "name": "stderr",
     "output_type": "stream",
     "text": [
      "\n",
      "\n",
      " 36%|███▌      | 178/500 [25:07<44:25,  8.28s/it]\u001b[A\u001b[A"
     ]
    },
    {
     "name": "stdout",
     "output_type": "stream",
     "text": [
      "9\n"
     ]
    },
    {
     "name": "stderr",
     "output_type": "stream",
     "text": [
      "\n",
      "\n",
      " 36%|███▌      | 179/500 [25:18<48:26,  9.06s/it]\u001b[A\u001b[A"
     ]
    },
    {
     "name": "stdout",
     "output_type": "stream",
     "text": [
      "11\n"
     ]
    },
    {
     "name": "stderr",
     "output_type": "stream",
     "text": [
      "\n",
      "\n",
      " 36%|███▌      | 180/500 [25:25<44:50,  8.41s/it]\u001b[A\u001b[A"
     ]
    },
    {
     "name": "stdout",
     "output_type": "stream",
     "text": [
      "8\n"
     ]
    },
    {
     "name": "stderr",
     "output_type": "stream",
     "text": [
      "\n",
      "\n",
      " 36%|███▌      | 181/500 [25:36<49:27,  9.30s/it]\u001b[A\u001b[A"
     ]
    },
    {
     "name": "stdout",
     "output_type": "stream",
     "text": [
      "11\n"
     ]
    },
    {
     "name": "stderr",
     "output_type": "stream",
     "text": [
      "\n",
      "\n",
      " 36%|███▋      | 182/500 [25:46<50:13,  9.48s/it]\u001b[A\u001b[A"
     ]
    },
    {
     "name": "stdout",
     "output_type": "stream",
     "text": [
      "10\n"
     ]
    },
    {
     "name": "stderr",
     "output_type": "stream",
     "text": [
      "\n",
      "\n",
      " 37%|███▋      | 183/500 [25:58<53:24, 10.11s/it]\u001b[A\u001b[A"
     ]
    },
    {
     "name": "stdout",
     "output_type": "stream",
     "text": [
      "11\n"
     ]
    },
    {
     "name": "stderr",
     "output_type": "stream",
     "text": [
      "\n",
      "\n",
      " 37%|███▋      | 184/500 [26:08<53:06, 10.08s/it]\u001b[A\u001b[A"
     ]
    },
    {
     "name": "stdout",
     "output_type": "stream",
     "text": [
      "9\n"
     ]
    },
    {
     "name": "stderr",
     "output_type": "stream",
     "text": [
      "\n",
      "\n",
      " 37%|███▋      | 185/500 [26:14<47:12,  8.99s/it]\u001b[A\u001b[A"
     ]
    },
    {
     "name": "stdout",
     "output_type": "stream",
     "text": [
      "8\n"
     ]
    },
    {
     "name": "stderr",
     "output_type": "stream",
     "text": [
      "\n",
      "\n",
      " 37%|███▋      | 186/500 [26:20<41:39,  7.96s/it]\u001b[A\u001b[A"
     ]
    },
    {
     "name": "stdout",
     "output_type": "stream",
     "text": [
      "8\n"
     ]
    },
    {
     "name": "stderr",
     "output_type": "stream",
     "text": [
      "\n",
      "\n",
      " 37%|███▋      | 187/500 [26:31<46:40,  8.95s/it]\u001b[A\u001b[A"
     ]
    },
    {
     "name": "stdout",
     "output_type": "stream",
     "text": [
      "10\n"
     ]
    },
    {
     "name": "stderr",
     "output_type": "stream",
     "text": [
      "\n",
      "\n",
      " 38%|███▊      | 188/500 [26:40<47:21,  9.11s/it]\u001b[A\u001b[A"
     ]
    },
    {
     "name": "stdout",
     "output_type": "stream",
     "text": [
      "11\n"
     ]
    },
    {
     "name": "stderr",
     "output_type": "stream",
     "text": [
      "\n",
      "\n",
      " 38%|███▊      | 189/500 [26:47<43:01,  8.30s/it]\u001b[A\u001b[A"
     ]
    },
    {
     "name": "stdout",
     "output_type": "stream",
     "text": [
      "9\n"
     ]
    },
    {
     "name": "stderr",
     "output_type": "stream",
     "text": [
      "\n",
      "\n",
      " 38%|███▊      | 190/500 [26:55<43:22,  8.39s/it]\u001b[A\u001b[A"
     ]
    },
    {
     "name": "stdout",
     "output_type": "stream",
     "text": [
      "9\n"
     ]
    },
    {
     "name": "stderr",
     "output_type": "stream",
     "text": [
      "\n",
      "\n",
      " 38%|███▊      | 191/500 [27:03<41:58,  8.15s/it]\u001b[A\u001b[A"
     ]
    },
    {
     "name": "stdout",
     "output_type": "stream",
     "text": [
      "10\n"
     ]
    },
    {
     "name": "stderr",
     "output_type": "stream",
     "text": [
      "\n",
      "\n",
      " 38%|███▊      | 192/500 [27:12<42:41,  8.32s/it]\u001b[A\u001b[A"
     ]
    },
    {
     "name": "stdout",
     "output_type": "stream",
     "text": [
      "9\n"
     ]
    },
    {
     "name": "stderr",
     "output_type": "stream",
     "text": [
      "\n",
      "\n",
      " 39%|███▊      | 193/500 [27:17<38:32,  7.53s/it]\u001b[A\u001b[A"
     ]
    },
    {
     "name": "stdout",
     "output_type": "stream",
     "text": [
      "8\n"
     ]
    },
    {
     "name": "stderr",
     "output_type": "stream",
     "text": [
      "\n",
      "\n",
      " 39%|███▉      | 194/500 [27:26<40:19,  7.91s/it]\u001b[A\u001b[A"
     ]
    },
    {
     "name": "stdout",
     "output_type": "stream",
     "text": [
      "9\n"
     ]
    },
    {
     "name": "stderr",
     "output_type": "stream",
     "text": [
      "\n",
      "\n",
      " 39%|███▉      | 195/500 [27:32<36:39,  7.21s/it]\u001b[A\u001b[A"
     ]
    },
    {
     "name": "stdout",
     "output_type": "stream",
     "text": [
      "6\n"
     ]
    },
    {
     "name": "stderr",
     "output_type": "stream",
     "text": [
      "\n",
      "\n",
      " 39%|███▉      | 196/500 [27:40<38:20,  7.57s/it]\u001b[A\u001b[A"
     ]
    },
    {
     "name": "stdout",
     "output_type": "stream",
     "text": [
      "10\n"
     ]
    },
    {
     "name": "stderr",
     "output_type": "stream",
     "text": [
      "\n",
      "\n",
      " 39%|███▉      | 197/500 [27:50<41:58,  8.31s/it]\u001b[A\u001b[A"
     ]
    },
    {
     "name": "stdout",
     "output_type": "stream",
     "text": [
      "11\n"
     ]
    },
    {
     "name": "stderr",
     "output_type": "stream",
     "text": [
      "\n",
      "\n",
      " 40%|███▉      | 198/500 [27:59<42:44,  8.49s/it]\u001b[A\u001b[A"
     ]
    },
    {
     "name": "stdout",
     "output_type": "stream",
     "text": [
      "9\n"
     ]
    },
    {
     "name": "stderr",
     "output_type": "stream",
     "text": [
      "\n",
      "\n",
      " 40%|███▉      | 199/500 [28:10<46:12,  9.21s/it]\u001b[A\u001b[A"
     ]
    },
    {
     "name": "stdout",
     "output_type": "stream",
     "text": [
      "9\n"
     ]
    },
    {
     "name": "stderr",
     "output_type": "stream",
     "text": [
      "\n",
      "\n",
      " 40%|████      | 200/500 [28:18<44:12,  8.84s/it]\u001b[A\u001b[A"
     ]
    },
    {
     "name": "stdout",
     "output_type": "stream",
     "text": [
      "8\n"
     ]
    },
    {
     "name": "stderr",
     "output_type": "stream",
     "text": [
      "\n",
      "\n",
      " 40%|████      | 201/500 [28:26<43:21,  8.70s/it]\u001b[A\u001b[A"
     ]
    },
    {
     "name": "stdout",
     "output_type": "stream",
     "text": [
      "11\n"
     ]
    },
    {
     "name": "stderr",
     "output_type": "stream",
     "text": [
      "\n",
      "\n",
      " 40%|████      | 202/500 [28:33<40:15,  8.11s/it]\u001b[A\u001b[A"
     ]
    },
    {
     "name": "stdout",
     "output_type": "stream",
     "text": [
      "8\n"
     ]
    },
    {
     "name": "stderr",
     "output_type": "stream",
     "text": [
      "\n",
      "\n",
      " 41%|████      | 203/500 [28:42<41:28,  8.38s/it]\u001b[A\u001b[A"
     ]
    },
    {
     "name": "stdout",
     "output_type": "stream",
     "text": [
      "9\n"
     ]
    },
    {
     "name": "stderr",
     "output_type": "stream",
     "text": [
      "\n",
      "\n",
      " 41%|████      | 204/500 [28:50<40:37,  8.23s/it]\u001b[A\u001b[A"
     ]
    },
    {
     "name": "stdout",
     "output_type": "stream",
     "text": [
      "9\n"
     ]
    },
    {
     "name": "stderr",
     "output_type": "stream",
     "text": [
      "\n",
      "\n",
      " 41%|████      | 205/500 [28:57<39:05,  7.95s/it]\u001b[A\u001b[A"
     ]
    },
    {
     "name": "stdout",
     "output_type": "stream",
     "text": [
      "8\n"
     ]
    },
    {
     "name": "stderr",
     "output_type": "stream",
     "text": [
      "\n",
      "\n",
      " 41%|████      | 206/500 [29:03<36:16,  7.40s/it]\u001b[A\u001b[A"
     ]
    },
    {
     "name": "stdout",
     "output_type": "stream",
     "text": [
      "7\n"
     ]
    },
    {
     "name": "stderr",
     "output_type": "stream",
     "text": [
      "\n",
      "\n",
      " 41%|████▏     | 207/500 [29:12<37:57,  7.77s/it]\u001b[A\u001b[A"
     ]
    },
    {
     "name": "stdout",
     "output_type": "stream",
     "text": [
      "10\n"
     ]
    },
    {
     "name": "stderr",
     "output_type": "stream",
     "text": [
      "\n",
      "\n",
      " 42%|████▏     | 208/500 [29:18<34:42,  7.13s/it]\u001b[A\u001b[A"
     ]
    },
    {
     "name": "stdout",
     "output_type": "stream",
     "text": [
      "6\n"
     ]
    },
    {
     "name": "stderr",
     "output_type": "stream",
     "text": [
      "\n",
      "\n",
      " 42%|████▏     | 209/500 [29:24<33:56,  7.00s/it]\u001b[A\u001b[A"
     ]
    },
    {
     "name": "stdout",
     "output_type": "stream",
     "text": [
      "6\n"
     ]
    },
    {
     "name": "stderr",
     "output_type": "stream",
     "text": [
      "\n",
      "\n",
      " 42%|████▏     | 210/500 [29:30<31:55,  6.61s/it]\u001b[A\u001b[A"
     ]
    },
    {
     "name": "stdout",
     "output_type": "stream",
     "text": [
      "8\n"
     ]
    },
    {
     "name": "stderr",
     "output_type": "stream",
     "text": [
      "\n",
      "\n",
      " 42%|████▏     | 211/500 [29:37<31:44,  6.59s/it]\u001b[A\u001b[A"
     ]
    },
    {
     "name": "stdout",
     "output_type": "stream",
     "text": [
      "8\n"
     ]
    },
    {
     "name": "stderr",
     "output_type": "stream",
     "text": [
      "\n",
      "\n",
      " 42%|████▏     | 212/500 [29:42<30:04,  6.27s/it]\u001b[A\u001b[A"
     ]
    },
    {
     "name": "stdout",
     "output_type": "stream",
     "text": [
      "7\n"
     ]
    },
    {
     "name": "stderr",
     "output_type": "stream",
     "text": [
      "\n",
      "\n",
      " 43%|████▎     | 213/500 [29:48<29:14,  6.11s/it]\u001b[A\u001b[A"
     ]
    },
    {
     "name": "stdout",
     "output_type": "stream",
     "text": [
      "9\n"
     ]
    },
    {
     "name": "stderr",
     "output_type": "stream",
     "text": [
      "\n",
      "\n",
      " 43%|████▎     | 214/500 [29:55<31:03,  6.52s/it]\u001b[A\u001b[A"
     ]
    },
    {
     "name": "stdout",
     "output_type": "stream",
     "text": [
      "10\n"
     ]
    },
    {
     "name": "stderr",
     "output_type": "stream",
     "text": [
      "\n",
      "\n",
      " 43%|████▎     | 215/500 [30:01<29:44,  6.26s/it]\u001b[A\u001b[A"
     ]
    },
    {
     "name": "stdout",
     "output_type": "stream",
     "text": [
      "7\n"
     ]
    },
    {
     "name": "stderr",
     "output_type": "stream",
     "text": [
      "\n",
      "\n",
      " 43%|████▎     | 216/500 [30:10<33:19,  7.04s/it]\u001b[A\u001b[A"
     ]
    },
    {
     "name": "stdout",
     "output_type": "stream",
     "text": [
      "8\n"
     ]
    },
    {
     "name": "stderr",
     "output_type": "stream",
     "text": [
      "\n",
      "\n",
      " 43%|████▎     | 217/500 [30:18<35:28,  7.52s/it]\u001b[A\u001b[A"
     ]
    },
    {
     "name": "stdout",
     "output_type": "stream",
     "text": [
      "9\n"
     ]
    },
    {
     "name": "stderr",
     "output_type": "stream",
     "text": [
      "\n",
      "\n",
      " 44%|████▎     | 218/500 [30:25<33:37,  7.15s/it]\u001b[A\u001b[A"
     ]
    },
    {
     "name": "stdout",
     "output_type": "stream",
     "text": [
      "9\n"
     ]
    },
    {
     "name": "stderr",
     "output_type": "stream",
     "text": [
      "\n",
      "\n",
      " 44%|████▍     | 219/500 [30:32<33:13,  7.10s/it]\u001b[A\u001b[A"
     ]
    },
    {
     "name": "stdout",
     "output_type": "stream",
     "text": [
      "9\n"
     ]
    },
    {
     "name": "stderr",
     "output_type": "stream",
     "text": [
      "\n",
      "\n",
      " 44%|████▍     | 220/500 [30:39<33:43,  7.23s/it]\u001b[A\u001b[A"
     ]
    },
    {
     "name": "stdout",
     "output_type": "stream",
     "text": [
      "11\n"
     ]
    },
    {
     "name": "stderr",
     "output_type": "stream",
     "text": [
      "\n",
      "\n",
      " 44%|████▍     | 221/500 [30:47<34:11,  7.35s/it]\u001b[A\u001b[A"
     ]
    },
    {
     "name": "stdout",
     "output_type": "stream",
     "text": [
      "9\n"
     ]
    },
    {
     "name": "stderr",
     "output_type": "stream",
     "text": [
      "\n",
      "\n",
      " 44%|████▍     | 222/500 [30:58<39:11,  8.46s/it]\u001b[A\u001b[A"
     ]
    },
    {
     "name": "stdout",
     "output_type": "stream",
     "text": [
      "12\n"
     ]
    },
    {
     "name": "stderr",
     "output_type": "stream",
     "text": [
      "\n",
      "\n",
      " 45%|████▍     | 223/500 [31:04<36:21,  7.88s/it]\u001b[A\u001b[A"
     ]
    },
    {
     "name": "stdout",
     "output_type": "stream",
     "text": [
      "7\n"
     ]
    },
    {
     "name": "stderr",
     "output_type": "stream",
     "text": [
      "\n",
      "\n",
      " 45%|████▍     | 224/500 [31:12<35:49,  7.79s/it]\u001b[A\u001b[A"
     ]
    },
    {
     "name": "stdout",
     "output_type": "stream",
     "text": [
      "8\n"
     ]
    },
    {
     "name": "stderr",
     "output_type": "stream",
     "text": [
      "\n",
      "\n",
      " 45%|████▌     | 225/500 [31:21<37:00,  8.08s/it]\u001b[A\u001b[A"
     ]
    },
    {
     "name": "stdout",
     "output_type": "stream",
     "text": [
      "10\n"
     ]
    },
    {
     "name": "stderr",
     "output_type": "stream",
     "text": [
      "\n",
      "\n",
      " 45%|████▌     | 226/500 [31:27<34:11,  7.49s/it]\u001b[A\u001b[A"
     ]
    },
    {
     "name": "stdout",
     "output_type": "stream",
     "text": [
      "7\n"
     ]
    },
    {
     "name": "stderr",
     "output_type": "stream",
     "text": [
      "\n",
      "\n",
      " 45%|████▌     | 227/500 [31:38<38:57,  8.56s/it]\u001b[A\u001b[A"
     ]
    },
    {
     "name": "stdout",
     "output_type": "stream",
     "text": [
      "11\n"
     ]
    },
    {
     "name": "stderr",
     "output_type": "stream",
     "text": [
      "\n",
      "\n",
      " 46%|████▌     | 228/500 [31:48<40:30,  8.94s/it]\u001b[A\u001b[A"
     ]
    },
    {
     "name": "stdout",
     "output_type": "stream",
     "text": [
      "10\n"
     ]
    },
    {
     "name": "stderr",
     "output_type": "stream",
     "text": [
      "\n",
      "\n",
      " 46%|████▌     | 229/500 [31:59<43:13,  9.57s/it]\u001b[A\u001b[A"
     ]
    },
    {
     "name": "stdout",
     "output_type": "stream",
     "text": [
      "10\n"
     ]
    },
    {
     "name": "stderr",
     "output_type": "stream",
     "text": [
      "\n",
      "\n",
      " 46%|████▌     | 230/500 [32:06<39:43,  8.83s/it]\u001b[A\u001b[A"
     ]
    },
    {
     "name": "stdout",
     "output_type": "stream",
     "text": [
      "8\n"
     ]
    },
    {
     "name": "stderr",
     "output_type": "stream",
     "text": [
      "\n",
      "\n",
      " 46%|████▌     | 231/500 [32:13<37:01,  8.26s/it]\u001b[A\u001b[A"
     ]
    },
    {
     "name": "stdout",
     "output_type": "stream",
     "text": [
      "7\n"
     ]
    },
    {
     "name": "stderr",
     "output_type": "stream",
     "text": [
      "\n",
      "\n",
      " 46%|████▋     | 232/500 [32:22<37:49,  8.47s/it]\u001b[A\u001b[A"
     ]
    },
    {
     "name": "stdout",
     "output_type": "stream",
     "text": [
      "10\n"
     ]
    },
    {
     "name": "stderr",
     "output_type": "stream",
     "text": [
      "\n",
      "\n",
      " 47%|████▋     | 233/500 [32:27<33:45,  7.58s/it]\u001b[A\u001b[A"
     ]
    },
    {
     "name": "stdout",
     "output_type": "stream",
     "text": [
      "7\n"
     ]
    },
    {
     "name": "stderr",
     "output_type": "stream",
     "text": [
      "\n",
      "\n",
      " 47%|████▋     | 234/500 [32:39<39:15,  8.86s/it]\u001b[A\u001b[A"
     ]
    },
    {
     "name": "stdout",
     "output_type": "stream",
     "text": [
      "11\n"
     ]
    },
    {
     "name": "stderr",
     "output_type": "stream",
     "text": [
      "\n",
      "\n",
      " 47%|████▋     | 235/500 [32:50<41:23,  9.37s/it]\u001b[A\u001b[A"
     ]
    },
    {
     "name": "stdout",
     "output_type": "stream",
     "text": [
      "10\n"
     ]
    },
    {
     "name": "stderr",
     "output_type": "stream",
     "text": [
      "\n",
      "\n",
      " 47%|████▋     | 236/500 [32:55<36:18,  8.25s/it]\u001b[A\u001b[A"
     ]
    },
    {
     "name": "stdout",
     "output_type": "stream",
     "text": [
      "7\n"
     ]
    },
    {
     "name": "stderr",
     "output_type": "stream",
     "text": [
      "\n",
      "\n",
      " 47%|████▋     | 237/500 [33:02<34:12,  7.80s/it]\u001b[A\u001b[A"
     ]
    },
    {
     "name": "stdout",
     "output_type": "stream",
     "text": [
      "9\n"
     ]
    },
    {
     "name": "stderr",
     "output_type": "stream",
     "text": [
      "\n",
      "\n",
      " 48%|████▊     | 238/500 [33:10<34:27,  7.89s/it]\u001b[A\u001b[A"
     ]
    },
    {
     "name": "stdout",
     "output_type": "stream",
     "text": [
      "8\n"
     ]
    },
    {
     "name": "stderr",
     "output_type": "stream",
     "text": [
      "\n",
      "\n",
      " 48%|████▊     | 239/500 [33:21<38:05,  8.76s/it]\u001b[A\u001b[A"
     ]
    },
    {
     "name": "stdout",
     "output_type": "stream",
     "text": [
      "10\n"
     ]
    },
    {
     "name": "stderr",
     "output_type": "stream",
     "text": [
      "\n",
      "\n",
      " 48%|████▊     | 240/500 [33:31<39:56,  9.22s/it]\u001b[A\u001b[A"
     ]
    },
    {
     "name": "stdout",
     "output_type": "stream",
     "text": [
      "11\n"
     ]
    },
    {
     "name": "stderr",
     "output_type": "stream",
     "text": [
      "\n",
      "\n",
      " 48%|████▊     | 241/500 [33:37<35:01,  8.11s/it]\u001b[A\u001b[A"
     ]
    },
    {
     "name": "stdout",
     "output_type": "stream",
     "text": [
      "8\n"
     ]
    },
    {
     "name": "stderr",
     "output_type": "stream",
     "text": [
      "\n",
      "\n",
      " 48%|████▊     | 242/500 [33:47<37:34,  8.74s/it]\u001b[A\u001b[A"
     ]
    },
    {
     "name": "stdout",
     "output_type": "stream",
     "text": [
      "9\n"
     ]
    },
    {
     "name": "stderr",
     "output_type": "stream",
     "text": [
      "\n",
      "\n",
      " 49%|████▊     | 243/500 [33:52<33:08,  7.74s/it]\u001b[A\u001b[A"
     ]
    },
    {
     "name": "stdout",
     "output_type": "stream",
     "text": [
      "9\n"
     ]
    },
    {
     "name": "stderr",
     "output_type": "stream",
     "text": [
      "\n",
      "\n",
      " 49%|████▉     | 244/500 [34:02<35:59,  8.44s/it]\u001b[A\u001b[A"
     ]
    },
    {
     "name": "stdout",
     "output_type": "stream",
     "text": [
      "10\n"
     ]
    },
    {
     "name": "stderr",
     "output_type": "stream",
     "text": [
      "\n",
      "\n",
      " 49%|████▉     | 245/500 [34:08<32:14,  7.59s/it]\u001b[A\u001b[A"
     ]
    },
    {
     "name": "stdout",
     "output_type": "stream",
     "text": [
      "7\n"
     ]
    },
    {
     "name": "stderr",
     "output_type": "stream",
     "text": [
      "\n",
      "\n",
      " 49%|████▉     | 246/500 [34:18<35:27,  8.37s/it]\u001b[A\u001b[A"
     ]
    },
    {
     "name": "stdout",
     "output_type": "stream",
     "text": [
      "10\n"
     ]
    },
    {
     "name": "stderr",
     "output_type": "stream",
     "text": [
      "\n",
      "\n",
      " 49%|████▉     | 247/500 [34:24<31:36,  7.50s/it]\u001b[A\u001b[A"
     ]
    },
    {
     "name": "stdout",
     "output_type": "stream",
     "text": [
      "8\n"
     ]
    },
    {
     "name": "stderr",
     "output_type": "stream",
     "text": [
      "\n",
      "\n",
      " 50%|████▉     | 248/500 [34:32<32:05,  7.64s/it]\u001b[A\u001b[A"
     ]
    },
    {
     "name": "stdout",
     "output_type": "stream",
     "text": [
      "8\n"
     ]
    },
    {
     "name": "stderr",
     "output_type": "stream",
     "text": [
      "\n",
      "\n",
      " 50%|████▉     | 249/500 [34:43<36:11,  8.65s/it]\u001b[A\u001b[A"
     ]
    },
    {
     "name": "stdout",
     "output_type": "stream",
     "text": [
      "11\n"
     ]
    },
    {
     "name": "stderr",
     "output_type": "stream",
     "text": [
      "\n",
      "\n",
      " 50%|█████     | 250/500 [34:53<37:32,  9.01s/it]\u001b[A\u001b[A"
     ]
    },
    {
     "name": "stdout",
     "output_type": "stream",
     "text": [
      "10\n"
     ]
    },
    {
     "name": "stderr",
     "output_type": "stream",
     "text": [
      "\n",
      "\n",
      " 50%|█████     | 251/500 [35:00<35:44,  8.61s/it]\u001b[A\u001b[A"
     ]
    },
    {
     "name": "stdout",
     "output_type": "stream",
     "text": [
      "8\n"
     ]
    },
    {
     "name": "stderr",
     "output_type": "stream",
     "text": [
      "\n",
      "\n",
      " 50%|█████     | 252/500 [35:08<34:16,  8.29s/it]\u001b[A\u001b[A"
     ]
    },
    {
     "name": "stdout",
     "output_type": "stream",
     "text": [
      "9\n"
     ]
    },
    {
     "name": "stderr",
     "output_type": "stream",
     "text": [
      "\n",
      "\n",
      " 51%|█████     | 253/500 [35:13<30:47,  7.48s/it]\u001b[A\u001b[A"
     ]
    },
    {
     "name": "stdout",
     "output_type": "stream",
     "text": [
      "9\n"
     ]
    },
    {
     "name": "stderr",
     "output_type": "stream",
     "text": [
      "\n",
      "\n",
      " 51%|█████     | 254/500 [35:22<32:05,  7.83s/it]\u001b[A\u001b[A"
     ]
    },
    {
     "name": "stdout",
     "output_type": "stream",
     "text": [
      "9\n"
     ]
    },
    {
     "name": "stderr",
     "output_type": "stream",
     "text": [
      "\n",
      "\n",
      " 51%|█████     | 255/500 [35:31<33:49,  8.28s/it]\u001b[A\u001b[A"
     ]
    },
    {
     "name": "stdout",
     "output_type": "stream",
     "text": [
      "11\n"
     ]
    },
    {
     "name": "stderr",
     "output_type": "stream",
     "text": [
      "\n",
      "\n",
      " 51%|█████     | 256/500 [35:41<35:02,  8.62s/it]\u001b[A\u001b[A"
     ]
    },
    {
     "name": "stdout",
     "output_type": "stream",
     "text": [
      "11\n"
     ]
    },
    {
     "name": "stderr",
     "output_type": "stream",
     "text": [
      "\n",
      "\n",
      " 51%|█████▏    | 257/500 [35:50<35:09,  8.68s/it]\u001b[A\u001b[A"
     ]
    },
    {
     "name": "stdout",
     "output_type": "stream",
     "text": [
      "9\n"
     ]
    },
    {
     "name": "stderr",
     "output_type": "stream",
     "text": [
      "\n",
      "\n",
      " 52%|█████▏    | 258/500 [35:55<31:07,  7.72s/it]\u001b[A\u001b[A"
     ]
    },
    {
     "name": "stdout",
     "output_type": "stream",
     "text": [
      "8\n"
     ]
    },
    {
     "name": "stderr",
     "output_type": "stream",
     "text": [
      "\n",
      "\n",
      " 52%|█████▏    | 259/500 [36:03<30:44,  7.65s/it]\u001b[A\u001b[A"
     ]
    },
    {
     "name": "stdout",
     "output_type": "stream",
     "text": [
      "9\n"
     ]
    },
    {
     "name": "stderr",
     "output_type": "stream",
     "text": [
      "\n",
      "\n",
      " 52%|█████▏    | 260/500 [36:11<31:46,  7.94s/it]\u001b[A\u001b[A"
     ]
    },
    {
     "name": "stdout",
     "output_type": "stream",
     "text": [
      "9\n"
     ]
    },
    {
     "name": "stderr",
     "output_type": "stream",
     "text": [
      "\n",
      "\n",
      " 52%|█████▏    | 261/500 [36:17<28:36,  7.18s/it]\u001b[A\u001b[A"
     ]
    },
    {
     "name": "stdout",
     "output_type": "stream",
     "text": [
      "9\n"
     ]
    },
    {
     "name": "stderr",
     "output_type": "stream",
     "text": [
      "\n",
      "\n",
      " 52%|█████▏    | 262/500 [36:22<26:43,  6.74s/it]\u001b[A\u001b[A"
     ]
    },
    {
     "name": "stdout",
     "output_type": "stream",
     "text": [
      "9\n"
     ]
    },
    {
     "name": "stderr",
     "output_type": "stream",
     "text": [
      "\n",
      "\n",
      " 53%|█████▎    | 263/500 [36:33<31:32,  7.99s/it]\u001b[A\u001b[A"
     ]
    },
    {
     "name": "stdout",
     "output_type": "stream",
     "text": [
      "12\n"
     ]
    },
    {
     "name": "stderr",
     "output_type": "stream",
     "text": [
      "\n",
      "\n",
      " 53%|█████▎    | 264/500 [36:39<28:27,  7.23s/it]\u001b[A\u001b[A"
     ]
    },
    {
     "name": "stdout",
     "output_type": "stream",
     "text": [
      "8\n"
     ]
    },
    {
     "name": "stderr",
     "output_type": "stream",
     "text": [
      "\n",
      "\n",
      " 53%|█████▎    | 265/500 [36:44<26:26,  6.75s/it]\u001b[A\u001b[A"
     ]
    },
    {
     "name": "stdout",
     "output_type": "stream",
     "text": [
      "7\n"
     ]
    },
    {
     "name": "stderr",
     "output_type": "stream",
     "text": [
      "\n",
      "\n",
      " 53%|█████▎    | 266/500 [36:53<29:08,  7.47s/it]\u001b[A\u001b[A"
     ]
    },
    {
     "name": "stdout",
     "output_type": "stream",
     "text": [
      "9\n"
     ]
    },
    {
     "name": "stderr",
     "output_type": "stream",
     "text": [
      "\n",
      "\n",
      " 53%|█████▎    | 267/500 [37:02<30:35,  7.88s/it]\u001b[A\u001b[A"
     ]
    },
    {
     "name": "stdout",
     "output_type": "stream",
     "text": [
      "9\n"
     ]
    },
    {
     "name": "stderr",
     "output_type": "stream",
     "text": [
      "\n",
      "\n",
      " 54%|█████▎    | 268/500 [37:11<31:52,  8.24s/it]\u001b[A\u001b[A"
     ]
    },
    {
     "name": "stdout",
     "output_type": "stream",
     "text": [
      "8\n"
     ]
    },
    {
     "name": "stderr",
     "output_type": "stream",
     "text": [
      "\n",
      "\n",
      " 54%|█████▍    | 269/500 [37:23<35:14,  9.16s/it]\u001b[A\u001b[A"
     ]
    },
    {
     "name": "stdout",
     "output_type": "stream",
     "text": [
      "10\n"
     ]
    },
    {
     "name": "stderr",
     "output_type": "stream",
     "text": [
      "\n",
      "\n",
      " 54%|█████▍    | 270/500 [37:34<37:49,  9.87s/it]\u001b[A\u001b[A"
     ]
    },
    {
     "name": "stdout",
     "output_type": "stream",
     "text": [
      "10\n"
     ]
    },
    {
     "name": "stderr",
     "output_type": "stream",
     "text": [
      "\n",
      "\n",
      " 54%|█████▍    | 271/500 [37:43<36:33,  9.58s/it]\u001b[A\u001b[A"
     ]
    },
    {
     "name": "stdout",
     "output_type": "stream",
     "text": [
      "10\n"
     ]
    },
    {
     "name": "stderr",
     "output_type": "stream",
     "text": [
      "\n",
      "\n",
      " 54%|█████▍    | 272/500 [37:50<33:19,  8.77s/it]\u001b[A\u001b[A"
     ]
    },
    {
     "name": "stdout",
     "output_type": "stream",
     "text": [
      "9\n"
     ]
    },
    {
     "name": "stderr",
     "output_type": "stream",
     "text": [
      "\n",
      "\n",
      " 55%|█████▍    | 273/500 [37:57<31:06,  8.22s/it]\u001b[A\u001b[A"
     ]
    },
    {
     "name": "stdout",
     "output_type": "stream",
     "text": [
      "8\n"
     ]
    },
    {
     "name": "stderr",
     "output_type": "stream",
     "text": [
      "\n",
      "\n",
      " 55%|█████▍    | 274/500 [38:09<34:47,  9.24s/it]\u001b[A\u001b[A"
     ]
    },
    {
     "name": "stdout",
     "output_type": "stream",
     "text": [
      "10\n"
     ]
    },
    {
     "name": "stderr",
     "output_type": "stream",
     "text": [
      "\n",
      "\n",
      " 55%|█████▌    | 275/500 [38:20<37:29, 10.00s/it]\u001b[A\u001b[A"
     ]
    },
    {
     "name": "stdout",
     "output_type": "stream",
     "text": [
      "9\n"
     ]
    },
    {
     "name": "stderr",
     "output_type": "stream",
     "text": [
      "\n",
      "\n",
      " 55%|█████▌    | 276/500 [38:32<38:54, 10.42s/it]\u001b[A\u001b[A"
     ]
    },
    {
     "name": "stdout",
     "output_type": "stream",
     "text": [
      "9\n"
     ]
    },
    {
     "name": "stderr",
     "output_type": "stream",
     "text": [
      "\n",
      "\n",
      " 55%|█████▌    | 277/500 [38:38<34:20,  9.24s/it]\u001b[A\u001b[A"
     ]
    },
    {
     "name": "stdout",
     "output_type": "stream",
     "text": [
      "8\n"
     ]
    },
    {
     "name": "stderr",
     "output_type": "stream",
     "text": [
      "\n",
      "\n",
      " 56%|█████▌    | 278/500 [38:47<33:51,  9.15s/it]\u001b[A\u001b[A"
     ]
    },
    {
     "name": "stdout",
     "output_type": "stream",
     "text": [
      "9\n"
     ]
    },
    {
     "name": "stderr",
     "output_type": "stream",
     "text": [
      "\n",
      "\n",
      " 56%|█████▌    | 279/500 [38:57<34:47,  9.45s/it]\u001b[A\u001b[A"
     ]
    },
    {
     "name": "stdout",
     "output_type": "stream",
     "text": [
      "10\n"
     ]
    },
    {
     "name": "stderr",
     "output_type": "stream",
     "text": [
      "\n",
      "\n",
      " 56%|█████▌    | 280/500 [39:04<31:34,  8.61s/it]\u001b[A\u001b[A"
     ]
    },
    {
     "name": "stdout",
     "output_type": "stream",
     "text": [
      "8\n"
     ]
    },
    {
     "name": "stderr",
     "output_type": "stream",
     "text": [
      "\n",
      "\n",
      " 56%|█████▌    | 281/500 [39:11<29:19,  8.03s/it]\u001b[A\u001b[A"
     ]
    },
    {
     "name": "stdout",
     "output_type": "stream",
     "text": [
      "8\n"
     ]
    },
    {
     "name": "stderr",
     "output_type": "stream",
     "text": [
      "\n",
      "\n",
      " 56%|█████▋    | 282/500 [39:22<32:46,  9.02s/it]\u001b[A\u001b[A"
     ]
    },
    {
     "name": "stdout",
     "output_type": "stream",
     "text": [
      "12\n"
     ]
    },
    {
     "name": "stderr",
     "output_type": "stream",
     "text": [
      "\n",
      "\n",
      " 57%|█████▋    | 283/500 [39:28<29:10,  8.07s/it]\u001b[A\u001b[A"
     ]
    },
    {
     "name": "stdout",
     "output_type": "stream",
     "text": [
      "6\n"
     ]
    },
    {
     "name": "stderr",
     "output_type": "stream",
     "text": [
      "\n",
      "\n",
      " 57%|█████▋    | 284/500 [39:37<29:50,  8.29s/it]\u001b[A\u001b[A"
     ]
    },
    {
     "name": "stdout",
     "output_type": "stream",
     "text": [
      "9\n"
     ]
    },
    {
     "name": "stderr",
     "output_type": "stream",
     "text": [
      "\n",
      "\n",
      " 57%|█████▋    | 285/500 [39:47<31:57,  8.92s/it]\u001b[A\u001b[A"
     ]
    },
    {
     "name": "stdout",
     "output_type": "stream",
     "text": [
      "10\n"
     ]
    },
    {
     "name": "stderr",
     "output_type": "stream",
     "text": [
      "\n",
      "\n",
      " 57%|█████▋    | 286/500 [39:56<32:09,  9.02s/it]\u001b[A\u001b[A"
     ]
    },
    {
     "name": "stdout",
     "output_type": "stream",
     "text": [
      "8\n"
     ]
    },
    {
     "name": "stderr",
     "output_type": "stream",
     "text": [
      "\n",
      "\n",
      " 57%|█████▋    | 287/500 [40:03<29:42,  8.37s/it]\u001b[A\u001b[A"
     ]
    },
    {
     "name": "stdout",
     "output_type": "stream",
     "text": [
      "9\n"
     ]
    },
    {
     "name": "stderr",
     "output_type": "stream",
     "text": [
      "\n",
      "\n",
      " 58%|█████▊    | 288/500 [40:13<31:33,  8.93s/it]\u001b[A\u001b[A"
     ]
    },
    {
     "name": "stdout",
     "output_type": "stream",
     "text": [
      "10\n"
     ]
    },
    {
     "name": "stderr",
     "output_type": "stream",
     "text": [
      "\n",
      "\n",
      " 58%|█████▊    | 289/500 [40:25<34:13,  9.73s/it]\u001b[A\u001b[A"
     ]
    },
    {
     "name": "stdout",
     "output_type": "stream",
     "text": [
      "11\n"
     ]
    },
    {
     "name": "stderr",
     "output_type": "stream",
     "text": [
      "\n",
      "\n",
      " 58%|█████▊    | 290/500 [40:31<30:43,  8.78s/it]\u001b[A\u001b[A"
     ]
    },
    {
     "name": "stdout",
     "output_type": "stream",
     "text": [
      "8\n"
     ]
    },
    {
     "name": "stderr",
     "output_type": "stream",
     "text": [
      "\n",
      "\n",
      " 58%|█████▊    | 291/500 [40:43<33:36,  9.65s/it]\u001b[A\u001b[A"
     ]
    },
    {
     "name": "stdout",
     "output_type": "stream",
     "text": [
      "11\n"
     ]
    },
    {
     "name": "stderr",
     "output_type": "stream",
     "text": [
      "\n",
      "\n",
      " 58%|█████▊    | 292/500 [40:55<35:16, 10.17s/it]\u001b[A\u001b[A"
     ]
    },
    {
     "name": "stdout",
     "output_type": "stream",
     "text": [
      "11\n"
     ]
    },
    {
     "name": "stderr",
     "output_type": "stream",
     "text": [
      "\n",
      "\n",
      " 59%|█████▊    | 293/500 [41:01<31:25,  9.11s/it]\u001b[A\u001b[A"
     ]
    },
    {
     "name": "stdout",
     "output_type": "stream",
     "text": [
      "8\n"
     ]
    },
    {
     "name": "stderr",
     "output_type": "stream",
     "text": [
      "\n",
      "\n",
      " 59%|█████▉    | 294/500 [41:07<28:00,  8.16s/it]\u001b[A\u001b[A"
     ]
    },
    {
     "name": "stdout",
     "output_type": "stream",
     "text": [
      "6\n"
     ]
    },
    {
     "name": "stderr",
     "output_type": "stream",
     "text": [
      "\n",
      "\n",
      " 59%|█████▉    | 295/500 [41:15<27:27,  8.04s/it]\u001b[A\u001b[A"
     ]
    },
    {
     "name": "stdout",
     "output_type": "stream",
     "text": [
      "9\n"
     ]
    },
    {
     "name": "stderr",
     "output_type": "stream",
     "text": [
      "\n",
      "\n",
      " 59%|█████▉    | 296/500 [41:25<29:33,  8.69s/it]\u001b[A\u001b[A"
     ]
    },
    {
     "name": "stdout",
     "output_type": "stream",
     "text": [
      "10\n"
     ]
    },
    {
     "name": "stderr",
     "output_type": "stream",
     "text": [
      "\n",
      "\n",
      " 59%|█████▉    | 297/500 [41:37<32:15,  9.53s/it]\u001b[A\u001b[A"
     ]
    },
    {
     "name": "stdout",
     "output_type": "stream",
     "text": [
      "12\n"
     ]
    },
    {
     "name": "stderr",
     "output_type": "stream",
     "text": [
      "\n",
      "\n",
      " 60%|█████▉    | 298/500 [41:47<33:19,  9.90s/it]\u001b[A\u001b[A"
     ]
    },
    {
     "name": "stdout",
     "output_type": "stream",
     "text": [
      "12\n"
     ]
    },
    {
     "name": "stderr",
     "output_type": "stream",
     "text": [
      "\n",
      "\n",
      " 60%|█████▉    | 299/500 [41:54<29:58,  8.95s/it]\u001b[A\u001b[A"
     ]
    },
    {
     "name": "stdout",
     "output_type": "stream",
     "text": [
      "7\n"
     ]
    },
    {
     "name": "stderr",
     "output_type": "stream",
     "text": [
      "\n",
      "\n",
      " 60%|██████    | 300/500 [42:05<31:38,  9.49s/it]\u001b[A\u001b[A"
     ]
    },
    {
     "name": "stdout",
     "output_type": "stream",
     "text": [
      "10\n"
     ]
    },
    {
     "name": "stderr",
     "output_type": "stream",
     "text": [
      "\n",
      "\n",
      " 60%|██████    | 301/500 [42:12<28:54,  8.72s/it]\u001b[A\u001b[A"
     ]
    },
    {
     "name": "stdout",
     "output_type": "stream",
     "text": [
      "7\n"
     ]
    },
    {
     "name": "stderr",
     "output_type": "stream",
     "text": [
      "\n",
      "\n",
      " 60%|██████    | 302/500 [42:22<30:20,  9.19s/it]\u001b[A\u001b[A"
     ]
    },
    {
     "name": "stdout",
     "output_type": "stream",
     "text": [
      "10\n"
     ]
    },
    {
     "name": "stderr",
     "output_type": "stream",
     "text": [
      "\n",
      "\n",
      " 61%|██████    | 303/500 [42:29<27:28,  8.37s/it]\u001b[A\u001b[A"
     ]
    },
    {
     "name": "stdout",
     "output_type": "stream",
     "text": [
      "9\n"
     ]
    },
    {
     "name": "stderr",
     "output_type": "stream",
     "text": [
      "\n",
      "\n",
      " 61%|██████    | 304/500 [42:34<24:41,  7.56s/it]\u001b[A\u001b[A"
     ]
    },
    {
     "name": "stdout",
     "output_type": "stream",
     "text": [
      "9\n"
     ]
    },
    {
     "name": "stderr",
     "output_type": "stream",
     "text": [
      "\n",
      "\n",
      " 61%|██████    | 305/500 [42:43<26:11,  8.06s/it]\u001b[A\u001b[A"
     ]
    },
    {
     "name": "stdout",
     "output_type": "stream",
     "text": [
      "8\n"
     ]
    },
    {
     "name": "stderr",
     "output_type": "stream",
     "text": [
      "\n",
      "\n",
      " 61%|██████    | 306/500 [42:49<23:36,  7.30s/it]\u001b[A\u001b[A"
     ]
    },
    {
     "name": "stdout",
     "output_type": "stream",
     "text": [
      "9\n"
     ]
    },
    {
     "name": "stderr",
     "output_type": "stream",
     "text": [
      "\n",
      "\n",
      " 61%|██████▏   | 307/500 [42:58<24:46,  7.70s/it]\u001b[A\u001b[A"
     ]
    },
    {
     "name": "stdout",
     "output_type": "stream",
     "text": [
      "10\n"
     ]
    },
    {
     "name": "stderr",
     "output_type": "stream",
     "text": [
      "\n",
      "\n",
      " 62%|██████▏   | 308/500 [43:06<24:52,  7.77s/it]\u001b[A\u001b[A"
     ]
    },
    {
     "name": "stdout",
     "output_type": "stream",
     "text": [
      "8\n"
     ]
    },
    {
     "name": "stderr",
     "output_type": "stream",
     "text": [
      "\n",
      "\n",
      " 62%|██████▏   | 309/500 [43:11<23:01,  7.24s/it]\u001b[A\u001b[A"
     ]
    },
    {
     "name": "stdout",
     "output_type": "stream",
     "text": [
      "7\n"
     ]
    },
    {
     "name": "stderr",
     "output_type": "stream",
     "text": [
      "\n",
      "\n",
      " 62%|██████▏   | 310/500 [43:23<26:42,  8.43s/it]\u001b[A\u001b[A"
     ]
    },
    {
     "name": "stdout",
     "output_type": "stream",
     "text": [
      "10\n"
     ]
    },
    {
     "name": "stderr",
     "output_type": "stream",
     "text": [
      "\n",
      "\n",
      " 62%|██████▏   | 311/500 [43:29<24:41,  7.84s/it]\u001b[A\u001b[A"
     ]
    },
    {
     "name": "stdout",
     "output_type": "stream",
     "text": [
      "8\n"
     ]
    },
    {
     "name": "stderr",
     "output_type": "stream",
     "text": [
      "\n",
      "\n",
      " 62%|██████▏   | 312/500 [43:39<26:08,  8.34s/it]\u001b[A\u001b[A"
     ]
    },
    {
     "name": "stdout",
     "output_type": "stream",
     "text": [
      "8\n"
     ]
    },
    {
     "name": "stderr",
     "output_type": "stream",
     "text": [
      "\n",
      "\n",
      " 63%|██████▎   | 313/500 [43:49<27:40,  8.88s/it]\u001b[A\u001b[A"
     ]
    },
    {
     "name": "stdout",
     "output_type": "stream",
     "text": [
      "9\n"
     ]
    },
    {
     "name": "stderr",
     "output_type": "stream",
     "text": [
      "\n",
      "\n",
      " 63%|██████▎   | 314/500 [43:56<26:11,  8.45s/it]\u001b[A\u001b[A"
     ]
    },
    {
     "name": "stdout",
     "output_type": "stream",
     "text": [
      "8\n"
     ]
    },
    {
     "name": "stderr",
     "output_type": "stream",
     "text": [
      "\n",
      "\n",
      " 63%|██████▎   | 315/500 [44:04<24:59,  8.10s/it]\u001b[A\u001b[A"
     ]
    },
    {
     "name": "stdout",
     "output_type": "stream",
     "text": [
      "8\n"
     ]
    },
    {
     "name": "stderr",
     "output_type": "stream",
     "text": [
      "\n",
      "\n",
      " 63%|██████▎   | 316/500 [44:11<24:40,  8.05s/it]\u001b[A\u001b[A"
     ]
    },
    {
     "name": "stdout",
     "output_type": "stream",
     "text": [
      "10\n"
     ]
    },
    {
     "name": "stderr",
     "output_type": "stream",
     "text": [
      "\n",
      "\n",
      " 63%|██████▎   | 317/500 [44:20<25:19,  8.30s/it]\u001b[A\u001b[A"
     ]
    },
    {
     "name": "stdout",
     "output_type": "stream",
     "text": [
      "11\n"
     ]
    },
    {
     "name": "stderr",
     "output_type": "stream",
     "text": [
      "\n",
      "\n",
      " 64%|██████▎   | 318/500 [44:26<22:53,  7.54s/it]\u001b[A\u001b[A"
     ]
    },
    {
     "name": "stdout",
     "output_type": "stream",
     "text": [
      "8\n"
     ]
    },
    {
     "name": "stderr",
     "output_type": "stream",
     "text": [
      "\n",
      "\n",
      " 64%|██████▍   | 319/500 [44:33<22:01,  7.30s/it]\u001b[A\u001b[A"
     ]
    },
    {
     "name": "stdout",
     "output_type": "stream",
     "text": [
      "8\n"
     ]
    },
    {
     "name": "stderr",
     "output_type": "stream",
     "text": [
      "\n",
      "\n",
      " 64%|██████▍   | 320/500 [44:41<22:15,  7.42s/it]\u001b[A\u001b[A"
     ]
    },
    {
     "name": "stdout",
     "output_type": "stream",
     "text": [
      "9\n"
     ]
    },
    {
     "name": "stderr",
     "output_type": "stream",
     "text": [
      "\n",
      "\n",
      " 64%|██████▍   | 321/500 [44:48<22:27,  7.53s/it]\u001b[A\u001b[A"
     ]
    },
    {
     "name": "stdout",
     "output_type": "stream",
     "text": [
      "10\n"
     ]
    },
    {
     "name": "stderr",
     "output_type": "stream",
     "text": [
      "\n",
      "\n",
      " 64%|██████▍   | 322/500 [44:57<23:09,  7.81s/it]\u001b[A\u001b[A"
     ]
    },
    {
     "name": "stdout",
     "output_type": "stream",
     "text": [
      "9\n"
     ]
    },
    {
     "name": "stderr",
     "output_type": "stream",
     "text": [
      "\n",
      "\n",
      " 65%|██████▍   | 323/500 [45:02<21:04,  7.15s/it]\u001b[A\u001b[A"
     ]
    },
    {
     "name": "stdout",
     "output_type": "stream",
     "text": [
      "8\n"
     ]
    },
    {
     "name": "stderr",
     "output_type": "stream",
     "text": [
      "\n",
      "\n",
      " 65%|██████▍   | 324/500 [45:12<23:25,  7.99s/it]\u001b[A\u001b[A"
     ]
    },
    {
     "name": "stdout",
     "output_type": "stream",
     "text": [
      "11\n"
     ]
    },
    {
     "name": "stderr",
     "output_type": "stream",
     "text": [
      "\n",
      "\n",
      " 65%|██████▌   | 325/500 [45:23<26:01,  8.93s/it]\u001b[A\u001b[A"
     ]
    },
    {
     "name": "stdout",
     "output_type": "stream",
     "text": [
      "11\n"
     ]
    },
    {
     "name": "stderr",
     "output_type": "stream",
     "text": [
      "\n",
      "\n",
      " 65%|██████▌   | 326/500 [45:29<23:12,  8.00s/it]\u001b[A\u001b[A"
     ]
    },
    {
     "name": "stdout",
     "output_type": "stream",
     "text": [
      "7\n"
     ]
    },
    {
     "name": "stderr",
     "output_type": "stream",
     "text": [
      "\n",
      "\n",
      " 65%|██████▌   | 327/500 [45:37<22:43,  7.88s/it]\u001b[A\u001b[A"
     ]
    },
    {
     "name": "stdout",
     "output_type": "stream",
     "text": [
      "8\n"
     ]
    },
    {
     "name": "stderr",
     "output_type": "stream",
     "text": [
      "\n",
      "\n",
      " 66%|██████▌   | 328/500 [45:44<22:08,  7.72s/it]\u001b[A\u001b[A"
     ]
    },
    {
     "name": "stdout",
     "output_type": "stream",
     "text": [
      "11\n"
     ]
    },
    {
     "name": "stderr",
     "output_type": "stream",
     "text": [
      "\n",
      "\n",
      " 66%|██████▌   | 329/500 [45:53<22:52,  8.02s/it]\u001b[A\u001b[A"
     ]
    },
    {
     "name": "stdout",
     "output_type": "stream",
     "text": [
      "11\n"
     ]
    },
    {
     "name": "stderr",
     "output_type": "stream",
     "text": [
      "\n",
      "\n",
      " 66%|██████▌   | 330/500 [45:59<20:39,  7.29s/it]\u001b[A\u001b[A"
     ]
    },
    {
     "name": "stdout",
     "output_type": "stream",
     "text": [
      "8\n"
     ]
    },
    {
     "name": "stderr",
     "output_type": "stream",
     "text": [
      "\n",
      "\n",
      " 66%|██████▌   | 331/500 [46:07<21:06,  7.50s/it]\u001b[A\u001b[A"
     ]
    },
    {
     "name": "stdout",
     "output_type": "stream",
     "text": [
      "9\n"
     ]
    },
    {
     "name": "stderr",
     "output_type": "stream",
     "text": [
      "\n",
      "\n",
      " 66%|██████▋   | 332/500 [46:17<23:19,  8.33s/it]\u001b[A\u001b[A"
     ]
    },
    {
     "name": "stdout",
     "output_type": "stream",
     "text": [
      "10\n"
     ]
    },
    {
     "name": "stderr",
     "output_type": "stream",
     "text": [
      "\n",
      "\n",
      " 67%|██████▋   | 333/500 [46:24<22:32,  8.10s/it]\u001b[A\u001b[A"
     ]
    },
    {
     "name": "stdout",
     "output_type": "stream",
     "text": [
      "9\n"
     ]
    },
    {
     "name": "stderr",
     "output_type": "stream",
     "text": [
      "\n",
      "\n",
      " 67%|██████▋   | 334/500 [46:31<20:58,  7.58s/it]\u001b[A\u001b[A"
     ]
    },
    {
     "name": "stdout",
     "output_type": "stream",
     "text": [
      "8\n"
     ]
    },
    {
     "name": "stderr",
     "output_type": "stream",
     "text": [
      "\n",
      "\n",
      " 67%|██████▋   | 335/500 [46:42<23:56,  8.71s/it]\u001b[A\u001b[A"
     ]
    },
    {
     "name": "stdout",
     "output_type": "stream",
     "text": [
      "12\n"
     ]
    },
    {
     "name": "stderr",
     "output_type": "stream",
     "text": [
      "\n",
      "\n",
      " 67%|██████▋   | 336/500 [46:49<22:08,  8.10s/it]\u001b[A\u001b[A"
     ]
    },
    {
     "name": "stdout",
     "output_type": "stream",
     "text": [
      "7\n"
     ]
    },
    {
     "name": "stderr",
     "output_type": "stream",
     "text": [
      "\n",
      "\n",
      " 67%|██████▋   | 337/500 [46:57<21:43,  7.99s/it]\u001b[A\u001b[A"
     ]
    },
    {
     "name": "stdout",
     "output_type": "stream",
     "text": [
      "9\n"
     ]
    },
    {
     "name": "stderr",
     "output_type": "stream",
     "text": [
      "\n",
      "\n",
      " 68%|██████▊   | 338/500 [47:06<23:08,  8.57s/it]\u001b[A\u001b[A"
     ]
    },
    {
     "name": "stdout",
     "output_type": "stream",
     "text": [
      "11\n"
     ]
    },
    {
     "name": "stderr",
     "output_type": "stream",
     "text": [
      "\n",
      "\n",
      " 68%|██████▊   | 339/500 [47:14<22:20,  8.33s/it]\u001b[A\u001b[A"
     ]
    },
    {
     "name": "stdout",
     "output_type": "stream",
     "text": [
      "9\n"
     ]
    },
    {
     "name": "stderr",
     "output_type": "stream",
     "text": [
      "\n",
      "\n",
      " 68%|██████▊   | 340/500 [47:23<22:31,  8.44s/it]\u001b[A\u001b[A"
     ]
    },
    {
     "name": "stdout",
     "output_type": "stream",
     "text": [
      "10\n"
     ]
    },
    {
     "name": "stderr",
     "output_type": "stream",
     "text": [
      "\n",
      "\n",
      " 68%|██████▊   | 341/500 [47:33<23:39,  8.93s/it]\u001b[A\u001b[A"
     ]
    },
    {
     "name": "stdout",
     "output_type": "stream",
     "text": [
      "11\n"
     ]
    },
    {
     "name": "stderr",
     "output_type": "stream",
     "text": [
      "\n",
      "\n",
      " 68%|██████▊   | 342/500 [47:40<21:37,  8.21s/it]\u001b[A\u001b[A"
     ]
    },
    {
     "name": "stdout",
     "output_type": "stream",
     "text": [
      "9\n"
     ]
    },
    {
     "name": "stderr",
     "output_type": "stream",
     "text": [
      "\n",
      "\n",
      " 69%|██████▊   | 343/500 [47:47<20:45,  7.93s/it]\u001b[A\u001b[A"
     ]
    },
    {
     "name": "stdout",
     "output_type": "stream",
     "text": [
      "9\n"
     ]
    },
    {
     "name": "stderr",
     "output_type": "stream",
     "text": [
      "\n",
      "\n",
      " 69%|██████▉   | 344/500 [47:54<20:14,  7.79s/it]\u001b[A\u001b[A"
     ]
    },
    {
     "name": "stdout",
     "output_type": "stream",
     "text": [
      "8\n"
     ]
    },
    {
     "name": "stderr",
     "output_type": "stream",
     "text": [
      "\n",
      "\n",
      " 69%|██████▉   | 345/500 [48:06<22:52,  8.85s/it]\u001b[A\u001b[A"
     ]
    },
    {
     "name": "stdout",
     "output_type": "stream",
     "text": [
      "10\n"
     ]
    },
    {
     "name": "stderr",
     "output_type": "stream",
     "text": [
      "\n",
      "\n",
      " 69%|██████▉   | 346/500 [48:17<24:48,  9.66s/it]\u001b[A\u001b[A"
     ]
    },
    {
     "name": "stdout",
     "output_type": "stream",
     "text": [
      "10\n"
     ]
    },
    {
     "name": "stderr",
     "output_type": "stream",
     "text": [
      "\n",
      "\n",
      " 69%|██████▉   | 347/500 [48:24<22:07,  8.68s/it]\u001b[A\u001b[A"
     ]
    },
    {
     "name": "stdout",
     "output_type": "stream",
     "text": [
      "9\n"
     ]
    },
    {
     "name": "stderr",
     "output_type": "stream",
     "text": [
      "\n",
      "\n",
      " 70%|██████▉   | 348/500 [48:34<23:07,  9.13s/it]\u001b[A\u001b[A"
     ]
    },
    {
     "name": "stdout",
     "output_type": "stream",
     "text": [
      "9\n"
     ]
    },
    {
     "name": "stderr",
     "output_type": "stream",
     "text": [
      "\n",
      "\n",
      " 70%|██████▉   | 349/500 [48:40<20:59,  8.34s/it]\u001b[A\u001b[A"
     ]
    },
    {
     "name": "stdout",
     "output_type": "stream",
     "text": [
      "9\n"
     ]
    },
    {
     "name": "stderr",
     "output_type": "stream",
     "text": [
      "\n",
      "\n",
      " 70%|███████   | 350/500 [48:49<21:08,  8.45s/it]\u001b[A\u001b[A"
     ]
    },
    {
     "name": "stdout",
     "output_type": "stream",
     "text": [
      "10\n"
     ]
    },
    {
     "name": "stderr",
     "output_type": "stream",
     "text": [
      "\n",
      "\n",
      " 70%|███████   | 351/500 [48:57<20:36,  8.30s/it]\u001b[A\u001b[A"
     ]
    },
    {
     "name": "stdout",
     "output_type": "stream",
     "text": [
      "7\n"
     ]
    },
    {
     "name": "stderr",
     "output_type": "stream",
     "text": [
      "\n",
      "\n",
      " 70%|███████   | 352/500 [49:05<20:00,  8.11s/it]\u001b[A\u001b[A"
     ]
    },
    {
     "name": "stdout",
     "output_type": "stream",
     "text": [
      "10\n"
     ]
    },
    {
     "name": "stderr",
     "output_type": "stream",
     "text": [
      "\n",
      "\n",
      " 71%|███████   | 353/500 [49:16<22:27,  9.17s/it]\u001b[A\u001b[A"
     ]
    },
    {
     "name": "stdout",
     "output_type": "stream",
     "text": [
      "11\n"
     ]
    },
    {
     "name": "stderr",
     "output_type": "stream",
     "text": [
      "\n",
      "\n",
      " 71%|███████   | 354/500 [49:22<20:05,  8.25s/it]\u001b[A\u001b[A"
     ]
    },
    {
     "name": "stdout",
     "output_type": "stream",
     "text": [
      "10\n"
     ]
    },
    {
     "name": "stderr",
     "output_type": "stream",
     "text": [
      "\n",
      "\n",
      " 71%|███████   | 355/500 [49:30<19:25,  8.04s/it]\u001b[A\u001b[A"
     ]
    },
    {
     "name": "stdout",
     "output_type": "stream",
     "text": [
      "9\n"
     ]
    },
    {
     "name": "stderr",
     "output_type": "stream",
     "text": [
      "\n",
      "\n",
      " 71%|███████   | 356/500 [49:35<17:33,  7.31s/it]\u001b[A\u001b[A"
     ]
    },
    {
     "name": "stdout",
     "output_type": "stream",
     "text": [
      "8\n"
     ]
    },
    {
     "name": "stderr",
     "output_type": "stream",
     "text": [
      "\n",
      "\n",
      " 71%|███████▏  | 357/500 [49:45<19:17,  8.10s/it]\u001b[A\u001b[A"
     ]
    },
    {
     "name": "stdout",
     "output_type": "stream",
     "text": [
      "10\n"
     ]
    },
    {
     "name": "stderr",
     "output_type": "stream",
     "text": [
      "\n",
      "\n",
      " 72%|███████▏  | 358/500 [49:54<19:35,  8.28s/it]\u001b[A\u001b[A"
     ]
    },
    {
     "name": "stdout",
     "output_type": "stream",
     "text": [
      "9\n"
     ]
    },
    {
     "name": "stderr",
     "output_type": "stream",
     "text": [
      "\n",
      "\n",
      " 72%|███████▏  | 359/500 [50:00<17:46,  7.57s/it]\u001b[A\u001b[A"
     ]
    },
    {
     "name": "stdout",
     "output_type": "stream",
     "text": [
      "7\n"
     ]
    },
    {
     "name": "stderr",
     "output_type": "stream",
     "text": [
      "\n",
      "\n",
      " 72%|███████▏  | 360/500 [50:08<18:18,  7.85s/it]\u001b[A\u001b[A"
     ]
    },
    {
     "name": "stdout",
     "output_type": "stream",
     "text": [
      "10\n"
     ]
    },
    {
     "name": "stderr",
     "output_type": "stream",
     "text": [
      "\n",
      "\n",
      " 72%|███████▏  | 361/500 [50:17<18:56,  8.18s/it]\u001b[A\u001b[A"
     ]
    },
    {
     "name": "stdout",
     "output_type": "stream",
     "text": [
      "9\n"
     ]
    },
    {
     "name": "stderr",
     "output_type": "stream",
     "text": [
      "\n",
      "\n",
      " 72%|███████▏  | 362/500 [50:26<18:49,  8.18s/it]\u001b[A\u001b[A"
     ]
    },
    {
     "name": "stdout",
     "output_type": "stream",
     "text": [
      "8\n"
     ]
    },
    {
     "name": "stderr",
     "output_type": "stream",
     "text": [
      "\n",
      "\n",
      " 73%|███████▎  | 363/500 [50:33<18:25,  8.07s/it]\u001b[A\u001b[A"
     ]
    },
    {
     "name": "stdout",
     "output_type": "stream",
     "text": [
      "9\n"
     ]
    },
    {
     "name": "stderr",
     "output_type": "stream",
     "text": [
      "\n",
      "\n",
      " 73%|███████▎  | 364/500 [50:42<18:43,  8.26s/it]\u001b[A\u001b[A"
     ]
    },
    {
     "name": "stdout",
     "output_type": "stream",
     "text": [
      "9\n"
     ]
    },
    {
     "name": "stderr",
     "output_type": "stream",
     "text": [
      "\n",
      "\n",
      " 73%|███████▎  | 365/500 [50:49<17:39,  7.85s/it]\u001b[A\u001b[A"
     ]
    },
    {
     "name": "stdout",
     "output_type": "stream",
     "text": [
      "7\n"
     ]
    },
    {
     "name": "stderr",
     "output_type": "stream",
     "text": [
      "\n",
      "\n",
      " 73%|███████▎  | 366/500 [50:59<18:55,  8.47s/it]\u001b[A\u001b[A"
     ]
    },
    {
     "name": "stdout",
     "output_type": "stream",
     "text": [
      "10\n"
     ]
    },
    {
     "name": "stderr",
     "output_type": "stream",
     "text": [
      "\n",
      "\n",
      " 73%|███████▎  | 367/500 [51:04<16:44,  7.55s/it]\u001b[A\u001b[A"
     ]
    },
    {
     "name": "stdout",
     "output_type": "stream",
     "text": [
      "8\n"
     ]
    },
    {
     "name": "stderr",
     "output_type": "stream",
     "text": [
      "\n",
      "\n",
      " 74%|███████▎  | 368/500 [51:11<15:58,  7.26s/it]\u001b[A\u001b[A"
     ]
    },
    {
     "name": "stdout",
     "output_type": "stream",
     "text": [
      "7\n"
     ]
    },
    {
     "name": "stderr",
     "output_type": "stream",
     "text": [
      "\n",
      "\n",
      " 74%|███████▍  | 369/500 [51:19<16:22,  7.50s/it]\u001b[A\u001b[A"
     ]
    },
    {
     "name": "stdout",
     "output_type": "stream",
     "text": [
      "8\n"
     ]
    },
    {
     "name": "stderr",
     "output_type": "stream",
     "text": [
      "\n",
      "\n",
      " 74%|███████▍  | 370/500 [51:25<15:29,  7.15s/it]\u001b[A\u001b[A"
     ]
    },
    {
     "name": "stdout",
     "output_type": "stream",
     "text": [
      "9\n"
     ]
    },
    {
     "name": "stderr",
     "output_type": "stream",
     "text": [
      "\n",
      "\n",
      " 74%|███████▍  | 371/500 [51:33<15:54,  7.40s/it]\u001b[A\u001b[A"
     ]
    },
    {
     "name": "stdout",
     "output_type": "stream",
     "text": [
      "9\n"
     ]
    },
    {
     "name": "stderr",
     "output_type": "stream",
     "text": [
      "\n",
      "\n",
      " 74%|███████▍  | 372/500 [51:40<15:22,  7.21s/it]\u001b[A\u001b[A"
     ]
    },
    {
     "name": "stdout",
     "output_type": "stream",
     "text": [
      "8\n"
     ]
    },
    {
     "name": "stderr",
     "output_type": "stream",
     "text": [
      "\n",
      "\n",
      " 75%|███████▍  | 373/500 [51:51<17:34,  8.30s/it]\u001b[A\u001b[A"
     ]
    },
    {
     "name": "stdout",
     "output_type": "stream",
     "text": [
      "11\n"
     ]
    },
    {
     "name": "stderr",
     "output_type": "stream",
     "text": [
      "\n",
      "\n",
      " 75%|███████▍  | 374/500 [51:58<16:34,  7.89s/it]\u001b[A\u001b[A"
     ]
    },
    {
     "name": "stdout",
     "output_type": "stream",
     "text": [
      "7\n"
     ]
    },
    {
     "name": "stderr",
     "output_type": "stream",
     "text": [
      "\n",
      "\n",
      " 75%|███████▌  | 375/500 [52:08<17:45,  8.52s/it]\u001b[A\u001b[A"
     ]
    },
    {
     "name": "stdout",
     "output_type": "stream",
     "text": [
      "10\n"
     ]
    },
    {
     "name": "stderr",
     "output_type": "stream",
     "text": [
      "\n",
      "\n",
      " 75%|███████▌  | 376/500 [52:19<19:31,  9.45s/it]\u001b[A\u001b[A"
     ]
    },
    {
     "name": "stdout",
     "output_type": "stream",
     "text": [
      "10\n"
     ]
    },
    {
     "name": "stderr",
     "output_type": "stream",
     "text": [
      "\n",
      "\n",
      " 75%|███████▌  | 377/500 [52:27<17:58,  8.77s/it]\u001b[A\u001b[A"
     ]
    },
    {
     "name": "stdout",
     "output_type": "stream",
     "text": [
      "8\n"
     ]
    },
    {
     "name": "stderr",
     "output_type": "stream",
     "text": [
      "\n",
      "\n",
      " 76%|███████▌  | 378/500 [52:35<17:48,  8.75s/it]\u001b[A\u001b[A"
     ]
    },
    {
     "name": "stdout",
     "output_type": "stream",
     "text": [
      "10\n"
     ]
    },
    {
     "name": "stderr",
     "output_type": "stream",
     "text": [
      "\n",
      "\n",
      " 76%|███████▌  | 379/500 [52:45<18:07,  8.98s/it]\u001b[A\u001b[A"
     ]
    },
    {
     "name": "stdout",
     "output_type": "stream",
     "text": [
      "8\n"
     ]
    },
    {
     "name": "stderr",
     "output_type": "stream",
     "text": [
      "\n",
      "\n",
      " 76%|███████▌  | 380/500 [52:53<17:36,  8.81s/it]\u001b[A\u001b[A"
     ]
    },
    {
     "name": "stdout",
     "output_type": "stream",
     "text": [
      "9\n"
     ]
    },
    {
     "name": "stderr",
     "output_type": "stream",
     "text": [
      "\n",
      "\n",
      " 76%|███████▌  | 381/500 [53:03<18:05,  9.13s/it]\u001b[A\u001b[A"
     ]
    },
    {
     "name": "stdout",
     "output_type": "stream",
     "text": [
      "10\n"
     ]
    },
    {
     "name": "stderr",
     "output_type": "stream",
     "text": [
      "\n",
      "\n",
      " 76%|███████▋  | 382/500 [53:09<16:02,  8.15s/it]\u001b[A\u001b[A"
     ]
    },
    {
     "name": "stdout",
     "output_type": "stream",
     "text": [
      "8\n"
     ]
    },
    {
     "name": "stderr",
     "output_type": "stream",
     "text": [
      "\n",
      "\n",
      " 77%|███████▋  | 383/500 [53:16<15:06,  7.75s/it]\u001b[A\u001b[A"
     ]
    },
    {
     "name": "stdout",
     "output_type": "stream",
     "text": [
      "9\n"
     ]
    },
    {
     "name": "stderr",
     "output_type": "stream",
     "text": [
      "\n",
      "\n",
      " 77%|███████▋  | 384/500 [53:27<16:55,  8.75s/it]\u001b[A\u001b[A"
     ]
    },
    {
     "name": "stdout",
     "output_type": "stream",
     "text": [
      "10\n"
     ]
    },
    {
     "name": "stderr",
     "output_type": "stream",
     "text": [
      "\n",
      "\n",
      " 77%|███████▋  | 385/500 [53:35<16:10,  8.44s/it]\u001b[A\u001b[A"
     ]
    },
    {
     "name": "stdout",
     "output_type": "stream",
     "text": [
      "8\n"
     ]
    },
    {
     "name": "stderr",
     "output_type": "stream",
     "text": [
      "\n",
      "\n",
      " 77%|███████▋  | 386/500 [53:43<16:07,  8.49s/it]\u001b[A\u001b[A"
     ]
    },
    {
     "name": "stdout",
     "output_type": "stream",
     "text": [
      "10\n"
     ]
    },
    {
     "name": "stderr",
     "output_type": "stream",
     "text": [
      "\n",
      "\n",
      " 77%|███████▋  | 387/500 [53:50<14:50,  7.88s/it]\u001b[A\u001b[A"
     ]
    },
    {
     "name": "stdout",
     "output_type": "stream",
     "text": [
      "10\n"
     ]
    },
    {
     "name": "stderr",
     "output_type": "stream",
     "text": [
      "\n",
      "\n",
      " 78%|███████▊  | 388/500 [53:55<13:31,  7.24s/it]\u001b[A\u001b[A"
     ]
    },
    {
     "name": "stdout",
     "output_type": "stream",
     "text": [
      "9\n"
     ]
    },
    {
     "name": "stderr",
     "output_type": "stream",
     "text": [
      "\n",
      "\n",
      " 78%|███████▊  | 389/500 [54:05<14:47,  7.99s/it]\u001b[A\u001b[A"
     ]
    },
    {
     "name": "stdout",
     "output_type": "stream",
     "text": [
      "10\n"
     ]
    },
    {
     "name": "stderr",
     "output_type": "stream",
     "text": [
      "\n",
      "\n",
      " 78%|███████▊  | 390/500 [54:16<16:21,  8.92s/it]\u001b[A\u001b[A"
     ]
    },
    {
     "name": "stdout",
     "output_type": "stream",
     "text": [
      "11\n"
     ]
    },
    {
     "name": "stderr",
     "output_type": "stream",
     "text": [
      "\n",
      "\n",
      " 78%|███████▊  | 391/500 [54:23<15:05,  8.31s/it]\u001b[A\u001b[A"
     ]
    },
    {
     "name": "stdout",
     "output_type": "stream",
     "text": [
      "8\n"
     ]
    },
    {
     "name": "stderr",
     "output_type": "stream",
     "text": [
      "\n",
      "\n",
      " 78%|███████▊  | 392/500 [54:33<15:46,  8.77s/it]\u001b[A\u001b[A"
     ]
    },
    {
     "name": "stdout",
     "output_type": "stream",
     "text": [
      "10\n"
     ]
    },
    {
     "name": "stderr",
     "output_type": "stream",
     "text": [
      "\n",
      "\n",
      " 79%|███████▊  | 393/500 [54:41<15:07,  8.49s/it]\u001b[A\u001b[A"
     ]
    },
    {
     "name": "stdout",
     "output_type": "stream",
     "text": [
      "8\n"
     ]
    },
    {
     "name": "stderr",
     "output_type": "stream",
     "text": [
      "\n",
      "\n",
      " 79%|███████▉  | 394/500 [54:51<15:56,  9.02s/it]\u001b[A\u001b[A"
     ]
    },
    {
     "name": "stdout",
     "output_type": "stream",
     "text": [
      "10\n"
     ]
    },
    {
     "name": "stderr",
     "output_type": "stream",
     "text": [
      "\n",
      "\n",
      " 79%|███████▉  | 395/500 [55:02<16:59,  9.71s/it]\u001b[A\u001b[A"
     ]
    },
    {
     "name": "stdout",
     "output_type": "stream",
     "text": [
      "10\n"
     ]
    },
    {
     "name": "stderr",
     "output_type": "stream",
     "text": [
      "\n",
      "\n",
      " 79%|███████▉  | 396/500 [55:08<14:42,  8.48s/it]\u001b[A\u001b[A"
     ]
    },
    {
     "name": "stdout",
     "output_type": "stream",
     "text": [
      "7\n"
     ]
    },
    {
     "name": "stderr",
     "output_type": "stream",
     "text": [
      "\n",
      "\n",
      " 79%|███████▉  | 397/500 [55:16<14:12,  8.27s/it]\u001b[A\u001b[A"
     ]
    },
    {
     "name": "stdout",
     "output_type": "stream",
     "text": [
      "9\n"
     ]
    },
    {
     "name": "stderr",
     "output_type": "stream",
     "text": [
      "\n",
      "\n",
      " 80%|███████▉  | 398/500 [55:26<14:51,  8.74s/it]\u001b[A\u001b[A"
     ]
    },
    {
     "name": "stdout",
     "output_type": "stream",
     "text": [
      "11\n"
     ]
    },
    {
     "name": "stderr",
     "output_type": "stream",
     "text": [
      "\n",
      "\n",
      " 80%|███████▉  | 399/500 [55:37<16:04,  9.55s/it]\u001b[A\u001b[A"
     ]
    },
    {
     "name": "stdout",
     "output_type": "stream",
     "text": [
      "11\n"
     ]
    },
    {
     "name": "stderr",
     "output_type": "stream",
     "text": [
      "\n",
      "\n",
      " 80%|████████  | 400/500 [55:43<13:59,  8.40s/it]\u001b[A\u001b[A"
     ]
    },
    {
     "name": "stdout",
     "output_type": "stream",
     "text": [
      "7\n"
     ]
    },
    {
     "name": "stderr",
     "output_type": "stream",
     "text": [
      "\n",
      "\n",
      " 80%|████████  | 401/500 [55:51<13:52,  8.41s/it]\u001b[A\u001b[A"
     ]
    },
    {
     "name": "stdout",
     "output_type": "stream",
     "text": [
      "12\n"
     ]
    },
    {
     "name": "stderr",
     "output_type": "stream",
     "text": [
      "\n",
      "\n",
      " 80%|████████  | 402/500 [55:58<12:54,  7.91s/it]\u001b[A\u001b[A"
     ]
    },
    {
     "name": "stdout",
     "output_type": "stream",
     "text": [
      "7\n"
     ]
    },
    {
     "name": "stderr",
     "output_type": "stream",
     "text": [
      "\n",
      "\n",
      " 81%|████████  | 403/500 [56:05<12:19,  7.62s/it]\u001b[A\u001b[A"
     ]
    },
    {
     "name": "stdout",
     "output_type": "stream",
     "text": [
      "7\n"
     ]
    },
    {
     "name": "stderr",
     "output_type": "stream",
     "text": [
      "\n",
      "\n",
      " 81%|████████  | 404/500 [56:12<11:43,  7.33s/it]\u001b[A\u001b[A"
     ]
    },
    {
     "name": "stdout",
     "output_type": "stream",
     "text": [
      "9\n"
     ]
    },
    {
     "name": "stderr",
     "output_type": "stream",
     "text": [
      "\n",
      "\n",
      " 81%|████████  | 405/500 [56:21<12:36,  7.96s/it]\u001b[A\u001b[A"
     ]
    },
    {
     "name": "stdout",
     "output_type": "stream",
     "text": [
      "10\n"
     ]
    },
    {
     "name": "stderr",
     "output_type": "stream",
     "text": [
      "\n",
      "\n",
      " 81%|████████  | 406/500 [56:30<12:52,  8.21s/it]\u001b[A\u001b[A"
     ]
    },
    {
     "name": "stdout",
     "output_type": "stream",
     "text": [
      "10\n"
     ]
    },
    {
     "name": "stderr",
     "output_type": "stream",
     "text": [
      "\n",
      "\n",
      " 81%|████████▏ | 407/500 [56:42<14:22,  9.28s/it]\u001b[A\u001b[A"
     ]
    },
    {
     "name": "stdout",
     "output_type": "stream",
     "text": [
      "11\n"
     ]
    },
    {
     "name": "stderr",
     "output_type": "stream",
     "text": [
      "\n",
      "\n",
      " 82%|████████▏ | 408/500 [56:50<13:49,  9.02s/it]\u001b[A\u001b[A"
     ]
    },
    {
     "name": "stdout",
     "output_type": "stream",
     "text": [
      "8\n"
     ]
    },
    {
     "name": "stderr",
     "output_type": "stream",
     "text": [
      "\n",
      "\n",
      " 82%|████████▏ | 409/500 [56:59<13:47,  9.09s/it]\u001b[A\u001b[A"
     ]
    },
    {
     "name": "stdout",
     "output_type": "stream",
     "text": [
      "11\n"
     ]
    },
    {
     "name": "stderr",
     "output_type": "stream",
     "text": [
      "\n",
      "\n",
      " 82%|████████▏ | 410/500 [57:05<12:14,  8.16s/it]\u001b[A\u001b[A"
     ]
    },
    {
     "name": "stdout",
     "output_type": "stream",
     "text": [
      "7\n"
     ]
    },
    {
     "name": "stderr",
     "output_type": "stream",
     "text": [
      "\n",
      "\n",
      " 82%|████████▏ | 411/500 [57:14<12:24,  8.36s/it]\u001b[A\u001b[A"
     ]
    },
    {
     "name": "stdout",
     "output_type": "stream",
     "text": [
      "9\n"
     ]
    },
    {
     "name": "stderr",
     "output_type": "stream",
     "text": [
      "\n",
      "\n",
      " 82%|████████▏ | 412/500 [57:24<12:59,  8.86s/it]\u001b[A\u001b[A"
     ]
    },
    {
     "name": "stdout",
     "output_type": "stream",
     "text": [
      "9\n"
     ]
    },
    {
     "name": "stderr",
     "output_type": "stream",
     "text": [
      "\n",
      "\n",
      " 83%|████████▎ | 413/500 [57:32<12:24,  8.56s/it]\u001b[A\u001b[A"
     ]
    },
    {
     "name": "stdout",
     "output_type": "stream",
     "text": [
      "7\n"
     ]
    },
    {
     "name": "stderr",
     "output_type": "stream",
     "text": [
      "\n",
      "\n",
      " 83%|████████▎ | 414/500 [57:41<12:24,  8.65s/it]\u001b[A\u001b[A"
     ]
    },
    {
     "name": "stdout",
     "output_type": "stream",
     "text": [
      "10\n"
     ]
    },
    {
     "name": "stderr",
     "output_type": "stream",
     "text": [
      "\n",
      "\n",
      " 83%|████████▎ | 415/500 [57:52<13:15,  9.36s/it]\u001b[A\u001b[A"
     ]
    },
    {
     "name": "stdout",
     "output_type": "stream",
     "text": [
      "10\n"
     ]
    },
    {
     "name": "stderr",
     "output_type": "stream",
     "text": [
      "\n",
      "\n",
      " 83%|████████▎ | 416/500 [57:58<11:55,  8.52s/it]\u001b[A\u001b[A"
     ]
    },
    {
     "name": "stdout",
     "output_type": "stream",
     "text": [
      "8\n"
     ]
    },
    {
     "name": "stderr",
     "output_type": "stream",
     "text": [
      "\n",
      "\n",
      " 83%|████████▎ | 417/500 [58:06<11:24,  8.25s/it]\u001b[A\u001b[A"
     ]
    },
    {
     "name": "stdout",
     "output_type": "stream",
     "text": [
      "8\n"
     ]
    },
    {
     "name": "stderr",
     "output_type": "stream",
     "text": [
      "\n",
      "\n",
      " 84%|████████▎ | 418/500 [58:18<12:39,  9.27s/it]\u001b[A\u001b[A"
     ]
    },
    {
     "name": "stdout",
     "output_type": "stream",
     "text": [
      "10\n"
     ]
    },
    {
     "name": "stderr",
     "output_type": "stream",
     "text": [
      "\n",
      "\n",
      " 84%|████████▍ | 419/500 [58:25<11:36,  8.60s/it]\u001b[A\u001b[A"
     ]
    },
    {
     "name": "stdout",
     "output_type": "stream",
     "text": [
      "6\n"
     ]
    },
    {
     "name": "stderr",
     "output_type": "stream",
     "text": [
      "\n",
      "\n",
      " 84%|████████▍ | 420/500 [58:31<10:40,  8.01s/it]\u001b[A\u001b[A"
     ]
    },
    {
     "name": "stdout",
     "output_type": "stream",
     "text": [
      "9\n"
     ]
    },
    {
     "name": "stderr",
     "output_type": "stream",
     "text": [
      "\n",
      "\n",
      " 84%|████████▍ | 421/500 [58:41<11:17,  8.57s/it]\u001b[A\u001b[A"
     ]
    },
    {
     "name": "stdout",
     "output_type": "stream",
     "text": [
      "11\n"
     ]
    },
    {
     "name": "stderr",
     "output_type": "stream",
     "text": [
      "\n",
      "\n",
      " 84%|████████▍ | 422/500 [58:50<11:24,  8.78s/it]\u001b[A\u001b[A"
     ]
    },
    {
     "name": "stdout",
     "output_type": "stream",
     "text": [
      "10\n"
     ]
    },
    {
     "name": "stderr",
     "output_type": "stream",
     "text": [
      "\n",
      "\n",
      " 85%|████████▍ | 423/500 [58:59<11:13,  8.74s/it]\u001b[A\u001b[A"
     ]
    },
    {
     "name": "stdout",
     "output_type": "stream",
     "text": [
      "10\n"
     ]
    },
    {
     "name": "stderr",
     "output_type": "stream",
     "text": [
      "\n",
      "\n",
      " 85%|████████▍ | 424/500 [59:07<10:44,  8.48s/it]\u001b[A\u001b[A"
     ]
    },
    {
     "name": "stdout",
     "output_type": "stream",
     "text": [
      "9\n"
     ]
    },
    {
     "name": "stderr",
     "output_type": "stream",
     "text": [
      "\n",
      "\n",
      " 85%|████████▌ | 425/500 [59:17<11:17,  9.03s/it]\u001b[A\u001b[A"
     ]
    },
    {
     "name": "stdout",
     "output_type": "stream",
     "text": [
      "10\n"
     ]
    },
    {
     "name": "stderr",
     "output_type": "stream",
     "text": [
      "\n",
      "\n",
      " 85%|████████▌ | 426/500 [59:29<12:02,  9.76s/it]\u001b[A\u001b[A"
     ]
    },
    {
     "name": "stdout",
     "output_type": "stream",
     "text": [
      "9\n"
     ]
    },
    {
     "name": "stderr",
     "output_type": "stream",
     "text": [
      "\n",
      "\n",
      " 85%|████████▌ | 427/500 [59:40<12:31, 10.29s/it]\u001b[A\u001b[A"
     ]
    },
    {
     "name": "stdout",
     "output_type": "stream",
     "text": [
      "10\n"
     ]
    },
    {
     "name": "stderr",
     "output_type": "stream",
     "text": [
      "\n",
      "\n",
      " 86%|████████▌ | 428/500 [59:46<10:48,  9.01s/it]\u001b[A\u001b[A"
     ]
    },
    {
     "name": "stdout",
     "output_type": "stream",
     "text": [
      "7\n"
     ]
    },
    {
     "name": "stderr",
     "output_type": "stream",
     "text": [
      "\n",
      "\n",
      " 86%|████████▌ | 429/500 [59:58<11:37,  9.82s/it]\u001b[A\u001b[A"
     ]
    },
    {
     "name": "stdout",
     "output_type": "stream",
     "text": [
      "11\n"
     ]
    },
    {
     "name": "stderr",
     "output_type": "stream",
     "text": [
      "\n",
      "\n",
      " 86%|████████▌ | 430/500 [1:00:08<11:38,  9.98s/it]\u001b[A\u001b[A"
     ]
    },
    {
     "name": "stdout",
     "output_type": "stream",
     "text": [
      "10\n"
     ]
    },
    {
     "name": "stderr",
     "output_type": "stream",
     "text": [
      "\n",
      "\n",
      " 86%|████████▌ | 431/500 [1:00:20<12:09, 10.57s/it]\u001b[A\u001b[A"
     ]
    },
    {
     "name": "stdout",
     "output_type": "stream",
     "text": [
      "11\n"
     ]
    },
    {
     "name": "stderr",
     "output_type": "stream",
     "text": [
      "\n",
      "\n",
      " 86%|████████▋ | 432/500 [1:00:28<10:55,  9.63s/it]\u001b[A\u001b[A"
     ]
    },
    {
     "name": "stdout",
     "output_type": "stream",
     "text": [
      "10\n"
     ]
    },
    {
     "name": "stderr",
     "output_type": "stream",
     "text": [
      "\n",
      "\n",
      " 87%|████████▋ | 433/500 [1:00:39<11:20, 10.15s/it]\u001b[A\u001b[A"
     ]
    },
    {
     "name": "stdout",
     "output_type": "stream",
     "text": [
      "9\n"
     ]
    },
    {
     "name": "stderr",
     "output_type": "stream",
     "text": [
      "\n",
      "\n",
      " 87%|████████▋ | 434/500 [1:00:51<11:47, 10.71s/it]\u001b[A\u001b[A"
     ]
    },
    {
     "name": "stdout",
     "output_type": "stream",
     "text": [
      "10\n"
     ]
    },
    {
     "name": "stderr",
     "output_type": "stream",
     "text": [
      "\n",
      "\n",
      " 87%|████████▋ | 435/500 [1:01:02<11:42, 10.80s/it]\u001b[A\u001b[A"
     ]
    },
    {
     "name": "stdout",
     "output_type": "stream",
     "text": [
      "12\n"
     ]
    },
    {
     "name": "stderr",
     "output_type": "stream",
     "text": [
      "\n",
      "\n",
      " 87%|████████▋ | 436/500 [1:01:08<09:57,  9.34s/it]\u001b[A\u001b[A"
     ]
    },
    {
     "name": "stdout",
     "output_type": "stream",
     "text": [
      "7\n"
     ]
    },
    {
     "name": "stderr",
     "output_type": "stream",
     "text": [
      "\n",
      "\n",
      " 87%|████████▋ | 437/500 [1:01:14<08:44,  8.32s/it]\u001b[A\u001b[A"
     ]
    },
    {
     "name": "stdout",
     "output_type": "stream",
     "text": [
      "7\n"
     ]
    },
    {
     "name": "stderr",
     "output_type": "stream",
     "text": [
      "\n",
      "\n",
      " 88%|████████▊ | 438/500 [1:01:23<08:47,  8.50s/it]\u001b[A\u001b[A"
     ]
    },
    {
     "name": "stdout",
     "output_type": "stream",
     "text": [
      "9\n"
     ]
    },
    {
     "name": "stderr",
     "output_type": "stream",
     "text": [
      "\n",
      "\n",
      " 88%|████████▊ | 439/500 [1:01:29<07:47,  7.66s/it]\u001b[A\u001b[A"
     ]
    },
    {
     "name": "stdout",
     "output_type": "stream",
     "text": [
      "8\n"
     ]
    },
    {
     "name": "stderr",
     "output_type": "stream",
     "text": [
      "\n",
      "\n",
      " 88%|████████▊ | 440/500 [1:01:34<07:06,  7.10s/it]\u001b[A\u001b[A"
     ]
    },
    {
     "name": "stdout",
     "output_type": "stream",
     "text": [
      "8\n"
     ]
    },
    {
     "name": "stderr",
     "output_type": "stream",
     "text": [
      "\n",
      "\n",
      " 88%|████████▊ | 441/500 [1:01:41<06:52,  6.99s/it]\u001b[A\u001b[A"
     ]
    },
    {
     "name": "stdout",
     "output_type": "stream",
     "text": [
      "8\n"
     ]
    },
    {
     "name": "stderr",
     "output_type": "stream",
     "text": [
      "\n",
      "\n",
      " 88%|████████▊ | 442/500 [1:01:50<07:18,  7.57s/it]\u001b[A\u001b[A"
     ]
    },
    {
     "name": "stdout",
     "output_type": "stream",
     "text": [
      "9\n"
     ]
    },
    {
     "name": "stderr",
     "output_type": "stream",
     "text": [
      "\n",
      "\n",
      " 89%|████████▊ | 443/500 [1:02:01<08:15,  8.70s/it]\u001b[A\u001b[A"
     ]
    },
    {
     "name": "stdout",
     "output_type": "stream",
     "text": [
      "10\n"
     ]
    },
    {
     "name": "stderr",
     "output_type": "stream",
     "text": [
      "\n",
      "\n",
      " 89%|████████▉ | 444/500 [1:02:13<08:50,  9.48s/it]\u001b[A\u001b[A"
     ]
    },
    {
     "name": "stdout",
     "output_type": "stream",
     "text": [
      "12\n"
     ]
    },
    {
     "name": "stderr",
     "output_type": "stream",
     "text": [
      "\n",
      "\n",
      " 89%|████████▉ | 445/500 [1:02:22<08:41,  9.49s/it]\u001b[A\u001b[A"
     ]
    },
    {
     "name": "stdout",
     "output_type": "stream",
     "text": [
      "8\n"
     ]
    },
    {
     "name": "stderr",
     "output_type": "stream",
     "text": [
      "\n",
      "\n",
      " 89%|████████▉ | 446/500 [1:02:30<08:04,  8.98s/it]\u001b[A\u001b[A"
     ]
    },
    {
     "name": "stdout",
     "output_type": "stream",
     "text": [
      "8\n"
     ]
    },
    {
     "name": "stderr",
     "output_type": "stream",
     "text": [
      "\n",
      "\n",
      " 89%|████████▉ | 447/500 [1:02:37<07:16,  8.24s/it]\u001b[A\u001b[A"
     ]
    },
    {
     "name": "stdout",
     "output_type": "stream",
     "text": [
      "9\n"
     ]
    },
    {
     "name": "stderr",
     "output_type": "stream",
     "text": [
      "\n",
      "\n",
      " 90%|████████▉ | 448/500 [1:02:43<06:42,  7.75s/it]\u001b[A\u001b[A"
     ]
    },
    {
     "name": "stdout",
     "output_type": "stream",
     "text": [
      "9\n"
     ]
    },
    {
     "name": "stderr",
     "output_type": "stream",
     "text": [
      "\n",
      "\n",
      " 90%|████████▉ | 449/500 [1:02:54<07:16,  8.57s/it]\u001b[A\u001b[A"
     ]
    },
    {
     "name": "stdout",
     "output_type": "stream",
     "text": [
      "9\n"
     ]
    },
    {
     "name": "stderr",
     "output_type": "stream",
     "text": [
      "\n",
      "\n",
      " 90%|█████████ | 450/500 [1:03:00<06:40,  8.01s/it]\u001b[A\u001b[A"
     ]
    },
    {
     "name": "stdout",
     "output_type": "stream",
     "text": [
      "8\n"
     ]
    },
    {
     "name": "stderr",
     "output_type": "stream",
     "text": [
      "\n",
      "\n",
      " 90%|█████████ | 451/500 [1:03:10<06:54,  8.47s/it]\u001b[A\u001b[A"
     ]
    },
    {
     "name": "stdout",
     "output_type": "stream",
     "text": [
      "11\n"
     ]
    },
    {
     "name": "stderr",
     "output_type": "stream",
     "text": [
      "\n",
      "\n",
      " 90%|█████████ | 452/500 [1:03:17<06:21,  7.94s/it]\u001b[A\u001b[A"
     ]
    },
    {
     "name": "stdout",
     "output_type": "stream",
     "text": [
      "7\n"
     ]
    },
    {
     "name": "stderr",
     "output_type": "stream",
     "text": [
      "\n",
      "\n",
      " 91%|█████████ | 453/500 [1:03:22<05:41,  7.26s/it]\u001b[A\u001b[A"
     ]
    },
    {
     "name": "stdout",
     "output_type": "stream",
     "text": [
      "7\n"
     ]
    },
    {
     "name": "stderr",
     "output_type": "stream",
     "text": [
      "\n",
      "\n",
      " 91%|█████████ | 454/500 [1:03:29<05:26,  7.11s/it]\u001b[A\u001b[A"
     ]
    },
    {
     "name": "stdout",
     "output_type": "stream",
     "text": [
      "9\n"
     ]
    },
    {
     "name": "stderr",
     "output_type": "stream",
     "text": [
      "\n",
      "\n",
      " 91%|█████████ | 455/500 [1:03:39<05:54,  7.88s/it]\u001b[A\u001b[A"
     ]
    },
    {
     "name": "stdout",
     "output_type": "stream",
     "text": [
      "10\n"
     ]
    },
    {
     "name": "stderr",
     "output_type": "stream",
     "text": [
      "\n",
      "\n",
      " 91%|█████████ | 456/500 [1:03:50<06:35,  8.99s/it]\u001b[A\u001b[A"
     ]
    },
    {
     "name": "stdout",
     "output_type": "stream",
     "text": [
      "9\n"
     ]
    },
    {
     "name": "stderr",
     "output_type": "stream",
     "text": [
      "\n",
      "\n",
      " 91%|█████████▏| 457/500 [1:04:01<06:46,  9.44s/it]\u001b[A\u001b[A"
     ]
    },
    {
     "name": "stdout",
     "output_type": "stream",
     "text": [
      "11\n"
     ]
    },
    {
     "name": "stderr",
     "output_type": "stream",
     "text": [
      "\n",
      "\n",
      " 92%|█████████▏| 458/500 [1:04:13<07:14, 10.36s/it]\u001b[A\u001b[A"
     ]
    },
    {
     "name": "stdout",
     "output_type": "stream",
     "text": [
      "10\n"
     ]
    },
    {
     "name": "stderr",
     "output_type": "stream",
     "text": [
      "\n",
      "\n",
      " 92%|█████████▏| 459/500 [1:04:20<06:16,  9.19s/it]\u001b[A\u001b[A"
     ]
    },
    {
     "name": "stdout",
     "output_type": "stream",
     "text": [
      "8\n"
     ]
    },
    {
     "name": "stderr",
     "output_type": "stream",
     "text": [
      "\n",
      "\n",
      " 92%|█████████▏| 460/500 [1:04:27<05:41,  8.54s/it]\u001b[A\u001b[A"
     ]
    },
    {
     "name": "stdout",
     "output_type": "stream",
     "text": [
      "9\n"
     ]
    },
    {
     "name": "stderr",
     "output_type": "stream",
     "text": [
      "\n",
      "\n",
      " 92%|█████████▏| 461/500 [1:04:36<05:36,  8.63s/it]\u001b[A\u001b[A"
     ]
    },
    {
     "name": "stdout",
     "output_type": "stream",
     "text": [
      "8\n"
     ]
    },
    {
     "name": "stderr",
     "output_type": "stream",
     "text": [
      "\n",
      "\n",
      " 92%|█████████▏| 462/500 [1:04:47<05:58,  9.42s/it]\u001b[A\u001b[A"
     ]
    },
    {
     "name": "stdout",
     "output_type": "stream",
     "text": [
      "11\n"
     ]
    },
    {
     "name": "stderr",
     "output_type": "stream",
     "text": [
      "\n",
      "\n",
      " 93%|█████████▎| 463/500 [1:04:58<06:08,  9.97s/it]\u001b[A\u001b[A"
     ]
    },
    {
     "name": "stdout",
     "output_type": "stream",
     "text": [
      "9\n"
     ]
    },
    {
     "name": "stderr",
     "output_type": "stream",
     "text": [
      "\n",
      "\n",
      " 93%|█████████▎| 464/500 [1:05:07<05:41,  9.50s/it]\u001b[A\u001b[A"
     ]
    },
    {
     "name": "stdout",
     "output_type": "stream",
     "text": [
      "9\n"
     ]
    },
    {
     "name": "stderr",
     "output_type": "stream",
     "text": [
      "\n",
      "\n",
      " 93%|█████████▎| 465/500 [1:05:13<05:02,  8.64s/it]\u001b[A\u001b[A"
     ]
    },
    {
     "name": "stdout",
     "output_type": "stream",
     "text": [
      "7\n"
     ]
    },
    {
     "name": "stderr",
     "output_type": "stream",
     "text": [
      "\n",
      "\n",
      " 93%|█████████▎| 466/500 [1:05:21<04:50,  8.54s/it]\u001b[A\u001b[A"
     ]
    },
    {
     "name": "stdout",
     "output_type": "stream",
     "text": [
      "8\n"
     ]
    },
    {
     "name": "stderr",
     "output_type": "stream",
     "text": [
      "\n",
      "\n",
      " 93%|█████████▎| 467/500 [1:05:34<05:18,  9.66s/it]\u001b[A\u001b[A"
     ]
    },
    {
     "name": "stdout",
     "output_type": "stream",
     "text": [
      "11\n"
     ]
    },
    {
     "name": "stderr",
     "output_type": "stream",
     "text": [
      "\n",
      "\n",
      " 94%|█████████▎| 468/500 [1:05:41<04:42,  8.82s/it]\u001b[A\u001b[A"
     ]
    },
    {
     "name": "stdout",
     "output_type": "stream",
     "text": [
      "8\n"
     ]
    },
    {
     "name": "stderr",
     "output_type": "stream",
     "text": [
      "\n",
      "\n",
      " 94%|█████████▍| 469/500 [1:05:51<04:51,  9.40s/it]\u001b[A\u001b[A"
     ]
    },
    {
     "name": "stdout",
     "output_type": "stream",
     "text": [
      "10\n"
     ]
    },
    {
     "name": "stderr",
     "output_type": "stream",
     "text": [
      "\n",
      "\n",
      " 94%|█████████▍| 470/500 [1:05:59<04:29,  8.97s/it]\u001b[A\u001b[A"
     ]
    },
    {
     "name": "stdout",
     "output_type": "stream",
     "text": [
      "8\n"
     ]
    },
    {
     "name": "stderr",
     "output_type": "stream",
     "text": [
      "\n",
      "\n",
      " 94%|█████████▍| 471/500 [1:06:07<04:12,  8.71s/it]\u001b[A\u001b[A"
     ]
    },
    {
     "name": "stdout",
     "output_type": "stream",
     "text": [
      "8\n"
     ]
    },
    {
     "name": "stderr",
     "output_type": "stream",
     "text": [
      "\n",
      "\n",
      " 94%|█████████▍| 472/500 [1:06:16<03:58,  8.52s/it]\u001b[A\u001b[A"
     ]
    },
    {
     "name": "stdout",
     "output_type": "stream",
     "text": [
      "7\n"
     ]
    },
    {
     "name": "stderr",
     "output_type": "stream",
     "text": [
      "\n",
      "\n",
      " 95%|█████████▍| 473/500 [1:06:21<03:27,  7.69s/it]\u001b[A\u001b[A"
     ]
    },
    {
     "name": "stdout",
     "output_type": "stream",
     "text": [
      "9\n"
     ]
    },
    {
     "name": "stderr",
     "output_type": "stream",
     "text": [
      "\n",
      "\n",
      " 95%|█████████▍| 474/500 [1:06:30<03:25,  7.92s/it]\u001b[A\u001b[A"
     ]
    },
    {
     "name": "stdout",
     "output_type": "stream",
     "text": [
      "7\n"
     ]
    },
    {
     "name": "stderr",
     "output_type": "stream",
     "text": [
      "\n",
      "\n",
      " 95%|█████████▌| 475/500 [1:06:40<03:39,  8.76s/it]\u001b[A\u001b[A"
     ]
    },
    {
     "name": "stdout",
     "output_type": "stream",
     "text": [
      "12\n"
     ]
    },
    {
     "name": "stderr",
     "output_type": "stream",
     "text": [
      "\n",
      "\n",
      " 95%|█████████▌| 476/500 [1:06:46<03:09,  7.90s/it]\u001b[A\u001b[A"
     ]
    },
    {
     "name": "stdout",
     "output_type": "stream",
     "text": [
      "8\n"
     ]
    },
    {
     "name": "stderr",
     "output_type": "stream",
     "text": [
      "\n",
      "\n",
      " 95%|█████████▌| 477/500 [1:06:55<03:08,  8.19s/it]\u001b[A\u001b[A"
     ]
    },
    {
     "name": "stdout",
     "output_type": "stream",
     "text": [
      "9\n"
     ]
    },
    {
     "name": "stderr",
     "output_type": "stream",
     "text": [
      "\n",
      "\n",
      " 96%|█████████▌| 478/500 [1:07:04<03:03,  8.33s/it]\u001b[A\u001b[A"
     ]
    },
    {
     "name": "stdout",
     "output_type": "stream",
     "text": [
      "10\n"
     ]
    },
    {
     "name": "stderr",
     "output_type": "stream",
     "text": [
      "\n",
      "\n",
      " 96%|█████████▌| 479/500 [1:07:14<03:06,  8.88s/it]\u001b[A\u001b[A"
     ]
    },
    {
     "name": "stdout",
     "output_type": "stream",
     "text": [
      "10\n"
     ]
    },
    {
     "name": "stderr",
     "output_type": "stream",
     "text": [
      "\n",
      "\n",
      " 96%|█████████▌| 480/500 [1:07:23<02:59,  8.97s/it]\u001b[A\u001b[A"
     ]
    },
    {
     "name": "stdout",
     "output_type": "stream",
     "text": [
      "10\n"
     ]
    },
    {
     "name": "stderr",
     "output_type": "stream",
     "text": [
      "\n",
      "\n",
      " 96%|█████████▌| 481/500 [1:07:33<02:55,  9.22s/it]\u001b[A\u001b[A"
     ]
    },
    {
     "name": "stdout",
     "output_type": "stream",
     "text": [
      "10\n"
     ]
    },
    {
     "name": "stderr",
     "output_type": "stream",
     "text": [
      "\n",
      "\n",
      " 96%|█████████▋| 482/500 [1:07:43<02:50,  9.50s/it]\u001b[A\u001b[A"
     ]
    },
    {
     "name": "stdout",
     "output_type": "stream",
     "text": [
      "10\n"
     ]
    },
    {
     "name": "stderr",
     "output_type": "stream",
     "text": [
      "\n",
      "\n",
      " 97%|█████████▋| 483/500 [1:07:53<02:43,  9.64s/it]\u001b[A\u001b[A"
     ]
    },
    {
     "name": "stdout",
     "output_type": "stream",
     "text": [
      "10\n"
     ]
    },
    {
     "name": "stderr",
     "output_type": "stream",
     "text": [
      "\n",
      "\n",
      " 97%|█████████▋| 484/500 [1:07:59<02:15,  8.49s/it]\u001b[A\u001b[A"
     ]
    },
    {
     "name": "stdout",
     "output_type": "stream",
     "text": [
      "7\n"
     ]
    },
    {
     "name": "stderr",
     "output_type": "stream",
     "text": [
      "\n",
      "\n",
      " 97%|█████████▋| 485/500 [1:08:09<02:15,  9.02s/it]\u001b[A\u001b[A"
     ]
    },
    {
     "name": "stdout",
     "output_type": "stream",
     "text": [
      "10\n"
     ]
    }
   ],
   "source": [
    "for i in tqdm(range(500)):\n",
    "    out = create_branched()\n",
    "    with open(f'bigger_labeled/{i}.json', 'w') as fp:\n",
    "        json.dump(out, fp)"
   ]
  },
  {
   "cell_type": "code",
   "execution_count": null,
   "metadata": {},
   "outputs": [],
   "source": [
    "create_branched()"
   ]
  },
  {
   "cell_type": "code",
   "execution_count": 6,
   "metadata": {},
   "outputs": [
    {
     "data": {
      "text/plain": [
       "61.71853564400237"
      ]
     },
     "execution_count": 6,
     "metadata": {},
     "output_type": "execute_result"
    }
   ],
   "source": [
    "confgen = ConformerGeneratorCustom(max_conformers=1, \n",
    "                 rmsd_threshold=None, \n",
    "                 force_field='mmff',\n",
    "                 pool_multiplier=1)\n",
    "one = 'COc1cc(C2OCC3C(c4ccc([O])c(OC)c4)OCC23)ccc1[O]'\n",
    "two = 'COc1cc(C2Oc3c(OC)cc(C=CCO)cc3C2CO)ccc1[O]'\n",
    "three = 'COc1cc(C2Oc3c(OC)cc(C(O)C(CO)Oc4ccc(C=CCO)cc4OC)cc3C2CO)ccc1[O]'\n",
    "four = 'COc1cc(C(O)C(CO)Oc2ccc(C(O)C(CO)Oc3ccc(C(O)C(CO)Oc4ccc(C=CCO)cc4OC)cc3OC)cc2OC)ccc1[O]'\n",
    "ten = 'COc1cc(C2Oc3c(OC)cc(C4Oc5c(OC)cc(C(O)C(CO)Oc6ccc(C7OCC8C(c9cc(OC)c%10c(c9)C(CO)C(c9cc(OC)c%11c(c9)C(CO)C(c9ccc(O)c(OC)c9)O%11)O%10)OCC78)cc6OC)cc5C4CO)cc3C2CO)ccc1[O].COc1cc(C2Oc3c(OC)cc(C4Oc5c(OC)cc(C=CCO)cc5C4CO)cc3C2CO)ccc1O'\n",
    "nine = 'COc1cc(C(O)C(CO)Oc2ccc(C3OCC4C(c5cc(OC)c6c(c5)C(CO)C(c5ccc(OC(CO)C(O)c7cc(OC)c8c(c7)C(CO)C(c7ccc([O])c(OC)c7)O8)c(OC)c5)O6)OCC34)cc2OC)ccc1[O].COc1cc(C2Oc3c(OC)cc(C4Oc5c(OC)cc(C=CCO)cc5C4CO)cc3C2CO)ccc1O'\n",
    "eight = 'COc1cc(C(O)C(CO)Oc2c(OC)cc(C(O)C(CO)Oc3ccc(C4Oc5c(OC)cc(C6Oc7c(OC)cc(C8Oc9c(OC)cc(C=CCO)cc9C8CO)cc7C6CO)cc5C4CO)cc3OC)cc2-c2cc(C3OCC4C(c5ccc(O)c(OC)c5)OCC34)cc(OC)c2[O])ccc1[O]'\n",
    "x = Chem.MolFromSmiles(two)\n",
    "res = AllChem.EmbedMultipleConfs(x, numConfs=200, numThreads=-1)\n",
    "Chem.AllChem.MMFFOptimizeMoleculeConfs(x, numThreads=-1)\n",
    "confgen.get_conformer_energies(x).min()"
   ]
  },
  {
   "cell_type": "code",
   "execution_count": 13,
   "metadata": {},
   "outputs": [
    {
     "name": "stdout",
     "output_type": "stream",
     "text": [
      "7\n"
     ]
    },
    {
     "data": {
      "application/3dmoljs_load.v0": "<div id=\"3dmolviewer_1579857967829846\"  style=\"position: relative; width: 800px; height: 800px\">\n        <p id=\"3dmolwarning_1579857967829846\" style=\"background-color:#ffcccc;color:black\">You appear to be running in JupyterLab (or JavaScript failed to load for some other reason).  You need to install the 3dmol extension: <br>\n        <tt>jupyter labextension install jupyterlab_3dmol</tt></p>\n        </div>\n<script>\n\nvar loadScriptAsync = function(uri){\n  return new Promise((resolve, reject) => {\n    var tag = document.createElement('script');\n    tag.src = uri;\n    tag.async = true;\n    tag.onload = () => {\n      resolve();\n    };\n  var firstScriptTag = document.getElementsByTagName('script')[0];\n  firstScriptTag.parentNode.insertBefore(tag, firstScriptTag);\n});\n};\n\nif(typeof $3Dmolpromise === 'undefined') {\n$3Dmolpromise = null;\n  $3Dmolpromise = loadScriptAsync('https://3dmol.csb.pitt.edu/build/3Dmol.js');\n}\n\nvar viewer_1579857967829846 = null;\nvar warn = document.getElementById(\"3dmolwarning_1579857967829846\");\nif(warn) {\n    warn.parentNode.removeChild(warn);\n}\n$3Dmolpromise.then(function() {\nviewer_1579857967829846 = $3Dmol.createViewer($(\"#3dmolviewer_1579857967829846\"),{backgroundColor:\"white\"});\n\tviewer_1579857967829846.removeAllModels();\n\tviewer_1579857967829846.addModel(\"\\n     RDKit          3D\\n\\n 26 28  0  0  0  0  0  0  0  0999 V2000\\n   -2.6483    0.3854   -4.8800 C   0  0  0  0  0  0  0  0  0  0  0  0\\n   -3.7465    0.7771   -4.0743 O   0  0  0  0  0  0  0  0  0  0  0  0\\n   -3.5797    0.3252   -2.7777 C   0  0  0  0  0  0  0  0  0  0  0  0\\n   -2.2839    0.1496   -2.2601 C   0  0  0  0  0  0  0  0  0  0  0  0\\n   -2.0748   -0.2613   -0.9489 C   0  0  0  0  0  0  0  0  0  0  0  0\\n   -0.6932   -0.3049   -0.4256 C   0  0  0  0  0  0  0  0  0  0  0  0\\n   -0.2206   -1.5128    0.1703 O   0  0  0  0  0  0  0  0  0  0  0  0\\n    0.9402   -1.1084    0.7874 C   0  0  0  0  0  0  0  0  0  0  0  0\\n    1.8850   -1.9549    1.3437 C   0  0  0  0  0  0  0  0  0  0  0  0\\n    1.6824   -3.3017    1.2643 O   0  0  0  0  0  0  0  0  0  0  0  0\\n    2.7034   -4.0232    1.9416 C   0  0  0  0  0  0  0  0  0  0  0  0\\n    3.0013   -1.3657    1.9447 C   0  0  0  0  0  0  0  0  0  0  0  0\\n    3.1675    0.0280    1.9752 C   0  0  0  0  0  0  0  0  0  0  0  0\\n    4.3360    0.5629    2.6602 C   0  0  0  0  0  0  0  0  0  0  0  0\\n    5.1231    1.5600    2.2458 C   0  0  0  0  0  0  0  0  0  0  0  0\\n    5.0245    2.2951    0.9611 C   0  0  0  0  0  0  0  0  0  0  0  0\\n    4.8341    3.6738    1.2335 O   0  0  0  0  0  0  0  0  0  0  0  0\\n    2.1875    0.8616    1.4292 C   0  0  0  0  0  0  0  0  0  0  0  0\\n    1.0838    0.2751    0.8379 C   0  0  0  0  0  0  0  0  0  0  0  0\\n   -0.0958    0.9343    0.2190 C   0  0  0  0  0  0  0  0  0  0  0  0\\n   -0.9978    1.6322    1.2211 C   0  0  0  0  0  0  0  0  0  0  0  0\\n   -1.3007    0.8288    2.3493 O   0  0  0  0  0  0  0  0  0  0  0  0\\n   -3.1807   -0.5236   -0.1577 C   0  0  0  0  0  0  0  0  0  0  0  0\\n   -4.4646   -0.3344   -0.6792 C   0  0  0  0  0  0  0  0  0  0  0  0\\n   -4.7388    0.1136   -1.9877 C   0  0  0  0  0  0  0  0  0  0  0  0\\n   -5.9434    0.2880   -2.3800 O   0  0  0  0  0  1  0  0  0  0  0  0\\n  1  2  1  0\\n  2  3  1  0\\n  3  4  2  0\\n  4  5  1  0\\n  5  6  1  0\\n  6  7  1  0\\n  7  8  1  0\\n  8  9  2  0\\n  9 10  1  0\\n 10 11  1  0\\n  9 12  1  0\\n 12 13  2  0\\n 13 14  1  0\\n 14 15  2  3\\n 15 16  1  0\\n 16 17  1  0\\n 13 18  1  0\\n 18 19  2  0\\n 19 20  1  0\\n 20 21  1  0\\n 21 22  1  0\\n  5 23  2  0\\n 23 24  1  0\\n 24 25  2  0\\n 25 26  1  0\\n 25  3  1  0\\n 20  6  1  0\\n 19  8  1  0\\nM  RAD  1  26   2\\nM  END\\n\",\"sdf\");\n\tviewer_1579857967829846.setStyle({\"stick\": {}});\n\tviewer_1579857967829846.setBackgroundColor(\"0xeeeeee\");\n\tviewer_1579857967829846.zoomTo();\nviewer_1579857967829846.render();\n});\n</script>",
      "text/html": [
       "<div id=\"3dmolviewer_1579857967829846\"  style=\"position: relative; width: 800px; height: 800px\">\n",
       "        <p id=\"3dmolwarning_1579857967829846\" style=\"background-color:#ffcccc;color:black\">You appear to be running in JupyterLab (or JavaScript failed to load for some other reason).  You need to install the 3dmol extension: <br>\n",
       "        <tt>jupyter labextension install jupyterlab_3dmol</tt></p>\n",
       "        </div>\n",
       "<script>\n",
       "\n",
       "var loadScriptAsync = function(uri){\n",
       "  return new Promise((resolve, reject) => {\n",
       "    var tag = document.createElement('script');\n",
       "    tag.src = uri;\n",
       "    tag.async = true;\n",
       "    tag.onload = () => {\n",
       "      resolve();\n",
       "    };\n",
       "  var firstScriptTag = document.getElementsByTagName('script')[0];\n",
       "  firstScriptTag.parentNode.insertBefore(tag, firstScriptTag);\n",
       "});\n",
       "};\n",
       "\n",
       "if(typeof $3Dmolpromise === 'undefined') {\n",
       "$3Dmolpromise = null;\n",
       "  $3Dmolpromise = loadScriptAsync('https://3dmol.csb.pitt.edu/build/3Dmol.js');\n",
       "}\n",
       "\n",
       "var viewer_1579857967829846 = null;\n",
       "var warn = document.getElementById(\"3dmolwarning_1579857967829846\");\n",
       "if(warn) {\n",
       "    warn.parentNode.removeChild(warn);\n",
       "}\n",
       "$3Dmolpromise.then(function() {\n",
       "viewer_1579857967829846 = $3Dmol.createViewer($(\"#3dmolviewer_1579857967829846\"),{backgroundColor:\"white\"});\n",
       "\tviewer_1579857967829846.removeAllModels();\n",
       "\tviewer_1579857967829846.addModel(\"\\n     RDKit          3D\\n\\n 26 28  0  0  0  0  0  0  0  0999 V2000\\n   -2.6483    0.3854   -4.8800 C   0  0  0  0  0  0  0  0  0  0  0  0\\n   -3.7465    0.7771   -4.0743 O   0  0  0  0  0  0  0  0  0  0  0  0\\n   -3.5797    0.3252   -2.7777 C   0  0  0  0  0  0  0  0  0  0  0  0\\n   -2.2839    0.1496   -2.2601 C   0  0  0  0  0  0  0  0  0  0  0  0\\n   -2.0748   -0.2613   -0.9489 C   0  0  0  0  0  0  0  0  0  0  0  0\\n   -0.6932   -0.3049   -0.4256 C   0  0  0  0  0  0  0  0  0  0  0  0\\n   -0.2206   -1.5128    0.1703 O   0  0  0  0  0  0  0  0  0  0  0  0\\n    0.9402   -1.1084    0.7874 C   0  0  0  0  0  0  0  0  0  0  0  0\\n    1.8850   -1.9549    1.3437 C   0  0  0  0  0  0  0  0  0  0  0  0\\n    1.6824   -3.3017    1.2643 O   0  0  0  0  0  0  0  0  0  0  0  0\\n    2.7034   -4.0232    1.9416 C   0  0  0  0  0  0  0  0  0  0  0  0\\n    3.0013   -1.3657    1.9447 C   0  0  0  0  0  0  0  0  0  0  0  0\\n    3.1675    0.0280    1.9752 C   0  0  0  0  0  0  0  0  0  0  0  0\\n    4.3360    0.5629    2.6602 C   0  0  0  0  0  0  0  0  0  0  0  0\\n    5.1231    1.5600    2.2458 C   0  0  0  0  0  0  0  0  0  0  0  0\\n    5.0245    2.2951    0.9611 C   0  0  0  0  0  0  0  0  0  0  0  0\\n    4.8341    3.6738    1.2335 O   0  0  0  0  0  0  0  0  0  0  0  0\\n    2.1875    0.8616    1.4292 C   0  0  0  0  0  0  0  0  0  0  0  0\\n    1.0838    0.2751    0.8379 C   0  0  0  0  0  0  0  0  0  0  0  0\\n   -0.0958    0.9343    0.2190 C   0  0  0  0  0  0  0  0  0  0  0  0\\n   -0.9978    1.6322    1.2211 C   0  0  0  0  0  0  0  0  0  0  0  0\\n   -1.3007    0.8288    2.3493 O   0  0  0  0  0  0  0  0  0  0  0  0\\n   -3.1807   -0.5236   -0.1577 C   0  0  0  0  0  0  0  0  0  0  0  0\\n   -4.4646   -0.3344   -0.6792 C   0  0  0  0  0  0  0  0  0  0  0  0\\n   -4.7388    0.1136   -1.9877 C   0  0  0  0  0  0  0  0  0  0  0  0\\n   -5.9434    0.2880   -2.3800 O   0  0  0  0  0  1  0  0  0  0  0  0\\n  1  2  1  0\\n  2  3  1  0\\n  3  4  2  0\\n  4  5  1  0\\n  5  6  1  0\\n  6  7  1  0\\n  7  8  1  0\\n  8  9  2  0\\n  9 10  1  0\\n 10 11  1  0\\n  9 12  1  0\\n 12 13  2  0\\n 13 14  1  0\\n 14 15  2  3\\n 15 16  1  0\\n 16 17  1  0\\n 13 18  1  0\\n 18 19  2  0\\n 19 20  1  0\\n 20 21  1  0\\n 21 22  1  0\\n  5 23  2  0\\n 23 24  1  0\\n 24 25  2  0\\n 25 26  1  0\\n 25  3  1  0\\n 20  6  1  0\\n 19  8  1  0\\nM  RAD  1  26   2\\nM  END\\n\",\"sdf\");\n",
       "\tviewer_1579857967829846.setStyle({\"stick\": {}});\n",
       "\tviewer_1579857967829846.setBackgroundColor(\"0xeeeeee\");\n",
       "\tviewer_1579857967829846.zoomTo();\n",
       "viewer_1579857967829846.render();\n",
       "});\n",
       "</script>"
      ]
     },
     "metadata": {},
     "output_type": "display_data"
    }
   ],
   "source": [
    "import py3Dmol\n",
    "p = py3Dmol.view(width=800,height=800)\n",
    "print(len(TorsionFingerprints.CalculateTorsionLists(x)[0]))\n",
    "drawit(x, p, confId=41)"
   ]
  },
  {
   "cell_type": "code",
   "execution_count": 11,
   "metadata": {},
   "outputs": [
    {
     "name": "stdout",
     "output_type": "stream",
     "text": [
      "[74.52634171 80.83540113 78.7927291  72.84703765 78.79275549 71.99581912\n",
      " 72.14676882 80.52422877 72.84709337 71.26131932 66.10753078 70.83868426\n",
      " 74.27723272 69.56445135 79.73956622 79.51937849 70.83870121 73.21231623\n",
      " 66.30077805 73.90885166 73.93343356 71.95703239 79.73952462 74.52632506\n",
      " 78.5579684  78.71081481 72.27496039 80.52428177 73.93342988 79.40163554\n",
      " 74.27731437 63.008771   70.91606985 74.52633827 70.83869731 68.55020224\n",
      " 71.15466411 79.51959332 69.23208792 66.08145445 74.27733349 81.11418514\n",
      " 73.09561123 61.71853564 69.77419019 64.16240296 80.09665819 80.0054402\n",
      " 72.74932238 71.2566252  70.91610415 79.00168279 64.04388538 71.06382342\n",
      " 74.27730711 71.09059144 78.79272647 64.09731051 71.09066111 71.64209378\n",
      " 71.26120301 79.51926276 73.6861673  74.27731862 73.93366931 79.40158241\n",
      " 79.73956759 77.50092592 73.09557374 79.40162091 80.42804608 73.09558027\n",
      " 72.25312937 80.51390937 74.5775605  64.00252907 80.83388989 72.99987207\n",
      " 71.99585024 69.77783273 74.70690961 73.21228625 80.83385183 79.40163741\n",
      " 80.00541175 73.22156631 69.11043911 77.62077943 67.13422194 73.33790472\n",
      " 73.88229077 73.90883754 72.81061738 70.77837492 71.9958562  70.8386594\n",
      " 75.47079166 72.87438125 73.25854886 74.09903218 72.87440611 74.52629922\n",
      " 74.49985161 65.5552883  71.51616633 73.11604482 78.55797647 72.9356609\n",
      " 71.25627142 75.19421704 72.23945967 73.68601812 79.40166601 71.52046786\n",
      " 70.91603424 78.79365888 73.90879796 80.42806617 75.47099053 74.27731382\n",
      " 79.40168938 73.21227279 80.3782747  80.4280856  73.09606117 78.79252745\n",
      " 71.06384426 75.02342819 71.25661512 78.71081283 77.50088184 69.77413932\n",
      " 78.71094362 74.52626406 80.0055246  74.7193468  73.93344759 71.09064175\n",
      " 73.93342631 72.87440616 73.93315935 70.83867485 77.62074387 73.90882491\n",
      " 73.71747374 71.15465113 78.79275915 73.22161303 73.5537142  72.81679308\n",
      " 79.40164317 74.09905958 72.87436943 72.84701575 72.84708899 72.99857981\n",
      " 73.71750989 72.98684766 73.71746665 71.52075465 72.15614334 73.21233212\n",
      " 73.09556845 72.81061705 71.56407827 71.15465708 73.21236371 72.87436217\n",
      " 69.9600279  72.81058727 71.25661748 69.7741833  73.90881793 70.83868426\n",
      " 81.11398919 73.93347067 70.83867085 64.44009609 80.42809027 70.9161101\n",
      " 70.83867504 66.32917366 75.04359802 79.40161316 80.83374331 73.90879843\n",
      " 77.92196486 71.56410584 72.8470161  72.87436747 72.99853952 71.26131886\n",
      " 72.15457415 78.79274129 71.64206473 69.66752781 74.27723627 72.06516627\n",
      " 70.7783708  73.33790612]\n",
      "43\n",
      "41\n"
     ]
    }
   ],
   "source": [
    "energys = confgen.get_conformer_energies(x)\n",
    "print(energys)\n",
    "print(energys.argmin())\n",
    "print(energys.argmax())"
   ]
  },
  {
   "cell_type": "code",
   "execution_count": 33,
   "metadata": {},
   "outputs": [
    {
     "name": "stdout",
     "output_type": "stream",
     "text": [
      "200\n"
     ]
    }
   ],
   "source": [
    "mol = Chem.MolFromMolFile('258-trihexyl-decane.mol')\n",
    "stand = 14.88278294332602\n",
    "mol = Chem.AddHs(mol)\n",
    "AllChem.EmbedMultipleConfs(mol, numConfs=200, numThreads=-1)\n",
    "Chem.AllChem.MMFFOptimizeMoleculeConfs(mol, numThreads=-1)\n",
    "\n",
    "confgen = ConformerGeneratorCustom(max_conformers=200, \n",
    "                 rmsd_threshold=1.0, \n",
    "                 force_field='mmff',\n",
    "                 pool_multiplier=1)  \n",
    "\n",
    "# mol = Chem.RemoveHs(mol)\n",
    "# mol, mat = confgen.prune_conformers(mol, get_conformer_rmsd_fast(mol))\n",
    "# mol = Chem.AddHs(mol)\n",
    "\n",
    "energys = confgen.get_conformer_energies(mol)\n",
    "print(len(energys))"
   ]
  },
  {
   "cell_type": "code",
   "execution_count": 3,
   "metadata": {},
   "outputs": [
    {
     "data": {
      "text/plain": [
       "1.2363186365185044"
      ]
     },
     "execution_count": 3,
     "metadata": {},
     "output_type": "execute_result"
    }
   ],
   "source": [
    "np.sum(np.exp( -1.0*(energys - stand)))"
   ]
  },
  {
   "cell_type": "code",
   "execution_count": 4,
   "metadata": {},
   "outputs": [
    {
     "data": {
      "text/plain": [
       "'[H]C([H])([H])C([H])([H])C([H])([H])C([H])([H])C([H])([H])C([H])([H])[C@]([H])(C([H])([H])C([H])([H])[H])C([H])([H])C([H])([H])[C@@]([H])(C([H])([H])C([H])([H])C([H])([H])C([H])([H])C([H])([H])C([H])([H])[H])C([H])([H])C([H])([H])[C@]([H])(C([H])([H])[H])C([H])([H])C([H])([H])C([H])([H])C([H])([H])C([H])([H])C([H])([H])[H]'"
      ]
     },
     "execution_count": 4,
     "metadata": {},
     "output_type": "execute_result"
    }
   ],
   "source": [
    "Chem.MolToSmiles(mol)"
   ]
  },
  {
   "cell_type": "code",
   "execution_count": null,
   "metadata": {},
   "outputs": [],
   "source": [
    "x= mol.GetConformer(-1)\n",
    "x.GetPositions()"
   ]
  },
  {
   "cell_type": "code",
   "execution_count": null,
   "metadata": {},
   "outputs": [],
   "source": [
    "mol.GetNumAtoms()"
   ]
  },
  {
   "cell_type": "code",
   "execution_count": null,
   "metadata": {},
   "outputs": [],
   "source": [
    "mol, mat = confgen.prune_conformers(mol, get_conformer_rmsd_fast(mol, heavy_atoms_only=True), heavy_atoms_only=True )\n",
    "print(mat)"
   ]
  },
  {
   "cell_type": "code",
   "execution_count": null,
   "metadata": {},
   "outputs": [],
   "source": [
    "nonring, ring = Chem.TorsionFingerprints.CalculateTorsionLists(mol)\n",
    "all_tors = [Chem.TorsionFingerprints.CalculateTorsionAngles(mol, nonring, ring, confId=i) for i in range(200)]\n"
   ]
  },
  {
   "cell_type": "code",
   "execution_count": 15,
   "metadata": {},
   "outputs": [],
   "source": [
    "def prune_conformers(mol, tfd_thresh):\n",
    "    \"\"\"\n",
    "    Prune conformers from a molecule using an RMSD threshold, starting\n",
    "    with the lowest energy conformer.\n",
    "\n",
    "    Parameters\n",
    "    ----------\n",
    "    mol : RDKit Mol\n",
    "            Molecule.\n",
    "\n",
    "    Returns\n",
    "    -------\n",
    "    new: A new RDKit Mol containing the chosen conformers, sorted by\n",
    "             increasing energy.\n",
    "    new_rmsd: matrix of conformer-conformer RMSD\n",
    "    \"\"\"\n",
    "    if tfd_thresh < 0 or mol.GetNumConformers() <= 1:\n",
    "        return mol\n",
    "    \n",
    "    energies = confgen.get_conformer_energies(mol)\n",
    "    \n",
    "    tfd = array_to_lower_triangle(Chem.TorsionFingerprints.GetTFDMatrix(mol, useWeights=False), True)\n",
    "    print(tfd)\n",
    "    sort = np.argsort(energies)  # sort by increasing energy\n",
    "    keep = []  # always keep lowest-energy conformer\n",
    "    discard = []\n",
    "\n",
    "    for i in sort:\n",
    "        # always keep lowest-energy conformer\n",
    "        if len(keep) == 0:\n",
    "            keep.append(i)\n",
    "            continue\n",
    "\n",
    "        # get RMSD to selected conformers\n",
    "        this_tfd = tfd[i][np.asarray(keep, dtype=int)]\n",
    "        # discard conformers within the RMSD threshold\n",
    "        if np.all(this_tfd >= tfd_thresh):\n",
    "            keep.append(i)\n",
    "        else:\n",
    "            discard.append(i)\n",
    "\n",
    "    # create a new molecule to hold the chosen conformers\n",
    "    # this ensures proper conformer IDs and energy-based ordering\n",
    "    new = Chem.Mol(mol)\n",
    "    new.RemoveAllConformers()\n",
    "    conf_ids = [conf.GetId() for conf in mol.GetConformers()]\n",
    "    for i in keep:\n",
    "        conf = mol.GetConformer(conf_ids[i])\n",
    "        new.AddConformer(conf, assignId=True)\n",
    "        \n",
    "    return new"
   ]
  },
  {
   "cell_type": "code",
   "execution_count": 12,
   "metadata": {},
   "outputs": [
    {
     "name": "stdout",
     "output_type": "stream",
     "text": [
      "0\n",
      "[(1, 22.702735114921346), (1, 23.226607481430296), (1, 16.217599875583346), (1, 20.084658722819963), (1, 23.355175381128337), (1, 23.821319529384194), (1, 32.624193665607926), (1, 26.43955845089064), (1, 25.440372751680947), (1, 26.662578481148845), (1, 20.9097731025148), (1, 21.622563174923073), (1, 20.102477918417506), (1, 29.5811847010739), (1, 21.69803949759398), (1, 22.221746440745882), (1, 20.78079491325065), (1, 22.936405860922157), (1, 23.296734414644337), (1, 29.788142319260377), (1, 26.286752556448853), (1, 27.447635416599184), (1, 20.461050576936916), (1, 30.487101049565545), (1, 26.8815021868532), (1, 21.35945493863967), (1, 25.663233944824928), (1, 24.626283019582406), (1, 22.09984133559549), (1, 17.56061750654976), (1, 23.459435163602606), (1, 19.26960350536428), (1, 28.714995799709236), (1, 24.45981636246118), (1, 26.341129098552617), (1, 26.344226753411856), (1, 19.89699009066934), (1, 29.81961616331778), (1, 30.679038750500357), (1, 28.238605476716355), (1, 26.578717532384662), (1, 23.811807446777912), (1, 29.09872840403357), (1, 27.207558135532842), (1, 23.457048518515137), (1, 22.912376146008448), (1, 20.76736937975054), (1, 23.389966533562806), (1, 23.991386758389535), (1, 26.344008144959272), (1, 30.79521529317174), (1, 32.73650193110547), (1, 29.218749024345456), (1, 20.007348161022872), (1, 25.20946250946221), (1, 25.25640519116023), (1, 22.311056414813574), (1, 21.096196009769834), (1, 23.98105115028984), (1, 18.71564443948362), (1, 20.353635988832284), (1, 26.67948240016838), (1, 28.17963772752025), (1, 20.93242949679674), (1, 31.775946857953443), (1, 25.94085118267252), (1, 23.788542026963018), (1, 20.124699116699137), (1, 28.7584755559839), (1, 26.441242337987045), (1, 21.066685872068426), (1, 28.836958750757095), (1, 25.311741654909724), (1, 19.86051741422156), (1, 17.81593382824367), (1, 18.652017767539906), (1, 29.073082763882415), (1, 22.756373758731925), (1, 21.08972024379469), (1, 31.832398576684945), (1, 17.945074774693442), (1, 30.617282319233848), (1, 20.876139245401916), (1, 18.16831758568474), (1, 25.85394016909933), (1, 23.325600293962083), (1, 20.407477422616346), (1, 26.028269243151037), (1, 25.54773496985372), (1, 21.31053519809399), (1, 22.119854747195216), (1, 22.63711829285511), (1, 25.565018284985328), (1, 28.94552586057348), (1, 23.930215231537016), (1, 22.929870713207464), (1, 17.96466278724409), (1, 18.141283323975824), (1, 26.6348823477971), (1, 22.535769773239053), (1, 21.181441720307795), (1, 23.205056053444206), (1, 26.639929714324673), (1, 20.978094692516645), (1, 29.645078797452065), (1, 26.93403430277782), (1, 27.350513773129972), (1, 15.047575815467534), (1, 25.187090377714714), (1, 26.72285498395883), (1, 20.212644678164107), (1, 22.861543379349193), (1, 26.509874553585938), (1, 23.227683249592495), (1, 20.120419558922357), (1, 20.474884459124986), (1, 22.243438100343273), (1, 26.366355027082587), (1, 29.29906219867177), (1, 26.41333886622285), (1, 31.530202841503428), (1, 23.9136725025581), (1, 21.678681341648094), (1, 23.37877921086549), (1, 30.957693924746557), (1, 26.848303756823356), (1, 24.904374290173898), (1, 31.759147197397777), (1, 24.976867913172487), (1, 29.438346110092795), (1, 27.029187108644475), (1, 21.52365341739322), (1, 29.515371539728317), (1, 25.630369946452873), (1, 27.31695332852316), (1, 23.37114278946248), (1, 26.423494674188763), (1, 22.88828444316431), (1, 24.18582485968029), (1, 21.294461996920955), (1, 18.173299176694254), (1, 28.081606135302835), (1, 22.42453703046469), (1, 24.09666085075355), (1, 22.06993565186288), (1, 20.322476799854176), (1, 16.99039345996113), (1, 24.12347645221678), (1, 30.572512362151066), (1, 21.861708398103517), (1, 29.097591137797107), (1, 22.627818981026728), (1, 22.50186847028223), (1, 30.568034343319837), (1, 21.001779606066638), (1, 28.588629280337223), (1, 27.229071090696603), (1, 24.15498808887641), (1, 23.394297194008736), (1, 22.023899805858665), (1, 29.432066054119133), (1, 24.806898781102696), (1, 25.53921346413594), (1, 19.872395161134918), (1, 26.22914080229718), (1, 26.442266351647888), (1, 20.34094749591954), (1, 24.15113110167261), (1, 21.45781185532506), (1, 29.442038624074517), (1, 29.429884837055607), (1, 26.404588035017454), (1, 23.180387628953852), (1, 25.780525703161402), (1, 24.01568157025245), (1, 21.766972479743252), (1, 22.519561716521334), (1, 26.867741239533874), (1, 23.62097187813037), (1, 27.218640005070668), (1, 28.929228864169875), (1, 18.383433629145994), (1, 26.72089896245445), (1, 20.08989730671972), (1, 33.23276742262275), (1, 21.214787043837447), (1, 22.408495822571552), (1, 26.107373462136927), (1, 30.30169794471031), (1, 36.923416873931494), (1, 37.41921641953322), (1, 19.14822575087818), (1, 24.767319506072475), (1, 21.930944261213252), (1, 19.038533488148452), (1, 29.82765280699321), (1, 23.734490951635365), (1, 20.283831157694273), (1, 22.08436585523896), (1, 27.079055032220122)]\n"
     ]
    }
   ],
   "source": [
    "# mol = Chem.MolFromSmiles('CC(CCC)CCCC(CCCC)CC')\n",
    "# standard = 7.678142433712216\n",
    "\n",
    "mol = Chem.MolFromMolFile('258-trihexyl-decane.mol')\n",
    "standard = 14.88278294332602\n",
    "mol = Chem.AddHs(mol)\n",
    "res = AllChem.EmbedMultipleConfs(mol, numConfs=200, numThreads=-1)\n",
    "print(res[0])\n",
    "res = AllChem.MMFFOptimizeMoleculeConfs(mol, numThreads=-1)\n",
    "print(res)"
   ]
  },
  {
   "cell_type": "code",
   "execution_count": 7,
   "metadata": {},
   "outputs": [],
   "source": [
    "confgen = ConformerGeneratorCustom(max_conformers=200, \n",
    "                 rmsd_threshold=1.0, \n",
    "                 force_field='mmff',\n",
    "                 pool_multiplier=1)  \n",
    "energys = confgen.get_conformer_energies(mol)"
   ]
  },
  {
   "cell_type": "code",
   "execution_count": 14,
   "metadata": {},
   "outputs": [
    {
     "data": {
      "text/plain": [
       "2.343469632551261"
      ]
     },
     "execution_count": 14,
     "metadata": {},
     "output_type": "execute_result"
    }
   ],
   "source": [
    "np.sum(np.exp(-(energys - standard)))"
   ]
  },
  {
   "cell_type": "code",
   "execution_count": 15,
   "metadata": {},
   "outputs": [
    {
     "data": {
      "text/plain": [
       "array([[0.        , 0.        , 0.        , ..., 0.        , 0.        ,\n",
       "        0.        ],\n",
       "       [0.22070328, 0.        , 0.        , ..., 0.        , 0.        ,\n",
       "        0.        ],\n",
       "       [0.24094625, 0.14549333, 0.        , ..., 0.        , 0.        ,\n",
       "        0.        ],\n",
       "       ...,\n",
       "       [0.14232052, 0.20321054, 0.16155836, ..., 0.        , 0.        ,\n",
       "        0.        ],\n",
       "       [0.18807089, 0.22388068, 0.2580879 , ..., 0.16597064, 0.        ,\n",
       "        0.        ],\n",
       "       [0.19506699, 0.12048977, 0.19172023, ..., 0.2493807 , 0.25849995,\n",
       "        0.        ]])"
      ]
     },
     "execution_count": 15,
     "metadata": {},
     "output_type": "execute_result"
    }
   ],
   "source": [
    "out = array_to_lower_triangle(Chem.TorsionFingerprints.GetTFDMatrix(mol, useWeights=True))\n",
    "out"
   ]
  },
  {
   "cell_type": "code",
   "execution_count": 30,
   "metadata": {},
   "outputs": [
    {
     "data": {
      "text/plain": [
       "True"
      ]
     },
     "execution_count": 30,
     "metadata": {},
     "output_type": "execute_result"
    }
   ],
   "source": [
    "np.any((out>0.000, out<0.01))"
   ]
  },
  {
   "cell_type": "code",
   "execution_count": 64,
   "metadata": {},
   "outputs": [],
   "source": [
    "new = prune_conformers(mol, 0.05)"
   ]
  },
  {
   "cell_type": "code",
   "execution_count": 65,
   "metadata": {},
   "outputs": [
    {
     "data": {
      "text/plain": [
       "200"
      ]
     },
     "execution_count": 65,
     "metadata": {},
     "output_type": "execute_result"
    }
   ],
   "source": [
    "len(new.GetConformers())"
   ]
  },
  {
   "cell_type": "code",
   "execution_count": 22,
   "metadata": {},
   "outputs": [
    {
     "name": "stdout",
     "output_type": "stream",
     "text": [
      "[[0.         0.4499015  0.25569097 ... 0.5425189  0.46507942 0.39047858]\n",
      " [0.4499015  0.         0.35404458 ... 0.40674323 0.41126591 0.49205703]\n",
      " [0.25569097 0.35404458 0.         ... 0.37494808 0.51665232 0.39194451]\n",
      " ...\n",
      " [0.5425189  0.40674323 0.37494808 ... 0.         0.3084418  0.3550111 ]\n",
      " [0.46507942 0.41126591 0.51665232 ... 0.3084418  0.         0.23580212]\n",
      " [0.39047858 0.49205703 0.39194451 ... 0.3550111  0.23580212 0.        ]]\n"
     ]
    },
    {
     "data": {
      "text/plain": [
       "10"
      ]
     },
     "execution_count": 22,
     "metadata": {},
     "output_type": "execute_result"
    }
   ],
   "source": [
    "mol = Chem.MolFromSmiles('CC(CCC)CCCC(CCCC)CC')\n",
    "mol = Chem.AddHs(mol)\n",
    "nonring, ring = Chem.TorsionFingerprints.CalculateTorsionLists(mol)\n",
    "AllChem.EmbedMultipleConfs(mol, numConfs=200, numThreads=-1)\n",
    "Chem.AllChem.MMFFOptimizeMoleculeConfs(mol, numThreads=-1)\n",
    "mol = prune_conformers(mol, 0.05)\n",
    "len(nonring)\n"
   ]
  }
 ],
 "metadata": {
  "kernelspec": {
   "display_name": "Python 3",
   "language": "python",
   "name": "python3"
  },
  "language_info": {
   "codemirror_mode": {
    "name": "ipython",
    "version": 3
   },
   "file_extension": ".py",
   "mimetype": "text/x-python",
   "name": "python",
   "nbconvert_exporter": "python",
   "pygments_lexer": "ipython3",
   "version": "3.6.9"
  }
 },
 "nbformat": 4,
 "nbformat_minor": 2
}

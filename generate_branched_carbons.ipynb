{
 "cells": [
  {
   "cell_type": "code",
   "execution_count": 1,
   "metadata": {},
   "outputs": [
    {
     "name": "stderr",
     "output_type": "stream",
     "text": [
      "/home/tgog/.conda/envs/my-rdkit-env/lib/python3.6/site-packages/sklearn/externals/joblib/__init__.py:15: FutureWarning: sklearn.externals.joblib is deprecated in 0.21 and will be removed in 0.23. Please import this functionality directly from joblib, which can be installed with: pip install joblib. If this warning is raised when loading pickled models, you may need to re-serialize those models with scikit-learn 0.21+.\n",
      "  warnings.warn(msg, category=FutureWarning)\n"
     ]
    },
    {
     "data": {
      "application/vnd.jupyter.widget-view+json": {
       "model_id": "927075196ea149d5b69f31e2a8183866",
       "version_major": 2,
       "version_minor": 0
      },
      "text/plain": [
       "_ColormakerRegistry()"
      ]
     },
     "metadata": {},
     "output_type": "display_data"
    }
   ],
   "source": [
    "import time\n",
    "from rdkit import Chem\n",
    "from rdkit.Chem import AllChem, TorsionFingerprints\n",
    "import json\n",
    "import tqdm\n",
    "import numpy as np\n",
    "\n",
    "from utils import *"
   ]
  },
  {
   "cell_type": "code",
   "execution_count": null,
   "metadata": {},
   "outputs": [],
   "source": [
    "def create_t_alkane(i):\n",
    "    cin = 'C' * i\n",
    "    m = Chem.MolFromSmiles(f'CCCC({cin})CCCC')\n",
    "    m = Chem.rdmolops.AddHs(m)\n",
    "\n",
    "    AllChem.EmbedMultipleConfs(m, numConfs=200, numThreads=-1)\n",
    "    Chem.AllChem.MMFFOptimizeMoleculeConfs(m, numThreads=-1)\n",
    "\n",
    "\n",
    "    confgen = ConformerGeneratorCustom(max_conformers=1, \n",
    "                      force_field='mmff',\n",
    "                     pool_multiplier=1)  \n",
    "\n",
    "    energys = confgen.get_conformer_energies(m)\n",
    "    print(len(TorsionFingerprints.CalculateTorsionLists(m)[0]))\n",
    "    standard = energys.min()\n",
    "    total = np.sum(np.exp(-(energys-standard)))\n",
    "\n",
    "    out = {\n",
    "        'mol': Chem.MolToSmiles(m, isomericSmiles=False),\n",
    "        'standard': standard,\n",
    "        'total': total\n",
    "    }\n",
    "    \n",
    "    return out\n",
    "\n",
    "\n",
    "for i in range(4,14):\n",
    "    out = create_t_alkane(i)\n",
    "    with open(f'transfer_test_t_chain/{i}.json', 'w') as fp:\n",
    "        json.dump(out, fp)\n",
    "        Chem.MolToMolFile(new, f'{i}.mol')\n",
    "\n",
    "        "
   ]
  },
  {
   "cell_type": "code",
   "execution_count": null,
   "metadata": {},
   "outputs": [],
   "source": [
    "i = 10 \n",
    "\n",
    "cin = 'C' * i\n",
    "m = Chem.MolFromSmiles(f'CCCC({cin})CCCC')\n",
    "m = Chem.rdmolops.AddHs(m)\n",
    "\n",
    "AllChem.EmbedMultipleConfs(m, numConfs=200, numThreads=-1)\n",
    "Chem.AllChem.MMFFOptimizeMoleculeConfs(m, numThreads=-1)\n",
    "\n",
    "\n",
    "confgen = ConformerGeneratorCustom(max_conformers=1, \n",
    "                  force_field='mmff',\n",
    "                 pool_multiplier=1)  \n",
    "\n",
    "energys = confgen.get_conformer_energies(m)\n",
    "argsorted = np.argsort(energys)\n",
    "\n",
    "new = Chem.Mol(m)\n",
    "new.RemoveAllConformers()\n",
    "conf = m.GetConformer(int(argsorted[0]))\n",
    "new.AddConformer(conf, assignId=True)\n",
    "\n",
    "\n",
    "print(len(TorsionFingerprints.CalculateTorsionLists(m)[0]))\n",
    "standard = energys.min()\n",
    "total = np.sum(np.exp(-(energys-standard)))\n",
    "\n",
    "out = {\n",
    "    'mol': Chem.MolToSmiles(m, isomericSmiles=False),\n",
    "    'standard': standard,\n",
    "    'total': total\n",
    "}\n",
    "\n",
    "\n",
    "import py3Dmol\n",
    "p = py3Dmol.view(width=800,height=800)\n",
    "print(len(TorsionFingerprints.CalculateTorsionLists(m)[0]))\n",
    "drawit(m, p, confId=int(argsorted[0]))\n"
   ]
  },
  {
   "cell_type": "code",
   "execution_count": null,
   "metadata": {},
   "outputs": [],
   "source": [
    "def create_linear_alkane(i):\n",
    "    m = Chem.MolFromSmiles('C' * i)\n",
    "    m = Chem.rdmolops.AddHs(m)\n",
    "\n",
    "    AllChem.EmbedMultipleConfs(m, numConfs=200, numThreads=-1)\n",
    "    Chem.AllChem.MMFFOptimizeMoleculeConfs(m, numThreads=-1)\n",
    "\n",
    "\n",
    "    confgen = ConformerGeneratorCustom(max_conformers=1, \n",
    "                      force_field='mmff',\n",
    "                     pool_multiplier=1)  \n",
    "\n",
    "    energys = confgen.get_conformer_energies(m)\n",
    "    print(len(TorsionFingerprints.CalculateTorsionLists(m)[0]))\n",
    "    standard = energys.min()\n",
    "    total = np.sum(np.exp(-(energys-standard)))\n",
    "\n",
    "    out = {\n",
    "        'mol': Chem.MolToSmiles(m, isomericSmiles=False),\n",
    "        'standard': standard,\n",
    "        'total': total\n",
    "    }\n",
    "    \n",
    "    return out\n",
    "\n",
    "\n",
    "for i in range(10,15):\n",
    "    out = create_linear_alkane(i)\n",
    "    with open(f'transfer_test_straight_chain/{i}.json', 'w') as fp:\n",
    "        json.dump(out, fp)\n",
    "        "
   ]
  },
  {
   "cell_type": "code",
   "execution_count": null,
   "metadata": {},
   "outputs": [],
   "source": [
    "def create_branched():\n",
    "    m = Chem.MolFromSmiles('CCCC')\n",
    "    e = Chem.RWMol(m)\n",
    "\n",
    "    numatoms = len(e.GetAtoms())\n",
    "    tot = np.random.choice([15,16,17,18,19,20])\n",
    "    while numatoms < tot:\n",
    "        x = Chem.rdchem.Atom(6)\n",
    "        randidx = np.random.randint(len(e.GetAtoms()))\n",
    "        atom = e.GetAtomWithIdx(randidx)\n",
    "        if atom.GetDegree() > 2:\n",
    "            continue\n",
    "        idx = e.AddAtom(x)\n",
    "        e.AddBond(idx, randidx, Chem.rdchem.BondType.SINGLE)\n",
    "        numatoms = len(e.GetAtoms())\n",
    "\n",
    "\n",
    "    Chem.SanitizeMol(e)\n",
    "    m = Chem.rdmolops.AddHs(e.GetMol())\n",
    "    AllChem.EmbedMultipleConfs(m, numConfs=200, numThreads=-1)\n",
    "    Chem.AllChem.MMFFOptimizeMoleculeConfs(m, numThreads=-1)\n",
    "\n",
    "\n",
    "    confgen = ConformerGeneratorCustom(max_conformers=1, \n",
    "                     rmsd_threshold=None, \n",
    "                     force_field='mmff',\n",
    "                     pool_multiplier=1)  \n",
    "\n",
    "    energys = confgen.get_conformer_energies(m)\n",
    "    print(len(TorsionFingerprints.CalculateTorsionLists(m)[0]))\n",
    "    standard = energys.min()\n",
    "    total = np.sum(np.exp(-(energys-standard)))\n",
    "    \n",
    "    out = {\n",
    "        'mol': Chem.MolToSmiles(m, isomericSmiles=False),\n",
    "        'standard': standard,\n",
    "        'total': total\n",
    "    }\n",
    "    return out"
   ]
  },
  {
   "cell_type": "code",
   "execution_count": null,
   "metadata": {},
   "outputs": [],
   "source": [
    "for i in tqdm(range(500)):\n",
    "    out = create_branched()\n",
    "    with open(f'bigger_labeled/{i}.json', 'w') as fp:\n",
    "        json.dump(out, fp)"
   ]
  },
  {
   "cell_type": "code",
   "execution_count": null,
   "metadata": {},
   "outputs": [],
   "source": [
    "create_branched()"
   ]
  },
  {
   "cell_type": "code",
   "execution_count": null,
   "metadata": {},
   "outputs": [],
   "source": [
    "confgen = ConformerGeneratorCustom(max_conformers=1, \n",
    "                 rmsd_threshold=None, \n",
    "                 force_field='mmff',\n",
    "                 pool_multiplier=1)\n",
    "\n",
    "one = 'COc1cc(C2OCC3C(c4ccc([O])c(OC)c4)OCC23)ccc1[O]'\n",
    "two = 'COc1cc(C2Oc3c(OC)cc(C=CCO)cc3C2CO)ccc1[O]'\n",
    "twoprime = 'COc1cc(C2Oc3c(OC)cc(C=CCO)cc3C2CO)ccc1O'\n",
    "three = 'COc1cc(C2Oc3c(OC)cc(C(O)C(CO)Oc4ccc(C=CCO)cc4OC)cc3C2CO)ccc1[O]'\n",
    "threeprime = 'COc1cc(C2Oc3c(OC)cc(C(O)C(CO)Oc4ccc(C=CCO)cc4OC)cc3C2CO)ccc1O'\n",
    "# four = 'COc1cc(C(O)C(CO)Oc2ccc(C(O)C(CO)Oc3ccc(C(O)C(CO)Oc4ccc(C=CCO)cc4OC)cc3OC)cc2OC)ccc1[O]'\n",
    "# ten = 'COc1cc(C2Oc3c(OC)cc(C4Oc5c(OC)cc(C(O)C(CO)Oc6ccc(C7OCC8C(c9cc(OC)c%10c(c9)C(CO)C(c9cc(OC)c%11c(c9)C(CO)C(c9ccc(O)c(OC)c9)O%11)O%10)OCC78)cc6OC)cc5C4CO)cc3C2CO)ccc1[O].COc1cc(C2Oc3c(OC)cc(C4Oc5c(OC)cc(C=CCO)cc5C4CO)cc3C2CO)ccc1O'\n",
    "# nine = 'COc1cc(C(O)C(CO)Oc2ccc(C3OCC4C(c5cc(OC)c6c(c5)C(CO)C(c5ccc(OC(CO)C(O)c7cc(OC)c8c(c7)C(CO)C(c7ccc([O])c(OC)c7)O8)c(OC)c5)O6)OCC34)cc2OC)ccc1[O].COc1cc(C2Oc3c(OC)cc(C4Oc5c(OC)cc(C=CCO)cc5C4CO)cc3C2CO)ccc1O'\n",
    "eight = 'COc1cc(C(O)C(CO)Oc2c(OC)cc(C(O)C(CO)Oc3ccc(C4Oc5c(OC)cc(C6Oc7c(OC)cc(C8Oc9c(OC)cc(C=CCO)cc9C8CO)cc7C6CO)cc5C4CO)cc3OC)cc2-c2cc(C3OCC4C(c5ccc(O)c(OC)c5)OCC34)cc(OC)c2[O])ccc1[O]'\n",
    "eightprime = 'COc1cc(C(O)C(CO)Oc2c(OC)cc(C(O)C(CO)Oc3ccc(C4Oc5c(OC)cc(C6Oc7c(OC)cc(C8Oc9c(OC)cc(C=CCO)cc9C8CO)cc7C6CO)cc5C4CO)cc3OC)cc2-c2cc(C3OCC4C(c5ccc(O)c(OC)c5)OCC34)cc(OC)c2O)ccc1O'\n",
    "\n",
    "x = Chem.MolFromSmiles(eightprime)\n",
    "x = Chem.AddHs(x)\n",
    "res = AllChem.EmbedMultipleConfs(x, numConfs=10, numThreads=-1)\n",
    "Chem.AllChem.MMFFOptimizeMoleculeConfs(x, numThreads=-1)\n",
    "confgen.get_conformer_energies(x).min()"
   ]
  },
  {
   "cell_type": "code",
   "execution_count": null,
   "metadata": {},
   "outputs": [],
   "source": [
    "import py3Dmol\n",
    "p = py3Dmol.view(width=800,height=800)\n",
    "print(len(TorsionFingerprints.CalculateTorsionLists(x)[0]))\n",
    "drawit(x, p, confId=0)"
   ]
  },
  {
   "cell_type": "code",
   "execution_count": null,
   "metadata": {},
   "outputs": [],
   "source": [
    "nonring, ring = Chem.TorsionFingerprints.CalculateTorsionLists(mol)\n",
    "all_tors = [Chem.TorsionFingerprints.CalculateTorsionAngles(mol, nonring, ring, confId=i) for i in range(200)]"
   ]
  },
  {
   "cell_type": "code",
   "execution_count": 9,
   "metadata": {},
   "outputs": [
    {
     "name": "stdout",
     "output_type": "stream",
     "text": [
      "{'mol': '[H]C([H])([H])C([H])([H])C([H])([H])C([H])([H])C([H])([H])C([H])([H])C([H])([H])C([H])([H])C([H])([H])C([H])(C([H])([H])C([H])([H])[H])C([H])([H])C([H])([H])[H]', 'standard': 1.8118855552367064, 'total': 20.795779524447195}\n"
     ]
    },
    {
     "data": {
      "application/3dmoljs_load.v0": "<div id=\"3dmolviewer_15887567453633654\"  style=\"position: relative; width: 800px; height: 800px\">\n        <p id=\"3dmolwarning_15887567453633654\" style=\"background-color:#ffcccc;color:black\">You appear to be running in JupyterLab (or JavaScript failed to load for some other reason).  You need to install the 3dmol extension: <br>\n        <tt>jupyter labextension install jupyterlab_3dmol</tt></p>\n        </div>\n<script>\n\nvar loadScriptAsync = function(uri){\n  return new Promise((resolve, reject) => {\n    var tag = document.createElement('script');\n    tag.src = uri;\n    tag.async = true;\n    tag.onload = () => {\n      resolve();\n    };\n  var firstScriptTag = document.getElementsByTagName('script')[0];\n  firstScriptTag.parentNode.insertBefore(tag, firstScriptTag);\n});\n};\n\nif(typeof $3Dmolpromise === 'undefined') {\n$3Dmolpromise = null;\n  $3Dmolpromise = loadScriptAsync('https://3dmol.csb.pitt.edu/build/3Dmol.js');\n}\n\nvar viewer_15887567453633654 = null;\nvar warn = document.getElementById(\"3dmolwarning_15887567453633654\");\nif(warn) {\n    warn.parentNode.removeChild(warn);\n}\n$3Dmolpromise.then(function() {\nviewer_15887567453633654 = $3Dmol.createViewer($(\"#3dmolviewer_15887567453633654\"),{backgroundColor:\"white\"});\n\tviewer_15887567453633654.removeAllModels();\n\tviewer_15887567453633654.addModel(\"\\n     RDKit          3D\\n\\n 44 43  0  0  0  0  0  0  0  0999 V2000\\n    5.8839    1.5177   -1.4729 C   0  0  0  0  0  0  0  0  0  0  0  0\\n    5.0571    0.2631   -1.2410 C   0  0  0  0  0  0  0  0  0  0  0  0\\n    3.8580    0.5422   -0.3352 C   0  0  0  0  0  0  0  0  0  0  0  0\\n    3.0287   -0.7222   -0.1046 C   0  0  0  0  0  0  0  0  0  0  0  0\\n    1.8281   -0.4426    0.8022 C   0  0  0  0  0  0  0  0  0  0  0  0\\n    0.9970   -1.7075    1.0263 C   0  0  0  0  0  0  0  0  0  0  0  0\\n   -0.1553   -1.5128    2.0168 C   0  0  0  0  0  0  0  0  0  0  0  0\\n   -1.1936   -0.4530    1.6299 C   0  0  0  0  0  0  0  0  0  0  0  0\\n   -1.8706   -0.7327    0.2826 C   0  0  0  0  0  0  0  0  0  0  0  0\\n   -3.1098    0.1525   -0.0012 C   0  0  0  0  0  0  0  0  0  0  0  0\\n   -3.7623   -0.2220   -1.3532 C   0  0  0  0  0  0  0  0  0  0  0  0\\n   -4.1941   -1.6789   -1.4624 C   0  0  0  0  0  0  0  0  0  0  0  0\\n   -2.7430    1.6548    0.0416 C   0  0  0  0  0  0  0  0  0  0  0  0\\n   -3.9165    2.5970   -0.1947 C   0  0  0  0  0  0  0  0  0  0  0  0\\n    5.2855    2.2989   -1.9525 H   0  0  0  0  0  0  0  0  0  0  0  0\\n    6.7359    1.2954   -2.1230 H   0  0  0  0  0  0  0  0  0  0  0  0\\n    6.2713    1.9125   -0.5283 H   0  0  0  0  0  0  0  0  0  0  0  0\\n    5.6927   -0.5081   -0.7905 H   0  0  0  0  0  0  0  0  0  0  0  0\\n    4.7122   -0.1239   -2.2069 H   0  0  0  0  0  0  0  0  0  0  0  0\\n    4.2081    0.9328    0.6281 H   0  0  0  0  0  0  0  0  0  0  0  0\\n    3.2280    1.3174   -0.7883 H   0  0  0  0  0  0  0  0  0  0  0  0\\n    2.6780   -1.1124   -1.0678 H   0  0  0  0  0  0  0  0  0  0  0  0\\n    3.6592   -1.4970    0.3484 H   0  0  0  0  0  0  0  0  0  0  0  0\\n    1.2094    0.3375    0.3447 H   0  0  0  0  0  0  0  0  0  0  0  0\\n    2.1785   -0.0571    1.7672 H   0  0  0  0  0  0  0  0  0  0  0  0\\n    1.6484   -2.4995    1.4170 H   0  0  0  0  0  0  0  0  0  0  0  0\\n    0.6107   -2.0734    0.0680 H   0  0  0  0  0  0  0  0  0  0  0  0\\n    0.2598   -1.2489    2.9975 H   0  0  0  0  0  0  0  0  0  0  0  0\\n   -0.6643   -2.4758    2.1485 H   0  0  0  0  0  0  0  0  0  0  0  0\\n   -1.9571   -0.4230    2.4171 H   0  0  0  0  0  0  0  0  0  0  0  0\\n   -0.7148    0.5314    1.6203 H   0  0  0  0  0  0  0  0  0  0  0  0\\n   -2.1715   -1.7862    0.2768 H   0  0  0  0  0  0  0  0  0  0  0  0\\n   -1.1447   -0.6027   -0.5291 H   0  0  0  0  0  0  0  0  0  0  0  0\\n   -3.8469   -0.0368    0.7910 H   0  0  0  0  0  0  0  0  0  0  0  0\\n   -4.6598    0.3872   -1.5064 H   0  0  0  0  0  0  0  0  0  0  0  0\\n   -3.0760    0.0105   -2.1764 H   0  0  0  0  0  0  0  0  0  0  0  0\\n   -3.3340   -2.3517   -1.5247 H   0  0  0  0  0  0  0  0  0  0  0  0\\n   -4.8099   -1.9729   -0.6068 H   0  0  0  0  0  0  0  0  0  0  0  0\\n   -4.7862   -1.8254   -2.3719 H   0  0  0  0  0  0  0  0  0  0  0  0\\n   -1.9582    1.8689   -0.6940 H   0  0  0  0  0  0  0  0  0  0  0  0\\n   -2.3314    1.9024    1.0261 H   0  0  0  0  0  0  0  0  0  0  0  0\\n   -4.7553    2.3554    0.4654 H   0  0  0  0  0  0  0  0  0  0  0  0\\n   -4.2624    2.5592   -1.2316 H   0  0  0  0  0  0  0  0  0  0  0  0\\n   -3.6128    3.6294    0.0079 H   0  0  0  0  0  0  0  0  0  0  0  0\\n  1  2  1  0\\n  2  3  1  0\\n  3  4  1  0\\n  4  5  1  0\\n  5  6  1  0\\n  6  7  1  0\\n  7  8  1  0\\n  8  9  1  0\\n  9 10  1  0\\n 10 11  1  0\\n 11 12  1  0\\n 10 13  1  0\\n 13 14  1  0\\n  1 15  1  0\\n  1 16  1  0\\n  1 17  1  0\\n  2 18  1  0\\n  2 19  1  0\\n  3 20  1  0\\n  3 21  1  0\\n  4 22  1  0\\n  4 23  1  0\\n  5 24  1  0\\n  5 25  1  0\\n  6 26  1  0\\n  6 27  1  0\\n  7 28  1  0\\n  7 29  1  0\\n  8 30  1  0\\n  8 31  1  0\\n  9 32  1  0\\n  9 33  1  0\\n 10 34  1  0\\n 11 35  1  0\\n 11 36  1  0\\n 12 37  1  0\\n 12 38  1  0\\n 12 39  1  0\\n 13 40  1  0\\n 13 41  1  0\\n 14 42  1  0\\n 14 43  1  0\\n 14 44  1  0\\nM  END\\n\",\"sdf\");\n\tviewer_15887567453633654.setStyle({\"stick\": {}});\n\tviewer_15887567453633654.setBackgroundColor(\"0xeeeeee\");\n\tviewer_15887567453633654.zoomTo();\nviewer_15887567453633654.render();\n});\n</script>",
      "text/html": [
       "<div id=\"3dmolviewer_15887567453633654\"  style=\"position: relative; width: 800px; height: 800px\">\n",
       "        <p id=\"3dmolwarning_15887567453633654\" style=\"background-color:#ffcccc;color:black\">You appear to be running in JupyterLab (or JavaScript failed to load for some other reason).  You need to install the 3dmol extension: <br>\n",
       "        <tt>jupyter labextension install jupyterlab_3dmol</tt></p>\n",
       "        </div>\n",
       "<script>\n",
       "\n",
       "var loadScriptAsync = function(uri){\n",
       "  return new Promise((resolve, reject) => {\n",
       "    var tag = document.createElement('script');\n",
       "    tag.src = uri;\n",
       "    tag.async = true;\n",
       "    tag.onload = () => {\n",
       "      resolve();\n",
       "    };\n",
       "  var firstScriptTag = document.getElementsByTagName('script')[0];\n",
       "  firstScriptTag.parentNode.insertBefore(tag, firstScriptTag);\n",
       "});\n",
       "};\n",
       "\n",
       "if(typeof $3Dmolpromise === 'undefined') {\n",
       "$3Dmolpromise = null;\n",
       "  $3Dmolpromise = loadScriptAsync('https://3dmol.csb.pitt.edu/build/3Dmol.js');\n",
       "}\n",
       "\n",
       "var viewer_15887567453633654 = null;\n",
       "var warn = document.getElementById(\"3dmolwarning_15887567453633654\");\n",
       "if(warn) {\n",
       "    warn.parentNode.removeChild(warn);\n",
       "}\n",
       "$3Dmolpromise.then(function() {\n",
       "viewer_15887567453633654 = $3Dmol.createViewer($(\"#3dmolviewer_15887567453633654\"),{backgroundColor:\"white\"});\n",
       "\tviewer_15887567453633654.removeAllModels();\n",
       "\tviewer_15887567453633654.addModel(\"\\n     RDKit          3D\\n\\n 44 43  0  0  0  0  0  0  0  0999 V2000\\n    5.8839    1.5177   -1.4729 C   0  0  0  0  0  0  0  0  0  0  0  0\\n    5.0571    0.2631   -1.2410 C   0  0  0  0  0  0  0  0  0  0  0  0\\n    3.8580    0.5422   -0.3352 C   0  0  0  0  0  0  0  0  0  0  0  0\\n    3.0287   -0.7222   -0.1046 C   0  0  0  0  0  0  0  0  0  0  0  0\\n    1.8281   -0.4426    0.8022 C   0  0  0  0  0  0  0  0  0  0  0  0\\n    0.9970   -1.7075    1.0263 C   0  0  0  0  0  0  0  0  0  0  0  0\\n   -0.1553   -1.5128    2.0168 C   0  0  0  0  0  0  0  0  0  0  0  0\\n   -1.1936   -0.4530    1.6299 C   0  0  0  0  0  0  0  0  0  0  0  0\\n   -1.8706   -0.7327    0.2826 C   0  0  0  0  0  0  0  0  0  0  0  0\\n   -3.1098    0.1525   -0.0012 C   0  0  0  0  0  0  0  0  0  0  0  0\\n   -3.7623   -0.2220   -1.3532 C   0  0  0  0  0  0  0  0  0  0  0  0\\n   -4.1941   -1.6789   -1.4624 C   0  0  0  0  0  0  0  0  0  0  0  0\\n   -2.7430    1.6548    0.0416 C   0  0  0  0  0  0  0  0  0  0  0  0\\n   -3.9165    2.5970   -0.1947 C   0  0  0  0  0  0  0  0  0  0  0  0\\n    5.2855    2.2989   -1.9525 H   0  0  0  0  0  0  0  0  0  0  0  0\\n    6.7359    1.2954   -2.1230 H   0  0  0  0  0  0  0  0  0  0  0  0\\n    6.2713    1.9125   -0.5283 H   0  0  0  0  0  0  0  0  0  0  0  0\\n    5.6927   -0.5081   -0.7905 H   0  0  0  0  0  0  0  0  0  0  0  0\\n    4.7122   -0.1239   -2.2069 H   0  0  0  0  0  0  0  0  0  0  0  0\\n    4.2081    0.9328    0.6281 H   0  0  0  0  0  0  0  0  0  0  0  0\\n    3.2280    1.3174   -0.7883 H   0  0  0  0  0  0  0  0  0  0  0  0\\n    2.6780   -1.1124   -1.0678 H   0  0  0  0  0  0  0  0  0  0  0  0\\n    3.6592   -1.4970    0.3484 H   0  0  0  0  0  0  0  0  0  0  0  0\\n    1.2094    0.3375    0.3447 H   0  0  0  0  0  0  0  0  0  0  0  0\\n    2.1785   -0.0571    1.7672 H   0  0  0  0  0  0  0  0  0  0  0  0\\n    1.6484   -2.4995    1.4170 H   0  0  0  0  0  0  0  0  0  0  0  0\\n    0.6107   -2.0734    0.0680 H   0  0  0  0  0  0  0  0  0  0  0  0\\n    0.2598   -1.2489    2.9975 H   0  0  0  0  0  0  0  0  0  0  0  0\\n   -0.6643   -2.4758    2.1485 H   0  0  0  0  0  0  0  0  0  0  0  0\\n   -1.9571   -0.4230    2.4171 H   0  0  0  0  0  0  0  0  0  0  0  0\\n   -0.7148    0.5314    1.6203 H   0  0  0  0  0  0  0  0  0  0  0  0\\n   -2.1715   -1.7862    0.2768 H   0  0  0  0  0  0  0  0  0  0  0  0\\n   -1.1447   -0.6027   -0.5291 H   0  0  0  0  0  0  0  0  0  0  0  0\\n   -3.8469   -0.0368    0.7910 H   0  0  0  0  0  0  0  0  0  0  0  0\\n   -4.6598    0.3872   -1.5064 H   0  0  0  0  0  0  0  0  0  0  0  0\\n   -3.0760    0.0105   -2.1764 H   0  0  0  0  0  0  0  0  0  0  0  0\\n   -3.3340   -2.3517   -1.5247 H   0  0  0  0  0  0  0  0  0  0  0  0\\n   -4.8099   -1.9729   -0.6068 H   0  0  0  0  0  0  0  0  0  0  0  0\\n   -4.7862   -1.8254   -2.3719 H   0  0  0  0  0  0  0  0  0  0  0  0\\n   -1.9582    1.8689   -0.6940 H   0  0  0  0  0  0  0  0  0  0  0  0\\n   -2.3314    1.9024    1.0261 H   0  0  0  0  0  0  0  0  0  0  0  0\\n   -4.7553    2.3554    0.4654 H   0  0  0  0  0  0  0  0  0  0  0  0\\n   -4.2624    2.5592   -1.2316 H   0  0  0  0  0  0  0  0  0  0  0  0\\n   -3.6128    3.6294    0.0079 H   0  0  0  0  0  0  0  0  0  0  0  0\\n  1  2  1  0\\n  2  3  1  0\\n  3  4  1  0\\n  4  5  1  0\\n  5  6  1  0\\n  6  7  1  0\\n  7  8  1  0\\n  8  9  1  0\\n  9 10  1  0\\n 10 11  1  0\\n 11 12  1  0\\n 10 13  1  0\\n 13 14  1  0\\n  1 15  1  0\\n  1 16  1  0\\n  1 17  1  0\\n  2 18  1  0\\n  2 19  1  0\\n  3 20  1  0\\n  3 21  1  0\\n  4 22  1  0\\n  4 23  1  0\\n  5 24  1  0\\n  5 25  1  0\\n  6 26  1  0\\n  6 27  1  0\\n  7 28  1  0\\n  7 29  1  0\\n  8 30  1  0\\n  8 31  1  0\\n  9 32  1  0\\n  9 33  1  0\\n 10 34  1  0\\n 11 35  1  0\\n 11 36  1  0\\n 12 37  1  0\\n 12 38  1  0\\n 12 39  1  0\\n 13 40  1  0\\n 13 41  1  0\\n 14 42  1  0\\n 14 43  1  0\\n 14 44  1  0\\nM  END\\n\",\"sdf\");\n",
       "\tviewer_15887567453633654.setStyle({\"stick\": {}});\n",
       "\tviewer_15887567453633654.setBackgroundColor(\"0xeeeeee\");\n",
       "\tviewer_15887567453633654.zoomTo();\n",
       "viewer_15887567453633654.render();\n",
       "});\n",
       "</script>"
      ]
     },
     "metadata": {},
     "output_type": "display_data"
    }
   ],
   "source": [
    "# mol = Chem.MolFromSmiles('CC(CCC)CCCC(CCCC)CC')\n",
    "# standard = 7.678142433712216\n",
    "import json\n",
    "\n",
    "with open('huge_hc_set/10_6461.json') as fp:\n",
    "    o = json.load(fp)\n",
    "print(o)\n",
    "mol = Chem.MolFromSmiles(o['mol'])\n",
    "standard = o['standard']\n",
    "mol = Chem.AddHs(mol)\n",
    "res = AllChem.EmbedMultipleConfs(mol, numConfs=200, numThreads=-1)\n",
    "res = AllChem.MMFFOptimizeMoleculeConfs(mol, numThreads=-1)\n",
    "import py3Dmol\n",
    "p = py3Dmol.view(width=800,height=800)\n",
    "drawit(mol, p, confId=0)"
   ]
  },
  {
   "cell_type": "code",
   "execution_count": 4,
   "metadata": {},
   "outputs": [
    {
     "name": "stdout",
     "output_type": "stream",
     "text": [
      "{'standard': 7.668625034772399, 'total': 13.263723987526067, 'mol': 'CC(CCC)CCCC(CCCC)CC'}\n"
     ]
    },
    {
     "data": {
      "application/3dmoljs_load.v0": "<div id=\"3dmolviewer_15887558567486904\"  style=\"position: relative; width: 800px; height: 800px\">\n        <p id=\"3dmolwarning_15887558567486904\" style=\"background-color:#ffcccc;color:black\">You appear to be running in JupyterLab (or JavaScript failed to load for some other reason).  You need to install the 3dmol extension: <br>\n        <tt>jupyter labextension install jupyterlab_3dmol</tt></p>\n        </div>\n<script>\n\nvar loadScriptAsync = function(uri){\n  return new Promise((resolve, reject) => {\n    var tag = document.createElement('script');\n    tag.src = uri;\n    tag.async = true;\n    tag.onload = () => {\n      resolve();\n    };\n  var firstScriptTag = document.getElementsByTagName('script')[0];\n  firstScriptTag.parentNode.insertBefore(tag, firstScriptTag);\n});\n};\n\nif(typeof $3Dmolpromise === 'undefined') {\n$3Dmolpromise = null;\n  $3Dmolpromise = loadScriptAsync('https://3dmol.csb.pitt.edu/build/3Dmol.js');\n}\n\nvar viewer_15887558567486904 = null;\nvar warn = document.getElementById(\"3dmolwarning_15887558567486904\");\nif(warn) {\n    warn.parentNode.removeChild(warn);\n}\n$3Dmolpromise.then(function() {\nviewer_15887558567486904 = $3Dmol.createViewer($(\"#3dmolviewer_15887558567486904\"),{backgroundColor:\"white\"});\n\tviewer_15887558567486904.removeAllModels();\n\tviewer_15887558567486904.addModel(\"\\n     RDKit          3D\\n\\n 47 46  0  0  0  0  0  0  0  0999 V2000\\n    3.4432    2.1598   -0.1441 C   0  0  0  0  0  0  0  0  0  0  0  0\\n    2.7792    0.9249    0.4762 C   0  0  0  0  0  0  0  0  0  0  0  0\\n    3.1787   -0.3723   -0.2583 C   0  0  0  0  0  0  0  0  0  0  0  0\\n    4.6867   -0.6399   -0.2627 C   0  0  0  0  0  0  0  0  0  0  0  0\\n    5.0065   -1.9996   -0.8663 C   0  0  0  0  0  0  0  0  0  0  0  0\\n    1.2463    1.1304    0.4803 C   0  0  0  0  0  0  0  0  0  0  0  0\\n    0.4824    0.0308    1.2202 C   0  0  0  0  0  0  0  0  0  0  0  0\\n   -0.9611    0.3902    1.6014 C   0  0  0  0  0  0  0  0  0  0  0  0\\n   -2.0032    0.6012    0.4757 C   0  0  0  0  0  0  0  0  0  0  0  0\\n   -2.0195   -0.5274   -0.5774 C   0  0  0  0  0  0  0  0  0  0  0  0\\n   -2.2803   -1.9387   -0.0322 C   0  0  0  0  0  0  0  0  0  0  0  0\\n   -3.5996   -2.1254    0.7219 C   0  0  0  0  0  0  0  0  0  0  0  0\\n   -4.8295   -1.8022   -0.1120 C   0  0  0  0  0  0  0  0  0  0  0  0\\n   -1.8647    1.9903   -0.1866 C   0  0  0  0  0  0  0  0  0  0  0  0\\n   -3.1348    2.4436   -0.8987 C   0  0  0  0  0  0  0  0  0  0  0  0\\n    4.5310    2.1282   -0.0305 H   0  0  0  0  0  0  0  0  0  0  0  0\\n    3.0983    3.0762    0.3472 H   0  0  0  0  0  0  0  0  0  0  0  0\\n    3.2110    2.2405   -1.2113 H   0  0  0  0  0  0  0  0  0  0  0  0\\n    3.1177    0.8532    1.5181 H   0  0  0  0  0  0  0  0  0  0  0  0\\n    2.6857   -1.2255    0.2216 H   0  0  0  0  0  0  0  0  0  0  0  0\\n    2.8136   -0.3383   -1.2927 H   0  0  0  0  0  0  0  0  0  0  0  0\\n    5.2093    0.1274   -0.8433 H   0  0  0  0  0  0  0  0  0  0  0  0\\n    5.0755   -0.6011    0.7612 H   0  0  0  0  0  0  0  0  0  0  0  0\\n    4.6514   -2.0629   -1.8999 H   0  0  0  0  0  0  0  0  0  0  0  0\\n    4.5380   -2.8048   -0.2914 H   0  0  0  0  0  0  0  0  0  0  0  0\\n    6.0879   -2.1686   -0.8672 H   0  0  0  0  0  0  0  0  0  0  0  0\\n    1.0215    2.0960    0.9501 H   0  0  0  0  0  0  0  0  0  0  0  0\\n    0.8994    1.1831   -0.5568 H   0  0  0  0  0  0  0  0  0  0  0  0\\n    0.4932   -0.8923    0.6327 H   0  0  0  0  0  0  0  0  0  0  0  0\\n    1.0143   -0.1964    2.1532 H   0  0  0  0  0  0  0  0  0  0  0  0\\n   -1.3295   -0.4207    2.2441 H   0  0  0  0  0  0  0  0  0  0  0  0\\n   -0.9460    1.2776    2.2476 H   0  0  0  0  0  0  0  0  0  0  0  0\\n   -2.9798    0.6053    0.9783 H   0  0  0  0  0  0  0  0  0  0  0  0\\n   -1.0641   -0.5371   -1.1165 H   0  0  0  0  0  0  0  0  0  0  0  0\\n   -2.7773   -0.3122   -1.3385 H   0  0  0  0  0  0  0  0  0  0  0  0\\n   -2.2587   -2.6383   -0.8777 H   0  0  0  0  0  0  0  0  0  0  0  0\\n   -1.4584   -2.2413    0.6260 H   0  0  0  0  0  0  0  0  0  0  0  0\\n   -3.6077   -1.5207    1.6350 H   0  0  0  0  0  0  0  0  0  0  0  0\\n   -3.6643   -3.1714    1.0456 H   0  0  0  0  0  0  0  0  0  0  0  0\\n   -5.7375   -2.0537    0.4454 H   0  0  0  0  0  0  0  0  0  0  0  0\\n   -4.8345   -2.3760   -1.0440 H   0  0  0  0  0  0  0  0  0  0  0  0\\n   -4.8781   -0.7377   -0.3594 H   0  0  0  0  0  0  0  0  0  0  0  0\\n   -1.6250    2.7405    0.5764 H   0  0  0  0  0  0  0  0  0  0  0  0\\n   -1.0478    1.9967   -0.9134 H   0  0  0  0  0  0  0  0  0  0  0  0\\n   -3.9893    2.4479   -0.2146 H   0  0  0  0  0  0  0  0  0  0  0  0\\n   -3.0052    3.4612   -1.2816 H   0  0  0  0  0  0  0  0  0  0  0  0\\n   -3.3751    1.7995   -1.7489 H   0  0  0  0  0  0  0  0  0  0  0  0\\n  1  2  1  0\\n  2  3  1  0\\n  3  4  1  0\\n  4  5  1  0\\n  2  6  1  0\\n  6  7  1  0\\n  7  8  1  0\\n  8  9  1  0\\n  9 10  1  0\\n 10 11  1  0\\n 11 12  1  0\\n 12 13  1  0\\n  9 14  1  0\\n 14 15  1  0\\n  1 16  1  0\\n  1 17  1  0\\n  1 18  1  0\\n  2 19  1  0\\n  3 20  1  0\\n  3 21  1  0\\n  4 22  1  0\\n  4 23  1  0\\n  5 24  1  0\\n  5 25  1  0\\n  5 26  1  0\\n  6 27  1  0\\n  6 28  1  0\\n  7 29  1  0\\n  7 30  1  0\\n  8 31  1  0\\n  8 32  1  0\\n  9 33  1  0\\n 10 34  1  0\\n 10 35  1  0\\n 11 36  1  0\\n 11 37  1  0\\n 12 38  1  0\\n 12 39  1  0\\n 13 40  1  0\\n 13 41  1  0\\n 13 42  1  0\\n 14 43  1  0\\n 14 44  1  0\\n 15 45  1  0\\n 15 46  1  0\\n 15 47  1  0\\nM  END\\n\",\"sdf\");\n\tviewer_15887558567486904.setStyle({\"stick\": {}});\n\tviewer_15887558567486904.setBackgroundColor(\"0xeeeeee\");\n\tviewer_15887558567486904.zoomTo();\nviewer_15887558567486904.render();\n});\n</script>",
      "text/html": [
       "<div id=\"3dmolviewer_15887558567486904\"  style=\"position: relative; width: 800px; height: 800px\">\n",
       "        <p id=\"3dmolwarning_15887558567486904\" style=\"background-color:#ffcccc;color:black\">You appear to be running in JupyterLab (or JavaScript failed to load for some other reason).  You need to install the 3dmol extension: <br>\n",
       "        <tt>jupyter labextension install jupyterlab_3dmol</tt></p>\n",
       "        </div>\n",
       "<script>\n",
       "\n",
       "var loadScriptAsync = function(uri){\n",
       "  return new Promise((resolve, reject) => {\n",
       "    var tag = document.createElement('script');\n",
       "    tag.src = uri;\n",
       "    tag.async = true;\n",
       "    tag.onload = () => {\n",
       "      resolve();\n",
       "    };\n",
       "  var firstScriptTag = document.getElementsByTagName('script')[0];\n",
       "  firstScriptTag.parentNode.insertBefore(tag, firstScriptTag);\n",
       "});\n",
       "};\n",
       "\n",
       "if(typeof $3Dmolpromise === 'undefined') {\n",
       "$3Dmolpromise = null;\n",
       "  $3Dmolpromise = loadScriptAsync('https://3dmol.csb.pitt.edu/build/3Dmol.js');\n",
       "}\n",
       "\n",
       "var viewer_15887558567486904 = null;\n",
       "var warn = document.getElementById(\"3dmolwarning_15887558567486904\");\n",
       "if(warn) {\n",
       "    warn.parentNode.removeChild(warn);\n",
       "}\n",
       "$3Dmolpromise.then(function() {\n",
       "viewer_15887558567486904 = $3Dmol.createViewer($(\"#3dmolviewer_15887558567486904\"),{backgroundColor:\"white\"});\n",
       "\tviewer_15887558567486904.removeAllModels();\n",
       "\tviewer_15887558567486904.addModel(\"\\n     RDKit          3D\\n\\n 47 46  0  0  0  0  0  0  0  0999 V2000\\n    3.4432    2.1598   -0.1441 C   0  0  0  0  0  0  0  0  0  0  0  0\\n    2.7792    0.9249    0.4762 C   0  0  0  0  0  0  0  0  0  0  0  0\\n    3.1787   -0.3723   -0.2583 C   0  0  0  0  0  0  0  0  0  0  0  0\\n    4.6867   -0.6399   -0.2627 C   0  0  0  0  0  0  0  0  0  0  0  0\\n    5.0065   -1.9996   -0.8663 C   0  0  0  0  0  0  0  0  0  0  0  0\\n    1.2463    1.1304    0.4803 C   0  0  0  0  0  0  0  0  0  0  0  0\\n    0.4824    0.0308    1.2202 C   0  0  0  0  0  0  0  0  0  0  0  0\\n   -0.9611    0.3902    1.6014 C   0  0  0  0  0  0  0  0  0  0  0  0\\n   -2.0032    0.6012    0.4757 C   0  0  0  0  0  0  0  0  0  0  0  0\\n   -2.0195   -0.5274   -0.5774 C   0  0  0  0  0  0  0  0  0  0  0  0\\n   -2.2803   -1.9387   -0.0322 C   0  0  0  0  0  0  0  0  0  0  0  0\\n   -3.5996   -2.1254    0.7219 C   0  0  0  0  0  0  0  0  0  0  0  0\\n   -4.8295   -1.8022   -0.1120 C   0  0  0  0  0  0  0  0  0  0  0  0\\n   -1.8647    1.9903   -0.1866 C   0  0  0  0  0  0  0  0  0  0  0  0\\n   -3.1348    2.4436   -0.8987 C   0  0  0  0  0  0  0  0  0  0  0  0\\n    4.5310    2.1282   -0.0305 H   0  0  0  0  0  0  0  0  0  0  0  0\\n    3.0983    3.0762    0.3472 H   0  0  0  0  0  0  0  0  0  0  0  0\\n    3.2110    2.2405   -1.2113 H   0  0  0  0  0  0  0  0  0  0  0  0\\n    3.1177    0.8532    1.5181 H   0  0  0  0  0  0  0  0  0  0  0  0\\n    2.6857   -1.2255    0.2216 H   0  0  0  0  0  0  0  0  0  0  0  0\\n    2.8136   -0.3383   -1.2927 H   0  0  0  0  0  0  0  0  0  0  0  0\\n    5.2093    0.1274   -0.8433 H   0  0  0  0  0  0  0  0  0  0  0  0\\n    5.0755   -0.6011    0.7612 H   0  0  0  0  0  0  0  0  0  0  0  0\\n    4.6514   -2.0629   -1.8999 H   0  0  0  0  0  0  0  0  0  0  0  0\\n    4.5380   -2.8048   -0.2914 H   0  0  0  0  0  0  0  0  0  0  0  0\\n    6.0879   -2.1686   -0.8672 H   0  0  0  0  0  0  0  0  0  0  0  0\\n    1.0215    2.0960    0.9501 H   0  0  0  0  0  0  0  0  0  0  0  0\\n    0.8994    1.1831   -0.5568 H   0  0  0  0  0  0  0  0  0  0  0  0\\n    0.4932   -0.8923    0.6327 H   0  0  0  0  0  0  0  0  0  0  0  0\\n    1.0143   -0.1964    2.1532 H   0  0  0  0  0  0  0  0  0  0  0  0\\n   -1.3295   -0.4207    2.2441 H   0  0  0  0  0  0  0  0  0  0  0  0\\n   -0.9460    1.2776    2.2476 H   0  0  0  0  0  0  0  0  0  0  0  0\\n   -2.9798    0.6053    0.9783 H   0  0  0  0  0  0  0  0  0  0  0  0\\n   -1.0641   -0.5371   -1.1165 H   0  0  0  0  0  0  0  0  0  0  0  0\\n   -2.7773   -0.3122   -1.3385 H   0  0  0  0  0  0  0  0  0  0  0  0\\n   -2.2587   -2.6383   -0.8777 H   0  0  0  0  0  0  0  0  0  0  0  0\\n   -1.4584   -2.2413    0.6260 H   0  0  0  0  0  0  0  0  0  0  0  0\\n   -3.6077   -1.5207    1.6350 H   0  0  0  0  0  0  0  0  0  0  0  0\\n   -3.6643   -3.1714    1.0456 H   0  0  0  0  0  0  0  0  0  0  0  0\\n   -5.7375   -2.0537    0.4454 H   0  0  0  0  0  0  0  0  0  0  0  0\\n   -4.8345   -2.3760   -1.0440 H   0  0  0  0  0  0  0  0  0  0  0  0\\n   -4.8781   -0.7377   -0.3594 H   0  0  0  0  0  0  0  0  0  0  0  0\\n   -1.6250    2.7405    0.5764 H   0  0  0  0  0  0  0  0  0  0  0  0\\n   -1.0478    1.9967   -0.9134 H   0  0  0  0  0  0  0  0  0  0  0  0\\n   -3.9893    2.4479   -0.2146 H   0  0  0  0  0  0  0  0  0  0  0  0\\n   -3.0052    3.4612   -1.2816 H   0  0  0  0  0  0  0  0  0  0  0  0\\n   -3.3751    1.7995   -1.7489 H   0  0  0  0  0  0  0  0  0  0  0  0\\n  1  2  1  0\\n  2  3  1  0\\n  3  4  1  0\\n  4  5  1  0\\n  2  6  1  0\\n  6  7  1  0\\n  7  8  1  0\\n  8  9  1  0\\n  9 10  1  0\\n 10 11  1  0\\n 11 12  1  0\\n 12 13  1  0\\n  9 14  1  0\\n 14 15  1  0\\n  1 16  1  0\\n  1 17  1  0\\n  1 18  1  0\\n  2 19  1  0\\n  3 20  1  0\\n  3 21  1  0\\n  4 22  1  0\\n  4 23  1  0\\n  5 24  1  0\\n  5 25  1  0\\n  5 26  1  0\\n  6 27  1  0\\n  6 28  1  0\\n  7 29  1  0\\n  7 30  1  0\\n  8 31  1  0\\n  8 32  1  0\\n  9 33  1  0\\n 10 34  1  0\\n 10 35  1  0\\n 11 36  1  0\\n 11 37  1  0\\n 12 38  1  0\\n 12 39  1  0\\n 13 40  1  0\\n 13 41  1  0\\n 13 42  1  0\\n 14 43  1  0\\n 14 44  1  0\\n 15 45  1  0\\n 15 46  1  0\\n 15 47  1  0\\nM  END\\n\",\"sdf\");\n",
       "\tviewer_15887558567486904.setStyle({\"stick\": {}});\n",
       "\tviewer_15887558567486904.setBackgroundColor(\"0xeeeeee\");\n",
       "\tviewer_15887558567486904.zoomTo();\n",
       "viewer_15887558567486904.render();\n",
       "});\n",
       "</script>"
      ]
     },
     "metadata": {},
     "output_type": "display_data"
    }
   ],
   "source": [
    "# mol = Chem.MolFromSmiles('CC(CCC)CCCC(CCCC)CC')\n",
    "# standard = 7.678142433712216\n",
    "import json\n",
    "\n",
    "with open('diff/differentcarbon.json') as fp:\n",
    "    o = json.load(fp)\n",
    "print(o)\n",
    "mol = Chem.MolFromSmiles(o['mol'])\n",
    "standard = o['standard']\n",
    "mol = Chem.AddHs(mol)\n",
    "res = AllChem.EmbedMultipleConfs(mol, numConfs=200, numThreads=-1)\n",
    "res = AllChem.MMFFOptimizeMoleculeConfs(mol, numThreads=-1)\n",
    "import py3Dmol\n",
    "p = py3Dmol.view(width=800,height=800)\n",
    "drawit(mol, p, confId=0)"
   ]
  },
  {
   "cell_type": "code",
   "execution_count": null,
   "metadata": {},
   "outputs": [],
   "source": [
    "confgen.get_conformer_energies(mol)"
   ]
  },
  {
   "cell_type": "code",
   "execution_count": null,
   "metadata": {},
   "outputs": [],
   "source": [
    "%timeit tfd = array_to_lower_triangle(Chem.TorsionFingerprints.GetTFDMatrix(mol, useWeights=False), True)"
   ]
  },
  {
   "cell_type": "code",
   "execution_count": null,
   "metadata": {},
   "outputs": [],
   "source": [
    "%timeit tfd = Chem.TorsionFingerprints.GetTFDBetweenConformers(mol, range(0,mol.GetNumConformers() - 1), [-1], useWeights=False)\n"
   ]
  },
  {
   "cell_type": "code",
   "execution_count": null,
   "metadata": {},
   "outputs": [],
   "source": [
    "%timeit confgen.get_conformer_energies(mol)"
   ]
  },
  {
   "cell_type": "code",
   "execution_count": null,
   "metadata": {},
   "outputs": [],
   "source": [
    "out = confgen.get_conformer_energies(mol)\n",
    "out = sorted(out)\n",
    "for idx, i in enumerate(out):\n",
    "    print(idx, i)"
   ]
  },
  {
   "cell_type": "code",
   "execution_count": null,
   "metadata": {},
   "outputs": [],
   "source": [
    "import py3Dmol\n",
    "p = py3Dmol.view(width=800,height=800)\n",
    "drawit(Chem.RemoveHs(mol), p, confId=0)"
   ]
  },
  {
   "cell_type": "code",
   "execution_count": null,
   "metadata": {},
   "outputs": [],
   "source": [
    "import pickle\n",
    "with open('test_mol.pickle', 'rb') as fp:\n",
    "    mol = pickle.load(fp)\n",
    "    \n",
    "import py3Dmol\n",
    "p = py3Dmol.view(width=800,height=800)\n",
    "drawit(mol, p, confId=0)"
   ]
  },
  {
   "cell_type": "code",
   "execution_count": null,
   "metadata": {},
   "outputs": [],
   "source": [
    "mol = Chem.MolFromMolFile('258-trihexyl-decane.mol')\n",
    "standard = 14.88278294332602\n",
    "mol = Chem.AddHs(mol)\n",
    "res = AllChem.EmbedMultipleConfs(mol, numConfs=650, numThreads=-1, pruneRmsThresh=1.0)\n",
    "res = AllChem.MMFFOptimizeMoleculeConfs(mol, numThreads=-1)\n",
    "\n",
    "\n",
    "energys = confgen.get_conformer_energies(mol)\n",
    "plt.title('RDKit set')\n",
    "plt.plot(np.cumsum(0.9 * np.exp(-(energys - 14.88278294332602))) / 1.2363186365185044)"
   ]
  },
  {
   "cell_type": "code",
   "execution_count": null,
   "metadata": {},
   "outputs": [],
   "source": [
    "plt.plot(np.cumsum(1.4 * np.exp(-(menergys - 14.88278294332602))) / 1.2363186365185044, label='RL')\n",
    "plt.plot(np.cumsum(0.4 * np.exp(-(energys - 14.88278294332602))) / 1.2363186365185044, label='ETKDG')\n",
    "plt.legend()\n",
    "plt.title('Gibbs vs Num_Samples')\n",
    "plt.xlabel('Timestep / Number of Samples')\n",
    "plt.ylabel('Normalized Gibbs')"
   ]
  },
  {
   "cell_type": "code",
   "execution_count": null,
   "metadata": {},
   "outputs": [],
   "source": [
    "import matplotlib.pyplot as plt\n",
    "%matplotlib inline\n",
    "plt.title('ML model set')\n",
    "plt.pie(np.sort(np.exp(-(energys - energys.max()))))"
   ]
  },
  {
   "cell_type": "code",
   "execution_count": null,
   "metadata": {},
   "outputs": [],
   "source": [
    "mol = Chem.MolFromMolFile('258-trihexyl-decane.mol')\n",
    "standard = 14.88278294332602\n",
    "mol = Chem.AddHs(mol)\n",
    "res = AllChem.EmbedMultipleConfs(mol, numConfs=200, numThreads=-1)\n",
    "res = AllChem.MMFFOptimizeMoleculeConfs(mol, numThreads=-1)\n",
    "\n",
    "energys = confgen.get_conformer_energies(mol)\n",
    "plt.title('RDKit set')\n",
    "plt.pie(np.sort(np.exp(-(energys - energys.max()))))"
   ]
  }
 ],
 "metadata": {
  "kernelspec": {
   "display_name": "Python 3",
   "language": "python",
   "name": "python3"
  },
  "language_info": {
   "codemirror_mode": {
    "name": "ipython",
    "version": 3
   },
   "file_extension": ".py",
   "mimetype": "text/x-python",
   "name": "python",
   "nbconvert_exporter": "python",
   "pygments_lexer": "ipython3",
   "version": "3.6.9"
  }
 },
 "nbformat": 4,
 "nbformat_minor": 2
}

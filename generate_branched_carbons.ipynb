{
 "cells": [
  {
   "cell_type": "code",
   "execution_count": 1,
   "metadata": {},
   "outputs": [
    {
     "name": "stderr",
     "output_type": "stream",
     "text": [
      "/home/tgog/.conda/envs/my-rdkit-env/lib/python3.6/site-packages/sklearn/externals/joblib/__init__.py:15: FutureWarning: sklearn.externals.joblib is deprecated in 0.21 and will be removed in 0.23. Please import this functionality directly from joblib, which can be installed with: pip install joblib. If this warning is raised when loading pickled models, you may need to re-serialize those models with scikit-learn 0.21+.\n",
      "  warnings.warn(msg, category=FutureWarning)\n"
     ]
    },
    {
     "data": {
      "application/vnd.jupyter.widget-view+json": {
       "model_id": "fbb0e9d7b06c4fff81f2aa309a389fdd",
       "version_major": 2,
       "version_minor": 0
      },
      "text/plain": [
       "_ColormakerRegistry()"
      ]
     },
     "metadata": {},
     "output_type": "display_data"
    }
   ],
   "source": [
    "import time\n",
    "from rdkit import Chem\n",
    "from rdkit.Chem import AllChem, TorsionFingerprints\n",
    "import json\n",
    "import tqdm\n",
    "import numpy as np\n",
    "\n",
    "from utils import *"
   ]
  },
  {
   "cell_type": "code",
   "execution_count": null,
   "metadata": {},
   "outputs": [],
   "source": [
    "def create_t_alkane(i):\n",
    "    cin = 'C' * i\n",
    "    m = Chem.MolFromSmiles(f'CCCC({cin})CCCC')\n",
    "    m = Chem.rdmolops.AddHs(m)\n",
    "\n",
    "    AllChem.EmbedMultipleConfs(m, numConfs=200, numThreads=-1)\n",
    "    Chem.AllChem.MMFFOptimizeMoleculeConfs(m, numThreads=-1)\n",
    "\n",
    "\n",
    "    confgen = ConformerGeneratorCustom(max_conformers=1, \n",
    "                      force_field='mmff',\n",
    "                     pool_multiplier=1)  \n",
    "\n",
    "    energys = confgen.get_conformer_energies(m)\n",
    "    print(len(TorsionFingerprints.CalculateTorsionLists(m)[0]))\n",
    "    standard = energys.min()\n",
    "    total = np.sum(np.exp(-(energys-standard)))\n",
    "\n",
    "    out = {\n",
    "        'mol': Chem.MolToSmiles(m, isomericSmiles=False),\n",
    "        'standard': standard,\n",
    "        'total': total\n",
    "    }\n",
    "    \n",
    "    return out\n",
    "\n",
    "\n",
    "for i in range(4,14):\n",
    "    out = create_t_alkane(i)\n",
    "    with open(f'transfer_test_t_chain/{i}.json', 'w') as fp:\n",
    "        json.dump(out, fp)\n",
    "        Chem.MolToMolFile(new, f'{i}.mol')\n",
    "\n",
    "        "
   ]
  },
  {
   "cell_type": "code",
   "execution_count": null,
   "metadata": {},
   "outputs": [],
   "source": [
    "i = 10 \n",
    "\n",
    "cin = 'C' * i\n",
    "m = Chem.MolFromSmiles(f'CCCC({cin})CCCC')\n",
    "m = Chem.rdmolops.AddHs(m)\n",
    "\n",
    "AllChem.EmbedMultipleConfs(m, numConfs=200, numThreads=-1)\n",
    "Chem.AllChem.MMFFOptimizeMoleculeConfs(m, numThreads=-1)\n",
    "\n",
    "\n",
    "confgen = ConformerGeneratorCustom(max_conformers=1, \n",
    "                  force_field='mmff',\n",
    "                 pool_multiplier=1)  \n",
    "\n",
    "energys = confgen.get_conformer_energies(m)\n",
    "argsorted = np.argsort(energys)\n",
    "\n",
    "new = Chem.Mol(m)\n",
    "new.RemoveAllConformers()\n",
    "conf = m.GetConformer(int(argsorted[0]))\n",
    "new.AddConformer(conf, assignId=True)\n",
    "\n",
    "\n",
    "print(len(TorsionFingerprints.CalculateTorsionLists(m)[0]))\n",
    "standard = energys.min()\n",
    "total = np.sum(np.exp(-(energys-standard)))\n",
    "\n",
    "out = {\n",
    "    'mol': Chem.MolToSmiles(m, isomericSmiles=False),\n",
    "    'standard': standard,\n",
    "    'total': total\n",
    "}\n",
    "\n",
    "\n",
    "import py3Dmol\n",
    "p = py3Dmol.view(width=800,height=800)\n",
    "print(len(TorsionFingerprints.CalculateTorsionLists(m)[0]))\n",
    "drawit(m, p, confId=int(argsorted[0]))\n"
   ]
  },
  {
   "cell_type": "code",
   "execution_count": null,
   "metadata": {},
   "outputs": [],
   "source": [
    "def create_linear_alkane(i):\n",
    "    m = Chem.MolFromSmiles('C' * i)\n",
    "    m = Chem.rdmolops.AddHs(m)\n",
    "\n",
    "    AllChem.EmbedMultipleConfs(m, numConfs=200, numThreads=-1)\n",
    "    Chem.AllChem.MMFFOptimizeMoleculeConfs(m, numThreads=-1)\n",
    "\n",
    "\n",
    "    confgen = ConformerGeneratorCustom(max_conformers=1, \n",
    "                      force_field='mmff',\n",
    "                     pool_multiplier=1)  \n",
    "\n",
    "    energys = confgen.get_conformer_energies(m)\n",
    "    print(len(TorsionFingerprints.CalculateTorsionLists(m)[0]))\n",
    "    standard = energys.min()\n",
    "    total = np.sum(np.exp(-(energys-standard)))\n",
    "\n",
    "    out = {\n",
    "        'mol': Chem.MolToSmiles(m, isomericSmiles=False),\n",
    "        'standard': standard,\n",
    "        'total': total\n",
    "    }\n",
    "    \n",
    "    return out\n",
    "\n",
    "\n",
    "for i in range(10,15):\n",
    "    out = create_linear_alkane(i)\n",
    "    with open(f'transfer_test_straight_chain/{i}.json', 'w') as fp:\n",
    "        json.dump(out, fp)\n",
    "        "
   ]
  },
  {
   "cell_type": "code",
   "execution_count": null,
   "metadata": {},
   "outputs": [],
   "source": [
    "def create_branched():\n",
    "    m = Chem.MolFromSmiles('CCCC')\n",
    "    e = Chem.RWMol(m)\n",
    "\n",
    "    numatoms = len(e.GetAtoms())\n",
    "    tot = np.random.choice([15,16,17,18,19,20])\n",
    "    while numatoms < tot:\n",
    "        x = Chem.rdchem.Atom(6)\n",
    "        randidx = np.random.randint(len(e.GetAtoms()))\n",
    "        atom = e.GetAtomWithIdx(randidx)\n",
    "        if atom.GetDegree() > 2:\n",
    "            continue\n",
    "        idx = e.AddAtom(x)\n",
    "        e.AddBond(idx, randidx, Chem.rdchem.BondType.SINGLE)\n",
    "        numatoms = len(e.GetAtoms())\n",
    "\n",
    "\n",
    "    Chem.SanitizeMol(e)\n",
    "    m = Chem.rdmolops.AddHs(e.GetMol())\n",
    "    AllChem.EmbedMultipleConfs(m, numConfs=200, numThreads=-1)\n",
    "    Chem.AllChem.MMFFOptimizeMoleculeConfs(m, numThreads=-1)\n",
    "\n",
    "\n",
    "    confgen = ConformerGeneratorCustom(max_conformers=1, \n",
    "                     rmsd_threshold=None, \n",
    "                     force_field='mmff',\n",
    "                     pool_multiplier=1)  \n",
    "\n",
    "    energys = confgen.get_conformer_energies(m)\n",
    "    print(len(TorsionFingerprints.CalculateTorsionLists(m)[0]))\n",
    "    standard = energys.min()\n",
    "    total = np.sum(np.exp(-(energys-standard)))\n",
    "    \n",
    "    out = {\n",
    "        'mol': Chem.MolToSmiles(m, isomericSmiles=False),\n",
    "        'standard': standard,\n",
    "        'total': total\n",
    "    }\n",
    "    return out"
   ]
  },
  {
   "cell_type": "code",
   "execution_count": null,
   "metadata": {},
   "outputs": [],
   "source": [
    "for i in tqdm(range(500)):\n",
    "    out = create_branched()\n",
    "    with open(f'bigger_labeled/{i}.json', 'w') as fp:\n",
    "        json.dump(out, fp)"
   ]
  },
  {
   "cell_type": "code",
   "execution_count": null,
   "metadata": {},
   "outputs": [],
   "source": [
    "create_branched()"
   ]
  },
  {
   "cell_type": "code",
   "execution_count": null,
   "metadata": {},
   "outputs": [],
   "source": [
    "confgen = ConformerGeneratorCustom(max_conformers=1, \n",
    "                 rmsd_threshold=None, \n",
    "                 force_field='mmff',\n",
    "                 pool_multiplier=1)\n",
    "\n",
    "one = 'COc1cc(C2OCC3C(c4ccc([O])c(OC)c4)OCC23)ccc1[O]'\n",
    "two = 'COc1cc(C2Oc3c(OC)cc(C=CCO)cc3C2CO)ccc1[O]'\n",
    "twoprime = 'COc1cc(C2Oc3c(OC)cc(C=CCO)cc3C2CO)ccc1O'\n",
    "three = 'COc1cc(C2Oc3c(OC)cc(C(O)C(CO)Oc4ccc(C=CCO)cc4OC)cc3C2CO)ccc1[O]'\n",
    "threeprime = 'COc1cc(C2Oc3c(OC)cc(C(O)C(CO)Oc4ccc(C=CCO)cc4OC)cc3C2CO)ccc1O'\n",
    "# four = 'COc1cc(C(O)C(CO)Oc2ccc(C(O)C(CO)Oc3ccc(C(O)C(CO)Oc4ccc(C=CCO)cc4OC)cc3OC)cc2OC)ccc1[O]'\n",
    "# ten = 'COc1cc(C2Oc3c(OC)cc(C4Oc5c(OC)cc(C(O)C(CO)Oc6ccc(C7OCC8C(c9cc(OC)c%10c(c9)C(CO)C(c9cc(OC)c%11c(c9)C(CO)C(c9ccc(O)c(OC)c9)O%11)O%10)OCC78)cc6OC)cc5C4CO)cc3C2CO)ccc1[O].COc1cc(C2Oc3c(OC)cc(C4Oc5c(OC)cc(C=CCO)cc5C4CO)cc3C2CO)ccc1O'\n",
    "# nine = 'COc1cc(C(O)C(CO)Oc2ccc(C3OCC4C(c5cc(OC)c6c(c5)C(CO)C(c5ccc(OC(CO)C(O)c7cc(OC)c8c(c7)C(CO)C(c7ccc([O])c(OC)c7)O8)c(OC)c5)O6)OCC34)cc2OC)ccc1[O].COc1cc(C2Oc3c(OC)cc(C4Oc5c(OC)cc(C=CCO)cc5C4CO)cc3C2CO)ccc1O'\n",
    "eight = 'COc1cc(C(O)C(CO)Oc2c(OC)cc(C(O)C(CO)Oc3ccc(C4Oc5c(OC)cc(C6Oc7c(OC)cc(C8Oc9c(OC)cc(C=CCO)cc9C8CO)cc7C6CO)cc5C4CO)cc3OC)cc2-c2cc(C3OCC4C(c5ccc(O)c(OC)c5)OCC34)cc(OC)c2[O])ccc1[O]'\n",
    "eightprime = 'COc1cc(C(O)C(CO)Oc2c(OC)cc(C(O)C(CO)Oc3ccc(C4Oc5c(OC)cc(C6Oc7c(OC)cc(C8Oc9c(OC)cc(C=CCO)cc9C8CO)cc7C6CO)cc5C4CO)cc3OC)cc2-c2cc(C3OCC4C(c5ccc(O)c(OC)c5)OCC34)cc(OC)c2O)ccc1O'\n",
    "\n",
    "x = Chem.MolFromSmiles(eightprime)\n",
    "x = Chem.AddHs(x)\n",
    "res = AllChem.EmbedMultipleConfs(x, numConfs=10, numThreads=-1)\n",
    "Chem.AllChem.MMFFOptimizeMoleculeConfs(x, numThreads=-1)\n",
    "confgen.get_conformer_energies(x).min()"
   ]
  },
  {
   "cell_type": "code",
   "execution_count": null,
   "metadata": {},
   "outputs": [],
   "source": [
    "import py3Dmol\n",
    "p = py3Dmol.view(width=800,height=800)\n",
    "print(len(TorsionFingerprints.CalculateTorsionLists(x)[0]))\n",
    "drawit(x, p, confId=0)"
   ]
  },
  {
   "cell_type": "code",
   "execution_count": null,
   "metadata": {},
   "outputs": [],
   "source": [
    "nonring, ring = Chem.TorsionFingerprints.CalculateTorsionLists(mol)\n",
    "all_tors = [Chem.TorsionFingerprints.CalculateTorsionAngles(mol, nonring, ring, confId=i) for i in range(200)]"
   ]
  },
  {
   "cell_type": "code",
   "execution_count": null,
   "metadata": {},
   "outputs": [],
   "source": [
    "# mol = Chem.MolFromSmiles('CC(CCC)CCCC(CCCC)CC')\n",
    "# standard = 7.678142433712216\n",
    "import json\n",
    "\n",
    "with open('huge_hc_set/10_6288.json') as fp:\n",
    "    o = json.load(fp)\n",
    "print(o)\n",
    "mol = Chem.MolFromSmiles(o['mol'])\n",
    "standard = o['standard']\n",
    "mol = Chem.AddHs(mol)\n",
    "res = AllChem.EmbedMultipleConfs(mol, numConfs=200, numThreads=-1)\n",
    "res = AllChem.MMFFOptimizeMoleculeConfs(mol, numThreads=-1)\n"
   ]
  },
  {
   "cell_type": "code",
   "execution_count": null,
   "metadata": {},
   "outputs": [],
   "source": [
    "confgen.get_conformer_energies(mol)"
   ]
  },
  {
   "cell_type": "code",
   "execution_count": null,
   "metadata": {},
   "outputs": [],
   "source": [
    "%timeit tfd = array_to_lower_triangle(Chem.TorsionFingerprints.GetTFDMatrix(mol, useWeights=False), True)"
   ]
  },
  {
   "cell_type": "code",
   "execution_count": null,
   "metadata": {},
   "outputs": [],
   "source": [
    "%timeit tfd = Chem.TorsionFingerprints.GetTFDBetweenConformers(mol, range(0,mol.GetNumConformers() - 1), [-1], useWeights=False)\n"
   ]
  },
  {
   "cell_type": "code",
   "execution_count": null,
   "metadata": {},
   "outputs": [],
   "source": [
    "%timeit confgen.get_conformer_energies(mol)"
   ]
  },
  {
   "cell_type": "code",
   "execution_count": null,
   "metadata": {},
   "outputs": [],
   "source": [
    "out = confgen.get_conformer_energies(mol)\n",
    "out = sorted(out)\n",
    "for idx, i in enumerate(out):\n",
    "    print(idx, i)"
   ]
  },
  {
   "cell_type": "code",
   "execution_count": null,
   "metadata": {},
   "outputs": [],
   "source": [
    "import py3Dmol\n",
    "p = py3Dmol.view(width=800,height=800)\n",
    "drawit(Chem.RemoveHs(mol), p, confId=0)"
   ]
  },
  {
   "cell_type": "code",
   "execution_count": null,
   "metadata": {},
   "outputs": [],
   "source": [
    "import pickle\n",
    "with open('test_mol.pickle', 'rb') as fp:\n",
    "    mol = pickle.load(fp)\n",
    "    \n",
    "import py3Dmol\n",
    "p = py3Dmol.view(width=800,height=800)\n",
    "drawit(mol, p, confId=0)"
   ]
  },
  {
   "cell_type": "code",
   "execution_count": null,
   "metadata": {},
   "outputs": [],
   "source": [
    "mol = Chem.MolFromMolFile('258-trihexyl-decane.mol')\n",
    "standard = 14.88278294332602\n",
    "mol = Chem.AddHs(mol)\n",
    "res = AllChem.EmbedMultipleConfs(mol, numConfs=650, numThreads=-1, pruneRmsThresh=1.0)\n",
    "res = AllChem.MMFFOptimizeMoleculeConfs(mol, numThreads=-1)\n",
    "\n",
    "\n",
    "energys = confgen.get_conformer_energies(mol)\n",
    "plt.title('RDKit set')\n",
    "plt.plot(np.cumsum(0.9 * np.exp(-(energys - 14.88278294332602))) / 1.2363186365185044)"
   ]
  },
  {
   "cell_type": "code",
   "execution_count": null,
   "metadata": {},
   "outputs": [],
   "source": [
    "plt.plot(np.cumsum(1.4 * np.exp(-(menergys - 14.88278294332602))) / 1.2363186365185044, label='RL')\n",
    "plt.plot(np.cumsum(0.4 * np.exp(-(energys - 14.88278294332602))) / 1.2363186365185044, label='ETKDG')\n",
    "plt.legend()\n",
    "plt.title('Gibbs vs Num_Samples')\n",
    "plt.xlabel('Timestep / Number of Samples')\n",
    "plt.ylabel('Normalized Gibbs')"
   ]
  },
  {
   "cell_type": "code",
   "execution_count": null,
   "metadata": {},
   "outputs": [],
   "source": [
    "import matplotlib.pyplot as plt\n",
    "%matplotlib inline\n",
    "plt.title('ML model set')\n",
    "plt.pie(np.sort(np.exp(-(energys - energys.max()))))"
   ]
  },
  {
   "cell_type": "code",
   "execution_count": null,
   "metadata": {},
   "outputs": [],
   "source": [
    "mol = Chem.MolFromMolFile('258-trihexyl-decane.mol')\n",
    "standard = 14.88278294332602\n",
    "mol = Chem.AddHs(mol)\n",
    "res = AllChem.EmbedMultipleConfs(mol, numConfs=200, numThreads=-1)\n",
    "res = AllChem.MMFFOptimizeMoleculeConfs(mol, numThreads=-1)\n",
    "\n",
    "energys = confgen.get_conformer_energies(mol)\n",
    "plt.title('RDKit set')\n",
    "plt.pie(np.sort(np.exp(-(energys - energys.max()))))"
   ]
  }
 ],
 "metadata": {
  "kernelspec": {
   "display_name": "Python 3",
   "language": "python",
   "name": "python3"
  },
  "language_info": {
   "codemirror_mode": {
    "name": "ipython",
    "version": 3
   },
   "file_extension": ".py",
   "mimetype": "text/x-python",
   "name": "python",
   "nbconvert_exporter": "python",
   "pygments_lexer": "ipython3",
   "version": "3.6.9"
  }
 },
 "nbformat": 4,
 "nbformat_minor": 2
}

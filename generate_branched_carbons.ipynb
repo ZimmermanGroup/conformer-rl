{
 "cells": [
  {
   "cell_type": "code",
   "execution_count": 1,
   "metadata": {},
   "outputs": [
    {
     "name": "stderr",
     "output_type": "stream",
     "text": [
      "/home/tgog/.conda/envs/my-rdkit-env/lib/python3.6/site-packages/sklearn/externals/joblib/__init__.py:15: FutureWarning: sklearn.externals.joblib is deprecated in 0.21 and will be removed in 0.23. Please import this functionality directly from joblib, which can be installed with: pip install joblib. If this warning is raised when loading pickled models, you may need to re-serialize those models with scikit-learn 0.21+.\n",
      "  warnings.warn(msg, category=FutureWarning)\n"
     ]
    },
    {
     "data": {
      "application/vnd.jupyter.widget-view+json": {
       "model_id": "65d846e4de3741e9944d5400519ce041",
       "version_major": 2,
       "version_minor": 0
      },
      "text/plain": [
       "_ColormakerRegistry()"
      ]
     },
     "metadata": {},
     "output_type": "display_data"
    }
   ],
   "source": [
    "import time\n",
    "from rdkit import Chem\n",
    "from rdkit.Chem import AllChem, TorsionFingerprints\n",
    "import json\n",
    "import tqdm\n",
    "import numpy as np\n",
    "\n",
    "from utils import *"
   ]
  },
  {
   "cell_type": "code",
   "execution_count": 3,
   "metadata": {},
   "outputs": [
    {
     "name": "stdout",
     "output_type": "stream",
     "text": [
      "8\n",
      "9\n",
      "10\n",
      "11\n",
      "12\n",
      "13\n",
      "14\n",
      "15\n",
      "16\n",
      "17\n"
     ]
    }
   ],
   "source": [
    "def create_t_alkane(i):\n",
    "    cin = 'C' * i\n",
    "    m = Chem.MolFromSmiles(f'CCCC({cin})CCCC')\n",
    "    m = Chem.rdmolops.AddHs(m)\n",
    "\n",
    "    AllChem.EmbedMultipleConfs(m, numConfs=200, numThreads=-1)\n",
    "    Chem.AllChem.MMFFOptimizeMoleculeConfs(m, numThreads=-1)\n",
    "\n",
    "\n",
    "    confgen = ConformerGeneratorCustom(max_conformers=1, \n",
    "                      force_field='mmff',\n",
    "                     pool_multiplier=1)  \n",
    "\n",
    "    energys = confgen.get_conformer_energies(m)\n",
    "    print(len(TorsionFingerprints.CalculateTorsionLists(m)[0]))\n",
    "    standard = energys.min()\n",
    "    total = np.sum(np.exp(-(energys-standard)))\n",
    "\n",
    "    out = {\n",
    "        'mol': Chem.MolToSmiles(m, isomericSmiles=False),\n",
    "        'standard': standard,\n",
    "        'total': total\n",
    "    }\n",
    "    \n",
    "    return out\n",
    "\n",
    "\n",
    "for i in range(4,14):\n",
    "    out = create_t_alkane(i)\n",
    "    with open(f'transfer_test_t_chain/{i}.json', 'w') as fp:\n",
    "        json.dump(out, fp)\n",
    "        Chem.MolToMolFile(new, f'{i}.mol')\n",
    "\n",
    "        "
   ]
  },
  {
   "cell_type": "code",
   "execution_count": 14,
   "metadata": {},
   "outputs": [
    {
     "name": "stdout",
     "output_type": "stream",
     "text": [
      "[ 6.17028745  5.6826097   6.23265778  7.04663408  7.63017555  4.55834531\n",
      "  5.15938121  6.9160687   6.71957808  9.50155743  7.82173765  8.65419445\n",
      "  5.45431487  5.28145859 12.02914617 12.0289859   5.31382661  4.22506991\n",
      "  6.07418937  9.05841133  4.38922301  1.64240181  6.56016897 10.96364653\n",
      " 11.41015157  9.32504929  3.47645543  3.61446483  7.45750952  7.1068722\n",
      "  3.97149522 13.41070681  4.90105618  6.98853588  7.33702776  5.12958783\n",
      " 10.06419355 13.08995767  5.63100331  7.92889351  6.30354232  3.93168267\n",
      "  8.33773796 12.57071737  5.54494211  1.69769415  6.7396546   9.93437909\n",
      "  4.30358195  3.92855145  9.88681435  7.33386332  5.98961514 10.37125917\n",
      "  5.66741996  7.52956889  8.00032878  9.51922059 10.64303057 10.48836817\n",
      "  6.38410354  6.95234505 12.43799544  2.47909692  7.07751322  8.86110884\n",
      "  7.3378965   4.43494119  5.09133946  8.94245582  6.42425458  8.35948848\n",
      "  4.84775466  6.59923875  8.28963837  9.19685779  5.58951493 10.39319694\n",
      "  7.31532837  7.52811521  3.67114434  9.84899363  3.01542683  9.89536719\n",
      "  4.10076373 10.29414345  8.31420902 11.07825232  3.52158874  3.69747206\n",
      "  2.51868518  5.21245533 11.24089747 10.9296686   7.58099739  6.47406812\n",
      "  4.16306024  9.13374897  6.22947076 13.51699534  6.94964055 10.2401694\n",
      " 10.24070855 10.29401169  6.48390872  4.278871    9.3782225   8.19900349\n",
      " 11.25989061  6.22434083  7.50314692  4.78656592 10.6300985   8.32145777\n",
      "  7.23416061  6.67469169  6.41709373  4.69247117  9.96299921  5.51307266\n",
      "  3.38662893 13.19658517  7.58742139  7.52446651  6.06573985  7.70696881\n",
      "  6.93286847  4.00878644  7.11199238  4.37164369  4.33492708 11.39113623\n",
      " 11.52988719  7.37356967  8.08454492 11.66012098  6.57065253  9.47693389\n",
      "  7.75009425  3.78280876  3.43708327  4.52740815  6.64073367 11.26586947\n",
      "  7.91484853 11.04992537  5.8617501   5.41626649  7.43290496  7.47878154\n",
      " 12.66079649  9.50247686  4.53614909 10.32647389 11.6030631   9.94873313\n",
      "  9.79060804  5.8832748   4.80628728 12.95894677  7.71219254 11.46125696\n",
      "  5.29702286  6.82216734  8.67674223 12.76445437  5.56468923  4.75716807\n",
      "  6.39117616 12.02893502  6.32404911  5.49460817  6.39538813 10.75466163\n",
      " 11.18787574  7.240966   14.45717434  7.75209536  7.50053778  5.65912906\n",
      "  6.36328764  5.37292854  3.57554436 10.37044731 11.13974772  9.55146348\n",
      " 10.8453128   6.64191034  3.7409522   7.18800014  8.59180237  7.16440861\n",
      " 12.49289625  2.63284922 14.24615606  6.70530626  5.09786189  7.00670727\n",
      "  6.35259632  6.59624943]\n",
      "[ 21  45  63  90 193  82 120 140  26  88 182  27  80  89 188 139  49  41\n",
      "  30 127  84  96  17 105  48 130 129  20  67 141 152   5 117 167 111 158\n",
      "  72  32  68 196  35   6  91  13 162  16 181 147  12 171 119  44 166  76\n",
      "  38 179  54   1 146 157  52 124  18   0 109  98   2  40 170 198 180  60\n",
      " 168 172 116  70  95 104  22 136 199  73 142 187 115 195   8  46 163   7\n",
      " 126 100  61  33 197   3  64  29 128 191 189 114 175  78  51  34  66 133\n",
      " 148  28 149 178 110 123  79  55  94 122   4 125 160 138 177  10 144  39\n",
      "  56 134 107  74  86 113  42  71 190  11 164  65  69  19  97  75  25 106\n",
      " 137   9 151  57 185 156  81  50  83  47 155 118  36 101 102 103  85 153\n",
      " 183  53  77  59 112  58 173 186  93  23 145  87 184 174  92 108 143 131\n",
      "  24 161 132 154 135 169  15  14  62 192  43 150 165 159  37 121  31  99\n",
      " 194 176]\n",
      "1.6424018117465016\n",
      "1.6424018117465016\n",
      "14\n",
      "14\n"
     ]
    },
    {
     "data": {
      "application/3dmoljs_load.v0": "<div id=\"3dmolviewer_15867569312855139\"  style=\"position: relative; width: 800px; height: 800px\">\n        <p id=\"3dmolwarning_15867569312855139\" style=\"background-color:#ffcccc;color:black\">You appear to be running in JupyterLab (or JavaScript failed to load for some other reason).  You need to install the 3dmol extension: <br>\n        <tt>jupyter labextension install jupyterlab_3dmol</tt></p>\n        </div>\n<script>\n\nvar loadScriptAsync = function(uri){\n  return new Promise((resolve, reject) => {\n    var tag = document.createElement('script');\n    tag.src = uri;\n    tag.async = true;\n    tag.onload = () => {\n      resolve();\n    };\n  var firstScriptTag = document.getElementsByTagName('script')[0];\n  firstScriptTag.parentNode.insertBefore(tag, firstScriptTag);\n});\n};\n\nif(typeof $3Dmolpromise === 'undefined') {\n$3Dmolpromise = null;\n  $3Dmolpromise = loadScriptAsync('https://3dmol.csb.pitt.edu/build/3Dmol.js');\n}\n\nvar viewer_15867569312855139 = null;\nvar warn = document.getElementById(\"3dmolwarning_15867569312855139\");\nif(warn) {\n    warn.parentNode.removeChild(warn);\n}\n$3Dmolpromise.then(function() {\nviewer_15867569312855139 = $3Dmol.createViewer($(\"#3dmolviewer_15867569312855139\"),{backgroundColor:\"white\"});\n\tviewer_15867569312855139.removeAllModels();\n\tviewer_15867569312855139.addModel(\"\\n     RDKit          3D\\n\\n 56 55  0  0  0  0  0  0  0  0999 V2000\\n   -5.4779   -3.4953   -1.3677 C   0  0  0  0  0  0  0  0  0  0  0  0\\n   -4.1134   -2.8777   -1.0993 C   0  0  0  0  0  0  0  0  0  0  0  0\\n   -4.2423   -1.5392   -0.3656 C   0  0  0  0  0  0  0  0  0  0  0  0\\n   -2.8822   -0.9297    0.0516 C   0  0  0  0  0  0  0  0  0  0  0  0\\n   -2.0504   -0.5124   -1.1823 C   0  0  0  0  0  0  0  0  0  0  0  0\\n   -0.6971    0.1489   -0.8913 C   0  0  0  0  0  0  0  0  0  0  0  0\\n    0.2650   -0.7526   -0.1146 C   0  0  0  0  0  0  0  0  0  0  0  0\\n    1.6330   -0.0859    0.0556 C   0  0  0  0  0  0  0  0  0  0  0  0\\n    2.5954   -0.9876    0.8319 C   0  0  0  0  0  0  0  0  0  0  0  0\\n    3.9431   -0.3249    1.1312 C   0  0  0  0  0  0  0  0  0  0  0  0\\n    4.7732   -0.0401   -0.1225 C   0  0  0  0  0  0  0  0  0  0  0  0\\n    6.1531    0.5130    0.2409 C   0  0  0  0  0  0  0  0  0  0  0  0\\n    6.9832    0.8022   -1.0096 C   0  0  0  0  0  0  0  0  0  0  0  0\\n    8.3552    1.3515   -0.6528 C   0  0  0  0  0  0  0  0  0  0  0  0\\n   -3.0936    0.2133    1.0728 C   0  0  0  0  0  0  0  0  0  0  0  0\\n   -3.8252    1.4458    0.5303 C   0  0  0  0  0  0  0  0  0  0  0  0\\n   -3.9730    2.5175    1.6125 C   0  0  0  0  0  0  0  0  0  0  0  0\\n   -4.6986    3.7452    1.0854 C   0  0  0  0  0  0  0  0  0  0  0  0\\n   -5.3655   -4.4472   -1.8960 H   0  0  0  0  0  0  0  0  0  0  0  0\\n   -6.0928   -2.8336   -1.9862 H   0  0  0  0  0  0  0  0  0  0  0  0\\n   -6.0130   -3.6877   -0.4323 H   0  0  0  0  0  0  0  0  0  0  0  0\\n   -3.5159   -3.5754   -0.5015 H   0  0  0  0  0  0  0  0  0  0  0  0\\n   -3.5999   -2.7426   -2.0566 H   0  0  0  0  0  0  0  0  0  0  0  0\\n   -4.8523   -1.6949    0.5335 H   0  0  0  0  0  0  0  0  0  0  0  0\\n   -4.7915   -0.8352   -1.0025 H   0  0  0  0  0  0  0  0  0  0  0  0\\n   -2.3290   -1.7176    0.5800 H   0  0  0  0  0  0  0  0  0  0  0  0\\n   -2.6397    0.1701   -1.8072 H   0  0  0  0  0  0  0  0  0  0  0  0\\n   -1.8574   -1.3953   -1.8031 H   0  0  0  0  0  0  0  0  0  0  0  0\\n   -0.2386    0.4125   -1.8531 H   0  0  0  0  0  0  0  0  0  0  0  0\\n   -0.8410    1.0935   -0.3553 H   0  0  0  0  0  0  0  0  0  0  0  0\\n   -0.1475   -0.9800    0.8745 H   0  0  0  0  0  0  0  0  0  0  0  0\\n    0.3847   -1.7053   -0.6443 H   0  0  0  0  0  0  0  0  0  0  0  0\\n    2.0461    0.1407   -0.9336 H   0  0  0  0  0  0  0  0  0  0  0  0\\n    1.5129    0.8667    0.5854 H   0  0  0  0  0  0  0  0  0  0  0  0\\n    2.1330   -1.2660    1.7871 H   0  0  0  0  0  0  0  0  0  0  0  0\\n    2.7588   -1.9196    0.2773 H   0  0  0  0  0  0  0  0  0  0  0  0\\n    4.5111   -0.9912    1.7925 H   0  0  0  0  0  0  0  0  0  0  0  0\\n    3.7796    0.6064    1.6870 H   0  0  0  0  0  0  0  0  0  0  0  0\\n    4.8892   -0.9625   -0.7043 H   0  0  0  0  0  0  0  0  0  0  0  0\\n    4.2545    0.6843   -0.7602 H   0  0  0  0  0  0  0  0  0  0  0  0\\n    6.0373    1.4333    0.8263 H   0  0  0  0  0  0  0  0  0  0  0  0\\n    6.6835   -0.2084    0.8745 H   0  0  0  0  0  0  0  0  0  0  0  0\\n    6.4601    1.5266   -1.6447 H   0  0  0  0  0  0  0  0  0  0  0  0\\n    7.1048   -0.1157   -1.5965 H   0  0  0  0  0  0  0  0  0  0  0  0\\n    8.9316    1.5512   -1.5615 H   0  0  0  0  0  0  0  0  0  0  0  0\\n    8.2693    2.2878   -0.0923 H   0  0  0  0  0  0  0  0  0  0  0  0\\n    8.9178    0.6365   -0.0439 H   0  0  0  0  0  0  0  0  0  0  0  0\\n   -3.6562   -0.1834    1.9284 H   0  0  0  0  0  0  0  0  0  0  0  0\\n   -2.1228    0.5203    1.4798 H   0  0  0  0  0  0  0  0  0  0  0  0\\n   -4.8199    1.1640    0.1681 H   0  0  0  0  0  0  0  0  0  0  0  0\\n   -3.2773    1.8689   -0.3185 H   0  0  0  0  0  0  0  0  0  0  0  0\\n   -4.5277    2.1110    2.4662 H   0  0  0  0  0  0  0  0  0  0  0  0\\n   -2.9837    2.8150    1.9794 H   0  0  0  0  0  0  0  0  0  0  0  0\\n   -4.1524    4.1953    0.2503 H   0  0  0  0  0  0  0  0  0  0  0  0\\n   -4.7930    4.4976    1.8746 H   0  0  0  0  0  0  0  0  0  0  0  0\\n   -5.7048    3.4878    0.7393 H   0  0  0  0  0  0  0  0  0  0  0  0\\n  1  2  1  0\\n  2  3  1  0\\n  3  4  1  0\\n  4  5  1  0\\n  5  6  1  0\\n  6  7  1  0\\n  7  8  1  0\\n  8  9  1  0\\n  9 10  1  0\\n 10 11  1  0\\n 11 12  1  0\\n 12 13  1  0\\n 13 14  1  0\\n  4 15  1  0\\n 15 16  1  0\\n 16 17  1  0\\n 17 18  1  0\\n  1 19  1  0\\n  1 20  1  0\\n  1 21  1  0\\n  2 22  1  0\\n  2 23  1  0\\n  3 24  1  0\\n  3 25  1  0\\n  4 26  1  0\\n  5 27  1  0\\n  5 28  1  0\\n  6 29  1  0\\n  6 30  1  0\\n  7 31  1  0\\n  7 32  1  0\\n  8 33  1  0\\n  8 34  1  0\\n  9 35  1  0\\n  9 36  1  0\\n 10 37  1  0\\n 10 38  1  0\\n 11 39  1  0\\n 11 40  1  0\\n 12 41  1  0\\n 12 42  1  0\\n 13 43  1  0\\n 13 44  1  0\\n 14 45  1  0\\n 14 46  1  0\\n 14 47  1  0\\n 15 48  1  0\\n 15 49  1  0\\n 16 50  1  0\\n 16 51  1  0\\n 17 52  1  0\\n 17 53  1  0\\n 18 54  1  0\\n 18 55  1  0\\n 18 56  1  0\\nM  END\\n\",\"sdf\");\n\tviewer_15867569312855139.setStyle({\"stick\": {}});\n\tviewer_15867569312855139.setBackgroundColor(\"0xeeeeee\");\n\tviewer_15867569312855139.zoomTo();\nviewer_15867569312855139.render();\n});\n</script>",
      "text/html": [
       "<div id=\"3dmolviewer_15867569312855139\"  style=\"position: relative; width: 800px; height: 800px\">\n",
       "        <p id=\"3dmolwarning_15867569312855139\" style=\"background-color:#ffcccc;color:black\">You appear to be running in JupyterLab (or JavaScript failed to load for some other reason).  You need to install the 3dmol extension: <br>\n",
       "        <tt>jupyter labextension install jupyterlab_3dmol</tt></p>\n",
       "        </div>\n",
       "<script>\n",
       "\n",
       "var loadScriptAsync = function(uri){\n",
       "  return new Promise((resolve, reject) => {\n",
       "    var tag = document.createElement('script');\n",
       "    tag.src = uri;\n",
       "    tag.async = true;\n",
       "    tag.onload = () => {\n",
       "      resolve();\n",
       "    };\n",
       "  var firstScriptTag = document.getElementsByTagName('script')[0];\n",
       "  firstScriptTag.parentNode.insertBefore(tag, firstScriptTag);\n",
       "});\n",
       "};\n",
       "\n",
       "if(typeof $3Dmolpromise === 'undefined') {\n",
       "$3Dmolpromise = null;\n",
       "  $3Dmolpromise = loadScriptAsync('https://3dmol.csb.pitt.edu/build/3Dmol.js');\n",
       "}\n",
       "\n",
       "var viewer_15867569312855139 = null;\n",
       "var warn = document.getElementById(\"3dmolwarning_15867569312855139\");\n",
       "if(warn) {\n",
       "    warn.parentNode.removeChild(warn);\n",
       "}\n",
       "$3Dmolpromise.then(function() {\n",
       "viewer_15867569312855139 = $3Dmol.createViewer($(\"#3dmolviewer_15867569312855139\"),{backgroundColor:\"white\"});\n",
       "\tviewer_15867569312855139.removeAllModels();\n",
       "\tviewer_15867569312855139.addModel(\"\\n     RDKit          3D\\n\\n 56 55  0  0  0  0  0  0  0  0999 V2000\\n   -5.4779   -3.4953   -1.3677 C   0  0  0  0  0  0  0  0  0  0  0  0\\n   -4.1134   -2.8777   -1.0993 C   0  0  0  0  0  0  0  0  0  0  0  0\\n   -4.2423   -1.5392   -0.3656 C   0  0  0  0  0  0  0  0  0  0  0  0\\n   -2.8822   -0.9297    0.0516 C   0  0  0  0  0  0  0  0  0  0  0  0\\n   -2.0504   -0.5124   -1.1823 C   0  0  0  0  0  0  0  0  0  0  0  0\\n   -0.6971    0.1489   -0.8913 C   0  0  0  0  0  0  0  0  0  0  0  0\\n    0.2650   -0.7526   -0.1146 C   0  0  0  0  0  0  0  0  0  0  0  0\\n    1.6330   -0.0859    0.0556 C   0  0  0  0  0  0  0  0  0  0  0  0\\n    2.5954   -0.9876    0.8319 C   0  0  0  0  0  0  0  0  0  0  0  0\\n    3.9431   -0.3249    1.1312 C   0  0  0  0  0  0  0  0  0  0  0  0\\n    4.7732   -0.0401   -0.1225 C   0  0  0  0  0  0  0  0  0  0  0  0\\n    6.1531    0.5130    0.2409 C   0  0  0  0  0  0  0  0  0  0  0  0\\n    6.9832    0.8022   -1.0096 C   0  0  0  0  0  0  0  0  0  0  0  0\\n    8.3552    1.3515   -0.6528 C   0  0  0  0  0  0  0  0  0  0  0  0\\n   -3.0936    0.2133    1.0728 C   0  0  0  0  0  0  0  0  0  0  0  0\\n   -3.8252    1.4458    0.5303 C   0  0  0  0  0  0  0  0  0  0  0  0\\n   -3.9730    2.5175    1.6125 C   0  0  0  0  0  0  0  0  0  0  0  0\\n   -4.6986    3.7452    1.0854 C   0  0  0  0  0  0  0  0  0  0  0  0\\n   -5.3655   -4.4472   -1.8960 H   0  0  0  0  0  0  0  0  0  0  0  0\\n   -6.0928   -2.8336   -1.9862 H   0  0  0  0  0  0  0  0  0  0  0  0\\n   -6.0130   -3.6877   -0.4323 H   0  0  0  0  0  0  0  0  0  0  0  0\\n   -3.5159   -3.5754   -0.5015 H   0  0  0  0  0  0  0  0  0  0  0  0\\n   -3.5999   -2.7426   -2.0566 H   0  0  0  0  0  0  0  0  0  0  0  0\\n   -4.8523   -1.6949    0.5335 H   0  0  0  0  0  0  0  0  0  0  0  0\\n   -4.7915   -0.8352   -1.0025 H   0  0  0  0  0  0  0  0  0  0  0  0\\n   -2.3290   -1.7176    0.5800 H   0  0  0  0  0  0  0  0  0  0  0  0\\n   -2.6397    0.1701   -1.8072 H   0  0  0  0  0  0  0  0  0  0  0  0\\n   -1.8574   -1.3953   -1.8031 H   0  0  0  0  0  0  0  0  0  0  0  0\\n   -0.2386    0.4125   -1.8531 H   0  0  0  0  0  0  0  0  0  0  0  0\\n   -0.8410    1.0935   -0.3553 H   0  0  0  0  0  0  0  0  0  0  0  0\\n   -0.1475   -0.9800    0.8745 H   0  0  0  0  0  0  0  0  0  0  0  0\\n    0.3847   -1.7053   -0.6443 H   0  0  0  0  0  0  0  0  0  0  0  0\\n    2.0461    0.1407   -0.9336 H   0  0  0  0  0  0  0  0  0  0  0  0\\n    1.5129    0.8667    0.5854 H   0  0  0  0  0  0  0  0  0  0  0  0\\n    2.1330   -1.2660    1.7871 H   0  0  0  0  0  0  0  0  0  0  0  0\\n    2.7588   -1.9196    0.2773 H   0  0  0  0  0  0  0  0  0  0  0  0\\n    4.5111   -0.9912    1.7925 H   0  0  0  0  0  0  0  0  0  0  0  0\\n    3.7796    0.6064    1.6870 H   0  0  0  0  0  0  0  0  0  0  0  0\\n    4.8892   -0.9625   -0.7043 H   0  0  0  0  0  0  0  0  0  0  0  0\\n    4.2545    0.6843   -0.7602 H   0  0  0  0  0  0  0  0  0  0  0  0\\n    6.0373    1.4333    0.8263 H   0  0  0  0  0  0  0  0  0  0  0  0\\n    6.6835   -0.2084    0.8745 H   0  0  0  0  0  0  0  0  0  0  0  0\\n    6.4601    1.5266   -1.6447 H   0  0  0  0  0  0  0  0  0  0  0  0\\n    7.1048   -0.1157   -1.5965 H   0  0  0  0  0  0  0  0  0  0  0  0\\n    8.9316    1.5512   -1.5615 H   0  0  0  0  0  0  0  0  0  0  0  0\\n    8.2693    2.2878   -0.0923 H   0  0  0  0  0  0  0  0  0  0  0  0\\n    8.9178    0.6365   -0.0439 H   0  0  0  0  0  0  0  0  0  0  0  0\\n   -3.6562   -0.1834    1.9284 H   0  0  0  0  0  0  0  0  0  0  0  0\\n   -2.1228    0.5203    1.4798 H   0  0  0  0  0  0  0  0  0  0  0  0\\n   -4.8199    1.1640    0.1681 H   0  0  0  0  0  0  0  0  0  0  0  0\\n   -3.2773    1.8689   -0.3185 H   0  0  0  0  0  0  0  0  0  0  0  0\\n   -4.5277    2.1110    2.4662 H   0  0  0  0  0  0  0  0  0  0  0  0\\n   -2.9837    2.8150    1.9794 H   0  0  0  0  0  0  0  0  0  0  0  0\\n   -4.1524    4.1953    0.2503 H   0  0  0  0  0  0  0  0  0  0  0  0\\n   -4.7930    4.4976    1.8746 H   0  0  0  0  0  0  0  0  0  0  0  0\\n   -5.7048    3.4878    0.7393 H   0  0  0  0  0  0  0  0  0  0  0  0\\n  1  2  1  0\\n  2  3  1  0\\n  3  4  1  0\\n  4  5  1  0\\n  5  6  1  0\\n  6  7  1  0\\n  7  8  1  0\\n  8  9  1  0\\n  9 10  1  0\\n 10 11  1  0\\n 11 12  1  0\\n 12 13  1  0\\n 13 14  1  0\\n  4 15  1  0\\n 15 16  1  0\\n 16 17  1  0\\n 17 18  1  0\\n  1 19  1  0\\n  1 20  1  0\\n  1 21  1  0\\n  2 22  1  0\\n  2 23  1  0\\n  3 24  1  0\\n  3 25  1  0\\n  4 26  1  0\\n  5 27  1  0\\n  5 28  1  0\\n  6 29  1  0\\n  6 30  1  0\\n  7 31  1  0\\n  7 32  1  0\\n  8 33  1  0\\n  8 34  1  0\\n  9 35  1  0\\n  9 36  1  0\\n 10 37  1  0\\n 10 38  1  0\\n 11 39  1  0\\n 11 40  1  0\\n 12 41  1  0\\n 12 42  1  0\\n 13 43  1  0\\n 13 44  1  0\\n 14 45  1  0\\n 14 46  1  0\\n 14 47  1  0\\n 15 48  1  0\\n 15 49  1  0\\n 16 50  1  0\\n 16 51  1  0\\n 17 52  1  0\\n 17 53  1  0\\n 18 54  1  0\\n 18 55  1  0\\n 18 56  1  0\\nM  END\\n\",\"sdf\");\n",
       "\tviewer_15867569312855139.setStyle({\"stick\": {}});\n",
       "\tviewer_15867569312855139.setBackgroundColor(\"0xeeeeee\");\n",
       "\tviewer_15867569312855139.zoomTo();\n",
       "viewer_15867569312855139.render();\n",
       "});\n",
       "</script>"
      ]
     },
     "metadata": {},
     "output_type": "display_data"
    }
   ],
   "source": [
    "i = 10 \n",
    "\n",
    "cin = 'C' * i\n",
    "m = Chem.MolFromSmiles(f'CCCC({cin})CCCC')\n",
    "m = Chem.rdmolops.AddHs(m)\n",
    "\n",
    "AllChem.EmbedMultipleConfs(m, numConfs=200, numThreads=-1)\n",
    "Chem.AllChem.MMFFOptimizeMoleculeConfs(m, numThreads=-1)\n",
    "\n",
    "\n",
    "confgen = ConformerGeneratorCustom(max_conformers=1, \n",
    "                  force_field='mmff',\n",
    "                 pool_multiplier=1)  \n",
    "\n",
    "energys = confgen.get_conformer_energies(m)\n",
    "argsorted = np.argsort(energys)\n",
    "\n",
    "new = Chem.Mol(mol)\n",
    "new.RemoveAllConformers()\n",
    "conf = m.GetConformer(int(argsorted[0]))\n",
    "new.AddConformer(conf, assignId=True)\n",
    "\n",
    "\n",
    "print(len(TorsionFingerprints.CalculateTorsionLists(m)[0]))\n",
    "standard = energys.min()\n",
    "total = np.sum(np.exp(-(energys-standard)))\n",
    "\n",
    "out = {\n",
    "    'mol': Chem.MolToSmiles(m, isomericSmiles=False),\n",
    "    'standard': standard,\n",
    "    'total': total\n",
    "}\n",
    "\n",
    "\n",
    "import py3Dmol\n",
    "p = py3Dmol.view(width=800,height=800)\n",
    "print(len(TorsionFingerprints.CalculateTorsionLists(m)[0]))\n",
    "drawit(m, p, confId=int(argsorted[0]))\n"
   ]
  },
  {
   "cell_type": "code",
   "execution_count": 7,
   "metadata": {},
   "outputs": [
    {
     "name": "stdout",
     "output_type": "stream",
     "text": [
      "7\n",
      "8\n",
      "9\n",
      "10\n",
      "11\n"
     ]
    }
   ],
   "source": [
    "def create_linear_alkane(i):\n",
    "    m = Chem.MolFromSmiles('C' * i)\n",
    "    m = Chem.rdmolops.AddHs(m)\n",
    "\n",
    "    AllChem.EmbedMultipleConfs(m, numConfs=200, numThreads=-1)\n",
    "    Chem.AllChem.MMFFOptimizeMoleculeConfs(m, numThreads=-1)\n",
    "\n",
    "\n",
    "    confgen = ConformerGeneratorCustom(max_conformers=1, \n",
    "                      force_field='mmff',\n",
    "                     pool_multiplier=1)  \n",
    "\n",
    "    energys = confgen.get_conformer_energies(m)\n",
    "    print(len(TorsionFingerprints.CalculateTorsionLists(m)[0]))\n",
    "    standard = energys.min()\n",
    "    total = np.sum(np.exp(-(energys-standard)))\n",
    "\n",
    "    out = {\n",
    "        'mol': Chem.MolToSmiles(m, isomericSmiles=False),\n",
    "        'standard': standard,\n",
    "        'total': total\n",
    "    }\n",
    "    \n",
    "    return out\n",
    "\n",
    "\n",
    "for i in range(10,15):\n",
    "    out = create_linear_alkane(i)\n",
    "    with open(f'transfer_test_straight_chain/{i}.json', 'w') as fp:\n",
    "        json.dump(out, fp)\n",
    "        "
   ]
  },
  {
   "cell_type": "code",
   "execution_count": 3,
   "metadata": {},
   "outputs": [],
   "source": [
    "def create_branched():\n",
    "    m = Chem.MolFromSmiles('CCCC')\n",
    "    e = Chem.RWMol(m)\n",
    "\n",
    "    numatoms = len(e.GetAtoms())\n",
    "    tot = np.random.choice([15,16,17,18,19,20])\n",
    "    while numatoms < tot:\n",
    "        x = Chem.rdchem.Atom(6)\n",
    "        randidx = np.random.randint(len(e.GetAtoms()))\n",
    "        atom = e.GetAtomWithIdx(randidx)\n",
    "        if atom.GetDegree() > 2:\n",
    "            continue\n",
    "        idx = e.AddAtom(x)\n",
    "        e.AddBond(idx, randidx, Chem.rdchem.BondType.SINGLE)\n",
    "        numatoms = len(e.GetAtoms())\n",
    "\n",
    "\n",
    "    Chem.SanitizeMol(e)\n",
    "    m = Chem.rdmolops.AddHs(e.GetMol())\n",
    "    AllChem.EmbedMultipleConfs(m, numConfs=200, numThreads=-1)\n",
    "    Chem.AllChem.MMFFOptimizeMoleculeConfs(m, numThreads=-1)\n",
    "\n",
    "\n",
    "    confgen = ConformerGeneratorCustom(max_conformers=1, \n",
    "                     rmsd_threshold=None, \n",
    "                     force_field='mmff',\n",
    "                     pool_multiplier=1)  \n",
    "\n",
    "    energys = confgen.get_conformer_energies(m)\n",
    "    print(len(TorsionFingerprints.CalculateTorsionLists(m)[0]))\n",
    "    standard = energys.min()\n",
    "    total = np.sum(np.exp(-(energys-standard)))\n",
    "    \n",
    "    out = {\n",
    "        'mol': Chem.MolToSmiles(m, isomericSmiles=False),\n",
    "        'standard': standard,\n",
    "        'total': total\n",
    "    }\n",
    "    return out"
   ]
  },
  {
   "cell_type": "code",
   "execution_count": null,
   "metadata": {},
   "outputs": [
    {
     "name": "stderr",
     "output_type": "stream",
     "text": [
      "\n",
      "\n",
      "  0%|          | 0/500 [00:00<?, ?it/s]\u001b[A\u001b[A\n",
      "\n",
      "  0%|          | 1/500 [00:07<1:03:41,  7.66s/it]\u001b[A\u001b[A"
     ]
    },
    {
     "name": "stdout",
     "output_type": "stream",
     "text": [
      "8\n"
     ]
    },
    {
     "name": "stderr",
     "output_type": "stream",
     "text": [
      "\n",
      "\n",
      "  0%|          | 2/500 [00:17<1:09:22,  8.36s/it]\u001b[A\u001b[A"
     ]
    },
    {
     "name": "stdout",
     "output_type": "stream",
     "text": [
      "11\n"
     ]
    },
    {
     "name": "stderr",
     "output_type": "stream",
     "text": [
      "\n",
      "\n",
      "  1%|          | 3/500 [00:26<1:09:30,  8.39s/it]\u001b[A\u001b[A"
     ]
    },
    {
     "name": "stdout",
     "output_type": "stream",
     "text": [
      "10\n"
     ]
    },
    {
     "name": "stderr",
     "output_type": "stream",
     "text": [
      "\n",
      "\n",
      "  1%|          | 4/500 [00:31<1:02:21,  7.54s/it]\u001b[A\u001b[A"
     ]
    },
    {
     "name": "stdout",
     "output_type": "stream",
     "text": [
      "9\n"
     ]
    },
    {
     "name": "stderr",
     "output_type": "stream",
     "text": [
      "\n",
      "\n",
      "  1%|          | 5/500 [00:41<1:08:57,  8.36s/it]\u001b[A\u001b[A"
     ]
    },
    {
     "name": "stdout",
     "output_type": "stream",
     "text": [
      "10\n"
     ]
    },
    {
     "name": "stderr",
     "output_type": "stream",
     "text": [
      "\n",
      "\n",
      "  1%|          | 6/500 [00:50<1:08:07,  8.28s/it]\u001b[A\u001b[A"
     ]
    },
    {
     "name": "stdout",
     "output_type": "stream",
     "text": [
      "7\n"
     ]
    },
    {
     "name": "stderr",
     "output_type": "stream",
     "text": [
      "\n",
      "\n",
      "  1%|▏         | 7/500 [00:57<1:05:49,  8.01s/it]\u001b[A\u001b[A"
     ]
    },
    {
     "name": "stdout",
     "output_type": "stream",
     "text": [
      "9\n"
     ]
    },
    {
     "name": "stderr",
     "output_type": "stream",
     "text": [
      "\n",
      "\n",
      "  2%|▏         | 8/500 [01:06<1:08:12,  8.32s/it]\u001b[A\u001b[A"
     ]
    },
    {
     "name": "stdout",
     "output_type": "stream",
     "text": [
      "9\n"
     ]
    },
    {
     "name": "stderr",
     "output_type": "stream",
     "text": [
      "\n",
      "\n",
      "  2%|▏         | 9/500 [01:17<1:15:35,  9.24s/it]\u001b[A\u001b[A"
     ]
    },
    {
     "name": "stdout",
     "output_type": "stream",
     "text": [
      "9\n"
     ]
    },
    {
     "name": "stderr",
     "output_type": "stream",
     "text": [
      "\n",
      "\n",
      "  2%|▏         | 10/500 [01:23<1:06:46,  8.18s/it]\u001b[A\u001b[A"
     ]
    },
    {
     "name": "stdout",
     "output_type": "stream",
     "text": [
      "7\n"
     ]
    },
    {
     "name": "stderr",
     "output_type": "stream",
     "text": [
      "\n",
      "\n",
      "  2%|▏         | 11/500 [01:34<1:13:06,  8.97s/it]\u001b[A\u001b[A"
     ]
    },
    {
     "name": "stdout",
     "output_type": "stream",
     "text": [
      "11\n"
     ]
    },
    {
     "name": "stderr",
     "output_type": "stream",
     "text": [
      "\n",
      "\n",
      "  2%|▏         | 12/500 [01:42<1:11:03,  8.74s/it]\u001b[A\u001b[A"
     ]
    },
    {
     "name": "stdout",
     "output_type": "stream",
     "text": [
      "7\n"
     ]
    },
    {
     "name": "stderr",
     "output_type": "stream",
     "text": [
      "\n",
      "\n",
      "  3%|▎         | 13/500 [01:52<1:13:30,  9.06s/it]\u001b[A\u001b[A"
     ]
    },
    {
     "name": "stdout",
     "output_type": "stream",
     "text": [
      "11\n"
     ]
    },
    {
     "name": "stderr",
     "output_type": "stream",
     "text": [
      "\n",
      "\n",
      "  3%|▎         | 14/500 [01:59<1:09:40,  8.60s/it]\u001b[A\u001b[A"
     ]
    },
    {
     "name": "stdout",
     "output_type": "stream",
     "text": [
      "9\n"
     ]
    },
    {
     "name": "stderr",
     "output_type": "stream",
     "text": [
      "\n",
      "\n",
      "  3%|▎         | 15/500 [02:05<1:02:06,  7.68s/it]\u001b[A\u001b[A"
     ]
    },
    {
     "name": "stdout",
     "output_type": "stream",
     "text": [
      "7\n"
     ]
    },
    {
     "name": "stderr",
     "output_type": "stream",
     "text": [
      "\n",
      "\n",
      "  3%|▎         | 16/500 [02:12<59:44,  7.41s/it]  \u001b[A\u001b[A"
     ]
    },
    {
     "name": "stdout",
     "output_type": "stream",
     "text": [
      "8\n"
     ]
    },
    {
     "name": "stderr",
     "output_type": "stream",
     "text": [
      "\n",
      "\n",
      "  3%|▎         | 17/500 [02:20<1:01:35,  7.65s/it]\u001b[A\u001b[A"
     ]
    },
    {
     "name": "stdout",
     "output_type": "stream",
     "text": [
      "7\n"
     ]
    },
    {
     "name": "stderr",
     "output_type": "stream",
     "text": [
      "\n",
      "\n",
      "  4%|▎         | 18/500 [02:25<56:04,  6.98s/it]  \u001b[A\u001b[A"
     ]
    },
    {
     "name": "stdout",
     "output_type": "stream",
     "text": [
      "8\n"
     ]
    },
    {
     "name": "stderr",
     "output_type": "stream",
     "text": [
      "\n",
      "\n",
      "  4%|▍         | 19/500 [02:32<55:00,  6.86s/it]\u001b[A\u001b[A"
     ]
    },
    {
     "name": "stdout",
     "output_type": "stream",
     "text": [
      "9\n"
     ]
    },
    {
     "name": "stderr",
     "output_type": "stream",
     "text": [
      "\n",
      "\n",
      "  4%|▍         | 20/500 [02:40<57:19,  7.17s/it]\u001b[A\u001b[A"
     ]
    },
    {
     "name": "stdout",
     "output_type": "stream",
     "text": [
      "8\n"
     ]
    },
    {
     "name": "stderr",
     "output_type": "stream",
     "text": [
      "\n",
      "\n",
      "  4%|▍         | 21/500 [02:46<55:32,  6.96s/it]\u001b[A\u001b[A"
     ]
    },
    {
     "name": "stdout",
     "output_type": "stream",
     "text": [
      "9\n"
     ]
    },
    {
     "name": "stderr",
     "output_type": "stream",
     "text": [
      "\n",
      "\n",
      "  4%|▍         | 22/500 [02:53<55:10,  6.93s/it]\u001b[A\u001b[A"
     ]
    },
    {
     "name": "stdout",
     "output_type": "stream",
     "text": [
      "7\n"
     ]
    },
    {
     "name": "stderr",
     "output_type": "stream",
     "text": [
      "\n",
      "\n",
      "  5%|▍         | 23/500 [03:04<1:03:59,  8.05s/it]\u001b[A\u001b[A"
     ]
    },
    {
     "name": "stdout",
     "output_type": "stream",
     "text": [
      "12\n"
     ]
    },
    {
     "name": "stderr",
     "output_type": "stream",
     "text": [
      "\n",
      "\n",
      "  5%|▍         | 24/500 [03:13<1:07:43,  8.54s/it]\u001b[A\u001b[A"
     ]
    },
    {
     "name": "stdout",
     "output_type": "stream",
     "text": [
      "10\n"
     ]
    },
    {
     "name": "stderr",
     "output_type": "stream",
     "text": [
      "\n",
      "\n",
      "  5%|▌         | 25/500 [03:25<1:13:58,  9.34s/it]\u001b[A\u001b[A"
     ]
    },
    {
     "name": "stdout",
     "output_type": "stream",
     "text": [
      "10\n"
     ]
    },
    {
     "name": "stderr",
     "output_type": "stream",
     "text": [
      "\n",
      "\n",
      "  5%|▌         | 26/500 [03:35<1:16:01,  9.62s/it]\u001b[A\u001b[A"
     ]
    },
    {
     "name": "stdout",
     "output_type": "stream",
     "text": [
      "11\n"
     ]
    },
    {
     "name": "stderr",
     "output_type": "stream",
     "text": [
      "\n",
      "\n",
      "  5%|▌         | 27/500 [03:46<1:19:51, 10.13s/it]\u001b[A\u001b[A"
     ]
    },
    {
     "name": "stdout",
     "output_type": "stream",
     "text": [
      "10\n"
     ]
    },
    {
     "name": "stderr",
     "output_type": "stream",
     "text": [
      "\n",
      "\n",
      "  6%|▌         | 28/500 [03:56<1:19:16, 10.08s/it]\u001b[A\u001b[A"
     ]
    },
    {
     "name": "stdout",
     "output_type": "stream",
     "text": [
      "10\n"
     ]
    },
    {
     "name": "stderr",
     "output_type": "stream",
     "text": [
      "\n",
      "\n",
      "  6%|▌         | 29/500 [04:03<1:11:15,  9.08s/it]\u001b[A\u001b[A"
     ]
    },
    {
     "name": "stdout",
     "output_type": "stream",
     "text": [
      "7\n"
     ]
    },
    {
     "name": "stderr",
     "output_type": "stream",
     "text": [
      "\n",
      "\n",
      "  6%|▌         | 30/500 [04:14<1:15:14,  9.61s/it]\u001b[A\u001b[A"
     ]
    },
    {
     "name": "stdout",
     "output_type": "stream",
     "text": [
      "10\n"
     ]
    },
    {
     "name": "stderr",
     "output_type": "stream",
     "text": [
      "\n",
      "\n",
      "  6%|▌         | 31/500 [04:19<1:05:37,  8.39s/it]\u001b[A\u001b[A"
     ]
    },
    {
     "name": "stdout",
     "output_type": "stream",
     "text": [
      "7\n"
     ]
    },
    {
     "name": "stderr",
     "output_type": "stream",
     "text": [
      "\n",
      "\n",
      "  6%|▋         | 32/500 [04:30<1:10:50,  9.08s/it]\u001b[A\u001b[A"
     ]
    },
    {
     "name": "stdout",
     "output_type": "stream",
     "text": [
      "13\n"
     ]
    },
    {
     "name": "stderr",
     "output_type": "stream",
     "text": [
      "\n",
      "\n",
      "  7%|▋         | 33/500 [04:37<1:06:46,  8.58s/it]\u001b[A\u001b[A"
     ]
    },
    {
     "name": "stdout",
     "output_type": "stream",
     "text": [
      "9\n"
     ]
    },
    {
     "name": "stderr",
     "output_type": "stream",
     "text": [
      "\n",
      "\n",
      "  7%|▋         | 34/500 [04:44<1:01:39,  7.94s/it]\u001b[A\u001b[A"
     ]
    },
    {
     "name": "stdout",
     "output_type": "stream",
     "text": [
      "9\n"
     ]
    },
    {
     "name": "stderr",
     "output_type": "stream",
     "text": [
      "\n",
      "\n",
      "  7%|▋         | 35/500 [04:50<56:11,  7.25s/it]  \u001b[A\u001b[A"
     ]
    },
    {
     "name": "stdout",
     "output_type": "stream",
     "text": [
      "7\n"
     ]
    },
    {
     "name": "stderr",
     "output_type": "stream",
     "text": [
      "\n",
      "\n",
      "  7%|▋         | 36/500 [04:58<59:06,  7.64s/it]\u001b[A\u001b[A"
     ]
    },
    {
     "name": "stdout",
     "output_type": "stream",
     "text": [
      "8\n"
     ]
    },
    {
     "name": "stderr",
     "output_type": "stream",
     "text": [
      "\n",
      "\n",
      "  7%|▋         | 37/500 [05:04<54:44,  7.09s/it]\u001b[A\u001b[A"
     ]
    },
    {
     "name": "stdout",
     "output_type": "stream",
     "text": [
      "7\n"
     ]
    },
    {
     "name": "stderr",
     "output_type": "stream",
     "text": [
      "\n",
      "\n",
      "  8%|▊         | 38/500 [05:13<58:38,  7.62s/it]\u001b[A\u001b[A"
     ]
    },
    {
     "name": "stdout",
     "output_type": "stream",
     "text": [
      "9\n"
     ]
    },
    {
     "name": "stderr",
     "output_type": "stream",
     "text": [
      "\n",
      "\n",
      "  8%|▊         | 39/500 [05:20<58:45,  7.65s/it]\u001b[A\u001b[A"
     ]
    },
    {
     "name": "stdout",
     "output_type": "stream",
     "text": [
      "9\n"
     ]
    },
    {
     "name": "stderr",
     "output_type": "stream",
     "text": [
      "\n",
      "\n",
      "  8%|▊         | 40/500 [05:33<1:08:46,  8.97s/it]\u001b[A\u001b[A"
     ]
    },
    {
     "name": "stdout",
     "output_type": "stream",
     "text": [
      "9\n"
     ]
    },
    {
     "name": "stderr",
     "output_type": "stream",
     "text": [
      "\n",
      "\n",
      "  8%|▊         | 41/500 [05:42<1:09:57,  9.14s/it]\u001b[A\u001b[A"
     ]
    },
    {
     "name": "stdout",
     "output_type": "stream",
     "text": [
      "12\n"
     ]
    },
    {
     "name": "stderr",
     "output_type": "stream",
     "text": [
      "\n",
      "\n",
      "  8%|▊         | 42/500 [05:49<1:04:35,  8.46s/it]\u001b[A\u001b[A"
     ]
    },
    {
     "name": "stdout",
     "output_type": "stream",
     "text": [
      "9\n"
     ]
    },
    {
     "name": "stderr",
     "output_type": "stream",
     "text": [
      "\n",
      "\n",
      "  9%|▊         | 43/500 [05:57<1:02:48,  8.25s/it]\u001b[A\u001b[A"
     ]
    },
    {
     "name": "stdout",
     "output_type": "stream",
     "text": [
      "9\n"
     ]
    },
    {
     "name": "stderr",
     "output_type": "stream",
     "text": [
      "\n",
      "\n",
      "  9%|▉         | 44/500 [06:03<58:41,  7.72s/it]  \u001b[A\u001b[A"
     ]
    },
    {
     "name": "stdout",
     "output_type": "stream",
     "text": [
      "9\n"
     ]
    },
    {
     "name": "stderr",
     "output_type": "stream",
     "text": [
      "\n",
      "\n",
      "  9%|▉         | 45/500 [06:12<1:00:28,  7.98s/it]\u001b[A\u001b[A"
     ]
    },
    {
     "name": "stdout",
     "output_type": "stream",
     "text": [
      "10\n"
     ]
    },
    {
     "name": "stderr",
     "output_type": "stream",
     "text": [
      "\n",
      "\n",
      "  9%|▉         | 46/500 [06:23<1:07:50,  8.97s/it]\u001b[A\u001b[A"
     ]
    },
    {
     "name": "stdout",
     "output_type": "stream",
     "text": [
      "10\n"
     ]
    },
    {
     "name": "stderr",
     "output_type": "stream",
     "text": [
      "\n",
      "\n",
      "  9%|▉         | 47/500 [06:31<1:04:42,  8.57s/it]\u001b[A\u001b[A"
     ]
    },
    {
     "name": "stdout",
     "output_type": "stream",
     "text": [
      "9\n"
     ]
    },
    {
     "name": "stderr",
     "output_type": "stream",
     "text": [
      "\n",
      "\n",
      " 10%|▉         | 48/500 [06:42<1:11:25,  9.48s/it]\u001b[A\u001b[A"
     ]
    },
    {
     "name": "stdout",
     "output_type": "stream",
     "text": [
      "12\n"
     ]
    },
    {
     "name": "stderr",
     "output_type": "stream",
     "text": [
      "\n",
      "\n",
      " 10%|▉         | 49/500 [06:52<1:11:46,  9.55s/it]\u001b[A\u001b[A"
     ]
    },
    {
     "name": "stdout",
     "output_type": "stream",
     "text": [
      "9\n"
     ]
    },
    {
     "name": "stderr",
     "output_type": "stream",
     "text": [
      "\n",
      "\n",
      " 10%|█         | 50/500 [07:01<1:10:24,  9.39s/it]\u001b[A\u001b[A"
     ]
    },
    {
     "name": "stdout",
     "output_type": "stream",
     "text": [
      "9\n"
     ]
    },
    {
     "name": "stderr",
     "output_type": "stream",
     "text": [
      "\n",
      "\n",
      " 10%|█         | 51/500 [07:13<1:15:09, 10.04s/it]\u001b[A\u001b[A"
     ]
    },
    {
     "name": "stdout",
     "output_type": "stream",
     "text": [
      "10\n"
     ]
    },
    {
     "name": "stderr",
     "output_type": "stream",
     "text": [
      "\n",
      "\n",
      " 10%|█         | 52/500 [07:21<1:11:03,  9.52s/it]\u001b[A\u001b[A"
     ]
    },
    {
     "name": "stdout",
     "output_type": "stream",
     "text": [
      "8\n"
     ]
    },
    {
     "name": "stderr",
     "output_type": "stream",
     "text": [
      "\n",
      "\n",
      " 11%|█         | 53/500 [07:30<1:09:18,  9.30s/it]\u001b[A\u001b[A"
     ]
    },
    {
     "name": "stdout",
     "output_type": "stream",
     "text": [
      "10\n"
     ]
    },
    {
     "name": "stderr",
     "output_type": "stream",
     "text": [
      "\n",
      "\n",
      " 11%|█         | 54/500 [07:39<1:08:30,  9.22s/it]\u001b[A\u001b[A"
     ]
    },
    {
     "name": "stdout",
     "output_type": "stream",
     "text": [
      "11\n"
     ]
    },
    {
     "name": "stderr",
     "output_type": "stream",
     "text": [
      "\n",
      "\n",
      " 11%|█         | 55/500 [07:47<1:05:26,  8.82s/it]\u001b[A\u001b[A"
     ]
    },
    {
     "name": "stdout",
     "output_type": "stream",
     "text": [
      "9\n"
     ]
    },
    {
     "name": "stderr",
     "output_type": "stream",
     "text": [
      "\n",
      "\n",
      " 11%|█         | 56/500 [07:52<57:46,  7.81s/it]  \u001b[A\u001b[A"
     ]
    },
    {
     "name": "stdout",
     "output_type": "stream",
     "text": [
      "7\n"
     ]
    },
    {
     "name": "stderr",
     "output_type": "stream",
     "text": [
      "\n",
      "\n",
      " 11%|█▏        | 57/500 [08:03<1:04:57,  8.80s/it]\u001b[A\u001b[A"
     ]
    },
    {
     "name": "stdout",
     "output_type": "stream",
     "text": [
      "12\n"
     ]
    },
    {
     "name": "stderr",
     "output_type": "stream",
     "text": [
      "\n",
      "\n",
      " 12%|█▏        | 58/500 [08:13<1:07:51,  9.21s/it]\u001b[A\u001b[A"
     ]
    },
    {
     "name": "stdout",
     "output_type": "stream",
     "text": [
      "9\n"
     ]
    },
    {
     "name": "stderr",
     "output_type": "stream",
     "text": [
      "\n",
      "\n",
      " 12%|█▏        | 59/500 [08:22<1:06:15,  9.01s/it]\u001b[A\u001b[A"
     ]
    },
    {
     "name": "stdout",
     "output_type": "stream",
     "text": [
      "10\n"
     ]
    },
    {
     "name": "stderr",
     "output_type": "stream",
     "text": [
      "\n",
      "\n",
      " 12%|█▏        | 60/500 [08:33<1:11:26,  9.74s/it]\u001b[A\u001b[A"
     ]
    },
    {
     "name": "stdout",
     "output_type": "stream",
     "text": [
      "10\n"
     ]
    },
    {
     "name": "stderr",
     "output_type": "stream",
     "text": [
      "\n",
      "\n",
      " 12%|█▏        | 61/500 [08:40<1:04:40,  8.84s/it]\u001b[A\u001b[A"
     ]
    },
    {
     "name": "stdout",
     "output_type": "stream",
     "text": [
      "7\n"
     ]
    },
    {
     "name": "stderr",
     "output_type": "stream",
     "text": [
      "\n",
      "\n",
      " 12%|█▏        | 62/500 [08:46<57:49,  7.92s/it]  \u001b[A\u001b[A"
     ]
    },
    {
     "name": "stdout",
     "output_type": "stream",
     "text": [
      "7\n"
     ]
    },
    {
     "name": "stderr",
     "output_type": "stream",
     "text": [
      "\n",
      "\n",
      " 13%|█▎        | 63/500 [08:55<59:24,  8.16s/it]\u001b[A\u001b[A"
     ]
    },
    {
     "name": "stdout",
     "output_type": "stream",
     "text": [
      "8\n"
     ]
    },
    {
     "name": "stderr",
     "output_type": "stream",
     "text": [
      "\n",
      "\n",
      " 13%|█▎        | 64/500 [09:05<1:03:44,  8.77s/it]\u001b[A\u001b[A"
     ]
    },
    {
     "name": "stdout",
     "output_type": "stream",
     "text": [
      "10\n"
     ]
    },
    {
     "name": "stderr",
     "output_type": "stream",
     "text": [
      "\n",
      "\n",
      " 13%|█▎        | 65/500 [09:15<1:06:32,  9.18s/it]\u001b[A\u001b[A"
     ]
    },
    {
     "name": "stdout",
     "output_type": "stream",
     "text": [
      "9\n"
     ]
    },
    {
     "name": "stderr",
     "output_type": "stream",
     "text": [
      "\n",
      "\n",
      " 13%|█▎        | 66/500 [09:26<1:10:27,  9.74s/it]\u001b[A\u001b[A"
     ]
    },
    {
     "name": "stdout",
     "output_type": "stream",
     "text": [
      "10\n"
     ]
    },
    {
     "name": "stderr",
     "output_type": "stream",
     "text": [
      "\n",
      "\n",
      " 13%|█▎        | 67/500 [09:33<1:05:08,  9.03s/it]\u001b[A\u001b[A"
     ]
    },
    {
     "name": "stdout",
     "output_type": "stream",
     "text": [
      "9\n"
     ]
    },
    {
     "name": "stderr",
     "output_type": "stream",
     "text": [
      "\n",
      "\n",
      " 14%|█▎        | 68/500 [09:39<57:56,  8.05s/it]  \u001b[A\u001b[A"
     ]
    },
    {
     "name": "stdout",
     "output_type": "stream",
     "text": [
      "8\n"
     ]
    },
    {
     "name": "stderr",
     "output_type": "stream",
     "text": [
      "\n",
      "\n",
      " 14%|█▍        | 69/500 [09:45<52:25,  7.30s/it]\u001b[A\u001b[A"
     ]
    },
    {
     "name": "stdout",
     "output_type": "stream",
     "text": [
      "8\n"
     ]
    },
    {
     "name": "stderr",
     "output_type": "stream",
     "text": [
      "\n",
      "\n",
      " 14%|█▍        | 70/500 [09:51<51:11,  7.14s/it]\u001b[A\u001b[A"
     ]
    },
    {
     "name": "stdout",
     "output_type": "stream",
     "text": [
      "8\n"
     ]
    },
    {
     "name": "stderr",
     "output_type": "stream",
     "text": [
      "\n",
      "\n",
      " 14%|█▍        | 71/500 [10:02<59:01,  8.25s/it]\u001b[A\u001b[A"
     ]
    },
    {
     "name": "stdout",
     "output_type": "stream",
     "text": [
      "11\n"
     ]
    },
    {
     "name": "stderr",
     "output_type": "stream",
     "text": [
      "\n",
      "\n",
      " 14%|█▍        | 72/500 [10:14<1:05:29,  9.18s/it]\u001b[A\u001b[A"
     ]
    },
    {
     "name": "stdout",
     "output_type": "stream",
     "text": [
      "10\n"
     ]
    },
    {
     "name": "stderr",
     "output_type": "stream",
     "text": [
      "\n",
      "\n",
      " 15%|█▍        | 73/500 [10:22<1:04:25,  9.05s/it]\u001b[A\u001b[A"
     ]
    },
    {
     "name": "stdout",
     "output_type": "stream",
     "text": [
      "9\n"
     ]
    },
    {
     "name": "stderr",
     "output_type": "stream",
     "text": [
      "\n",
      "\n",
      " 15%|█▍        | 74/500 [10:32<1:05:00,  9.16s/it]\u001b[A\u001b[A"
     ]
    },
    {
     "name": "stdout",
     "output_type": "stream",
     "text": [
      "12\n"
     ]
    },
    {
     "name": "stderr",
     "output_type": "stream",
     "text": [
      "\n",
      "\n",
      " 15%|█▌        | 75/500 [10:37<57:22,  8.10s/it]  \u001b[A\u001b[A"
     ]
    },
    {
     "name": "stdout",
     "output_type": "stream",
     "text": [
      "9\n"
     ]
    },
    {
     "name": "stderr",
     "output_type": "stream",
     "text": [
      "\n",
      "\n",
      " 15%|█▌        | 76/500 [10:49<1:04:26,  9.12s/it]\u001b[A\u001b[A"
     ]
    },
    {
     "name": "stdout",
     "output_type": "stream",
     "text": [
      "10\n"
     ]
    },
    {
     "name": "stderr",
     "output_type": "stream",
     "text": [
      "\n",
      "\n",
      " 15%|█▌        | 77/500 [10:57<1:02:52,  8.92s/it]\u001b[A\u001b[A"
     ]
    },
    {
     "name": "stdout",
     "output_type": "stream",
     "text": [
      "11\n"
     ]
    },
    {
     "name": "stderr",
     "output_type": "stream",
     "text": [
      "\n",
      "\n",
      " 16%|█▌        | 78/500 [11:07<1:04:35,  9.18s/it]\u001b[A\u001b[A"
     ]
    },
    {
     "name": "stdout",
     "output_type": "stream",
     "text": [
      "10\n"
     ]
    },
    {
     "name": "stderr",
     "output_type": "stream",
     "text": [
      "\n",
      "\n",
      " 16%|█▌        | 79/500 [11:13<56:45,  8.09s/it]  \u001b[A\u001b[A"
     ]
    },
    {
     "name": "stdout",
     "output_type": "stream",
     "text": [
      "9\n"
     ]
    },
    {
     "name": "stderr",
     "output_type": "stream",
     "text": [
      "\n",
      "\n",
      " 16%|█▌        | 80/500 [11:24<1:03:01,  9.00s/it]\u001b[A\u001b[A"
     ]
    },
    {
     "name": "stdout",
     "output_type": "stream",
     "text": [
      "12\n"
     ]
    },
    {
     "name": "stderr",
     "output_type": "stream",
     "text": [
      "\n",
      "\n",
      " 16%|█▌        | 81/500 [11:31<1:00:04,  8.60s/it]\u001b[A\u001b[A"
     ]
    },
    {
     "name": "stdout",
     "output_type": "stream",
     "text": [
      "9\n"
     ]
    },
    {
     "name": "stderr",
     "output_type": "stream",
     "text": [
      "\n",
      "\n",
      " 16%|█▋        | 82/500 [11:39<57:53,  8.31s/it]  \u001b[A\u001b[A"
     ]
    },
    {
     "name": "stdout",
     "output_type": "stream",
     "text": [
      "9\n"
     ]
    },
    {
     "name": "stderr",
     "output_type": "stream",
     "text": [
      "\n",
      "\n",
      " 17%|█▋        | 83/500 [11:48<58:11,  8.37s/it]\u001b[A\u001b[A"
     ]
    },
    {
     "name": "stdout",
     "output_type": "stream",
     "text": [
      "9\n"
     ]
    },
    {
     "name": "stderr",
     "output_type": "stream",
     "text": [
      "\n",
      "\n",
      " 17%|█▋        | 84/500 [11:57<1:01:09,  8.82s/it]\u001b[A\u001b[A"
     ]
    },
    {
     "name": "stdout",
     "output_type": "stream",
     "text": [
      "11\n"
     ]
    },
    {
     "name": "stderr",
     "output_type": "stream",
     "text": [
      "\n",
      "\n",
      " 17%|█▋        | 85/500 [12:05<58:10,  8.41s/it]  \u001b[A\u001b[A"
     ]
    },
    {
     "name": "stdout",
     "output_type": "stream",
     "text": [
      "8\n"
     ]
    },
    {
     "name": "stderr",
     "output_type": "stream",
     "text": [
      "\n",
      "\n",
      " 17%|█▋        | 86/500 [12:17<1:04:55,  9.41s/it]\u001b[A\u001b[A"
     ]
    },
    {
     "name": "stdout",
     "output_type": "stream",
     "text": [
      "11\n"
     ]
    },
    {
     "name": "stderr",
     "output_type": "stream",
     "text": [
      "\n",
      "\n",
      " 17%|█▋        | 87/500 [12:24<59:36,  8.66s/it]  \u001b[A\u001b[A"
     ]
    },
    {
     "name": "stdout",
     "output_type": "stream",
     "text": [
      "7\n"
     ]
    },
    {
     "name": "stderr",
     "output_type": "stream",
     "text": [
      "\n",
      "\n",
      " 18%|█▊        | 88/500 [12:30<55:02,  8.01s/it]\u001b[A\u001b[A"
     ]
    },
    {
     "name": "stdout",
     "output_type": "stream",
     "text": [
      "8\n"
     ]
    },
    {
     "name": "stderr",
     "output_type": "stream",
     "text": [
      "\n",
      "\n",
      " 18%|█▊        | 89/500 [12:37<52:07,  7.61s/it]\u001b[A\u001b[A"
     ]
    },
    {
     "name": "stdout",
     "output_type": "stream",
     "text": [
      "9\n"
     ]
    },
    {
     "name": "stderr",
     "output_type": "stream",
     "text": [
      "\n",
      "\n",
      " 18%|█▊        | 90/500 [12:42<47:24,  6.94s/it]\u001b[A\u001b[A"
     ]
    },
    {
     "name": "stdout",
     "output_type": "stream",
     "text": [
      "9\n"
     ]
    },
    {
     "name": "stderr",
     "output_type": "stream",
     "text": [
      "\n",
      "\n",
      " 18%|█▊        | 91/500 [12:48<44:15,  6.49s/it]\u001b[A\u001b[A"
     ]
    },
    {
     "name": "stdout",
     "output_type": "stream",
     "text": [
      "9\n"
     ]
    },
    {
     "name": "stderr",
     "output_type": "stream",
     "text": [
      "\n",
      "\n",
      " 18%|█▊        | 92/500 [12:56<48:03,  7.07s/it]\u001b[A\u001b[A"
     ]
    },
    {
     "name": "stdout",
     "output_type": "stream",
     "text": [
      "10\n"
     ]
    },
    {
     "name": "stderr",
     "output_type": "stream",
     "text": [
      "\n",
      "\n",
      " 19%|█▊        | 93/500 [13:03<47:59,  7.07s/it]\u001b[A\u001b[A"
     ]
    },
    {
     "name": "stdout",
     "output_type": "stream",
     "text": [
      "10\n"
     ]
    },
    {
     "name": "stderr",
     "output_type": "stream",
     "text": [
      "\n",
      "\n",
      " 19%|█▉        | 94/500 [13:09<44:33,  6.59s/it]\u001b[A\u001b[A"
     ]
    },
    {
     "name": "stdout",
     "output_type": "stream",
     "text": [
      "8\n"
     ]
    },
    {
     "name": "stderr",
     "output_type": "stream",
     "text": [
      "\n",
      "\n",
      " 19%|█▉        | 95/500 [13:15<44:20,  6.57s/it]\u001b[A\u001b[A"
     ]
    },
    {
     "name": "stdout",
     "output_type": "stream",
     "text": [
      "8\n"
     ]
    },
    {
     "name": "stderr",
     "output_type": "stream",
     "text": [
      "\n",
      "\n",
      " 19%|█▉        | 96/500 [13:25<50:46,  7.54s/it]\u001b[A\u001b[A"
     ]
    },
    {
     "name": "stdout",
     "output_type": "stream",
     "text": [
      "10\n"
     ]
    },
    {
     "name": "stderr",
     "output_type": "stream",
     "text": [
      "\n",
      "\n",
      " 19%|█▉        | 97/500 [13:36<58:49,  8.76s/it]\u001b[A\u001b[A"
     ]
    },
    {
     "name": "stdout",
     "output_type": "stream",
     "text": [
      "9\n"
     ]
    },
    {
     "name": "stderr",
     "output_type": "stream",
     "text": [
      "\n",
      "\n",
      " 20%|█▉        | 98/500 [13:42<52:37,  7.85s/it]\u001b[A\u001b[A"
     ]
    },
    {
     "name": "stdout",
     "output_type": "stream",
     "text": [
      "7\n"
     ]
    },
    {
     "name": "stderr",
     "output_type": "stream",
     "text": [
      "\n",
      "\n",
      " 20%|█▉        | 99/500 [13:52<56:00,  8.38s/it]\u001b[A\u001b[A"
     ]
    },
    {
     "name": "stdout",
     "output_type": "stream",
     "text": [
      "9\n"
     ]
    },
    {
     "name": "stderr",
     "output_type": "stream",
     "text": [
      "\n",
      "\n",
      " 20%|██        | 100/500 [14:02<58:51,  8.83s/it]\u001b[A\u001b[A"
     ]
    },
    {
     "name": "stdout",
     "output_type": "stream",
     "text": [
      "11\n"
     ]
    },
    {
     "name": "stderr",
     "output_type": "stream",
     "text": [
      "\n",
      "\n",
      " 20%|██        | 101/500 [14:10<58:18,  8.77s/it]\u001b[A\u001b[A"
     ]
    },
    {
     "name": "stdout",
     "output_type": "stream",
     "text": [
      "11\n"
     ]
    },
    {
     "name": "stderr",
     "output_type": "stream",
     "text": [
      "\n",
      "\n",
      " 20%|██        | 102/500 [14:20<1:00:38,  9.14s/it]\u001b[A\u001b[A"
     ]
    },
    {
     "name": "stdout",
     "output_type": "stream",
     "text": [
      "10\n"
     ]
    },
    {
     "name": "stderr",
     "output_type": "stream",
     "text": [
      "\n",
      "\n",
      " 21%|██        | 103/500 [14:26<53:43,  8.12s/it]  \u001b[A\u001b[A"
     ]
    },
    {
     "name": "stdout",
     "output_type": "stream",
     "text": [
      "7\n"
     ]
    },
    {
     "name": "stderr",
     "output_type": "stream",
     "text": [
      "\n",
      "\n",
      " 21%|██        | 104/500 [14:36<57:18,  8.68s/it]\u001b[A\u001b[A"
     ]
    },
    {
     "name": "stdout",
     "output_type": "stream",
     "text": [
      "9\n"
     ]
    },
    {
     "name": "stderr",
     "output_type": "stream",
     "text": [
      "\n",
      "\n",
      " 21%|██        | 105/500 [14:47<1:02:13,  9.45s/it]\u001b[A\u001b[A"
     ]
    },
    {
     "name": "stdout",
     "output_type": "stream",
     "text": [
      "11\n"
     ]
    },
    {
     "name": "stderr",
     "output_type": "stream",
     "text": [
      "\n",
      "\n",
      " 21%|██        | 106/500 [14:53<54:32,  8.31s/it]  \u001b[A\u001b[A"
     ]
    },
    {
     "name": "stdout",
     "output_type": "stream",
     "text": [
      "7\n"
     ]
    },
    {
     "name": "stderr",
     "output_type": "stream",
     "text": [
      "\n",
      "\n",
      " 21%|██▏       | 107/500 [15:04<59:50,  9.14s/it]\u001b[A\u001b[A"
     ]
    },
    {
     "name": "stdout",
     "output_type": "stream",
     "text": [
      "10\n"
     ]
    },
    {
     "name": "stderr",
     "output_type": "stream",
     "text": [
      "\n",
      "\n",
      " 22%|██▏       | 108/500 [15:10<52:53,  8.10s/it]\u001b[A\u001b[A"
     ]
    },
    {
     "name": "stdout",
     "output_type": "stream",
     "text": [
      "7\n"
     ]
    },
    {
     "name": "stderr",
     "output_type": "stream",
     "text": [
      "\n",
      "\n",
      " 22%|██▏       | 109/500 [15:16<49:54,  7.66s/it]\u001b[A\u001b[A"
     ]
    },
    {
     "name": "stdout",
     "output_type": "stream",
     "text": [
      "8\n"
     ]
    },
    {
     "name": "stderr",
     "output_type": "stream",
     "text": [
      "\n",
      "\n",
      " 22%|██▏       | 110/500 [15:24<49:44,  7.65s/it]\u001b[A\u001b[A"
     ]
    },
    {
     "name": "stdout",
     "output_type": "stream",
     "text": [
      "8\n"
     ]
    },
    {
     "name": "stderr",
     "output_type": "stream",
     "text": [
      "\n",
      "\n",
      " 22%|██▏       | 111/500 [15:35<56:53,  8.78s/it]\u001b[A\u001b[A"
     ]
    },
    {
     "name": "stdout",
     "output_type": "stream",
     "text": [
      "9\n"
     ]
    },
    {
     "name": "stderr",
     "output_type": "stream",
     "text": [
      "\n",
      "\n",
      " 22%|██▏       | 112/500 [15:47<1:01:23,  9.49s/it]\u001b[A\u001b[A"
     ]
    },
    {
     "name": "stdout",
     "output_type": "stream",
     "text": [
      "11\n"
     ]
    },
    {
     "name": "stderr",
     "output_type": "stream",
     "text": [
      "\n",
      "\n",
      " 23%|██▎       | 113/500 [15:55<59:57,  9.29s/it]  \u001b[A\u001b[A"
     ]
    },
    {
     "name": "stdout",
     "output_type": "stream",
     "text": [
      "9\n"
     ]
    },
    {
     "name": "stderr",
     "output_type": "stream",
     "text": [
      "\n",
      "\n",
      " 23%|██▎       | 114/500 [16:05<1:01:21,  9.54s/it]\u001b[A\u001b[A"
     ]
    },
    {
     "name": "stdout",
     "output_type": "stream",
     "text": [
      "10\n"
     ]
    },
    {
     "name": "stderr",
     "output_type": "stream",
     "text": [
      "\n",
      "\n",
      " 23%|██▎       | 115/500 [16:12<55:27,  8.64s/it]  \u001b[A\u001b[A"
     ]
    },
    {
     "name": "stdout",
     "output_type": "stream",
     "text": [
      "8\n"
     ]
    },
    {
     "name": "stderr",
     "output_type": "stream",
     "text": [
      "\n",
      "\n",
      " 23%|██▎       | 116/500 [16:19<51:18,  8.02s/it]\u001b[A\u001b[A"
     ]
    },
    {
     "name": "stdout",
     "output_type": "stream",
     "text": [
      "8\n"
     ]
    },
    {
     "name": "stderr",
     "output_type": "stream",
     "text": [
      "\n",
      "\n",
      " 23%|██▎       | 117/500 [16:25<48:13,  7.56s/it]\u001b[A\u001b[A"
     ]
    },
    {
     "name": "stdout",
     "output_type": "stream",
     "text": [
      "8\n"
     ]
    },
    {
     "name": "stderr",
     "output_type": "stream",
     "text": [
      "\n",
      "\n",
      " 24%|██▎       | 118/500 [16:35<52:55,  8.31s/it]\u001b[A\u001b[A"
     ]
    },
    {
     "name": "stdout",
     "output_type": "stream",
     "text": [
      "10\n"
     ]
    },
    {
     "name": "stderr",
     "output_type": "stream",
     "text": [
      "\n",
      "\n",
      " 24%|██▍       | 119/500 [16:41<47:53,  7.54s/it]\u001b[A\u001b[A"
     ]
    },
    {
     "name": "stdout",
     "output_type": "stream",
     "text": [
      "8\n"
     ]
    },
    {
     "name": "stderr",
     "output_type": "stream",
     "text": [
      "\n",
      "\n",
      " 24%|██▍       | 120/500 [16:51<51:53,  8.19s/it]\u001b[A\u001b[A"
     ]
    },
    {
     "name": "stdout",
     "output_type": "stream",
     "text": [
      "11\n"
     ]
    },
    {
     "name": "stderr",
     "output_type": "stream",
     "text": [
      "\n",
      "\n",
      " 24%|██▍       | 121/500 [16:56<46:41,  7.39s/it]\u001b[A\u001b[A"
     ]
    },
    {
     "name": "stdout",
     "output_type": "stream",
     "text": [
      "9\n"
     ]
    },
    {
     "name": "stderr",
     "output_type": "stream",
     "text": [
      "\n",
      "\n",
      " 24%|██▍       | 122/500 [17:05<49:43,  7.89s/it]\u001b[A\u001b[A"
     ]
    },
    {
     "name": "stdout",
     "output_type": "stream",
     "text": [
      "9\n"
     ]
    },
    {
     "name": "stderr",
     "output_type": "stream",
     "text": [
      "\n",
      "\n",
      " 25%|██▍       | 123/500 [17:14<51:07,  8.14s/it]\u001b[A\u001b[A"
     ]
    },
    {
     "name": "stdout",
     "output_type": "stream",
     "text": [
      "11\n"
     ]
    },
    {
     "name": "stderr",
     "output_type": "stream",
     "text": [
      "\n",
      "\n",
      " 25%|██▍       | 124/500 [17:24<54:25,  8.69s/it]\u001b[A\u001b[A"
     ]
    },
    {
     "name": "stdout",
     "output_type": "stream",
     "text": [
      "11\n"
     ]
    },
    {
     "name": "stderr",
     "output_type": "stream",
     "text": [
      "\n",
      "\n",
      " 25%|██▌       | 125/500 [17:34<56:16,  9.00s/it]\u001b[A\u001b[A"
     ]
    },
    {
     "name": "stdout",
     "output_type": "stream",
     "text": [
      "10\n"
     ]
    },
    {
     "name": "stderr",
     "output_type": "stream",
     "text": [
      "\n",
      "\n",
      " 25%|██▌       | 126/500 [17:44<57:53,  9.29s/it]\u001b[A\u001b[A"
     ]
    },
    {
     "name": "stdout",
     "output_type": "stream",
     "text": [
      "10\n"
     ]
    },
    {
     "name": "stderr",
     "output_type": "stream",
     "text": [
      "\n",
      "\n",
      " 25%|██▌       | 127/500 [17:50<52:36,  8.46s/it]\u001b[A\u001b[A"
     ]
    },
    {
     "name": "stdout",
     "output_type": "stream",
     "text": [
      "9\n"
     ]
    },
    {
     "name": "stderr",
     "output_type": "stream",
     "text": [
      "\n",
      "\n",
      " 26%|██▌       | 128/500 [17:59<53:04,  8.56s/it]\u001b[A\u001b[A"
     ]
    },
    {
     "name": "stdout",
     "output_type": "stream",
     "text": [
      "10\n"
     ]
    },
    {
     "name": "stderr",
     "output_type": "stream",
     "text": [
      "\n",
      "\n",
      " 26%|██▌       | 129/500 [18:06<50:58,  8.24s/it]\u001b[A\u001b[A"
     ]
    },
    {
     "name": "stdout",
     "output_type": "stream",
     "text": [
      "9\n"
     ]
    },
    {
     "name": "stderr",
     "output_type": "stream",
     "text": [
      "\n",
      "\n",
      " 26%|██▌       | 130/500 [18:16<53:47,  8.72s/it]\u001b[A\u001b[A"
     ]
    },
    {
     "name": "stdout",
     "output_type": "stream",
     "text": [
      "11\n"
     ]
    },
    {
     "name": "stderr",
     "output_type": "stream",
     "text": [
      "\n",
      "\n",
      " 26%|██▌       | 131/500 [18:22<49:08,  7.99s/it]\u001b[A\u001b[A"
     ]
    },
    {
     "name": "stdout",
     "output_type": "stream",
     "text": [
      "8\n"
     ]
    },
    {
     "name": "stderr",
     "output_type": "stream",
     "text": [
      "\n",
      "\n",
      " 26%|██▋       | 132/500 [18:30<48:08,  7.85s/it]\u001b[A\u001b[A"
     ]
    },
    {
     "name": "stdout",
     "output_type": "stream",
     "text": [
      "10\n"
     ]
    },
    {
     "name": "stderr",
     "output_type": "stream",
     "text": [
      "\n",
      "\n",
      " 27%|██▋       | 133/500 [18:36<45:30,  7.44s/it]\u001b[A\u001b[A"
     ]
    },
    {
     "name": "stdout",
     "output_type": "stream",
     "text": [
      "9\n"
     ]
    },
    {
     "name": "stderr",
     "output_type": "stream",
     "text": [
      "\n",
      "\n",
      " 27%|██▋       | 134/500 [18:47<50:21,  8.26s/it]\u001b[A\u001b[A"
     ]
    },
    {
     "name": "stdout",
     "output_type": "stream",
     "text": [
      "9\n"
     ]
    },
    {
     "name": "stderr",
     "output_type": "stream",
     "text": [
      "\n",
      "\n",
      " 27%|██▋       | 135/500 [18:52<45:39,  7.51s/it]\u001b[A\u001b[A"
     ]
    },
    {
     "name": "stdout",
     "output_type": "stream",
     "text": [
      "8\n"
     ]
    },
    {
     "name": "stderr",
     "output_type": "stream",
     "text": [
      "\n",
      "\n",
      " 27%|██▋       | 136/500 [18:59<44:16,  7.30s/it]\u001b[A\u001b[A"
     ]
    },
    {
     "name": "stdout",
     "output_type": "stream",
     "text": [
      "8\n"
     ]
    },
    {
     "name": "stderr",
     "output_type": "stream",
     "text": [
      "\n",
      "\n",
      " 27%|██▋       | 137/500 [19:05<41:14,  6.82s/it]\u001b[A\u001b[A"
     ]
    },
    {
     "name": "stdout",
     "output_type": "stream",
     "text": [
      "7\n"
     ]
    },
    {
     "name": "stderr",
     "output_type": "stream",
     "text": [
      "\n",
      "\n",
      " 28%|██▊       | 138/500 [19:15<47:23,  7.85s/it]\u001b[A\u001b[A"
     ]
    },
    {
     "name": "stdout",
     "output_type": "stream",
     "text": [
      "9\n"
     ]
    },
    {
     "name": "stderr",
     "output_type": "stream",
     "text": [
      "\n",
      "\n",
      " 28%|██▊       | 139/500 [19:26<51:56,  8.63s/it]\u001b[A\u001b[A"
     ]
    },
    {
     "name": "stdout",
     "output_type": "stream",
     "text": [
      "10\n"
     ]
    },
    {
     "name": "stderr",
     "output_type": "stream",
     "text": [
      "\n",
      "\n",
      " 28%|██▊       | 140/500 [19:37<57:18,  9.55s/it]\u001b[A\u001b[A"
     ]
    },
    {
     "name": "stdout",
     "output_type": "stream",
     "text": [
      "10\n"
     ]
    },
    {
     "name": "stderr",
     "output_type": "stream",
     "text": [
      "\n",
      "\n",
      " 28%|██▊       | 141/500 [19:47<58:07,  9.72s/it]\u001b[A\u001b[A"
     ]
    },
    {
     "name": "stdout",
     "output_type": "stream",
     "text": [
      "11\n"
     ]
    },
    {
     "name": "stderr",
     "output_type": "stream",
     "text": [
      "\n",
      "\n",
      " 28%|██▊       | 142/500 [19:53<51:03,  8.56s/it]\u001b[A\u001b[A"
     ]
    },
    {
     "name": "stdout",
     "output_type": "stream",
     "text": [
      "7\n"
     ]
    },
    {
     "name": "stderr",
     "output_type": "stream",
     "text": [
      "\n",
      "\n",
      " 29%|██▊       | 143/500 [20:04<54:36,  9.18s/it]\u001b[A\u001b[A"
     ]
    },
    {
     "name": "stdout",
     "output_type": "stream",
     "text": [
      "10\n"
     ]
    },
    {
     "name": "stderr",
     "output_type": "stream",
     "text": [
      "\n",
      "\n",
      " 29%|██▉       | 144/500 [20:09<47:54,  8.07s/it]\u001b[A\u001b[A"
     ]
    },
    {
     "name": "stdout",
     "output_type": "stream",
     "text": [
      "8\n"
     ]
    },
    {
     "name": "stderr",
     "output_type": "stream",
     "text": [
      "\n",
      "\n",
      " 29%|██▉       | 145/500 [20:19<50:58,  8.62s/it]\u001b[A\u001b[A"
     ]
    },
    {
     "name": "stdout",
     "output_type": "stream",
     "text": [
      "11\n"
     ]
    },
    {
     "name": "stderr",
     "output_type": "stream",
     "text": [
      "\n",
      "\n",
      " 29%|██▉       | 146/500 [20:30<54:56,  9.31s/it]\u001b[A\u001b[A"
     ]
    },
    {
     "name": "stdout",
     "output_type": "stream",
     "text": [
      "10\n"
     ]
    },
    {
     "name": "stderr",
     "output_type": "stream",
     "text": [
      "\n",
      "\n",
      " 29%|██▉       | 147/500 [20:38<52:36,  8.94s/it]\u001b[A\u001b[A"
     ]
    },
    {
     "name": "stdout",
     "output_type": "stream",
     "text": [
      "9\n"
     ]
    },
    {
     "name": "stderr",
     "output_type": "stream",
     "text": [
      "\n",
      "\n",
      " 30%|██▉       | 148/500 [20:45<48:42,  8.30s/it]\u001b[A\u001b[A"
     ]
    },
    {
     "name": "stdout",
     "output_type": "stream",
     "text": [
      "7\n"
     ]
    },
    {
     "name": "stderr",
     "output_type": "stream",
     "text": [
      "\n",
      "\n",
      " 30%|██▉       | 149/500 [20:51<43:41,  7.47s/it]\u001b[A\u001b[A"
     ]
    },
    {
     "name": "stdout",
     "output_type": "stream",
     "text": [
      "8\n"
     ]
    },
    {
     "name": "stderr",
     "output_type": "stream",
     "text": [
      "\n",
      "\n",
      " 30%|███       | 150/500 [21:02<50:27,  8.65s/it]\u001b[A\u001b[A"
     ]
    },
    {
     "name": "stdout",
     "output_type": "stream",
     "text": [
      "9\n"
     ]
    },
    {
     "name": "stderr",
     "output_type": "stream",
     "text": [
      "\n",
      "\n",
      " 30%|███       | 151/500 [21:12<53:00,  9.11s/it]\u001b[A\u001b[A"
     ]
    },
    {
     "name": "stdout",
     "output_type": "stream",
     "text": [
      "9\n"
     ]
    },
    {
     "name": "stderr",
     "output_type": "stream",
     "text": [
      "\n",
      "\n",
      " 30%|███       | 152/500 [21:19<49:25,  8.52s/it]\u001b[A\u001b[A"
     ]
    },
    {
     "name": "stdout",
     "output_type": "stream",
     "text": [
      "10\n"
     ]
    },
    {
     "name": "stderr",
     "output_type": "stream",
     "text": [
      "\n",
      "\n",
      " 31%|███       | 153/500 [21:28<49:18,  8.53s/it]\u001b[A\u001b[A"
     ]
    },
    {
     "name": "stdout",
     "output_type": "stream",
     "text": [
      "10\n"
     ]
    },
    {
     "name": "stderr",
     "output_type": "stream",
     "text": [
      "\n",
      "\n",
      " 31%|███       | 154/500 [21:33<43:54,  7.61s/it]\u001b[A\u001b[A"
     ]
    },
    {
     "name": "stdout",
     "output_type": "stream",
     "text": [
      "8\n"
     ]
    },
    {
     "name": "stderr",
     "output_type": "stream",
     "text": [
      "\n",
      "\n",
      " 31%|███       | 155/500 [21:40<41:44,  7.26s/it]\u001b[A\u001b[A"
     ]
    },
    {
     "name": "stdout",
     "output_type": "stream",
     "text": [
      "9\n"
     ]
    },
    {
     "name": "stderr",
     "output_type": "stream",
     "text": [
      "\n",
      "\n",
      " 31%|███       | 156/500 [21:49<45:41,  7.97s/it]\u001b[A\u001b[A"
     ]
    },
    {
     "name": "stdout",
     "output_type": "stream",
     "text": [
      "10\n"
     ]
    },
    {
     "name": "stderr",
     "output_type": "stream",
     "text": [
      "\n",
      "\n",
      " 31%|███▏      | 157/500 [21:59<48:37,  8.51s/it]\u001b[A\u001b[A"
     ]
    },
    {
     "name": "stdout",
     "output_type": "stream",
     "text": [
      "12\n"
     ]
    },
    {
     "name": "stderr",
     "output_type": "stream",
     "text": [
      "\n",
      "\n",
      " 32%|███▏      | 158/500 [22:08<49:39,  8.71s/it]\u001b[A\u001b[A"
     ]
    },
    {
     "name": "stdout",
     "output_type": "stream",
     "text": [
      "12\n"
     ]
    },
    {
     "name": "stderr",
     "output_type": "stream",
     "text": [
      "\n",
      "\n",
      " 32%|███▏      | 159/500 [22:15<45:48,  8.06s/it]\u001b[A\u001b[A"
     ]
    },
    {
     "name": "stdout",
     "output_type": "stream",
     "text": [
      "7\n"
     ]
    },
    {
     "name": "stderr",
     "output_type": "stream",
     "text": [
      "\n",
      "\n",
      " 32%|███▏      | 160/500 [22:24<46:34,  8.22s/it]\u001b[A\u001b[A"
     ]
    },
    {
     "name": "stdout",
     "output_type": "stream",
     "text": [
      "10\n"
     ]
    },
    {
     "name": "stderr",
     "output_type": "stream",
     "text": [
      "\n",
      "\n",
      " 32%|███▏      | 161/500 [22:34<49:50,  8.82s/it]\u001b[A\u001b[A"
     ]
    },
    {
     "name": "stdout",
     "output_type": "stream",
     "text": [
      "10\n"
     ]
    },
    {
     "name": "stderr",
     "output_type": "stream",
     "text": [
      "\n",
      "\n",
      " 32%|███▏      | 162/500 [22:44<52:25,  9.31s/it]\u001b[A\u001b[A"
     ]
    },
    {
     "name": "stdout",
     "output_type": "stream",
     "text": [
      "11\n"
     ]
    },
    {
     "name": "stderr",
     "output_type": "stream",
     "text": [
      "\n",
      "\n",
      " 33%|███▎      | 163/500 [22:55<54:11,  9.65s/it]\u001b[A\u001b[A"
     ]
    },
    {
     "name": "stdout",
     "output_type": "stream",
     "text": [
      "10\n"
     ]
    },
    {
     "name": "stderr",
     "output_type": "stream",
     "text": [
      "\n",
      "\n",
      " 33%|███▎      | 164/500 [23:03<52:26,  9.36s/it]\u001b[A\u001b[A"
     ]
    },
    {
     "name": "stdout",
     "output_type": "stream",
     "text": [
      "10\n"
     ]
    },
    {
     "name": "stderr",
     "output_type": "stream",
     "text": [
      "\n",
      "\n",
      " 33%|███▎      | 165/500 [23:13<52:03,  9.32s/it]\u001b[A\u001b[A"
     ]
    },
    {
     "name": "stdout",
     "output_type": "stream",
     "text": [
      "9\n"
     ]
    },
    {
     "name": "stderr",
     "output_type": "stream",
     "text": [
      "\n",
      "\n",
      " 33%|███▎      | 166/500 [23:23<54:12,  9.74s/it]\u001b[A\u001b[A"
     ]
    },
    {
     "name": "stdout",
     "output_type": "stream",
     "text": [
      "9\n"
     ]
    },
    {
     "name": "stderr",
     "output_type": "stream",
     "text": [
      "\n",
      "\n",
      " 33%|███▎      | 167/500 [23:34<56:09, 10.12s/it]\u001b[A\u001b[A"
     ]
    },
    {
     "name": "stdout",
     "output_type": "stream",
     "text": [
      "12\n"
     ]
    },
    {
     "name": "stderr",
     "output_type": "stream",
     "text": [
      "\n",
      "\n",
      " 34%|███▎      | 168/500 [23:41<50:05,  9.05s/it]\u001b[A\u001b[A"
     ]
    },
    {
     "name": "stdout",
     "output_type": "stream",
     "text": [
      "8\n"
     ]
    },
    {
     "name": "stderr",
     "output_type": "stream",
     "text": [
      "\n",
      "\n",
      " 34%|███▍      | 169/500 [23:51<51:35,  9.35s/it]\u001b[A\u001b[A"
     ]
    },
    {
     "name": "stdout",
     "output_type": "stream",
     "text": [
      "10\n"
     ]
    },
    {
     "name": "stderr",
     "output_type": "stream",
     "text": [
      "\n",
      "\n",
      " 34%|███▍      | 170/500 [23:58<48:13,  8.77s/it]\u001b[A\u001b[A"
     ]
    },
    {
     "name": "stdout",
     "output_type": "stream",
     "text": [
      "11\n"
     ]
    },
    {
     "name": "stderr",
     "output_type": "stream",
     "text": [
      "\n",
      "\n",
      " 34%|███▍      | 171/500 [24:04<42:31,  7.76s/it]\u001b[A\u001b[A"
     ]
    },
    {
     "name": "stdout",
     "output_type": "stream",
     "text": [
      "8\n"
     ]
    },
    {
     "name": "stderr",
     "output_type": "stream",
     "text": [
      "\n",
      "\n",
      " 34%|███▍      | 172/500 [24:15<47:52,  8.76s/it]\u001b[A\u001b[A"
     ]
    },
    {
     "name": "stdout",
     "output_type": "stream",
     "text": [
      "11\n"
     ]
    },
    {
     "name": "stderr",
     "output_type": "stream",
     "text": [
      "\n",
      "\n",
      " 35%|███▍      | 173/500 [24:25<49:23,  9.06s/it]\u001b[A\u001b[A"
     ]
    },
    {
     "name": "stdout",
     "output_type": "stream",
     "text": [
      "10\n"
     ]
    },
    {
     "name": "stderr",
     "output_type": "stream",
     "text": [
      "\n",
      "\n",
      " 35%|███▍      | 174/500 [24:33<48:15,  8.88s/it]\u001b[A\u001b[A"
     ]
    },
    {
     "name": "stdout",
     "output_type": "stream",
     "text": [
      "10\n"
     ]
    },
    {
     "name": "stderr",
     "output_type": "stream",
     "text": [
      "\n",
      "\n",
      " 35%|███▌      | 175/500 [24:42<48:27,  8.95s/it]\u001b[A\u001b[A"
     ]
    },
    {
     "name": "stdout",
     "output_type": "stream",
     "text": [
      "9\n"
     ]
    },
    {
     "name": "stderr",
     "output_type": "stream",
     "text": [
      "\n",
      "\n",
      " 35%|███▌      | 176/500 [24:53<51:34,  9.55s/it]\u001b[A\u001b[A"
     ]
    },
    {
     "name": "stdout",
     "output_type": "stream",
     "text": [
      "10\n"
     ]
    },
    {
     "name": "stderr",
     "output_type": "stream",
     "text": [
      "\n",
      "\n",
      " 35%|███▌      | 177/500 [24:59<46:07,  8.57s/it]\u001b[A\u001b[A"
     ]
    },
    {
     "name": "stdout",
     "output_type": "stream",
     "text": [
      "9\n"
     ]
    },
    {
     "name": "stderr",
     "output_type": "stream",
     "text": [
      "\n",
      "\n",
      " 36%|███▌      | 178/500 [25:07<44:25,  8.28s/it]\u001b[A\u001b[A"
     ]
    },
    {
     "name": "stdout",
     "output_type": "stream",
     "text": [
      "9\n"
     ]
    },
    {
     "name": "stderr",
     "output_type": "stream",
     "text": [
      "\n",
      "\n",
      " 36%|███▌      | 179/500 [25:18<48:26,  9.06s/it]\u001b[A\u001b[A"
     ]
    },
    {
     "name": "stdout",
     "output_type": "stream",
     "text": [
      "11\n"
     ]
    },
    {
     "name": "stderr",
     "output_type": "stream",
     "text": [
      "\n",
      "\n",
      " 36%|███▌      | 180/500 [25:25<44:50,  8.41s/it]\u001b[A\u001b[A"
     ]
    },
    {
     "name": "stdout",
     "output_type": "stream",
     "text": [
      "8\n"
     ]
    },
    {
     "name": "stderr",
     "output_type": "stream",
     "text": [
      "\n",
      "\n",
      " 36%|███▌      | 181/500 [25:36<49:27,  9.30s/it]\u001b[A\u001b[A"
     ]
    },
    {
     "name": "stdout",
     "output_type": "stream",
     "text": [
      "11\n"
     ]
    },
    {
     "name": "stderr",
     "output_type": "stream",
     "text": [
      "\n",
      "\n",
      " 36%|███▋      | 182/500 [25:46<50:13,  9.48s/it]\u001b[A\u001b[A"
     ]
    },
    {
     "name": "stdout",
     "output_type": "stream",
     "text": [
      "10\n"
     ]
    },
    {
     "name": "stderr",
     "output_type": "stream",
     "text": [
      "\n",
      "\n",
      " 37%|███▋      | 183/500 [25:58<53:24, 10.11s/it]\u001b[A\u001b[A"
     ]
    },
    {
     "name": "stdout",
     "output_type": "stream",
     "text": [
      "11\n"
     ]
    },
    {
     "name": "stderr",
     "output_type": "stream",
     "text": [
      "\n",
      "\n",
      " 37%|███▋      | 184/500 [26:08<53:06, 10.08s/it]\u001b[A\u001b[A"
     ]
    },
    {
     "name": "stdout",
     "output_type": "stream",
     "text": [
      "9\n"
     ]
    },
    {
     "name": "stderr",
     "output_type": "stream",
     "text": [
      "\n",
      "\n",
      " 37%|███▋      | 185/500 [26:14<47:12,  8.99s/it]\u001b[A\u001b[A"
     ]
    },
    {
     "name": "stdout",
     "output_type": "stream",
     "text": [
      "8\n"
     ]
    },
    {
     "name": "stderr",
     "output_type": "stream",
     "text": [
      "\n",
      "\n",
      " 37%|███▋      | 186/500 [26:20<41:39,  7.96s/it]\u001b[A\u001b[A"
     ]
    },
    {
     "name": "stdout",
     "output_type": "stream",
     "text": [
      "8\n"
     ]
    },
    {
     "name": "stderr",
     "output_type": "stream",
     "text": [
      "\n",
      "\n",
      " 37%|███▋      | 187/500 [26:31<46:40,  8.95s/it]\u001b[A\u001b[A"
     ]
    },
    {
     "name": "stdout",
     "output_type": "stream",
     "text": [
      "10\n"
     ]
    },
    {
     "name": "stderr",
     "output_type": "stream",
     "text": [
      "\n",
      "\n",
      " 38%|███▊      | 188/500 [26:40<47:21,  9.11s/it]\u001b[A\u001b[A"
     ]
    },
    {
     "name": "stdout",
     "output_type": "stream",
     "text": [
      "11\n"
     ]
    },
    {
     "name": "stderr",
     "output_type": "stream",
     "text": [
      "\n",
      "\n",
      " 38%|███▊      | 189/500 [26:47<43:01,  8.30s/it]\u001b[A\u001b[A"
     ]
    },
    {
     "name": "stdout",
     "output_type": "stream",
     "text": [
      "9\n"
     ]
    },
    {
     "name": "stderr",
     "output_type": "stream",
     "text": [
      "\n",
      "\n",
      " 38%|███▊      | 190/500 [26:55<43:22,  8.39s/it]\u001b[A\u001b[A"
     ]
    },
    {
     "name": "stdout",
     "output_type": "stream",
     "text": [
      "9\n"
     ]
    },
    {
     "name": "stderr",
     "output_type": "stream",
     "text": [
      "\n",
      "\n",
      " 38%|███▊      | 191/500 [27:03<41:58,  8.15s/it]\u001b[A\u001b[A"
     ]
    },
    {
     "name": "stdout",
     "output_type": "stream",
     "text": [
      "10\n"
     ]
    },
    {
     "name": "stderr",
     "output_type": "stream",
     "text": [
      "\n",
      "\n",
      " 38%|███▊      | 192/500 [27:12<42:41,  8.32s/it]\u001b[A\u001b[A"
     ]
    },
    {
     "name": "stdout",
     "output_type": "stream",
     "text": [
      "9\n"
     ]
    },
    {
     "name": "stderr",
     "output_type": "stream",
     "text": [
      "\n",
      "\n",
      " 39%|███▊      | 193/500 [27:17<38:32,  7.53s/it]\u001b[A\u001b[A"
     ]
    },
    {
     "name": "stdout",
     "output_type": "stream",
     "text": [
      "8\n"
     ]
    },
    {
     "name": "stderr",
     "output_type": "stream",
     "text": [
      "\n",
      "\n",
      " 39%|███▉      | 194/500 [27:26<40:19,  7.91s/it]\u001b[A\u001b[A"
     ]
    },
    {
     "name": "stdout",
     "output_type": "stream",
     "text": [
      "9\n"
     ]
    },
    {
     "name": "stderr",
     "output_type": "stream",
     "text": [
      "\n",
      "\n",
      " 39%|███▉      | 195/500 [27:32<36:39,  7.21s/it]\u001b[A\u001b[A"
     ]
    },
    {
     "name": "stdout",
     "output_type": "stream",
     "text": [
      "6\n"
     ]
    },
    {
     "name": "stderr",
     "output_type": "stream",
     "text": [
      "\n",
      "\n",
      " 39%|███▉      | 196/500 [27:40<38:20,  7.57s/it]\u001b[A\u001b[A"
     ]
    },
    {
     "name": "stdout",
     "output_type": "stream",
     "text": [
      "10\n"
     ]
    },
    {
     "name": "stderr",
     "output_type": "stream",
     "text": [
      "\n",
      "\n",
      " 39%|███▉      | 197/500 [27:50<41:58,  8.31s/it]\u001b[A\u001b[A"
     ]
    },
    {
     "name": "stdout",
     "output_type": "stream",
     "text": [
      "11\n"
     ]
    },
    {
     "name": "stderr",
     "output_type": "stream",
     "text": [
      "\n",
      "\n",
      " 40%|███▉      | 198/500 [27:59<42:44,  8.49s/it]\u001b[A\u001b[A"
     ]
    },
    {
     "name": "stdout",
     "output_type": "stream",
     "text": [
      "9\n"
     ]
    },
    {
     "name": "stderr",
     "output_type": "stream",
     "text": [
      "\n",
      "\n",
      " 40%|███▉      | 199/500 [28:10<46:12,  9.21s/it]\u001b[A\u001b[A"
     ]
    },
    {
     "name": "stdout",
     "output_type": "stream",
     "text": [
      "9\n"
     ]
    },
    {
     "name": "stderr",
     "output_type": "stream",
     "text": [
      "\n",
      "\n",
      " 40%|████      | 200/500 [28:18<44:12,  8.84s/it]\u001b[A\u001b[A"
     ]
    },
    {
     "name": "stdout",
     "output_type": "stream",
     "text": [
      "8\n"
     ]
    },
    {
     "name": "stderr",
     "output_type": "stream",
     "text": [
      "\n",
      "\n",
      " 40%|████      | 201/500 [28:26<43:21,  8.70s/it]\u001b[A\u001b[A"
     ]
    },
    {
     "name": "stdout",
     "output_type": "stream",
     "text": [
      "11\n"
     ]
    },
    {
     "name": "stderr",
     "output_type": "stream",
     "text": [
      "\n",
      "\n",
      " 40%|████      | 202/500 [28:33<40:15,  8.11s/it]\u001b[A\u001b[A"
     ]
    },
    {
     "name": "stdout",
     "output_type": "stream",
     "text": [
      "8\n"
     ]
    },
    {
     "name": "stderr",
     "output_type": "stream",
     "text": [
      "\n",
      "\n",
      " 41%|████      | 203/500 [28:42<41:28,  8.38s/it]\u001b[A\u001b[A"
     ]
    },
    {
     "name": "stdout",
     "output_type": "stream",
     "text": [
      "9\n"
     ]
    },
    {
     "name": "stderr",
     "output_type": "stream",
     "text": [
      "\n",
      "\n",
      " 41%|████      | 204/500 [28:50<40:37,  8.23s/it]\u001b[A\u001b[A"
     ]
    },
    {
     "name": "stdout",
     "output_type": "stream",
     "text": [
      "9\n"
     ]
    },
    {
     "name": "stderr",
     "output_type": "stream",
     "text": [
      "\n",
      "\n",
      " 41%|████      | 205/500 [28:57<39:05,  7.95s/it]\u001b[A\u001b[A"
     ]
    },
    {
     "name": "stdout",
     "output_type": "stream",
     "text": [
      "8\n"
     ]
    },
    {
     "name": "stderr",
     "output_type": "stream",
     "text": [
      "\n",
      "\n",
      " 41%|████      | 206/500 [29:03<36:16,  7.40s/it]\u001b[A\u001b[A"
     ]
    },
    {
     "name": "stdout",
     "output_type": "stream",
     "text": [
      "7\n"
     ]
    },
    {
     "name": "stderr",
     "output_type": "stream",
     "text": [
      "\n",
      "\n",
      " 41%|████▏     | 207/500 [29:12<37:57,  7.77s/it]\u001b[A\u001b[A"
     ]
    },
    {
     "name": "stdout",
     "output_type": "stream",
     "text": [
      "10\n"
     ]
    },
    {
     "name": "stderr",
     "output_type": "stream",
     "text": [
      "\n",
      "\n",
      " 42%|████▏     | 208/500 [29:18<34:42,  7.13s/it]\u001b[A\u001b[A"
     ]
    },
    {
     "name": "stdout",
     "output_type": "stream",
     "text": [
      "6\n"
     ]
    },
    {
     "name": "stderr",
     "output_type": "stream",
     "text": [
      "\n",
      "\n",
      " 42%|████▏     | 209/500 [29:24<33:56,  7.00s/it]\u001b[A\u001b[A"
     ]
    },
    {
     "name": "stdout",
     "output_type": "stream",
     "text": [
      "6\n"
     ]
    },
    {
     "name": "stderr",
     "output_type": "stream",
     "text": [
      "\n",
      "\n",
      " 42%|████▏     | 210/500 [29:30<31:55,  6.61s/it]\u001b[A\u001b[A"
     ]
    },
    {
     "name": "stdout",
     "output_type": "stream",
     "text": [
      "8\n"
     ]
    },
    {
     "name": "stderr",
     "output_type": "stream",
     "text": [
      "\n",
      "\n",
      " 42%|████▏     | 211/500 [29:37<31:44,  6.59s/it]\u001b[A\u001b[A"
     ]
    },
    {
     "name": "stdout",
     "output_type": "stream",
     "text": [
      "8\n"
     ]
    },
    {
     "name": "stderr",
     "output_type": "stream",
     "text": [
      "\n",
      "\n",
      " 42%|████▏     | 212/500 [29:42<30:04,  6.27s/it]\u001b[A\u001b[A"
     ]
    },
    {
     "name": "stdout",
     "output_type": "stream",
     "text": [
      "7\n"
     ]
    },
    {
     "name": "stderr",
     "output_type": "stream",
     "text": [
      "\n",
      "\n",
      " 43%|████▎     | 213/500 [29:48<29:14,  6.11s/it]\u001b[A\u001b[A"
     ]
    },
    {
     "name": "stdout",
     "output_type": "stream",
     "text": [
      "9\n"
     ]
    },
    {
     "name": "stderr",
     "output_type": "stream",
     "text": [
      "\n",
      "\n",
      " 43%|████▎     | 214/500 [29:55<31:03,  6.52s/it]\u001b[A\u001b[A"
     ]
    },
    {
     "name": "stdout",
     "output_type": "stream",
     "text": [
      "10\n"
     ]
    },
    {
     "name": "stderr",
     "output_type": "stream",
     "text": [
      "\n",
      "\n",
      " 43%|████▎     | 215/500 [30:01<29:44,  6.26s/it]\u001b[A\u001b[A"
     ]
    },
    {
     "name": "stdout",
     "output_type": "stream",
     "text": [
      "7\n"
     ]
    },
    {
     "name": "stderr",
     "output_type": "stream",
     "text": [
      "\n",
      "\n",
      " 43%|████▎     | 216/500 [30:10<33:19,  7.04s/it]\u001b[A\u001b[A"
     ]
    },
    {
     "name": "stdout",
     "output_type": "stream",
     "text": [
      "8\n"
     ]
    },
    {
     "name": "stderr",
     "output_type": "stream",
     "text": [
      "\n",
      "\n",
      " 43%|████▎     | 217/500 [30:18<35:28,  7.52s/it]\u001b[A\u001b[A"
     ]
    },
    {
     "name": "stdout",
     "output_type": "stream",
     "text": [
      "9\n"
     ]
    },
    {
     "name": "stderr",
     "output_type": "stream",
     "text": [
      "\n",
      "\n",
      " 44%|████▎     | 218/500 [30:25<33:37,  7.15s/it]\u001b[A\u001b[A"
     ]
    },
    {
     "name": "stdout",
     "output_type": "stream",
     "text": [
      "9\n"
     ]
    },
    {
     "name": "stderr",
     "output_type": "stream",
     "text": [
      "\n",
      "\n",
      " 44%|████▍     | 219/500 [30:32<33:13,  7.10s/it]\u001b[A\u001b[A"
     ]
    },
    {
     "name": "stdout",
     "output_type": "stream",
     "text": [
      "9\n"
     ]
    },
    {
     "name": "stderr",
     "output_type": "stream",
     "text": [
      "\n",
      "\n",
      " 44%|████▍     | 220/500 [30:39<33:43,  7.23s/it]\u001b[A\u001b[A"
     ]
    },
    {
     "name": "stdout",
     "output_type": "stream",
     "text": [
      "11\n"
     ]
    },
    {
     "name": "stderr",
     "output_type": "stream",
     "text": [
      "\n",
      "\n",
      " 44%|████▍     | 221/500 [30:47<34:11,  7.35s/it]\u001b[A\u001b[A"
     ]
    },
    {
     "name": "stdout",
     "output_type": "stream",
     "text": [
      "9\n"
     ]
    },
    {
     "name": "stderr",
     "output_type": "stream",
     "text": [
      "\n",
      "\n",
      " 44%|████▍     | 222/500 [30:58<39:11,  8.46s/it]\u001b[A\u001b[A"
     ]
    },
    {
     "name": "stdout",
     "output_type": "stream",
     "text": [
      "12\n"
     ]
    },
    {
     "name": "stderr",
     "output_type": "stream",
     "text": [
      "\n",
      "\n",
      " 45%|████▍     | 223/500 [31:04<36:21,  7.88s/it]\u001b[A\u001b[A"
     ]
    },
    {
     "name": "stdout",
     "output_type": "stream",
     "text": [
      "7\n"
     ]
    },
    {
     "name": "stderr",
     "output_type": "stream",
     "text": [
      "\n",
      "\n",
      " 45%|████▍     | 224/500 [31:12<35:49,  7.79s/it]\u001b[A\u001b[A"
     ]
    },
    {
     "name": "stdout",
     "output_type": "stream",
     "text": [
      "8\n"
     ]
    },
    {
     "name": "stderr",
     "output_type": "stream",
     "text": [
      "\n",
      "\n",
      " 45%|████▌     | 225/500 [31:21<37:00,  8.08s/it]\u001b[A\u001b[A"
     ]
    },
    {
     "name": "stdout",
     "output_type": "stream",
     "text": [
      "10\n"
     ]
    },
    {
     "name": "stderr",
     "output_type": "stream",
     "text": [
      "\n",
      "\n",
      " 45%|████▌     | 226/500 [31:27<34:11,  7.49s/it]\u001b[A\u001b[A"
     ]
    },
    {
     "name": "stdout",
     "output_type": "stream",
     "text": [
      "7\n"
     ]
    },
    {
     "name": "stderr",
     "output_type": "stream",
     "text": [
      "\n",
      "\n",
      " 45%|████▌     | 227/500 [31:38<38:57,  8.56s/it]\u001b[A\u001b[A"
     ]
    },
    {
     "name": "stdout",
     "output_type": "stream",
     "text": [
      "11\n"
     ]
    },
    {
     "name": "stderr",
     "output_type": "stream",
     "text": [
      "\n",
      "\n",
      " 46%|████▌     | 228/500 [31:48<40:30,  8.94s/it]\u001b[A\u001b[A"
     ]
    },
    {
     "name": "stdout",
     "output_type": "stream",
     "text": [
      "10\n"
     ]
    },
    {
     "name": "stderr",
     "output_type": "stream",
     "text": [
      "\n",
      "\n",
      " 46%|████▌     | 229/500 [31:59<43:13,  9.57s/it]\u001b[A\u001b[A"
     ]
    },
    {
     "name": "stdout",
     "output_type": "stream",
     "text": [
      "10\n"
     ]
    },
    {
     "name": "stderr",
     "output_type": "stream",
     "text": [
      "\n",
      "\n",
      " 46%|████▌     | 230/500 [32:06<39:43,  8.83s/it]\u001b[A\u001b[A"
     ]
    },
    {
     "name": "stdout",
     "output_type": "stream",
     "text": [
      "8\n"
     ]
    },
    {
     "name": "stderr",
     "output_type": "stream",
     "text": [
      "\n",
      "\n",
      " 46%|████▌     | 231/500 [32:13<37:01,  8.26s/it]\u001b[A\u001b[A"
     ]
    },
    {
     "name": "stdout",
     "output_type": "stream",
     "text": [
      "7\n"
     ]
    },
    {
     "name": "stderr",
     "output_type": "stream",
     "text": [
      "\n",
      "\n",
      " 46%|████▋     | 232/500 [32:22<37:49,  8.47s/it]\u001b[A\u001b[A"
     ]
    },
    {
     "name": "stdout",
     "output_type": "stream",
     "text": [
      "10\n"
     ]
    },
    {
     "name": "stderr",
     "output_type": "stream",
     "text": [
      "\n",
      "\n",
      " 47%|████▋     | 233/500 [32:27<33:45,  7.58s/it]\u001b[A\u001b[A"
     ]
    },
    {
     "name": "stdout",
     "output_type": "stream",
     "text": [
      "7\n"
     ]
    },
    {
     "name": "stderr",
     "output_type": "stream",
     "text": [
      "\n",
      "\n",
      " 47%|████▋     | 234/500 [32:39<39:15,  8.86s/it]\u001b[A\u001b[A"
     ]
    },
    {
     "name": "stdout",
     "output_type": "stream",
     "text": [
      "11\n"
     ]
    },
    {
     "name": "stderr",
     "output_type": "stream",
     "text": [
      "\n",
      "\n",
      " 47%|████▋     | 235/500 [32:50<41:23,  9.37s/it]\u001b[A\u001b[A"
     ]
    },
    {
     "name": "stdout",
     "output_type": "stream",
     "text": [
      "10\n"
     ]
    },
    {
     "name": "stderr",
     "output_type": "stream",
     "text": [
      "\n",
      "\n",
      " 47%|████▋     | 236/500 [32:55<36:18,  8.25s/it]\u001b[A\u001b[A"
     ]
    },
    {
     "name": "stdout",
     "output_type": "stream",
     "text": [
      "7\n"
     ]
    },
    {
     "name": "stderr",
     "output_type": "stream",
     "text": [
      "\n",
      "\n",
      " 47%|████▋     | 237/500 [33:02<34:12,  7.80s/it]\u001b[A\u001b[A"
     ]
    },
    {
     "name": "stdout",
     "output_type": "stream",
     "text": [
      "9\n"
     ]
    },
    {
     "name": "stderr",
     "output_type": "stream",
     "text": [
      "\n",
      "\n",
      " 48%|████▊     | 238/500 [33:10<34:27,  7.89s/it]\u001b[A\u001b[A"
     ]
    },
    {
     "name": "stdout",
     "output_type": "stream",
     "text": [
      "8\n"
     ]
    },
    {
     "name": "stderr",
     "output_type": "stream",
     "text": [
      "\n",
      "\n",
      " 48%|████▊     | 239/500 [33:21<38:05,  8.76s/it]\u001b[A\u001b[A"
     ]
    },
    {
     "name": "stdout",
     "output_type": "stream",
     "text": [
      "10\n"
     ]
    },
    {
     "name": "stderr",
     "output_type": "stream",
     "text": [
      "\n",
      "\n",
      " 48%|████▊     | 240/500 [33:31<39:56,  9.22s/it]\u001b[A\u001b[A"
     ]
    },
    {
     "name": "stdout",
     "output_type": "stream",
     "text": [
      "11\n"
     ]
    },
    {
     "name": "stderr",
     "output_type": "stream",
     "text": [
      "\n",
      "\n",
      " 48%|████▊     | 241/500 [33:37<35:01,  8.11s/it]\u001b[A\u001b[A"
     ]
    },
    {
     "name": "stdout",
     "output_type": "stream",
     "text": [
      "8\n"
     ]
    },
    {
     "name": "stderr",
     "output_type": "stream",
     "text": [
      "\n",
      "\n",
      " 48%|████▊     | 242/500 [33:47<37:34,  8.74s/it]\u001b[A\u001b[A"
     ]
    },
    {
     "name": "stdout",
     "output_type": "stream",
     "text": [
      "9\n"
     ]
    },
    {
     "name": "stderr",
     "output_type": "stream",
     "text": [
      "\n",
      "\n",
      " 49%|████▊     | 243/500 [33:52<33:08,  7.74s/it]\u001b[A\u001b[A"
     ]
    },
    {
     "name": "stdout",
     "output_type": "stream",
     "text": [
      "9\n"
     ]
    },
    {
     "name": "stderr",
     "output_type": "stream",
     "text": [
      "\n",
      "\n",
      " 49%|████▉     | 244/500 [34:02<35:59,  8.44s/it]\u001b[A\u001b[A"
     ]
    },
    {
     "name": "stdout",
     "output_type": "stream",
     "text": [
      "10\n"
     ]
    },
    {
     "name": "stderr",
     "output_type": "stream",
     "text": [
      "\n",
      "\n",
      " 49%|████▉     | 245/500 [34:08<32:14,  7.59s/it]\u001b[A\u001b[A"
     ]
    },
    {
     "name": "stdout",
     "output_type": "stream",
     "text": [
      "7\n"
     ]
    },
    {
     "name": "stderr",
     "output_type": "stream",
     "text": [
      "\n",
      "\n",
      " 49%|████▉     | 246/500 [34:18<35:27,  8.37s/it]\u001b[A\u001b[A"
     ]
    },
    {
     "name": "stdout",
     "output_type": "stream",
     "text": [
      "10\n"
     ]
    },
    {
     "name": "stderr",
     "output_type": "stream",
     "text": [
      "\n",
      "\n",
      " 49%|████▉     | 247/500 [34:24<31:36,  7.50s/it]\u001b[A\u001b[A"
     ]
    },
    {
     "name": "stdout",
     "output_type": "stream",
     "text": [
      "8\n"
     ]
    },
    {
     "name": "stderr",
     "output_type": "stream",
     "text": [
      "\n",
      "\n",
      " 50%|████▉     | 248/500 [34:32<32:05,  7.64s/it]\u001b[A\u001b[A"
     ]
    },
    {
     "name": "stdout",
     "output_type": "stream",
     "text": [
      "8\n"
     ]
    },
    {
     "name": "stderr",
     "output_type": "stream",
     "text": [
      "\n",
      "\n",
      " 50%|████▉     | 249/500 [34:43<36:11,  8.65s/it]\u001b[A\u001b[A"
     ]
    },
    {
     "name": "stdout",
     "output_type": "stream",
     "text": [
      "11\n"
     ]
    },
    {
     "name": "stderr",
     "output_type": "stream",
     "text": [
      "\n",
      "\n",
      " 50%|█████     | 250/500 [34:53<37:32,  9.01s/it]\u001b[A\u001b[A"
     ]
    },
    {
     "name": "stdout",
     "output_type": "stream",
     "text": [
      "10\n"
     ]
    },
    {
     "name": "stderr",
     "output_type": "stream",
     "text": [
      "\n",
      "\n",
      " 50%|█████     | 251/500 [35:00<35:44,  8.61s/it]\u001b[A\u001b[A"
     ]
    },
    {
     "name": "stdout",
     "output_type": "stream",
     "text": [
      "8\n"
     ]
    },
    {
     "name": "stderr",
     "output_type": "stream",
     "text": [
      "\n",
      "\n",
      " 50%|█████     | 252/500 [35:08<34:16,  8.29s/it]\u001b[A\u001b[A"
     ]
    },
    {
     "name": "stdout",
     "output_type": "stream",
     "text": [
      "9\n"
     ]
    },
    {
     "name": "stderr",
     "output_type": "stream",
     "text": [
      "\n",
      "\n",
      " 51%|█████     | 253/500 [35:13<30:47,  7.48s/it]\u001b[A\u001b[A"
     ]
    },
    {
     "name": "stdout",
     "output_type": "stream",
     "text": [
      "9\n"
     ]
    },
    {
     "name": "stderr",
     "output_type": "stream",
     "text": [
      "\n",
      "\n",
      " 51%|█████     | 254/500 [35:22<32:05,  7.83s/it]\u001b[A\u001b[A"
     ]
    },
    {
     "name": "stdout",
     "output_type": "stream",
     "text": [
      "9\n"
     ]
    },
    {
     "name": "stderr",
     "output_type": "stream",
     "text": [
      "\n",
      "\n",
      " 51%|█████     | 255/500 [35:31<33:49,  8.28s/it]\u001b[A\u001b[A"
     ]
    },
    {
     "name": "stdout",
     "output_type": "stream",
     "text": [
      "11\n"
     ]
    },
    {
     "name": "stderr",
     "output_type": "stream",
     "text": [
      "\n",
      "\n",
      " 51%|█████     | 256/500 [35:41<35:02,  8.62s/it]\u001b[A\u001b[A"
     ]
    },
    {
     "name": "stdout",
     "output_type": "stream",
     "text": [
      "11\n"
     ]
    },
    {
     "name": "stderr",
     "output_type": "stream",
     "text": [
      "\n",
      "\n",
      " 51%|█████▏    | 257/500 [35:50<35:09,  8.68s/it]\u001b[A\u001b[A"
     ]
    },
    {
     "name": "stdout",
     "output_type": "stream",
     "text": [
      "9\n"
     ]
    },
    {
     "name": "stderr",
     "output_type": "stream",
     "text": [
      "\n",
      "\n",
      " 52%|█████▏    | 258/500 [35:55<31:07,  7.72s/it]\u001b[A\u001b[A"
     ]
    },
    {
     "name": "stdout",
     "output_type": "stream",
     "text": [
      "8\n"
     ]
    },
    {
     "name": "stderr",
     "output_type": "stream",
     "text": [
      "\n",
      "\n",
      " 52%|█████▏    | 259/500 [36:03<30:44,  7.65s/it]\u001b[A\u001b[A"
     ]
    },
    {
     "name": "stdout",
     "output_type": "stream",
     "text": [
      "9\n"
     ]
    },
    {
     "name": "stderr",
     "output_type": "stream",
     "text": [
      "\n",
      "\n",
      " 52%|█████▏    | 260/500 [36:11<31:46,  7.94s/it]\u001b[A\u001b[A"
     ]
    },
    {
     "name": "stdout",
     "output_type": "stream",
     "text": [
      "9\n"
     ]
    },
    {
     "name": "stderr",
     "output_type": "stream",
     "text": [
      "\n",
      "\n",
      " 52%|█████▏    | 261/500 [36:17<28:36,  7.18s/it]\u001b[A\u001b[A"
     ]
    },
    {
     "name": "stdout",
     "output_type": "stream",
     "text": [
      "9\n"
     ]
    },
    {
     "name": "stderr",
     "output_type": "stream",
     "text": [
      "\n",
      "\n",
      " 52%|█████▏    | 262/500 [36:22<26:43,  6.74s/it]\u001b[A\u001b[A"
     ]
    },
    {
     "name": "stdout",
     "output_type": "stream",
     "text": [
      "9\n"
     ]
    },
    {
     "name": "stderr",
     "output_type": "stream",
     "text": [
      "\n",
      "\n",
      " 53%|█████▎    | 263/500 [36:33<31:32,  7.99s/it]\u001b[A\u001b[A"
     ]
    },
    {
     "name": "stdout",
     "output_type": "stream",
     "text": [
      "12\n"
     ]
    },
    {
     "name": "stderr",
     "output_type": "stream",
     "text": [
      "\n",
      "\n",
      " 53%|█████▎    | 264/500 [36:39<28:27,  7.23s/it]\u001b[A\u001b[A"
     ]
    },
    {
     "name": "stdout",
     "output_type": "stream",
     "text": [
      "8\n"
     ]
    },
    {
     "name": "stderr",
     "output_type": "stream",
     "text": [
      "\n",
      "\n",
      " 53%|█████▎    | 265/500 [36:44<26:26,  6.75s/it]\u001b[A\u001b[A"
     ]
    },
    {
     "name": "stdout",
     "output_type": "stream",
     "text": [
      "7\n"
     ]
    },
    {
     "name": "stderr",
     "output_type": "stream",
     "text": [
      "\n",
      "\n",
      " 53%|█████▎    | 266/500 [36:53<29:08,  7.47s/it]\u001b[A\u001b[A"
     ]
    },
    {
     "name": "stdout",
     "output_type": "stream",
     "text": [
      "9\n"
     ]
    },
    {
     "name": "stderr",
     "output_type": "stream",
     "text": [
      "\n",
      "\n",
      " 53%|█████▎    | 267/500 [37:02<30:35,  7.88s/it]\u001b[A\u001b[A"
     ]
    },
    {
     "name": "stdout",
     "output_type": "stream",
     "text": [
      "9\n"
     ]
    },
    {
     "name": "stderr",
     "output_type": "stream",
     "text": [
      "\n",
      "\n",
      " 54%|█████▎    | 268/500 [37:11<31:52,  8.24s/it]\u001b[A\u001b[A"
     ]
    },
    {
     "name": "stdout",
     "output_type": "stream",
     "text": [
      "8\n"
     ]
    },
    {
     "name": "stderr",
     "output_type": "stream",
     "text": [
      "\n",
      "\n",
      " 54%|█████▍    | 269/500 [37:23<35:14,  9.16s/it]\u001b[A\u001b[A"
     ]
    },
    {
     "name": "stdout",
     "output_type": "stream",
     "text": [
      "10\n"
     ]
    },
    {
     "name": "stderr",
     "output_type": "stream",
     "text": [
      "\n",
      "\n",
      " 54%|█████▍    | 270/500 [37:34<37:49,  9.87s/it]\u001b[A\u001b[A"
     ]
    },
    {
     "name": "stdout",
     "output_type": "stream",
     "text": [
      "10\n"
     ]
    },
    {
     "name": "stderr",
     "output_type": "stream",
     "text": [
      "\n",
      "\n",
      " 54%|█████▍    | 271/500 [37:43<36:33,  9.58s/it]\u001b[A\u001b[A"
     ]
    },
    {
     "name": "stdout",
     "output_type": "stream",
     "text": [
      "10\n"
     ]
    },
    {
     "name": "stderr",
     "output_type": "stream",
     "text": [
      "\n",
      "\n",
      " 54%|█████▍    | 272/500 [37:50<33:19,  8.77s/it]\u001b[A\u001b[A"
     ]
    },
    {
     "name": "stdout",
     "output_type": "stream",
     "text": [
      "9\n"
     ]
    },
    {
     "name": "stderr",
     "output_type": "stream",
     "text": [
      "\n",
      "\n",
      " 55%|█████▍    | 273/500 [37:57<31:06,  8.22s/it]\u001b[A\u001b[A"
     ]
    },
    {
     "name": "stdout",
     "output_type": "stream",
     "text": [
      "8\n"
     ]
    },
    {
     "name": "stderr",
     "output_type": "stream",
     "text": [
      "\n",
      "\n",
      " 55%|█████▍    | 274/500 [38:09<34:47,  9.24s/it]\u001b[A\u001b[A"
     ]
    },
    {
     "name": "stdout",
     "output_type": "stream",
     "text": [
      "10\n"
     ]
    },
    {
     "name": "stderr",
     "output_type": "stream",
     "text": [
      "\n",
      "\n",
      " 55%|█████▌    | 275/500 [38:20<37:29, 10.00s/it]\u001b[A\u001b[A"
     ]
    },
    {
     "name": "stdout",
     "output_type": "stream",
     "text": [
      "9\n"
     ]
    },
    {
     "name": "stderr",
     "output_type": "stream",
     "text": [
      "\n",
      "\n",
      " 55%|█████▌    | 276/500 [38:32<38:54, 10.42s/it]\u001b[A\u001b[A"
     ]
    },
    {
     "name": "stdout",
     "output_type": "stream",
     "text": [
      "9\n"
     ]
    },
    {
     "name": "stderr",
     "output_type": "stream",
     "text": [
      "\n",
      "\n",
      " 55%|█████▌    | 277/500 [38:38<34:20,  9.24s/it]\u001b[A\u001b[A"
     ]
    },
    {
     "name": "stdout",
     "output_type": "stream",
     "text": [
      "8\n"
     ]
    },
    {
     "name": "stderr",
     "output_type": "stream",
     "text": [
      "\n",
      "\n",
      " 56%|█████▌    | 278/500 [38:47<33:51,  9.15s/it]\u001b[A\u001b[A"
     ]
    },
    {
     "name": "stdout",
     "output_type": "stream",
     "text": [
      "9\n"
     ]
    },
    {
     "name": "stderr",
     "output_type": "stream",
     "text": [
      "\n",
      "\n",
      " 56%|█████▌    | 279/500 [38:57<34:47,  9.45s/it]\u001b[A\u001b[A"
     ]
    },
    {
     "name": "stdout",
     "output_type": "stream",
     "text": [
      "10\n"
     ]
    },
    {
     "name": "stderr",
     "output_type": "stream",
     "text": [
      "\n",
      "\n",
      " 56%|█████▌    | 280/500 [39:04<31:34,  8.61s/it]\u001b[A\u001b[A"
     ]
    },
    {
     "name": "stdout",
     "output_type": "stream",
     "text": [
      "8\n"
     ]
    },
    {
     "name": "stderr",
     "output_type": "stream",
     "text": [
      "\n",
      "\n",
      " 56%|█████▌    | 281/500 [39:11<29:19,  8.03s/it]\u001b[A\u001b[A"
     ]
    },
    {
     "name": "stdout",
     "output_type": "stream",
     "text": [
      "8\n"
     ]
    },
    {
     "name": "stderr",
     "output_type": "stream",
     "text": [
      "\n",
      "\n",
      " 56%|█████▋    | 282/500 [39:22<32:46,  9.02s/it]\u001b[A\u001b[A"
     ]
    },
    {
     "name": "stdout",
     "output_type": "stream",
     "text": [
      "12\n"
     ]
    },
    {
     "name": "stderr",
     "output_type": "stream",
     "text": [
      "\n",
      "\n",
      " 57%|█████▋    | 283/500 [39:28<29:10,  8.07s/it]\u001b[A\u001b[A"
     ]
    },
    {
     "name": "stdout",
     "output_type": "stream",
     "text": [
      "6\n"
     ]
    },
    {
     "name": "stderr",
     "output_type": "stream",
     "text": [
      "\n",
      "\n",
      " 57%|█████▋    | 284/500 [39:37<29:50,  8.29s/it]\u001b[A\u001b[A"
     ]
    },
    {
     "name": "stdout",
     "output_type": "stream",
     "text": [
      "9\n"
     ]
    },
    {
     "name": "stderr",
     "output_type": "stream",
     "text": [
      "\n",
      "\n",
      " 57%|█████▋    | 285/500 [39:47<31:57,  8.92s/it]\u001b[A\u001b[A"
     ]
    },
    {
     "name": "stdout",
     "output_type": "stream",
     "text": [
      "10\n"
     ]
    },
    {
     "name": "stderr",
     "output_type": "stream",
     "text": [
      "\n",
      "\n",
      " 57%|█████▋    | 286/500 [39:56<32:09,  9.02s/it]\u001b[A\u001b[A"
     ]
    },
    {
     "name": "stdout",
     "output_type": "stream",
     "text": [
      "8\n"
     ]
    },
    {
     "name": "stderr",
     "output_type": "stream",
     "text": [
      "\n",
      "\n",
      " 57%|█████▋    | 287/500 [40:03<29:42,  8.37s/it]\u001b[A\u001b[A"
     ]
    },
    {
     "name": "stdout",
     "output_type": "stream",
     "text": [
      "9\n"
     ]
    },
    {
     "name": "stderr",
     "output_type": "stream",
     "text": [
      "\n",
      "\n",
      " 58%|█████▊    | 288/500 [40:13<31:33,  8.93s/it]\u001b[A\u001b[A"
     ]
    },
    {
     "name": "stdout",
     "output_type": "stream",
     "text": [
      "10\n"
     ]
    },
    {
     "name": "stderr",
     "output_type": "stream",
     "text": [
      "\n",
      "\n",
      " 58%|█████▊    | 289/500 [40:25<34:13,  9.73s/it]\u001b[A\u001b[A"
     ]
    },
    {
     "name": "stdout",
     "output_type": "stream",
     "text": [
      "11\n"
     ]
    },
    {
     "name": "stderr",
     "output_type": "stream",
     "text": [
      "\n",
      "\n",
      " 58%|█████▊    | 290/500 [40:31<30:43,  8.78s/it]\u001b[A\u001b[A"
     ]
    },
    {
     "name": "stdout",
     "output_type": "stream",
     "text": [
      "8\n"
     ]
    },
    {
     "name": "stderr",
     "output_type": "stream",
     "text": [
      "\n",
      "\n",
      " 58%|█████▊    | 291/500 [40:43<33:36,  9.65s/it]\u001b[A\u001b[A"
     ]
    },
    {
     "name": "stdout",
     "output_type": "stream",
     "text": [
      "11\n"
     ]
    },
    {
     "name": "stderr",
     "output_type": "stream",
     "text": [
      "\n",
      "\n",
      " 58%|█████▊    | 292/500 [40:55<35:16, 10.17s/it]\u001b[A\u001b[A"
     ]
    },
    {
     "name": "stdout",
     "output_type": "stream",
     "text": [
      "11\n"
     ]
    },
    {
     "name": "stderr",
     "output_type": "stream",
     "text": [
      "\n",
      "\n",
      " 59%|█████▊    | 293/500 [41:01<31:25,  9.11s/it]\u001b[A\u001b[A"
     ]
    },
    {
     "name": "stdout",
     "output_type": "stream",
     "text": [
      "8\n"
     ]
    },
    {
     "name": "stderr",
     "output_type": "stream",
     "text": [
      "\n",
      "\n",
      " 59%|█████▉    | 294/500 [41:07<28:00,  8.16s/it]\u001b[A\u001b[A"
     ]
    },
    {
     "name": "stdout",
     "output_type": "stream",
     "text": [
      "6\n"
     ]
    },
    {
     "name": "stderr",
     "output_type": "stream",
     "text": [
      "\n",
      "\n",
      " 59%|█████▉    | 295/500 [41:15<27:27,  8.04s/it]\u001b[A\u001b[A"
     ]
    },
    {
     "name": "stdout",
     "output_type": "stream",
     "text": [
      "9\n"
     ]
    },
    {
     "name": "stderr",
     "output_type": "stream",
     "text": [
      "\n",
      "\n",
      " 59%|█████▉    | 296/500 [41:25<29:33,  8.69s/it]\u001b[A\u001b[A"
     ]
    },
    {
     "name": "stdout",
     "output_type": "stream",
     "text": [
      "10\n"
     ]
    },
    {
     "name": "stderr",
     "output_type": "stream",
     "text": [
      "\n",
      "\n",
      " 59%|█████▉    | 297/500 [41:37<32:15,  9.53s/it]\u001b[A\u001b[A"
     ]
    },
    {
     "name": "stdout",
     "output_type": "stream",
     "text": [
      "12\n"
     ]
    },
    {
     "name": "stderr",
     "output_type": "stream",
     "text": [
      "\n",
      "\n",
      " 60%|█████▉    | 298/500 [41:47<33:19,  9.90s/it]\u001b[A\u001b[A"
     ]
    },
    {
     "name": "stdout",
     "output_type": "stream",
     "text": [
      "12\n"
     ]
    },
    {
     "name": "stderr",
     "output_type": "stream",
     "text": [
      "\n",
      "\n",
      " 60%|█████▉    | 299/500 [41:54<29:58,  8.95s/it]\u001b[A\u001b[A"
     ]
    },
    {
     "name": "stdout",
     "output_type": "stream",
     "text": [
      "7\n"
     ]
    },
    {
     "name": "stderr",
     "output_type": "stream",
     "text": [
      "\n",
      "\n",
      " 60%|██████    | 300/500 [42:05<31:38,  9.49s/it]\u001b[A\u001b[A"
     ]
    },
    {
     "name": "stdout",
     "output_type": "stream",
     "text": [
      "10\n"
     ]
    },
    {
     "name": "stderr",
     "output_type": "stream",
     "text": [
      "\n",
      "\n",
      " 60%|██████    | 301/500 [42:12<28:54,  8.72s/it]\u001b[A\u001b[A"
     ]
    },
    {
     "name": "stdout",
     "output_type": "stream",
     "text": [
      "7\n"
     ]
    },
    {
     "name": "stderr",
     "output_type": "stream",
     "text": [
      "\n",
      "\n",
      " 60%|██████    | 302/500 [42:22<30:20,  9.19s/it]\u001b[A\u001b[A"
     ]
    },
    {
     "name": "stdout",
     "output_type": "stream",
     "text": [
      "10\n"
     ]
    },
    {
     "name": "stderr",
     "output_type": "stream",
     "text": [
      "\n",
      "\n",
      " 61%|██████    | 303/500 [42:29<27:28,  8.37s/it]\u001b[A\u001b[A"
     ]
    },
    {
     "name": "stdout",
     "output_type": "stream",
     "text": [
      "9\n"
     ]
    },
    {
     "name": "stderr",
     "output_type": "stream",
     "text": [
      "\n",
      "\n",
      " 61%|██████    | 304/500 [42:34<24:41,  7.56s/it]\u001b[A\u001b[A"
     ]
    },
    {
     "name": "stdout",
     "output_type": "stream",
     "text": [
      "9\n"
     ]
    },
    {
     "name": "stderr",
     "output_type": "stream",
     "text": [
      "\n",
      "\n",
      " 61%|██████    | 305/500 [42:43<26:11,  8.06s/it]\u001b[A\u001b[A"
     ]
    },
    {
     "name": "stdout",
     "output_type": "stream",
     "text": [
      "8\n"
     ]
    },
    {
     "name": "stderr",
     "output_type": "stream",
     "text": [
      "\n",
      "\n",
      " 61%|██████    | 306/500 [42:49<23:36,  7.30s/it]\u001b[A\u001b[A"
     ]
    },
    {
     "name": "stdout",
     "output_type": "stream",
     "text": [
      "9\n"
     ]
    },
    {
     "name": "stderr",
     "output_type": "stream",
     "text": [
      "\n",
      "\n",
      " 61%|██████▏   | 307/500 [42:58<24:46,  7.70s/it]\u001b[A\u001b[A"
     ]
    },
    {
     "name": "stdout",
     "output_type": "stream",
     "text": [
      "10\n"
     ]
    },
    {
     "name": "stderr",
     "output_type": "stream",
     "text": [
      "\n",
      "\n",
      " 62%|██████▏   | 308/500 [43:06<24:52,  7.77s/it]\u001b[A\u001b[A"
     ]
    },
    {
     "name": "stdout",
     "output_type": "stream",
     "text": [
      "8\n"
     ]
    },
    {
     "name": "stderr",
     "output_type": "stream",
     "text": [
      "\n",
      "\n",
      " 62%|██████▏   | 309/500 [43:11<23:01,  7.24s/it]\u001b[A\u001b[A"
     ]
    },
    {
     "name": "stdout",
     "output_type": "stream",
     "text": [
      "7\n"
     ]
    },
    {
     "name": "stderr",
     "output_type": "stream",
     "text": [
      "\n",
      "\n",
      " 62%|██████▏   | 310/500 [43:23<26:42,  8.43s/it]\u001b[A\u001b[A"
     ]
    },
    {
     "name": "stdout",
     "output_type": "stream",
     "text": [
      "10\n"
     ]
    },
    {
     "name": "stderr",
     "output_type": "stream",
     "text": [
      "\n",
      "\n",
      " 62%|██████▏   | 311/500 [43:29<24:41,  7.84s/it]\u001b[A\u001b[A"
     ]
    },
    {
     "name": "stdout",
     "output_type": "stream",
     "text": [
      "8\n"
     ]
    },
    {
     "name": "stderr",
     "output_type": "stream",
     "text": [
      "\n",
      "\n",
      " 62%|██████▏   | 312/500 [43:39<26:08,  8.34s/it]\u001b[A\u001b[A"
     ]
    },
    {
     "name": "stdout",
     "output_type": "stream",
     "text": [
      "8\n"
     ]
    },
    {
     "name": "stderr",
     "output_type": "stream",
     "text": [
      "\n",
      "\n",
      " 63%|██████▎   | 313/500 [43:49<27:40,  8.88s/it]\u001b[A\u001b[A"
     ]
    },
    {
     "name": "stdout",
     "output_type": "stream",
     "text": [
      "9\n"
     ]
    },
    {
     "name": "stderr",
     "output_type": "stream",
     "text": [
      "\n",
      "\n",
      " 63%|██████▎   | 314/500 [43:56<26:11,  8.45s/it]\u001b[A\u001b[A"
     ]
    },
    {
     "name": "stdout",
     "output_type": "stream",
     "text": [
      "8\n"
     ]
    },
    {
     "name": "stderr",
     "output_type": "stream",
     "text": [
      "\n",
      "\n",
      " 63%|██████▎   | 315/500 [44:04<24:59,  8.10s/it]\u001b[A\u001b[A"
     ]
    },
    {
     "name": "stdout",
     "output_type": "stream",
     "text": [
      "8\n"
     ]
    },
    {
     "name": "stderr",
     "output_type": "stream",
     "text": [
      "\n",
      "\n",
      " 63%|██████▎   | 316/500 [44:11<24:40,  8.05s/it]\u001b[A\u001b[A"
     ]
    },
    {
     "name": "stdout",
     "output_type": "stream",
     "text": [
      "10\n"
     ]
    },
    {
     "name": "stderr",
     "output_type": "stream",
     "text": [
      "\n",
      "\n",
      " 63%|██████▎   | 317/500 [44:20<25:19,  8.30s/it]\u001b[A\u001b[A"
     ]
    },
    {
     "name": "stdout",
     "output_type": "stream",
     "text": [
      "11\n"
     ]
    },
    {
     "name": "stderr",
     "output_type": "stream",
     "text": [
      "\n",
      "\n",
      " 64%|██████▎   | 318/500 [44:26<22:53,  7.54s/it]\u001b[A\u001b[A"
     ]
    },
    {
     "name": "stdout",
     "output_type": "stream",
     "text": [
      "8\n"
     ]
    },
    {
     "name": "stderr",
     "output_type": "stream",
     "text": [
      "\n",
      "\n",
      " 64%|██████▍   | 319/500 [44:33<22:01,  7.30s/it]\u001b[A\u001b[A"
     ]
    },
    {
     "name": "stdout",
     "output_type": "stream",
     "text": [
      "8\n"
     ]
    },
    {
     "name": "stderr",
     "output_type": "stream",
     "text": [
      "\n",
      "\n",
      " 64%|██████▍   | 320/500 [44:41<22:15,  7.42s/it]\u001b[A\u001b[A"
     ]
    },
    {
     "name": "stdout",
     "output_type": "stream",
     "text": [
      "9\n"
     ]
    },
    {
     "name": "stderr",
     "output_type": "stream",
     "text": [
      "\n",
      "\n",
      " 64%|██████▍   | 321/500 [44:48<22:27,  7.53s/it]\u001b[A\u001b[A"
     ]
    },
    {
     "name": "stdout",
     "output_type": "stream",
     "text": [
      "10\n"
     ]
    },
    {
     "name": "stderr",
     "output_type": "stream",
     "text": [
      "\n",
      "\n",
      " 64%|██████▍   | 322/500 [44:57<23:09,  7.81s/it]\u001b[A\u001b[A"
     ]
    },
    {
     "name": "stdout",
     "output_type": "stream",
     "text": [
      "9\n"
     ]
    },
    {
     "name": "stderr",
     "output_type": "stream",
     "text": [
      "\n",
      "\n",
      " 65%|██████▍   | 323/500 [45:02<21:04,  7.15s/it]\u001b[A\u001b[A"
     ]
    },
    {
     "name": "stdout",
     "output_type": "stream",
     "text": [
      "8\n"
     ]
    },
    {
     "name": "stderr",
     "output_type": "stream",
     "text": [
      "\n",
      "\n",
      " 65%|██████▍   | 324/500 [45:12<23:25,  7.99s/it]\u001b[A\u001b[A"
     ]
    },
    {
     "name": "stdout",
     "output_type": "stream",
     "text": [
      "11\n"
     ]
    },
    {
     "name": "stderr",
     "output_type": "stream",
     "text": [
      "\n",
      "\n",
      " 65%|██████▌   | 325/500 [45:23<26:01,  8.93s/it]\u001b[A\u001b[A"
     ]
    },
    {
     "name": "stdout",
     "output_type": "stream",
     "text": [
      "11\n"
     ]
    },
    {
     "name": "stderr",
     "output_type": "stream",
     "text": [
      "\n",
      "\n",
      " 65%|██████▌   | 326/500 [45:29<23:12,  8.00s/it]\u001b[A\u001b[A"
     ]
    },
    {
     "name": "stdout",
     "output_type": "stream",
     "text": [
      "7\n"
     ]
    },
    {
     "name": "stderr",
     "output_type": "stream",
     "text": [
      "\n",
      "\n",
      " 65%|██████▌   | 327/500 [45:37<22:43,  7.88s/it]\u001b[A\u001b[A"
     ]
    },
    {
     "name": "stdout",
     "output_type": "stream",
     "text": [
      "8\n"
     ]
    },
    {
     "name": "stderr",
     "output_type": "stream",
     "text": [
      "\n",
      "\n",
      " 66%|██████▌   | 328/500 [45:44<22:08,  7.72s/it]\u001b[A\u001b[A"
     ]
    },
    {
     "name": "stdout",
     "output_type": "stream",
     "text": [
      "11\n"
     ]
    },
    {
     "name": "stderr",
     "output_type": "stream",
     "text": [
      "\n",
      "\n",
      " 66%|██████▌   | 329/500 [45:53<22:52,  8.02s/it]\u001b[A\u001b[A"
     ]
    },
    {
     "name": "stdout",
     "output_type": "stream",
     "text": [
      "11\n"
     ]
    },
    {
     "name": "stderr",
     "output_type": "stream",
     "text": [
      "\n",
      "\n",
      " 66%|██████▌   | 330/500 [45:59<20:39,  7.29s/it]\u001b[A\u001b[A"
     ]
    },
    {
     "name": "stdout",
     "output_type": "stream",
     "text": [
      "8\n"
     ]
    },
    {
     "name": "stderr",
     "output_type": "stream",
     "text": [
      "\n",
      "\n",
      " 66%|██████▌   | 331/500 [46:07<21:06,  7.50s/it]\u001b[A\u001b[A"
     ]
    },
    {
     "name": "stdout",
     "output_type": "stream",
     "text": [
      "9\n"
     ]
    },
    {
     "name": "stderr",
     "output_type": "stream",
     "text": [
      "\n",
      "\n",
      " 66%|██████▋   | 332/500 [46:17<23:19,  8.33s/it]\u001b[A\u001b[A"
     ]
    },
    {
     "name": "stdout",
     "output_type": "stream",
     "text": [
      "10\n"
     ]
    },
    {
     "name": "stderr",
     "output_type": "stream",
     "text": [
      "\n",
      "\n",
      " 67%|██████▋   | 333/500 [46:24<22:32,  8.10s/it]\u001b[A\u001b[A"
     ]
    },
    {
     "name": "stdout",
     "output_type": "stream",
     "text": [
      "9\n"
     ]
    },
    {
     "name": "stderr",
     "output_type": "stream",
     "text": [
      "\n",
      "\n",
      " 67%|██████▋   | 334/500 [46:31<20:58,  7.58s/it]\u001b[A\u001b[A"
     ]
    },
    {
     "name": "stdout",
     "output_type": "stream",
     "text": [
      "8\n"
     ]
    },
    {
     "name": "stderr",
     "output_type": "stream",
     "text": [
      "\n",
      "\n",
      " 67%|██████▋   | 335/500 [46:42<23:56,  8.71s/it]\u001b[A\u001b[A"
     ]
    },
    {
     "name": "stdout",
     "output_type": "stream",
     "text": [
      "12\n"
     ]
    },
    {
     "name": "stderr",
     "output_type": "stream",
     "text": [
      "\n",
      "\n",
      " 67%|██████▋   | 336/500 [46:49<22:08,  8.10s/it]\u001b[A\u001b[A"
     ]
    },
    {
     "name": "stdout",
     "output_type": "stream",
     "text": [
      "7\n"
     ]
    },
    {
     "name": "stderr",
     "output_type": "stream",
     "text": [
      "\n",
      "\n",
      " 67%|██████▋   | 337/500 [46:57<21:43,  7.99s/it]\u001b[A\u001b[A"
     ]
    },
    {
     "name": "stdout",
     "output_type": "stream",
     "text": [
      "9\n"
     ]
    },
    {
     "name": "stderr",
     "output_type": "stream",
     "text": [
      "\n",
      "\n",
      " 68%|██████▊   | 338/500 [47:06<23:08,  8.57s/it]\u001b[A\u001b[A"
     ]
    },
    {
     "name": "stdout",
     "output_type": "stream",
     "text": [
      "11\n"
     ]
    },
    {
     "name": "stderr",
     "output_type": "stream",
     "text": [
      "\n",
      "\n",
      " 68%|██████▊   | 339/500 [47:14<22:20,  8.33s/it]\u001b[A\u001b[A"
     ]
    },
    {
     "name": "stdout",
     "output_type": "stream",
     "text": [
      "9\n"
     ]
    },
    {
     "name": "stderr",
     "output_type": "stream",
     "text": [
      "\n",
      "\n",
      " 68%|██████▊   | 340/500 [47:23<22:31,  8.44s/it]\u001b[A\u001b[A"
     ]
    },
    {
     "name": "stdout",
     "output_type": "stream",
     "text": [
      "10\n"
     ]
    },
    {
     "name": "stderr",
     "output_type": "stream",
     "text": [
      "\n",
      "\n",
      " 68%|██████▊   | 341/500 [47:33<23:39,  8.93s/it]\u001b[A\u001b[A"
     ]
    },
    {
     "name": "stdout",
     "output_type": "stream",
     "text": [
      "11\n"
     ]
    },
    {
     "name": "stderr",
     "output_type": "stream",
     "text": [
      "\n",
      "\n",
      " 68%|██████▊   | 342/500 [47:40<21:37,  8.21s/it]\u001b[A\u001b[A"
     ]
    },
    {
     "name": "stdout",
     "output_type": "stream",
     "text": [
      "9\n"
     ]
    },
    {
     "name": "stderr",
     "output_type": "stream",
     "text": [
      "\n",
      "\n",
      " 69%|██████▊   | 343/500 [47:47<20:45,  7.93s/it]\u001b[A\u001b[A"
     ]
    },
    {
     "name": "stdout",
     "output_type": "stream",
     "text": [
      "9\n"
     ]
    },
    {
     "name": "stderr",
     "output_type": "stream",
     "text": [
      "\n",
      "\n",
      " 69%|██████▉   | 344/500 [47:54<20:14,  7.79s/it]\u001b[A\u001b[A"
     ]
    },
    {
     "name": "stdout",
     "output_type": "stream",
     "text": [
      "8\n"
     ]
    },
    {
     "name": "stderr",
     "output_type": "stream",
     "text": [
      "\n",
      "\n",
      " 69%|██████▉   | 345/500 [48:06<22:52,  8.85s/it]\u001b[A\u001b[A"
     ]
    },
    {
     "name": "stdout",
     "output_type": "stream",
     "text": [
      "10\n"
     ]
    },
    {
     "name": "stderr",
     "output_type": "stream",
     "text": [
      "\n",
      "\n",
      " 69%|██████▉   | 346/500 [48:17<24:48,  9.66s/it]\u001b[A\u001b[A"
     ]
    },
    {
     "name": "stdout",
     "output_type": "stream",
     "text": [
      "10\n"
     ]
    },
    {
     "name": "stderr",
     "output_type": "stream",
     "text": [
      "\n",
      "\n",
      " 69%|██████▉   | 347/500 [48:24<22:07,  8.68s/it]\u001b[A\u001b[A"
     ]
    },
    {
     "name": "stdout",
     "output_type": "stream",
     "text": [
      "9\n"
     ]
    },
    {
     "name": "stderr",
     "output_type": "stream",
     "text": [
      "\n",
      "\n",
      " 70%|██████▉   | 348/500 [48:34<23:07,  9.13s/it]\u001b[A\u001b[A"
     ]
    },
    {
     "name": "stdout",
     "output_type": "stream",
     "text": [
      "9\n"
     ]
    },
    {
     "name": "stderr",
     "output_type": "stream",
     "text": [
      "\n",
      "\n",
      " 70%|██████▉   | 349/500 [48:40<20:59,  8.34s/it]\u001b[A\u001b[A"
     ]
    },
    {
     "name": "stdout",
     "output_type": "stream",
     "text": [
      "9\n"
     ]
    },
    {
     "name": "stderr",
     "output_type": "stream",
     "text": [
      "\n",
      "\n",
      " 70%|███████   | 350/500 [48:49<21:08,  8.45s/it]\u001b[A\u001b[A"
     ]
    },
    {
     "name": "stdout",
     "output_type": "stream",
     "text": [
      "10\n"
     ]
    },
    {
     "name": "stderr",
     "output_type": "stream",
     "text": [
      "\n",
      "\n",
      " 70%|███████   | 351/500 [48:57<20:36,  8.30s/it]\u001b[A\u001b[A"
     ]
    },
    {
     "name": "stdout",
     "output_type": "stream",
     "text": [
      "7\n"
     ]
    },
    {
     "name": "stderr",
     "output_type": "stream",
     "text": [
      "\n",
      "\n",
      " 70%|███████   | 352/500 [49:05<20:00,  8.11s/it]\u001b[A\u001b[A"
     ]
    },
    {
     "name": "stdout",
     "output_type": "stream",
     "text": [
      "10\n"
     ]
    },
    {
     "name": "stderr",
     "output_type": "stream",
     "text": [
      "\n",
      "\n",
      " 71%|███████   | 353/500 [49:16<22:27,  9.17s/it]\u001b[A\u001b[A"
     ]
    },
    {
     "name": "stdout",
     "output_type": "stream",
     "text": [
      "11\n"
     ]
    },
    {
     "name": "stderr",
     "output_type": "stream",
     "text": [
      "\n",
      "\n",
      " 71%|███████   | 354/500 [49:22<20:05,  8.25s/it]\u001b[A\u001b[A"
     ]
    },
    {
     "name": "stdout",
     "output_type": "stream",
     "text": [
      "10\n"
     ]
    },
    {
     "name": "stderr",
     "output_type": "stream",
     "text": [
      "\n",
      "\n",
      " 71%|███████   | 355/500 [49:30<19:25,  8.04s/it]\u001b[A\u001b[A"
     ]
    },
    {
     "name": "stdout",
     "output_type": "stream",
     "text": [
      "9\n"
     ]
    },
    {
     "name": "stderr",
     "output_type": "stream",
     "text": [
      "\n",
      "\n",
      " 71%|███████   | 356/500 [49:35<17:33,  7.31s/it]\u001b[A\u001b[A"
     ]
    },
    {
     "name": "stdout",
     "output_type": "stream",
     "text": [
      "8\n"
     ]
    },
    {
     "name": "stderr",
     "output_type": "stream",
     "text": [
      "\n",
      "\n",
      " 71%|███████▏  | 357/500 [49:45<19:17,  8.10s/it]\u001b[A\u001b[A"
     ]
    },
    {
     "name": "stdout",
     "output_type": "stream",
     "text": [
      "10\n"
     ]
    },
    {
     "name": "stderr",
     "output_type": "stream",
     "text": [
      "\n",
      "\n",
      " 72%|███████▏  | 358/500 [49:54<19:35,  8.28s/it]\u001b[A\u001b[A"
     ]
    },
    {
     "name": "stdout",
     "output_type": "stream",
     "text": [
      "9\n"
     ]
    },
    {
     "name": "stderr",
     "output_type": "stream",
     "text": [
      "\n",
      "\n",
      " 72%|███████▏  | 359/500 [50:00<17:46,  7.57s/it]\u001b[A\u001b[A"
     ]
    },
    {
     "name": "stdout",
     "output_type": "stream",
     "text": [
      "7\n"
     ]
    },
    {
     "name": "stderr",
     "output_type": "stream",
     "text": [
      "\n",
      "\n",
      " 72%|███████▏  | 360/500 [50:08<18:18,  7.85s/it]\u001b[A\u001b[A"
     ]
    },
    {
     "name": "stdout",
     "output_type": "stream",
     "text": [
      "10\n"
     ]
    },
    {
     "name": "stderr",
     "output_type": "stream",
     "text": [
      "\n",
      "\n",
      " 72%|███████▏  | 361/500 [50:17<18:56,  8.18s/it]\u001b[A\u001b[A"
     ]
    },
    {
     "name": "stdout",
     "output_type": "stream",
     "text": [
      "9\n"
     ]
    },
    {
     "name": "stderr",
     "output_type": "stream",
     "text": [
      "\n",
      "\n",
      " 72%|███████▏  | 362/500 [50:26<18:49,  8.18s/it]\u001b[A\u001b[A"
     ]
    },
    {
     "name": "stdout",
     "output_type": "stream",
     "text": [
      "8\n"
     ]
    },
    {
     "name": "stderr",
     "output_type": "stream",
     "text": [
      "\n",
      "\n",
      " 73%|███████▎  | 363/500 [50:33<18:25,  8.07s/it]\u001b[A\u001b[A"
     ]
    },
    {
     "name": "stdout",
     "output_type": "stream",
     "text": [
      "9\n"
     ]
    },
    {
     "name": "stderr",
     "output_type": "stream",
     "text": [
      "\n",
      "\n",
      " 73%|███████▎  | 364/500 [50:42<18:43,  8.26s/it]\u001b[A\u001b[A"
     ]
    },
    {
     "name": "stdout",
     "output_type": "stream",
     "text": [
      "9\n"
     ]
    },
    {
     "name": "stderr",
     "output_type": "stream",
     "text": [
      "\n",
      "\n",
      " 73%|███████▎  | 365/500 [50:49<17:39,  7.85s/it]\u001b[A\u001b[A"
     ]
    },
    {
     "name": "stdout",
     "output_type": "stream",
     "text": [
      "7\n"
     ]
    },
    {
     "name": "stderr",
     "output_type": "stream",
     "text": [
      "\n",
      "\n",
      " 73%|███████▎  | 366/500 [50:59<18:55,  8.47s/it]\u001b[A\u001b[A"
     ]
    },
    {
     "name": "stdout",
     "output_type": "stream",
     "text": [
      "10\n"
     ]
    },
    {
     "name": "stderr",
     "output_type": "stream",
     "text": [
      "\n",
      "\n",
      " 73%|███████▎  | 367/500 [51:04<16:44,  7.55s/it]\u001b[A\u001b[A"
     ]
    },
    {
     "name": "stdout",
     "output_type": "stream",
     "text": [
      "8\n"
     ]
    },
    {
     "name": "stderr",
     "output_type": "stream",
     "text": [
      "\n",
      "\n",
      " 74%|███████▎  | 368/500 [51:11<15:58,  7.26s/it]\u001b[A\u001b[A"
     ]
    },
    {
     "name": "stdout",
     "output_type": "stream",
     "text": [
      "7\n"
     ]
    },
    {
     "name": "stderr",
     "output_type": "stream",
     "text": [
      "\n",
      "\n",
      " 74%|███████▍  | 369/500 [51:19<16:22,  7.50s/it]\u001b[A\u001b[A"
     ]
    },
    {
     "name": "stdout",
     "output_type": "stream",
     "text": [
      "8\n"
     ]
    },
    {
     "name": "stderr",
     "output_type": "stream",
     "text": [
      "\n",
      "\n",
      " 74%|███████▍  | 370/500 [51:25<15:29,  7.15s/it]\u001b[A\u001b[A"
     ]
    },
    {
     "name": "stdout",
     "output_type": "stream",
     "text": [
      "9\n"
     ]
    },
    {
     "name": "stderr",
     "output_type": "stream",
     "text": [
      "\n",
      "\n",
      " 74%|███████▍  | 371/500 [51:33<15:54,  7.40s/it]\u001b[A\u001b[A"
     ]
    },
    {
     "name": "stdout",
     "output_type": "stream",
     "text": [
      "9\n"
     ]
    },
    {
     "name": "stderr",
     "output_type": "stream",
     "text": [
      "\n",
      "\n",
      " 74%|███████▍  | 372/500 [51:40<15:22,  7.21s/it]\u001b[A\u001b[A"
     ]
    },
    {
     "name": "stdout",
     "output_type": "stream",
     "text": [
      "8\n"
     ]
    },
    {
     "name": "stderr",
     "output_type": "stream",
     "text": [
      "\n",
      "\n",
      " 75%|███████▍  | 373/500 [51:51<17:34,  8.30s/it]\u001b[A\u001b[A"
     ]
    },
    {
     "name": "stdout",
     "output_type": "stream",
     "text": [
      "11\n"
     ]
    },
    {
     "name": "stderr",
     "output_type": "stream",
     "text": [
      "\n",
      "\n",
      " 75%|███████▍  | 374/500 [51:58<16:34,  7.89s/it]\u001b[A\u001b[A"
     ]
    },
    {
     "name": "stdout",
     "output_type": "stream",
     "text": [
      "7\n"
     ]
    },
    {
     "name": "stderr",
     "output_type": "stream",
     "text": [
      "\n",
      "\n",
      " 75%|███████▌  | 375/500 [52:08<17:45,  8.52s/it]\u001b[A\u001b[A"
     ]
    },
    {
     "name": "stdout",
     "output_type": "stream",
     "text": [
      "10\n"
     ]
    },
    {
     "name": "stderr",
     "output_type": "stream",
     "text": [
      "\n",
      "\n",
      " 75%|███████▌  | 376/500 [52:19<19:31,  9.45s/it]\u001b[A\u001b[A"
     ]
    },
    {
     "name": "stdout",
     "output_type": "stream",
     "text": [
      "10\n"
     ]
    },
    {
     "name": "stderr",
     "output_type": "stream",
     "text": [
      "\n",
      "\n",
      " 75%|███████▌  | 377/500 [52:27<17:58,  8.77s/it]\u001b[A\u001b[A"
     ]
    },
    {
     "name": "stdout",
     "output_type": "stream",
     "text": [
      "8\n"
     ]
    },
    {
     "name": "stderr",
     "output_type": "stream",
     "text": [
      "\n",
      "\n",
      " 76%|███████▌  | 378/500 [52:35<17:48,  8.75s/it]\u001b[A\u001b[A"
     ]
    },
    {
     "name": "stdout",
     "output_type": "stream",
     "text": [
      "10\n"
     ]
    },
    {
     "name": "stderr",
     "output_type": "stream",
     "text": [
      "\n",
      "\n",
      " 76%|███████▌  | 379/500 [52:45<18:07,  8.98s/it]\u001b[A\u001b[A"
     ]
    },
    {
     "name": "stdout",
     "output_type": "stream",
     "text": [
      "8\n"
     ]
    },
    {
     "name": "stderr",
     "output_type": "stream",
     "text": [
      "\n",
      "\n",
      " 76%|███████▌  | 380/500 [52:53<17:36,  8.81s/it]\u001b[A\u001b[A"
     ]
    },
    {
     "name": "stdout",
     "output_type": "stream",
     "text": [
      "9\n"
     ]
    },
    {
     "name": "stderr",
     "output_type": "stream",
     "text": [
      "\n",
      "\n",
      " 76%|███████▌  | 381/500 [53:03<18:05,  9.13s/it]\u001b[A\u001b[A"
     ]
    },
    {
     "name": "stdout",
     "output_type": "stream",
     "text": [
      "10\n"
     ]
    },
    {
     "name": "stderr",
     "output_type": "stream",
     "text": [
      "\n",
      "\n",
      " 76%|███████▋  | 382/500 [53:09<16:02,  8.15s/it]\u001b[A\u001b[A"
     ]
    },
    {
     "name": "stdout",
     "output_type": "stream",
     "text": [
      "8\n"
     ]
    },
    {
     "name": "stderr",
     "output_type": "stream",
     "text": [
      "\n",
      "\n",
      " 77%|███████▋  | 383/500 [53:16<15:06,  7.75s/it]\u001b[A\u001b[A"
     ]
    },
    {
     "name": "stdout",
     "output_type": "stream",
     "text": [
      "9\n"
     ]
    },
    {
     "name": "stderr",
     "output_type": "stream",
     "text": [
      "\n",
      "\n",
      " 77%|███████▋  | 384/500 [53:27<16:55,  8.75s/it]\u001b[A\u001b[A"
     ]
    },
    {
     "name": "stdout",
     "output_type": "stream",
     "text": [
      "10\n"
     ]
    },
    {
     "name": "stderr",
     "output_type": "stream",
     "text": [
      "\n",
      "\n",
      " 77%|███████▋  | 385/500 [53:35<16:10,  8.44s/it]\u001b[A\u001b[A"
     ]
    },
    {
     "name": "stdout",
     "output_type": "stream",
     "text": [
      "8\n"
     ]
    },
    {
     "name": "stderr",
     "output_type": "stream",
     "text": [
      "\n",
      "\n",
      " 77%|███████▋  | 386/500 [53:43<16:07,  8.49s/it]\u001b[A\u001b[A"
     ]
    },
    {
     "name": "stdout",
     "output_type": "stream",
     "text": [
      "10\n"
     ]
    },
    {
     "name": "stderr",
     "output_type": "stream",
     "text": [
      "\n",
      "\n",
      " 77%|███████▋  | 387/500 [53:50<14:50,  7.88s/it]\u001b[A\u001b[A"
     ]
    },
    {
     "name": "stdout",
     "output_type": "stream",
     "text": [
      "10\n"
     ]
    },
    {
     "name": "stderr",
     "output_type": "stream",
     "text": [
      "\n",
      "\n",
      " 78%|███████▊  | 388/500 [53:55<13:31,  7.24s/it]\u001b[A\u001b[A"
     ]
    },
    {
     "name": "stdout",
     "output_type": "stream",
     "text": [
      "9\n"
     ]
    },
    {
     "name": "stderr",
     "output_type": "stream",
     "text": [
      "\n",
      "\n",
      " 78%|███████▊  | 389/500 [54:05<14:47,  7.99s/it]\u001b[A\u001b[A"
     ]
    },
    {
     "name": "stdout",
     "output_type": "stream",
     "text": [
      "10\n"
     ]
    },
    {
     "name": "stderr",
     "output_type": "stream",
     "text": [
      "\n",
      "\n",
      " 78%|███████▊  | 390/500 [54:16<16:21,  8.92s/it]\u001b[A\u001b[A"
     ]
    },
    {
     "name": "stdout",
     "output_type": "stream",
     "text": [
      "11\n"
     ]
    },
    {
     "name": "stderr",
     "output_type": "stream",
     "text": [
      "\n",
      "\n",
      " 78%|███████▊  | 391/500 [54:23<15:05,  8.31s/it]\u001b[A\u001b[A"
     ]
    },
    {
     "name": "stdout",
     "output_type": "stream",
     "text": [
      "8\n"
     ]
    },
    {
     "name": "stderr",
     "output_type": "stream",
     "text": [
      "\n",
      "\n",
      " 78%|███████▊  | 392/500 [54:33<15:46,  8.77s/it]\u001b[A\u001b[A"
     ]
    },
    {
     "name": "stdout",
     "output_type": "stream",
     "text": [
      "10\n"
     ]
    },
    {
     "name": "stderr",
     "output_type": "stream",
     "text": [
      "\n",
      "\n",
      " 79%|███████▊  | 393/500 [54:41<15:07,  8.49s/it]\u001b[A\u001b[A"
     ]
    },
    {
     "name": "stdout",
     "output_type": "stream",
     "text": [
      "8\n"
     ]
    },
    {
     "name": "stderr",
     "output_type": "stream",
     "text": [
      "\n",
      "\n",
      " 79%|███████▉  | 394/500 [54:51<15:56,  9.02s/it]\u001b[A\u001b[A"
     ]
    },
    {
     "name": "stdout",
     "output_type": "stream",
     "text": [
      "10\n"
     ]
    },
    {
     "name": "stderr",
     "output_type": "stream",
     "text": [
      "\n",
      "\n",
      " 79%|███████▉  | 395/500 [55:02<16:59,  9.71s/it]\u001b[A\u001b[A"
     ]
    },
    {
     "name": "stdout",
     "output_type": "stream",
     "text": [
      "10\n"
     ]
    },
    {
     "name": "stderr",
     "output_type": "stream",
     "text": [
      "\n",
      "\n",
      " 79%|███████▉  | 396/500 [55:08<14:42,  8.48s/it]\u001b[A\u001b[A"
     ]
    },
    {
     "name": "stdout",
     "output_type": "stream",
     "text": [
      "7\n"
     ]
    },
    {
     "name": "stderr",
     "output_type": "stream",
     "text": [
      "\n",
      "\n",
      " 79%|███████▉  | 397/500 [55:16<14:12,  8.27s/it]\u001b[A\u001b[A"
     ]
    },
    {
     "name": "stdout",
     "output_type": "stream",
     "text": [
      "9\n"
     ]
    },
    {
     "name": "stderr",
     "output_type": "stream",
     "text": [
      "\n",
      "\n",
      " 80%|███████▉  | 398/500 [55:26<14:51,  8.74s/it]\u001b[A\u001b[A"
     ]
    },
    {
     "name": "stdout",
     "output_type": "stream",
     "text": [
      "11\n"
     ]
    },
    {
     "name": "stderr",
     "output_type": "stream",
     "text": [
      "\n",
      "\n",
      " 80%|███████▉  | 399/500 [55:37<16:04,  9.55s/it]\u001b[A\u001b[A"
     ]
    },
    {
     "name": "stdout",
     "output_type": "stream",
     "text": [
      "11\n"
     ]
    },
    {
     "name": "stderr",
     "output_type": "stream",
     "text": [
      "\n",
      "\n",
      " 80%|████████  | 400/500 [55:43<13:59,  8.40s/it]\u001b[A\u001b[A"
     ]
    },
    {
     "name": "stdout",
     "output_type": "stream",
     "text": [
      "7\n"
     ]
    },
    {
     "name": "stderr",
     "output_type": "stream",
     "text": [
      "\n",
      "\n",
      " 80%|████████  | 401/500 [55:51<13:52,  8.41s/it]\u001b[A\u001b[A"
     ]
    },
    {
     "name": "stdout",
     "output_type": "stream",
     "text": [
      "12\n"
     ]
    },
    {
     "name": "stderr",
     "output_type": "stream",
     "text": [
      "\n",
      "\n",
      " 80%|████████  | 402/500 [55:58<12:54,  7.91s/it]\u001b[A\u001b[A"
     ]
    },
    {
     "name": "stdout",
     "output_type": "stream",
     "text": [
      "7\n"
     ]
    },
    {
     "name": "stderr",
     "output_type": "stream",
     "text": [
      "\n",
      "\n",
      " 81%|████████  | 403/500 [56:05<12:19,  7.62s/it]\u001b[A\u001b[A"
     ]
    },
    {
     "name": "stdout",
     "output_type": "stream",
     "text": [
      "7\n"
     ]
    },
    {
     "name": "stderr",
     "output_type": "stream",
     "text": [
      "\n",
      "\n",
      " 81%|████████  | 404/500 [56:12<11:43,  7.33s/it]\u001b[A\u001b[A"
     ]
    },
    {
     "name": "stdout",
     "output_type": "stream",
     "text": [
      "9\n"
     ]
    },
    {
     "name": "stderr",
     "output_type": "stream",
     "text": [
      "\n",
      "\n",
      " 81%|████████  | 405/500 [56:21<12:36,  7.96s/it]\u001b[A\u001b[A"
     ]
    },
    {
     "name": "stdout",
     "output_type": "stream",
     "text": [
      "10\n"
     ]
    },
    {
     "name": "stderr",
     "output_type": "stream",
     "text": [
      "\n",
      "\n",
      " 81%|████████  | 406/500 [56:30<12:52,  8.21s/it]\u001b[A\u001b[A"
     ]
    },
    {
     "name": "stdout",
     "output_type": "stream",
     "text": [
      "10\n"
     ]
    },
    {
     "name": "stderr",
     "output_type": "stream",
     "text": [
      "\n",
      "\n",
      " 81%|████████▏ | 407/500 [56:42<14:22,  9.28s/it]\u001b[A\u001b[A"
     ]
    },
    {
     "name": "stdout",
     "output_type": "stream",
     "text": [
      "11\n"
     ]
    },
    {
     "name": "stderr",
     "output_type": "stream",
     "text": [
      "\n",
      "\n",
      " 82%|████████▏ | 408/500 [56:50<13:49,  9.02s/it]\u001b[A\u001b[A"
     ]
    },
    {
     "name": "stdout",
     "output_type": "stream",
     "text": [
      "8\n"
     ]
    },
    {
     "name": "stderr",
     "output_type": "stream",
     "text": [
      "\n",
      "\n",
      " 82%|████████▏ | 409/500 [56:59<13:47,  9.09s/it]\u001b[A\u001b[A"
     ]
    },
    {
     "name": "stdout",
     "output_type": "stream",
     "text": [
      "11\n"
     ]
    },
    {
     "name": "stderr",
     "output_type": "stream",
     "text": [
      "\n",
      "\n",
      " 82%|████████▏ | 410/500 [57:05<12:14,  8.16s/it]\u001b[A\u001b[A"
     ]
    },
    {
     "name": "stdout",
     "output_type": "stream",
     "text": [
      "7\n"
     ]
    },
    {
     "name": "stderr",
     "output_type": "stream",
     "text": [
      "\n",
      "\n",
      " 82%|████████▏ | 411/500 [57:14<12:24,  8.36s/it]\u001b[A\u001b[A"
     ]
    },
    {
     "name": "stdout",
     "output_type": "stream",
     "text": [
      "9\n"
     ]
    },
    {
     "name": "stderr",
     "output_type": "stream",
     "text": [
      "\n",
      "\n",
      " 82%|████████▏ | 412/500 [57:24<12:59,  8.86s/it]\u001b[A\u001b[A"
     ]
    },
    {
     "name": "stdout",
     "output_type": "stream",
     "text": [
      "9\n"
     ]
    },
    {
     "name": "stderr",
     "output_type": "stream",
     "text": [
      "\n",
      "\n",
      " 83%|████████▎ | 413/500 [57:32<12:24,  8.56s/it]\u001b[A\u001b[A"
     ]
    },
    {
     "name": "stdout",
     "output_type": "stream",
     "text": [
      "7\n"
     ]
    },
    {
     "name": "stderr",
     "output_type": "stream",
     "text": [
      "\n",
      "\n",
      " 83%|████████▎ | 414/500 [57:41<12:24,  8.65s/it]\u001b[A\u001b[A"
     ]
    },
    {
     "name": "stdout",
     "output_type": "stream",
     "text": [
      "10\n"
     ]
    },
    {
     "name": "stderr",
     "output_type": "stream",
     "text": [
      "\n",
      "\n",
      " 83%|████████▎ | 415/500 [57:52<13:15,  9.36s/it]\u001b[A\u001b[A"
     ]
    },
    {
     "name": "stdout",
     "output_type": "stream",
     "text": [
      "10\n"
     ]
    },
    {
     "name": "stderr",
     "output_type": "stream",
     "text": [
      "\n",
      "\n",
      " 83%|████████▎ | 416/500 [57:58<11:55,  8.52s/it]\u001b[A\u001b[A"
     ]
    },
    {
     "name": "stdout",
     "output_type": "stream",
     "text": [
      "8\n"
     ]
    },
    {
     "name": "stderr",
     "output_type": "stream",
     "text": [
      "\n",
      "\n",
      " 83%|████████▎ | 417/500 [58:06<11:24,  8.25s/it]\u001b[A\u001b[A"
     ]
    },
    {
     "name": "stdout",
     "output_type": "stream",
     "text": [
      "8\n"
     ]
    },
    {
     "name": "stderr",
     "output_type": "stream",
     "text": [
      "\n",
      "\n",
      " 84%|████████▎ | 418/500 [58:18<12:39,  9.27s/it]\u001b[A\u001b[A"
     ]
    },
    {
     "name": "stdout",
     "output_type": "stream",
     "text": [
      "10\n"
     ]
    },
    {
     "name": "stderr",
     "output_type": "stream",
     "text": [
      "\n",
      "\n",
      " 84%|████████▍ | 419/500 [58:25<11:36,  8.60s/it]\u001b[A\u001b[A"
     ]
    },
    {
     "name": "stdout",
     "output_type": "stream",
     "text": [
      "6\n"
     ]
    },
    {
     "name": "stderr",
     "output_type": "stream",
     "text": [
      "\n",
      "\n",
      " 84%|████████▍ | 420/500 [58:31<10:40,  8.01s/it]\u001b[A\u001b[A"
     ]
    },
    {
     "name": "stdout",
     "output_type": "stream",
     "text": [
      "9\n"
     ]
    },
    {
     "name": "stderr",
     "output_type": "stream",
     "text": [
      "\n",
      "\n",
      " 84%|████████▍ | 421/500 [58:41<11:17,  8.57s/it]\u001b[A\u001b[A"
     ]
    },
    {
     "name": "stdout",
     "output_type": "stream",
     "text": [
      "11\n"
     ]
    },
    {
     "name": "stderr",
     "output_type": "stream",
     "text": [
      "\n",
      "\n",
      " 84%|████████▍ | 422/500 [58:50<11:24,  8.78s/it]\u001b[A\u001b[A"
     ]
    },
    {
     "name": "stdout",
     "output_type": "stream",
     "text": [
      "10\n"
     ]
    },
    {
     "name": "stderr",
     "output_type": "stream",
     "text": [
      "\n",
      "\n",
      " 85%|████████▍ | 423/500 [58:59<11:13,  8.74s/it]\u001b[A\u001b[A"
     ]
    },
    {
     "name": "stdout",
     "output_type": "stream",
     "text": [
      "10\n"
     ]
    },
    {
     "name": "stderr",
     "output_type": "stream",
     "text": [
      "\n",
      "\n",
      " 85%|████████▍ | 424/500 [59:07<10:44,  8.48s/it]\u001b[A\u001b[A"
     ]
    },
    {
     "name": "stdout",
     "output_type": "stream",
     "text": [
      "9\n"
     ]
    },
    {
     "name": "stderr",
     "output_type": "stream",
     "text": [
      "\n",
      "\n",
      " 85%|████████▌ | 425/500 [59:17<11:17,  9.03s/it]\u001b[A\u001b[A"
     ]
    },
    {
     "name": "stdout",
     "output_type": "stream",
     "text": [
      "10\n"
     ]
    },
    {
     "name": "stderr",
     "output_type": "stream",
     "text": [
      "\n",
      "\n",
      " 85%|████████▌ | 426/500 [59:29<12:02,  9.76s/it]\u001b[A\u001b[A"
     ]
    },
    {
     "name": "stdout",
     "output_type": "stream",
     "text": [
      "9\n"
     ]
    },
    {
     "name": "stderr",
     "output_type": "stream",
     "text": [
      "\n",
      "\n",
      " 85%|████████▌ | 427/500 [59:40<12:31, 10.29s/it]\u001b[A\u001b[A"
     ]
    },
    {
     "name": "stdout",
     "output_type": "stream",
     "text": [
      "10\n"
     ]
    },
    {
     "name": "stderr",
     "output_type": "stream",
     "text": [
      "\n",
      "\n",
      " 86%|████████▌ | 428/500 [59:46<10:48,  9.01s/it]\u001b[A\u001b[A"
     ]
    },
    {
     "name": "stdout",
     "output_type": "stream",
     "text": [
      "7\n"
     ]
    },
    {
     "name": "stderr",
     "output_type": "stream",
     "text": [
      "\n",
      "\n",
      " 86%|████████▌ | 429/500 [59:58<11:37,  9.82s/it]\u001b[A\u001b[A"
     ]
    },
    {
     "name": "stdout",
     "output_type": "stream",
     "text": [
      "11\n"
     ]
    },
    {
     "name": "stderr",
     "output_type": "stream",
     "text": [
      "\n",
      "\n",
      " 86%|████████▌ | 430/500 [1:00:08<11:38,  9.98s/it]\u001b[A\u001b[A"
     ]
    },
    {
     "name": "stdout",
     "output_type": "stream",
     "text": [
      "10\n"
     ]
    },
    {
     "name": "stderr",
     "output_type": "stream",
     "text": [
      "\n",
      "\n",
      " 86%|████████▌ | 431/500 [1:00:20<12:09, 10.57s/it]\u001b[A\u001b[A"
     ]
    },
    {
     "name": "stdout",
     "output_type": "stream",
     "text": [
      "11\n"
     ]
    },
    {
     "name": "stderr",
     "output_type": "stream",
     "text": [
      "\n",
      "\n",
      " 86%|████████▋ | 432/500 [1:00:28<10:55,  9.63s/it]\u001b[A\u001b[A"
     ]
    },
    {
     "name": "stdout",
     "output_type": "stream",
     "text": [
      "10\n"
     ]
    },
    {
     "name": "stderr",
     "output_type": "stream",
     "text": [
      "\n",
      "\n",
      " 87%|████████▋ | 433/500 [1:00:39<11:20, 10.15s/it]\u001b[A\u001b[A"
     ]
    },
    {
     "name": "stdout",
     "output_type": "stream",
     "text": [
      "9\n"
     ]
    },
    {
     "name": "stderr",
     "output_type": "stream",
     "text": [
      "\n",
      "\n",
      " 87%|████████▋ | 434/500 [1:00:51<11:47, 10.71s/it]\u001b[A\u001b[A"
     ]
    },
    {
     "name": "stdout",
     "output_type": "stream",
     "text": [
      "10\n"
     ]
    },
    {
     "name": "stderr",
     "output_type": "stream",
     "text": [
      "\n",
      "\n",
      " 87%|████████▋ | 435/500 [1:01:02<11:42, 10.80s/it]\u001b[A\u001b[A"
     ]
    },
    {
     "name": "stdout",
     "output_type": "stream",
     "text": [
      "12\n"
     ]
    },
    {
     "name": "stderr",
     "output_type": "stream",
     "text": [
      "\n",
      "\n",
      " 87%|████████▋ | 436/500 [1:01:08<09:57,  9.34s/it]\u001b[A\u001b[A"
     ]
    },
    {
     "name": "stdout",
     "output_type": "stream",
     "text": [
      "7\n"
     ]
    },
    {
     "name": "stderr",
     "output_type": "stream",
     "text": [
      "\n",
      "\n",
      " 87%|████████▋ | 437/500 [1:01:14<08:44,  8.32s/it]\u001b[A\u001b[A"
     ]
    },
    {
     "name": "stdout",
     "output_type": "stream",
     "text": [
      "7\n"
     ]
    },
    {
     "name": "stderr",
     "output_type": "stream",
     "text": [
      "\n",
      "\n",
      " 88%|████████▊ | 438/500 [1:01:23<08:47,  8.50s/it]\u001b[A\u001b[A"
     ]
    },
    {
     "name": "stdout",
     "output_type": "stream",
     "text": [
      "9\n"
     ]
    },
    {
     "name": "stderr",
     "output_type": "stream",
     "text": [
      "\n",
      "\n",
      " 88%|████████▊ | 439/500 [1:01:29<07:47,  7.66s/it]\u001b[A\u001b[A"
     ]
    },
    {
     "name": "stdout",
     "output_type": "stream",
     "text": [
      "8\n"
     ]
    },
    {
     "name": "stderr",
     "output_type": "stream",
     "text": [
      "\n",
      "\n",
      " 88%|████████▊ | 440/500 [1:01:34<07:06,  7.10s/it]\u001b[A\u001b[A"
     ]
    },
    {
     "name": "stdout",
     "output_type": "stream",
     "text": [
      "8\n"
     ]
    },
    {
     "name": "stderr",
     "output_type": "stream",
     "text": [
      "\n",
      "\n",
      " 88%|████████▊ | 441/500 [1:01:41<06:52,  6.99s/it]\u001b[A\u001b[A"
     ]
    },
    {
     "name": "stdout",
     "output_type": "stream",
     "text": [
      "8\n"
     ]
    },
    {
     "name": "stderr",
     "output_type": "stream",
     "text": [
      "\n",
      "\n",
      " 88%|████████▊ | 442/500 [1:01:50<07:18,  7.57s/it]\u001b[A\u001b[A"
     ]
    },
    {
     "name": "stdout",
     "output_type": "stream",
     "text": [
      "9\n"
     ]
    },
    {
     "name": "stderr",
     "output_type": "stream",
     "text": [
      "\n",
      "\n",
      " 89%|████████▊ | 443/500 [1:02:01<08:15,  8.70s/it]\u001b[A\u001b[A"
     ]
    },
    {
     "name": "stdout",
     "output_type": "stream",
     "text": [
      "10\n"
     ]
    },
    {
     "name": "stderr",
     "output_type": "stream",
     "text": [
      "\n",
      "\n",
      " 89%|████████▉ | 444/500 [1:02:13<08:50,  9.48s/it]\u001b[A\u001b[A"
     ]
    },
    {
     "name": "stdout",
     "output_type": "stream",
     "text": [
      "12\n"
     ]
    },
    {
     "name": "stderr",
     "output_type": "stream",
     "text": [
      "\n",
      "\n",
      " 89%|████████▉ | 445/500 [1:02:22<08:41,  9.49s/it]\u001b[A\u001b[A"
     ]
    },
    {
     "name": "stdout",
     "output_type": "stream",
     "text": [
      "8\n"
     ]
    },
    {
     "name": "stderr",
     "output_type": "stream",
     "text": [
      "\n",
      "\n",
      " 89%|████████▉ | 446/500 [1:02:30<08:04,  8.98s/it]\u001b[A\u001b[A"
     ]
    },
    {
     "name": "stdout",
     "output_type": "stream",
     "text": [
      "8\n"
     ]
    },
    {
     "name": "stderr",
     "output_type": "stream",
     "text": [
      "\n",
      "\n",
      " 89%|████████▉ | 447/500 [1:02:37<07:16,  8.24s/it]\u001b[A\u001b[A"
     ]
    },
    {
     "name": "stdout",
     "output_type": "stream",
     "text": [
      "9\n"
     ]
    },
    {
     "name": "stderr",
     "output_type": "stream",
     "text": [
      "\n",
      "\n",
      " 90%|████████▉ | 448/500 [1:02:43<06:42,  7.75s/it]\u001b[A\u001b[A"
     ]
    },
    {
     "name": "stdout",
     "output_type": "stream",
     "text": [
      "9\n"
     ]
    },
    {
     "name": "stderr",
     "output_type": "stream",
     "text": [
      "\n",
      "\n",
      " 90%|████████▉ | 449/500 [1:02:54<07:16,  8.57s/it]\u001b[A\u001b[A"
     ]
    },
    {
     "name": "stdout",
     "output_type": "stream",
     "text": [
      "9\n"
     ]
    },
    {
     "name": "stderr",
     "output_type": "stream",
     "text": [
      "\n",
      "\n",
      " 90%|█████████ | 450/500 [1:03:00<06:40,  8.01s/it]\u001b[A\u001b[A"
     ]
    },
    {
     "name": "stdout",
     "output_type": "stream",
     "text": [
      "8\n"
     ]
    },
    {
     "name": "stderr",
     "output_type": "stream",
     "text": [
      "\n",
      "\n",
      " 90%|█████████ | 451/500 [1:03:10<06:54,  8.47s/it]\u001b[A\u001b[A"
     ]
    },
    {
     "name": "stdout",
     "output_type": "stream",
     "text": [
      "11\n"
     ]
    },
    {
     "name": "stderr",
     "output_type": "stream",
     "text": [
      "\n",
      "\n",
      " 90%|█████████ | 452/500 [1:03:17<06:21,  7.94s/it]\u001b[A\u001b[A"
     ]
    },
    {
     "name": "stdout",
     "output_type": "stream",
     "text": [
      "7\n"
     ]
    },
    {
     "name": "stderr",
     "output_type": "stream",
     "text": [
      "\n",
      "\n",
      " 91%|█████████ | 453/500 [1:03:22<05:41,  7.26s/it]\u001b[A\u001b[A"
     ]
    },
    {
     "name": "stdout",
     "output_type": "stream",
     "text": [
      "7\n"
     ]
    },
    {
     "name": "stderr",
     "output_type": "stream",
     "text": [
      "\n",
      "\n",
      " 91%|█████████ | 454/500 [1:03:29<05:26,  7.11s/it]\u001b[A\u001b[A"
     ]
    },
    {
     "name": "stdout",
     "output_type": "stream",
     "text": [
      "9\n"
     ]
    },
    {
     "name": "stderr",
     "output_type": "stream",
     "text": [
      "\n",
      "\n",
      " 91%|█████████ | 455/500 [1:03:39<05:54,  7.88s/it]\u001b[A\u001b[A"
     ]
    },
    {
     "name": "stdout",
     "output_type": "stream",
     "text": [
      "10\n"
     ]
    },
    {
     "name": "stderr",
     "output_type": "stream",
     "text": [
      "\n",
      "\n",
      " 91%|█████████ | 456/500 [1:03:50<06:35,  8.99s/it]\u001b[A\u001b[A"
     ]
    },
    {
     "name": "stdout",
     "output_type": "stream",
     "text": [
      "9\n"
     ]
    },
    {
     "name": "stderr",
     "output_type": "stream",
     "text": [
      "\n",
      "\n",
      " 91%|█████████▏| 457/500 [1:04:01<06:46,  9.44s/it]\u001b[A\u001b[A"
     ]
    },
    {
     "name": "stdout",
     "output_type": "stream",
     "text": [
      "11\n"
     ]
    },
    {
     "name": "stderr",
     "output_type": "stream",
     "text": [
      "\n",
      "\n",
      " 92%|█████████▏| 458/500 [1:04:13<07:14, 10.36s/it]\u001b[A\u001b[A"
     ]
    },
    {
     "name": "stdout",
     "output_type": "stream",
     "text": [
      "10\n"
     ]
    },
    {
     "name": "stderr",
     "output_type": "stream",
     "text": [
      "\n",
      "\n",
      " 92%|█████████▏| 459/500 [1:04:20<06:16,  9.19s/it]\u001b[A\u001b[A"
     ]
    },
    {
     "name": "stdout",
     "output_type": "stream",
     "text": [
      "8\n"
     ]
    },
    {
     "name": "stderr",
     "output_type": "stream",
     "text": [
      "\n",
      "\n",
      " 92%|█████████▏| 460/500 [1:04:27<05:41,  8.54s/it]\u001b[A\u001b[A"
     ]
    },
    {
     "name": "stdout",
     "output_type": "stream",
     "text": [
      "9\n"
     ]
    },
    {
     "name": "stderr",
     "output_type": "stream",
     "text": [
      "\n",
      "\n",
      " 92%|█████████▏| 461/500 [1:04:36<05:36,  8.63s/it]\u001b[A\u001b[A"
     ]
    },
    {
     "name": "stdout",
     "output_type": "stream",
     "text": [
      "8\n"
     ]
    },
    {
     "name": "stderr",
     "output_type": "stream",
     "text": [
      "\n",
      "\n",
      " 92%|█████████▏| 462/500 [1:04:47<05:58,  9.42s/it]\u001b[A\u001b[A"
     ]
    },
    {
     "name": "stdout",
     "output_type": "stream",
     "text": [
      "11\n"
     ]
    },
    {
     "name": "stderr",
     "output_type": "stream",
     "text": [
      "\n",
      "\n",
      " 93%|█████████▎| 463/500 [1:04:58<06:08,  9.97s/it]\u001b[A\u001b[A"
     ]
    },
    {
     "name": "stdout",
     "output_type": "stream",
     "text": [
      "9\n"
     ]
    },
    {
     "name": "stderr",
     "output_type": "stream",
     "text": [
      "\n",
      "\n",
      " 93%|█████████▎| 464/500 [1:05:07<05:41,  9.50s/it]\u001b[A\u001b[A"
     ]
    },
    {
     "name": "stdout",
     "output_type": "stream",
     "text": [
      "9\n"
     ]
    },
    {
     "name": "stderr",
     "output_type": "stream",
     "text": [
      "\n",
      "\n",
      " 93%|█████████▎| 465/500 [1:05:13<05:02,  8.64s/it]\u001b[A\u001b[A"
     ]
    },
    {
     "name": "stdout",
     "output_type": "stream",
     "text": [
      "7\n"
     ]
    },
    {
     "name": "stderr",
     "output_type": "stream",
     "text": [
      "\n",
      "\n",
      " 93%|█████████▎| 466/500 [1:05:21<04:50,  8.54s/it]\u001b[A\u001b[A"
     ]
    },
    {
     "name": "stdout",
     "output_type": "stream",
     "text": [
      "8\n"
     ]
    },
    {
     "name": "stderr",
     "output_type": "stream",
     "text": [
      "\n",
      "\n",
      " 93%|█████████▎| 467/500 [1:05:34<05:18,  9.66s/it]\u001b[A\u001b[A"
     ]
    },
    {
     "name": "stdout",
     "output_type": "stream",
     "text": [
      "11\n"
     ]
    },
    {
     "name": "stderr",
     "output_type": "stream",
     "text": [
      "\n",
      "\n",
      " 94%|█████████▎| 468/500 [1:05:41<04:42,  8.82s/it]\u001b[A\u001b[A"
     ]
    },
    {
     "name": "stdout",
     "output_type": "stream",
     "text": [
      "8\n"
     ]
    },
    {
     "name": "stderr",
     "output_type": "stream",
     "text": [
      "\n",
      "\n",
      " 94%|█████████▍| 469/500 [1:05:51<04:51,  9.40s/it]\u001b[A\u001b[A"
     ]
    },
    {
     "name": "stdout",
     "output_type": "stream",
     "text": [
      "10\n"
     ]
    },
    {
     "name": "stderr",
     "output_type": "stream",
     "text": [
      "\n",
      "\n",
      " 94%|█████████▍| 470/500 [1:05:59<04:29,  8.97s/it]\u001b[A\u001b[A"
     ]
    },
    {
     "name": "stdout",
     "output_type": "stream",
     "text": [
      "8\n"
     ]
    },
    {
     "name": "stderr",
     "output_type": "stream",
     "text": [
      "\n",
      "\n",
      " 94%|█████████▍| 471/500 [1:06:07<04:12,  8.71s/it]\u001b[A\u001b[A"
     ]
    },
    {
     "name": "stdout",
     "output_type": "stream",
     "text": [
      "8\n"
     ]
    },
    {
     "name": "stderr",
     "output_type": "stream",
     "text": [
      "\n",
      "\n",
      " 94%|█████████▍| 472/500 [1:06:16<03:58,  8.52s/it]\u001b[A\u001b[A"
     ]
    },
    {
     "name": "stdout",
     "output_type": "stream",
     "text": [
      "7\n"
     ]
    },
    {
     "name": "stderr",
     "output_type": "stream",
     "text": [
      "\n",
      "\n",
      " 95%|█████████▍| 473/500 [1:06:21<03:27,  7.69s/it]\u001b[A\u001b[A"
     ]
    },
    {
     "name": "stdout",
     "output_type": "stream",
     "text": [
      "9\n"
     ]
    },
    {
     "name": "stderr",
     "output_type": "stream",
     "text": [
      "\n",
      "\n",
      " 95%|█████████▍| 474/500 [1:06:30<03:25,  7.92s/it]\u001b[A\u001b[A"
     ]
    },
    {
     "name": "stdout",
     "output_type": "stream",
     "text": [
      "7\n"
     ]
    },
    {
     "name": "stderr",
     "output_type": "stream",
     "text": [
      "\n",
      "\n",
      " 95%|█████████▌| 475/500 [1:06:40<03:39,  8.76s/it]\u001b[A\u001b[A"
     ]
    },
    {
     "name": "stdout",
     "output_type": "stream",
     "text": [
      "12\n"
     ]
    },
    {
     "name": "stderr",
     "output_type": "stream",
     "text": [
      "\n",
      "\n",
      " 95%|█████████▌| 476/500 [1:06:46<03:09,  7.90s/it]\u001b[A\u001b[A"
     ]
    },
    {
     "name": "stdout",
     "output_type": "stream",
     "text": [
      "8\n"
     ]
    },
    {
     "name": "stderr",
     "output_type": "stream",
     "text": [
      "\n",
      "\n",
      " 95%|█████████▌| 477/500 [1:06:55<03:08,  8.19s/it]\u001b[A\u001b[A"
     ]
    },
    {
     "name": "stdout",
     "output_type": "stream",
     "text": [
      "9\n"
     ]
    },
    {
     "name": "stderr",
     "output_type": "stream",
     "text": [
      "\n",
      "\n",
      " 96%|█████████▌| 478/500 [1:07:04<03:03,  8.33s/it]\u001b[A\u001b[A"
     ]
    },
    {
     "name": "stdout",
     "output_type": "stream",
     "text": [
      "10\n"
     ]
    },
    {
     "name": "stderr",
     "output_type": "stream",
     "text": [
      "\n",
      "\n",
      " 96%|█████████▌| 479/500 [1:07:14<03:06,  8.88s/it]\u001b[A\u001b[A"
     ]
    },
    {
     "name": "stdout",
     "output_type": "stream",
     "text": [
      "10\n"
     ]
    },
    {
     "name": "stderr",
     "output_type": "stream",
     "text": [
      "\n",
      "\n",
      " 96%|█████████▌| 480/500 [1:07:23<02:59,  8.97s/it]\u001b[A\u001b[A"
     ]
    },
    {
     "name": "stdout",
     "output_type": "stream",
     "text": [
      "10\n"
     ]
    },
    {
     "name": "stderr",
     "output_type": "stream",
     "text": [
      "\n",
      "\n",
      " 96%|█████████▌| 481/500 [1:07:33<02:55,  9.22s/it]\u001b[A\u001b[A"
     ]
    },
    {
     "name": "stdout",
     "output_type": "stream",
     "text": [
      "10\n"
     ]
    },
    {
     "name": "stderr",
     "output_type": "stream",
     "text": [
      "\n",
      "\n",
      " 96%|█████████▋| 482/500 [1:07:43<02:50,  9.50s/it]\u001b[A\u001b[A"
     ]
    },
    {
     "name": "stdout",
     "output_type": "stream",
     "text": [
      "10\n"
     ]
    },
    {
     "name": "stderr",
     "output_type": "stream",
     "text": [
      "\n",
      "\n",
      " 97%|█████████▋| 483/500 [1:07:53<02:43,  9.64s/it]\u001b[A\u001b[A"
     ]
    },
    {
     "name": "stdout",
     "output_type": "stream",
     "text": [
      "10\n"
     ]
    },
    {
     "name": "stderr",
     "output_type": "stream",
     "text": [
      "\n",
      "\n",
      " 97%|█████████▋| 484/500 [1:07:59<02:15,  8.49s/it]\u001b[A\u001b[A"
     ]
    },
    {
     "name": "stdout",
     "output_type": "stream",
     "text": [
      "7\n"
     ]
    },
    {
     "name": "stderr",
     "output_type": "stream",
     "text": [
      "\n",
      "\n",
      " 97%|█████████▋| 485/500 [1:08:09<02:15,  9.02s/it]\u001b[A\u001b[A"
     ]
    },
    {
     "name": "stdout",
     "output_type": "stream",
     "text": [
      "10\n"
     ]
    }
   ],
   "source": [
    "for i in tqdm(range(500)):\n",
    "    out = create_branched()\n",
    "    with open(f'bigger_labeled/{i}.json', 'w') as fp:\n",
    "        json.dump(out, fp)"
   ]
  },
  {
   "cell_type": "code",
   "execution_count": null,
   "metadata": {},
   "outputs": [],
   "source": [
    "create_branched()"
   ]
  },
  {
   "cell_type": "code",
   "execution_count": 21,
   "metadata": {},
   "outputs": [
    {
     "data": {
      "text/plain": [
       "465.71138953929045"
      ]
     },
     "execution_count": 21,
     "metadata": {},
     "output_type": "execute_result"
    }
   ],
   "source": [
    "confgen = ConformerGeneratorCustom(max_conformers=1, \n",
    "                 rmsd_threshold=None, \n",
    "                 force_field='mmff',\n",
    "                 pool_multiplier=1)\n",
    "\n",
    "one = 'COc1cc(C2OCC3C(c4ccc([O])c(OC)c4)OCC23)ccc1[O]'\n",
    "two = 'COc1cc(C2Oc3c(OC)cc(C=CCO)cc3C2CO)ccc1[O]'\n",
    "twoprime = 'COc1cc(C2Oc3c(OC)cc(C=CCO)cc3C2CO)ccc1O'\n",
    "three = 'COc1cc(C2Oc3c(OC)cc(C(O)C(CO)Oc4ccc(C=CCO)cc4OC)cc3C2CO)ccc1[O]'\n",
    "threeprime = 'COc1cc(C2Oc3c(OC)cc(C(O)C(CO)Oc4ccc(C=CCO)cc4OC)cc3C2CO)ccc1O'\n",
    "# four = 'COc1cc(C(O)C(CO)Oc2ccc(C(O)C(CO)Oc3ccc(C(O)C(CO)Oc4ccc(C=CCO)cc4OC)cc3OC)cc2OC)ccc1[O]'\n",
    "# ten = 'COc1cc(C2Oc3c(OC)cc(C4Oc5c(OC)cc(C(O)C(CO)Oc6ccc(C7OCC8C(c9cc(OC)c%10c(c9)C(CO)C(c9cc(OC)c%11c(c9)C(CO)C(c9ccc(O)c(OC)c9)O%11)O%10)OCC78)cc6OC)cc5C4CO)cc3C2CO)ccc1[O].COc1cc(C2Oc3c(OC)cc(C4Oc5c(OC)cc(C=CCO)cc5C4CO)cc3C2CO)ccc1O'\n",
    "# nine = 'COc1cc(C(O)C(CO)Oc2ccc(C3OCC4C(c5cc(OC)c6c(c5)C(CO)C(c5ccc(OC(CO)C(O)c7cc(OC)c8c(c7)C(CO)C(c7ccc([O])c(OC)c7)O8)c(OC)c5)O6)OCC34)cc2OC)ccc1[O].COc1cc(C2Oc3c(OC)cc(C4Oc5c(OC)cc(C=CCO)cc5C4CO)cc3C2CO)ccc1O'\n",
    "eight = 'COc1cc(C(O)C(CO)Oc2c(OC)cc(C(O)C(CO)Oc3ccc(C4Oc5c(OC)cc(C6Oc7c(OC)cc(C8Oc9c(OC)cc(C=CCO)cc9C8CO)cc7C6CO)cc5C4CO)cc3OC)cc2-c2cc(C3OCC4C(c5ccc(O)c(OC)c5)OCC34)cc(OC)c2[O])ccc1[O]'\n",
    "eightprime = 'COc1cc(C(O)C(CO)Oc2c(OC)cc(C(O)C(CO)Oc3ccc(C4Oc5c(OC)cc(C6Oc7c(OC)cc(C8Oc9c(OC)cc(C=CCO)cc9C8CO)cc7C6CO)cc5C4CO)cc3OC)cc2-c2cc(C3OCC4C(c5ccc(O)c(OC)c5)OCC34)cc(OC)c2O)ccc1O'\n",
    "\n",
    "x = Chem.MolFromSmiles(eightprime)\n",
    "x = Chem.AddHs(x)\n",
    "res = AllChem.EmbedMultipleConfs(x, numConfs=10, numThreads=-1)\n",
    "Chem.AllChem.MMFFOptimizeMoleculeConfs(x, numThreads=-1)\n",
    "confgen.get_conformer_energies(x).min()"
   ]
  },
  {
   "cell_type": "code",
   "execution_count": 20,
   "metadata": {},
   "outputs": [
    {
     "name": "stdout",
     "output_type": "stream",
     "text": [
      "30\n"
     ]
    },
    {
     "data": {
      "application/3dmoljs_load.v0": "<div id=\"3dmolviewer_1586651921794206\"  style=\"position: relative; width: 800px; height: 800px\">\n        <p id=\"3dmolwarning_1586651921794206\" style=\"background-color:#ffcccc;color:black\">You appear to be running in JupyterLab (or JavaScript failed to load for some other reason).  You need to install the 3dmol extension: <br>\n        <tt>jupyter labextension install jupyterlab_3dmol</tt></p>\n        </div>\n<script>\n\nvar loadScriptAsync = function(uri){\n  return new Promise((resolve, reject) => {\n    var tag = document.createElement('script');\n    tag.src = uri;\n    tag.async = true;\n    tag.onload = () => {\n      resolve();\n    };\n  var firstScriptTag = document.getElementsByTagName('script')[0];\n  firstScriptTag.parentNode.insertBefore(tag, firstScriptTag);\n});\n};\n\nif(typeof $3Dmolpromise === 'undefined') {\n$3Dmolpromise = null;\n  $3Dmolpromise = loadScriptAsync('https://3dmol.csb.pitt.edu/build/3Dmol.js');\n}\n\nvar viewer_1586651921794206 = null;\nvar warn = document.getElementById(\"3dmolwarning_1586651921794206\");\nif(warn) {\n    warn.parentNode.removeChild(warn);\n}\n$3Dmolpromise.then(function() {\nviewer_1586651921794206 = $3Dmol.createViewer($(\"#3dmolviewer_1586651921794206\"),{backgroundColor:\"white\"});\n\tviewer_1586651921794206.removeAllModels();\n\tviewer_1586651921794206.addModel(\"\\n     RDKit          3D\\n\\n190202  0  0  0  0  0  0  0  0999 V2000\\n  -14.7708    0.9784   -1.6303 C   0  0  0  0  0  0  0  0  0  0  0  0\\n  -13.9344    0.3746   -0.6463 O   0  0  0  0  0  0  0  0  0  0  0  0\\n  -13.0162   -0.4459   -1.2713 C   0  0  0  0  0  0  0  0  0  0  0  0\\n  -11.8115    0.1558   -1.6968 C   0  0  0  0  0  0  0  0  0  0  0  0\\n  -10.8283   -0.5909   -2.3562 C   0  0  0  0  0  0  0  0  0  0  0  0\\n   -9.6297    0.0938   -2.9891 C   0  0  0  0  0  0  0  0  0  0  0  0\\n   -9.7247   -0.1436   -4.4180 O   0  0  0  0  0  0  0  0  0  0  0  0\\n   -8.1888   -0.2267   -2.4953 C   0  0  0  0  0  0  0  0  0  0  0  0\\n   -7.7664   -1.6997   -2.6682 C   0  0  0  0  0  0  0  0  0  0  0  0\\n   -7.9419   -2.1678   -4.0150 O   0  0  0  0  0  0  0  0  0  0  0  0\\n   -8.0314    0.2296   -1.1345 O   0  0  0  0  0  0  0  0  0  0  0  0\\n   -6.7469    0.6732   -0.8621 C   0  0  0  0  0  0  0  0  0  0  0  0\\n   -6.3158    1.9217   -1.3496 C   0  0  0  0  0  0  0  0  0  0  0  0\\n   -7.2247    2.6359   -2.0904 O   0  0  0  0  0  0  0  0  0  0  0  0\\n   -6.8930    3.9864   -2.3872 C   0  0  0  0  0  0  0  0  0  0  0  0\\n   -5.0131    2.3529   -1.0682 C   0  0  0  0  0  0  0  0  0  0  0  0\\n   -4.1393    1.5836   -0.2767 C   0  0  0  0  0  0  0  0  0  0  0  0\\n   -2.7226    2.0674   -0.0520 C   0  0  0  0  0  0  0  0  0  0  0  0\\n   -2.5721    2.4194    1.3339 O   0  0  0  0  0  0  0  0  0  0  0  0\\n   -1.5500    1.1452   -0.5028 C   0  0  0  0  0  0  0  0  0  0  0  0\\n   -1.8394    0.4521   -1.8462 C   0  0  0  0  0  0  0  0  0  0  0  0\\n   -2.1367    1.4035   -2.8727 O   0  0  0  0  0  0  0  0  0  0  0  0\\n   -1.2734    0.2011    0.5518 O   0  0  0  0  0  0  0  0  0  0  0  0\\n   -0.0810   -0.4747    0.5545 C   0  0  0  0  0  0  0  0  0  0  0  0\\n    1.0164   -0.1686   -0.2494 C   0  0  0  0  0  0  0  0  0  0  0  0\\n    2.1785   -0.9537   -0.2007 C   0  0  0  0  0  0  0  0  0  0  0  0\\n    2.2874   -2.0537    0.6641 C   0  0  0  0  0  0  0  0  0  0  0  0\\n    3.5176   -2.9573    0.6980 C   0  0  0  0  0  0  0  0  0  0  0  0\\n    3.9945   -3.1742   -0.6635 O   0  0  0  0  0  0  0  0  0  0  0  0\\n    5.0761   -2.3273   -0.7855 C   0  0  0  0  0  0  0  0  0  0  0  0\\n    5.6131   -1.9128   -1.9959 C   0  0  0  0  0  0  0  0  0  0  0  0\\n    5.0569   -2.4334   -3.1286 O   0  0  0  0  0  0  0  0  0  0  0  0\\n    5.3384   -1.7594   -4.3481 C   0  0  0  0  0  0  0  0  0  0  0  0\\n    6.6587   -0.9864   -1.9455 C   0  0  0  0  0  0  0  0  0  0  0  0\\n    7.1537   -0.4994   -0.7085 C   0  0  0  0  0  0  0  0  0  0  0  0\\n    8.3074    0.4858   -0.7063 C   0  0  0  0  0  0  0  0  0  0  0  0\\n    8.1851    1.4086    0.4109 O   0  0  0  0  0  0  0  0  0  0  0  0\\n    9.4893    1.7862    0.6536 C   0  0  0  0  0  0  0  0  0  0  0  0\\n    9.8701    2.8946    1.3934 C   0  0  0  0  0  0  0  0  0  0  0  0\\n    8.8677    3.6305    1.9597 O   0  0  0  0  0  0  0  0  0  0  0  0\\n    9.2611    4.6902    2.8221 C   0  0  0  0  0  0  0  0  0  0  0  0\\n   11.2384    3.1775    1.4631 C   0  0  0  0  0  0  0  0  0  0  0  0\\n   12.1904    2.3540    0.8140 C   0  0  0  0  0  0  0  0  0  0  0  0\\n   13.6597    2.7494    0.8254 C   0  0  0  0  0  0  0  0  0  0  0  0\\n   14.1210    2.7585   -0.5551 O   0  0  0  0  0  0  0  0  0  0  0  0\\n   15.2102    1.9277   -0.5945 C   0  0  0  0  0  0  0  0  0  0  0  0\\n   15.9301    1.6524   -1.7484 C   0  0  0  0  0  0  0  0  0  0  0  0\\n   15.4976    2.2530   -2.8988 O   0  0  0  0  0  0  0  0  0  0  0  0\\n   15.9303    1.6617   -4.1191 C   0  0  0  0  0  0  0  0  0  0  0  0\\n   17.0408    0.8109   -1.6362 C   0  0  0  0  0  0  0  0  0  0  0  0\\n   17.3924    0.2411   -0.3934 C   0  0  0  0  0  0  0  0  0  0  0  0\\n   18.5989   -0.5904   -0.3161 C   0  0  0  0  0  0  0  0  0  0  0  0\\n   18.6782   -1.8563    0.1270 C   0  0  0  0  0  0  0  0  0  0  0  0\\n   17.5783   -2.7374    0.6226 C   0  0  0  0  0  0  0  0  0  0  0  0\\n   17.8226   -3.0443    1.9835 O   0  0  0  0  0  0  0  0  0  0  0  0\\n   16.6262    0.5191    0.7466 C   0  0  0  0  0  0  0  0  0  0  0  0\\n   15.5323    1.3654    0.6277 C   0  0  0  0  0  0  0  0  0  0  0  0\\n   14.5670    1.8178    1.6670 C   0  0  0  0  0  0  0  0  0  0  0  0\\n   15.2539    2.5622    2.8138 C   0  0  0  0  0  0  0  0  0  0  0  0\\n   14.2889    3.0876    3.7169 O   0  0  0  0  0  0  0  0  0  0  0  0\\n   11.7641    1.1999    0.1278 C   0  0  0  0  0  0  0  0  0  0  0  0\\n   10.4104    0.9337    0.0558 C   0  0  0  0  0  0  0  0  0  0  0  0\\n    9.6794   -0.2012   -0.5797 C   0  0  0  0  0  0  0  0  0  0  0  0\\n   10.2310   -0.6996   -1.9097 C   0  0  0  0  0  0  0  0  0  0  0  0\\n   11.3868   -1.5167   -1.7122 O   0  0  0  0  0  0  0  0  0  0  0  0\\n    6.5885   -0.9543    0.4959 C   0  0  0  0  0  0  0  0  0  0  0  0\\n    5.5358   -1.8524    0.4377 C   0  0  0  0  0  0  0  0  0  0  0  0\\n    4.7423   -2.4925    1.5244 C   0  0  0  0  0  0  0  0  0  0  0  0\\n    4.4381   -1.6634    2.7613 C   0  0  0  0  0  0  0  0  0  0  0  0\\n    3.7165   -2.4570    3.7004 O   0  0  0  0  0  0  0  0  0  0  0  0\\n    1.2089   -2.3164    1.5183 C   0  0  0  0  0  0  0  0  0  0  0  0\\n    0.0375   -1.5507    1.4468 C   0  0  0  0  0  0  0  0  0  0  0  0\\n   -0.9704   -1.8574    2.3299 O   0  0  0  0  0  0  0  0  0  0  0  0\\n   -1.9804   -2.6305    1.6690 C   0  0  0  0  0  0  0  0  0  0  0  0\\n   -4.6166    0.3831    0.2621 C   0  0  0  0  0  0  0  0  0  0  0  0\\n   -5.9150   -0.0972   -0.0176 C   0  0  0  0  0  0  0  0  0  0  0  0\\n   -6.3808   -1.3756    0.5963 C   0  0  0  0  0  0  0  0  0  0  0  0\\n   -7.5018   -1.2785    1.4650 C   0  0  0  0  0  0  0  0  0  0  0  0\\n   -8.1038   -2.3880    2.0647 C   0  0  0  0  0  0  0  0  0  0  0  0\\n   -9.3040   -2.2985    2.9885 C   0  0  0  0  0  0  0  0  0  0  0  0\\n  -10.3485   -3.1769    2.5186 O   0  0  0  0  0  0  0  0  0  0  0  0\\n  -11.2441   -2.3994    1.6841 C   0  0  0  0  0  0  0  0  0  0  0  0\\n  -10.8893   -0.9217    1.8726 C   0  0  0  0  0  0  0  0  0  0  0  0\\n  -12.0518   -0.0314    2.2986 C   0  0  0  0  0  0  0  0  0  0  0  0\\n  -11.9976    1.4239    1.8530 C   0  0  0  0  0  0  0  0  0  0  0  0\\n  -10.7999    2.1024    1.5752 C   0  0  0  0  0  0  0  0  0  0  0  0\\n  -10.8140    3.4286    1.1430 C   0  0  0  0  0  0  0  0  0  0  0  0\\n  -12.0301    4.0849    0.9896 C   0  0  0  0  0  0  0  0  0  0  0  0\\n  -12.0186    5.3835    0.5586 O   0  0  0  0  0  0  0  0  0  0  0  0\\n  -13.2408    3.4461    1.2678 C   0  0  0  0  0  0  0  0  0  0  0  0\\n  -14.3575    4.2084    1.0451 O   0  0  0  0  0  0  0  0  0  0  0  0\\n  -15.6129    3.5983    1.3327 C   0  0  0  0  0  0  0  0  0  0  0  0\\n  -13.2153    2.1265    1.7170 C   0  0  0  0  0  0  0  0  0  0  0  0\\n  -12.0558   -0.0063    3.7509 O   0  0  0  0  0  0  0  0  0  0  0  0\\n  -11.0113   -0.8696    4.2173 C   0  0  0  0  0  0  0  0  0  0  0  0\\n   -9.9994   -0.9558    3.0885 C   0  0  0  0  0  0  0  0  0  0  0  0\\n   -7.5412   -3.6292    1.7823 C   0  0  0  0  0  0  0  0  0  0  0  0\\n   -6.4288   -3.7418    0.9248 C   0  0  0  0  0  0  0  0  0  0  0  0\\n   -5.9941   -5.0444    0.7341 O   0  0  0  0  0  0  0  0  0  0  0  0\\n   -6.3223   -5.4783   -0.5853 C   0  0  0  0  0  0  0  0  0  0  0  0\\n   -5.7560   -2.6376    0.3224 C   0  0  0  0  0  0  0  0  0  0  0  0\\n   -4.7086   -2.7609   -0.4179 O   0  0  0  0  0  1  0  0  0  0  0  0\\n  -11.0851   -1.9538   -2.5295 C   0  0  0  0  0  0  0  0  0  0  0  0\\n  -12.2821   -2.5398   -2.0654 C   0  0  0  0  0  0  0  0  0  0  0  0\\n  -13.3085   -1.8201   -1.4247 C   0  0  0  0  0  0  0  0  0  0  0  0\\n  -14.3889   -2.3945   -1.0448 O   0  0  0  0  0  1  0  0  0  0  0  0\\n  -15.7603    1.1252   -1.1842 H   0  0  0  0  0  0  0  0  0  0  0  0\\n  -14.8954    0.3784   -2.5440 H   0  0  0  0  0  0  0  0  0  0  0  0\\n  -14.3688    1.9666   -1.8922 H   0  0  0  0  0  0  0  0  0  0  0  0\\n  -11.6712    1.2157   -1.5161 H   0  0  0  0  0  0  0  0  0  0  0  0\\n   -9.7714    1.1759   -2.8656 H   0  0  0  0  0  0  0  0  0  0  0  0\\n  -10.6780   -0.1855   -4.6153 H   0  0  0  0  0  0  0  0  0  0  0  0\\n   -7.5294    0.3397   -3.1710 H   0  0  0  0  0  0  0  0  0  0  0  0\\n   -8.3117   -2.3599   -1.9885 H   0  0  0  0  0  0  0  0  0  0  0  0\\n   -6.7043   -1.8133   -2.4406 H   0  0  0  0  0  0  0  0  0  0  0  0\\n   -8.6803   -1.6552   -4.3993 H   0  0  0  0  0  0  0  0  0  0  0  0\\n   -6.0604    4.0403   -3.0975 H   0  0  0  0  0  0  0  0  0  0  0  0\\n   -7.7648    4.4480   -2.8642 H   0  0  0  0  0  0  0  0  0  0  0  0\\n   -6.6729    4.5581   -1.4781 H   0  0  0  0  0  0  0  0  0  0  0  0\\n   -4.6365    3.2846   -1.4734 H   0  0  0  0  0  0  0  0  0  0  0  0\\n   -2.6023    3.0073   -0.6049 H   0  0  0  0  0  0  0  0  0  0  0  0\\n   -2.4446    1.5640    1.7906 H   0  0  0  0  0  0  0  0  0  0  0  0\\n   -0.6954    1.8263   -0.6011 H   0  0  0  0  0  0  0  0  0  0  0  0\\n   -0.9793   -0.1349   -2.1866 H   0  0  0  0  0  0  0  0  0  0  0  0\\n   -2.6713   -0.2547   -1.7556 H   0  0  0  0  0  0  0  0  0  0  0  0\\n   -2.7363    0.9251   -3.4721 H   0  0  0  0  0  0  0  0  0  0  0  0\\n    1.0065    0.6620   -0.9465 H   0  0  0  0  0  0  0  0  0  0  0  0\\n    2.9897   -0.6940   -0.8752 H   0  0  0  0  0  0  0  0  0  0  0  0\\n    3.1980   -3.9428    1.0631 H   0  0  0  0  0  0  0  0  0  0  0  0\\n    5.0721   -0.6983   -4.2872 H   0  0  0  0  0  0  0  0  0  0  0  0\\n    4.7213   -2.2161   -5.1285 H   0  0  0  0  0  0  0  0  0  0  0  0\\n    6.3866   -1.8894   -4.6342 H   0  0  0  0  0  0  0  0  0  0  0  0\\n    7.1105   -0.6243   -2.8634 H   0  0  0  0  0  0  0  0  0  0  0  0\\n    8.2510    1.1025   -1.6160 H   0  0  0  0  0  0  0  0  0  0  0  0\\n    9.8749    4.3202    3.6504 H   0  0  0  0  0  0  0  0  0  0  0  0\\n    9.7792    5.4769    2.2648 H   0  0  0  0  0  0  0  0  0  0  0  0\\n    8.3540    5.1279    3.2509 H   0  0  0  0  0  0  0  0  0  0  0  0\\n   11.5984    4.0510    1.9979 H   0  0  0  0  0  0  0  0  0  0  0  0\\n   13.7456    3.7892    1.1687 H   0  0  0  0  0  0  0  0  0  0  0  0\\n   15.7510    0.5804   -4.1250 H   0  0  0  0  0  0  0  0  0  0  0  0\\n   16.9864    1.8863   -4.3063 H   0  0  0  0  0  0  0  0  0  0  0  0\\n   15.3417    2.1043   -4.9282 H   0  0  0  0  0  0  0  0  0  0  0  0\\n   17.6584    0.5983   -2.5006 H   0  0  0  0  0  0  0  0  0  0  0  0\\n   19.5052   -0.1156   -0.6882 H   0  0  0  0  0  0  0  0  0  0  0  0\\n   19.6576   -2.3364    0.1060 H   0  0  0  0  0  0  0  0  0  0  0  0\\n   16.5866   -2.2912    0.5320 H   0  0  0  0  0  0  0  0  0  0  0  0\\n   17.5742   -3.6743    0.0557 H   0  0  0  0  0  0  0  0  0  0  0  0\\n   17.9459   -2.2002    2.4472 H   0  0  0  0  0  0  0  0  0  0  0  0\\n   16.8887    0.0942    1.7107 H   0  0  0  0  0  0  0  0  0  0  0  0\\n   13.9933    0.9735    2.0673 H   0  0  0  0  0  0  0  0  0  0  0  0\\n   15.9059    1.8790    3.3704 H   0  0  0  0  0  0  0  0  0  0  0  0\\n   15.8719    3.3904    2.4449 H   0  0  0  0  0  0  0  0  0  0  0  0\\n   14.7800    3.4141    4.4942 H   0  0  0  0  0  0  0  0  0  0  0  0\\n   12.4860    0.5546   -0.3687 H   0  0  0  0  0  0  0  0  0  0  0  0\\n    9.6509   -1.0227    0.1517 H   0  0  0  0  0  0  0  0  0  0  0  0\\n    9.5000   -1.3194   -2.4387 H   0  0  0  0  0  0  0  0  0  0  0  0\\n   10.5109    0.1260   -2.5715 H   0  0  0  0  0  0  0  0  0  0  0  0\\n   11.1390   -2.2321   -1.1018 H   0  0  0  0  0  0  0  0  0  0  0  0\\n    6.9661   -0.5989    1.4506 H   0  0  0  0  0  0  0  0  0  0  0  0\\n    5.2938   -3.3936    1.8283 H   0  0  0  0  0  0  0  0  0  0  0  0\\n    5.3652   -1.3405    3.2489 H   0  0  0  0  0  0  0  0  0  0  0  0\\n    3.8621   -0.7607    2.5234 H   0  0  0  0  0  0  0  0  0  0  0  0\\n    3.1618   -1.8440    4.2160 H   0  0  0  0  0  0  0  0  0  0  0  0\\n    1.2521   -3.1346    2.2327 H   0  0  0  0  0  0  0  0  0  0  0  0\\n   -2.8331   -2.7176    2.3472 H   0  0  0  0  0  0  0  0  0  0  0  0\\n   -2.3124   -2.1529    0.7457 H   0  0  0  0  0  0  0  0  0  0  0  0\\n   -1.6014   -3.6338    1.4586 H   0  0  0  0  0  0  0  0  0  0  0  0\\n   -3.9739   -0.2328    0.8910 H   0  0  0  0  0  0  0  0  0  0  0  0\\n   -7.9054   -0.2836    1.6254 H   0  0  0  0  0  0  0  0  0  0  0  0\\n   -8.9896   -2.6474    3.9835 H   0  0  0  0  0  0  0  0  0  0  0  0\\n  -11.0957   -2.7176    0.6466 H   0  0  0  0  0  0  0  0  0  0  0  0\\n  -12.2677   -2.6480    1.9744 H   0  0  0  0  0  0  0  0  0  0  0  0\\n  -10.3863   -0.5705    0.9669 H   0  0  0  0  0  0  0  0  0  0  0  0\\n  -13.0039   -0.4674    1.9695 H   0  0  0  0  0  0  0  0  0  0  0  0\\n   -9.8366    1.6070    1.6743 H   0  0  0  0  0  0  0  0  0  0  0  0\\n   -9.8807    3.9419    0.9232 H   0  0  0  0  0  0  0  0  0  0  0  0\\n  -12.9556    5.6619    0.5881 H   0  0  0  0  0  0  0  0  0  0  0  0\\n  -15.7959    2.7486    0.6702 H   0  0  0  0  0  0  0  0  0  0  0  0\\n  -15.6793    3.3039    2.3850 H   0  0  0  0  0  0  0  0  0  0  0  0\\n  -16.3932    4.3410    1.1420 H   0  0  0  0  0  0  0  0  0  0  0  0\\n  -14.1321    1.5844    1.9246 H   0  0  0  0  0  0  0  0  0  0  0  0\\n  -11.4625   -1.8339    4.4769 H   0  0  0  0  0  0  0  0  0  0  0  0\\n  -10.5726   -0.4484    5.1291 H   0  0  0  0  0  0  0  0  0  0  0  0\\n   -9.3281   -0.0972    3.1644 H   0  0  0  0  0  0  0  0  0  0  0  0\\n   -7.9747   -4.5326    2.1974 H   0  0  0  0  0  0  0  0  0  0  0  0\\n   -5.5824   -6.2284   -0.8853 H   0  0  0  0  0  0  0  0  0  0  0  0\\n   -6.3437   -4.6912   -1.3493 H   0  0  0  0  0  0  0  0  0  0  0  0\\n   -7.3042   -5.9634   -0.5687 H   0  0  0  0  0  0  0  0  0  0  0  0\\n  -10.3837   -2.6017   -3.0436 H   0  0  0  0  0  0  0  0  0  0  0  0\\n  -12.4337   -3.6060   -2.2330 H   0  0  0  0  0  0  0  0  0  0  0  0\\n  1  2  1  0\\n  2  3  1  0\\n  3  4  2  0\\n  4  5  1  0\\n  5  6  1  0\\n  6  7  1  0\\n  6  8  1  0\\n  8  9  1  0\\n  9 10  1  0\\n  8 11  1  0\\n 11 12  1  0\\n 12 13  2  0\\n 13 14  1  0\\n 14 15  1  0\\n 13 16  1  0\\n 16 17  2  0\\n 17 18  1  0\\n 18 19  1  0\\n 18 20  1  0\\n 20 21  1  0\\n 21 22  1  0\\n 20 23  1  0\\n 23 24  1  0\\n 24 25  2  0\\n 25 26  1  0\\n 26 27  2  0\\n 27 28  1  0\\n 28 29  1  0\\n 29 30  1  0\\n 30 31  2  0\\n 31 32  1  0\\n 32 33  1  0\\n 31 34  1  0\\n 34 35  2  0\\n 35 36  1  0\\n 36 37  1  0\\n 37 38  1  0\\n 38 39  2  0\\n 39 40  1  0\\n 40 41  1  0\\n 39 42  1  0\\n 42 43  2  0\\n 43 44  1  0\\n 44 45  1  0\\n 45 46  1  0\\n 46 47  2  0\\n 47 48  1  0\\n 48 49  1  0\\n 47 50  1  0\\n 50 51  2  0\\n 51 52  1  0\\n 52 53  2  3\\n 53 54  1  0\\n 54 55  1  0\\n 51 56  1  0\\n 56 57  2  0\\n 57 58  1  0\\n 58 59  1  0\\n 59 60  1  0\\n 43 61  1  0\\n 61 62  2  0\\n 62 63  1  0\\n 63 64  1  0\\n 64 65  1  0\\n 35 66  1  0\\n 66 67  2  0\\n 67 68  1  0\\n 68 69  1  0\\n 69 70  1  0\\n 27 71  1  0\\n 71 72  2  0\\n 72 73  1  0\\n 73 74  1  0\\n 17 75  1  0\\n 75 76  2  0\\n 76 77  1  0\\n 77 78  2  0\\n 78 79  1  0\\n 79 80  1  0\\n 80 81  1  0\\n 81 82  1  0\\n 82 83  1  0\\n 83 84  1  0\\n 84 85  1  0\\n 85 86  2  0\\n 86 87  1  0\\n 87 88  2  0\\n 88 89  1  0\\n 88 90  1  0\\n 90 91  1  0\\n 91 92  1  0\\n 90 93  2  0\\n 84 94  1  0\\n 94 95  1  0\\n 95 96  1  0\\n 79 97  2  0\\n 97 98  1  0\\n 98 99  1  0\\n 99100  1  0\\n 98101  2  0\\n101102  1  0\\n  5103  2  0\\n103104  1  0\\n104105  2  0\\n105106  1  0\\n105  3  1  0\\n 76 12  1  0\\n101 77  1  0\\n 72 24  1  0\\n 96 80  1  0\\n 68 28  1  0\\n 96 83  1  0\\n 67 30  1  0\\n 93 85  1  0\\n 63 36  1  0\\n 62 38  1  0\\n 58 44  1  0\\n 57 46  1  0\\n  1107  1  0\\n  1108  1  0\\n  1109  1  0\\n  4110  1  0\\n  6111  1  0\\n  7112  1  0\\n  8113  1  0\\n  9114  1  0\\n  9115  1  0\\n 10116  1  0\\n 15117  1  0\\n 15118  1  0\\n 15119  1  0\\n 16120  1  0\\n 18121  1  0\\n 19122  1  0\\n 20123  1  0\\n 21124  1  0\\n 21125  1  0\\n 22126  1  0\\n 25127  1  0\\n 26128  1  0\\n 28129  1  0\\n 33130  1  0\\n 33131  1  0\\n 33132  1  0\\n 34133  1  0\\n 36134  1  0\\n 41135  1  0\\n 41136  1  0\\n 41137  1  0\\n 42138  1  0\\n 44139  1  0\\n 49140  1  0\\n 49141  1  0\\n 49142  1  0\\n 50143  1  0\\n 52144  1  0\\n 53145  1  0\\n 54146  1  0\\n 54147  1  0\\n 55148  1  0\\n 56149  1  0\\n 58150  1  0\\n 59151  1  0\\n 59152  1  0\\n 60153  1  0\\n 61154  1  0\\n 63155  1  0\\n 64156  1  0\\n 64157  1  0\\n 65158  1  0\\n 66159  1  0\\n 68160  1  0\\n 69161  1  0\\n 69162  1  0\\n 70163  1  0\\n 71164  1  0\\n 74165  1  0\\n 74166  1  0\\n 74167  1  0\\n 75168  1  0\\n 78169  1  0\\n 80170  1  0\\n 82171  1  0\\n 82172  1  0\\n 83173  1  0\\n 84174  1  0\\n 86175  1  0\\n 87176  1  0\\n 89177  1  0\\n 92178  1  0\\n 92179  1  0\\n 92180  1  0\\n 93181  1  0\\n 95182  1  0\\n 95183  1  0\\n 96184  1  0\\n 97185  1  0\\n100186  1  0\\n100187  1  0\\n100188  1  0\\n103189  1  0\\n104190  1  0\\nM  RAD  2 102   2 106   2\\nM  END\\n\",\"sdf\");\n\tviewer_1586651921794206.setStyle({\"stick\": {}});\n\tviewer_1586651921794206.setBackgroundColor(\"0xeeeeee\");\n\tviewer_1586651921794206.zoomTo();\nviewer_1586651921794206.render();\n});\n</script>",
      "text/html": [
       "<div id=\"3dmolviewer_1586651921794206\"  style=\"position: relative; width: 800px; height: 800px\">\n",
       "        <p id=\"3dmolwarning_1586651921794206\" style=\"background-color:#ffcccc;color:black\">You appear to be running in JupyterLab (or JavaScript failed to load for some other reason).  You need to install the 3dmol extension: <br>\n",
       "        <tt>jupyter labextension install jupyterlab_3dmol</tt></p>\n",
       "        </div>\n",
       "<script>\n",
       "\n",
       "var loadScriptAsync = function(uri){\n",
       "  return new Promise((resolve, reject) => {\n",
       "    var tag = document.createElement('script');\n",
       "    tag.src = uri;\n",
       "    tag.async = true;\n",
       "    tag.onload = () => {\n",
       "      resolve();\n",
       "    };\n",
       "  var firstScriptTag = document.getElementsByTagName('script')[0];\n",
       "  firstScriptTag.parentNode.insertBefore(tag, firstScriptTag);\n",
       "});\n",
       "};\n",
       "\n",
       "if(typeof $3Dmolpromise === 'undefined') {\n",
       "$3Dmolpromise = null;\n",
       "  $3Dmolpromise = loadScriptAsync('https://3dmol.csb.pitt.edu/build/3Dmol.js');\n",
       "}\n",
       "\n",
       "var viewer_1586651921794206 = null;\n",
       "var warn = document.getElementById(\"3dmolwarning_1586651921794206\");\n",
       "if(warn) {\n",
       "    warn.parentNode.removeChild(warn);\n",
       "}\n",
       "$3Dmolpromise.then(function() {\n",
       "viewer_1586651921794206 = $3Dmol.createViewer($(\"#3dmolviewer_1586651921794206\"),{backgroundColor:\"white\"});\n",
       "\tviewer_1586651921794206.removeAllModels();\n",
       "\tviewer_1586651921794206.addModel(\"\\n     RDKit          3D\\n\\n190202  0  0  0  0  0  0  0  0999 V2000\\n  -14.7708    0.9784   -1.6303 C   0  0  0  0  0  0  0  0  0  0  0  0\\n  -13.9344    0.3746   -0.6463 O   0  0  0  0  0  0  0  0  0  0  0  0\\n  -13.0162   -0.4459   -1.2713 C   0  0  0  0  0  0  0  0  0  0  0  0\\n  -11.8115    0.1558   -1.6968 C   0  0  0  0  0  0  0  0  0  0  0  0\\n  -10.8283   -0.5909   -2.3562 C   0  0  0  0  0  0  0  0  0  0  0  0\\n   -9.6297    0.0938   -2.9891 C   0  0  0  0  0  0  0  0  0  0  0  0\\n   -9.7247   -0.1436   -4.4180 O   0  0  0  0  0  0  0  0  0  0  0  0\\n   -8.1888   -0.2267   -2.4953 C   0  0  0  0  0  0  0  0  0  0  0  0\\n   -7.7664   -1.6997   -2.6682 C   0  0  0  0  0  0  0  0  0  0  0  0\\n   -7.9419   -2.1678   -4.0150 O   0  0  0  0  0  0  0  0  0  0  0  0\\n   -8.0314    0.2296   -1.1345 O   0  0  0  0  0  0  0  0  0  0  0  0\\n   -6.7469    0.6732   -0.8621 C   0  0  0  0  0  0  0  0  0  0  0  0\\n   -6.3158    1.9217   -1.3496 C   0  0  0  0  0  0  0  0  0  0  0  0\\n   -7.2247    2.6359   -2.0904 O   0  0  0  0  0  0  0  0  0  0  0  0\\n   -6.8930    3.9864   -2.3872 C   0  0  0  0  0  0  0  0  0  0  0  0\\n   -5.0131    2.3529   -1.0682 C   0  0  0  0  0  0  0  0  0  0  0  0\\n   -4.1393    1.5836   -0.2767 C   0  0  0  0  0  0  0  0  0  0  0  0\\n   -2.7226    2.0674   -0.0520 C   0  0  0  0  0  0  0  0  0  0  0  0\\n   -2.5721    2.4194    1.3339 O   0  0  0  0  0  0  0  0  0  0  0  0\\n   -1.5500    1.1452   -0.5028 C   0  0  0  0  0  0  0  0  0  0  0  0\\n   -1.8394    0.4521   -1.8462 C   0  0  0  0  0  0  0  0  0  0  0  0\\n   -2.1367    1.4035   -2.8727 O   0  0  0  0  0  0  0  0  0  0  0  0\\n   -1.2734    0.2011    0.5518 O   0  0  0  0  0  0  0  0  0  0  0  0\\n   -0.0810   -0.4747    0.5545 C   0  0  0  0  0  0  0  0  0  0  0  0\\n    1.0164   -0.1686   -0.2494 C   0  0  0  0  0  0  0  0  0  0  0  0\\n    2.1785   -0.9537   -0.2007 C   0  0  0  0  0  0  0  0  0  0  0  0\\n    2.2874   -2.0537    0.6641 C   0  0  0  0  0  0  0  0  0  0  0  0\\n    3.5176   -2.9573    0.6980 C   0  0  0  0  0  0  0  0  0  0  0  0\\n    3.9945   -3.1742   -0.6635 O   0  0  0  0  0  0  0  0  0  0  0  0\\n    5.0761   -2.3273   -0.7855 C   0  0  0  0  0  0  0  0  0  0  0  0\\n    5.6131   -1.9128   -1.9959 C   0  0  0  0  0  0  0  0  0  0  0  0\\n    5.0569   -2.4334   -3.1286 O   0  0  0  0  0  0  0  0  0  0  0  0\\n    5.3384   -1.7594   -4.3481 C   0  0  0  0  0  0  0  0  0  0  0  0\\n    6.6587   -0.9864   -1.9455 C   0  0  0  0  0  0  0  0  0  0  0  0\\n    7.1537   -0.4994   -0.7085 C   0  0  0  0  0  0  0  0  0  0  0  0\\n    8.3074    0.4858   -0.7063 C   0  0  0  0  0  0  0  0  0  0  0  0\\n    8.1851    1.4086    0.4109 O   0  0  0  0  0  0  0  0  0  0  0  0\\n    9.4893    1.7862    0.6536 C   0  0  0  0  0  0  0  0  0  0  0  0\\n    9.8701    2.8946    1.3934 C   0  0  0  0  0  0  0  0  0  0  0  0\\n    8.8677    3.6305    1.9597 O   0  0  0  0  0  0  0  0  0  0  0  0\\n    9.2611    4.6902    2.8221 C   0  0  0  0  0  0  0  0  0  0  0  0\\n   11.2384    3.1775    1.4631 C   0  0  0  0  0  0  0  0  0  0  0  0\\n   12.1904    2.3540    0.8140 C   0  0  0  0  0  0  0  0  0  0  0  0\\n   13.6597    2.7494    0.8254 C   0  0  0  0  0  0  0  0  0  0  0  0\\n   14.1210    2.7585   -0.5551 O   0  0  0  0  0  0  0  0  0  0  0  0\\n   15.2102    1.9277   -0.5945 C   0  0  0  0  0  0  0  0  0  0  0  0\\n   15.9301    1.6524   -1.7484 C   0  0  0  0  0  0  0  0  0  0  0  0\\n   15.4976    2.2530   -2.8988 O   0  0  0  0  0  0  0  0  0  0  0  0\\n   15.9303    1.6617   -4.1191 C   0  0  0  0  0  0  0  0  0  0  0  0\\n   17.0408    0.8109   -1.6362 C   0  0  0  0  0  0  0  0  0  0  0  0\\n   17.3924    0.2411   -0.3934 C   0  0  0  0  0  0  0  0  0  0  0  0\\n   18.5989   -0.5904   -0.3161 C   0  0  0  0  0  0  0  0  0  0  0  0\\n   18.6782   -1.8563    0.1270 C   0  0  0  0  0  0  0  0  0  0  0  0\\n   17.5783   -2.7374    0.6226 C   0  0  0  0  0  0  0  0  0  0  0  0\\n   17.8226   -3.0443    1.9835 O   0  0  0  0  0  0  0  0  0  0  0  0\\n   16.6262    0.5191    0.7466 C   0  0  0  0  0  0  0  0  0  0  0  0\\n   15.5323    1.3654    0.6277 C   0  0  0  0  0  0  0  0  0  0  0  0\\n   14.5670    1.8178    1.6670 C   0  0  0  0  0  0  0  0  0  0  0  0\\n   15.2539    2.5622    2.8138 C   0  0  0  0  0  0  0  0  0  0  0  0\\n   14.2889    3.0876    3.7169 O   0  0  0  0  0  0  0  0  0  0  0  0\\n   11.7641    1.1999    0.1278 C   0  0  0  0  0  0  0  0  0  0  0  0\\n   10.4104    0.9337    0.0558 C   0  0  0  0  0  0  0  0  0  0  0  0\\n    9.6794   -0.2012   -0.5797 C   0  0  0  0  0  0  0  0  0  0  0  0\\n   10.2310   -0.6996   -1.9097 C   0  0  0  0  0  0  0  0  0  0  0  0\\n   11.3868   -1.5167   -1.7122 O   0  0  0  0  0  0  0  0  0  0  0  0\\n    6.5885   -0.9543    0.4959 C   0  0  0  0  0  0  0  0  0  0  0  0\\n    5.5358   -1.8524    0.4377 C   0  0  0  0  0  0  0  0  0  0  0  0\\n    4.7423   -2.4925    1.5244 C   0  0  0  0  0  0  0  0  0  0  0  0\\n    4.4381   -1.6634    2.7613 C   0  0  0  0  0  0  0  0  0  0  0  0\\n    3.7165   -2.4570    3.7004 O   0  0  0  0  0  0  0  0  0  0  0  0\\n    1.2089   -2.3164    1.5183 C   0  0  0  0  0  0  0  0  0  0  0  0\\n    0.0375   -1.5507    1.4468 C   0  0  0  0  0  0  0  0  0  0  0  0\\n   -0.9704   -1.8574    2.3299 O   0  0  0  0  0  0  0  0  0  0  0  0\\n   -1.9804   -2.6305    1.6690 C   0  0  0  0  0  0  0  0  0  0  0  0\\n   -4.6166    0.3831    0.2621 C   0  0  0  0  0  0  0  0  0  0  0  0\\n   -5.9150   -0.0972   -0.0176 C   0  0  0  0  0  0  0  0  0  0  0  0\\n   -6.3808   -1.3756    0.5963 C   0  0  0  0  0  0  0  0  0  0  0  0\\n   -7.5018   -1.2785    1.4650 C   0  0  0  0  0  0  0  0  0  0  0  0\\n   -8.1038   -2.3880    2.0647 C   0  0  0  0  0  0  0  0  0  0  0  0\\n   -9.3040   -2.2985    2.9885 C   0  0  0  0  0  0  0  0  0  0  0  0\\n  -10.3485   -3.1769    2.5186 O   0  0  0  0  0  0  0  0  0  0  0  0\\n  -11.2441   -2.3994    1.6841 C   0  0  0  0  0  0  0  0  0  0  0  0\\n  -10.8893   -0.9217    1.8726 C   0  0  0  0  0  0  0  0  0  0  0  0\\n  -12.0518   -0.0314    2.2986 C   0  0  0  0  0  0  0  0  0  0  0  0\\n  -11.9976    1.4239    1.8530 C   0  0  0  0  0  0  0  0  0  0  0  0\\n  -10.7999    2.1024    1.5752 C   0  0  0  0  0  0  0  0  0  0  0  0\\n  -10.8140    3.4286    1.1430 C   0  0  0  0  0  0  0  0  0  0  0  0\\n  -12.0301    4.0849    0.9896 C   0  0  0  0  0  0  0  0  0  0  0  0\\n  -12.0186    5.3835    0.5586 O   0  0  0  0  0  0  0  0  0  0  0  0\\n  -13.2408    3.4461    1.2678 C   0  0  0  0  0  0  0  0  0  0  0  0\\n  -14.3575    4.2084    1.0451 O   0  0  0  0  0  0  0  0  0  0  0  0\\n  -15.6129    3.5983    1.3327 C   0  0  0  0  0  0  0  0  0  0  0  0\\n  -13.2153    2.1265    1.7170 C   0  0  0  0  0  0  0  0  0  0  0  0\\n  -12.0558   -0.0063    3.7509 O   0  0  0  0  0  0  0  0  0  0  0  0\\n  -11.0113   -0.8696    4.2173 C   0  0  0  0  0  0  0  0  0  0  0  0\\n   -9.9994   -0.9558    3.0885 C   0  0  0  0  0  0  0  0  0  0  0  0\\n   -7.5412   -3.6292    1.7823 C   0  0  0  0  0  0  0  0  0  0  0  0\\n   -6.4288   -3.7418    0.9248 C   0  0  0  0  0  0  0  0  0  0  0  0\\n   -5.9941   -5.0444    0.7341 O   0  0  0  0  0  0  0  0  0  0  0  0\\n   -6.3223   -5.4783   -0.5853 C   0  0  0  0  0  0  0  0  0  0  0  0\\n   -5.7560   -2.6376    0.3224 C   0  0  0  0  0  0  0  0  0  0  0  0\\n   -4.7086   -2.7609   -0.4179 O   0  0  0  0  0  1  0  0  0  0  0  0\\n  -11.0851   -1.9538   -2.5295 C   0  0  0  0  0  0  0  0  0  0  0  0\\n  -12.2821   -2.5398   -2.0654 C   0  0  0  0  0  0  0  0  0  0  0  0\\n  -13.3085   -1.8201   -1.4247 C   0  0  0  0  0  0  0  0  0  0  0  0\\n  -14.3889   -2.3945   -1.0448 O   0  0  0  0  0  1  0  0  0  0  0  0\\n  -15.7603    1.1252   -1.1842 H   0  0  0  0  0  0  0  0  0  0  0  0\\n  -14.8954    0.3784   -2.5440 H   0  0  0  0  0  0  0  0  0  0  0  0\\n  -14.3688    1.9666   -1.8922 H   0  0  0  0  0  0  0  0  0  0  0  0\\n  -11.6712    1.2157   -1.5161 H   0  0  0  0  0  0  0  0  0  0  0  0\\n   -9.7714    1.1759   -2.8656 H   0  0  0  0  0  0  0  0  0  0  0  0\\n  -10.6780   -0.1855   -4.6153 H   0  0  0  0  0  0  0  0  0  0  0  0\\n   -7.5294    0.3397   -3.1710 H   0  0  0  0  0  0  0  0  0  0  0  0\\n   -8.3117   -2.3599   -1.9885 H   0  0  0  0  0  0  0  0  0  0  0  0\\n   -6.7043   -1.8133   -2.4406 H   0  0  0  0  0  0  0  0  0  0  0  0\\n   -8.6803   -1.6552   -4.3993 H   0  0  0  0  0  0  0  0  0  0  0  0\\n   -6.0604    4.0403   -3.0975 H   0  0  0  0  0  0  0  0  0  0  0  0\\n   -7.7648    4.4480   -2.8642 H   0  0  0  0  0  0  0  0  0  0  0  0\\n   -6.6729    4.5581   -1.4781 H   0  0  0  0  0  0  0  0  0  0  0  0\\n   -4.6365    3.2846   -1.4734 H   0  0  0  0  0  0  0  0  0  0  0  0\\n   -2.6023    3.0073   -0.6049 H   0  0  0  0  0  0  0  0  0  0  0  0\\n   -2.4446    1.5640    1.7906 H   0  0  0  0  0  0  0  0  0  0  0  0\\n   -0.6954    1.8263   -0.6011 H   0  0  0  0  0  0  0  0  0  0  0  0\\n   -0.9793   -0.1349   -2.1866 H   0  0  0  0  0  0  0  0  0  0  0  0\\n   -2.6713   -0.2547   -1.7556 H   0  0  0  0  0  0  0  0  0  0  0  0\\n   -2.7363    0.9251   -3.4721 H   0  0  0  0  0  0  0  0  0  0  0  0\\n    1.0065    0.6620   -0.9465 H   0  0  0  0  0  0  0  0  0  0  0  0\\n    2.9897   -0.6940   -0.8752 H   0  0  0  0  0  0  0  0  0  0  0  0\\n    3.1980   -3.9428    1.0631 H   0  0  0  0  0  0  0  0  0  0  0  0\\n    5.0721   -0.6983   -4.2872 H   0  0  0  0  0  0  0  0  0  0  0  0\\n    4.7213   -2.2161   -5.1285 H   0  0  0  0  0  0  0  0  0  0  0  0\\n    6.3866   -1.8894   -4.6342 H   0  0  0  0  0  0  0  0  0  0  0  0\\n    7.1105   -0.6243   -2.8634 H   0  0  0  0  0  0  0  0  0  0  0  0\\n    8.2510    1.1025   -1.6160 H   0  0  0  0  0  0  0  0  0  0  0  0\\n    9.8749    4.3202    3.6504 H   0  0  0  0  0  0  0  0  0  0  0  0\\n    9.7792    5.4769    2.2648 H   0  0  0  0  0  0  0  0  0  0  0  0\\n    8.3540    5.1279    3.2509 H   0  0  0  0  0  0  0  0  0  0  0  0\\n   11.5984    4.0510    1.9979 H   0  0  0  0  0  0  0  0  0  0  0  0\\n   13.7456    3.7892    1.1687 H   0  0  0  0  0  0  0  0  0  0  0  0\\n   15.7510    0.5804   -4.1250 H   0  0  0  0  0  0  0  0  0  0  0  0\\n   16.9864    1.8863   -4.3063 H   0  0  0  0  0  0  0  0  0  0  0  0\\n   15.3417    2.1043   -4.9282 H   0  0  0  0  0  0  0  0  0  0  0  0\\n   17.6584    0.5983   -2.5006 H   0  0  0  0  0  0  0  0  0  0  0  0\\n   19.5052   -0.1156   -0.6882 H   0  0  0  0  0  0  0  0  0  0  0  0\\n   19.6576   -2.3364    0.1060 H   0  0  0  0  0  0  0  0  0  0  0  0\\n   16.5866   -2.2912    0.5320 H   0  0  0  0  0  0  0  0  0  0  0  0\\n   17.5742   -3.6743    0.0557 H   0  0  0  0  0  0  0  0  0  0  0  0\\n   17.9459   -2.2002    2.4472 H   0  0  0  0  0  0  0  0  0  0  0  0\\n   16.8887    0.0942    1.7107 H   0  0  0  0  0  0  0  0  0  0  0  0\\n   13.9933    0.9735    2.0673 H   0  0  0  0  0  0  0  0  0  0  0  0\\n   15.9059    1.8790    3.3704 H   0  0  0  0  0  0  0  0  0  0  0  0\\n   15.8719    3.3904    2.4449 H   0  0  0  0  0  0  0  0  0  0  0  0\\n   14.7800    3.4141    4.4942 H   0  0  0  0  0  0  0  0  0  0  0  0\\n   12.4860    0.5546   -0.3687 H   0  0  0  0  0  0  0  0  0  0  0  0\\n    9.6509   -1.0227    0.1517 H   0  0  0  0  0  0  0  0  0  0  0  0\\n    9.5000   -1.3194   -2.4387 H   0  0  0  0  0  0  0  0  0  0  0  0\\n   10.5109    0.1260   -2.5715 H   0  0  0  0  0  0  0  0  0  0  0  0\\n   11.1390   -2.2321   -1.1018 H   0  0  0  0  0  0  0  0  0  0  0  0\\n    6.9661   -0.5989    1.4506 H   0  0  0  0  0  0  0  0  0  0  0  0\\n    5.2938   -3.3936    1.8283 H   0  0  0  0  0  0  0  0  0  0  0  0\\n    5.3652   -1.3405    3.2489 H   0  0  0  0  0  0  0  0  0  0  0  0\\n    3.8621   -0.7607    2.5234 H   0  0  0  0  0  0  0  0  0  0  0  0\\n    3.1618   -1.8440    4.2160 H   0  0  0  0  0  0  0  0  0  0  0  0\\n    1.2521   -3.1346    2.2327 H   0  0  0  0  0  0  0  0  0  0  0  0\\n   -2.8331   -2.7176    2.3472 H   0  0  0  0  0  0  0  0  0  0  0  0\\n   -2.3124   -2.1529    0.7457 H   0  0  0  0  0  0  0  0  0  0  0  0\\n   -1.6014   -3.6338    1.4586 H   0  0  0  0  0  0  0  0  0  0  0  0\\n   -3.9739   -0.2328    0.8910 H   0  0  0  0  0  0  0  0  0  0  0  0\\n   -7.9054   -0.2836    1.6254 H   0  0  0  0  0  0  0  0  0  0  0  0\\n   -8.9896   -2.6474    3.9835 H   0  0  0  0  0  0  0  0  0  0  0  0\\n  -11.0957   -2.7176    0.6466 H   0  0  0  0  0  0  0  0  0  0  0  0\\n  -12.2677   -2.6480    1.9744 H   0  0  0  0  0  0  0  0  0  0  0  0\\n  -10.3863   -0.5705    0.9669 H   0  0  0  0  0  0  0  0  0  0  0  0\\n  -13.0039   -0.4674    1.9695 H   0  0  0  0  0  0  0  0  0  0  0  0\\n   -9.8366    1.6070    1.6743 H   0  0  0  0  0  0  0  0  0  0  0  0\\n   -9.8807    3.9419    0.9232 H   0  0  0  0  0  0  0  0  0  0  0  0\\n  -12.9556    5.6619    0.5881 H   0  0  0  0  0  0  0  0  0  0  0  0\\n  -15.7959    2.7486    0.6702 H   0  0  0  0  0  0  0  0  0  0  0  0\\n  -15.6793    3.3039    2.3850 H   0  0  0  0  0  0  0  0  0  0  0  0\\n  -16.3932    4.3410    1.1420 H   0  0  0  0  0  0  0  0  0  0  0  0\\n  -14.1321    1.5844    1.9246 H   0  0  0  0  0  0  0  0  0  0  0  0\\n  -11.4625   -1.8339    4.4769 H   0  0  0  0  0  0  0  0  0  0  0  0\\n  -10.5726   -0.4484    5.1291 H   0  0  0  0  0  0  0  0  0  0  0  0\\n   -9.3281   -0.0972    3.1644 H   0  0  0  0  0  0  0  0  0  0  0  0\\n   -7.9747   -4.5326    2.1974 H   0  0  0  0  0  0  0  0  0  0  0  0\\n   -5.5824   -6.2284   -0.8853 H   0  0  0  0  0  0  0  0  0  0  0  0\\n   -6.3437   -4.6912   -1.3493 H   0  0  0  0  0  0  0  0  0  0  0  0\\n   -7.3042   -5.9634   -0.5687 H   0  0  0  0  0  0  0  0  0  0  0  0\\n  -10.3837   -2.6017   -3.0436 H   0  0  0  0  0  0  0  0  0  0  0  0\\n  -12.4337   -3.6060   -2.2330 H   0  0  0  0  0  0  0  0  0  0  0  0\\n  1  2  1  0\\n  2  3  1  0\\n  3  4  2  0\\n  4  5  1  0\\n  5  6  1  0\\n  6  7  1  0\\n  6  8  1  0\\n  8  9  1  0\\n  9 10  1  0\\n  8 11  1  0\\n 11 12  1  0\\n 12 13  2  0\\n 13 14  1  0\\n 14 15  1  0\\n 13 16  1  0\\n 16 17  2  0\\n 17 18  1  0\\n 18 19  1  0\\n 18 20  1  0\\n 20 21  1  0\\n 21 22  1  0\\n 20 23  1  0\\n 23 24  1  0\\n 24 25  2  0\\n 25 26  1  0\\n 26 27  2  0\\n 27 28  1  0\\n 28 29  1  0\\n 29 30  1  0\\n 30 31  2  0\\n 31 32  1  0\\n 32 33  1  0\\n 31 34  1  0\\n 34 35  2  0\\n 35 36  1  0\\n 36 37  1  0\\n 37 38  1  0\\n 38 39  2  0\\n 39 40  1  0\\n 40 41  1  0\\n 39 42  1  0\\n 42 43  2  0\\n 43 44  1  0\\n 44 45  1  0\\n 45 46  1  0\\n 46 47  2  0\\n 47 48  1  0\\n 48 49  1  0\\n 47 50  1  0\\n 50 51  2  0\\n 51 52  1  0\\n 52 53  2  3\\n 53 54  1  0\\n 54 55  1  0\\n 51 56  1  0\\n 56 57  2  0\\n 57 58  1  0\\n 58 59  1  0\\n 59 60  1  0\\n 43 61  1  0\\n 61 62  2  0\\n 62 63  1  0\\n 63 64  1  0\\n 64 65  1  0\\n 35 66  1  0\\n 66 67  2  0\\n 67 68  1  0\\n 68 69  1  0\\n 69 70  1  0\\n 27 71  1  0\\n 71 72  2  0\\n 72 73  1  0\\n 73 74  1  0\\n 17 75  1  0\\n 75 76  2  0\\n 76 77  1  0\\n 77 78  2  0\\n 78 79  1  0\\n 79 80  1  0\\n 80 81  1  0\\n 81 82  1  0\\n 82 83  1  0\\n 83 84  1  0\\n 84 85  1  0\\n 85 86  2  0\\n 86 87  1  0\\n 87 88  2  0\\n 88 89  1  0\\n 88 90  1  0\\n 90 91  1  0\\n 91 92  1  0\\n 90 93  2  0\\n 84 94  1  0\\n 94 95  1  0\\n 95 96  1  0\\n 79 97  2  0\\n 97 98  1  0\\n 98 99  1  0\\n 99100  1  0\\n 98101  2  0\\n101102  1  0\\n  5103  2  0\\n103104  1  0\\n104105  2  0\\n105106  1  0\\n105  3  1  0\\n 76 12  1  0\\n101 77  1  0\\n 72 24  1  0\\n 96 80  1  0\\n 68 28  1  0\\n 96 83  1  0\\n 67 30  1  0\\n 93 85  1  0\\n 63 36  1  0\\n 62 38  1  0\\n 58 44  1  0\\n 57 46  1  0\\n  1107  1  0\\n  1108  1  0\\n  1109  1  0\\n  4110  1  0\\n  6111  1  0\\n  7112  1  0\\n  8113  1  0\\n  9114  1  0\\n  9115  1  0\\n 10116  1  0\\n 15117  1  0\\n 15118  1  0\\n 15119  1  0\\n 16120  1  0\\n 18121  1  0\\n 19122  1  0\\n 20123  1  0\\n 21124  1  0\\n 21125  1  0\\n 22126  1  0\\n 25127  1  0\\n 26128  1  0\\n 28129  1  0\\n 33130  1  0\\n 33131  1  0\\n 33132  1  0\\n 34133  1  0\\n 36134  1  0\\n 41135  1  0\\n 41136  1  0\\n 41137  1  0\\n 42138  1  0\\n 44139  1  0\\n 49140  1  0\\n 49141  1  0\\n 49142  1  0\\n 50143  1  0\\n 52144  1  0\\n 53145  1  0\\n 54146  1  0\\n 54147  1  0\\n 55148  1  0\\n 56149  1  0\\n 58150  1  0\\n 59151  1  0\\n 59152  1  0\\n 60153  1  0\\n 61154  1  0\\n 63155  1  0\\n 64156  1  0\\n 64157  1  0\\n 65158  1  0\\n 66159  1  0\\n 68160  1  0\\n 69161  1  0\\n 69162  1  0\\n 70163  1  0\\n 71164  1  0\\n 74165  1  0\\n 74166  1  0\\n 74167  1  0\\n 75168  1  0\\n 78169  1  0\\n 80170  1  0\\n 82171  1  0\\n 82172  1  0\\n 83173  1  0\\n 84174  1  0\\n 86175  1  0\\n 87176  1  0\\n 89177  1  0\\n 92178  1  0\\n 92179  1  0\\n 92180  1  0\\n 93181  1  0\\n 95182  1  0\\n 95183  1  0\\n 96184  1  0\\n 97185  1  0\\n100186  1  0\\n100187  1  0\\n100188  1  0\\n103189  1  0\\n104190  1  0\\nM  RAD  2 102   2 106   2\\nM  END\\n\",\"sdf\");\n",
       "\tviewer_1586651921794206.setStyle({\"stick\": {}});\n",
       "\tviewer_1586651921794206.setBackgroundColor(\"0xeeeeee\");\n",
       "\tviewer_1586651921794206.zoomTo();\n",
       "viewer_1586651921794206.render();\n",
       "});\n",
       "</script>"
      ]
     },
     "metadata": {},
     "output_type": "display_data"
    }
   ],
   "source": [
    "import py3Dmol\n",
    "p = py3Dmol.view(width=800,height=800)\n",
    "print(len(TorsionFingerprints.CalculateTorsionLists(x)[0]))\n",
    "drawit(x, p, confId=0)"
   ]
  },
  {
   "cell_type": "code",
   "execution_count": null,
   "metadata": {},
   "outputs": [],
   "source": [
    "nonring, ring = Chem.TorsionFingerprints.CalculateTorsionLists(mol)\n",
    "all_tors = [Chem.TorsionFingerprints.CalculateTorsionAngles(mol, nonring, ring, confId=i) for i in range(200)]"
   ]
  },
  {
   "cell_type": "code",
   "execution_count": 11,
   "metadata": {},
   "outputs": [
    {
     "name": "stdout",
     "output_type": "stream",
     "text": [
      "{'mol': '[H]C([H])([H])C([H])([H])C([H])([H])C([H])([H])C([H])(C([H])([H])C([H])([H])C([H])([H])C([H])([H])[H])C([H])(C([H])([H])C([H])([H])[H])C([H])(C([H])([H])[H])C([H])([H])C([H])([H])[H]', 'standard': 20.600833362255234, 'total': 8.948187614383007}\n"
     ]
    }
   ],
   "source": [
    "# mol = Chem.MolFromSmiles('CC(CCC)CCCC(CCCC)CC')\n",
    "# standard = 7.678142433712216\n",
    "import json\n",
    "\n",
    "with open('huge_hc_set/10_6288.json') as fp:\n",
    "    o = json.load(fp)\n",
    "print(o)\n",
    "mol = Chem.MolFromSmiles(o['mol'])\n",
    "standard = o['standard']\n",
    "mol = Chem.AddHs(mol)\n",
    "res = AllChem.EmbedMultipleConfs(mol, numConfs=200, numThreads=-1)\n",
    "res = AllChem.MMFFOptimizeMoleculeConfs(mol, numThreads=-1)\n"
   ]
  },
  {
   "cell_type": "code",
   "execution_count": 36,
   "metadata": {},
   "outputs": [
    {
     "data": {
      "text/plain": [
       "array([26.78947154, 30.90847928, 34.27148507, 25.41744492, 25.7696764 ,\n",
       "       27.72020753, 30.72263714, 28.50492589, 30.08653013, 26.01060769,\n",
       "       24.13174466, 21.13461998, 28.30585824, 27.42462701, 28.90876123,\n",
       "       30.06590153, 26.87286995, 34.439083  , 23.57029031, 25.69864001,\n",
       "       21.30998421, 27.77209526, 28.21171852, 28.52219055, 24.4703803 ,\n",
       "       25.22538227, 24.17206467, 24.9470656 , 25.11290061, 26.81183229,\n",
       "       29.47719842, 25.29692926, 22.87383542, 24.12212574, 25.09552535,\n",
       "       29.61044842, 30.15927543, 25.63472999, 20.18490462, 29.66992207,\n",
       "       25.88784466, 29.73943554, 24.59750325, 25.6089271 , 27.8662055 ,\n",
       "       22.69698615, 25.8471065 , 28.55572948, 28.16758353, 25.94795477,\n",
       "       25.12579815, 24.90591745, 24.15914884, 25.73888884, 28.75526538,\n",
       "       28.40091827, 32.30138371, 25.96664152, 26.41129336, 26.18695488,\n",
       "       26.60474275, 28.69961524, 29.09428614, 23.43593629, 25.34308867,\n",
       "       23.94089815, 24.33250808, 24.25294576, 22.6983252 , 38.45379785,\n",
       "       22.16735387, 26.11011579, 33.16770597, 24.50660265, 22.91520113,\n",
       "       32.23836615, 20.92105826, 23.07459163, 25.37980657, 32.7663826 ,\n",
       "       29.47186934, 22.14866878, 26.62890395, 22.66077097, 25.68237222,\n",
       "       26.173248  , 28.04265173, 25.75539902, 24.43859184, 26.05256774,\n",
       "       23.07609374, 26.61622272, 24.2217965 , 25.75186061, 24.50380966,\n",
       "       25.14194299, 24.20253706, 26.27597168, 31.04566505, 29.6084315 ,\n",
       "       25.52013656, 24.83249007, 30.57388475, 22.03226587, 25.84261861,\n",
       "       26.83350894, 24.30457992, 27.85294404, 26.79573852, 22.86649959,\n",
       "       26.80585347, 26.03543158, 25.72153331, 28.95074656, 26.40528044,\n",
       "       29.24937394, 28.83032641, 23.74378021, 22.06904332, 25.52654448,\n",
       "       22.53258881, 30.2236378 , 27.86769715, 24.68733341, 33.37677928,\n",
       "       28.89495113, 38.23766798, 24.85492442, 24.82315447, 24.82244397,\n",
       "       27.91772622, 22.76596636, 30.04865006, 27.75532512, 25.36832066,\n",
       "       22.86741833, 21.10634415, 31.84209719, 29.85782891, 25.19627479,\n",
       "       28.22943291, 30.64979992, 25.4423422 , 30.09965136, 27.11984397,\n",
       "       26.86656718, 26.36176485, 22.99297871, 26.20599825, 26.97877353,\n",
       "       23.03815606, 26.38688756, 23.57327681, 28.2824138 , 23.81074358,\n",
       "       31.7351832 , 27.42370252, 24.43542831, 27.88005413, 25.18858491,\n",
       "       23.96038218, 30.34063592, 22.77345131, 22.54824471, 25.98439139,\n",
       "       33.24329191, 27.73313548, 28.33620194, 26.93873798, 29.90934132,\n",
       "       23.59565483, 30.82212493, 28.32772408, 20.83284081, 25.34443548,\n",
       "       24.09223026, 37.47089041, 24.79046307, 34.23828414, 29.80948918,\n",
       "       21.83592451, 26.3292218 , 23.09306211, 27.65983585, 30.41303808,\n",
       "       25.95474249, 22.42739626, 28.72349595, 22.89053348, 27.40682161,\n",
       "       26.31558885, 25.04620309, 22.26402388, 26.26943351, 28.00566449,\n",
       "       31.49190297, 21.02952074, 31.17599004, 28.21324181, 26.06550049])"
      ]
     },
     "execution_count": 36,
     "metadata": {},
     "output_type": "execute_result"
    }
   ],
   "source": [
    "confgen.get_conformer_energies(mol)"
   ]
  },
  {
   "cell_type": "code",
   "execution_count": 18,
   "metadata": {},
   "outputs": [
    {
     "name": "stdout",
     "output_type": "stream",
     "text": [
      "110 ms ± 218 µs per loop (mean ± std. dev. of 7 runs, 10 loops each)\n"
     ]
    }
   ],
   "source": [
    "%timeit tfd = array_to_lower_triangle(Chem.TorsionFingerprints.GetTFDMatrix(mol, useWeights=False), True)"
   ]
  },
  {
   "cell_type": "code",
   "execution_count": 20,
   "metadata": {},
   "outputs": [
    {
     "name": "stdout",
     "output_type": "stream",
     "text": [
      "11.3 ms ± 18.5 µs per loop (mean ± std. dev. of 7 runs, 100 loops each)\n"
     ]
    }
   ],
   "source": [
    "%timeit tfd = Chem.TorsionFingerprints.GetTFDBetweenConformers(mol, range(0,mol.GetNumConformers() - 1), [-1], useWeights=False)\n"
   ]
  },
  {
   "cell_type": "code",
   "execution_count": 33,
   "metadata": {},
   "outputs": [
    {
     "name": "stdout",
     "output_type": "stream",
     "text": [
      "264 ms ± 3.54 ms per loop (mean ± std. dev. of 7 runs, 1 loop each)\n"
     ]
    }
   ],
   "source": [
    "%timeit confgen.get_conformer_energies(mol)"
   ]
  },
  {
   "cell_type": "code",
   "execution_count": 34,
   "metadata": {},
   "outputs": [
    {
     "name": "stdout",
     "output_type": "stream",
     "text": [
      "0 20.184904623488855\n",
      "1 20.83284080599911\n",
      "2 20.921058260791376\n",
      "3 21.029520740052845\n",
      "4 21.10634415035851\n",
      "5 21.134619976207897\n",
      "6 21.30998421047018\n",
      "7 21.835924511334795\n",
      "8 22.032265869816555\n",
      "9 22.069043316355593\n",
      "10 22.148668781483593\n",
      "11 22.16735387358701\n",
      "12 22.26402388372506\n",
      "13 22.427396256265556\n",
      "14 22.532588805710112\n",
      "15 22.5482447091328\n",
      "16 22.66077096836782\n",
      "17 22.696986145150976\n",
      "18 22.698325201408508\n",
      "19 22.765966357842558\n",
      "20 22.773451313506424\n",
      "21 22.866499586201208\n",
      "22 22.867418329406156\n",
      "23 22.873835416058984\n",
      "24 22.890533479605597\n",
      "25 22.91520112810189\n",
      "26 22.992978713823028\n",
      "27 23.03815606321889\n",
      "28 23.074591632039862\n",
      "29 23.07609374044991\n",
      "30 23.093062110873454\n",
      "31 23.435936290337743\n",
      "32 23.570290309073467\n",
      "33 23.573276805782104\n",
      "34 23.595654826844513\n",
      "35 23.74378020589037\n",
      "36 23.810743577142752\n",
      "37 23.940898150521058\n",
      "38 23.960382183998377\n",
      "39 24.092230264229617\n",
      "40 24.122125738809874\n",
      "41 24.13174466453666\n",
      "42 24.15914883710214\n",
      "43 24.17206466611584\n",
      "44 24.202537056382212\n",
      "45 24.221796495795143\n",
      "46 24.252945763139447\n",
      "47 24.304579915560026\n",
      "48 24.3325080801587\n",
      "49 24.435428314492313\n",
      "50 24.438591841493047\n",
      "51 24.470380302504207\n",
      "52 24.50380965755909\n",
      "53 24.506602653603853\n",
      "54 24.597503248239263\n",
      "55 24.6873334147191\n",
      "56 24.790463065863335\n",
      "57 24.822443965508683\n",
      "58 24.82315446973184\n",
      "59 24.83249007395272\n",
      "60 24.854924416422847\n",
      "61 24.905917447534193\n",
      "62 24.947065595031535\n",
      "63 25.046203087697098\n",
      "64 25.095525347312186\n",
      "65 25.112900609880946\n",
      "66 25.12579815457442\n",
      "67 25.141942989118323\n",
      "68 25.1885849096578\n",
      "69 25.19627479096088\n",
      "70 25.225382265924253\n",
      "71 25.296929257331648\n",
      "72 25.343088671359254\n",
      "73 25.344435483458977\n",
      "74 25.36832066225446\n",
      "75 25.3798065693436\n",
      "76 25.417444918792068\n",
      "77 25.442342199726074\n",
      "78 25.52013656233269\n",
      "79 25.5265444765023\n",
      "80 25.608927096952375\n",
      "81 25.634729988608456\n",
      "82 25.68237221573634\n",
      "83 25.698640010521533\n",
      "84 25.721533307985656\n",
      "85 25.738888842632093\n",
      "86 25.751860610034278\n",
      "87 25.75539901597357\n",
      "88 25.769676402077273\n",
      "89 25.842618609584452\n",
      "90 25.847106495990452\n",
      "91 25.88784466114341\n",
      "92 25.94795477367645\n",
      "93 25.954742486183143\n",
      "94 25.966641522644665\n",
      "95 25.98439139255863\n",
      "96 26.010607691069467\n",
      "97 26.035431580746707\n",
      "98 26.052567744444524\n",
      "99 26.06550049490007\n",
      "100 26.110115788856533\n",
      "101 26.173247999430533\n",
      "102 26.186954882963065\n",
      "103 26.205998253463687\n",
      "104 26.269433509387184\n",
      "105 26.275971680058326\n",
      "106 26.315588847039187\n",
      "107 26.329221797191213\n",
      "108 26.36176484664125\n",
      "109 26.38688756489908\n",
      "110 26.4052804377235\n",
      "111 26.411293357250564\n",
      "112 26.604742745281534\n",
      "113 26.616222723877296\n",
      "114 26.62890395343479\n",
      "115 26.789471544601984\n",
      "116 26.795738523196505\n",
      "117 26.805853471610586\n",
      "118 26.811832294809232\n",
      "119 26.833508936063513\n",
      "120 26.866567177356483\n",
      "121 26.87286994753799\n",
      "122 26.938737979960088\n",
      "123 26.97877352606315\n",
      "124 27.119843969769445\n",
      "125 27.40682160669236\n",
      "126 27.423702517862928\n",
      "127 27.42462700840827\n",
      "128 27.659835852138784\n",
      "129 27.72020753418584\n",
      "130 27.733135481746416\n",
      "131 27.75532511834995\n",
      "132 27.772095257425654\n",
      "133 27.852944044200747\n",
      "134 27.866205504629466\n",
      "135 27.867697145673375\n",
      "136 27.880054128566588\n",
      "137 27.917726220679317\n",
      "138 28.00566449491267\n",
      "139 28.042651726784086\n",
      "140 28.167583534926827\n",
      "141 28.211718515831464\n",
      "142 28.213241810625405\n",
      "143 28.22943290715748\n",
      "144 28.282413801788426\n",
      "145 28.30585823803759\n",
      "146 28.327724081955353\n",
      "147 28.336201939305738\n",
      "148 28.400918265733466\n",
      "149 28.504925885214096\n",
      "150 28.522190548953805\n",
      "151 28.55572947513493\n",
      "152 28.69961523585187\n",
      "153 28.72349595069644\n",
      "154 28.755265383999504\n",
      "155 28.830326414854994\n",
      "156 28.894951128634936\n",
      "157 28.908761230761677\n",
      "158 28.950746558538153\n",
      "159 29.094286135595755\n",
      "160 29.24937393949016\n",
      "161 29.47186933840001\n",
      "162 29.477198417489276\n",
      "163 29.608431502527157\n",
      "164 29.610448415037602\n",
      "165 29.669922071468353\n",
      "166 29.73943553801542\n",
      "167 29.809489179870056\n",
      "168 29.857828912046994\n",
      "169 29.909341320435022\n",
      "170 30.04865005836987\n",
      "171 30.065901526577345\n",
      "172 30.086530131399588\n",
      "173 30.099651356257873\n",
      "174 30.159275430044385\n",
      "175 30.2236377986242\n",
      "176 30.34063592262031\n",
      "177 30.413038083539156\n",
      "178 30.57388475474061\n",
      "179 30.649799917710595\n",
      "180 30.722637138513402\n",
      "181 30.822124927328424\n",
      "182 30.9084792798646\n",
      "183 31.045665051223917\n",
      "184 31.17599003987007\n",
      "185 31.49190297020517\n",
      "186 31.735183195052365\n",
      "187 31.842097186623292\n",
      "188 32.23836615232188\n",
      "189 32.30138370658143\n",
      "190 32.766382597262684\n",
      "191 33.16770597157907\n",
      "192 33.24329191286207\n",
      "193 33.37677927678177\n",
      "194 34.23828414116355\n",
      "195 34.271485066138354\n",
      "196 34.43908300134288\n",
      "197 37.470890407100015\n",
      "198 38.23766797702\n",
      "199 38.45379784811718\n"
     ]
    }
   ],
   "source": [
    "out = confgen.get_conformer_energies(mol)\n",
    "out = sorted(out)\n",
    "for idx, i in enumerate(out):\n",
    "    print(idx, i)"
   ]
  },
  {
   "cell_type": "code",
   "execution_count": 32,
   "metadata": {},
   "outputs": [
    {
     "data": {
      "application/3dmoljs_load.v0": "<div id=\"3dmolviewer_15825890604850073\"  style=\"position: relative; width: 800px; height: 800px\">\n        <p id=\"3dmolwarning_15825890604850073\" style=\"background-color:#ffcccc;color:black\">You appear to be running in JupyterLab (or JavaScript failed to load for some other reason).  You need to install the 3dmol extension: <br>\n        <tt>jupyter labextension install jupyterlab_3dmol</tt></p>\n        </div>\n<script>\n\nvar loadScriptAsync = function(uri){\n  return new Promise((resolve, reject) => {\n    var tag = document.createElement('script');\n    tag.src = uri;\n    tag.async = true;\n    tag.onload = () => {\n      resolve();\n    };\n  var firstScriptTag = document.getElementsByTagName('script')[0];\n  firstScriptTag.parentNode.insertBefore(tag, firstScriptTag);\n});\n};\n\nif(typeof $3Dmolpromise === 'undefined') {\n$3Dmolpromise = null;\n  $3Dmolpromise = loadScriptAsync('https://3dmol.csb.pitt.edu/build/3Dmol.js');\n}\n\nvar viewer_15825890604850073 = null;\nvar warn = document.getElementById(\"3dmolwarning_15825890604850073\");\nif(warn) {\n    warn.parentNode.removeChild(warn);\n}\n$3Dmolpromise.then(function() {\nviewer_15825890604850073 = $3Dmol.createViewer($(\"#3dmolviewer_15825890604850073\"),{backgroundColor:\"white\"});\n\tviewer_15825890604850073.removeAllModels();\n\tviewer_15825890604850073.addModel(\"\\n     RDKit          3D\\n\\n 16 15  0  0  0  0  0  0  0  0999 V2000\\n   -3.5224   -3.3956   -0.4357 C   0  0  0  0  0  0  0  0  0  0  0  0\\n   -2.0410   -3.6563   -0.2106 C   0  0  0  0  0  0  0  0  0  0  0  0\\n   -1.2708   -2.4323    0.2926 C   0  0  0  0  0  0  0  0  0  0  0  0\\n   -1.2175   -1.2879   -0.7300 C   0  0  0  0  0  0  0  0  0  0  0  0\\n   -0.3457   -0.0915   -0.2516 C   0  0  0  0  0  0  0  0  0  0  0  0\\n   -0.7706    1.1947   -1.0065 C   0  0  0  0  0  0  0  0  0  0  0  0\\n   -2.0953    1.8182   -0.5391 C   0  0  0  0  0  0  0  0  0  0  0  0\\n   -2.0168    2.4221    0.8648 C   0  0  0  0  0  0  0  0  0  0  0  0\\n   -3.3083    3.1370    1.2328 C   0  0  0  0  0  0  0  0  0  0  0  0\\n    1.1935   -0.4344   -0.3924 C   0  0  0  0  0  0  0  0  0  0  0  0\\n    1.7336   -0.1087   -1.8075 C   0  0  0  0  0  0  0  0  0  0  0  0\\n    3.1052   -0.6828   -2.1270 C   0  0  0  0  0  0  0  0  0  0  0  0\\n    2.0133    0.1421    0.8189 C   0  0  0  0  0  0  0  0  0  0  0  0\\n    3.2496   -0.7167    1.1342 C   0  0  0  0  0  0  0  0  0  0  0  0\\n    2.3774    1.6337    0.6919 C   0  0  0  0  0  0  0  0  0  0  0  0\\n    3.0755    2.2026    1.9221 C   0  0  0  0  0  0  0  0  0  0  0  0\\n  1  2  1  0\\n  2  3  1  0\\n  3  4  1  0\\n  4  5  1  0\\n  5  6  1  0\\n  6  7  1  0\\n  7  8  1  0\\n  8  9  1  0\\n  5 10  1  0\\n 10 11  1  0\\n 11 12  1  0\\n 10 13  1  0\\n 13 14  1  0\\n 13 15  1  0\\n 15 16  1  0\\nM  END\\n\",\"sdf\");\n\tviewer_15825890604850073.setStyle({\"stick\": {}});\n\tviewer_15825890604850073.setBackgroundColor(\"0xeeeeee\");\n\tviewer_15825890604850073.zoomTo();\nviewer_15825890604850073.render();\n});\n</script>",
      "text/html": [
       "<div id=\"3dmolviewer_15825890604850073\"  style=\"position: relative; width: 800px; height: 800px\">\n",
       "        <p id=\"3dmolwarning_15825890604850073\" style=\"background-color:#ffcccc;color:black\">You appear to be running in JupyterLab (or JavaScript failed to load for some other reason).  You need to install the 3dmol extension: <br>\n",
       "        <tt>jupyter labextension install jupyterlab_3dmol</tt></p>\n",
       "        </div>\n",
       "<script>\n",
       "\n",
       "var loadScriptAsync = function(uri){\n",
       "  return new Promise((resolve, reject) => {\n",
       "    var tag = document.createElement('script');\n",
       "    tag.src = uri;\n",
       "    tag.async = true;\n",
       "    tag.onload = () => {\n",
       "      resolve();\n",
       "    };\n",
       "  var firstScriptTag = document.getElementsByTagName('script')[0];\n",
       "  firstScriptTag.parentNode.insertBefore(tag, firstScriptTag);\n",
       "});\n",
       "};\n",
       "\n",
       "if(typeof $3Dmolpromise === 'undefined') {\n",
       "$3Dmolpromise = null;\n",
       "  $3Dmolpromise = loadScriptAsync('https://3dmol.csb.pitt.edu/build/3Dmol.js');\n",
       "}\n",
       "\n",
       "var viewer_15825890604850073 = null;\n",
       "var warn = document.getElementById(\"3dmolwarning_15825890604850073\");\n",
       "if(warn) {\n",
       "    warn.parentNode.removeChild(warn);\n",
       "}\n",
       "$3Dmolpromise.then(function() {\n",
       "viewer_15825890604850073 = $3Dmol.createViewer($(\"#3dmolviewer_15825890604850073\"),{backgroundColor:\"white\"});\n",
       "\tviewer_15825890604850073.removeAllModels();\n",
       "\tviewer_15825890604850073.addModel(\"\\n     RDKit          3D\\n\\n 16 15  0  0  0  0  0  0  0  0999 V2000\\n   -3.5224   -3.3956   -0.4357 C   0  0  0  0  0  0  0  0  0  0  0  0\\n   -2.0410   -3.6563   -0.2106 C   0  0  0  0  0  0  0  0  0  0  0  0\\n   -1.2708   -2.4323    0.2926 C   0  0  0  0  0  0  0  0  0  0  0  0\\n   -1.2175   -1.2879   -0.7300 C   0  0  0  0  0  0  0  0  0  0  0  0\\n   -0.3457   -0.0915   -0.2516 C   0  0  0  0  0  0  0  0  0  0  0  0\\n   -0.7706    1.1947   -1.0065 C   0  0  0  0  0  0  0  0  0  0  0  0\\n   -2.0953    1.8182   -0.5391 C   0  0  0  0  0  0  0  0  0  0  0  0\\n   -2.0168    2.4221    0.8648 C   0  0  0  0  0  0  0  0  0  0  0  0\\n   -3.3083    3.1370    1.2328 C   0  0  0  0  0  0  0  0  0  0  0  0\\n    1.1935   -0.4344   -0.3924 C   0  0  0  0  0  0  0  0  0  0  0  0\\n    1.7336   -0.1087   -1.8075 C   0  0  0  0  0  0  0  0  0  0  0  0\\n    3.1052   -0.6828   -2.1270 C   0  0  0  0  0  0  0  0  0  0  0  0\\n    2.0133    0.1421    0.8189 C   0  0  0  0  0  0  0  0  0  0  0  0\\n    3.2496   -0.7167    1.1342 C   0  0  0  0  0  0  0  0  0  0  0  0\\n    2.3774    1.6337    0.6919 C   0  0  0  0  0  0  0  0  0  0  0  0\\n    3.0755    2.2026    1.9221 C   0  0  0  0  0  0  0  0  0  0  0  0\\n  1  2  1  0\\n  2  3  1  0\\n  3  4  1  0\\n  4  5  1  0\\n  5  6  1  0\\n  6  7  1  0\\n  7  8  1  0\\n  8  9  1  0\\n  5 10  1  0\\n 10 11  1  0\\n 11 12  1  0\\n 10 13  1  0\\n 13 14  1  0\\n 13 15  1  0\\n 15 16  1  0\\nM  END\\n\",\"sdf\");\n",
       "\tviewer_15825890604850073.setStyle({\"stick\": {}});\n",
       "\tviewer_15825890604850073.setBackgroundColor(\"0xeeeeee\");\n",
       "\tviewer_15825890604850073.zoomTo();\n",
       "viewer_15825890604850073.render();\n",
       "});\n",
       "</script>"
      ]
     },
     "metadata": {},
     "output_type": "display_data"
    }
   ],
   "source": [
    "import py3Dmol\n",
    "p = py3Dmol.view(width=800,height=800)\n",
    "drawit(Chem.RemoveHs(mol), p, confId=0)"
   ]
  },
  {
   "cell_type": "code",
   "execution_count": 13,
   "metadata": {},
   "outputs": [
    {
     "data": {
      "application/3dmoljs_load.v0": "<div id=\"3dmolviewer_15863408796434586\"  style=\"position: relative; width: 800px; height: 800px\">\n        <p id=\"3dmolwarning_15863408796434586\" style=\"background-color:#ffcccc;color:black\">You appear to be running in JupyterLab (or JavaScript failed to load for some other reason).  You need to install the 3dmol extension: <br>\n        <tt>jupyter labextension install jupyterlab_3dmol</tt></p>\n        </div>\n<script>\n\nvar loadScriptAsync = function(uri){\n  return new Promise((resolve, reject) => {\n    var tag = document.createElement('script');\n    tag.src = uri;\n    tag.async = true;\n    tag.onload = () => {\n      resolve();\n    };\n  var firstScriptTag = document.getElementsByTagName('script')[0];\n  firstScriptTag.parentNode.insertBefore(tag, firstScriptTag);\n});\n};\n\nif(typeof $3Dmolpromise === 'undefined') {\n$3Dmolpromise = null;\n  $3Dmolpromise = loadScriptAsync('https://3dmol.csb.pitt.edu/build/3Dmol.js');\n}\n\nvar viewer_15863408796434586 = null;\nvar warn = document.getElementById(\"3dmolwarning_15863408796434586\");\nif(warn) {\n    warn.parentNode.removeChild(warn);\n}\n$3Dmolpromise.then(function() {\nviewer_15863408796434586 = $3Dmol.createViewer($(\"#3dmolviewer_15863408796434586\"),{backgroundColor:\"white\"});\n\tviewer_15863408796434586.removeAllModels();\n\tviewer_15863408796434586.addModel(\"\\n     RDKit          3D\\n\\n 38 37  0  0  0  0  0  0  0  0999 V2000\\n   -5.7577    0.7908    0.6159 C   0  0  0  0  0  0  0  0  0  0  0  0\\n   -5.3736    1.3422   -0.7486 C   0  0  0  0  0  0  0  0  0  0  0  0\\n   -4.1094    0.7033   -1.3291 C   0  0  0  0  0  0  0  0  0  0  0  0\\n   -2.8369    1.0806   -0.5636 C   0  0  0  0  0  0  0  0  0  0  0  0\\n   -1.5663    0.4955   -1.1886 C   0  0  0  0  0  0  0  0  0  0  0  0\\n   -1.0643   -0.8153   -0.5683 C   0  0  0  0  0  0  0  0  0  0  0  0\\n   -1.9532   -2.0387   -0.8053 C   0  0  0  0  0  0  0  0  0  0  0  0\\n   -2.8860   -2.3350    0.3720 C   0  0  0  0  0  0  0  0  0  0  0  0\\n   -3.8074   -3.5174    0.0666 C   0  0  0  0  0  0  0  0  0  0  0  0\\n   -4.7422   -3.8105    1.2412 C   0  0  0  0  0  0  0  0  0  0  0  0\\n   -5.6672   -4.9880    0.9350 C   0  0  0  0  0  0  0  0  0  0  0  0\\n   -6.5994   -5.2813    2.0996 C   0  0  0  0  0  0  0  0  0  0  0  0\\n   -6.7083    1.2252    0.9419 H   0  0  0  0  0  0  0  0  0  0  0  0\\n   -5.8784   -0.2965    0.5801 H   0  0  0  0  0  0  0  0  0  0  0  0\\n   -5.0067    1.0311    1.3737 H   0  0  0  0  0  0  0  0  0  0  0  0\\n   -5.2490    2.4293   -0.6832 H   0  0  0  0  0  0  0  0  0  0  0  0\\n   -6.2039    1.1599   -1.4414 H   0  0  0  0  0  0  0  0  0  0  0  0\\n   -4.2379   -0.3822   -1.3651 H   0  0  0  0  0  0  0  0  0  0  0  0\\n   -4.0066    1.0388   -2.3689 H   0  0  0  0  0  0  0  0  0  0  0  0\\n   -2.7502    2.1749   -0.5840 H   0  0  0  0  0  0  0  0  0  0  0  0\\n   -2.9029    0.7984    0.4917 H   0  0  0  0  0  0  0  0  0  0  0  0\\n   -0.7641    1.2330   -1.0522 H   0  0  0  0  0  0  0  0  0  0  0  0\\n   -1.6847    0.3766   -2.2722 H   0  0  0  0  0  0  0  0  0  0  0  0\\n   -0.0880   -1.0243   -1.0255 H   0  0  0  0  0  0  0  0  0  0  0  0\\n   -0.8721   -0.6750    0.5022 H   0  0  0  0  0  0  0  0  0  0  0  0\\n   -2.5180   -1.9300   -1.7378 H   0  0  0  0  0  0  0  0  0  0  0  0\\n   -1.3026   -2.9125   -0.9415 H   0  0  0  0  0  0  0  0  0  0  0  0\\n   -2.2859   -2.5595    1.2624 H   0  0  0  0  0  0  0  0  0  0  0  0\\n   -3.4926   -1.4580    0.6136 H   0  0  0  0  0  0  0  0  0  0  0  0\\n   -3.2045   -4.4063   -0.1553 H   0  0  0  0  0  0  0  0  0  0  0  0\\n   -4.4019   -3.2971   -0.8284 H   0  0  0  0  0  0  0  0  0  0  0  0\\n   -4.1490   -4.0321    2.1367 H   0  0  0  0  0  0  0  0  0  0  0  0\\n   -5.3429   -2.9202    1.4638 H   0  0  0  0  0  0  0  0  0  0  0  0\\n   -6.2650   -4.7698    0.0423 H   0  0  0  0  0  0  0  0  0  0  0  0\\n   -5.0721   -5.8823    0.7166 H   0  0  0  0  0  0  0  0  0  0  0  0\\n   -7.2519   -6.1266    1.8593 H   0  0  0  0  0  0  0  0  0  0  0  0\\n   -7.2322   -4.4164    2.3231 H   0  0  0  0  0  0  0  0  0  0  0  0\\n   -6.0329   -5.5351    3.0013 H   0  0  0  0  0  0  0  0  0  0  0  0\\n  1  2  1  0\\n  2  3  1  0\\n  3  4  1  0\\n  4  5  1  0\\n  5  6  1  0\\n  6  7  1  0\\n  7  8  1  0\\n  8  9  1  0\\n  9 10  1  0\\n 10 11  1  0\\n 11 12  1  0\\n  1 13  1  0\\n  1 14  1  0\\n  1 15  1  0\\n  2 16  1  0\\n  2 17  1  0\\n  3 18  1  0\\n  3 19  1  0\\n  4 20  1  0\\n  4 21  1  0\\n  5 22  1  0\\n  5 23  1  0\\n  6 24  1  0\\n  6 25  1  0\\n  7 26  1  0\\n  7 27  1  0\\n  8 28  1  0\\n  8 29  1  0\\n  9 30  1  0\\n  9 31  1  0\\n 10 32  1  0\\n 10 33  1  0\\n 11 34  1  0\\n 11 35  1  0\\n 12 36  1  0\\n 12 37  1  0\\n 12 38  1  0\\nM  END\\n\",\"sdf\");\n\tviewer_15863408796434586.setStyle({\"stick\": {}});\n\tviewer_15863408796434586.setBackgroundColor(\"0xeeeeee\");\n\tviewer_15863408796434586.zoomTo();\nviewer_15863408796434586.render();\n});\n</script>",
      "text/html": [
       "<div id=\"3dmolviewer_15863408796434586\"  style=\"position: relative; width: 800px; height: 800px\">\n",
       "        <p id=\"3dmolwarning_15863408796434586\" style=\"background-color:#ffcccc;color:black\">You appear to be running in JupyterLab (or JavaScript failed to load for some other reason).  You need to install the 3dmol extension: <br>\n",
       "        <tt>jupyter labextension install jupyterlab_3dmol</tt></p>\n",
       "        </div>\n",
       "<script>\n",
       "\n",
       "var loadScriptAsync = function(uri){\n",
       "  return new Promise((resolve, reject) => {\n",
       "    var tag = document.createElement('script');\n",
       "    tag.src = uri;\n",
       "    tag.async = true;\n",
       "    tag.onload = () => {\n",
       "      resolve();\n",
       "    };\n",
       "  var firstScriptTag = document.getElementsByTagName('script')[0];\n",
       "  firstScriptTag.parentNode.insertBefore(tag, firstScriptTag);\n",
       "});\n",
       "};\n",
       "\n",
       "if(typeof $3Dmolpromise === 'undefined') {\n",
       "$3Dmolpromise = null;\n",
       "  $3Dmolpromise = loadScriptAsync('https://3dmol.csb.pitt.edu/build/3Dmol.js');\n",
       "}\n",
       "\n",
       "var viewer_15863408796434586 = null;\n",
       "var warn = document.getElementById(\"3dmolwarning_15863408796434586\");\n",
       "if(warn) {\n",
       "    warn.parentNode.removeChild(warn);\n",
       "}\n",
       "$3Dmolpromise.then(function() {\n",
       "viewer_15863408796434586 = $3Dmol.createViewer($(\"#3dmolviewer_15863408796434586\"),{backgroundColor:\"white\"});\n",
       "\tviewer_15863408796434586.removeAllModels();\n",
       "\tviewer_15863408796434586.addModel(\"\\n     RDKit          3D\\n\\n 38 37  0  0  0  0  0  0  0  0999 V2000\\n   -5.7577    0.7908    0.6159 C   0  0  0  0  0  0  0  0  0  0  0  0\\n   -5.3736    1.3422   -0.7486 C   0  0  0  0  0  0  0  0  0  0  0  0\\n   -4.1094    0.7033   -1.3291 C   0  0  0  0  0  0  0  0  0  0  0  0\\n   -2.8369    1.0806   -0.5636 C   0  0  0  0  0  0  0  0  0  0  0  0\\n   -1.5663    0.4955   -1.1886 C   0  0  0  0  0  0  0  0  0  0  0  0\\n   -1.0643   -0.8153   -0.5683 C   0  0  0  0  0  0  0  0  0  0  0  0\\n   -1.9532   -2.0387   -0.8053 C   0  0  0  0  0  0  0  0  0  0  0  0\\n   -2.8860   -2.3350    0.3720 C   0  0  0  0  0  0  0  0  0  0  0  0\\n   -3.8074   -3.5174    0.0666 C   0  0  0  0  0  0  0  0  0  0  0  0\\n   -4.7422   -3.8105    1.2412 C   0  0  0  0  0  0  0  0  0  0  0  0\\n   -5.6672   -4.9880    0.9350 C   0  0  0  0  0  0  0  0  0  0  0  0\\n   -6.5994   -5.2813    2.0996 C   0  0  0  0  0  0  0  0  0  0  0  0\\n   -6.7083    1.2252    0.9419 H   0  0  0  0  0  0  0  0  0  0  0  0\\n   -5.8784   -0.2965    0.5801 H   0  0  0  0  0  0  0  0  0  0  0  0\\n   -5.0067    1.0311    1.3737 H   0  0  0  0  0  0  0  0  0  0  0  0\\n   -5.2490    2.4293   -0.6832 H   0  0  0  0  0  0  0  0  0  0  0  0\\n   -6.2039    1.1599   -1.4414 H   0  0  0  0  0  0  0  0  0  0  0  0\\n   -4.2379   -0.3822   -1.3651 H   0  0  0  0  0  0  0  0  0  0  0  0\\n   -4.0066    1.0388   -2.3689 H   0  0  0  0  0  0  0  0  0  0  0  0\\n   -2.7502    2.1749   -0.5840 H   0  0  0  0  0  0  0  0  0  0  0  0\\n   -2.9029    0.7984    0.4917 H   0  0  0  0  0  0  0  0  0  0  0  0\\n   -0.7641    1.2330   -1.0522 H   0  0  0  0  0  0  0  0  0  0  0  0\\n   -1.6847    0.3766   -2.2722 H   0  0  0  0  0  0  0  0  0  0  0  0\\n   -0.0880   -1.0243   -1.0255 H   0  0  0  0  0  0  0  0  0  0  0  0\\n   -0.8721   -0.6750    0.5022 H   0  0  0  0  0  0  0  0  0  0  0  0\\n   -2.5180   -1.9300   -1.7378 H   0  0  0  0  0  0  0  0  0  0  0  0\\n   -1.3026   -2.9125   -0.9415 H   0  0  0  0  0  0  0  0  0  0  0  0\\n   -2.2859   -2.5595    1.2624 H   0  0  0  0  0  0  0  0  0  0  0  0\\n   -3.4926   -1.4580    0.6136 H   0  0  0  0  0  0  0  0  0  0  0  0\\n   -3.2045   -4.4063   -0.1553 H   0  0  0  0  0  0  0  0  0  0  0  0\\n   -4.4019   -3.2971   -0.8284 H   0  0  0  0  0  0  0  0  0  0  0  0\\n   -4.1490   -4.0321    2.1367 H   0  0  0  0  0  0  0  0  0  0  0  0\\n   -5.3429   -2.9202    1.4638 H   0  0  0  0  0  0  0  0  0  0  0  0\\n   -6.2650   -4.7698    0.0423 H   0  0  0  0  0  0  0  0  0  0  0  0\\n   -5.0721   -5.8823    0.7166 H   0  0  0  0  0  0  0  0  0  0  0  0\\n   -7.2519   -6.1266    1.8593 H   0  0  0  0  0  0  0  0  0  0  0  0\\n   -7.2322   -4.4164    2.3231 H   0  0  0  0  0  0  0  0  0  0  0  0\\n   -6.0329   -5.5351    3.0013 H   0  0  0  0  0  0  0  0  0  0  0  0\\n  1  2  1  0\\n  2  3  1  0\\n  3  4  1  0\\n  4  5  1  0\\n  5  6  1  0\\n  6  7  1  0\\n  7  8  1  0\\n  8  9  1  0\\n  9 10  1  0\\n 10 11  1  0\\n 11 12  1  0\\n  1 13  1  0\\n  1 14  1  0\\n  1 15  1  0\\n  2 16  1  0\\n  2 17  1  0\\n  3 18  1  0\\n  3 19  1  0\\n  4 20  1  0\\n  4 21  1  0\\n  5 22  1  0\\n  5 23  1  0\\n  6 24  1  0\\n  6 25  1  0\\n  7 26  1  0\\n  7 27  1  0\\n  8 28  1  0\\n  8 29  1  0\\n  9 30  1  0\\n  9 31  1  0\\n 10 32  1  0\\n 10 33  1  0\\n 11 34  1  0\\n 11 35  1  0\\n 12 36  1  0\\n 12 37  1  0\\n 12 38  1  0\\nM  END\\n\",\"sdf\");\n",
       "\tviewer_15863408796434586.setStyle({\"stick\": {}});\n",
       "\tviewer_15863408796434586.setBackgroundColor(\"0xeeeeee\");\n",
       "\tviewer_15863408796434586.zoomTo();\n",
       "viewer_15863408796434586.render();\n",
       "});\n",
       "</script>"
      ]
     },
     "metadata": {},
     "output_type": "display_data"
    }
   ],
   "source": [
    "import pickle\n",
    "with open('test_mol.pickle', 'rb') as fp:\n",
    "    mol = pickle.load(fp)\n",
    "    \n",
    "import py3Dmol\n",
    "p = py3Dmol.view(width=800,height=800)\n",
    "drawit(mol, p, confId=0)"
   ]
  },
  {
   "cell_type": "code",
   "execution_count": 15,
   "metadata": {},
   "outputs": [
    {
     "data": {
      "text/plain": [
       "[<matplotlib.lines.Line2D at 0x2ac642fa7b00>]"
      ]
     },
     "execution_count": 15,
     "metadata": {},
     "output_type": "execute_result"
    },
    {
     "data": {
      "image/png": "[encoded data removed]",
      "text/plain": [
       "<Figure size 432x288 with 1 Axes>"
      ]
     },
     "metadata": {
      "needs_background": "light"
     },
     "output_type": "display_data"
    }
   ],
   "source": [
    "plt.plot(np.cumsum(1.4 * np.exp(-(menergys - 14.88278294332602))) / 1.2363186365185044)"
   ]
  },
  {
   "cell_type": "code",
   "execution_count": 16,
   "metadata": {},
   "outputs": [
    {
     "data": {
      "text/plain": [
       "[<matplotlib.lines.Line2D at 0x2ac6277e8828>]"
      ]
     },
     "execution_count": 16,
     "metadata": {},
     "output_type": "execute_result"
    },
    {
     "data": {
      "image/png": "[encoded data removed]",
      "text/plain": [
       "<Figure size 432x288 with 1 Axes>"
      ]
     },
     "metadata": {
      "needs_background": "light"
     },
     "output_type": "display_data"
    }
   ],
   "source": [
    "mol = Chem.MolFromMolFile('258-trihexyl-decane.mol')\n",
    "standard = 14.88278294332602\n",
    "mol = Chem.AddHs(mol)\n",
    "res = AllChem.EmbedMultipleConfs(mol, numConfs=650, numThreads=-1, pruneRmsThresh=1.0)\n",
    "res = AllChem.MMFFOptimizeMoleculeConfs(mol, numThreads=-1)\n",
    "\n",
    "\n",
    "energys = confgen.get_conformer_energies(mol)\n",
    "plt.title('RDKit set')\n",
    "plt.plot(np.cumsum(0.9 * np.exp(-(energys - 14.88278294332602))) / 1.2363186365185044)"
   ]
  },
  {
   "cell_type": "code",
   "execution_count": 21,
   "metadata": {},
   "outputs": [
    {
     "data": {
      "text/plain": [
       "Text(0, 0.5, 'Normalized Gibbs')"
      ]
     },
     "execution_count": 21,
     "metadata": {},
     "output_type": "execute_result"
    },
    {
     "data": {
      "image/png": "[encoded data removed]",
      "text/plain": [
       "<Figure size 432x288 with 1 Axes>"
      ]
     },
     "metadata": {
      "needs_background": "light"
     },
     "output_type": "display_data"
    }
   ],
   "source": [
    "plt.plot(np.cumsum(1.4 * np.exp(-(menergys - 14.88278294332602))) / 1.2363186365185044, label='RL')\n",
    "plt.plot(np.cumsum(0.4 * np.exp(-(energys - 14.88278294332602))) / 1.2363186365185044, label='ETKDG')\n",
    "plt.legend()\n",
    "plt.title('Gibbs vs Num_Samples')\n",
    "plt.xlabel('Timestep / Number of Samples')\n",
    "plt.ylabel('Normalized Gibbs')"
   ]
  },
  {
   "cell_type": "code",
   "execution_count": 23,
   "metadata": {},
   "outputs": [
    {
     "ename": "ValueError",
     "evalue": "cannot convert float NaN to integer",
     "output_type": "error",
     "traceback": [
      "\u001b[0;31m---------------------------------------------------------------------------\u001b[0m",
      "\u001b[0;31mValueError\u001b[0m                                Traceback (most recent call last)",
      "\u001b[0;32m<ipython-input-23-db7cf18f0e0b>\u001b[0m in \u001b[0;36m<module>\u001b[0;34m\u001b[0m\n\u001b[1;32m      2\u001b[0m \u001b[0mget_ipython\u001b[0m\u001b[0;34m(\u001b[0m\u001b[0;34m)\u001b[0m\u001b[0;34m.\u001b[0m\u001b[0mrun_line_magic\u001b[0m\u001b[0;34m(\u001b[0m\u001b[0;34m'matplotlib'\u001b[0m\u001b[0;34m,\u001b[0m \u001b[0;34m'inline'\u001b[0m\u001b[0;34m)\u001b[0m\u001b[0;34m\u001b[0m\u001b[0;34m\u001b[0m\u001b[0m\n\u001b[1;32m      3\u001b[0m \u001b[0mplt\u001b[0m\u001b[0;34m.\u001b[0m\u001b[0mtitle\u001b[0m\u001b[0;34m(\u001b[0m\u001b[0;34m'ML model set'\u001b[0m\u001b[0;34m)\u001b[0m\u001b[0;34m\u001b[0m\u001b[0;34m\u001b[0m\u001b[0m\n\u001b[0;32m----> 4\u001b[0;31m \u001b[0mplt\u001b[0m\u001b[0;34m.\u001b[0m\u001b[0mpie\u001b[0m\u001b[0;34m(\u001b[0m\u001b[0mnp\u001b[0m\u001b[0;34m.\u001b[0m\u001b[0msort\u001b[0m\u001b[0;34m(\u001b[0m\u001b[0mnp\u001b[0m\u001b[0;34m.\u001b[0m\u001b[0mexp\u001b[0m\u001b[0;34m(\u001b[0m\u001b[0;34m-\u001b[0m\u001b[0;34m(\u001b[0m\u001b[0menergys\u001b[0m \u001b[0;34m-\u001b[0m \u001b[0menergys\u001b[0m\u001b[0;34m.\u001b[0m\u001b[0mmax\u001b[0m\u001b[0;34m(\u001b[0m\u001b[0;34m)\u001b[0m\u001b[0;34m)\u001b[0m\u001b[0;34m)\u001b[0m\u001b[0;34m)\u001b[0m\u001b[0;34m)\u001b[0m\u001b[0;34m\u001b[0m\u001b[0;34m\u001b[0m\u001b[0m\n\u001b[0m",
      "\u001b[0;32m~/.conda/envs/my-rdkit-env/lib/python3.6/site-packages/matplotlib/pyplot.py\u001b[0m in \u001b[0;36mpie\u001b[0;34m(x, explode, labels, colors, autopct, pctdistance, shadow, labeldistance, startangle, radius, counterclock, wedgeprops, textprops, center, frame, rotatelabels, data)\u001b[0m\n\u001b[1;32m   2779\u001b[0m         \u001b[0mwedgeprops\u001b[0m\u001b[0;34m=\u001b[0m\u001b[0mwedgeprops\u001b[0m\u001b[0;34m,\u001b[0m \u001b[0mtextprops\u001b[0m\u001b[0;34m=\u001b[0m\u001b[0mtextprops\u001b[0m\u001b[0;34m,\u001b[0m \u001b[0mcenter\u001b[0m\u001b[0;34m=\u001b[0m\u001b[0mcenter\u001b[0m\u001b[0;34m,\u001b[0m\u001b[0;34m\u001b[0m\u001b[0;34m\u001b[0m\u001b[0m\n\u001b[1;32m   2780\u001b[0m         frame=frame, rotatelabels=rotatelabels, **({\"data\": data} if\n\u001b[0;32m-> 2781\u001b[0;31m         data is not None else {}))\n\u001b[0m\u001b[1;32m   2782\u001b[0m \u001b[0;34m\u001b[0m\u001b[0m\n\u001b[1;32m   2783\u001b[0m \u001b[0;34m\u001b[0m\u001b[0m\n",
      "\u001b[0;32m~/.conda/envs/my-rdkit-env/lib/python3.6/site-packages/matplotlib/__init__.py\u001b[0m in \u001b[0;36minner\u001b[0;34m(ax, data, *args, **kwargs)\u001b[0m\n\u001b[1;32m   1587\u001b[0m     \u001b[0;32mdef\u001b[0m \u001b[0minner\u001b[0m\u001b[0;34m(\u001b[0m\u001b[0max\u001b[0m\u001b[0;34m,\u001b[0m \u001b[0;34m*\u001b[0m\u001b[0margs\u001b[0m\u001b[0;34m,\u001b[0m \u001b[0mdata\u001b[0m\u001b[0;34m=\u001b[0m\u001b[0;32mNone\u001b[0m\u001b[0;34m,\u001b[0m \u001b[0;34m**\u001b[0m\u001b[0mkwargs\u001b[0m\u001b[0;34m)\u001b[0m\u001b[0;34m:\u001b[0m\u001b[0;34m\u001b[0m\u001b[0;34m\u001b[0m\u001b[0m\n\u001b[1;32m   1588\u001b[0m         \u001b[0;32mif\u001b[0m \u001b[0mdata\u001b[0m \u001b[0;32mis\u001b[0m \u001b[0;32mNone\u001b[0m\u001b[0;34m:\u001b[0m\u001b[0;34m\u001b[0m\u001b[0;34m\u001b[0m\u001b[0m\n\u001b[0;32m-> 1589\u001b[0;31m             \u001b[0;32mreturn\u001b[0m \u001b[0mfunc\u001b[0m\u001b[0;34m(\u001b[0m\u001b[0max\u001b[0m\u001b[0;34m,\u001b[0m \u001b[0;34m*\u001b[0m\u001b[0mmap\u001b[0m\u001b[0;34m(\u001b[0m\u001b[0msanitize_sequence\u001b[0m\u001b[0;34m,\u001b[0m \u001b[0margs\u001b[0m\u001b[0;34m)\u001b[0m\u001b[0;34m,\u001b[0m \u001b[0;34m**\u001b[0m\u001b[0mkwargs\u001b[0m\u001b[0;34m)\u001b[0m\u001b[0;34m\u001b[0m\u001b[0;34m\u001b[0m\u001b[0m\n\u001b[0m\u001b[1;32m   1590\u001b[0m \u001b[0;34m\u001b[0m\u001b[0m\n\u001b[1;32m   1591\u001b[0m         \u001b[0mbound\u001b[0m \u001b[0;34m=\u001b[0m \u001b[0mnew_sig\u001b[0m\u001b[0;34m.\u001b[0m\u001b[0mbind\u001b[0m\u001b[0;34m(\u001b[0m\u001b[0max\u001b[0m\u001b[0;34m,\u001b[0m \u001b[0;34m*\u001b[0m\u001b[0margs\u001b[0m\u001b[0;34m,\u001b[0m \u001b[0;34m**\u001b[0m\u001b[0mkwargs\u001b[0m\u001b[0;34m)\u001b[0m\u001b[0;34m\u001b[0m\u001b[0;34m\u001b[0m\u001b[0m\n",
      "\u001b[0;32m~/.conda/envs/my-rdkit-env/lib/python3.6/site-packages/matplotlib/axes/_axes.py\u001b[0m in \u001b[0;36mpie\u001b[0;34m(self, x, explode, labels, colors, autopct, pctdistance, shadow, labeldistance, startangle, radius, counterclock, wedgeprops, textprops, center, frame, rotatelabels)\u001b[0m\n\u001b[1;32m   3025\u001b[0m                                \u001b[0;36m360.\u001b[0m \u001b[0;34m*\u001b[0m \u001b[0mmax\u001b[0m\u001b[0;34m(\u001b[0m\u001b[0mtheta1\u001b[0m\u001b[0;34m,\u001b[0m \u001b[0mtheta2\u001b[0m\u001b[0;34m)\u001b[0m\u001b[0;34m,\u001b[0m\u001b[0;34m\u001b[0m\u001b[0;34m\u001b[0m\u001b[0m\n\u001b[1;32m   3026\u001b[0m                                \u001b[0mfacecolor\u001b[0m\u001b[0;34m=\u001b[0m\u001b[0mget_next_color\u001b[0m\u001b[0;34m(\u001b[0m\u001b[0;34m)\u001b[0m\u001b[0;34m,\u001b[0m\u001b[0;34m\u001b[0m\u001b[0;34m\u001b[0m\u001b[0m\n\u001b[0;32m-> 3027\u001b[0;31m                                **wedgeprops)\n\u001b[0m\u001b[1;32m   3028\u001b[0m             \u001b[0mslices\u001b[0m\u001b[0;34m.\u001b[0m\u001b[0mappend\u001b[0m\u001b[0;34m(\u001b[0m\u001b[0mw\u001b[0m\u001b[0;34m)\u001b[0m\u001b[0;34m\u001b[0m\u001b[0;34m\u001b[0m\u001b[0m\n\u001b[1;32m   3029\u001b[0m             \u001b[0mself\u001b[0m\u001b[0;34m.\u001b[0m\u001b[0madd_patch\u001b[0m\u001b[0;34m(\u001b[0m\u001b[0mw\u001b[0m\u001b[0;34m)\u001b[0m\u001b[0;34m\u001b[0m\u001b[0;34m\u001b[0m\u001b[0m\n",
      "\u001b[0;32m~/.conda/envs/my-rdkit-env/lib/python3.6/site-packages/matplotlib/patches.py\u001b[0m in \u001b[0;36m__init__\u001b[0;34m(self, center, r, theta1, theta2, width, **kwargs)\u001b[0m\n\u001b[1;32m   1079\u001b[0m         \u001b[0mself\u001b[0m\u001b[0;34m.\u001b[0m\u001b[0mtheta1\u001b[0m\u001b[0;34m,\u001b[0m \u001b[0mself\u001b[0m\u001b[0;34m.\u001b[0m\u001b[0mtheta2\u001b[0m \u001b[0;34m=\u001b[0m \u001b[0mtheta1\u001b[0m\u001b[0;34m,\u001b[0m \u001b[0mtheta2\u001b[0m\u001b[0;34m\u001b[0m\u001b[0;34m\u001b[0m\u001b[0m\n\u001b[1;32m   1080\u001b[0m         \u001b[0mself\u001b[0m\u001b[0;34m.\u001b[0m\u001b[0m_patch_transform\u001b[0m \u001b[0;34m=\u001b[0m \u001b[0mtransforms\u001b[0m\u001b[0;34m.\u001b[0m\u001b[0mIdentityTransform\u001b[0m\u001b[0;34m(\u001b[0m\u001b[0;34m)\u001b[0m\u001b[0;34m\u001b[0m\u001b[0;34m\u001b[0m\u001b[0m\n\u001b[0;32m-> 1081\u001b[0;31m         \u001b[0mself\u001b[0m\u001b[0;34m.\u001b[0m\u001b[0m_recompute_path\u001b[0m\u001b[0;34m(\u001b[0m\u001b[0;34m)\u001b[0m\u001b[0;34m\u001b[0m\u001b[0;34m\u001b[0m\u001b[0m\n\u001b[0m\u001b[1;32m   1082\u001b[0m \u001b[0;34m\u001b[0m\u001b[0m\n\u001b[1;32m   1083\u001b[0m     \u001b[0;32mdef\u001b[0m \u001b[0m_recompute_path\u001b[0m\u001b[0;34m(\u001b[0m\u001b[0mself\u001b[0m\u001b[0;34m)\u001b[0m\u001b[0;34m:\u001b[0m\u001b[0;34m\u001b[0m\u001b[0;34m\u001b[0m\u001b[0m\n",
      "\u001b[0;32m~/.conda/envs/my-rdkit-env/lib/python3.6/site-packages/matplotlib/patches.py\u001b[0m in \u001b[0;36m_recompute_path\u001b[0;34m(self)\u001b[0m\n\u001b[1;32m   1091\u001b[0m \u001b[0;34m\u001b[0m\u001b[0m\n\u001b[1;32m   1092\u001b[0m         \u001b[0;31m# Form the outer ring\u001b[0m\u001b[0;34m\u001b[0m\u001b[0;34m\u001b[0m\u001b[0;34m\u001b[0m\u001b[0m\n\u001b[0;32m-> 1093\u001b[0;31m         \u001b[0marc\u001b[0m \u001b[0;34m=\u001b[0m \u001b[0mPath\u001b[0m\u001b[0;34m.\u001b[0m\u001b[0marc\u001b[0m\u001b[0;34m(\u001b[0m\u001b[0mtheta1\u001b[0m\u001b[0;34m,\u001b[0m \u001b[0mtheta2\u001b[0m\u001b[0;34m)\u001b[0m\u001b[0;34m\u001b[0m\u001b[0;34m\u001b[0m\u001b[0m\n\u001b[0m\u001b[1;32m   1094\u001b[0m \u001b[0;34m\u001b[0m\u001b[0m\n\u001b[1;32m   1095\u001b[0m         \u001b[0;32mif\u001b[0m \u001b[0mself\u001b[0m\u001b[0;34m.\u001b[0m\u001b[0mwidth\u001b[0m \u001b[0;32mis\u001b[0m \u001b[0;32mnot\u001b[0m \u001b[0;32mNone\u001b[0m\u001b[0;34m:\u001b[0m\u001b[0;34m\u001b[0m\u001b[0;34m\u001b[0m\u001b[0m\n",
      "\u001b[0;32m~/.conda/envs/my-rdkit-env/lib/python3.6/site-packages/matplotlib/path.py\u001b[0m in \u001b[0;36marc\u001b[0;34m(cls, theta1, theta2, n, is_wedge)\u001b[0m\n\u001b[1;32m    836\u001b[0m         \u001b[0;31m# number of curve segments to make\u001b[0m\u001b[0;34m\u001b[0m\u001b[0;34m\u001b[0m\u001b[0;34m\u001b[0m\u001b[0m\n\u001b[1;32m    837\u001b[0m         \u001b[0;32mif\u001b[0m \u001b[0mn\u001b[0m \u001b[0;32mis\u001b[0m \u001b[0;32mNone\u001b[0m\u001b[0;34m:\u001b[0m\u001b[0;34m\u001b[0m\u001b[0;34m\u001b[0m\u001b[0m\n\u001b[0;32m--> 838\u001b[0;31m             \u001b[0mn\u001b[0m \u001b[0;34m=\u001b[0m \u001b[0mint\u001b[0m\u001b[0;34m(\u001b[0m\u001b[0;36m2\u001b[0m \u001b[0;34m**\u001b[0m \u001b[0mnp\u001b[0m\u001b[0;34m.\u001b[0m\u001b[0mceil\u001b[0m\u001b[0;34m(\u001b[0m\u001b[0;34m(\u001b[0m\u001b[0meta2\u001b[0m \u001b[0;34m-\u001b[0m \u001b[0meta1\u001b[0m\u001b[0;34m)\u001b[0m \u001b[0;34m/\u001b[0m \u001b[0mhalfpi\u001b[0m\u001b[0;34m)\u001b[0m\u001b[0;34m)\u001b[0m\u001b[0;34m\u001b[0m\u001b[0;34m\u001b[0m\u001b[0m\n\u001b[0m\u001b[1;32m    839\u001b[0m         \u001b[0;32mif\u001b[0m \u001b[0mn\u001b[0m \u001b[0;34m<\u001b[0m \u001b[0;36m1\u001b[0m\u001b[0;34m:\u001b[0m\u001b[0;34m\u001b[0m\u001b[0;34m\u001b[0m\u001b[0m\n\u001b[1;32m    840\u001b[0m             \u001b[0;32mraise\u001b[0m \u001b[0mValueError\u001b[0m\u001b[0;34m(\u001b[0m\u001b[0;34m\"n must be >= 1 or None\"\u001b[0m\u001b[0;34m)\u001b[0m\u001b[0;34m\u001b[0m\u001b[0;34m\u001b[0m\u001b[0m\n",
      "\u001b[0;31mValueError\u001b[0m: cannot convert float NaN to integer"
     ]
    },
    {
     "data": {
      "image/png": "[encoded data removed]",
      "text/plain": [
       "<Figure size 432x288 with 1 Axes>"
      ]
     },
     "metadata": {
      "needs_background": "light"
     },
     "output_type": "display_data"
    }
   ],
   "source": [
    "import matplotlib.pyplot as plt\n",
    "%matplotlib inline\n",
    "plt.title('ML model set')\n",
    "plt.pie(np.sort(np.exp(-(energys - energys.max()))))"
   ]
  },
  {
   "cell_type": "code",
   "execution_count": 8,
   "metadata": {},
   "outputs": [
    {
     "data": {
      "text/plain": [
       "([<matplotlib.patches.Wedge at 0x2ac642575240>,\n",
       "  <matplotlib.patches.Wedge at 0x2ac6425756d8>,\n",
       "  <matplotlib.patches.Wedge at 0x2ac642575b70>,\n",
       "  <matplotlib.patches.Wedge at 0x2ac642580048>,\n",
       "  <matplotlib.patches.Wedge at 0x2ac6425804e0>,\n",
       "  <matplotlib.patches.Wedge at 0x2ac642580978>,\n",
       "  <matplotlib.patches.Wedge at 0x2ac642580e10>,\n",
       "  <matplotlib.patches.Wedge at 0x2ac64258d2e8>,\n",
       "  <matplotlib.patches.Wedge at 0x2ac64258d780>,\n",
       "  <matplotlib.patches.Wedge at 0x2ac64258dc18>,\n",
       "  <matplotlib.patches.Wedge at 0x2ac64255db38>,\n",
       "  <matplotlib.patches.Wedge at 0x2ac642498550>,\n",
       "  <matplotlib.patches.Wedge at 0x2ac6424989e8>,\n",
       "  <matplotlib.patches.Wedge at 0x2ac642498e80>,\n",
       "  <matplotlib.patches.Wedge at 0x2ac6424a3358>,\n",
       "  <matplotlib.patches.Wedge at 0x2ac6424a37f0>,\n",
       "  <matplotlib.patches.Wedge at 0x2ac6424a3c88>,\n",
       "  <matplotlib.patches.Wedge at 0x2ac6424af160>,\n",
       "  <matplotlib.patches.Wedge at 0x2ac6424af5f8>,\n",
       "  <matplotlib.patches.Wedge at 0x2ac6424afa90>,\n",
       "  <matplotlib.patches.Wedge at 0x2ac6424aff28>,\n",
       "  <matplotlib.patches.Wedge at 0x2ac6424c1400>,\n",
       "  <matplotlib.patches.Wedge at 0x2ac6424c1898>,\n",
       "  <matplotlib.patches.Wedge at 0x2ac6424c1d30>,\n",
       "  <matplotlib.patches.Wedge at 0x2ac6424cc208>,\n",
       "  <matplotlib.patches.Wedge at 0x2ac6424cc6a0>,\n",
       "  <matplotlib.patches.Wedge at 0x2ac6424ccb38>,\n",
       "  <matplotlib.patches.Wedge at 0x2ac6424ccfd0>,\n",
       "  <matplotlib.patches.Wedge at 0x2ac6424d24a8>,\n",
       "  <matplotlib.patches.Wedge at 0x2ac6424d2940>,\n",
       "  <matplotlib.patches.Wedge at 0x2ac6424d2dd8>,\n",
       "  <matplotlib.patches.Wedge at 0x2ac6424dd2b0>,\n",
       "  <matplotlib.patches.Wedge at 0x2ac6424dd748>,\n",
       "  <matplotlib.patches.Wedge at 0x2ac6424ddbe0>,\n",
       "  <matplotlib.patches.Wedge at 0x2ac6424ee0b8>,\n",
       "  <matplotlib.patches.Wedge at 0x2ac6424ee550>,\n",
       "  <matplotlib.patches.Wedge at 0x2ac6424ee9e8>,\n",
       "  <matplotlib.patches.Wedge at 0x2ac6424eee80>,\n",
       "  <matplotlib.patches.Wedge at 0x2ac642502358>,\n",
       "  <matplotlib.patches.Wedge at 0x2ac6425027f0>,\n",
       "  <matplotlib.patches.Wedge at 0x2ac642502c88>,\n",
       "  <matplotlib.patches.Wedge at 0x2ac6275d7160>,\n",
       "  <matplotlib.patches.Wedge at 0x2ac6275d75f8>,\n",
       "  <matplotlib.patches.Wedge at 0x2ac6275d7a90>,\n",
       "  <matplotlib.patches.Wedge at 0x2ac6275d7f28>,\n",
       "  <matplotlib.patches.Wedge at 0x2ac6275e6400>,\n",
       "  <matplotlib.patches.Wedge at 0x2ac6275e6898>,\n",
       "  <matplotlib.patches.Wedge at 0x2ac6275e6d30>,\n",
       "  <matplotlib.patches.Wedge at 0x2ac6275f1208>,\n",
       "  <matplotlib.patches.Wedge at 0x2ac6275f16a0>,\n",
       "  <matplotlib.patches.Wedge at 0x2ac6275f1b38>,\n",
       "  <matplotlib.patches.Wedge at 0x2ac6275f1fd0>,\n",
       "  <matplotlib.patches.Wedge at 0x2ac6275ff4a8>,\n",
       "  <matplotlib.patches.Wedge at 0x2ac6275ff940>,\n",
       "  <matplotlib.patches.Wedge at 0x2ac6275ffdd8>,\n",
       "  <matplotlib.patches.Wedge at 0x2ac62760a2b0>,\n",
       "  <matplotlib.patches.Wedge at 0x2ac62760a748>,\n",
       "  <matplotlib.patches.Wedge at 0x2ac62760abe0>,\n",
       "  <matplotlib.patches.Wedge at 0x2ac6276180b8>,\n",
       "  <matplotlib.patches.Wedge at 0x2ac627618550>,\n",
       "  <matplotlib.patches.Wedge at 0x2ac6276189e8>,\n",
       "  <matplotlib.patches.Wedge at 0x2ac627618e80>,\n",
       "  <matplotlib.patches.Wedge at 0x2ac627625358>,\n",
       "  <matplotlib.patches.Wedge at 0x2ac6276257f0>,\n",
       "  <matplotlib.patches.Wedge at 0x2ac627625c88>,\n",
       "  <matplotlib.patches.Wedge at 0x2ac627632160>,\n",
       "  <matplotlib.patches.Wedge at 0x2ac6276325f8>,\n",
       "  <matplotlib.patches.Wedge at 0x2ac627632a90>,\n",
       "  <matplotlib.patches.Wedge at 0x2ac627632f28>,\n",
       "  <matplotlib.patches.Wedge at 0x2ac627640400>,\n",
       "  <matplotlib.patches.Wedge at 0x2ac627640898>,\n",
       "  <matplotlib.patches.Wedge at 0x2ac627640d30>,\n",
       "  <matplotlib.patches.Wedge at 0x2ac62764a208>,\n",
       "  <matplotlib.patches.Wedge at 0x2ac62764a6a0>,\n",
       "  <matplotlib.patches.Wedge at 0x2ac62764ab38>,\n",
       "  <matplotlib.patches.Wedge at 0x2ac62764afd0>,\n",
       "  <matplotlib.patches.Wedge at 0x2ac6276594a8>,\n",
       "  <matplotlib.patches.Wedge at 0x2ac627659940>,\n",
       "  <matplotlib.patches.Wedge at 0x2ac627659dd8>,\n",
       "  <matplotlib.patches.Wedge at 0x2ac6276642b0>,\n",
       "  <matplotlib.patches.Wedge at 0x2ac627664748>,\n",
       "  <matplotlib.patches.Wedge at 0x2ac627664be0>,\n",
       "  <matplotlib.patches.Wedge at 0x2ac6276730b8>,\n",
       "  <matplotlib.patches.Wedge at 0x2ac627673550>,\n",
       "  <matplotlib.patches.Wedge at 0x2ac6276739e8>,\n",
       "  <matplotlib.patches.Wedge at 0x2ac627673e80>,\n",
       "  <matplotlib.patches.Wedge at 0x2ac62767f358>,\n",
       "  <matplotlib.patches.Wedge at 0x2ac62767f7f0>,\n",
       "  <matplotlib.patches.Wedge at 0x2ac62767fc88>,\n",
       "  <matplotlib.patches.Wedge at 0x2ac62768d160>,\n",
       "  <matplotlib.patches.Wedge at 0x2ac62768d5f8>,\n",
       "  <matplotlib.patches.Wedge at 0x2ac62768da90>,\n",
       "  <matplotlib.patches.Wedge at 0x2ac62768df28>,\n",
       "  <matplotlib.patches.Wedge at 0x2ac62769a400>,\n",
       "  <matplotlib.patches.Wedge at 0x2ac62769a898>,\n",
       "  <matplotlib.patches.Wedge at 0x2ac62769ad30>,\n",
       "  <matplotlib.patches.Wedge at 0x2ac6276a7208>,\n",
       "  <matplotlib.patches.Wedge at 0x2ac6276a76a0>,\n",
       "  <matplotlib.patches.Wedge at 0x2ac6276a7b38>,\n",
       "  <matplotlib.patches.Wedge at 0x2ac6276a7fd0>,\n",
       "  <matplotlib.patches.Wedge at 0x2ac6276b44a8>,\n",
       "  <matplotlib.patches.Wedge at 0x2ac6276b4940>,\n",
       "  <matplotlib.patches.Wedge at 0x2ac6276b4dd8>,\n",
       "  <matplotlib.patches.Wedge at 0x2ac6276c02b0>,\n",
       "  <matplotlib.patches.Wedge at 0x2ac6276c0748>,\n",
       "  <matplotlib.patches.Wedge at 0x2ac6276c0be0>,\n",
       "  <matplotlib.patches.Wedge at 0x2ac6276ce0b8>,\n",
       "  <matplotlib.patches.Wedge at 0x2ac6276ce550>,\n",
       "  <matplotlib.patches.Wedge at 0x2ac6276ce9e8>,\n",
       "  <matplotlib.patches.Wedge at 0x2ac6276cee80>,\n",
       "  <matplotlib.patches.Wedge at 0x2ac6276d9358>,\n",
       "  <matplotlib.patches.Wedge at 0x2ac6276d97f0>,\n",
       "  <matplotlib.patches.Wedge at 0x2ac6276d9c88>,\n",
       "  <matplotlib.patches.Wedge at 0x2ac6276e5160>,\n",
       "  <matplotlib.patches.Wedge at 0x2ac6276e55f8>,\n",
       "  <matplotlib.patches.Wedge at 0x2ac6276e5a90>,\n",
       "  <matplotlib.patches.Wedge at 0x2ac6276e5f28>,\n",
       "  <matplotlib.patches.Wedge at 0x2ac6276f4400>,\n",
       "  <matplotlib.patches.Wedge at 0x2ac6276f4898>,\n",
       "  <matplotlib.patches.Wedge at 0x2ac6276f4d30>,\n",
       "  <matplotlib.patches.Wedge at 0x2ac627701208>,\n",
       "  <matplotlib.patches.Wedge at 0x2ac6277016a0>,\n",
       "  <matplotlib.patches.Wedge at 0x2ac627701b38>,\n",
       "  <matplotlib.patches.Wedge at 0x2ac627701fd0>,\n",
       "  <matplotlib.patches.Wedge at 0x2ac62770f4a8>,\n",
       "  <matplotlib.patches.Wedge at 0x2ac62770f940>,\n",
       "  <matplotlib.patches.Wedge at 0x2ac62770fdd8>,\n",
       "  <matplotlib.patches.Wedge at 0x2ac62771b2b0>,\n",
       "  <matplotlib.patches.Wedge at 0x2ac62771b748>,\n",
       "  <matplotlib.patches.Wedge at 0x2ac62771bbe0>,\n",
       "  <matplotlib.patches.Wedge at 0x2ac6277290b8>,\n",
       "  <matplotlib.patches.Wedge at 0x2ac627729550>,\n",
       "  <matplotlib.patches.Wedge at 0x2ac6277299e8>,\n",
       "  <matplotlib.patches.Wedge at 0x2ac627729e80>,\n",
       "  <matplotlib.patches.Wedge at 0x2ac627735358>,\n",
       "  <matplotlib.patches.Wedge at 0x2ac6277357f0>,\n",
       "  <matplotlib.patches.Wedge at 0x2ac627735c88>,\n",
       "  <matplotlib.patches.Wedge at 0x2ac627742160>,\n",
       "  <matplotlib.patches.Wedge at 0x2ac6277425f8>,\n",
       "  <matplotlib.patches.Wedge at 0x2ac627742a90>,\n",
       "  <matplotlib.patches.Wedge at 0x2ac627742f28>,\n",
       "  <matplotlib.patches.Wedge at 0x2ac627750400>,\n",
       "  <matplotlib.patches.Wedge at 0x2ac627750898>,\n",
       "  <matplotlib.patches.Wedge at 0x2ac627750d30>,\n",
       "  <matplotlib.patches.Wedge at 0x2ac62775c208>,\n",
       "  <matplotlib.patches.Wedge at 0x2ac62775c6a0>,\n",
       "  <matplotlib.patches.Wedge at 0x2ac62775cb38>,\n",
       "  <matplotlib.patches.Wedge at 0x2ac62775cfd0>,\n",
       "  <matplotlib.patches.Wedge at 0x2ac6277694a8>,\n",
       "  <matplotlib.patches.Wedge at 0x2ac627769940>,\n",
       "  <matplotlib.patches.Wedge at 0x2ac627769dd8>,\n",
       "  <matplotlib.patches.Wedge at 0x2ac6277752b0>,\n",
       "  <matplotlib.patches.Wedge at 0x2ac627775748>,\n",
       "  <matplotlib.patches.Wedge at 0x2ac627775be0>,\n",
       "  <matplotlib.patches.Wedge at 0x2ac6277830b8>,\n",
       "  <matplotlib.patches.Wedge at 0x2ac627783550>,\n",
       "  <matplotlib.patches.Wedge at 0x2ac6277839e8>,\n",
       "  <matplotlib.patches.Wedge at 0x2ac627783e80>,\n",
       "  <matplotlib.patches.Wedge at 0x2ac62778f358>,\n",
       "  <matplotlib.patches.Wedge at 0x2ac62778f7f0>,\n",
       "  <matplotlib.patches.Wedge at 0x2ac62778fc88>,\n",
       "  <matplotlib.patches.Wedge at 0x2ac62779b160>,\n",
       "  <matplotlib.patches.Wedge at 0x2ac62779b5f8>,\n",
       "  <matplotlib.patches.Wedge at 0x2ac62779ba90>,\n",
       "  <matplotlib.patches.Wedge at 0x2ac62779bf28>,\n",
       "  <matplotlib.patches.Wedge at 0x2ac6277ac400>,\n",
       "  <matplotlib.patches.Wedge at 0x2ac6277ac898>,\n",
       "  <matplotlib.patches.Wedge at 0x2ac6277acd30>,\n",
       "  <matplotlib.patches.Wedge at 0x2ac6277b9208>,\n",
       "  <matplotlib.patches.Wedge at 0x2ac6277b96a0>,\n",
       "  <matplotlib.patches.Wedge at 0x2ac6277b9b38>,\n",
       "  <matplotlib.patches.Wedge at 0x2ac6277b9fd0>,\n",
       "  <matplotlib.patches.Wedge at 0x2ac6277c44a8>,\n",
       "  <matplotlib.patches.Wedge at 0x2ac6277c4940>,\n",
       "  <matplotlib.patches.Wedge at 0x2ac6277c4dd8>,\n",
       "  <matplotlib.patches.Wedge at 0x2ac6277d12b0>,\n",
       "  <matplotlib.patches.Wedge at 0x2ac6277d1748>,\n",
       "  <matplotlib.patches.Wedge at 0x2ac6277d1be0>,\n",
       "  <matplotlib.patches.Wedge at 0x2ac6425160b8>,\n",
       "  <matplotlib.patches.Wedge at 0x2ac642516550>,\n",
       "  <matplotlib.patches.Wedge at 0x2ac6425169e8>,\n",
       "  <matplotlib.patches.Wedge at 0x2ac642516e80>,\n",
       "  <matplotlib.patches.Wedge at 0x2ac642523358>,\n",
       "  <matplotlib.patches.Wedge at 0x2ac6425237f0>,\n",
       "  <matplotlib.patches.Wedge at 0x2ac642523c88>,\n",
       "  <matplotlib.patches.Wedge at 0x2ac64252e160>,\n",
       "  <matplotlib.patches.Wedge at 0x2ac64252e5f8>,\n",
       "  <matplotlib.patches.Wedge at 0x2ac64252ea90>,\n",
       "  <matplotlib.patches.Wedge at 0x2ac64252ef28>,\n",
       "  <matplotlib.patches.Wedge at 0x2ac64253d400>,\n",
       "  <matplotlib.patches.Wedge at 0x2ac64253d898>,\n",
       "  <matplotlib.patches.Wedge at 0x2ac64253dd30>,\n",
       "  <matplotlib.patches.Wedge at 0x2ac642549208>,\n",
       "  <matplotlib.patches.Wedge at 0x2ac6425496a0>,\n",
       "  <matplotlib.patches.Wedge at 0x2ac642549b38>,\n",
       "  <matplotlib.patches.Wedge at 0x2ac642549fd0>,\n",
       "  <matplotlib.patches.Wedge at 0x2ac642d9b4a8>,\n",
       "  <matplotlib.patches.Wedge at 0x2ac642d9b940>,\n",
       "  <matplotlib.patches.Wedge at 0x2ac642d9bdd8>,\n",
       "  <matplotlib.patches.Wedge at 0x2ac642da62b0>],\n",
       " [Text(1.1, 2.730563113146859e-13, ''),\n",
       "  Text(1.1, 2.0893457834361553e-09, ''),\n",
       "  Text(1.0999999999999999, 1.1824645602298179e-08, ''),\n",
       "  Text(1.0999999999999994, 3.7092810148445196e-08, ''),\n",
       "  Text(1.0999999999999972, 8.028528213983659e-08, ''),\n",
       "  Text(1.0999999999999914, 1.3858275371129565e-07, ''),\n",
       "  Text(1.0999999999999808, 2.0656553942925003e-07, ''),\n",
       "  Text(1.0999999999999592, 2.9977126473477193e-07, ''),\n",
       "  Text(1.0999999999998917, 4.880458872624331e-07, ''),\n",
       "  Text(1.0999999999996315, 9.005142188936129e-07, ''),\n",
       "  Text(1.099999999999017, 1.4705707073377435e-06, ''),\n",
       "  Text(1.0999999999980226, 2.0857569930293164e-06, ''),\n",
       "  Text(1.0999999999963306, 2.8412538776837175e-06, ''),\n",
       "  Text(1.0999999999931367, 3.885794431628412e-06, ''),\n",
       "  Text(1.0999999999841628, 5.902722846558123e-06, ''),\n",
       "  Text(1.0999999999639742, 8.902623331171481e-06, ''),\n",
       "  Text(1.09999999993261, 1.2176129274967843e-05, ''),\n",
       "  Text(1.0999999998901409, 1.5546391123918592e-05, ''),\n",
       "  Text(1.099999999836493, 1.8966168195938145e-05, ''),\n",
       "  Text(1.0999999997706356, 2.2463346652550945e-05, ''),\n",
       "  Text(1.0999999996923275, 2.6016907761056163e-05, ''),\n",
       "  Text(1.0999999995997898, 2.9672594962500256e-05, ''),\n",
       "  Text(1.0999999994820406, 3.3756642559918813e-05, ''),\n",
       "  Text(1.0999999993265488, 3.8491462924492537e-05, ''),\n",
       "  Text(1.0999999991024128, 4.443750936481933e-05, ''),\n",
       "  Text(1.0999999987945377, 5.149773780209111e-05, ''),\n",
       "  Text(1.0999999983676583, 5.99262236572421e-05, ''),\n",
       "  Text(1.0999999978041513, 6.950444086182901e-05, ''),\n",
       "  Text(1.0999999971069827, 7.97786814086406e-05, ''),\n",
       "  Text(1.099999996216983, 9.122849101881471e-05, ''),\n",
       "  Text(1.09999999511045, 0.00010371600605342045, ''),\n",
       "  Text(1.099999993734287, 0.0001174077019411234, ''),\n",
       "  Text(1.0999999921007586, 0.00013182689975167446, ''),\n",
       "  Text(1.099999990181459, 0.0001469720735586555, ''),\n",
       "  Text(1.0999999879171114, 0.0001630409605183341, ''),\n",
       "  Text(1.0999999850543054, 0.00018132988681554817, ''),\n",
       "  Text(1.099999981430308, 0.00020212204743351746, ''),\n",
       "  Text(1.0999999769538362, 0.0002251700695410289, ''),\n",
       "  Text(1.0999999715675164, 0.0002501029052971091, ''),\n",
       "  Text(1.099999965527517, 0.0002753896539412328, ''),\n",
       "  Text(1.0999999586805274, 0.00030150097554143383, ''),\n",
       "  Text(1.0999999505918907, 0.0003296935521429182, ''),\n",
       "  Text(1.099999940807248, 0.0003608656967655169, ''),\n",
       "  Text(1.0999999294700595, 0.00039391098485989055, ''),\n",
       "  Text(1.09999991664037, 0.000428241963627256, ''),\n",
       "  Text(1.0999999018096158, 0.00046477826492783857, ''),\n",
       "  Text(1.099999884913512, 0.0005031801473730339, ''),\n",
       "  Text(1.0999998662176367, 0.0005425137616165334, ''),\n",
       "  Text(1.0999998457079134, 0.0005826169985450322, ''),\n",
       "  Text(1.0999998232928543, 0.000623502758454572, ''),\n",
       "  Text(1.0999997984630439, 0.0006658688033205469, ''),\n",
       "  Text(1.0999997687138536, 0.0007133228362146671, ''),\n",
       "  Text(1.0999997311306873, 0.000769098443681998, ''),\n",
       "  Text(1.099999685655556, 0.0008315994696921172, ''),\n",
       "  Text(1.0999996343342264, 0.0008969194883629841, ''),\n",
       "  Text(1.0999995784662555, 0.0009630026273660914, ''),\n",
       "  Text(1.0999995157249187, 0.0010321845497533219, ''),\n",
       "  Text(1.0999994450721207, 0.0011049167510132113, ''),\n",
       "  Text(1.0999993668017116, 0.0011802693902323424, ''),\n",
       "  Text(1.0999992757321664, 0.0012622950169281727, ''),\n",
       "  Text(1.0999991623442995, 0.0013575131084617102, ''),\n",
       "  Text(1.0999990264447699, 0.0014634960056212583, ''),\n",
       "  Text(1.0999988764985407, 0.0015721647331901117, ''),\n",
       "  Text(1.0999987151252228, 0.0016812860728835995, ''),\n",
       "  Text(1.0999985399646792, 0.0017922264293898902, ''),\n",
       "  Text(1.0999983323075337, 0.0019154426759440198, ''),\n",
       "  Text(1.0999980804377716, 0.002055001999499322, ''),\n",
       "  Text(1.0999977896947049, 0.0022051455199726252, ''),\n",
       "  Text(1.099997445999014, 0.0023703998916458986, ''),\n",
       "  Text(1.099997024025006, 0.0025587372140061754, ''),\n",
       "  Text(1.0999965351881058, 0.002760900969383525, ''),\n",
       "  Text(1.0999959953026144, 0.002968218019436305, ''),\n",
       "  Text(1.099995388118268, 0.0031852972453185026, ''),\n",
       "  Text(1.0999947106894197, 0.0034112248972900153, ''),\n",
       "  Text(1.0999939758203088, 0.003640488844937795, ''),\n",
       "  Text(1.0999931610596874, 0.0038788686387623826, ''),\n",
       "  Text(1.0999922458322282, 0.00413026742124008, ''),\n",
       "  Text(1.0999912432373462, 0.004389168618016069, ''),\n",
       "  Text(1.0999901108210637, 0.004664343025997608, ''),\n",
       "  Text(1.0999887885230373, 0.004966399462479894, ''),\n",
       "  Text(1.0999873003164609, 0.0052857490012454215, ''),\n",
       "  Text(1.0999856989813646, 0.005609103001286678, ''),\n",
       "  Text(1.0999839434504997, 0.005943412411074046, ''),\n",
       "  Text(1.099982016102467, 0.006290012015292361, ''),\n",
       "  Text(1.0999799278853941, 0.006645167360057817, ''),\n",
       "  Text(1.0999775640650677, 0.0070255642819600315, ''),\n",
       "  Text(1.099974872656716, 0.007435020096900213, ''),\n",
       "  Text(1.099971900351673, 0.007862470141706298, ''),\n",
       "  Text(1.099968556719698, 0.008317104543325871, ''),\n",
       "  Text(1.0999648110293354, 0.008798550857884026, ''),\n",
       "  Text(1.0999607366553608, 0.009293966677175471, ''),\n",
       "  Text(1.099956142670599, 0.009822637182383508, ''),\n",
       "  Text(1.0999508841974874, 0.010394823383097464, ''),\n",
       "  Text(1.0999451493955705, 0.010984913343129149, ''),\n",
       "  Text(1.0999390573106456, 0.011578868794859717, ''),\n",
       "  Text(1.0999324801292913, 0.012187664116897534, ''),\n",
       "  Text(1.0999254213909737, 0.012808878869324598, ''),\n",
       "  Text(1.0999178789130037, 0.013440968994797062, ''),\n",
       "  Text(1.0999097433287905, 0.01409100884941689, ''),\n",
       "  Text(1.099901030218401, 0.01475546422517136, ''),\n",
       "  Text(1.0998917018756964, 0.01543515937670588, ''),\n",
       "  Text(1.0998818208100365, 0.01612390311304062, ''),\n",
       "  Text(1.0998714493996848, 0.016816503662673933, ''),\n",
       "  Text(1.0998604693543554, 0.017519930125917165, ''),\n",
       "  Text(1.0998487512178587, 0.018240735854588224, ''),\n",
       "  Text(1.099836224910104, 0.018981000381736293, ''),\n",
       "  Text(1.0998229730442157, 0.01973392926364337, ''),\n",
       "  Text(1.0998089825396005, 0.020498827410577795, ''),\n",
       "  Text(1.0997929405177278, 0.021342164542747035, ''),\n",
       "  Text(1.0997746851330832, 0.022263017325327223, ''),\n",
       "  Text(1.0997549712220576, 0.02321644400789676, ''),\n",
       "  Text(1.0997328600171012, 0.024241216937421414, ''),\n",
       "  Text(1.099706497623994, 0.025409035471034347, ''),\n",
       "  Text(1.0996758424447477, 0.026702837741234435, ''),\n",
       "  Text(1.0996426065539227, 0.028038149926400913, ''),\n",
       "  Text(1.0996068883533083, 0.02940563017442527, ''),\n",
       "  Text(1.099568327190525, 0.030813857912154696, ''),\n",
       "  Text(1.0995267435163143, 0.032263606314376435, ''),\n",
       "  Text(1.0994817801397456, 0.03376114839184803, ''),\n",
       "  Text(1.0994310356499624, 0.03537510211506993, ''),\n",
       "  Text(1.0993733425709182, 0.037124838645395036, ''),\n",
       "  Text(1.0993105666462144, 0.03893941524958036, ''),\n",
       "  Text(1.099241482234912, 0.040843160186181136, ''),\n",
       "  Text(1.0991599530589413, 0.0429813633039481, ''),\n",
       "  Text(1.099066383987857, 0.04531096542623083, ''),\n",
       "  Text(1.0989639157570916, 0.047731665211267114, ''),\n",
       "  Text(1.0988521864403382, 0.050238156368326146, ''),\n",
       "  Text(1.0987305275323749, 0.05283207234653423, ''),\n",
       "  Text(1.098595912451388, 0.05556096782006622, ''),\n",
       "  Text(1.098450421899901, 0.058366691082586034, ''),\n",
       "  Text(1.0982883740292677, 0.06134042282335233, ''),\n",
       "  Text(1.0981020140946942, 0.0645907628161814, ''),\n",
       "  Text(1.097897316160172, 0.0679814913656048, ''),\n",
       "  Text(1.0976754888349707, 0.0714739197953217, ''),\n",
       "  Text(1.0974326453139311, 0.07511051190923687, ''),\n",
       "  Text(1.0971698937808367, 0.0788557174905367, ''),\n",
       "  Text(1.0968887365174638, 0.08267466178414062, ''),\n",
       "  Text(1.096590059270337, 0.08654618367946056, ''),\n",
       "  Text(1.0962747256397332, 0.0904528933950027, ''),\n",
       "  Text(1.0959004262763643, 0.09488021757607389, ''),\n",
       "  Text(1.095460410702543, 0.09983230230449605, ''),\n",
       "  Text(1.0949953340316245, 0.10481039284808959, ''),\n",
       "  Text(1.0945014819058516, 0.10984764952376015, ''),\n",
       "  Text(1.093972272605297, 0.1149985511682733, ''),\n",
       "  Text(1.0933919075722889, 0.12039159628242953, ''),\n",
       "  Text(1.0927513649055007, 0.12607321086244108, ''),\n",
       "  Text(1.0920500625251817, 0.13201007892864472, ''),\n",
       "  Text(1.0912235348935573, 0.13867659101091812, ''),\n",
       "  Text(1.0902684635186104, 0.14599547067210214, ''),\n",
       "  Text(1.0891743266625669, 0.15394572465367334, ''),\n",
       "  Text(1.0879252610583867, 0.1625380766191148, ''),\n",
       "  Text(1.0865548664329479, 0.17145997267840374, ''),\n",
       "  Text(1.0849906283531063, 0.1810948270545895, ''),\n",
       "  Text(1.0831978165746934, 0.19152673486439667, ''),\n",
       "  Text(1.081222442448392, 0.20238090311571763, ''),\n",
       "  Text(1.0790757940717386, 0.21353086579800845, ''),\n",
       "  Text(1.0767500638500107, 0.22496510840349943, ''),\n",
       "  Text(1.0742547276883505, 0.2365941251156255, ''),\n",
       "  Text(1.071560105356224, 0.24851346162523727, ''),\n",
       "  Text(1.0686737686121002, 0.2606460747458352, ''),\n",
       "  Text(1.0653676195195376, 0.27384637167447395, ''),\n",
       "  Text(1.0616044725133569, 0.28809016633623163, ''),\n",
       "  Text(1.057619446474737, 0.30239230552127305, ''),\n",
       "  Text(1.053391437204248, 0.31680669188760646, ''),\n",
       "  Text(1.0487870396158536, 0.331731435854087, ''),\n",
       "  Text(1.0437279005366245, 0.34732127726560386, ''),\n",
       "  Text(1.0382760789266345, 0.3632943488808119, ''),\n",
       "  Text(1.03239068833079, 0.3796965454779351, ''),\n",
       "  Text(1.0257430300484944, 0.39730496637587276, ''),\n",
       "  Text(1.0177605303463741, 0.4173290103372489, ''),\n",
       "  Text(1.0077266369155853, 0.4410068312972081, ''),\n",
       "  Text(0.9959007952231328, 0.46709913944893094, ''),\n",
       "  Text(0.9831087254135051, 0.4934543889923702, ''),\n",
       "  Text(0.9683087413321689, 0.5218986314024123, ''),\n",
       "  Text(0.9508243385630641, 0.5531121741528671, ''),\n",
       "  Text(0.9312520276706798, 0.5854653371116412, ''),\n",
       "  Text(0.9069712797046232, 0.6224171413055383, ''),\n",
       "  Text(0.8762817195096844, 0.6649288293141988, ''),\n",
       "  Text(0.8417543861300631, 0.7081310284338632, ''),\n",
       "  Text(0.8042561112773022, 0.7504479378831764, ''),\n",
       "  Text(0.7633478786147279, 0.7920227371827119, ''),\n",
       "  Text(0.7195821763510368, 0.8319864731339719, ''),\n",
       "  Text(0.6709176883241172, 0.8717049130834487, ''),\n",
       "  Text(0.6134387593000178, 0.9130678444608895, ''),\n",
       "  Text(0.5383923919935178, 0.9592359627555143, ''),\n",
       "  Text(0.4402705888935656, 1.0080485149809573, ''),\n",
       "  Text(0.3266205212373247, 1.0503899443095686, ''),\n",
       "  Text(0.19827839605986955, 1.0819822908236185, ''),\n",
       "  Text(0.05445639282468765, 1.0986512191230315, ''),\n",
       "  Text(-0.09930482565125189, 1.0955083530500234, ''),\n",
       "  Text(-0.26973737769261075, 1.066415372674041, ''),\n",
       "  Text(-0.4535893085912883, 1.0021261093952583, ''),\n",
       "  Text(-0.65171814043724, 0.8861509270011662, ''),\n",
       "  Text(-0.8503857685469958, 0.6977421046867787, ''),\n",
       "  Text(-1.019774762057716, 0.41238263138756104, ''),\n",
       "  Text(-1.0998002579154564, 0.020961695759064272, ''),\n",
       "  Text(-1.0249544003184359, -0.3993350438765369, ''),\n",
       "  Text(-0.7046083636856962, -0.8447053059050629, ''),\n",
       "  Text(-0.0411535511167118, -1.0992299055386385, ''),\n",
       "  Text(0.889247955084797, -0.6474859646181583, '')])"
      ]
     },
     "execution_count": 8,
     "metadata": {},
     "output_type": "execute_result"
    },
    {
     "data": {
      "image/png": "[encoded data removed]",
      "text/plain": [
       "<Figure size 432x288 with 1 Axes>"
      ]
     },
     "metadata": {},
     "output_type": "display_data"
    }
   ],
   "source": [
    "mol = Chem.MolFromMolFile('258-trihexyl-decane.mol')\n",
    "standard = 14.88278294332602\n",
    "mol = Chem.AddHs(mol)\n",
    "res = AllChem.EmbedMultipleConfs(mol, numConfs=200, numThreads=-1)\n",
    "res = AllChem.MMFFOptimizeMoleculeConfs(mol, numThreads=-1)\n",
    "\n",
    "energys = confgen.get_conformer_energies(mol)\n",
    "plt.title('RDKit set')\n",
    "plt.pie(np.sort(np.exp(-(energys - energys.max()))))"
   ]
  }
 ],
 "metadata": {
  "kernelspec": {
   "display_name": "Python 3",
   "language": "python",
   "name": "python3"
  },
  "language_info": {
   "codemirror_mode": {
    "name": "ipython",
    "version": 3
   },
   "file_extension": ".py",
   "mimetype": "text/x-python",
   "name": "python",
   "nbconvert_exporter": "python",
   "pygments_lexer": "ipython3",
   "version": "3.6.9"
  }
 },
 "nbformat": 4,
 "nbformat_minor": 2
}

{
 "metadata": {
  "language_info": {
   "codemirror_mode": {
    "name": "ipython",
    "version": 3
   },
   "file_extension": ".py",
   "mimetype": "text/x-python",
   "name": "python",
   "nbconvert_exporter": "python",
   "pygments_lexer": "ipython3",
   "version": "3.6.10-final"
  },
  "orig_nbformat": 2,
  "kernelspec": {
   "name": "python361064bitmyrdkitenvcondaa1756d708a364733a9411d335bafa5e9",
   "display_name": "Python 3.6.10 64-bit ('my-rdkit-env': conda)"
  }
 },
 "nbformat": 4,
 "nbformat_minor": 2,
 "cells": [
  {
   "cell_type": "code",
   "execution_count": 23,
   "metadata": {
    "tags": []
   },
   "outputs": [
    {
     "output_type": "display_data",
     "data": {
      "text/plain": "",
      "application/vnd.jupyter.widget-view+json": {
       "version_major": 2,
       "version_minor": 0,
       "model_id": "0a8ee870770d4528b4fb9bfb5a98ac0b"
      }
     },
     "metadata": {}
    },
    {
     "output_type": "stream",
     "name": "stdout",
     "text": "CC(=O)c1cccc2cc3c(C(C)=O)c4c(C(C)=O)c5cc6cc7c(C(C)=O)c8c(C(C)=O)c9cc%10cc%11c(C(C)=O)c%12c(C(C)=O)c%13cc%14cc%15c(C(C)=O)c%16c(C(C)=O)cccc%16cc%15c(C(C)=O)c%14c(C(C)=O)c%13cc%12cc%11c(C(C)=O)c%10c(C(C)=O)c9cc8cc7c(C(C)=O)c6c(C(C)=O)c5cc4cc3c(C(C)=O)c12\n"
    },
    {
     "output_type": "display_data",
     "data": {
      "text/plain": "NGLWidget()",
      "application/vnd.jupyter.widget-view+json": {
       "version_major": 2,
       "version_minor": 0,
       "model_id": "ac472ef46b494125a27d226c301e4d93"
      }
     },
     "metadata": {}
    }
   ],
   "source": [
    "from pathlib import Path\n",
    "from rdkit import Chem\n",
    "import nglview\n",
    "\n",
    "file = Path.cwd() / 'xor_gate' / 'XORgateNo8.mol'\n",
    "mol = Chem.MolFromMolFile(str(file))\n",
    "# mol = Chem.MolFromSmiles('CC(=O)c1cccc2cccc(C(C)=O)c12')\n",
    "# mol = Chem.MolFromSmiles('c')\n",
    "print(Chem.MolToSmiles(mol))\n",
    "Chem.Draw.MolToImage(mol)\n",
    "nglview.show_rdkit(mol)"
   ]
  },
  {
   "cell_type": "code",
   "execution_count": null,
   "metadata": {},
   "outputs": [],
   "source": []
  }
 ]
}
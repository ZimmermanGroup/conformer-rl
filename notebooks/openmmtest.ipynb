{
 "cells": [
  {
   "cell_type": "code",
   "execution_count": null,
   "metadata": {},
   "outputs": [],
   "source": [
    "import openforcefield as off\n",
    "from rdkit import Chem\n",
    "from rdkit.Chem import AllChem\n",
    "from simtk import openmm, unit\n",
    "from simtk.openmm import app\n",
    "from openforcefield.topology import Topology\n",
    "from openforcefield.topology import Molecule\n",
    "from openforcefield.typing.engines.smirnoff import ForceField\n",
    "from rdkit.Chem.Draw import IPythonConsole\n",
    "\n",
    "from simtk.openmm.openmm import Platform\n"
   ]
  },
  {
   "cell_type": "code",
   "execution_count": null,
   "metadata": {},
   "outputs": [],
   "source": [
    "import openmmtools\n",
    "pts = openmmtools.utils.get_available_platforms()\n",
    "\n",
    "for plat in pts:\n",
    "    print(plat.getName())\n",
    "    \n",
    "openmmtools.utils.get_fastest_platform().getName()"
   ]
  },
  {
   "cell_type": "code",
   "execution_count": null,
   "metadata": {},
   "outputs": [],
   "source": [
    "ff = ForceField('test_forcefields/smirnoff99Frosst.offxml')"
   ]
  },
  {
   "cell_type": "code",
   "execution_count": null,
   "metadata": {},
   "outputs": [],
   "source": [
    "%time rdmol = Chem.MolFromSmiles('CCCCCCCCCCCCCCCCCCCCCCCCCCCCCCCCCCCCCCCCCCCC')\n",
    "%time rdmol = Chem.AddHs(rdmol)\n",
    "%time AllChem.EmbedMolecule(rdmol)\n",
    "# Chem.rdmolops.AssignAtomChiralTagsFromStructure(rdmol)\n",
    "%time ofmol = Molecule.from_rdkit(rdmol)\n",
    "\n",
    "# ofmol.generate_conformers(n_conformers=10)\n",
    "%time topology = ofmol.to_topology()\n",
    "\n",
    "%time org_system = ff.create_openmm_system(topology)\n",
    "# pos = ofmol.conformers[0]\n",
    "\n"
   ]
  },
  {
   "cell_type": "code",
   "execution_count": null,
   "metadata": {},
   "outputs": [],
   "source": [
    "pos = ofmol.conformers[0]"
   ]
  },
  {
   "cell_type": "code",
   "execution_count": null,
   "metadata": {},
   "outputs": [],
   "source": [
    "def get_energy(system, positions, platform):\n",
    "    integrator = openmm.VerletIntegrator(1.0 * unit.femtoseconds)\n",
    "    context = openmm.Context(system, integrator, platform)\n",
    "    context.setPositions(positions)\n",
    "    state = context.getState(getEnergy=True)\n",
    "    energy = state.getPotentialEnergy().in_units_of(unit.kilocalories_per_mole)\n",
    "    return energy\n",
    "\n",
    "rdmol = Chem.MolFromSmiles('CCCCCCCCCCCCCCCC')\n",
    "rdmol = Chem.AddHs(rdmol)\n",
    "AllChem.EmbedMolecule(rdmol)\n",
    "# Chem.rdmolops.AssignAtomChiralTagsFromStructure(rdmol)\n",
    "ofmol = Molecule.from_rdkit(rdmol)\n",
    "\n",
    "# ofmol.generate_conformers(n_conformers=10)\n",
    "topology = ofmol.to_topology()\n",
    "\n",
    "org_system = ff.create_openmm_system(topology)\n",
    "pos = ofmol.conformers[0]"
   ]
  },
  {
   "cell_type": "code",
   "execution_count": null,
   "metadata": {},
   "outputs": [],
   "source": [
    "for plat in openmmtools.utils.get_available_platforms():\n",
    "    print(plat.getName())\n",
    "    %timeit get_energy(org_system, pos, plat)"
   ]
  },
  {
   "cell_type": "code",
   "execution_count": null,
   "metadata": {},
   "outputs": [],
   "source": [
    "from simtk.openmm.openmm import Platform\n",
    "\n",
    "new_system = ff.create_openmm_system(topology)\n",
    "# new_energy = get_energy(new_system, pos)\n",
    "from sys import stdout\n",
    "def minimizeOpenMM(Topology, System, Positions, platform):\n",
    "    \n",
    "    platform = Platform.getPlatformByName('CPU')\n",
    "#     properties = {'DeviceIndex': '0', 'Precision': 'double'}\n",
    "    integrator = openmm.LangevinIntegrator(\n",
    "                                        300.0 * unit.kelvin,\n",
    "                                        1.0 / unit.picosecond,\n",
    "                                        2.0 * unit.femtosecond)\n",
    "                                        #.002 * unit.picoseconds)\n",
    "    simulation = app.Simulation(Topology, System, integrator, platform)\n",
    "    simulation.context.setPositions(Positions)\n",
    "    simulation.minimizeEnergy(tolerance=5.0E-9, maxIterations=2000)\n",
    "#     state =  simulation.context.getState(getPositions=True, getEnergy=True)\n",
    "#     positions =state.getPositions(asNumpy=True)\n",
    "#     energy = state.getPotentialEnergy().in_units_of(unit.kilocalories_per_mole)\n",
    "     \n",
    "#     simulation.reporters.append(app.StateDataReporter(stdout, 1000, step=True, potentialEnergy=True, temperature=True))\n",
    "#     simulation.step(30000)\n",
    "#     print(energy)\n",
    "#     positions = positions / unit.angstroms\n",
    "#     coordlist = list()\n",
    "#     for atom_coords in positions:\n",
    "#         coordlist += [i for i in atom_coords]\n",
    "#     return coordlist, positions\n",
    "    return None, None\n",
    "\n",
    "for plat in openmmtools.utils.get_available_platforms():\n",
    "    print(plat.getName())\n",
    "    ofmol.generate_conformers(n_conformers=1)\n",
    "    topology = ofmol.to_topology()\n",
    "\n",
    "    org_system = ff.create_openmm_system(topology)\n",
    "    pos = ofmol.conformers[0]\n",
    "    %time _, _=minimizeOpenMM(topology, org_system, pos, plat)"
   ]
  },
  {
   "cell_type": "code",
   "execution_count": null,
   "metadata": {},
   "outputs": [],
   "source": []
  },
  {
   "cell_type": "code",
   "execution_count": null,
   "metadata": {},
   "outputs": [],
   "source": [
    "from rdkit import Chem\n",
    "from rdkit.Chem import AllChem\n",
    "from rdkit.Chem import Draw\n",
    "from rdkit.Chem.Draw import IPythonConsole\n",
    "import py3Dmol\n",
    "from simtk.openmm import openmm\n",
    "\n",
    "from openforcefield.topology import Molecule\n",
    "\n",
    "# Define the keyword arguments to feed to ForceField\n",
    "from simtk import unit\n",
    "from simtk.openmm import app"
   ]
  },
  {
   "cell_type": "code",
   "execution_count": 42,
   "metadata": {},
   "outputs": [
    {
     "name": "stdout",
     "output_type": "stream",
     "text": [
      "CPU times: user 1.34 s, sys: 0 ns, total: 1.34 s\n",
      "Wall time: 686 ms\n",
      "CPU times: user 27.7 ms, sys: 0 ns, total: 27.7 ms\n",
      "Wall time: 27.7 ms\n"
     ]
    },
    {
     "data": {
      "text/plain": [
       "array([472.45003705, 485.17011093])"
      ]
     },
     "execution_count": 42,
     "metadata": {},
     "output_type": "execute_result"
    }
   ],
   "source": [
    "from rdkit import Chem\n",
    "from rdkit.Chem.rdmolfiles import SDWriter\n",
    "from utils import *\n",
    "# molOrig = Chem.MolFromSmiles(\"COc1cc(C2Oc3c(OC)cc(C=CCO)cc3C2CO)ccc1[O]\")\n",
    "molOrig = Chem.MolFromSmiles('COc1cc(C(O)C(CO)Oc2c(OC)cc(C(O)C(CO)Oc3ccc(C4Oc5c(OC)cc(C6Oc7c(OC)cc(C8Oc9c(OC)cc(C=CCO)cc9C8CO)cc7C6CO)cc5C4CO)cc3OC)cc2-c2cc(C3OCC4C(c5ccc(O)c(OC)c5)OCC34)cc(OC)c2O)ccc1O')\n",
    "molOrig = Chem.AddHs(molOrig)\n",
    "res = Chem.AllChem.EmbedMultipleConfs(molOrig, numConfs=2, numThreads=-1)\n",
    "\n",
    "%time Chem.AllChem.MMFFOptimizeMoleculeConfs(molOrig, numThreads=-1)\n",
    "\n",
    "confgen = ConformerGeneratorCustom(max_conformers=1,\n",
    "                             rmsd_threshold=None,\n",
    "                             force_field='mmff',\n",
    "                             pool_multiplier=1)\n",
    "\n",
    "%time confgen.get_conformer_energies(molOrig)"
   ]
  },
  {
   "cell_type": "code",
   "execution_count": 43,
   "metadata": {},
   "outputs": [],
   "source": [
    "import numpy as np\n",
    "AllChem.ComputeGasteigerCharges(molOrig)\n",
    "\n",
    "pcs = []\n",
    "\n",
    "for i in range(molOrig.GetNumAtoms()):\n",
    "    pcs.append(molOrig.GetAtomWithIdx(i).GetDoubleProp('_GasteigerCharge'))\n",
    "    \n",
    "charges = np.array(pcs)"
   ]
  },
  {
   "cell_type": "code",
   "execution_count": 44,
   "metadata": {},
   "outputs": [
    {
     "name": "stderr",
     "output_type": "stream",
     "text": [
      "WARNING:openforcefield.utils.toolkits:Warning (not error because allow_undefined_stereo=True): \n"
     ]
    },
    {
     "data": {
      "text/plain": [
       "Quantity(value=array([ 0.07771734, -0.49286616,  0.1603491 , -0.0101442 , -0.01182129,\n",
       "        0.11823621, -0.38442422,  0.15176771,  0.08302896, -0.39240245,\n",
       "       -0.48038315,  0.16934092,  0.16128531, -0.49283231,  0.07771814,\n",
       "       -0.01008842, -0.01119942,  0.11825714, -0.38442384,  0.15173394,\n",
       "        0.08302835, -0.39240246, -0.48104669,  0.16139582, -0.01563976,\n",
       "       -0.05134959, -0.00303046,  0.13324475, -0.48079387,  0.16536303,\n",
       "        0.16098846, -0.49284448,  0.07771784, -0.00912805, -0.00274096,\n",
       "        0.13325486, -0.48079368,  0.16536303,  0.16098846, -0.49284448,\n",
       "        0.07771784, -0.00912805, -0.00274095,  0.13325505, -0.48079331,\n",
       "        0.16538187,  0.16117101, -0.49283474,  0.0777181 , -0.00881508,\n",
       "       -0.02164807, -0.0565704 , -0.05867551,  0.0615174 , -0.39229545,\n",
       "       -0.04726519,  0.00808551,  0.05220159,  0.05398895, -0.39557623,\n",
       "       -0.04758306,  0.00790345,  0.05219233,  0.05398876, -0.39557623,\n",
       "       -0.04758306,  0.00790345,  0.05219215,  0.05398876, -0.39557623,\n",
       "       -0.0091503 ,  0.16066691, -0.49285643,  0.07771755, -0.04426253,\n",
       "        0.03190532,  0.0316412 , -0.04439502, -0.01435584,  0.0880966 ,\n",
       "       -0.37271229,  0.05351941,  0.02062457,  0.08807506, -0.01497749,\n",
       "       -0.05246863, -0.01596088,  0.15714821, -0.50425459,  0.16034696,\n",
       "       -0.49286618,  0.07771734, -0.01026824, -0.37271267,  0.05351941,\n",
       "        0.02062494, -0.01022133,  0.16101372, -0.49284118,  0.07771794,\n",
       "        0.16532501, -0.50382469, -0.0523445 , -0.01595877,  0.15714824,\n",
       "       -0.50425459,  0.0668648 ,  0.0668648 ,  0.0668648 ,  0.06673393,\n",
       "        0.06931049,  0.21113728,  0.07995601,  0.06042496,  0.06042496,\n",
       "        0.21023183,  0.06686481,  0.06686481,  0.06686481,  0.06673484,\n",
       "        0.06931085,  0.21113728,  0.07995541,  0.06042495,  0.06042495,\n",
       "        0.21023183,  0.06634981,  0.06284344,  0.08033245,  0.06686481,\n",
       "        0.06686481,  0.06686481,  0.06677527,  0.08033263,  0.06686481,\n",
       "        0.06686481,  0.06686481,  0.06677527,  0.08033263,  0.06686481,\n",
       "        0.06686481,  0.06686481,  0.06697729,  0.06265316,  0.0600229 ,\n",
       "        0.060907  ,  0.060907  ,  0.21049881,  0.06335158,  0.04198652,\n",
       "        0.05717361,  0.05717361,  0.21007052,  0.06315132,  0.04198634,\n",
       "        0.05717361,  0.05717361,  0.21007052,  0.06315132,  0.04198634,\n",
       "        0.05717361,  0.05717361,  0.21007052,  0.0667749 ,  0.06686481,\n",
       "        0.06686481,  0.06686481,  0.06346369,  0.06346145,  0.06592487,\n",
       "        0.05711031,  0.05711031,  0.0361707 ,  0.0659245 ,  0.06280088,\n",
       "        0.06634047,  0.29329374,  0.0668648 ,  0.0668648 ,  0.0668648 ,\n",
       "        0.0667318 ,  0.05711031,  0.05711031,  0.03617071,  0.06673257,\n",
       "        0.06686481,  0.06686481,  0.06686481,  0.29331564,  0.06280298,\n",
       "        0.06634049,  0.29329374]), unit=elementary charge)"
      ]
     },
     "execution_count": 44,
     "metadata": {},
     "output_type": "execute_result"
    }
   ],
   "source": [
    "# AllChem.EmbedMolecule(molOrig)\n",
    "# Chem.rdmolops.AssignAtomChiralTagsFromStructure(molOrig)\n",
    "from openforcefield.topology import Molecule\n",
    "ofmol = Molecule.from_rdkit(molOrig, allow_undefined_stereo=True)\n",
    "from simtk import unit\n",
    "\n",
    "# ofmol = Molecule.from_smiles('COc1cc(C2Oc3c(OC)cc(C=CCO)cc3C2CO)ccc1[O]', allow_undefined_stereo=True)\n",
    "# ofmol = Molecule.from_smiles(ofmol.to_smiles(), allow_undefined_stereo=True)\n",
    "\n",
    "#generate_unique_atom_names(ofmol)\n",
    "# %time ofmol.generate_conformers(n_conformers=1)\n",
    "\n",
    "pos = ofmol.conformers[0]\n",
    "pos1 = ofmol.conformers[1]\n",
    "ofmol.name = 'molecule'\n",
    "\n",
    "ofmol.partial_charges += charges * unit.elementary_charge\n",
    "\n",
    "ofmol.partial_charges"
   ]
  },
  {
   "cell_type": "code",
   "execution_count": 45,
   "metadata": {},
   "outputs": [
    {
     "name": "stderr",
     "output_type": "stream",
     "text": [
      "WARNING:openforcefield.utils.toolkits:Warning (not error because allow_undefined_stereo=True): \n"
     ]
    },
    {
     "name": "stdout",
     "output_type": "stream",
     "text": [
      "Checking against [H][O][C]1=[C]([H])[C]([H])=[C]([C]([H])([O][H])[C]([H])([O][C]2=[C]([O][C]([H])([H])[H])[C]([H])=[C]([C]([H])([O][H])[C]([H])([O][C]3=[C]([H])[C]([H])=[C]([C]4([H])[O][C]5=[C]([O][C]([H])([H])[H])[C]([H])=[C]([C]6([H])[O][C]7=[C]([O][C]([H])([H])[H])[C]([H])=[C]([C]8([H])[O][C]9=[C]([O][C]([H])([H])[H])[C]([H])=[C]([C]([H])=[C]([H])[C]([H])([H])[O][H])[C]([H])=[C]9[C]8([H])[C]([H])([H])[O][H])[C]([H])=[C]7[C]6([H])[C]([H])([H])[O][H])[C]([H])=[C]5[C]4([H])[C]([H])([H])[O][H])[C]([H])=[C]3[O][C]([H])([H])[H])[C]([H])([H])[O][H])[C]([H])=[C]2[C]2=[C]([H])[C]([C]3([H])[O][C]([H])([H])[C]4([H])[C]([H])([C]5=[C]([H])[C]([H])=[C]([O][H])[C]([O][C]([H])([H])[H])=[C]5[H])[O][C]([H])([H])[C]34[H])=[C]([H])[C]([O][C]([H])([H])[H])=[C]2[O][H])[C]([H])([H])[O][H])[C]([H])=[C]1[O][C]([H])([H])[H]\n",
      "CPU times: user 262 ms, sys: 0 ns, total: 262 ms\n",
      "Wall time: 262 ms\n"
     ]
    }
   ],
   "source": [
    "from simtk.openmm import app\n",
    "from simtk import unit\n",
    "forcefield_kwargs = { 'constraints' : app.HBonds, 'rigidWater' : True, 'removeCMMotion' : False, 'hydrogenMass' : 4*unit.amu }\n",
    "# Initialize a SystemGenerator using GAFF\n",
    "from openmmforcefields.generators import SystemGenerator\n",
    "system_generator = SystemGenerator(small_molecule_forcefield='gaff-2.11', molecules=[ofmol], forcefield_kwargs=forcefield_kwargs, cache='db.json')\n",
    "# Create an OpenMM System from an OpenMM Topology object\n",
    "%time system = system_generator.create_system(ofmol.to_topology().to_openmm())\n",
    "# takes nearly 2 minutes wall time on first go, have to ask why"
   ]
  },
  {
   "cell_type": "code",
   "execution_count": 46,
   "metadata": {},
   "outputs": [
    {
     "name": "stdout",
     "output_type": "stream",
     "text": [
      "Reference\n",
      "CPU times: user 5.84 ms, sys: 0 ns, total: 5.84 ms\n",
      "Wall time: 4.86 ms\n",
      "340.2725773267236 kcal/mol\n",
      "CPU\n",
      "CPU times: user 11.7 ms, sys: 0 ns, total: 11.7 ms\n",
      "Wall time: 8.2 ms\n",
      "340.27257006872236 kcal/mol\n",
      "CUDA\n",
      "CPU times: user 163 ms, sys: 35.8 ms, total: 199 ms\n",
      "Wall time: 245 ms\n",
      "340.2725423955097 kcal/mol\n",
      "OpenCL\n",
      "CPU times: user 45 ms, sys: 130 ms, total: 175 ms\n",
      "Wall time: 262 ms\n",
      "340.27257157101457 kcal/mol\n"
     ]
    }
   ],
   "source": [
    "def get_energy(system, positions, platform):\n",
    "    integrator = openmm.VerletIntegrator(1.0 * unit.femtoseconds)\n",
    "    context = openmm.Context(system, integrator, platform)\n",
    "    context.setPositions(positions)\n",
    "    state = context.getState(getEnergy=True)\n",
    "    energy = state.getPotentialEnergy().in_units_of(unit.kilocalories_per_mole)\n",
    "    return energy\n",
    "\n",
    "\n",
    "import openmmtools\n",
    "pts = openmmtools.utils.get_available_platforms()\n",
    "\n",
    "for plat in pts:\n",
    "    print(plat.getName())\n",
    "    %time energy = get_energy(system, pos, plat)\n",
    "    print(energy)"
   ]
  },
  {
   "cell_type": "code",
   "execution_count": 39,
   "metadata": {},
   "outputs": [
    {
     "name": "stdout",
     "output_type": "stream",
     "text": [
      "360.0125431330664 kcal/mol 347.5445953427491 kcal/mol\n"
     ]
    }
   ],
   "source": [
    "energy = get_energy(system, pos, plat)\n",
    "energy1 = get_energy(system, pos1, plat)\n",
    "\n",
    "print(energy, energy1)"
   ]
  },
  {
   "cell_type": "code",
   "execution_count": 57,
   "metadata": {},
   "outputs": [
    {
     "name": "stdout",
     "output_type": "stream",
     "text": [
      "Reference\n",
      "CPU times: user 4.71 s, sys: 11 s, total: 15.7 s\n",
      "Wall time: 9.18 s\n",
      "CPU\n",
      "CPU times: user 4.46 s, sys: 10.9 s, total: 15.4 s\n",
      "Wall time: 8.98 s\n",
      "CUDA\n",
      "CPU times: user 4.02 s, sys: 9.44 s, total: 13.5 s\n",
      "Wall time: 7.86 s\n",
      "OpenCL\n",
      "CPU times: user 3.9 s, sys: 9.78 s, total: 13.7 s\n",
      "Wall time: 8.01 s\n"
     ]
    }
   ],
   "source": [
    "from simtk.openmm.openmm import Platform\n",
    "\n",
    "\n",
    "def minimizeOpenMM(Topology, System, Positions, platform):\n",
    "    \n",
    "    platform = Platform.getPlatformByName('CPU')\n",
    "#     properties = {'DeviceIndex': '0', 'Precision': 'double'}\n",
    "    integrator = openmm.LangevinIntegrator(\n",
    "                                        500.0 * unit.kelvin,\n",
    "                                        1.0 / unit.picosecond,\n",
    "                                        2.0 * unit.femtosecond)\n",
    "                                        #.002 * unit.picoseconds)\n",
    "    simulation = app.Simulation(Topology, System, integrator, platform)\n",
    "    simulation.context.setPositions(Positions)\n",
    "    simulation.minimizeEnergy(tolerance=5.0E-1, maxIterations=2000)\n",
    "#     state =  simulation.context.getState(getPositions=True, getEnergy=True)\n",
    "#     positions =state.getPositions(asNumpy=True)\n",
    "#     energy = state.getPotentialEnergy().in_units_of(unit.kilocalories_per_mole)\n",
    "     \n",
    "#     simulation.reporters.append(app.StateDataReporter(stdout, 1000, step=True, potentialEnergy=True, temperature=True))\n",
    "#     simulation.step(30000)\n",
    "#     print(energy)\n",
    "#     positions = positions / unit.angstroms\n",
    "#     coordlist = list()\n",
    "#     for atom_coords in positions:\n",
    "#         coordlist += [i for i in atom_coords]\n",
    "#     return coordlist, positions\n",
    "    return None, None\n",
    "\n",
    "for plat in openmmtools.utils.get_available_platforms():\n",
    "    print(plat.getName())\n",
    "    %time _, _=minimizeOpenMM(ofmol.to_topology(), system, pos, plat)"
   ]
  },
  {
   "cell_type": "code",
   "execution_count": null,
   "metadata": {},
   "outputs": [],
   "source": []
  }
 ],
 "metadata": {
  "kernelspec": {
   "display_name": "Python 3",
   "language": "python",
   "name": "python3"
  },
  "language_info": {
   "codemirror_mode": {
    "name": "ipython",
    "version": 3
   },
   "file_extension": ".py",
   "mimetype": "text/x-python",
   "name": "python",
   "nbconvert_exporter": "python",
   "pygments_lexer": "ipython3",
   "version": "3.6.9"
  }
 },
 "nbformat": 4,
 "nbformat_minor": 2
}

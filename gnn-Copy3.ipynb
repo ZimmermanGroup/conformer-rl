{
 "cells": [
  {
   "cell_type": "code",
   "execution_count": 1,
   "metadata": {},
   "outputs": [
    {
     "name": "stderr",
     "output_type": "stream",
     "text": [
      "/home/tgog/.conda/envs/my-rdkit-env/lib/python3.6/site-packages/sklearn/externals/joblib/__init__.py:15: FutureWarning: sklearn.externals.joblib is deprecated in 0.21 and will be removed in 0.23. Please import this functionality directly from joblib, which can be installed with: pip install joblib. If this warning is raised when loading pickled models, you may need to re-serialize those models with scikit-learn 0.21+.\n",
      "  warnings.warn(msg, category=FutureWarning)\n"
     ]
    },
    {
     "data": {
      "application/vnd.jupyter.widget-view+json": {
       "model_id": "1ef377fc6d07402481c7150eb2e812fd",
       "version_major": 2,
       "version_minor": 0
      },
      "text/plain": [
       "_ColormakerRegistry()"
      ]
     },
     "metadata": {},
     "output_type": "display_data"
    },
    {
     "name": "stdout",
     "output_type": "stream",
     "text": [
      "1\n",
      "3\n",
      "5\n",
      "7\n",
      "2\n",
      "4\n",
      "6\n",
      "8\n",
      "9\n",
      "11\n",
      "13\n",
      "15\n",
      "17\n",
      "glug glug\n",
      "reset called\n",
      "[114.08265145585747, -178.7363167928033, 141.01550927828234, -100.23428198469057, -93.63737669046847, -108.8698378770724, -178.86380885464132, 168.89719756022157]\n",
      "Data(edge_attr=[168, 9], edge_index=[2, 168], pos=[46, 3], x=[46, 3])\n"
     ]
    },
    {
     "data": {
      "text/plain": [
       "<torch._C.Generator at 0x2b5a3df509b0>"
      ]
     },
     "execution_count": 1,
     "metadata": {},
     "output_type": "execute_result"
    }
   ],
   "source": [
    "import numpy as np\n",
    "from rdkit import Chem\n",
    "from rdkit.Chem import AllChem\n",
    "import multiprocessing\n",
    "import logging\n",
    "import torch\n",
    "import pandas as pd\n",
    "from torch_geometric.data import Data, Batch\n",
    "from torch_geometric.transforms import Distance\n",
    "import torch_geometric.nn as gnn\n",
    "\n",
    "from alkanes import *\n",
    "\n",
    "import random\n",
    "\n",
    "import torch\n",
    "import torch.nn as nn\n",
    "import torch.nn.functional as F\n",
    "\n",
    "from deep_rl import *\n",
    "\n",
    "from deep_rl.component.envs import DummyVecEnv, make_env\n",
    "\n",
    "import envs\n",
    "\n",
    "random.seed(0)\n",
    "np.random.seed(0)\n",
    "torch.manual_seed(0)    \n",
    "    "
   ]
  },
  {
   "cell_type": "code",
   "execution_count": 2,
   "metadata": {},
   "outputs": [],
   "source": [
    "class A2CEvalAgent(A2CAgent):\n",
    "    def eval_step(self, state):\n",
    "        prediction = self.network(self.config.state_normalizer(state))\n",
    "        return prediction['a']\n",
    "\n",
    "class A2CRecurrentEvalAgent(A2CRecurrentAgent):\n",
    "    def eval_step(self, state, done, rstates):\n",
    "        with torch.no_grad():\n",
    "            if done:\n",
    "                prediction, rstates = self.network(self.config.state_normalizer(state))\n",
    "            else:\n",
    "                prediction, rstates = self.network(self.config.state_normalizer(state), rstates)\n",
    "\n",
    "            out = to_np(prediction['a'])\n",
    "            return out, rstates\n",
    "    \n",
    "    def eval_episode(self):\n",
    "        env = self.config.eval_env\n",
    "        state = env.reset()\n",
    "        done = True\n",
    "        rstates = None\n",
    "        while True:\n",
    "            action, rstates = self.eval_step(state, done, rstates)\n",
    "            \n",
    "            done = False\n",
    "            state, reward, done, info = env.step(action)\n",
    "            ret = info[0]['episodic_return']\n",
    "            if ret is not None:\n",
    "                break\n",
    "        return ret    \n",
    "    \n",
    "class AdaTask:\n",
    "    def __init__(self,\n",
    "                 name,\n",
    "                 num_envs=1,\n",
    "                 single_process=True,\n",
    "                 log_dir=None,\n",
    "                 episode_life=True,\n",
    "                 seed=np.random.randint(int(1e5))):\n",
    "        \n",
    "        print (\"seed is \", seed)\n",
    "        if log_dir is not None:\n",
    "            mkdir(log_dir)\n",
    "        envs = [make_env(name, seed, i, episode_life) for i in range(num_envs)]\n",
    "        if single_process:\n",
    "            Wrapper = DummyVecEnv\n",
    "        else:\n",
    "            Wrapper = SubprocVecEnv\n",
    "        self.env = Wrapper(envs)\n",
    "        self.name = name\n",
    "\n",
    "    def reset(self):\n",
    "        return self.env.reset()\n",
    "\n",
    "    def step(self, actions):\n",
    "        return self.env.step(actions)\n",
    "    \n",
    "class DummyNormalizer(BaseNormalizer):\n",
    "    def __init__(self, coef=1.0):\n",
    "        BaseNormalizer.__init__(self)\n",
    "\n",
    "    def __call__(self, x):\n",
    "        return x"
   ]
  },
  {
   "cell_type": "code",
   "execution_count": 3,
   "metadata": {},
   "outputs": [],
   "source": [
    "#message passing\n",
    "from torch.autograd import Variable\n",
    "from torch import nn\n",
    "\n",
    "class ActorNet(torch.nn.Module):\n",
    "    def __init__(self, action_dim, dim):\n",
    "        super(ActorNet, self).__init__()\n",
    "        num_features = 3\n",
    "        self.lin0 = torch.nn.Linear(num_features, dim)\n",
    "        func_ag = nn.Sequential(nn.Linear(7, dim), nn.ReLU(), nn.Linear(dim, dim * dim))\n",
    "        self.conv = gnn.NNConv(dim, dim, func_ag, aggr='mean')\n",
    "        self.gru = nn.GRU(dim, dim)\n",
    "\n",
    "        self.set2set = gnn.Set2Set(dim, processing_steps=6)\n",
    "        self.lin1 = torch.nn.Linear(5 * dim, dim)\n",
    "        self.lin2 = torch.nn.Linear(dim, action_dim)\n",
    "\n",
    "        self.memory = nn.LSTM(2*dim, dim)    \n",
    "        \n",
    "        self.action_dim = action_dim\n",
    "        self.dim = dim\n",
    "        \n",
    "\n",
    "    def forward(self, obs, states=None):\n",
    "        obs = obs[0]\n",
    "        data, nonring = obs\n",
    "        data.to(torch.device(0))\n",
    "        nonring = torch.LongTensor(nonring).to(torch.device(0))\n",
    "        \n",
    "        if states:\n",
    "            hx, cx = states\n",
    "        else:\n",
    "            hx = Variable(torch.zeros(1, 1, self.dim)).cuda()\n",
    "            cx = Variable(torch.zeros(1, 1, self.dim)).cuda()\n",
    "    \n",
    "        out = F.relu(self.lin0(data.x.cuda()))\n",
    "        h = out.unsqueeze(0)\n",
    "\n",
    "        for i in range(6):\n",
    "            m = F.relu(self.conv(out, data.edge_index, data.edge_attr))\n",
    "            out, h = self.gru(m.unsqueeze(0), h)\n",
    "            out = out.squeeze(0)\n",
    "\n",
    "        pool = self.set2set(out, data.batch)\n",
    "        lstm_out, (hx, cx) = self.memory(pool.view(1,1,-1), (hx, cx))        \n",
    "        \n",
    "        out = torch.index_select(out, dim=0, index=nonring.view(-1))\n",
    "        out = out.view(4*out.shape[1],-1)\n",
    "        out = out.permute(1, 0)\n",
    "        out = torch.cat([out, torch.repeat_interleave(lstm_out, out.shape[0]).view(out.shape[0],-1)], dim=1)\n",
    "#       \n",
    "        out = F.relu(self.lin1(out))\n",
    "        out = self.lin2(out)\n",
    "        \n",
    "        return out, (hx, cx)       \n",
    "        \n",
    "class CriticNet(torch.nn.Module):\n",
    "    def __init__(self, action_dim, dim):\n",
    "        super(CriticNet, self).__init__()\n",
    "        num_features = 3\n",
    "        self.lin0 = torch.nn.Linear(num_features, dim)\n",
    "        func_ag = nn.Sequential(nn.Linear(7, dim), nn.ReLU(), nn.Linear(dim, dim * dim))\n",
    "        self.conv = gnn.NNConv(dim, dim, func_ag, aggr='mean')\n",
    "        self.gru = nn.GRU(dim, dim)\n",
    "\n",
    "        self.set2set = gnn.Set2Set(dim, processing_steps=6)\n",
    "        self.lin1 = torch.nn.Linear(dim, dim)\n",
    "        self.lin3 = torch.nn.Linear(dim, 1)\n",
    "        \n",
    "        self.action_dim = action_dim\n",
    "        self.dim = dim\n",
    "        \n",
    "        self.memory = nn.LSTM(2*dim, dim)    \n",
    "\n",
    "    def forward(self, obs, states=None):\n",
    "        obs = obs[0]\n",
    "        data, nonring = obs\n",
    "        data.to(torch.device(0))\n",
    "        \n",
    "        if states:\n",
    "            hx, cx = states\n",
    "        else:\n",
    "            hx = Variable(torch.zeros(1, 1, self.dim)).cuda()\n",
    "            cx = Variable(torch.zeros(1, 1, self.dim)).cuda()\n",
    "    \n",
    "        out = F.relu(self.lin0(data.x.cuda()))\n",
    "        h = out.unsqueeze(0)\n",
    "\n",
    "        for i in range(6):\n",
    "            m = F.relu(self.conv(out, data.edge_index, data.edge_attr))\n",
    "            out, h = self.gru(m.unsqueeze(0), h)\n",
    "            out = out.squeeze(0)\n",
    "\n",
    "        pool = self.set2set(out, data.batch)\n",
    "        lstm_out, (hx, cx) = self.memory(pool.view(1,1,-1), (hx, cx))        \n",
    "        \n",
    "        out = F.relu(self.lin1(lstm_out.view(1,-1)))\n",
    "        v = self.lin3(out)\n",
    "        \n",
    "        return v, (hx, cx)\n",
    "        \n",
    "        \n",
    "\n",
    "class RTGN(torch.nn.Module):\n",
    "    def __init__(self, action_dim, dim):\n",
    "        super(RTGN, self).__init__()\n",
    "        num_features = 3\n",
    "        self.action_dim = action_dim\n",
    "        self.dim = dim\n",
    "        \n",
    "        self.actor = ActorNet(action_dim, dim)\n",
    "        self.critic = CriticNet(action_dim, dim)\n",
    "        \n",
    "    def forward(self, obs, states=None):\n",
    "        \n",
    "        if states:\n",
    "            hp, cp, hv, cv = states\n",
    "\n",
    "            policy_states = (hp, cp)\n",
    "            value_states = (hv, cv)\n",
    "        else:\n",
    "            policy_states = None\n",
    "            value_states = None\n",
    "    \n",
    "        logits, (hp, cp) = self.actor(obs, policy_states)\n",
    "        v, (hv, cv) = self.critic(obs, value_states)\n",
    "        \n",
    "        dist = torch.distributions.Categorical(logits=logits)\n",
    "        action = dist.sample().cuda()\n",
    "        log_prob = dist.log_prob(action).unsqueeze(0).cuda()\n",
    "        entropy = dist.entropy().unsqueeze(0).cuda()\n",
    "\n",
    "        prediction = {\n",
    "            'a': action,\n",
    "            'log_pi_a': log_prob,\n",
    "            'ent': entropy,\n",
    "            'v': v,\n",
    "        }\n",
    "        \n",
    "        return prediction, (hp, cp, hv, cv)"
   ]
  },
  {
   "cell_type": "code",
   "execution_count": 4,
   "metadata": {},
   "outputs": [
    {
     "ename": "RuntimeError",
     "evalue": "CUDA error: all CUDA-capable devices are busy or unavailable",
     "output_type": "error",
     "traceback": [
      "\u001b[0;31m---------------------------------------------------------------------------\u001b[0m",
      "\u001b[0;31mRuntimeError\u001b[0m                              Traceback (most recent call last)",
      "\u001b[0;32m<ipython-input-4-6348a825f0d9>\u001b[0m in \u001b[0;36m<module>\u001b[0;34m\u001b[0m\n\u001b[1;32m      1\u001b[0m \u001b[0mmodel\u001b[0m \u001b[0;34m=\u001b[0m \u001b[0mRTGN\u001b[0m\u001b[0;34m(\u001b[0m\u001b[0;36m6\u001b[0m\u001b[0;34m,\u001b[0m \u001b[0;36m128\u001b[0m\u001b[0;34m)\u001b[0m\u001b[0;34m\u001b[0m\u001b[0;34m\u001b[0m\u001b[0m\n\u001b[0;32m----> 2\u001b[0;31m \u001b[0mmodel\u001b[0m\u001b[0;34m.\u001b[0m\u001b[0mto\u001b[0m\u001b[0;34m(\u001b[0m\u001b[0mtorch\u001b[0m\u001b[0;34m.\u001b[0m\u001b[0mdevice\u001b[0m\u001b[0;34m(\u001b[0m\u001b[0;34m'cuda'\u001b[0m\u001b[0;34m)\u001b[0m\u001b[0;34m)\u001b[0m\u001b[0;34m\u001b[0m\u001b[0;34m\u001b[0m\u001b[0m\n\u001b[0m",
      "\u001b[0;32m~/.conda/envs/my-rdkit-env/lib/python3.6/site-packages/torch/nn/modules/module.py\u001b[0m in \u001b[0;36mto\u001b[0;34m(self, *args, **kwargs)\u001b[0m\n\u001b[1;32m    423\u001b[0m             \u001b[0;32mreturn\u001b[0m \u001b[0mt\u001b[0m\u001b[0;34m.\u001b[0m\u001b[0mto\u001b[0m\u001b[0;34m(\u001b[0m\u001b[0mdevice\u001b[0m\u001b[0;34m,\u001b[0m \u001b[0mdtype\u001b[0m \u001b[0;32mif\u001b[0m \u001b[0mt\u001b[0m\u001b[0;34m.\u001b[0m\u001b[0mis_floating_point\u001b[0m\u001b[0;34m(\u001b[0m\u001b[0;34m)\u001b[0m \u001b[0;32melse\u001b[0m \u001b[0;32mNone\u001b[0m\u001b[0;34m,\u001b[0m \u001b[0mnon_blocking\u001b[0m\u001b[0;34m)\u001b[0m\u001b[0;34m\u001b[0m\u001b[0;34m\u001b[0m\u001b[0m\n\u001b[1;32m    424\u001b[0m \u001b[0;34m\u001b[0m\u001b[0m\n\u001b[0;32m--> 425\u001b[0;31m         \u001b[0;32mreturn\u001b[0m \u001b[0mself\u001b[0m\u001b[0;34m.\u001b[0m\u001b[0m_apply\u001b[0m\u001b[0;34m(\u001b[0m\u001b[0mconvert\u001b[0m\u001b[0;34m)\u001b[0m\u001b[0;34m\u001b[0m\u001b[0;34m\u001b[0m\u001b[0m\n\u001b[0m\u001b[1;32m    426\u001b[0m \u001b[0;34m\u001b[0m\u001b[0m\n\u001b[1;32m    427\u001b[0m     \u001b[0;32mdef\u001b[0m \u001b[0mregister_backward_hook\u001b[0m\u001b[0;34m(\u001b[0m\u001b[0mself\u001b[0m\u001b[0;34m,\u001b[0m \u001b[0mhook\u001b[0m\u001b[0;34m)\u001b[0m\u001b[0;34m:\u001b[0m\u001b[0;34m\u001b[0m\u001b[0;34m\u001b[0m\u001b[0m\n",
      "\u001b[0;32m~/.conda/envs/my-rdkit-env/lib/python3.6/site-packages/torch/nn/modules/module.py\u001b[0m in \u001b[0;36m_apply\u001b[0;34m(self, fn)\u001b[0m\n\u001b[1;32m    199\u001b[0m     \u001b[0;32mdef\u001b[0m \u001b[0m_apply\u001b[0m\u001b[0;34m(\u001b[0m\u001b[0mself\u001b[0m\u001b[0;34m,\u001b[0m \u001b[0mfn\u001b[0m\u001b[0;34m)\u001b[0m\u001b[0;34m:\u001b[0m\u001b[0;34m\u001b[0m\u001b[0;34m\u001b[0m\u001b[0m\n\u001b[1;32m    200\u001b[0m         \u001b[0;32mfor\u001b[0m \u001b[0mmodule\u001b[0m \u001b[0;32min\u001b[0m \u001b[0mself\u001b[0m\u001b[0;34m.\u001b[0m\u001b[0mchildren\u001b[0m\u001b[0;34m(\u001b[0m\u001b[0;34m)\u001b[0m\u001b[0;34m:\u001b[0m\u001b[0;34m\u001b[0m\u001b[0;34m\u001b[0m\u001b[0m\n\u001b[0;32m--> 201\u001b[0;31m             \u001b[0mmodule\u001b[0m\u001b[0;34m.\u001b[0m\u001b[0m_apply\u001b[0m\u001b[0;34m(\u001b[0m\u001b[0mfn\u001b[0m\u001b[0;34m)\u001b[0m\u001b[0;34m\u001b[0m\u001b[0;34m\u001b[0m\u001b[0m\n\u001b[0m\u001b[1;32m    202\u001b[0m \u001b[0;34m\u001b[0m\u001b[0m\n\u001b[1;32m    203\u001b[0m         \u001b[0;32mdef\u001b[0m \u001b[0mcompute_should_use_set_data\u001b[0m\u001b[0;34m(\u001b[0m\u001b[0mtensor\u001b[0m\u001b[0;34m,\u001b[0m \u001b[0mtensor_applied\u001b[0m\u001b[0;34m)\u001b[0m\u001b[0;34m:\u001b[0m\u001b[0;34m\u001b[0m\u001b[0;34m\u001b[0m\u001b[0m\n",
      "\u001b[0;32m~/.conda/envs/my-rdkit-env/lib/python3.6/site-packages/torch/nn/modules/module.py\u001b[0m in \u001b[0;36m_apply\u001b[0;34m(self, fn)\u001b[0m\n\u001b[1;32m    199\u001b[0m     \u001b[0;32mdef\u001b[0m \u001b[0m_apply\u001b[0m\u001b[0;34m(\u001b[0m\u001b[0mself\u001b[0m\u001b[0;34m,\u001b[0m \u001b[0mfn\u001b[0m\u001b[0;34m)\u001b[0m\u001b[0;34m:\u001b[0m\u001b[0;34m\u001b[0m\u001b[0;34m\u001b[0m\u001b[0m\n\u001b[1;32m    200\u001b[0m         \u001b[0;32mfor\u001b[0m \u001b[0mmodule\u001b[0m \u001b[0;32min\u001b[0m \u001b[0mself\u001b[0m\u001b[0;34m.\u001b[0m\u001b[0mchildren\u001b[0m\u001b[0;34m(\u001b[0m\u001b[0;34m)\u001b[0m\u001b[0;34m:\u001b[0m\u001b[0;34m\u001b[0m\u001b[0;34m\u001b[0m\u001b[0m\n\u001b[0;32m--> 201\u001b[0;31m             \u001b[0mmodule\u001b[0m\u001b[0;34m.\u001b[0m\u001b[0m_apply\u001b[0m\u001b[0;34m(\u001b[0m\u001b[0mfn\u001b[0m\u001b[0;34m)\u001b[0m\u001b[0;34m\u001b[0m\u001b[0;34m\u001b[0m\u001b[0m\n\u001b[0m\u001b[1;32m    202\u001b[0m \u001b[0;34m\u001b[0m\u001b[0m\n\u001b[1;32m    203\u001b[0m         \u001b[0;32mdef\u001b[0m \u001b[0mcompute_should_use_set_data\u001b[0m\u001b[0;34m(\u001b[0m\u001b[0mtensor\u001b[0m\u001b[0;34m,\u001b[0m \u001b[0mtensor_applied\u001b[0m\u001b[0;34m)\u001b[0m\u001b[0;34m:\u001b[0m\u001b[0;34m\u001b[0m\u001b[0;34m\u001b[0m\u001b[0m\n",
      "\u001b[0;32m~/.conda/envs/my-rdkit-env/lib/python3.6/site-packages/torch/nn/modules/module.py\u001b[0m in \u001b[0;36m_apply\u001b[0;34m(self, fn)\u001b[0m\n\u001b[1;32m    221\u001b[0m                 \u001b[0;31m# `with torch.no_grad():`\u001b[0m\u001b[0;34m\u001b[0m\u001b[0;34m\u001b[0m\u001b[0;34m\u001b[0m\u001b[0m\n\u001b[1;32m    222\u001b[0m                 \u001b[0;32mwith\u001b[0m \u001b[0mtorch\u001b[0m\u001b[0;34m.\u001b[0m\u001b[0mno_grad\u001b[0m\u001b[0;34m(\u001b[0m\u001b[0;34m)\u001b[0m\u001b[0;34m:\u001b[0m\u001b[0;34m\u001b[0m\u001b[0;34m\u001b[0m\u001b[0m\n\u001b[0;32m--> 223\u001b[0;31m                     \u001b[0mparam_applied\u001b[0m \u001b[0;34m=\u001b[0m \u001b[0mfn\u001b[0m\u001b[0;34m(\u001b[0m\u001b[0mparam\u001b[0m\u001b[0;34m)\u001b[0m\u001b[0;34m\u001b[0m\u001b[0;34m\u001b[0m\u001b[0m\n\u001b[0m\u001b[1;32m    224\u001b[0m                 \u001b[0mshould_use_set_data\u001b[0m \u001b[0;34m=\u001b[0m \u001b[0mcompute_should_use_set_data\u001b[0m\u001b[0;34m(\u001b[0m\u001b[0mparam\u001b[0m\u001b[0;34m,\u001b[0m \u001b[0mparam_applied\u001b[0m\u001b[0;34m)\u001b[0m\u001b[0;34m\u001b[0m\u001b[0;34m\u001b[0m\u001b[0m\n\u001b[1;32m    225\u001b[0m                 \u001b[0;32mif\u001b[0m \u001b[0mshould_use_set_data\u001b[0m\u001b[0;34m:\u001b[0m\u001b[0;34m\u001b[0m\u001b[0;34m\u001b[0m\u001b[0m\n",
      "\u001b[0;32m~/.conda/envs/my-rdkit-env/lib/python3.6/site-packages/torch/nn/modules/module.py\u001b[0m in \u001b[0;36mconvert\u001b[0;34m(t)\u001b[0m\n\u001b[1;32m    421\u001b[0m \u001b[0;34m\u001b[0m\u001b[0m\n\u001b[1;32m    422\u001b[0m         \u001b[0;32mdef\u001b[0m \u001b[0mconvert\u001b[0m\u001b[0;34m(\u001b[0m\u001b[0mt\u001b[0m\u001b[0;34m)\u001b[0m\u001b[0;34m:\u001b[0m\u001b[0;34m\u001b[0m\u001b[0;34m\u001b[0m\u001b[0m\n\u001b[0;32m--> 423\u001b[0;31m             \u001b[0;32mreturn\u001b[0m \u001b[0mt\u001b[0m\u001b[0;34m.\u001b[0m\u001b[0mto\u001b[0m\u001b[0;34m(\u001b[0m\u001b[0mdevice\u001b[0m\u001b[0;34m,\u001b[0m \u001b[0mdtype\u001b[0m \u001b[0;32mif\u001b[0m \u001b[0mt\u001b[0m\u001b[0;34m.\u001b[0m\u001b[0mis_floating_point\u001b[0m\u001b[0;34m(\u001b[0m\u001b[0;34m)\u001b[0m \u001b[0;32melse\u001b[0m \u001b[0;32mNone\u001b[0m\u001b[0;34m,\u001b[0m \u001b[0mnon_blocking\u001b[0m\u001b[0;34m)\u001b[0m\u001b[0;34m\u001b[0m\u001b[0;34m\u001b[0m\u001b[0m\n\u001b[0m\u001b[1;32m    424\u001b[0m \u001b[0;34m\u001b[0m\u001b[0m\n\u001b[1;32m    425\u001b[0m         \u001b[0;32mreturn\u001b[0m \u001b[0mself\u001b[0m\u001b[0;34m.\u001b[0m\u001b[0m_apply\u001b[0m\u001b[0;34m(\u001b[0m\u001b[0mconvert\u001b[0m\u001b[0;34m)\u001b[0m\u001b[0;34m\u001b[0m\u001b[0;34m\u001b[0m\u001b[0m\n",
      "\u001b[0;31mRuntimeError\u001b[0m: CUDA error: all CUDA-capable devices are busy or unavailable"
     ]
    }
   ],
   "source": [
    "model = RTGN(6, 128)\n",
    "model.to(torch.device('cuda'))"
   ]
  },
  {
   "cell_type": "code",
   "execution_count": null,
   "metadata": {},
   "outputs": [],
   "source": [
    "def a2c_feature(**kwargs):\n",
    "    generate_tag(kwargs)\n",
    "    kwargs.setdefault('log_level', 0)\n",
    "    config = Config()\n",
    "    config.merge(kwargs)\n",
    "\n",
    "    config.num_workers = 1\n",
    "    config.task_fn = lambda: AdaTask('ThreeSet-v0', seed=random.randint(0,7e4))\n",
    "    config.optimizer_fn = lambda params: torch.optim.RMSprop(params, lr=7e-4, alpha=0.99, eps=1e-5) #learning_rate #alpha #epsilon\n",
    "    config.network = model\n",
    "    config.discount = 0.9999 # gamma\n",
    "    config.use_gae = False\n",
    "    config.gae_tau = 0.95\n",
    "    config.value_loss_weight = 0.25 # vf_coef\n",
    "    config.entropy_weight = 0.0001 #ent_coef\n",
    "    config.rollout_length = 5 # n_steps\n",
    "    config.gradient_clip = 0.5 #max_grad_norm\n",
    "    config.max_steps = 5000000\n",
    "    config.save_interval = 10000\n",
    "    config.eval_interval = 2000\n",
    "    config.eval_episodes = 2\n",
    "    config.eval_env = AdaTask('Diff-v0', seed=random.randint(0,7e4))\n",
    "    config.state_normalizer = DummyNormalizer()\n",
    "    \n",
    "    agent = A2CRecurrentEvalAgent(config)\n",
    "    return agent"
   ]
  },
  {
   "cell_type": "code",
   "execution_count": null,
   "metadata": {
    "scrolled": true
   },
   "outputs": [],
   "source": [
    "mkdir('log')\n",
    "mkdir('tf_log')\n",
    "set_one_thread()\n",
    "select_device(0)\n",
    "tag='three_set_eval_first_GL'\n",
    "agent = a2c_feature(tag=tag)\n"
   ]
  },
  {
   "cell_type": "code",
   "execution_count": null,
   "metadata": {
    "scrolled": true
   },
   "outputs": [],
   "source": [
    "run_steps(agent)\n"
   ]
  },
  {
   "cell_type": "code",
   "execution_count": null,
   "metadata": {},
   "outputs": [],
   "source": [
    "import glob\n",
    "glob.glob('data/*diff*')"
   ]
  },
  {
   "cell_type": "code",
   "execution_count": null,
   "metadata": {},
   "outputs": [],
   "source": [
    "from importlib import reload\n",
    "reload(graphenvironments)\n"
   ]
  },
  {
   "cell_type": "code",
   "execution_count": null,
   "metadata": {},
   "outputs": [],
   "source": [
    "m = Chem.MolFromMolFile('lignin_guaiacyl.mol')\n",
    "m = Chem.AddHs(m)\n",
    "AllChem.EmbedMultipleConfs(m, numConfs=1, numThreads=0)\n",
    "res = AllChem.MMFFOptimizeMoleculeConfs(m, numThreads=0)\n",
    "\n",
    "mol = m\n",
    "\n",
    "nonring, ring = TorsionFingerprints.CalculateTorsionLists(mol)"
   ]
  },
  {
   "cell_type": "code",
   "execution_count": null,
   "metadata": {},
   "outputs": [],
   "source": [
    "model = RTGN(6, 64)\n",
    "model.load_state_dict(torch.load('data/A2CRecurrentAgent-gnn_new_model_basic_carbon-120000.model'))\n",
    "model.to(torch.device('cuda'))"
   ]
  },
  {
   "cell_type": "code",
   "execution_count": null,
   "metadata": {},
   "outputs": [],
   "source": [
    "debug = Chem.MolFromMolFile('debug.mol')\n",
    "TorsionFingerprints.CalculateTorsionLists(debug)"
   ]
  },
  {
   "cell_type": "code",
   "execution_count": null,
   "metadata": {},
   "outputs": [],
   "source": [
    "Chem.rdMolTransforms.SetDihedralDeg(debug.GetConformer(id=0), 8 , 4 , 3 , 2, 120)\n"
   ]
  },
  {
   "cell_type": "code",
   "execution_count": null,
   "metadata": {},
   "outputs": [],
   "source": [
    "import py3Dmol\n",
    "def drawit(m, p, confId=-1):\n",
    "    mb = Chem.MolToMolBlock(m, confId=confId)\n",
    "    p.removeAllModels()\n",
    "    p.addModel(mb, \"sdf\")\n",
    "    p.setStyle({\"stick\":{}})\n",
    "    p.setBackgroundColor(\"0xeeeeee\")\n",
    "    p.zoomTo()\n",
    "    return p.show()\n",
    "p = py3Dmol.view(width=800,height=800)\n",
    "drawit(debug, p)"
   ]
  },
  {
   "cell_type": "code",
   "execution_count": null,
   "metadata": {},
   "outputs": [],
   "source": [
    "env = graphenvironments.UnholySet()\n"
   ]
  },
  {
   "cell_type": "code",
   "execution_count": null,
   "metadata": {},
   "outputs": [],
   "source": [
    "env._get_obs()"
   ]
  },
  {
   "cell_type": "code",
   "execution_count": null,
   "metadata": {},
   "outputs": [],
   "source": [
    "p = py3Dmol.view(width=800,height=800)\n",
    "drawit(env.mol, p)"
   ]
  },
  {
   "cell_type": "code",
   "execution_count": null,
   "metadata": {},
   "outputs": [],
   "source": [
    "env.step([2, 3, 5, 2, 1, 0, 0, 0, 5])"
   ]
  },
  {
   "cell_type": "code",
   "execution_count": null,
   "metadata": {},
   "outputs": [],
   "source": []
  }
 ],
 "metadata": {
  "kernelspec": {
   "display_name": "Python 3",
   "language": "python",
   "name": "python3"
  },
  "language_info": {
   "codemirror_mode": {
    "name": "ipython",
    "version": 3
   },
   "file_extension": ".py",
   "mimetype": "text/x-python",
   "name": "python",
   "nbconvert_exporter": "python",
   "pygments_lexer": "ipython3",
   "version": "3.6.9"
  }
 },
 "nbformat": 4,
 "nbformat_minor": 2
}

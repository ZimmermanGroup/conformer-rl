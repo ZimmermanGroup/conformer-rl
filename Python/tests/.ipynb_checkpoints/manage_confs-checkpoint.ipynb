{
 "cells": [
  {
   "cell_type": "markdown",
   "metadata": {},
   "source": [
    "### Initialization cells"
   ]
  },
  {
   "cell_type": "code",
   "execution_count": 1,
   "metadata": {},
   "outputs": [],
   "source": [
    "import sys, os\n",
    "# print(os.getcwd())\n",
    "# sys.path.append(\"./Python/tests\")\n",
    "# print(sys.path)\n",
    "from conformer_generator import *\n",
    "from utility_functions import *"
   ]
  },
  {
   "cell_type": "code",
   "execution_count": 2,
   "metadata": {},
   "outputs": [
    {
     "name": "stdout",
     "output_type": "stream",
     "text": [
      "/Users/exequielpunzalan/Desktop/iqmol_scratch ['input'] ['.DS_Store', '20190826_184830.mol', '20190826_184850.mol', '20190826_184906.mol', '20190826_184909.mol', '20190826_184922.mol', 'conformers.sdf']\n",
      "['/Users/exequielpunzalan/Desktop/iqmol_scratch/20190826_184830.mol', '/Users/exequielpunzalan/Desktop/iqmol_scratch/20190826_184850.mol', '/Users/exequielpunzalan/Desktop/iqmol_scratch/20190826_184906.mol', '/Users/exequielpunzalan/Desktop/iqmol_scratch/20190826_184909.mol', '/Users/exequielpunzalan/Desktop/iqmol_scratch/20190826_184922.mol']\n",
      "5\n"
     ]
    }
   ],
   "source": [
    "# files from IQMol\n",
    "scratch_path, scratch_dirs, scratch_files = os.walk(\"/Users/exequielpunzalan/Desktop/iqmol_scratch\").__next__()\n",
    "print(scratch_path, scratch_dirs, scratch_files)\n",
    "input_file = scratch_path+\"/input/input.mol\" # what the user starts working with\n",
    "mol_files = [scratch_path+\"/\"+f for f in scratch_files if f[-4:] == '.mol'] # only get mol files\n",
    "print(mol_files)\n",
    "num_files = len(mol_files)\n",
    "print(num_files)"
   ]
  },
  {
   "cell_type": "code",
   "execution_count": 3,
   "metadata": {},
   "outputs": [
    {
     "name": "stdout",
     "output_type": "stream",
     "text": [
      "this is the function modified\n",
      "/Users/exequielpunzalan/Desktop/iqmol_scratch/conformers.sdf\n",
      "Loading multi-conformer .sdf file...\t5 conformers as Mol type loaded\n",
      "[20, 20, 20, 20, 20]\n"
     ]
    }
   ],
   "source": [
    "# .mol files --> 1 .sdf file\n",
    "molfile_to_sdf(mol_files, outfile=scratch_path+\"/conformers.sdf\")\n",
    "print(scratch_path + \"/conformers.sdf\")\n",
    "# read in SDF to RDKit\n",
    "mols_out = load_from_sdf(scratch_path + \"/conformers.sdf\")\n",
    "print([mol.GetNumAtoms() for mol in mols_out])"
   ]
  },
  {
   "cell_type": "code",
   "execution_count": 4,
   "metadata": {},
   "outputs": [
    {
     "data": {
      "image/png": "[encoded data removed]",
      "text/plain": [
       "<rdkit.Chem.rdchem.Mol at 0x1a322dd3f0>"
      ]
     },
     "execution_count": 4,
     "metadata": {},
     "output_type": "execute_result"
    }
   ],
   "source": [
    "mols_out[0]"
   ]
  },
  {
   "cell_type": "code",
   "execution_count": 5,
   "metadata": {},
   "outputs": [
    {
     "data": {
      "image/png": "[encoded data removed]",
      "text/plain": [
       "<rdkit.Chem.rdchem.Mol at 0x1a322dd440>"
      ]
     },
     "execution_count": 5,
     "metadata": {},
     "output_type": "execute_result"
    }
   ],
   "source": [
    "mols_out[1]"
   ]
  },
  {
   "cell_type": "code",
   "execution_count": 6,
   "metadata": {},
   "outputs": [
    {
     "data": {
      "image/png": "[encoded data removed]",
      "text/plain": [
       "<rdkit.Chem.rdchem.Mol at 0x1a322dd490>"
      ]
     },
     "execution_count": 6,
     "metadata": {},
     "output_type": "execute_result"
    }
   ],
   "source": [
    "mols_out[2]"
   ]
  },
  {
   "cell_type": "code",
   "execution_count": 20,
   "metadata": {},
   "outputs": [],
   "source": [
    "confgen = ConformerGeneratorCustom(max_conformers=num_files,\n",
    "                                   rmsd_threshold=0,\n",
    "                                   tfd_threshold=0,\n",
    "                                   force_field='mmff',\n",
    "                                   pool_multiplier=1)"
   ]
  },
  {
   "cell_type": "code",
   "execution_count": 8,
   "metadata": {},
   "outputs": [
    {
     "name": "stdout",
     "output_type": "stream",
     "text": [
      "this is the function modified\n",
      "Loading multi-conformer .sdf file...\tMolecule loaded.\n"
     ]
    }
   ],
   "source": [
    "# assuming all files are the same molecule,\n",
    "# consolidate all Molecules into 1 RDKit Molecule such that they become RDKit Conformers\n",
    "\n",
    "input_file = [scratch_path+\"/input/input.mol\"]\n",
    "input_mol_sdf = molfile_to_sdf(input_file, outfile=scratch_path+\"/input/input.sdf\")\n",
    "input_mol = load_from_sdf(scratch_path + \"/input/input.sdf\")[0]\n",
    "input_mol.RemoveAllConformers() # remove input Conformer object\n",
    "mol = confgen.add_conformers_as_Molecules_to_Molecule(input_mol, confs=mols_out)\n"
   ]
  },
  {
   "cell_type": "code",
   "execution_count": 9,
   "metadata": {},
   "outputs": [
    {
     "name": "stdout",
     "output_type": "stream",
     "text": [
      "5\n",
      "[0, 1, 2, 3, 4]\n"
     ]
    }
   ],
   "source": [
    "print(mol.GetNumConformers())\n",
    "print([c.GetId() for c in mol.GetConformers()])"
   ]
  },
  {
   "cell_type": "markdown",
   "metadata": {},
   "source": [
    "### No pruning"
   ]
  },
  {
   "cell_type": "code",
   "execution_count": 21,
   "metadata": {},
   "outputs": [
    {
     "name": "stderr",
     "output_type": "stream",
     "text": [
      "Calculating RMSDs of conformer 4: 100%|██████████| 5/5 [00:00<00:00, 479.29it/s]\n",
      "Calculating RMSDs of conformer 4: 100%|██████████| 5/5 [00:00<00:00, 650.18it/s]"
     ]
    },
    {
     "name": "stdout",
     "output_type": "stream",
     "text": [
      "Pruning conformers...\n",
      "[3, 1, 2, 4, 0]\n",
      "Computing RMSD matrix of pruned conformers...\n",
      "Done.\n",
      "[3, 1, 2, 4, 0]\n"
     ]
    },
    {
     "name": "stderr",
     "output_type": "stream",
     "text": [
      "\n"
     ]
    }
   ],
   "source": [
    "rmsd = ConformerGeneratorCustom.get_conformer_rmsd_fast(mol)\n",
    "pruned_mol_rmsd, pruned_rmsd = confgen.prune_conformers(mol, rmsd, measure=\"rmsd\")\n",
    "print([c.GetId() for c in pruned_mol_rmsd.GetConformers()])"
   ]
  },
  {
   "cell_type": "code",
   "execution_count": 22,
   "metadata": {},
   "outputs": [
    {
     "name": "stdout",
     "output_type": "stream",
     "text": [
      "Pruning conformers...\n",
      "[3, 1, 2, 4, 0]\n",
      "Computing TFD array of pruned conformers...\n",
      "Done\n",
      "[3, 1, 2, 4, 0]\n"
     ]
    }
   ],
   "source": [
    "tfd = ConformerGeneratorCustom.get_tfd_matrix(mol)\n",
    "pruned_mol_tfd, pruned_tfd = confgen.prune_conformers(mol, tfd, measure=\"tfd\")\n",
    "print([c.GetId() for c in pruned_mol_rmsd.GetConformers()])"
   ]
  },
  {
   "cell_type": "code",
   "execution_count": 12,
   "metadata": {},
   "outputs": [
    {
     "data": {
      "text/plain": [
       "array([[0.        , 0.8170804 , 1.51060444, 1.70445773, 0.460248  ],\n",
       "       [0.8170804 , 0.        , 0.82123921, 1.09388867, 0.37320963],\n",
       "       [1.51060444, 0.82123921, 0.        , 0.31650433, 1.14386695],\n",
       "       [1.70445773, 1.09388867, 0.31650433, 0.        , 1.40044171],\n",
       "       [0.460248  , 0.37320963, 1.14386695, 1.40044171, 0.        ]])"
      ]
     },
     "execution_count": 12,
     "metadata": {},
     "output_type": "execute_result"
    }
   ],
   "source": [
    "rmsd"
   ]
  },
  {
   "cell_type": "code",
   "execution_count": 13,
   "metadata": {},
   "outputs": [
    {
     "data": {
      "text/plain": [
       "array([[0.        , 0.25062698, 0.50781631, 0.57396879, 0.13940496],\n",
       "       [0.25062698, 0.        , 0.28056774, 0.36288756, 0.11123197],\n",
       "       [0.50781631, 0.28056774, 0.        , 0.10208742, 0.36841337],\n",
       "       [0.57396879, 0.36288756, 0.10208742, 0.        , 0.4507332 ],\n",
       "       [0.13940496, 0.11123197, 0.36841337, 0.4507332 , 0.        ]])"
      ]
     },
     "execution_count": 13,
     "metadata": {},
     "output_type": "execute_result"
    }
   ],
   "source": [
    "tfd"
   ]
  },
  {
   "cell_type": "markdown",
   "metadata": {},
   "source": [
    "### 1A RMSD, 0.1 TFD cutoffs"
   ]
  },
  {
   "cell_type": "code",
   "execution_count": 14,
   "metadata": {},
   "outputs": [],
   "source": [
    "confgen = ConformerGeneratorCustom(max_conformers=num_files,\n",
    "                                   rmsd_threshold=1,\n",
    "                                   tfd_threshold=0.2,\n",
    "                                   force_field='mmff',\n",
    "                                   pool_multiplier=1)"
   ]
  },
  {
   "cell_type": "code",
   "execution_count": 24,
   "metadata": {},
   "outputs": [
    {
     "name": "stderr",
     "output_type": "stream",
     "text": [
      "Calculating RMSDs of conformer 4: 100%|██████████| 5/5 [00:00<00:00, 440.53it/s]\n",
      "Calculating RMSDs of conformer 4: 100%|██████████| 5/5 [00:00<00:00, 524.55it/s]"
     ]
    },
    {
     "name": "stdout",
     "output_type": "stream",
     "text": [
      "Pruning conformers...\n",
      "[3, 1, 2, 4, 0]\n",
      "Computing RMSD matrix of pruned conformers...\n",
      "Done.\n",
      "[3, 1, 2, 4, 0]\n",
      "Pruning conformers...\n",
      "[3, 1, 2, 4, 0]\n",
      "Computing TFD array of pruned conformers...\n",
      "Done\n",
      "[3, 1, 2, 4, 0]\n"
     ]
    },
    {
     "name": "stderr",
     "output_type": "stream",
     "text": [
      "\n"
     ]
    }
   ],
   "source": [
    "rmsd = ConformerGeneratorCustom.get_conformer_rmsd_fast(mol)\n",
    "pruned_mol_rmsd, pruned_rmsd = confgen.prune_conformers(mol, rmsd, measure=\"rmsd\")\n",
    "print([c.GetId() for c in pruned_mol_rmsd.GetConformers()])\n",
    "\n",
    "tfd = ConformerGeneratorCustom.get_tfd_matrix(mol)\n",
    "pruned_mol_tfd, pruned_tfd = confgen.prune_conformers(mol, tfd, measure=\"tfd\")\n",
    "print([c.GetId() for c in pruned_mol_rmsd.GetConformers()])"
   ]
  },
  {
   "cell_type": "code",
   "execution_count": 16,
   "metadata": {},
   "outputs": [
    {
     "name": "stdout",
     "output_type": "stream",
     "text": [
      "[3, 1]\n"
     ]
    },
    {
     "data": {
      "text/plain": [
       "array([[0.        , 1.09388867],\n",
       "       [1.09388867, 0.        ]])"
      ]
     },
     "execution_count": 16,
     "metadata": {},
     "output_type": "execute_result"
    }
   ],
   "source": [
    "print([c.GetId() for c in pruned_mol_rmsd.GetConformers()])\n",
    "pruned_rmsd"
   ]
  },
  {
   "cell_type": "code",
   "execution_count": 17,
   "metadata": {},
   "outputs": [
    {
     "name": "stdout",
     "output_type": "stream",
     "text": [
      "[3, 1, 0]\n"
     ]
    },
    {
     "data": {
      "text/plain": [
       "array([[0.        , 0.36288756, 0.57396879],\n",
       "       [0.36288756, 0.        , 0.25062698],\n",
       "       [0.57396879, 0.25062698, 0.        ]])"
      ]
     },
     "execution_count": 17,
     "metadata": {},
     "output_type": "execute_result"
    }
   ],
   "source": [
    "print([c.GetId() for c in pruned_mol_tfd.GetConformers()])\n",
    "pruned_tfd"
   ]
  },
  {
   "cell_type": "code",
   "execution_count": null,
   "metadata": {},
   "outputs": [],
   "source": []
  }
 ],
 "metadata": {
  "@webio": {
   "lastCommId": null,
   "lastKernelId": null
  },
  "kernelspec": {
   "display_name": "Python [conda env:deepchem-env-py35]",
   "language": "python",
   "name": "conda-env-deepchem-env-py35-py"
  },
  "language_info": {
   "codemirror_mode": {
    "name": "ipython",
    "version": 3
   },
   "file_extension": ".py",
   "mimetype": "text/x-python",
   "name": "python",
   "nbconvert_exporter": "python",
   "pygments_lexer": "ipython3",
   "version": "3.5.3"
  }
 },
 "nbformat": 4,
 "nbformat_minor": 2
}

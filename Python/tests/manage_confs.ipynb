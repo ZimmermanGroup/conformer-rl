{
 "cells": [
  {
   "cell_type": "markdown",
   "metadata": {},
   "source": [
    "### Initialization cells"
   ]
  },
  {
   "cell_type": "code",
   "execution_count": null,
   "metadata": {},
   "outputs": [],
   "source": []
  },
  {
   "cell_type": "code",
   "execution_count": 8,
   "metadata": {},
   "outputs": [],
   "source": [
    "import sys, os\n",
    "# print(os.getcwd())\n",
    "# sys.path.append(\"./Python/tests\")\n",
    "# print(sys.path)\n",
    "from conformer_generator import *\n",
    "from utility_functions import *"
   ]
  },
  {
   "cell_type": "code",
   "execution_count": 22,
   "metadata": {},
   "outputs": [
    {
     "name": "stdout",
     "output_type": "stream",
     "text": [
      "/Users/exequielpunzalan/Desktop/iqmol_scratch ['input'] ['.DS_Store', '20190918_204039.mol', '20190918_204044.mol', '20190918_204058.mol']\n",
      "['/Users/exequielpunzalan/Desktop/iqmol_scratch/20190918_204039.mol', '/Users/exequielpunzalan/Desktop/iqmol_scratch/20190918_204044.mol', '/Users/exequielpunzalan/Desktop/iqmol_scratch/20190918_204058.mol']\n",
      "3\n"
     ]
    }
   ],
   "source": [
    "# files from IQMol\n",
    "scratch_path, scratch_dirs, scratch_files = os.walk(\"/Users/exequielpunzalan/Desktop/iqmol_scratch\").__next__()\n",
    "print(scratch_path, scratch_dirs, scratch_files)\n",
    "input_file = scratch_path+\"/input/input.mol\" # what the user starts working with\n",
    "mol_files = [scratch_path+\"/\"+f for f in scratch_files if f[-4:] == '.mol'] # only get mol files\n",
    "print(mol_files)\n",
    "num_files = len(mol_files)\n",
    "print(num_files)"
   ]
  },
  {
   "cell_type": "code",
   "execution_count": 23,
   "metadata": {},
   "outputs": [
    {
     "name": "stdout",
     "output_type": "stream",
     "text": [
      "/Users/exequielpunzalan/Desktop/iqmol_scratch/conformers.sdf\n",
      "Loading SDF file...\t3 conformers as Molecule type loaded\n",
      "[20, 20, 20]\n"
     ]
    }
   ],
   "source": [
    "# .mol files --> 1 .sdf file\n",
    "molfile_to_sdf(mol_files, outfile=scratch_path+\"/conformers.sdf\")\n",
    "print(scratch_path + \"/conformers.sdf\")\n",
    "# read in SDF to RDKit\n",
    "mols_out = load_from_sdf(scratch_path + \"/conformers.sdf\")\n",
    "print([mol.GetNumAtoms() for mol in mols_out])"
   ]
  },
  {
   "cell_type": "code",
   "execution_count": 24,
   "metadata": {},
   "outputs": [
    {
     "data": {
      "image/png": "[encoded data removed]",
      "text/plain": [
       "<rdkit.Chem.rdchem.Mol at 0x1a3488c850>"
      ]
     },
     "execution_count": 24,
     "metadata": {},
     "output_type": "execute_result"
    }
   ],
   "source": [
    "mols_out[0]"
   ]
  },
  {
   "cell_type": "code",
   "execution_count": 25,
   "metadata": {
    "scrolled": true
   },
   "outputs": [
    {
     "data": {
      "image/png": "[encoded data removed]",
      "text/plain": [
       "<rdkit.Chem.rdchem.Mol at 0x1a3488c8a0>"
      ]
     },
     "execution_count": 25,
     "metadata": {},
     "output_type": "execute_result"
    }
   ],
   "source": [
    "mols_out[1]"
   ]
  },
  {
   "cell_type": "code",
   "execution_count": 26,
   "metadata": {},
   "outputs": [],
   "source": [
    "confgen = ConformerGeneratorCustom(max_conformers=num_files,\n",
    "                                   rmsd_threshold=0,\n",
    "                                   tfd_threshold=0,\n",
    "                                   force_field='mmff',\n",
    "                                   pool_multiplier=1)"
   ]
  },
  {
   "cell_type": "code",
   "execution_count": 27,
   "metadata": {},
   "outputs": [
    {
     "name": "stdout",
     "output_type": "stream",
     "text": [
      "Loading SDF file...\tMolecule loaded.\n"
     ]
    }
   ],
   "source": [
    "# assuming all files are the same molecule,\n",
    "# consolidate all Molecules into 1 RDKit Molecule such that they become RDKit Conformers\n",
    "\n",
    "input_file = [scratch_path+\"/input/input.mol\"]\n",
    "input_mol_sdf = molfile_to_sdf(input_file, outfile=scratch_path+\"/input/input.sdf\")\n",
    "input_mol = load_from_sdf(scratch_path + \"/input/input.sdf\")[0]\n",
    "input_mol.RemoveAllConformers() # remove input Conformer object\n",
    "mol = confgen.add_conformers_as_Molecules_to_Molecule(input_mol, confs=mols_out)\n"
   ]
  },
  {
   "cell_type": "code",
   "execution_count": 28,
   "metadata": {},
   "outputs": [
    {
     "name": "stdout",
     "output_type": "stream",
     "text": [
      "3\n",
      "[0, 1, 2]\n"
     ]
    }
   ],
   "source": [
    "print(mol.GetNumConformers())\n",
    "print([c.GetId() for c in mol.GetConformers()])"
   ]
  },
  {
   "cell_type": "markdown",
   "metadata": {},
   "source": [
    "### No pruning"
   ]
  },
  {
   "cell_type": "code",
   "execution_count": 38,
   "metadata": {},
   "outputs": [
    {
     "name": "stderr",
     "output_type": "stream",
     "text": [
      "Calculating RMSDs of conformer 2: 100%|██████████| 3/3 [00:00<00:00, 690.95it/s]\n",
      "Calculating RMSDs of conformer 2: 100%|██████████| 3/3 [00:00<00:00, 266.15it/s]"
     ]
    },
    {
     "name": "stdout",
     "output_type": "stream",
     "text": [
      "Pruning conformers...\n",
      "Computing RMSD matrix of pruned conformers...\n",
      "Done.\n",
      "[1, 0, 2]\n"
     ]
    },
    {
     "name": "stderr",
     "output_type": "stream",
     "text": [
      "\n"
     ]
    }
   ],
   "source": [
    "rmsd = ConformerGeneratorCustom.get_conformer_rmsd_fast(mol)\n",
    "pruned_mol_rmsd, pruned_rmsd = confgen.prune_conformers(mol, rmsd, measure=\"rmsd\")\n",
    "print([c.GetId() for c in pruned_mol_rmsd.GetConformers()])"
   ]
  },
  {
   "cell_type": "code",
   "execution_count": 39,
   "metadata": {},
   "outputs": [
    {
     "name": "stdout",
     "output_type": "stream",
     "text": [
      "Pruning conformers...\n",
      "Computing TFD array of pruned conformers...\n",
      "Done\n",
      "[1, 0, 2]\n"
     ]
    }
   ],
   "source": [
    "tfd = ConformerGeneratorCustom.get_tfd_matrix(mol)\n",
    "unpruned_mol_tfd, unpruned_tfd = confgen.prune_conformers(mol, tfd, measure=\"tfd\")\n",
    "print([c.GetId() for c in pruned_mol_rmsd.GetConformers()])"
   ]
  },
  {
   "cell_type": "code",
   "execution_count": 40,
   "metadata": {},
   "outputs": [
    {
     "data": {
      "text/plain": [
       "array([[0.        , 1.46970457, 1.70977361],\n",
       "       [1.46970457, 0.        , 1.49488392],\n",
       "       [1.70977361, 1.49488392, 0.        ]])"
      ]
     },
     "execution_count": 40,
     "metadata": {},
     "output_type": "execute_result"
    }
   ],
   "source": [
    "rmsd"
   ]
  },
  {
   "cell_type": "code",
   "execution_count": 41,
   "metadata": {},
   "outputs": [
    {
     "data": {
      "text/plain": [
       "array([[0.        , 0.43346675, 0.61053339],\n",
       "       [0.43346675, 0.        , 0.21577952],\n",
       "       [0.61053339, 0.21577952, 0.        ]])"
      ]
     },
     "execution_count": 41,
     "metadata": {},
     "output_type": "execute_result"
    }
   ],
   "source": [
    "tfd"
   ]
  },
  {
   "cell_type": "markdown",
   "metadata": {},
   "source": [
    "### 1A RMSD, 0.2 TFD cutoffs"
   ]
  },
  {
   "cell_type": "code",
   "execution_count": 42,
   "metadata": {},
   "outputs": [],
   "source": [
    "confgen = ConformerGeneratorCustom(max_conformers=num_files,\n",
    "                                   rmsd_threshold=1,\n",
    "                                   tfd_threshold=0.2,\n",
    "                                   force_field='mmff',\n",
    "                                   pool_multiplier=1)"
   ]
  },
  {
   "cell_type": "code",
   "execution_count": 43,
   "metadata": {},
   "outputs": [
    {
     "name": "stderr",
     "output_type": "stream",
     "text": [
      "Calculating RMSDs of conformer 2: 100%|██████████| 3/3 [00:00<00:00, 446.30it/s]\n",
      "Calculating RMSDs of conformer 2: 100%|██████████| 3/3 [00:00<00:00, 747.16it/s]"
     ]
    },
    {
     "name": "stdout",
     "output_type": "stream",
     "text": [
      "Pruning conformers...\n",
      "Computing RMSD matrix of pruned conformers...\n",
      "Done.\n",
      "Pruning conformers...\n",
      "Computing TFD array of pruned conformers...\n",
      "Done\n"
     ]
    },
    {
     "name": "stderr",
     "output_type": "stream",
     "text": [
      "\n"
     ]
    }
   ],
   "source": [
    "rmsd = ConformerGeneratorCustom.get_conformer_rmsd_fast(mol)\n",
    "pruned_mol_rmsd, pruned_rmsd = confgen.prune_conformers(mol, rmsd, measure=\"rmsd\")\n",
    "\n",
    "tfd = ConformerGeneratorCustom.get_tfd_matrix(mol)\n",
    "pruned_mol_tfd, pruned_tfd = confgen.prune_conformers(mol, tfd, measure=\"tfd\")"
   ]
  },
  {
   "cell_type": "code",
   "execution_count": 44,
   "metadata": {},
   "outputs": [
    {
     "name": "stdout",
     "output_type": "stream",
     "text": [
      "[1, 0, 2]\n"
     ]
    },
    {
     "data": {
      "text/plain": [
       "array([[0.        , 1.46970457, 1.49488392],\n",
       "       [1.46970457, 0.        , 1.70977361],\n",
       "       [1.49488392, 1.70977361, 0.        ]])"
      ]
     },
     "execution_count": 44,
     "metadata": {},
     "output_type": "execute_result"
    }
   ],
   "source": [
    "print([c.GetId() for c in pruned_mol_rmsd.GetConformers()])\n",
    "pruned_rmsd"
   ]
  },
  {
   "cell_type": "code",
   "execution_count": 45,
   "metadata": {},
   "outputs": [
    {
     "name": "stdout",
     "output_type": "stream",
     "text": [
      "[1, 0, 2]\n"
     ]
    },
    {
     "data": {
      "text/plain": [
       "array([[0.        , 0.43346675, 0.21577952],\n",
       "       [0.43346675, 0.        , 0.61053339],\n",
       "       [0.21577952, 0.61053339, 0.        ]])"
      ]
     },
     "execution_count": 45,
     "metadata": {},
     "output_type": "execute_result"
    }
   ],
   "source": [
    "print([c.GetId() for c in pruned_mol_tfd.GetConformers()])\n",
    "pruned_tfd"
   ]
  },
  {
   "cell_type": "markdown",
   "metadata": {},
   "source": [
    "### Partition function"
   ]
  },
  {
   "cell_type": "code",
   "execution_count": 46,
   "metadata": {},
   "outputs": [
    {
     "name": "stdout",
     "output_type": "stream",
     "text": [
      "[-2.1983365  -1.67664528 54.72298005]\n",
      "[-2.1983365  -1.67664528 54.72298005]\n"
     ]
    }
   ],
   "source": [
    "energies_rmsd = confgen.get_conformer_energies(pruned_mol_rmsd)\n",
    "energies_tfd = confgen.get_conformer_energies(pruned_mol_tfd)\n",
    "print(energies_rmsd)\n",
    "print(energies_tfd)"
   ]
  },
  {
   "cell_type": "code",
   "execution_count": 47,
   "metadata": {},
   "outputs": [
    {
     "name": "stdout",
     "output_type": "stream",
     "text": [
      "57.638678842672675\n",
      "57.63867884267292\n"
     ]
    }
   ],
   "source": [
    "pf_rmsd = np.sum(np.exp(-energies_rmsd/0.593))\n",
    "pf_tfd = np.sum(np.exp(-energies_tfd/0.593)) # RT = 0.593 kcal/mol\n",
    "print(pf_rmsd)\n",
    "print(pf_tfd)"
   ]
  },
  {
   "cell_type": "code",
   "execution_count": 48,
   "metadata": {},
   "outputs": [
    {
     "name": "stdout",
     "output_type": "stream",
     "text": [
      "[0.7067702266686569, 0.2932297733313432, 1.4517864191236267e-42]\n",
      "[0.7067702266686539, 0.2932297733313461, 1.4517864191236206e-42]\n"
     ]
    }
   ],
   "source": [
    "prob_confs_rmsd = [np.exp(-e/0.593)/pf_rmsd for e in energies_rmsd]\n",
    "prob_confs_tfd = [np.exp(-e/0.593)/pf_tfd for e in energies_tfd]\n",
    "print(prob_confs_rmsd)\n",
    "print(prob_confs_tfd)"
   ]
  },
  {
   "cell_type": "code",
   "execution_count": 49,
   "metadata": {},
   "outputs": [
    {
     "name": "stdout",
     "output_type": "stream",
     "text": [
      "-1.6662736723609865e-23\n",
      "-1.6662736723609882e-23\n"
     ]
    }
   ],
   "source": [
    "# free energy\n",
    "kT = 4.11e-21/1000 # kJ\n",
    "F_rmsd = -kT * np.log(pf_rmsd)\n",
    "F_tfd = -kT * np.log(pf_tfd)\n",
    "print(F_rmsd) # kJ\n",
    "print(F_tfd)"
   ]
  },
  {
   "cell_type": "markdown",
   "metadata": {},
   "source": [
    "### Saving"
   ]
  },
  {
   "cell_type": "code",
   "execution_count": 50,
   "metadata": {},
   "outputs": [],
   "source": [
    "import pickle\n",
    "\n",
    "mols_save_dir = scratch_path + \"/rdkit_mols/\"\n",
    "os.makedirs(mols_save_dir, exist_ok=True)"
   ]
  },
  {
   "cell_type": "code",
   "execution_count": 51,
   "metadata": {},
   "outputs": [],
   "source": [
    "# unpruned Molecule\n",
    "with open(mols_save_dir + \"unpruned_mol_rmsd.pkl\", 'wb') as pickle_file:\n",
    "    pickle.dump(unpruned_mol_rmsd, pickle_file)\n",
    "with open(mols_save_dir + \"unpruned_mol_tfd.pkl\", 'wb') as pickle_file:\n",
    "    pickle.dump(unpruned_mol_tfd, pickle_file)\n",
    "\n",
    "# pruned Molecule\n",
    "with open(mols_save_dir + \"pruned_mol_{}rmsd.pkl\".format(confgen.rmsd_threshold), 'wb') as pickle_file:\n",
    "    pickle.dump(pruned_mol_rmsd, pickle_file)\n",
    "with open(mols_save_dir + \"pruned_mol_{}tfd.pkl\".format(confgen.tfd_threshold), 'wb') as pickle_file:\n",
    "    pickle.dump(pruned_mol_tfd, pickle_file)"
   ]
  },
  {
   "cell_type": "code",
   "execution_count": null,
   "metadata": {},
   "outputs": [],
   "source": []
  }
 ],
 "metadata": {
  "@webio": {
   "lastCommId": null,
   "lastKernelId": null
  },
  "kernelspec": {
   "display_name": "Python [conda env:deepchem-env-py35]",
   "language": "python",
   "name": "conda-env-deepchem-env-py35-py"
  },
  "language_info": {
   "codemirror_mode": {
    "name": "ipython",
    "version": 3
   },
   "file_extension": ".py",
   "mimetype": "text/x-python",
   "name": "python",
   "nbconvert_exporter": "python",
   "pygments_lexer": "ipython3",
   "version": "3.5.3"
  }
 },
 "nbformat": 4,
 "nbformat_minor": 2
}
